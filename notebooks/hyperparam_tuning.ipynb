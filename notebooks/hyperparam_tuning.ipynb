{
 "cells": [
  {
   "cell_type": "code",
   "execution_count": 1,
   "metadata": {},
   "outputs": [],
   "source": [
    "import pandas as pd\n",
    "from tensorflow import keras\n",
    "from tensorflow.keras import layers\n",
    "from kerastuner.tuners import RandomSearch, BayesianOptimization"
   ]
  },
  {
   "cell_type": "code",
   "execution_count": 2,
   "metadata": {},
   "outputs": [
    {
     "name": "stdout",
     "output_type": "stream",
     "text": [
      "(125, 6353)\n"
     ]
    }
   ],
   "source": [
    "df_train = pd.read_csv('/home/ubuntu/data/data_sets/train_set.csv')\n",
    "print (df_train.shape)"
   ]
  },
  {
   "cell_type": "code",
   "execution_count": 3,
   "metadata": {},
   "outputs": [],
   "source": [
    "y_train = df_train.iloc[:,1]\n",
    "X_train = df_train.iloc[:,2:]"
   ]
  },
  {
   "cell_type": "code",
   "execution_count": 4,
   "metadata": {},
   "outputs": [
    {
     "name": "stdout",
     "output_type": "stream",
     "text": [
      "(23, 6353)\n"
     ]
    }
   ],
   "source": [
    "df_dev = pd.read_csv('/home/ubuntu/data/data_sets/dev_set.csv')\n",
    "print (df_dev.shape)"
   ]
  },
  {
   "cell_type": "code",
   "execution_count": 5,
   "metadata": {},
   "outputs": [],
   "source": [
    "y_dev = df_dev.iloc[:,1]\n",
    "X_dev = df_dev.iloc[:,2:]"
   ]
  },
  {
   "cell_type": "code",
   "execution_count": 6,
   "metadata": {},
   "outputs": [
    {
     "name": "stdout",
     "output_type": "stream",
     "text": [
      "(125, 6351)\n",
      "(23, 6351)\n",
      "-5.199337582605575\n",
      "5.19933758270342\n"
     ]
    }
   ],
   "source": [
    "print (X_train.shape)\n",
    "print (X_dev.shape)\n",
    "print (y_train.min())\n",
    "print (y_train.max())"
   ]
  },
  {
   "cell_type": "code",
   "execution_count": 11,
   "metadata": {},
   "outputs": [],
   "source": [
    "def build_model(hp):\n",
    "    model = keras.Sequential()\n",
    "    model.add(layers.Dropout(hp.Float('dropout', 0, 0.5, step = 0.1)))\n",
    "    for i in range(hp.Int('num_layers', 1, 4)): #16)):\n",
    "        model.add(layers.Dense(units = hp.Int('units_'+str(i), 20, 100, step = 10),\n",
    "        #model.add(layers.Dense(units = hp.Int('units_'+str(i), 25, 1000, step = 25),\n",
    "                               activation = hp.Choice('act_'+str(i), ['relu', 'tanh'])))\n",
    "                               \n",
    "    model.add(layers.Dense(1, activation = 'linear'))\n",
    "\n",
    "    model.compile(\n",
    "        optimizer = keras.optimizers.RMSprop(\n",
    "            learning_rate = hp.Choice('learning_rate', [1e-2, 1e-3, 1e-4]),\n",
    "            rho = hp.Float('rho', 0.5, 0.99, step = 0.05),\n",
    "            momentum = hp.Float('momentum', 0, 0.5, step = 0.05)),\n",
    "        loss = 'mean_squared_error',\n",
    "        metrics = ['mean_squared_error'])\n",
    "    return model"
   ]
  },
  {
   "cell_type": "code",
   "execution_count": 12,
   "metadata": {},
   "outputs": [],
   "source": [
    "#tuner = RandomSearch(\n",
    "tuner = BayesianOptimization(\n",
    "    build_model,\n",
    "    objective = 'val_mean_squared_error',\n",
    "    max_trials = 50,\n",
    "    executions_per_trial = 3,\n",
    "    directory = 'Metabolomics',\n",
    "    project_name = 'tuning_4layermax_bayes')"
   ]
  },
  {
   "cell_type": "code",
   "execution_count": 22,
   "metadata": {},
   "outputs": [],
   "source": [
    "#tuner.search_space_summary()"
   ]
  },
  {
   "cell_type": "code",
   "execution_count": 13,
   "metadata": {},
   "outputs": [
    {
     "name": "stdout",
     "output_type": "stream",
     "text": [
      "Train on 125 samples, validate on 23 samples\n",
      "Epoch 1/5\n",
      "125/125 [==============================] - ETA: 1s - loss: 10.7537 - mean_squared_error: 10.75 - 1s 5ms/sample - loss: 420.0070 - mean_squared_error: 420.0070 - val_loss: 652.4545 - val_mean_squared_error: 652.4545\n",
      "Epoch 2/5\n",
      "125/125 [==============================] - ETA: 0s - loss: 623.6588 - mean_squared_error: 623.65 - 0s 366us/sample - loss: 202.2008 - mean_squared_error: 202.2008 - val_loss: 29.8941 - val_mean_squared_error: 29.8941\n",
      "Epoch 3/5\n",
      "125/125 [==============================] - ETA: 0s - loss: 53.2996 - mean_squared_error: 53.29 - 0s 386us/sample - loss: 35.2715 - mean_squared_error: 35.2715 - val_loss: 27.8513 - val_mean_squared_error: 27.8513\n",
      "Epoch 4/5\n",
      "125/125 [==============================] - ETA: 0s - loss: 23.8516 - mean_squared_error: 23.85 - 0s 358us/sample - loss: 15.3542 - mean_squared_error: 15.3542 - val_loss: 26.7401 - val_mean_squared_error: 26.7401\n",
      "Epoch 5/5\n",
      "125/125 [==============================] - ETA: 0s - loss: 5.4190 - mean_squared_error: 5.41 - 0s 225us/sample - loss: 11.4963 - mean_squared_error: 11.4963 - val_loss: 30.2672 - val_mean_squared_error: 30.2672\n",
      "Train on 125 samples, validate on 23 samples\n",
      "Epoch 1/5\n",
      "125/125 [==============================] - ETA: 1s - loss: 8.8000 - mean_squared_error: 8.80 - 1s 5ms/sample - loss: 923.9803 - mean_squared_error: 923.9802 - val_loss: 164.0619 - val_mean_squared_error: 164.0619\n",
      "Epoch 2/5\n",
      "125/125 [==============================] - ETA: 0s - loss: 117.5251 - mean_squared_error: 117.52 - 0s 368us/sample - loss: 54.6208 - mean_squared_error: 54.6208 - val_loss: 22.7958 - val_mean_squared_error: 22.7958\n",
      "Epoch 3/5\n",
      "125/125 [==============================] - ETA: 0s - loss: 15.0910 - mean_squared_error: 15.09 - 0s 370us/sample - loss: 12.9759 - mean_squared_error: 12.9759 - val_loss: 17.9992 - val_mean_squared_error: 17.9992\n",
      "Epoch 4/5\n",
      "125/125 [==============================] - ETA: 0s - loss: 8.4064 - mean_squared_error: 8.40 - 0s 231us/sample - loss: 8.9598 - mean_squared_error: 8.9598 - val_loss: 21.3861 - val_mean_squared_error: 21.3861\n",
      "Epoch 5/5\n",
      "125/125 [==============================] - ETA: 0s - loss: 6.1045 - mean_squared_error: 6.10 - 0s 354us/sample - loss: 5.4031 - mean_squared_error: 5.4031 - val_loss: 15.5648 - val_mean_squared_error: 15.5648\n",
      "Train on 125 samples, validate on 23 samples\n",
      "Epoch 1/5\n",
      "125/125 [==============================] - ETA: 1s - loss: 12.9259 - mean_squared_error: 12.92 - 1s 5ms/sample - loss: 223.9491 - mean_squared_error: 223.9491 - val_loss: 384.9791 - val_mean_squared_error: 384.9791\n",
      "Epoch 2/5\n",
      "125/125 [==============================] - ETA: 0s - loss: 218.4248 - mean_squared_error: 218.42 - 0s 227us/sample - loss: 85.6613 - mean_squared_error: 85.6613 - val_loss: 21.6608 - val_mean_squared_error: 21.6608\n",
      "Epoch 3/5\n",
      "125/125 [==============================] - ETA: 0s - loss: 26.5605 - mean_squared_error: 26.56 - 0s 220us/sample - loss: 19.6420 - mean_squared_error: 19.6420 - val_loss: 22.9477 - val_mean_squared_error: 22.9477\n",
      "Epoch 4/5\n",
      "125/125 [==============================] - ETA: 0s - loss: 8.5530 - mean_squared_error: 8.55 - 0s 226us/sample - loss: 6.9992 - mean_squared_error: 6.9992 - val_loss: 22.0366 - val_mean_squared_error: 22.0366\n",
      "Epoch 5/5\n",
      "125/125 [==============================] - ETA: 0s - loss: 4.6618 - mean_squared_error: 4.66 - 0s 207us/sample - loss: 4.6390 - mean_squared_error: 4.6390 - val_loss: 22.2264 - val_mean_squared_error: 22.2264\n"
     ]
    },
    {
     "data": {
      "text/html": [
       "<span style=\"color:#4527A0\"><h1 style=\"font-size:18px\">Trial complete</h1></span>"
      ],
      "text/plain": [
       "<IPython.core.display.HTML object>"
      ]
     },
     "metadata": {},
     "output_type": "display_data"
    },
    {
     "data": {
      "text/html": [
       "<span style=\"color:#4527A0\"><h1 style=\"font-size:18px\">Trial summary</h1></span>"
      ],
      "text/plain": [
       "<IPython.core.display.HTML object>"
      ]
     },
     "metadata": {},
     "output_type": "display_data"
    },
    {
     "data": {
      "text/html": [
       "<span style=\"color:cyan\"> |-Trial ID: 5ce01f6d47a022515269b866e09f11e2</span>"
      ],
      "text/plain": [
       "<IPython.core.display.HTML object>"
      ]
     },
     "metadata": {},
     "output_type": "display_data"
    },
    {
     "data": {
      "text/html": [
       "<span style=\"color:cyan\"> |-Score: 21.32192039489746</span>"
      ],
      "text/plain": [
       "<IPython.core.display.HTML object>"
      ]
     },
     "metadata": {},
     "output_type": "display_data"
    },
    {
     "data": {
      "text/html": [
       "<span style=\"color:cyan\"> |-Best step: 0</span>"
      ],
      "text/plain": [
       "<IPython.core.display.HTML object>"
      ]
     },
     "metadata": {},
     "output_type": "display_data"
    },
    {
     "data": {
      "text/html": [
       "<span style=\"color:#7E57C2\"><h2 style=\"font-size:16px\">Hyperparameters:</h2></span>"
      ],
      "text/plain": [
       "<IPython.core.display.HTML object>"
      ]
     },
     "metadata": {},
     "output_type": "display_data"
    },
    {
     "data": {
      "text/html": [
       "<span style=\"color:cyan\"> |-act_0: relu</span>"
      ],
      "text/plain": [
       "<IPython.core.display.HTML object>"
      ]
     },
     "metadata": {},
     "output_type": "display_data"
    },
    {
     "data": {
      "text/html": [
       "<span style=\"color:blue\"> |-act_1: relu</span>"
      ],
      "text/plain": [
       "<IPython.core.display.HTML object>"
      ]
     },
     "metadata": {},
     "output_type": "display_data"
    },
    {
     "data": {
      "text/html": [
       "<span style=\"color:cyan\"> |-act_2: relu</span>"
      ],
      "text/plain": [
       "<IPython.core.display.HTML object>"
      ]
     },
     "metadata": {},
     "output_type": "display_data"
    },
    {
     "data": {
      "text/html": [
       "<span style=\"color:blue\"> |-dropout: 0.0</span>"
      ],
      "text/plain": [
       "<IPython.core.display.HTML object>"
      ]
     },
     "metadata": {},
     "output_type": "display_data"
    },
    {
     "data": {
      "text/html": [
       "<span style=\"color:cyan\"> |-learning_rate: 0.01</span>"
      ],
      "text/plain": [
       "<IPython.core.display.HTML object>"
      ]
     },
     "metadata": {},
     "output_type": "display_data"
    },
    {
     "data": {
      "text/html": [
       "<span style=\"color:blue\"> |-momentum: 0.0</span>"
      ],
      "text/plain": [
       "<IPython.core.display.HTML object>"
      ]
     },
     "metadata": {},
     "output_type": "display_data"
    },
    {
     "data": {
      "text/html": [
       "<span style=\"color:cyan\"> |-num_layers: 3</span>"
      ],
      "text/plain": [
       "<IPython.core.display.HTML object>"
      ]
     },
     "metadata": {},
     "output_type": "display_data"
    },
    {
     "data": {
      "text/html": [
       "<span style=\"color:blue\"> |-rho: 0.8500000000000003</span>"
      ],
      "text/plain": [
       "<IPython.core.display.HTML object>"
      ]
     },
     "metadata": {},
     "output_type": "display_data"
    },
    {
     "data": {
      "text/html": [
       "<span style=\"color:cyan\"> |-units_0: 90</span>"
      ],
      "text/plain": [
       "<IPython.core.display.HTML object>"
      ]
     },
     "metadata": {},
     "output_type": "display_data"
    },
    {
     "data": {
      "text/html": [
       "<span style=\"color:blue\"> |-units_1: 20</span>"
      ],
      "text/plain": [
       "<IPython.core.display.HTML object>"
      ]
     },
     "metadata": {},
     "output_type": "display_data"
    },
    {
     "data": {
      "text/html": [
       "<span style=\"color:cyan\"> |-units_2: 20</span>"
      ],
      "text/plain": [
       "<IPython.core.display.HTML object>"
      ]
     },
     "metadata": {},
     "output_type": "display_data"
    },
    {
     "name": "stdout",
     "output_type": "stream",
     "text": [
      "Train on 125 samples, validate on 23 samples\n",
      "Epoch 1/5\n",
      "125/125 [==============================] - ETA: 0s - loss: 15.7829 - mean_squared_error: 15.78 - 0s 4ms/sample - loss: 24.9651 - mean_squared_error: 24.9651 - val_loss: 55.7643 - val_mean_squared_error: 55.7643\n",
      "Epoch 2/5\n",
      "125/125 [==============================] - ETA: 0s - loss: 30.6793 - mean_squared_error: 30.67 - 0s 398us/sample - loss: 16.1890 - mean_squared_error: 16.1890 - val_loss: 37.2352 - val_mean_squared_error: 37.2352\n",
      "Epoch 3/5\n",
      "125/125 [==============================] - ETA: 0s - loss: 21.6397 - mean_squared_error: 21.63 - 0s 397us/sample - loss: 13.0879 - mean_squared_error: 13.0879 - val_loss: 21.3635 - val_mean_squared_error: 21.3635\n",
      "Epoch 4/5\n",
      "125/125 [==============================] - ETA: 0s - loss: 5.7879 - mean_squared_error: 5.78 - 0s 214us/sample - loss: 5.7010 - mean_squared_error: 5.7010 - val_loss: 22.8196 - val_mean_squared_error: 22.8196\n",
      "Epoch 5/5\n",
      "125/125 [==============================] - ETA: 0s - loss: 11.1426 - mean_squared_error: 11.14 - 0s 377us/sample - loss: 6.9684 - mean_squared_error: 6.9684 - val_loss: 13.9276 - val_mean_squared_error: 13.9276\n",
      "Train on 125 samples, validate on 23 samples\n",
      "Epoch 1/5\n",
      "125/125 [==============================] - ETA: 0s - loss: 9.3044 - mean_squared_error: 9.30 - 0s 3ms/sample - loss: 17.0745 - mean_squared_error: 17.0745 - val_loss: 30.5880 - val_mean_squared_error: 30.5880\n",
      "Epoch 2/5\n",
      "125/125 [==============================] - ETA: 0s - loss: 6.7414 - mean_squared_error: 6.74 - 0s 213us/sample - loss: 10.8034 - mean_squared_error: 10.8034 - val_loss: 14.2954 - val_mean_squared_error: 14.2954\n",
      "Epoch 3/5\n",
      "125/125 [==============================] - ETA: 0s - loss: 6.3321 - mean_squared_error: 6.33 - 0s 206us/sample - loss: 7.0317 - mean_squared_error: 7.0317 - val_loss: 16.4734 - val_mean_squared_error: 16.4734\n",
      "Epoch 4/5\n",
      "125/125 [==============================] - ETA: 0s - loss: 4.0574 - mean_squared_error: 4.05 - 0s 190us/sample - loss: 3.6445 - mean_squared_error: 3.6445 - val_loss: 16.5007 - val_mean_squared_error: 16.5007\n",
      "Epoch 5/5\n",
      "125/125 [==============================] - ETA: 0s - loss: 4.5361 - mean_squared_error: 4.53 - 0s 386us/sample - loss: 4.0316 - mean_squared_error: 4.0316 - val_loss: 13.5319 - val_mean_squared_error: 13.5319\n",
      "Train on 125 samples, validate on 23 samples\n",
      "Epoch 1/5\n",
      "125/125 [==============================] - ETA: 0s - loss: 14.2206 - mean_squared_error: 14.22 - 0s 3ms/sample - loss: 12.8846 - mean_squared_error: 12.8846 - val_loss: 29.5245 - val_mean_squared_error: 29.5245\n",
      "Epoch 2/5\n",
      "125/125 [==============================] - ETA: 0s - loss: 14.3072 - mean_squared_error: 14.30 - 0s 202us/sample - loss: 9.7008 - mean_squared_error: 9.7008 - val_loss: 16.4116 - val_mean_squared_error: 16.4116\n",
      "Epoch 3/5\n",
      "125/125 [==============================] - ETA: 0s - loss: 15.0779 - mean_squared_error: 15.07 - 0s 205us/sample - loss: 8.2052 - mean_squared_error: 8.2052 - val_loss: 17.1085 - val_mean_squared_error: 17.1085\n",
      "Epoch 4/5\n",
      "125/125 [==============================] - ETA: 0s - loss: 5.4059 - mean_squared_error: 5.40 - 0s 394us/sample - loss: 5.8752 - mean_squared_error: 5.8752 - val_loss: 12.6984 - val_mean_squared_error: 12.6984\n",
      "Epoch 5/5\n",
      "125/125 [==============================] - ETA: 0s - loss: 3.6629 - mean_squared_error: 3.66 - 0s 204us/sample - loss: 3.6770 - mean_squared_error: 3.6770 - val_loss: 15.2705 - val_mean_squared_error: 15.2705\n"
     ]
    },
    {
     "data": {
      "text/html": [
       "<span style=\"color:#4527A0\"><h1 style=\"font-size:18px\">Trial complete</h1></span>"
      ],
      "text/plain": [
       "<IPython.core.display.HTML object>"
      ]
     },
     "metadata": {},
     "output_type": "display_data"
    },
    {
     "data": {
      "text/html": [
       "<span style=\"color:#4527A0\"><h1 style=\"font-size:18px\">Trial summary</h1></span>"
      ],
      "text/plain": [
       "<IPython.core.display.HTML object>"
      ]
     },
     "metadata": {},
     "output_type": "display_data"
    },
    {
     "data": {
      "text/html": [
       "<span style=\"color:cyan\"> |-Trial ID: 5043f8c898445063c273e4d115186b98</span>"
      ],
      "text/plain": [
       "<IPython.core.display.HTML object>"
      ]
     },
     "metadata": {},
     "output_type": "display_data"
    },
    {
     "data": {
      "text/html": [
       "<span style=\"color:cyan\"> |-Score: 13.385973930358887</span>"
      ],
      "text/plain": [
       "<IPython.core.display.HTML object>"
      ]
     },
     "metadata": {},
     "output_type": "display_data"
    },
    {
     "data": {
      "text/html": [
       "<span style=\"color:cyan\"> |-Best step: 0</span>"
      ],
      "text/plain": [
       "<IPython.core.display.HTML object>"
      ]
     },
     "metadata": {},
     "output_type": "display_data"
    },
    {
     "data": {
      "text/html": [
       "<span style=\"color:#7E57C2\"><h2 style=\"font-size:16px\">Hyperparameters:</h2></span>"
      ],
      "text/plain": [
       "<IPython.core.display.HTML object>"
      ]
     },
     "metadata": {},
     "output_type": "display_data"
    },
    {
     "data": {
      "text/html": [
       "<span style=\"color:cyan\"> |-act_0: relu</span>"
      ],
      "text/plain": [
       "<IPython.core.display.HTML object>"
      ]
     },
     "metadata": {},
     "output_type": "display_data"
    },
    {
     "data": {
      "text/html": [
       "<span style=\"color:blue\"> |-act_1: relu</span>"
      ],
      "text/plain": [
       "<IPython.core.display.HTML object>"
      ]
     },
     "metadata": {},
     "output_type": "display_data"
    },
    {
     "data": {
      "text/html": [
       "<span style=\"color:cyan\"> |-act_2: tanh</span>"
      ],
      "text/plain": [
       "<IPython.core.display.HTML object>"
      ]
     },
     "metadata": {},
     "output_type": "display_data"
    },
    {
     "data": {
      "text/html": [
       "<span style=\"color:blue\"> |-dropout: 0.4</span>"
      ],
      "text/plain": [
       "<IPython.core.display.HTML object>"
      ]
     },
     "metadata": {},
     "output_type": "display_data"
    },
    {
     "data": {
      "text/html": [
       "<span style=\"color:cyan\"> |-learning_rate: 0.001</span>"
      ],
      "text/plain": [
       "<IPython.core.display.HTML object>"
      ]
     },
     "metadata": {},
     "output_type": "display_data"
    },
    {
     "data": {
      "text/html": [
       "<span style=\"color:blue\"> |-momentum: 0.35000000000000003</span>"
      ],
      "text/plain": [
       "<IPython.core.display.HTML object>"
      ]
     },
     "metadata": {},
     "output_type": "display_data"
    },
    {
     "data": {
      "text/html": [
       "<span style=\"color:cyan\"> |-num_layers: 2</span>"
      ],
      "text/plain": [
       "<IPython.core.display.HTML object>"
      ]
     },
     "metadata": {},
     "output_type": "display_data"
    },
    {
     "data": {
      "text/html": [
       "<span style=\"color:blue\"> |-rho: 0.8000000000000003</span>"
      ],
      "text/plain": [
       "<IPython.core.display.HTML object>"
      ]
     },
     "metadata": {},
     "output_type": "display_data"
    },
    {
     "data": {
      "text/html": [
       "<span style=\"color:cyan\"> |-units_0: 100</span>"
      ],
      "text/plain": [
       "<IPython.core.display.HTML object>"
      ]
     },
     "metadata": {},
     "output_type": "display_data"
    },
    {
     "data": {
      "text/html": [
       "<span style=\"color:blue\"> |-units_1: 40</span>"
      ],
      "text/plain": [
       "<IPython.core.display.HTML object>"
      ]
     },
     "metadata": {},
     "output_type": "display_data"
    },
    {
     "data": {
      "text/html": [
       "<span style=\"color:cyan\"> |-units_2: 80</span>"
      ],
      "text/plain": [
       "<IPython.core.display.HTML object>"
      ]
     },
     "metadata": {},
     "output_type": "display_data"
    },
    {
     "name": "stdout",
     "output_type": "stream",
     "text": [
      "Train on 125 samples, validate on 23 samples\n",
      "Epoch 1/5\n",
      "125/125 [==============================] - ETA: 1s - loss: 9.3861 - mean_squared_error: 9.38 - 1s 4ms/sample - loss: 8.1780 - mean_squared_error: 8.1780 - val_loss: 9.6234 - val_mean_squared_error: 9.6234\n",
      "Epoch 2/5\n",
      "125/125 [==============================] - ETA: 0s - loss: 7.5703 - mean_squared_error: 7.57 - 0s 211us/sample - loss: 5.9793 - mean_squared_error: 5.9793 - val_loss: 9.7152 - val_mean_squared_error: 9.7152\n",
      "Epoch 3/5\n",
      "125/125 [==============================] - ETA: 0s - loss: 5.2215 - mean_squared_error: 5.22 - 0s 205us/sample - loss: 4.1273 - mean_squared_error: 4.1273 - val_loss: 12.4927 - val_mean_squared_error: 12.4927\n",
      "Epoch 4/5\n",
      "125/125 [==============================] - ETA: 0s - loss: 3.2337 - mean_squared_error: 3.23 - 0s 192us/sample - loss: 2.9243 - mean_squared_error: 2.9243 - val_loss: 13.4260 - val_mean_squared_error: 13.4260\n",
      "Epoch 5/5\n",
      "125/125 [==============================] - ETA: 0s - loss: 1.6407 - mean_squared_error: 1.64 - 0s 190us/sample - loss: 1.8301 - mean_squared_error: 1.8301 - val_loss: 15.0163 - val_mean_squared_error: 15.0163\n",
      "Train on 125 samples, validate on 23 samples\n",
      "Epoch 1/5\n",
      "125/125 [==============================] - ETA: 1s - loss: 9.7081 - mean_squared_error: 9.70 - 0s 4ms/sample - loss: 9.0812 - mean_squared_error: 9.0812 - val_loss: 9.2154 - val_mean_squared_error: 9.2154\n",
      "Epoch 2/5\n",
      "125/125 [==============================] - ETA: 0s - loss: 6.6172 - mean_squared_error: 6.61 - 0s 219us/sample - loss: 6.7033 - mean_squared_error: 6.7033 - val_loss: 9.2888 - val_mean_squared_error: 9.2888\n",
      "Epoch 3/5\n",
      "125/125 [==============================] - ETA: 0s - loss: 6.4963 - mean_squared_error: 6.49 - 0s 198us/sample - loss: 5.1894 - mean_squared_error: 5.1894 - val_loss: 9.8366 - val_mean_squared_error: 9.8366\n",
      "Epoch 4/5\n",
      "125/125 [==============================] - ETA: 0s - loss: 4.9656 - mean_squared_error: 4.96 - 0s 206us/sample - loss: 3.8547 - mean_squared_error: 3.8547 - val_loss: 11.0327 - val_mean_squared_error: 11.0327\n",
      "Epoch 5/5\n",
      "125/125 [==============================] - ETA: 0s - loss: 3.4613 - mean_squared_error: 3.46 - 0s 191us/sample - loss: 2.8701 - mean_squared_error: 2.8701 - val_loss: 12.0321 - val_mean_squared_error: 12.0321\n",
      "Train on 125 samples, validate on 23 samples\n",
      "Epoch 1/5\n",
      "125/125 [==============================] - ETA: 1s - loss: 12.1558 - mean_squared_error: 12.15 - 0s 4ms/sample - loss: 9.3284 - mean_squared_error: 9.3284 - val_loss: 9.9175 - val_mean_squared_error: 9.9175\n",
      "Epoch 2/5\n",
      "125/125 [==============================] - ETA: 0s - loss: 5.1642 - mean_squared_error: 5.16 - 0s 210us/sample - loss: 6.8223 - mean_squared_error: 6.8223 - val_loss: 10.8198 - val_mean_squared_error: 10.8198\n",
      "Epoch 3/5\n",
      "125/125 [==============================] - ETA: 0s - loss: 7.2119 - mean_squared_error: 7.21 - 0s 204us/sample - loss: 5.3827 - mean_squared_error: 5.3827 - val_loss: 11.5927 - val_mean_squared_error: 11.5927\n",
      "Epoch 4/5\n",
      "125/125 [==============================] - ETA: 0s - loss: 5.7060 - mean_squared_error: 5.70 - 0s 201us/sample - loss: 3.7890 - mean_squared_error: 3.7890 - val_loss: 13.3221 - val_mean_squared_error: 13.3221\n",
      "Epoch 5/5\n",
      "125/125 [==============================] - ETA: 0s - loss: 2.6834 - mean_squared_error: 2.68 - 0s 196us/sample - loss: 2.6326 - mean_squared_error: 2.6326 - val_loss: 13.2038 - val_mean_squared_error: 13.2038\n"
     ]
    },
    {
     "data": {
      "text/html": [
       "<span style=\"color:#4527A0\"><h1 style=\"font-size:18px\">Trial complete</h1></span>"
      ],
      "text/plain": [
       "<IPython.core.display.HTML object>"
      ]
     },
     "metadata": {},
     "output_type": "display_data"
    },
    {
     "data": {
      "text/html": [
       "<span style=\"color:#4527A0\"><h1 style=\"font-size:18px\">Trial summary</h1></span>"
      ],
      "text/plain": [
       "<IPython.core.display.HTML object>"
      ]
     },
     "metadata": {},
     "output_type": "display_data"
    },
    {
     "data": {
      "text/html": [
       "<span style=\"color:cyan\"> |-Trial ID: 285aebeda5f27e0844544a72efe824e4</span>"
      ],
      "text/plain": [
       "<IPython.core.display.HTML object>"
      ]
     },
     "metadata": {},
     "output_type": "display_data"
    },
    {
     "data": {
      "text/html": [
       "<span style=\"color:cyan\"> |-Score: 9.585430145263672</span>"
      ],
      "text/plain": [
       "<IPython.core.display.HTML object>"
      ]
     },
     "metadata": {},
     "output_type": "display_data"
    },
    {
     "data": {
      "text/html": [
       "<span style=\"color:cyan\"> |-Best step: 0</span>"
      ],
      "text/plain": [
       "<IPython.core.display.HTML object>"
      ]
     },
     "metadata": {},
     "output_type": "display_data"
    },
    {
     "data": {
      "text/html": [
       "<span style=\"color:#7E57C2\"><h2 style=\"font-size:16px\">Hyperparameters:</h2></span>"
      ],
      "text/plain": [
       "<IPython.core.display.HTML object>"
      ]
     },
     "metadata": {},
     "output_type": "display_data"
    },
    {
     "data": {
      "text/html": [
       "<span style=\"color:cyan\"> |-act_0: tanh</span>"
      ],
      "text/plain": [
       "<IPython.core.display.HTML object>"
      ]
     },
     "metadata": {},
     "output_type": "display_data"
    },
    {
     "data": {
      "text/html": [
       "<span style=\"color:blue\"> |-act_1: relu</span>"
      ],
      "text/plain": [
       "<IPython.core.display.HTML object>"
      ]
     },
     "metadata": {},
     "output_type": "display_data"
    },
    {
     "data": {
      "text/html": [
       "<span style=\"color:cyan\"> |-act_2: tanh</span>"
      ],
      "text/plain": [
       "<IPython.core.display.HTML object>"
      ]
     },
     "metadata": {},
     "output_type": "display_data"
    },
    {
     "data": {
      "text/html": [
       "<span style=\"color:blue\"> |-act_3: relu</span>"
      ],
      "text/plain": [
       "<IPython.core.display.HTML object>"
      ]
     },
     "metadata": {},
     "output_type": "display_data"
    },
    {
     "data": {
      "text/html": [
       "<span style=\"color:cyan\"> |-dropout: 0.0</span>"
      ],
      "text/plain": [
       "<IPython.core.display.HTML object>"
      ]
     },
     "metadata": {},
     "output_type": "display_data"
    },
    {
     "data": {
      "text/html": [
       "<span style=\"color:blue\"> |-learning_rate: 0.001</span>"
      ],
      "text/plain": [
       "<IPython.core.display.HTML object>"
      ]
     },
     "metadata": {},
     "output_type": "display_data"
    },
    {
     "data": {
      "text/html": [
       "<span style=\"color:cyan\"> |-momentum: 0.30000000000000004</span>"
      ],
      "text/plain": [
       "<IPython.core.display.HTML object>"
      ]
     },
     "metadata": {},
     "output_type": "display_data"
    },
    {
     "data": {
      "text/html": [
       "<span style=\"color:blue\"> |-num_layers: 4</span>"
      ],
      "text/plain": [
       "<IPython.core.display.HTML object>"
      ]
     },
     "metadata": {},
     "output_type": "display_data"
    },
    {
     "data": {
      "text/html": [
       "<span style=\"color:cyan\"> |-rho: 0.9000000000000004</span>"
      ],
      "text/plain": [
       "<IPython.core.display.HTML object>"
      ]
     },
     "metadata": {},
     "output_type": "display_data"
    },
    {
     "data": {
      "text/html": [
       "<span style=\"color:blue\"> |-units_0: 20</span>"
      ],
      "text/plain": [
       "<IPython.core.display.HTML object>"
      ]
     },
     "metadata": {},
     "output_type": "display_data"
    },
    {
     "data": {
      "text/html": [
       "<span style=\"color:cyan\"> |-units_1: 60</span>"
      ],
      "text/plain": [
       "<IPython.core.display.HTML object>"
      ]
     },
     "metadata": {},
     "output_type": "display_data"
    },
    {
     "data": {
      "text/html": [
       "<span style=\"color:blue\"> |-units_2: 30</span>"
      ],
      "text/plain": [
       "<IPython.core.display.HTML object>"
      ]
     },
     "metadata": {},
     "output_type": "display_data"
    },
    {
     "data": {
      "text/html": [
       "<span style=\"color:cyan\"> |-units_3: 20</span>"
      ],
      "text/plain": [
       "<IPython.core.display.HTML object>"
      ]
     },
     "metadata": {},
     "output_type": "display_data"
    },
    {
     "name": "stdout",
     "output_type": "stream",
     "text": [
      "Train on 125 samples, validate on 23 samples\n",
      "Epoch 1/5\n",
      "125/125 [==============================] - ETA: 1s - loss: 6.8381 - mean_squared_error: 6.83 - 0s 4ms/sample - loss: 8.0746 - mean_squared_error: 8.0746 - val_loss: 19.9330 - val_mean_squared_error: 19.9330\n",
      "Epoch 2/5\n",
      "125/125 [==============================] - ETA: 0s - loss: 6.2379 - mean_squared_error: 6.23 - 0s 368us/sample - loss: 4.3323 - mean_squared_error: 4.3323 - val_loss: 13.1948 - val_mean_squared_error: 13.1948\n",
      "Epoch 3/5\n",
      "125/125 [==============================] - ETA: 0s - loss: 1.0944 - mean_squared_error: 1.09 - 0s 211us/sample - loss: 2.1224 - mean_squared_error: 2.1224 - val_loss: 20.1654 - val_mean_squared_error: 20.1654\n",
      "Epoch 4/5\n",
      "125/125 [==============================] - ETA: 0s - loss: 2.9849 - mean_squared_error: 2.98 - 0s 195us/sample - loss: 1.9552 - mean_squared_error: 1.9552 - val_loss: 14.7610 - val_mean_squared_error: 14.7610\n",
      "Epoch 5/5\n",
      "125/125 [==============================] - ETA: 0s - loss: 0.8070 - mean_squared_error: 0.80 - 0s 345us/sample - loss: 1.5090 - mean_squared_error: 1.5090 - val_loss: 12.8474 - val_mean_squared_error: 12.8474\n",
      "Train on 125 samples, validate on 23 samples\n",
      "Epoch 1/5\n",
      "125/125 [==============================] - ETA: 1s - loss: 9.7682 - mean_squared_error: 9.76 - 0s 4ms/sample - loss: 8.0109 - mean_squared_error: 8.0109 - val_loss: 14.4706 - val_mean_squared_error: 14.4706\n",
      "Epoch 2/5\n",
      "125/125 [==============================] - ETA: 0s - loss: 4.0220 - mean_squared_error: 4.02 - 0s 217us/sample - loss: 3.4692 - mean_squared_error: 3.4692 - val_loss: 16.8393 - val_mean_squared_error: 16.8393\n",
      "Epoch 3/5\n",
      "125/125 [==============================] - ETA: 0s - loss: 4.1225 - mean_squared_error: 4.12 - 0s 372us/sample - loss: 2.7593 - mean_squared_error: 2.7593 - val_loss: 12.4264 - val_mean_squared_error: 12.4264\n",
      "Epoch 4/5\n",
      "125/125 [==============================] - ETA: 0s - loss: 1.1825 - mean_squared_error: 1.18 - 0s 211us/sample - loss: 1.4247 - mean_squared_error: 1.4247 - val_loss: 14.7354 - val_mean_squared_error: 14.7354\n",
      "Epoch 5/5\n",
      "125/125 [==============================] - ETA: 0s - loss: 1.3110 - mean_squared_error: 1.31 - 0s 203us/sample - loss: 1.2544 - mean_squared_error: 1.2544 - val_loss: 16.8264 - val_mean_squared_error: 16.8264\n",
      "Train on 125 samples, validate on 23 samples\n",
      "Epoch 1/5\n",
      "125/125 [==============================] - ETA: 1s - loss: 11.7284 - mean_squared_error: 11.72 - 0s 4ms/sample - loss: 7.9149 - mean_squared_error: 7.9149 - val_loss: 16.1233 - val_mean_squared_error: 16.1233\n",
      "Epoch 2/5\n",
      "125/125 [==============================] - ETA: 0s - loss: 1.9648 - mean_squared_error: 1.96 - 0s 215us/sample - loss: 2.9975 - mean_squared_error: 2.9975 - val_loss: 31.6447 - val_mean_squared_error: 31.6447\n",
      "Epoch 3/5\n",
      "125/125 [==============================] - ETA: 0s - loss: 4.1431 - mean_squared_error: 4.14 - 0s 205us/sample - loss: 3.0669 - mean_squared_error: 3.0669 - val_loss: 14.6116 - val_mean_squared_error: 14.6116\n",
      "Epoch 4/5\n",
      "125/125 [==============================] - ETA: 0s - loss: 3.5741 - mean_squared_error: 3.57 - 0s 211us/sample - loss: 2.7903 - mean_squared_error: 2.7903 - val_loss: 15.6660 - val_mean_squared_error: 15.6660\n",
      "Epoch 5/5\n",
      "125/125 [==============================] - ETA: 0s - loss: 0.9158 - mean_squared_error: 0.91 - 0s 207us/sample - loss: 0.8642 - mean_squared_error: 0.8642 - val_loss: 19.4313 - val_mean_squared_error: 19.4313\n"
     ]
    },
    {
     "data": {
      "text/html": [
       "<span style=\"color:#4527A0\"><h1 style=\"font-size:18px\">Trial complete</h1></span>"
      ],
      "text/plain": [
       "<IPython.core.display.HTML object>"
      ]
     },
     "metadata": {},
     "output_type": "display_data"
    },
    {
     "data": {
      "text/html": [
       "<span style=\"color:#4527A0\"><h1 style=\"font-size:18px\">Trial summary</h1></span>"
      ],
      "text/plain": [
       "<IPython.core.display.HTML object>"
      ]
     },
     "metadata": {},
     "output_type": "display_data"
    },
    {
     "data": {
      "text/html": [
       "<span style=\"color:cyan\"> |-Trial ID: 9d7fcf9d9d078d4eec896072701577f5</span>"
      ],
      "text/plain": [
       "<IPython.core.display.HTML object>"
      ]
     },
     "metadata": {},
     "output_type": "display_data"
    },
    {
     "data": {
      "text/html": [
       "<span style=\"color:cyan\"> |-Score: 13.295145988464355</span>"
      ],
      "text/plain": [
       "<IPython.core.display.HTML object>"
      ]
     },
     "metadata": {},
     "output_type": "display_data"
    },
    {
     "data": {
      "text/html": [
       "<span style=\"color:cyan\"> |-Best step: 0</span>"
      ],
      "text/plain": [
       "<IPython.core.display.HTML object>"
      ]
     },
     "metadata": {},
     "output_type": "display_data"
    },
    {
     "data": {
      "text/html": [
       "<span style=\"color:#7E57C2\"><h2 style=\"font-size:16px\">Hyperparameters:</h2></span>"
      ],
      "text/plain": [
       "<IPython.core.display.HTML object>"
      ]
     },
     "metadata": {},
     "output_type": "display_data"
    },
    {
     "data": {
      "text/html": [
       "<span style=\"color:cyan\"> |-act_0: relu</span>"
      ],
      "text/plain": [
       "<IPython.core.display.HTML object>"
      ]
     },
     "metadata": {},
     "output_type": "display_data"
    },
    {
     "data": {
      "text/html": [
       "<span style=\"color:blue\"> |-act_1: relu</span>"
      ],
      "text/plain": [
       "<IPython.core.display.HTML object>"
      ]
     },
     "metadata": {},
     "output_type": "display_data"
    },
    {
     "data": {
      "text/html": [
       "<span style=\"color:cyan\"> |-act_2: relu</span>"
      ],
      "text/plain": [
       "<IPython.core.display.HTML object>"
      ]
     },
     "metadata": {},
     "output_type": "display_data"
    },
    {
     "data": {
      "text/html": [
       "<span style=\"color:blue\"> |-act_3: relu</span>"
      ],
      "text/plain": [
       "<IPython.core.display.HTML object>"
      ]
     },
     "metadata": {},
     "output_type": "display_data"
    },
    {
     "data": {
      "text/html": [
       "<span style=\"color:cyan\"> |-dropout: 0.30000000000000004</span>"
      ],
      "text/plain": [
       "<IPython.core.display.HTML object>"
      ]
     },
     "metadata": {},
     "output_type": "display_data"
    },
    {
     "data": {
      "text/html": [
       "<span style=\"color:blue\"> |-learning_rate: 0.001</span>"
      ],
      "text/plain": [
       "<IPython.core.display.HTML object>"
      ]
     },
     "metadata": {},
     "output_type": "display_data"
    },
    {
     "data": {
      "text/html": [
       "<span style=\"color:cyan\"> |-momentum: 0.35000000000000003</span>"
      ],
      "text/plain": [
       "<IPython.core.display.HTML object>"
      ]
     },
     "metadata": {},
     "output_type": "display_data"
    },
    {
     "data": {
      "text/html": [
       "<span style=\"color:blue\"> |-num_layers: 3</span>"
      ],
      "text/plain": [
       "<IPython.core.display.HTML object>"
      ]
     },
     "metadata": {},
     "output_type": "display_data"
    },
    {
     "data": {
      "text/html": [
       "<span style=\"color:cyan\"> |-rho: 0.6000000000000001</span>"
      ],
      "text/plain": [
       "<IPython.core.display.HTML object>"
      ]
     },
     "metadata": {},
     "output_type": "display_data"
    },
    {
     "data": {
      "text/html": [
       "<span style=\"color:blue\"> |-units_0: 40</span>"
      ],
      "text/plain": [
       "<IPython.core.display.HTML object>"
      ]
     },
     "metadata": {},
     "output_type": "display_data"
    },
    {
     "data": {
      "text/html": [
       "<span style=\"color:cyan\"> |-units_1: 90</span>"
      ],
      "text/plain": [
       "<IPython.core.display.HTML object>"
      ]
     },
     "metadata": {},
     "output_type": "display_data"
    },
    {
     "data": {
      "text/html": [
       "<span style=\"color:blue\"> |-units_2: 100</span>"
      ],
      "text/plain": [
       "<IPython.core.display.HTML object>"
      ]
     },
     "metadata": {},
     "output_type": "display_data"
    },
    {
     "data": {
      "text/html": [
       "<span style=\"color:cyan\"> |-units_3: 50</span>"
      ],
      "text/plain": [
       "<IPython.core.display.HTML object>"
      ]
     },
     "metadata": {},
     "output_type": "display_data"
    },
    {
     "name": "stdout",
     "output_type": "stream",
     "text": [
      "Train on 125 samples, validate on 23 samples\n",
      "Epoch 1/5\n",
      "125/125 [==============================] - ETA: 0s - loss: 9.3021 - mean_squared_error: 9.30 - 0s 4ms/sample - loss: 119.4191 - mean_squared_error: 119.4191 - val_loss: 57.0482 - val_mean_squared_error: 57.0482\n",
      "Epoch 2/5\n",
      "125/125 [==============================] - ETA: 0s - loss: 27.0541 - mean_squared_error: 27.05 - 0s 322us/sample - loss: 56.1404 - mean_squared_error: 56.1404 - val_loss: 37.0329 - val_mean_squared_error: 37.0329\n",
      "Epoch 3/5\n",
      "125/125 [==============================] - ETA: 0s - loss: 23.7813 - mean_squared_error: 23.78 - 0s 329us/sample - loss: 18.9958 - mean_squared_error: 18.9958 - val_loss: 25.4813 - val_mean_squared_error: 25.4813\n",
      "Epoch 4/5\n",
      "125/125 [==============================] - ETA: 0s - loss: 20.2870 - mean_squared_error: 20.28 - 0s 315us/sample - loss: 26.7769 - mean_squared_error: 26.7769 - val_loss: 21.5937 - val_mean_squared_error: 21.5937\n",
      "Epoch 5/5\n",
      "125/125 [==============================] - ETA: 0s - loss: 20.3733 - mean_squared_error: 20.37 - 0s 192us/sample - loss: 26.2845 - mean_squared_error: 26.2845 - val_loss: 30.7464 - val_mean_squared_error: 30.7464\n",
      "Train on 125 samples, validate on 23 samples\n",
      "Epoch 1/5\n",
      "125/125 [==============================] - ETA: 0s - loss: 10.5386 - mean_squared_error: 10.53 - 0s 3ms/sample - loss: 34.2581 - mean_squared_error: 34.2580 - val_loss: 111.0077 - val_mean_squared_error: 111.0077\n",
      "Epoch 2/5\n",
      "125/125 [==============================] - ETA: 0s - loss: 82.6726 - mean_squared_error: 82.67 - 0s 200us/sample - loss: 61.4247 - mean_squared_error: 61.4247 - val_loss: 22.5896 - val_mean_squared_error: 22.5896\n",
      "Epoch 3/5\n",
      "125/125 [==============================] - ETA: 0s - loss: 15.9532 - mean_squared_error: 15.95 - 0s 316us/sample - loss: 25.2124 - mean_squared_error: 25.2124 - val_loss: 15.8889 - val_mean_squared_error: 15.8889\n",
      "Epoch 4/5\n",
      "125/125 [==============================] - ETA: 0s - loss: 17.9892 - mean_squared_error: 17.98 - 0s 198us/sample - loss: 16.0621 - mean_squared_error: 16.0621 - val_loss: 30.2621 - val_mean_squared_error: 30.2621\n",
      "Epoch 5/5\n",
      "125/125 [==============================] - ETA: 0s - loss: 15.7237 - mean_squared_error: 15.72 - 0s 184us/sample - loss: 31.1750 - mean_squared_error: 31.1750 - val_loss: 18.6040 - val_mean_squared_error: 18.6040\n",
      "Train on 125 samples, validate on 23 samples\n",
      "Epoch 1/5\n",
      "125/125 [==============================] - ETA: 0s - loss: 10.0465 - mean_squared_error: 10.04 - 0s 3ms/sample - loss: 58.1062 - mean_squared_error: 58.1062 - val_loss: 113.3246 - val_mean_squared_error: 113.3246\n",
      "Epoch 2/5\n",
      "125/125 [==============================] - ETA: 0s - loss: 91.2744 - mean_squared_error: 91.27 - 0s 196us/sample - loss: 47.8495 - mean_squared_error: 47.8495 - val_loss: 48.6350 - val_mean_squared_error: 48.6350\n",
      "Epoch 3/5\n",
      "125/125 [==============================] - ETA: 0s - loss: 27.1711 - mean_squared_error: 27.17 - 0s 198us/sample - loss: 35.8722 - mean_squared_error: 35.8722 - val_loss: 25.8166 - val_mean_squared_error: 25.8166\n",
      "Epoch 4/5\n",
      "125/125 [==============================] - ETA: 0s - loss: 15.4770 - mean_squared_error: 15.47 - 0s 193us/sample - loss: 23.7977 - mean_squared_error: 23.7977 - val_loss: 53.7653 - val_mean_squared_error: 53.7653\n",
      "Epoch 5/5\n",
      "125/125 [==============================] - ETA: 0s - loss: 69.7131 - mean_squared_error: 69.71 - 0s 181us/sample - loss: 30.9610 - mean_squared_error: 30.9610 - val_loss: 31.6607 - val_mean_squared_error: 31.6607\n"
     ]
    },
    {
     "data": {
      "text/html": [
       "<span style=\"color:#4527A0\"><h1 style=\"font-size:18px\">Trial complete</h1></span>"
      ],
      "text/plain": [
       "<IPython.core.display.HTML object>"
      ]
     },
     "metadata": {},
     "output_type": "display_data"
    },
    {
     "data": {
      "text/html": [
       "<span style=\"color:#4527A0\"><h1 style=\"font-size:18px\">Trial summary</h1></span>"
      ],
      "text/plain": [
       "<IPython.core.display.HTML object>"
      ]
     },
     "metadata": {},
     "output_type": "display_data"
    },
    {
     "data": {
      "text/html": [
       "<span style=\"color:cyan\"> |-Trial ID: efcddb274db69a5eb5b4f417a02a4e11</span>"
      ],
      "text/plain": [
       "<IPython.core.display.HTML object>"
      ]
     },
     "metadata": {},
     "output_type": "display_data"
    },
    {
     "data": {
      "text/html": [
       "<span style=\"color:cyan\"> |-Score: 21.0997371673584</span>"
      ],
      "text/plain": [
       "<IPython.core.display.HTML object>"
      ]
     },
     "metadata": {},
     "output_type": "display_data"
    },
    {
     "data": {
      "text/html": [
       "<span style=\"color:cyan\"> |-Best step: 0</span>"
      ],
      "text/plain": [
       "<IPython.core.display.HTML object>"
      ]
     },
     "metadata": {},
     "output_type": "display_data"
    },
    {
     "data": {
      "text/html": [
       "<span style=\"color:#7E57C2\"><h2 style=\"font-size:16px\">Hyperparameters:</h2></span>"
      ],
      "text/plain": [
       "<IPython.core.display.HTML object>"
      ]
     },
     "metadata": {},
     "output_type": "display_data"
    },
    {
     "data": {
      "text/html": [
       "<span style=\"color:cyan\"> |-act_0: relu</span>"
      ],
      "text/plain": [
       "<IPython.core.display.HTML object>"
      ]
     },
     "metadata": {},
     "output_type": "display_data"
    },
    {
     "data": {
      "text/html": [
       "<span style=\"color:blue\"> |-act_1: relu</span>"
      ],
      "text/plain": [
       "<IPython.core.display.HTML object>"
      ]
     },
     "metadata": {},
     "output_type": "display_data"
    },
    {
     "data": {
      "text/html": [
       "<span style=\"color:cyan\"> |-act_2: tanh</span>"
      ],
      "text/plain": [
       "<IPython.core.display.HTML object>"
      ]
     },
     "metadata": {},
     "output_type": "display_data"
    },
    {
     "data": {
      "text/html": [
       "<span style=\"color:blue\"> |-act_3: relu</span>"
      ],
      "text/plain": [
       "<IPython.core.display.HTML object>"
      ]
     },
     "metadata": {},
     "output_type": "display_data"
    },
    {
     "data": {
      "text/html": [
       "<span style=\"color:cyan\"> |-dropout: 0.5</span>"
      ],
      "text/plain": [
       "<IPython.core.display.HTML object>"
      ]
     },
     "metadata": {},
     "output_type": "display_data"
    },
    {
     "data": {
      "text/html": [
       "<span style=\"color:blue\"> |-learning_rate: 0.01</span>"
      ],
      "text/plain": [
       "<IPython.core.display.HTML object>"
      ]
     },
     "metadata": {},
     "output_type": "display_data"
    },
    {
     "data": {
      "text/html": [
       "<span style=\"color:cyan\"> |-momentum: 0.4</span>"
      ],
      "text/plain": [
       "<IPython.core.display.HTML object>"
      ]
     },
     "metadata": {},
     "output_type": "display_data"
    },
    {
     "data": {
      "text/html": [
       "<span style=\"color:blue\"> |-num_layers: 2</span>"
      ],
      "text/plain": [
       "<IPython.core.display.HTML object>"
      ]
     },
     "metadata": {},
     "output_type": "display_data"
    },
    {
     "data": {
      "text/html": [
       "<span style=\"color:cyan\"> |-rho: 0.7000000000000002</span>"
      ],
      "text/plain": [
       "<IPython.core.display.HTML object>"
      ]
     },
     "metadata": {},
     "output_type": "display_data"
    },
    {
     "data": {
      "text/html": [
       "<span style=\"color:blue\"> |-units_0: 20</span>"
      ],
      "text/plain": [
       "<IPython.core.display.HTML object>"
      ]
     },
     "metadata": {},
     "output_type": "display_data"
    },
    {
     "data": {
      "text/html": [
       "<span style=\"color:cyan\"> |-units_1: 70</span>"
      ],
      "text/plain": [
       "<IPython.core.display.HTML object>"
      ]
     },
     "metadata": {},
     "output_type": "display_data"
    },
    {
     "data": {
      "text/html": [
       "<span style=\"color:blue\"> |-units_2: 60</span>"
      ],
      "text/plain": [
       "<IPython.core.display.HTML object>"
      ]
     },
     "metadata": {},
     "output_type": "display_data"
    },
    {
     "data": {
      "text/html": [
       "<span style=\"color:cyan\"> |-units_3: 40</span>"
      ],
      "text/plain": [
       "<IPython.core.display.HTML object>"
      ]
     },
     "metadata": {},
     "output_type": "display_data"
    },
    {
     "name": "stdout",
     "output_type": "stream",
     "text": [
      "Train on 125 samples, validate on 23 samples\n",
      "Epoch 1/5\n",
      "125/125 [==============================] - ETA: 0s - loss: 9.0988 - mean_squared_error: 9.09 - 0s 3ms/sample - loss: 12.8805 - mean_squared_error: 12.8805 - val_loss: 16.7702 - val_mean_squared_error: 16.7702\n",
      "Epoch 2/5\n",
      "125/125 [==============================] - ETA: 0s - loss: 4.6635 - mean_squared_error: 4.66 - 0s 396us/sample - loss: 5.3362 - mean_squared_error: 5.3362 - val_loss: 12.8352 - val_mean_squared_error: 12.8352\n",
      "Epoch 3/5\n",
      "125/125 [==============================] - ETA: 0s - loss: 6.8204 - mean_squared_error: 6.82 - 0s 206us/sample - loss: 5.0118 - mean_squared_error: 5.0118 - val_loss: 19.4198 - val_mean_squared_error: 19.4198\n",
      "Epoch 4/5\n",
      "125/125 [==============================] - ETA: 0s - loss: 4.1116 - mean_squared_error: 4.11 - 0s 209us/sample - loss: 5.3156 - mean_squared_error: 5.3156 - val_loss: 13.6195 - val_mean_squared_error: 13.6195\n",
      "Epoch 5/5\n",
      "125/125 [==============================] - ETA: 0s - loss: 5.8437 - mean_squared_error: 5.84 - 0s 202us/sample - loss: 4.2920 - mean_squared_error: 4.2920 - val_loss: 21.6171 - val_mean_squared_error: 21.6171\n",
      "Train on 125 samples, validate on 23 samples\n",
      "Epoch 1/5\n",
      "125/125 [==============================] - ETA: 0s - loss: 9.1287 - mean_squared_error: 9.12 - 0s 3ms/sample - loss: 11.9720 - mean_squared_error: 11.9720 - val_loss: 33.2965 - val_mean_squared_error: 33.2965\n",
      "Epoch 2/5\n",
      "125/125 [==============================] - ETA: 0s - loss: 8.0199 - mean_squared_error: 8.01 - 0s 203us/sample - loss: 7.0934 - mean_squared_error: 7.0934 - val_loss: 17.4606 - val_mean_squared_error: 17.4606\n",
      "Epoch 3/5\n",
      "125/125 [==============================] - ETA: 0s - loss: 9.9553 - mean_squared_error: 9.95 - 0s 197us/sample - loss: 6.5663 - mean_squared_error: 6.5663 - val_loss: 23.8188 - val_mean_squared_error: 23.8188\n",
      "Epoch 4/5\n",
      "125/125 [==============================] - ETA: 0s - loss: 3.2650 - mean_squared_error: 3.26 - 0s 202us/sample - loss: 3.2083 - mean_squared_error: 3.2083 - val_loss: 20.1745 - val_mean_squared_error: 20.1745\n",
      "Epoch 5/5\n",
      "125/125 [==============================] - ETA: 0s - loss: 3.7934 - mean_squared_error: 3.79 - 0s 195us/sample - loss: 4.0203 - mean_squared_error: 4.0203 - val_loss: 23.6504 - val_mean_squared_error: 23.6504\n",
      "Train on 125 samples, validate on 23 samples\n",
      "Epoch 1/5\n",
      "125/125 [==============================] - ETA: 0s - loss: 15.3090 - mean_squared_error: 15.30 - 0s 3ms/sample - loss: 14.4481 - mean_squared_error: 14.4481 - val_loss: 58.8807 - val_mean_squared_error: 58.8807\n",
      "Epoch 2/5\n",
      "125/125 [==============================] - ETA: 0s - loss: 17.6382 - mean_squared_error: 17.63 - 0s 211us/sample - loss: 13.5079 - mean_squared_error: 13.5079 - val_loss: 17.0586 - val_mean_squared_error: 17.0586\n",
      "Epoch 3/5\n",
      "125/125 [==============================] - ETA: 0s - loss: 10.0753 - mean_squared_error: 10.07 - 0s 213us/sample - loss: 7.3893 - mean_squared_error: 7.3893 - val_loss: 14.5163 - val_mean_squared_error: 14.5163\n",
      "Epoch 4/5\n",
      "125/125 [==============================] - ETA: 0s - loss: 5.1285 - mean_squared_error: 5.12 - 0s 199us/sample - loss: 3.9431 - mean_squared_error: 3.9431 - val_loss: 18.9648 - val_mean_squared_error: 18.9648\n",
      "Epoch 5/5\n",
      "125/125 [==============================] - ETA: 0s - loss: 3.5305 - mean_squared_error: 3.53 - 0s 199us/sample - loss: 3.2131 - mean_squared_error: 3.2131 - val_loss: 16.3573 - val_mean_squared_error: 16.3573\n"
     ]
    },
    {
     "data": {
      "text/html": [
       "<span style=\"color:#4527A0\"><h1 style=\"font-size:18px\">Trial complete</h1></span>"
      ],
      "text/plain": [
       "<IPython.core.display.HTML object>"
      ]
     },
     "metadata": {},
     "output_type": "display_data"
    },
    {
     "data": {
      "text/html": [
       "<span style=\"color:#4527A0\"><h1 style=\"font-size:18px\">Trial summary</h1></span>"
      ],
      "text/plain": [
       "<IPython.core.display.HTML object>"
      ]
     },
     "metadata": {},
     "output_type": "display_data"
    },
    {
     "data": {
      "text/html": [
       "<span style=\"color:cyan\"> |-Trial ID: 349d05d289050dafb9df7e7909defe20</span>"
      ],
      "text/plain": [
       "<IPython.core.display.HTML object>"
      ]
     },
     "metadata": {},
     "output_type": "display_data"
    },
    {
     "data": {
      "text/html": [
       "<span style=\"color:cyan\"> |-Score: 14.9373779296875</span>"
      ],
      "text/plain": [
       "<IPython.core.display.HTML object>"
      ]
     },
     "metadata": {},
     "output_type": "display_data"
    },
    {
     "data": {
      "text/html": [
       "<span style=\"color:cyan\"> |-Best step: 0</span>"
      ],
      "text/plain": [
       "<IPython.core.display.HTML object>"
      ]
     },
     "metadata": {},
     "output_type": "display_data"
    },
    {
     "data": {
      "text/html": [
       "<span style=\"color:#7E57C2\"><h2 style=\"font-size:16px\">Hyperparameters:</h2></span>"
      ],
      "text/plain": [
       "<IPython.core.display.HTML object>"
      ]
     },
     "metadata": {},
     "output_type": "display_data"
    },
    {
     "data": {
      "text/html": [
       "<span style=\"color:cyan\"> |-act_0: relu</span>"
      ],
      "text/plain": [
       "<IPython.core.display.HTML object>"
      ]
     },
     "metadata": {},
     "output_type": "display_data"
    },
    {
     "data": {
      "text/html": [
       "<span style=\"color:blue\"> |-act_1: relu</span>"
      ],
      "text/plain": [
       "<IPython.core.display.HTML object>"
      ]
     },
     "metadata": {},
     "output_type": "display_data"
    },
    {
     "data": {
      "text/html": [
       "<span style=\"color:cyan\"> |-act_2: tanh</span>"
      ],
      "text/plain": [
       "<IPython.core.display.HTML object>"
      ]
     },
     "metadata": {},
     "output_type": "display_data"
    },
    {
     "data": {
      "text/html": [
       "<span style=\"color:blue\"> |-act_3: relu</span>"
      ],
      "text/plain": [
       "<IPython.core.display.HTML object>"
      ]
     },
     "metadata": {},
     "output_type": "display_data"
    },
    {
     "data": {
      "text/html": [
       "<span style=\"color:cyan\"> |-dropout: 0.1</span>"
      ],
      "text/plain": [
       "<IPython.core.display.HTML object>"
      ]
     },
     "metadata": {},
     "output_type": "display_data"
    },
    {
     "data": {
      "text/html": [
       "<span style=\"color:blue\"> |-learning_rate: 0.001</span>"
      ],
      "text/plain": [
       "<IPython.core.display.HTML object>"
      ]
     },
     "metadata": {},
     "output_type": "display_data"
    },
    {
     "data": {
      "text/html": [
       "<span style=\"color:cyan\"> |-momentum: 0.35000000000000003</span>"
      ],
      "text/plain": [
       "<IPython.core.display.HTML object>"
      ]
     },
     "metadata": {},
     "output_type": "display_data"
    },
    {
     "data": {
      "text/html": [
       "<span style=\"color:blue\"> |-num_layers: 2</span>"
      ],
      "text/plain": [
       "<IPython.core.display.HTML object>"
      ]
     },
     "metadata": {},
     "output_type": "display_data"
    },
    {
     "data": {
      "text/html": [
       "<span style=\"color:cyan\"> |-rho: 0.7000000000000002</span>"
      ],
      "text/plain": [
       "<IPython.core.display.HTML object>"
      ]
     },
     "metadata": {},
     "output_type": "display_data"
    },
    {
     "data": {
      "text/html": [
       "<span style=\"color:blue\"> |-units_0: 90</span>"
      ],
      "text/plain": [
       "<IPython.core.display.HTML object>"
      ]
     },
     "metadata": {},
     "output_type": "display_data"
    },
    {
     "data": {
      "text/html": [
       "<span style=\"color:cyan\"> |-units_1: 60</span>"
      ],
      "text/plain": [
       "<IPython.core.display.HTML object>"
      ]
     },
     "metadata": {},
     "output_type": "display_data"
    },
    {
     "data": {
      "text/html": [
       "<span style=\"color:blue\"> |-units_2: 50</span>"
      ],
      "text/plain": [
       "<IPython.core.display.HTML object>"
      ]
     },
     "metadata": {},
     "output_type": "display_data"
    },
    {
     "data": {
      "text/html": [
       "<span style=\"color:cyan\"> |-units_3: 80</span>"
      ],
      "text/plain": [
       "<IPython.core.display.HTML object>"
      ]
     },
     "metadata": {},
     "output_type": "display_data"
    },
    {
     "name": "stdout",
     "output_type": "stream",
     "text": [
      "Train on 125 samples, validate on 23 samples\n",
      "Epoch 1/5\n",
      "125/125 [==============================] - ETA: 1s - loss: 9.3493 - mean_squared_error: 9.34 - 0s 4ms/sample - loss: 10.5653 - mean_squared_error: 10.5653 - val_loss: 10.9539 - val_mean_squared_error: 10.9539\n",
      "Epoch 2/5\n",
      "125/125 [==============================] - ETA: 0s - loss: 10.6102 - mean_squared_error: 10.61 - 0s 221us/sample - loss: 7.7241 - mean_squared_error: 7.7241 - val_loss: 11.3364 - val_mean_squared_error: 11.3364\n",
      "Epoch 3/5\n",
      "125/125 [==============================] - ETA: 0s - loss: 4.2511 - mean_squared_error: 4.25 - 0s 388us/sample - loss: 5.1483 - mean_squared_error: 5.1483 - val_loss: 10.7360 - val_mean_squared_error: 10.7360\n",
      "Epoch 4/5\n",
      "125/125 [==============================] - ETA: 0s - loss: 5.1368 - mean_squared_error: 5.13 - 0s 217us/sample - loss: 5.5468 - mean_squared_error: 5.5468 - val_loss: 11.4537 - val_mean_squared_error: 11.4537\n",
      "Epoch 5/5\n",
      "125/125 [==============================] - ETA: 0s - loss: 3.6737 - mean_squared_error: 3.67 - 0s 196us/sample - loss: 3.3397 - mean_squared_error: 3.3397 - val_loss: 13.7967 - val_mean_squared_error: 13.7967\n",
      "Train on 125 samples, validate on 23 samples\n",
      "Epoch 1/5\n",
      "125/125 [==============================] - ETA: 1s - loss: 9.9127 - mean_squared_error: 9.91 - 0s 4ms/sample - loss: 10.9929 - mean_squared_error: 10.9929 - val_loss: 10.3726 - val_mean_squared_error: 10.3726\n",
      "Epoch 2/5\n",
      "125/125 [==============================] - ETA: 0s - loss: 7.8156 - mean_squared_error: 7.81 - 0s 391us/sample - loss: 7.7958 - mean_squared_error: 7.7958 - val_loss: 8.6709 - val_mean_squared_error: 8.6709\n",
      "Epoch 3/5\n",
      "125/125 [==============================] - ETA: 0s - loss: 5.6002 - mean_squared_error: 5.60 - 0s 211us/sample - loss: 5.8018 - mean_squared_error: 5.8018 - val_loss: 11.1109 - val_mean_squared_error: 11.1109\n",
      "Epoch 4/5\n",
      "125/125 [==============================] - ETA: 0s - loss: 2.9944 - mean_squared_error: 2.99 - 0s 200us/sample - loss: 4.4771 - mean_squared_error: 4.4771 - val_loss: 11.3589 - val_mean_squared_error: 11.3589\n",
      "Epoch 5/5\n",
      "125/125 [==============================] - ETA: 0s - loss: 4.0720 - mean_squared_error: 4.07 - 0s 200us/sample - loss: 4.6253 - mean_squared_error: 4.6253 - val_loss: 9.2607 - val_mean_squared_error: 9.2607\n",
      "Train on 125 samples, validate on 23 samples\n",
      "Epoch 1/5\n",
      "125/125 [==============================] - ETA: 1s - loss: 10.0325 - mean_squared_error: 10.03 - 0s 4ms/sample - loss: 11.3398 - mean_squared_error: 11.3398 - val_loss: 10.7389 - val_mean_squared_error: 10.7389\n",
      "Epoch 2/5\n",
      "125/125 [==============================] - ETA: 0s - loss: 8.6770 - mean_squared_error: 8.67 - 0s 206us/sample - loss: 7.5812 - mean_squared_error: 7.5812 - val_loss: 12.6975 - val_mean_squared_error: 12.6975\n",
      "Epoch 3/5\n",
      "125/125 [==============================] - ETA: 0s - loss: 5.5393 - mean_squared_error: 5.53 - 0s 201us/sample - loss: 6.4856 - mean_squared_error: 6.4856 - val_loss: 10.5542 - val_mean_squared_error: 10.5542\n",
      "Epoch 4/5\n",
      "125/125 [==============================] - ETA: 0s - loss: 3.4994 - mean_squared_error: 3.49 - 0s 203us/sample - loss: 4.6467 - mean_squared_error: 4.6467 - val_loss: 19.6854 - val_mean_squared_error: 19.6854\n",
      "Epoch 5/5\n",
      "125/125 [==============================] - ETA: 0s - loss: 3.6909 - mean_squared_error: 3.69 - 0s 204us/sample - loss: 5.4975 - mean_squared_error: 5.4975 - val_loss: 12.8633 - val_mean_squared_error: 12.8633\n"
     ]
    },
    {
     "data": {
      "text/html": [
       "<span style=\"color:#4527A0\"><h1 style=\"font-size:18px\">Trial complete</h1></span>"
      ],
      "text/plain": [
       "<IPython.core.display.HTML object>"
      ]
     },
     "metadata": {},
     "output_type": "display_data"
    },
    {
     "data": {
      "text/html": [
       "<span style=\"color:#4527A0\"><h1 style=\"font-size:18px\">Trial summary</h1></span>"
      ],
      "text/plain": [
       "<IPython.core.display.HTML object>"
      ]
     },
     "metadata": {},
     "output_type": "display_data"
    },
    {
     "data": {
      "text/html": [
       "<span style=\"color:cyan\"> |-Trial ID: bb3dcadb259a8b0593d8987f466e05e6</span>"
      ],
      "text/plain": [
       "<IPython.core.display.HTML object>"
      ]
     },
     "metadata": {},
     "output_type": "display_data"
    },
    {
     "data": {
      "text/html": [
       "<span style=\"color:cyan\"> |-Score: 9.987048149108887</span>"
      ],
      "text/plain": [
       "<IPython.core.display.HTML object>"
      ]
     },
     "metadata": {},
     "output_type": "display_data"
    },
    {
     "data": {
      "text/html": [
       "<span style=\"color:cyan\"> |-Best step: 0</span>"
      ],
      "text/plain": [
       "<IPython.core.display.HTML object>"
      ]
     },
     "metadata": {},
     "output_type": "display_data"
    },
    {
     "data": {
      "text/html": [
       "<span style=\"color:#7E57C2\"><h2 style=\"font-size:16px\">Hyperparameters:</h2></span>"
      ],
      "text/plain": [
       "<IPython.core.display.HTML object>"
      ]
     },
     "metadata": {},
     "output_type": "display_data"
    },
    {
     "data": {
      "text/html": [
       "<span style=\"color:cyan\"> |-act_0: tanh</span>"
      ],
      "text/plain": [
       "<IPython.core.display.HTML object>"
      ]
     },
     "metadata": {},
     "output_type": "display_data"
    },
    {
     "data": {
      "text/html": [
       "<span style=\"color:blue\"> |-act_1: relu</span>"
      ],
      "text/plain": [
       "<IPython.core.display.HTML object>"
      ]
     },
     "metadata": {},
     "output_type": "display_data"
    },
    {
     "data": {
      "text/html": [
       "<span style=\"color:cyan\"> |-act_2: relu</span>"
      ],
      "text/plain": [
       "<IPython.core.display.HTML object>"
      ]
     },
     "metadata": {},
     "output_type": "display_data"
    },
    {
     "data": {
      "text/html": [
       "<span style=\"color:blue\"> |-act_3: relu</span>"
      ],
      "text/plain": [
       "<IPython.core.display.HTML object>"
      ]
     },
     "metadata": {},
     "output_type": "display_data"
    },
    {
     "data": {
      "text/html": [
       "<span style=\"color:cyan\"> |-dropout: 0.4</span>"
      ],
      "text/plain": [
       "<IPython.core.display.HTML object>"
      ]
     },
     "metadata": {},
     "output_type": "display_data"
    },
    {
     "data": {
      "text/html": [
       "<span style=\"color:blue\"> |-learning_rate: 0.01</span>"
      ],
      "text/plain": [
       "<IPython.core.display.HTML object>"
      ]
     },
     "metadata": {},
     "output_type": "display_data"
    },
    {
     "data": {
      "text/html": [
       "<span style=\"color:cyan\"> |-momentum: 0.5</span>"
      ],
      "text/plain": [
       "<IPython.core.display.HTML object>"
      ]
     },
     "metadata": {},
     "output_type": "display_data"
    },
    {
     "data": {
      "text/html": [
       "<span style=\"color:blue\"> |-num_layers: 3</span>"
      ],
      "text/plain": [
       "<IPython.core.display.HTML object>"
      ]
     },
     "metadata": {},
     "output_type": "display_data"
    },
    {
     "data": {
      "text/html": [
       "<span style=\"color:cyan\"> |-rho: 0.6500000000000001</span>"
      ],
      "text/plain": [
       "<IPython.core.display.HTML object>"
      ]
     },
     "metadata": {},
     "output_type": "display_data"
    },
    {
     "data": {
      "text/html": [
       "<span style=\"color:blue\"> |-units_0: 70</span>"
      ],
      "text/plain": [
       "<IPython.core.display.HTML object>"
      ]
     },
     "metadata": {},
     "output_type": "display_data"
    },
    {
     "data": {
      "text/html": [
       "<span style=\"color:cyan\"> |-units_1: 100</span>"
      ],
      "text/plain": [
       "<IPython.core.display.HTML object>"
      ]
     },
     "metadata": {},
     "output_type": "display_data"
    },
    {
     "data": {
      "text/html": [
       "<span style=\"color:blue\"> |-units_2: 100</span>"
      ],
      "text/plain": [
       "<IPython.core.display.HTML object>"
      ]
     },
     "metadata": {},
     "output_type": "display_data"
    },
    {
     "data": {
      "text/html": [
       "<span style=\"color:cyan\"> |-units_3: 70</span>"
      ],
      "text/plain": [
       "<IPython.core.display.HTML object>"
      ]
     },
     "metadata": {},
     "output_type": "display_data"
    },
    {
     "name": "stdout",
     "output_type": "stream",
     "text": [
      "Train on 125 samples, validate on 23 samples\n",
      "Epoch 1/5\n",
      "125/125 [==============================] - ETA: 1s - loss: 9.6499 - mean_squared_error: 9.64 - 0s 4ms/sample - loss: 11.8711 - mean_squared_error: 11.8711 - val_loss: 16.5528 - val_mean_squared_error: 16.5528\n",
      "Epoch 2/5\n",
      "125/125 [==============================] - ETA: 0s - loss: 8.6639 - mean_squared_error: 8.66 - 0s 408us/sample - loss: 6.1779 - mean_squared_error: 6.1779 - val_loss: 15.4342 - val_mean_squared_error: 15.4342\n",
      "Epoch 3/5\n",
      "125/125 [==============================] - ETA: 0s - loss: 3.2382 - mean_squared_error: 3.23 - 0s 212us/sample - loss: 3.5713 - mean_squared_error: 3.5713 - val_loss: 24.3977 - val_mean_squared_error: 24.3977\n",
      "Epoch 4/5\n",
      "125/125 [==============================] - ETA: 0s - loss: 3.0092 - mean_squared_error: 3.00 - 0s 211us/sample - loss: 2.2878 - mean_squared_error: 2.2878 - val_loss: 17.9765 - val_mean_squared_error: 17.9765\n",
      "Epoch 5/5\n",
      "125/125 [==============================] - ETA: 0s - loss: 1.6638 - mean_squared_error: 1.66 - 0s 388us/sample - loss: 1.7934 - mean_squared_error: 1.7934 - val_loss: 13.7960 - val_mean_squared_error: 13.7960\n",
      "Train on 125 samples, validate on 23 samples\n",
      "Epoch 1/5\n",
      "125/125 [==============================] - ETA: 1s - loss: 11.0637 - mean_squared_error: 11.06 - 0s 4ms/sample - loss: 9.0238 - mean_squared_error: 9.0238 - val_loss: 25.0148 - val_mean_squared_error: 25.0148\n",
      "Epoch 2/5\n",
      "125/125 [==============================] - ETA: 0s - loss: 13.9863 - mean_squared_error: 13.98 - 0s 214us/sample - loss: 8.2978 - mean_squared_error: 8.2978 - val_loss: 14.7854 - val_mean_squared_error: 14.7854\n",
      "Epoch 3/5\n",
      "125/125 [==============================] - ETA: 0s - loss: 2.8519 - mean_squared_error: 2.85 - 0s 394us/sample - loss: 3.5966 - mean_squared_error: 3.5966 - val_loss: 12.2743 - val_mean_squared_error: 12.2743\n",
      "Epoch 4/5\n",
      "125/125 [==============================] - ETA: 0s - loss: 2.0199 - mean_squared_error: 2.01 - 0s 404us/sample - loss: 1.8153 - mean_squared_error: 1.8153 - val_loss: 12.1943 - val_mean_squared_error: 12.1943\n",
      "Epoch 5/5\n",
      "125/125 [==============================] - ETA: 0s - loss: 1.3013 - mean_squared_error: 1.30 - 0s 212us/sample - loss: 1.3698 - mean_squared_error: 1.3698 - val_loss: 13.7349 - val_mean_squared_error: 13.7349\n",
      "Train on 125 samples, validate on 23 samples\n",
      "Epoch 1/5\n",
      "125/125 [==============================] - ETA: 1s - loss: 9.3828 - mean_squared_error: 9.38 - 0s 4ms/sample - loss: 9.7263 - mean_squared_error: 9.7263 - val_loss: 30.2064 - val_mean_squared_error: 30.2064\n",
      "Epoch 2/5\n",
      "125/125 [==============================] - ETA: 0s - loss: 11.7048 - mean_squared_error: 11.70 - 0s 220us/sample - loss: 6.8545 - mean_squared_error: 6.8545 - val_loss: 19.3423 - val_mean_squared_error: 19.3423\n",
      "Epoch 3/5\n",
      "125/125 [==============================] - ETA: 0s - loss: 8.6193 - mean_squared_error: 8.61 - 0s 210us/sample - loss: 5.4740 - mean_squared_error: 5.4740 - val_loss: 14.6761 - val_mean_squared_error: 14.6761\n",
      "Epoch 4/5\n",
      "125/125 [==============================] - ETA: 0s - loss: 3.8318 - mean_squared_error: 3.83 - 0s 212us/sample - loss: 4.5163 - mean_squared_error: 4.5163 - val_loss: 13.7179 - val_mean_squared_error: 13.7179\n",
      "Epoch 5/5\n",
      "125/125 [==============================] - ETA: 0s - loss: 3.2519 - mean_squared_error: 3.25 - 0s 201us/sample - loss: 2.4587 - mean_squared_error: 2.4587 - val_loss: 12.4919 - val_mean_squared_error: 12.4919\n"
     ]
    },
    {
     "data": {
      "text/html": [
       "<span style=\"color:#4527A0\"><h1 style=\"font-size:18px\">Trial complete</h1></span>"
      ],
      "text/plain": [
       "<IPython.core.display.HTML object>"
      ]
     },
     "metadata": {},
     "output_type": "display_data"
    },
    {
     "data": {
      "text/html": [
       "<span style=\"color:#4527A0\"><h1 style=\"font-size:18px\">Trial summary</h1></span>"
      ],
      "text/plain": [
       "<IPython.core.display.HTML object>"
      ]
     },
     "metadata": {},
     "output_type": "display_data"
    },
    {
     "data": {
      "text/html": [
       "<span style=\"color:cyan\"> |-Trial ID: db6b620cb7608cc17ec7708d1b895bab</span>"
      ],
      "text/plain": [
       "<IPython.core.display.HTML object>"
      ]
     },
     "metadata": {},
     "output_type": "display_data"
    },
    {
     "data": {
      "text/html": [
       "<span style=\"color:cyan\"> |-Score: 12.827407836914062</span>"
      ],
      "text/plain": [
       "<IPython.core.display.HTML object>"
      ]
     },
     "metadata": {},
     "output_type": "display_data"
    },
    {
     "data": {
      "text/html": [
       "<span style=\"color:cyan\"> |-Best step: 0</span>"
      ],
      "text/plain": [
       "<IPython.core.display.HTML object>"
      ]
     },
     "metadata": {},
     "output_type": "display_data"
    },
    {
     "data": {
      "text/html": [
       "<span style=\"color:#7E57C2\"><h2 style=\"font-size:16px\">Hyperparameters:</h2></span>"
      ],
      "text/plain": [
       "<IPython.core.display.HTML object>"
      ]
     },
     "metadata": {},
     "output_type": "display_data"
    },
    {
     "data": {
      "text/html": [
       "<span style=\"color:cyan\"> |-act_0: relu</span>"
      ],
      "text/plain": [
       "<IPython.core.display.HTML object>"
      ]
     },
     "metadata": {},
     "output_type": "display_data"
    },
    {
     "data": {
      "text/html": [
       "<span style=\"color:blue\"> |-act_1: relu</span>"
      ],
      "text/plain": [
       "<IPython.core.display.HTML object>"
      ]
     },
     "metadata": {},
     "output_type": "display_data"
    },
    {
     "data": {
      "text/html": [
       "<span style=\"color:cyan\"> |-act_2: relu</span>"
      ],
      "text/plain": [
       "<IPython.core.display.HTML object>"
      ]
     },
     "metadata": {},
     "output_type": "display_data"
    },
    {
     "data": {
      "text/html": [
       "<span style=\"color:blue\"> |-act_3: relu</span>"
      ],
      "text/plain": [
       "<IPython.core.display.HTML object>"
      ]
     },
     "metadata": {},
     "output_type": "display_data"
    },
    {
     "data": {
      "text/html": [
       "<span style=\"color:cyan\"> |-dropout: 0.2</span>"
      ],
      "text/plain": [
       "<IPython.core.display.HTML object>"
      ]
     },
     "metadata": {},
     "output_type": "display_data"
    },
    {
     "data": {
      "text/html": [
       "<span style=\"color:blue\"> |-learning_rate: 0.001</span>"
      ],
      "text/plain": [
       "<IPython.core.display.HTML object>"
      ]
     },
     "metadata": {},
     "output_type": "display_data"
    },
    {
     "data": {
      "text/html": [
       "<span style=\"color:cyan\"> |-momentum: 0.45</span>"
      ],
      "text/plain": [
       "<IPython.core.display.HTML object>"
      ]
     },
     "metadata": {},
     "output_type": "display_data"
    },
    {
     "data": {
      "text/html": [
       "<span style=\"color:blue\"> |-num_layers: 3</span>"
      ],
      "text/plain": [
       "<IPython.core.display.HTML object>"
      ]
     },
     "metadata": {},
     "output_type": "display_data"
    },
    {
     "data": {
      "text/html": [
       "<span style=\"color:cyan\"> |-rho: 0.9000000000000004</span>"
      ],
      "text/plain": [
       "<IPython.core.display.HTML object>"
      ]
     },
     "metadata": {},
     "output_type": "display_data"
    },
    {
     "data": {
      "text/html": [
       "<span style=\"color:blue\"> |-units_0: 80</span>"
      ],
      "text/plain": [
       "<IPython.core.display.HTML object>"
      ]
     },
     "metadata": {},
     "output_type": "display_data"
    },
    {
     "data": {
      "text/html": [
       "<span style=\"color:cyan\"> |-units_1: 90</span>"
      ],
      "text/plain": [
       "<IPython.core.display.HTML object>"
      ]
     },
     "metadata": {},
     "output_type": "display_data"
    },
    {
     "data": {
      "text/html": [
       "<span style=\"color:blue\"> |-units_2: 90</span>"
      ],
      "text/plain": [
       "<IPython.core.display.HTML object>"
      ]
     },
     "metadata": {},
     "output_type": "display_data"
    },
    {
     "data": {
      "text/html": [
       "<span style=\"color:cyan\"> |-units_3: 30</span>"
      ],
      "text/plain": [
       "<IPython.core.display.HTML object>"
      ]
     },
     "metadata": {},
     "output_type": "display_data"
    },
    {
     "name": "stdout",
     "output_type": "stream",
     "text": [
      "Train on 125 samples, validate on 23 samples\n",
      "Epoch 1/5\n",
      "125/125 [==============================] - ETA: 0s - loss: 15.2219 - mean_squared_error: 15.22 - 0s 3ms/sample - loss: 14.2330 - mean_squared_error: 14.2330 - val_loss: 13.8357 - val_mean_squared_error: 13.8357\n",
      "Epoch 2/5\n",
      "125/125 [==============================] - ETA: 0s - loss: 15.2336 - mean_squared_error: 15.23 - 0s 368us/sample - loss: 11.7965 - mean_squared_error: 11.7965 - val_loss: 12.5024 - val_mean_squared_error: 12.5024\n",
      "Epoch 3/5\n",
      "125/125 [==============================] - ETA: 0s - loss: 14.6302 - mean_squared_error: 14.63 - 0s 349us/sample - loss: 10.1343 - mean_squared_error: 10.1343 - val_loss: 11.4784 - val_mean_squared_error: 11.4784\n",
      "Epoch 4/5\n",
      "125/125 [==============================] - ETA: 0s - loss: 11.1076 - mean_squared_error: 11.10 - 0s 355us/sample - loss: 8.5077 - mean_squared_error: 8.5077 - val_loss: 10.9674 - val_mean_squared_error: 10.9674\n",
      "Epoch 5/5\n",
      "125/125 [==============================] - ETA: 0s - loss: 7.5605 - mean_squared_error: 7.56 - 0s 350us/sample - loss: 7.9008 - mean_squared_error: 7.9008 - val_loss: 10.7781 - val_mean_squared_error: 10.7781\n",
      "Train on 125 samples, validate on 23 samples\n",
      "Epoch 1/5\n",
      "125/125 [==============================] - ETA: 0s - loss: 13.0464 - mean_squared_error: 13.04 - 0s 3ms/sample - loss: 12.6946 - mean_squared_error: 12.6946 - val_loss: 15.8360 - val_mean_squared_error: 15.8360\n",
      "Epoch 2/5\n",
      "125/125 [==============================] - ETA: 0s - loss: 8.5564 - mean_squared_error: 8.55 - 0s 203us/sample - loss: 8.6308 - mean_squared_error: 8.6308 - val_loss: 15.0803 - val_mean_squared_error: 15.0803\n",
      "Epoch 3/5\n",
      "125/125 [==============================] - ETA: 0s - loss: 5.9472 - mean_squared_error: 5.94 - 0s 190us/sample - loss: 8.4288 - mean_squared_error: 8.4288 - val_loss: 14.6185 - val_mean_squared_error: 14.6185\n",
      "Epoch 4/5\n",
      "125/125 [==============================] - ETA: 0s - loss: 8.3614 - mean_squared_error: 8.36 - 0s 198us/sample - loss: 7.0617 - mean_squared_error: 7.0617 - val_loss: 14.3460 - val_mean_squared_error: 14.3460\n",
      "Epoch 5/5\n",
      "125/125 [==============================] - ETA: 0s - loss: 7.1896 - mean_squared_error: 7.18 - 0s 191us/sample - loss: 6.1882 - mean_squared_error: 6.1882 - val_loss: 14.2589 - val_mean_squared_error: 14.2589\n",
      "Train on 125 samples, validate on 23 samples\n",
      "Epoch 1/5\n",
      "125/125 [==============================] - ETA: 0s - loss: 8.1978 - mean_squared_error: 8.19 - 0s 3ms/sample - loss: 9.0744 - mean_squared_error: 9.0744 - val_loss: 7.0370 - val_mean_squared_error: 7.0370\n",
      "Epoch 2/5\n",
      "125/125 [==============================] - ETA: 0s - loss: 8.3233 - mean_squared_error: 8.32 - 0s 205us/sample - loss: 7.2735 - mean_squared_error: 7.2735 - val_loss: 7.9362 - val_mean_squared_error: 7.9362\n",
      "Epoch 3/5\n",
      "125/125 [==============================] - ETA: 0s - loss: 4.6988 - mean_squared_error: 4.69 - 0s 198us/sample - loss: 5.4651 - mean_squared_error: 5.4651 - val_loss: 8.1242 - val_mean_squared_error: 8.1242\n",
      "Epoch 4/5\n",
      "125/125 [==============================] - ETA: 0s - loss: 6.2110 - mean_squared_error: 6.21 - 0s 194us/sample - loss: 4.6132 - mean_squared_error: 4.6132 - val_loss: 8.9074 - val_mean_squared_error: 8.9074\n",
      "Epoch 5/5\n",
      "125/125 [==============================] - ETA: 0s - loss: 4.5153 - mean_squared_error: 4.51 - 0s 190us/sample - loss: 4.3971 - mean_squared_error: 4.3971 - val_loss: 8.9587 - val_mean_squared_error: 8.9587\n"
     ]
    },
    {
     "data": {
      "text/html": [
       "<span style=\"color:#4527A0\"><h1 style=\"font-size:18px\">Trial complete</h1></span>"
      ],
      "text/plain": [
       "<IPython.core.display.HTML object>"
      ]
     },
     "metadata": {},
     "output_type": "display_data"
    },
    {
     "data": {
      "text/html": [
       "<span style=\"color:#4527A0\"><h1 style=\"font-size:18px\">Trial summary</h1></span>"
      ],
      "text/plain": [
       "<IPython.core.display.HTML object>"
      ]
     },
     "metadata": {},
     "output_type": "display_data"
    },
    {
     "data": {
      "text/html": [
       "<span style=\"color:cyan\"> |-Trial ID: 9f9eb7bc5c49169356856ae8ca674d3c</span>"
      ],
      "text/plain": [
       "<IPython.core.display.HTML object>"
      ]
     },
     "metadata": {},
     "output_type": "display_data"
    },
    {
     "data": {
      "text/html": [
       "<span style=\"color:cyan\"> |-Score: 10.691332817077637</span>"
      ],
      "text/plain": [
       "<IPython.core.display.HTML object>"
      ]
     },
     "metadata": {},
     "output_type": "display_data"
    },
    {
     "data": {
      "text/html": [
       "<span style=\"color:cyan\"> |-Best step: 0</span>"
      ],
      "text/plain": [
       "<IPython.core.display.HTML object>"
      ]
     },
     "metadata": {},
     "output_type": "display_data"
    },
    {
     "data": {
      "text/html": [
       "<span style=\"color:#7E57C2\"><h2 style=\"font-size:16px\">Hyperparameters:</h2></span>"
      ],
      "text/plain": [
       "<IPython.core.display.HTML object>"
      ]
     },
     "metadata": {},
     "output_type": "display_data"
    },
    {
     "data": {
      "text/html": [
       "<span style=\"color:cyan\"> |-act_0: relu</span>"
      ],
      "text/plain": [
       "<IPython.core.display.HTML object>"
      ]
     },
     "metadata": {},
     "output_type": "display_data"
    },
    {
     "data": {
      "text/html": [
       "<span style=\"color:blue\"> |-act_1: relu</span>"
      ],
      "text/plain": [
       "<IPython.core.display.HTML object>"
      ]
     },
     "metadata": {},
     "output_type": "display_data"
    },
    {
     "data": {
      "text/html": [
       "<span style=\"color:cyan\"> |-act_2: relu</span>"
      ],
      "text/plain": [
       "<IPython.core.display.HTML object>"
      ]
     },
     "metadata": {},
     "output_type": "display_data"
    },
    {
     "data": {
      "text/html": [
       "<span style=\"color:blue\"> |-act_3: relu</span>"
      ],
      "text/plain": [
       "<IPython.core.display.HTML object>"
      ]
     },
     "metadata": {},
     "output_type": "display_data"
    },
    {
     "data": {
      "text/html": [
       "<span style=\"color:cyan\"> |-dropout: 0.4</span>"
      ],
      "text/plain": [
       "<IPython.core.display.HTML object>"
      ]
     },
     "metadata": {},
     "output_type": "display_data"
    },
    {
     "data": {
      "text/html": [
       "<span style=\"color:blue\"> |-learning_rate: 0.0001</span>"
      ],
      "text/plain": [
       "<IPython.core.display.HTML object>"
      ]
     },
     "metadata": {},
     "output_type": "display_data"
    },
    {
     "data": {
      "text/html": [
       "<span style=\"color:cyan\"> |-momentum: 0.1</span>"
      ],
      "text/plain": [
       "<IPython.core.display.HTML object>"
      ]
     },
     "metadata": {},
     "output_type": "display_data"
    },
    {
     "data": {
      "text/html": [
       "<span style=\"color:blue\"> |-num_layers: 2</span>"
      ],
      "text/plain": [
       "<IPython.core.display.HTML object>"
      ]
     },
     "metadata": {},
     "output_type": "display_data"
    },
    {
     "data": {
      "text/html": [
       "<span style=\"color:cyan\"> |-rho: 0.8000000000000003</span>"
      ],
      "text/plain": [
       "<IPython.core.display.HTML object>"
      ]
     },
     "metadata": {},
     "output_type": "display_data"
    },
    {
     "data": {
      "text/html": [
       "<span style=\"color:blue\"> |-units_0: 60</span>"
      ],
      "text/plain": [
       "<IPython.core.display.HTML object>"
      ]
     },
     "metadata": {},
     "output_type": "display_data"
    },
    {
     "data": {
      "text/html": [
       "<span style=\"color:cyan\"> |-units_1: 90</span>"
      ],
      "text/plain": [
       "<IPython.core.display.HTML object>"
      ]
     },
     "metadata": {},
     "output_type": "display_data"
    },
    {
     "data": {
      "text/html": [
       "<span style=\"color:blue\"> |-units_2: 80</span>"
      ],
      "text/plain": [
       "<IPython.core.display.HTML object>"
      ]
     },
     "metadata": {},
     "output_type": "display_data"
    },
    {
     "data": {
      "text/html": [
       "<span style=\"color:cyan\"> |-units_3: 50</span>"
      ],
      "text/plain": [
       "<IPython.core.display.HTML object>"
      ]
     },
     "metadata": {},
     "output_type": "display_data"
    },
    {
     "name": "stdout",
     "output_type": "stream",
     "text": [
      "Train on 125 samples, validate on 23 samples\n",
      "Epoch 1/5\n",
      "125/125 [==============================] - ETA: 1s - loss: 9.3318 - mean_squared_error: 9.33 - 0s 4ms/sample - loss: 9.3796 - mean_squared_error: 9.3796 - val_loss: 11.9802 - val_mean_squared_error: 11.9802\n",
      "Epoch 2/5\n",
      "125/125 [==============================] - ETA: 0s - loss: 4.4391 - mean_squared_error: 4.43 - 0s 219us/sample - loss: 5.7802 - mean_squared_error: 5.7802 - val_loss: 12.5075 - val_mean_squared_error: 12.5075\n",
      "Epoch 3/5\n",
      "125/125 [==============================] - ETA: 0s - loss: 3.3338 - mean_squared_error: 3.33 - 0s 228us/sample - loss: 4.1603 - mean_squared_error: 4.1603 - val_loss: 12.8981 - val_mean_squared_error: 12.8981\n",
      "Epoch 4/5\n",
      "125/125 [==============================] - ETA: 0s - loss: 3.0773 - mean_squared_error: 3.07 - 0s 212us/sample - loss: 2.8107 - mean_squared_error: 2.8107 - val_loss: 13.6266 - val_mean_squared_error: 13.6266\n",
      "Epoch 5/5\n",
      "125/125 [==============================] - ETA: 0s - loss: 1.7177 - mean_squared_error: 1.71 - 0s 196us/sample - loss: 2.1211 - mean_squared_error: 2.1211 - val_loss: 14.1562 - val_mean_squared_error: 14.1562\n",
      "Train on 125 samples, validate on 23 samples\n",
      "Epoch 1/5\n",
      "125/125 [==============================] - ETA: 1s - loss: 9.0298 - mean_squared_error: 9.02 - 0s 4ms/sample - loss: 11.1101 - mean_squared_error: 11.1101 - val_loss: 10.3864 - val_mean_squared_error: 10.3864\n",
      "Epoch 2/5\n",
      "125/125 [==============================] - ETA: 0s - loss: 7.5638 - mean_squared_error: 7.56 - 0s 216us/sample - loss: 6.2616 - mean_squared_error: 6.2616 - val_loss: 11.0929 - val_mean_squared_error: 11.0929\n",
      "Epoch 3/5\n",
      "125/125 [==============================] - ETA: 0s - loss: 3.6927 - mean_squared_error: 3.69 - 0s 207us/sample - loss: 4.3757 - mean_squared_error: 4.3757 - val_loss: 11.4130 - val_mean_squared_error: 11.4130\n",
      "Epoch 4/5\n",
      "125/125 [==============================] - ETA: 0s - loss: 2.4383 - mean_squared_error: 2.43 - 0s 209us/sample - loss: 2.8912 - mean_squared_error: 2.8912 - val_loss: 12.1142 - val_mean_squared_error: 12.1142\n",
      "Epoch 5/5\n",
      "125/125 [==============================] - ETA: 0s - loss: 2.0795 - mean_squared_error: 2.07 - 0s 204us/sample - loss: 1.9968 - mean_squared_error: 1.9968 - val_loss: 12.9740 - val_mean_squared_error: 12.9740\n",
      "Train on 125 samples, validate on 23 samples\n",
      "Epoch 1/5\n",
      "125/125 [==============================] - ETA: 1s - loss: 12.0446 - mean_squared_error: 12.04 - 0s 4ms/sample - loss: 10.8933 - mean_squared_error: 10.8933 - val_loss: 12.0104 - val_mean_squared_error: 12.0104\n",
      "Epoch 2/5\n",
      "125/125 [==============================] - ETA: 0s - loss: 4.4276 - mean_squared_error: 4.42 - 0s 227us/sample - loss: 7.5520 - mean_squared_error: 7.5520 - val_loss: 11.8490 - val_mean_squared_error: 11.8490\n",
      "Epoch 3/5\n",
      "125/125 [==============================] - ETA: 0s - loss: 5.9508 - mean_squared_error: 5.95 - 0s 226us/sample - loss: 5.8670 - mean_squared_error: 5.8670 - val_loss: 11.8463 - val_mean_squared_error: 11.8463\n",
      "Epoch 4/5\n",
      "125/125 [==============================] - ETA: 0s - loss: 4.3551 - mean_squared_error: 4.35 - 0s 214us/sample - loss: 4.5011 - mean_squared_error: 4.5011 - val_loss: 11.7754 - val_mean_squared_error: 11.7754\n",
      "Epoch 5/5\n",
      "125/125 [==============================] - ETA: 0s - loss: 3.6561 - mean_squared_error: 3.65 - 0s 202us/sample - loss: 3.6849 - mean_squared_error: 3.6849 - val_loss: 11.9842 - val_mean_squared_error: 11.9842\n"
     ]
    },
    {
     "data": {
      "text/html": [
       "<span style=\"color:#4527A0\"><h1 style=\"font-size:18px\">Trial complete</h1></span>"
      ],
      "text/plain": [
       "<IPython.core.display.HTML object>"
      ]
     },
     "metadata": {},
     "output_type": "display_data"
    },
    {
     "data": {
      "text/html": [
       "<span style=\"color:#4527A0\"><h1 style=\"font-size:18px\">Trial summary</h1></span>"
      ],
      "text/plain": [
       "<IPython.core.display.HTML object>"
      ]
     },
     "metadata": {},
     "output_type": "display_data"
    },
    {
     "data": {
      "text/html": [
       "<span style=\"color:cyan\"> |-Trial ID: bb7f8eaa272c66e28c95e284925b700a</span>"
      ],
      "text/plain": [
       "<IPython.core.display.HTML object>"
      ]
     },
     "metadata": {},
     "output_type": "display_data"
    },
    {
     "data": {
      "text/html": [
       "<span style=\"color:cyan\"> |-Score: 11.380661010742188</span>"
      ],
      "text/plain": [
       "<IPython.core.display.HTML object>"
      ]
     },
     "metadata": {},
     "output_type": "display_data"
    },
    {
     "data": {
      "text/html": [
       "<span style=\"color:cyan\"> |-Best step: 0</span>"
      ],
      "text/plain": [
       "<IPython.core.display.HTML object>"
      ]
     },
     "metadata": {},
     "output_type": "display_data"
    },
    {
     "data": {
      "text/html": [
       "<span style=\"color:#7E57C2\"><h2 style=\"font-size:16px\">Hyperparameters:</h2></span>"
      ],
      "text/plain": [
       "<IPython.core.display.HTML object>"
      ]
     },
     "metadata": {},
     "output_type": "display_data"
    },
    {
     "data": {
      "text/html": [
       "<span style=\"color:cyan\"> |-act_0: relu</span>"
      ],
      "text/plain": [
       "<IPython.core.display.HTML object>"
      ]
     },
     "metadata": {},
     "output_type": "display_data"
    },
    {
     "data": {
      "text/html": [
       "<span style=\"color:blue\"> |-act_1: relu</span>"
      ],
      "text/plain": [
       "<IPython.core.display.HTML object>"
      ]
     },
     "metadata": {},
     "output_type": "display_data"
    },
    {
     "data": {
      "text/html": [
       "<span style=\"color:cyan\"> |-act_2: relu</span>"
      ],
      "text/plain": [
       "<IPython.core.display.HTML object>"
      ]
     },
     "metadata": {},
     "output_type": "display_data"
    },
    {
     "data": {
      "text/html": [
       "<span style=\"color:blue\"> |-act_3: relu</span>"
      ],
      "text/plain": [
       "<IPython.core.display.HTML object>"
      ]
     },
     "metadata": {},
     "output_type": "display_data"
    },
    {
     "data": {
      "text/html": [
       "<span style=\"color:cyan\"> |-dropout: 0.1</span>"
      ],
      "text/plain": [
       "<IPython.core.display.HTML object>"
      ]
     },
     "metadata": {},
     "output_type": "display_data"
    },
    {
     "data": {
      "text/html": [
       "<span style=\"color:blue\"> |-learning_rate: 0.0001</span>"
      ],
      "text/plain": [
       "<IPython.core.display.HTML object>"
      ]
     },
     "metadata": {},
     "output_type": "display_data"
    },
    {
     "data": {
      "text/html": [
       "<span style=\"color:cyan\"> |-momentum: 0.15000000000000002</span>"
      ],
      "text/plain": [
       "<IPython.core.display.HTML object>"
      ]
     },
     "metadata": {},
     "output_type": "display_data"
    },
    {
     "data": {
      "text/html": [
       "<span style=\"color:blue\"> |-num_layers: 3</span>"
      ],
      "text/plain": [
       "<IPython.core.display.HTML object>"
      ]
     },
     "metadata": {},
     "output_type": "display_data"
    },
    {
     "data": {
      "text/html": [
       "<span style=\"color:cyan\"> |-rho: 0.8500000000000003</span>"
      ],
      "text/plain": [
       "<IPython.core.display.HTML object>"
      ]
     },
     "metadata": {},
     "output_type": "display_data"
    },
    {
     "data": {
      "text/html": [
       "<span style=\"color:blue\"> |-units_0: 100</span>"
      ],
      "text/plain": [
       "<IPython.core.display.HTML object>"
      ]
     },
     "metadata": {},
     "output_type": "display_data"
    },
    {
     "data": {
      "text/html": [
       "<span style=\"color:cyan\"> |-units_1: 60</span>"
      ],
      "text/plain": [
       "<IPython.core.display.HTML object>"
      ]
     },
     "metadata": {},
     "output_type": "display_data"
    },
    {
     "data": {
      "text/html": [
       "<span style=\"color:blue\"> |-units_2: 80</span>"
      ],
      "text/plain": [
       "<IPython.core.display.HTML object>"
      ]
     },
     "metadata": {},
     "output_type": "display_data"
    },
    {
     "data": {
      "text/html": [
       "<span style=\"color:cyan\"> |-units_3: 60</span>"
      ],
      "text/plain": [
       "<IPython.core.display.HTML object>"
      ]
     },
     "metadata": {},
     "output_type": "display_data"
    },
    {
     "name": "stdout",
     "output_type": "stream",
     "text": [
      "Train on 125 samples, validate on 23 samples\n",
      "Epoch 1/5\n",
      "125/125 [==============================] - ETA: 0s - loss: 8.9377 - mean_squared_error: 8.93 - 0s 4ms/sample - loss: 20.4244 - mean_squared_error: 20.4244 - val_loss: 20.5237 - val_mean_squared_error: 20.5237\n",
      "Epoch 2/5\n",
      "125/125 [==============================] - ETA: 0s - loss: 20.2059 - mean_squared_error: 20.20 - 0s 402us/sample - loss: 14.5866 - mean_squared_error: 14.5866 - val_loss: 12.4208 - val_mean_squared_error: 12.4208\n",
      "Epoch 3/5\n",
      "125/125 [==============================] - ETA: 0s - loss: 6.5056 - mean_squared_error: 6.50 - 0s 407us/sample - loss: 6.9786 - mean_squared_error: 6.9786 - val_loss: 9.9559 - val_mean_squared_error: 9.9559\n",
      "Epoch 4/5\n",
      "125/125 [==============================] - ETA: 0s - loss: 7.9328 - mean_squared_error: 7.93 - 0s 218us/sample - loss: 4.8368 - mean_squared_error: 4.8368 - val_loss: 12.1239 - val_mean_squared_error: 12.1239\n",
      "Epoch 5/5\n",
      "125/125 [==============================] - ETA: 0s - loss: 5.8816 - mean_squared_error: 5.88 - 0s 380us/sample - loss: 5.1354 - mean_squared_error: 5.1354 - val_loss: 8.8867 - val_mean_squared_error: 8.8867\n",
      "Train on 125 samples, validate on 23 samples\n",
      "Epoch 1/5\n",
      "125/125 [==============================] - ETA: 0s - loss: 12.2773 - mean_squared_error: 12.27 - 0s 3ms/sample - loss: 20.4471 - mean_squared_error: 20.4471 - val_loss: 35.0169 - val_mean_squared_error: 35.0169\n",
      "Epoch 2/5\n",
      "125/125 [==============================] - ETA: 0s - loss: 13.5360 - mean_squared_error: 13.53 - 0s 202us/sample - loss: 11.9366 - mean_squared_error: 11.9366 - val_loss: 20.7956 - val_mean_squared_error: 20.7956\n",
      "Epoch 3/5\n",
      "125/125 [==============================] - ETA: 0s - loss: 10.7323 - mean_squared_error: 10.73 - 0s 198us/sample - loss: 9.0130 - mean_squared_error: 9.0130 - val_loss: 15.9483 - val_mean_squared_error: 15.9483\n",
      "Epoch 4/5\n",
      "125/125 [==============================] - ETA: 0s - loss: 6.2303 - mean_squared_error: 6.23 - 0s 210us/sample - loss: 5.8814 - mean_squared_error: 5.8814 - val_loss: 16.3793 - val_mean_squared_error: 16.3793\n",
      "Epoch 5/5\n",
      "125/125 [==============================] - ETA: 0s - loss: 4.0370 - mean_squared_error: 4.03 - 0s 204us/sample - loss: 3.5934 - mean_squared_error: 3.5934 - val_loss: 14.9250 - val_mean_squared_error: 14.9250\n",
      "Train on 125 samples, validate on 23 samples\n",
      "Epoch 1/5\n",
      "125/125 [==============================] - ETA: 0s - loss: 8.6156 - mean_squared_error: 8.61 - 0s 3ms/sample - loss: 27.2356 - mean_squared_error: 27.2356 - val_loss: 20.0539 - val_mean_squared_error: 20.0539\n",
      "Epoch 2/5\n",
      "125/125 [==============================] - ETA: 0s - loss: 34.1036 - mean_squared_error: 34.10 - 0s 213us/sample - loss: 18.7759 - mean_squared_error: 18.7759 - val_loss: 22.9611 - val_mean_squared_error: 22.9611\n",
      "Epoch 3/5\n",
      "125/125 [==============================] - ETA: 0s - loss: 6.8324 - mean_squared_error: 6.83 - 0s 200us/sample - loss: 8.3955 - mean_squared_error: 8.3955 - val_loss: 16.8933 - val_mean_squared_error: 16.8933\n",
      "Epoch 4/5\n",
      "125/125 [==============================] - ETA: 0s - loss: 6.5502 - mean_squared_error: 6.55 - 0s 191us/sample - loss: 5.2811 - mean_squared_error: 5.2811 - val_loss: 17.5060 - val_mean_squared_error: 17.5060\n",
      "Epoch 5/5\n",
      "125/125 [==============================] - ETA: 0s - loss: 5.1652 - mean_squared_error: 5.16 - 0s 196us/sample - loss: 3.9148 - mean_squared_error: 3.9148 - val_loss: 13.3693 - val_mean_squared_error: 13.3693\n"
     ]
    },
    {
     "data": {
      "text/html": [
       "<span style=\"color:#4527A0\"><h1 style=\"font-size:18px\">Trial complete</h1></span>"
      ],
      "text/plain": [
       "<IPython.core.display.HTML object>"
      ]
     },
     "metadata": {},
     "output_type": "display_data"
    },
    {
     "data": {
      "text/html": [
       "<span style=\"color:#4527A0\"><h1 style=\"font-size:18px\">Trial summary</h1></span>"
      ],
      "text/plain": [
       "<IPython.core.display.HTML object>"
      ]
     },
     "metadata": {},
     "output_type": "display_data"
    },
    {
     "data": {
      "text/html": [
       "<span style=\"color:cyan\"> |-Trial ID: 22c6de23290deb5f4fb4b765bc6d1e99</span>"
      ],
      "text/plain": [
       "<IPython.core.display.HTML object>"
      ]
     },
     "metadata": {},
     "output_type": "display_data"
    },
    {
     "data": {
      "text/html": [
       "<span style=\"color:cyan\"> |-Score: 12.39368724822998</span>"
      ],
      "text/plain": [
       "<IPython.core.display.HTML object>"
      ]
     },
     "metadata": {},
     "output_type": "display_data"
    },
    {
     "data": {
      "text/html": [
       "<span style=\"color:cyan\"> |-Best step: 0</span>"
      ],
      "text/plain": [
       "<IPython.core.display.HTML object>"
      ]
     },
     "metadata": {},
     "output_type": "display_data"
    },
    {
     "data": {
      "text/html": [
       "<span style=\"color:#7E57C2\"><h2 style=\"font-size:16px\">Hyperparameters:</h2></span>"
      ],
      "text/plain": [
       "<IPython.core.display.HTML object>"
      ]
     },
     "metadata": {},
     "output_type": "display_data"
    },
    {
     "data": {
      "text/html": [
       "<span style=\"color:cyan\"> |-act_0: relu</span>"
      ],
      "text/plain": [
       "<IPython.core.display.HTML object>"
      ]
     },
     "metadata": {},
     "output_type": "display_data"
    },
    {
     "data": {
      "text/html": [
       "<span style=\"color:blue\"> |-act_1: relu</span>"
      ],
      "text/plain": [
       "<IPython.core.display.HTML object>"
      ]
     },
     "metadata": {},
     "output_type": "display_data"
    },
    {
     "data": {
      "text/html": [
       "<span style=\"color:cyan\"> |-act_2: relu</span>"
      ],
      "text/plain": [
       "<IPython.core.display.HTML object>"
      ]
     },
     "metadata": {},
     "output_type": "display_data"
    },
    {
     "data": {
      "text/html": [
       "<span style=\"color:blue\"> |-act_3: relu</span>"
      ],
      "text/plain": [
       "<IPython.core.display.HTML object>"
      ]
     },
     "metadata": {},
     "output_type": "display_data"
    },
    {
     "data": {
      "text/html": [
       "<span style=\"color:cyan\"> |-dropout: 0.2</span>"
      ],
      "text/plain": [
       "<IPython.core.display.HTML object>"
      ]
     },
     "metadata": {},
     "output_type": "display_data"
    },
    {
     "data": {
      "text/html": [
       "<span style=\"color:blue\"> |-learning_rate: 0.001</span>"
      ],
      "text/plain": [
       "<IPython.core.display.HTML object>"
      ]
     },
     "metadata": {},
     "output_type": "display_data"
    },
    {
     "data": {
      "text/html": [
       "<span style=\"color:cyan\"> |-momentum: 0.2</span>"
      ],
      "text/plain": [
       "<IPython.core.display.HTML object>"
      ]
     },
     "metadata": {},
     "output_type": "display_data"
    },
    {
     "data": {
      "text/html": [
       "<span style=\"color:blue\"> |-num_layers: 2</span>"
      ],
      "text/plain": [
       "<IPython.core.display.HTML object>"
      ]
     },
     "metadata": {},
     "output_type": "display_data"
    },
    {
     "data": {
      "text/html": [
       "<span style=\"color:cyan\"> |-rho: 0.9000000000000004</span>"
      ],
      "text/plain": [
       "<IPython.core.display.HTML object>"
      ]
     },
     "metadata": {},
     "output_type": "display_data"
    },
    {
     "data": {
      "text/html": [
       "<span style=\"color:blue\"> |-units_0: 100</span>"
      ],
      "text/plain": [
       "<IPython.core.display.HTML object>"
      ]
     },
     "metadata": {},
     "output_type": "display_data"
    },
    {
     "data": {
      "text/html": [
       "<span style=\"color:cyan\"> |-units_1: 50</span>"
      ],
      "text/plain": [
       "<IPython.core.display.HTML object>"
      ]
     },
     "metadata": {},
     "output_type": "display_data"
    },
    {
     "data": {
      "text/html": [
       "<span style=\"color:blue\"> |-units_2: 100</span>"
      ],
      "text/plain": [
       "<IPython.core.display.HTML object>"
      ]
     },
     "metadata": {},
     "output_type": "display_data"
    },
    {
     "data": {
      "text/html": [
       "<span style=\"color:cyan\"> |-units_3: 40</span>"
      ],
      "text/plain": [
       "<IPython.core.display.HTML object>"
      ]
     },
     "metadata": {},
     "output_type": "display_data"
    },
    {
     "name": "stdout",
     "output_type": "stream",
     "text": [
      "Train on 125 samples, validate on 23 samples\n",
      "Epoch 1/5\n",
      "125/125 [==============================] - ETA: 0s - loss: 12.3775 - mean_squared_error: 12.37 - 0s 4ms/sample - loss: 9.6307 - mean_squared_error: 9.6307 - val_loss: 9.2871 - val_mean_squared_error: 9.2871\n",
      "Epoch 2/5\n",
      "125/125 [==============================] - ETA: 0s - loss: 11.3398 - mean_squared_error: 11.33 - 0s 215us/sample - loss: 7.9826 - mean_squared_error: 7.9826 - val_loss: 9.4562 - val_mean_squared_error: 9.4562\n",
      "Epoch 3/5\n",
      "125/125 [==============================] - ETA: 0s - loss: 8.0284 - mean_squared_error: 8.02 - 0s 192us/sample - loss: 6.7231 - mean_squared_error: 6.7231 - val_loss: 9.4068 - val_mean_squared_error: 9.4068\n",
      "Epoch 4/5\n",
      "125/125 [==============================] - ETA: 0s - loss: 4.4840 - mean_squared_error: 4.48 - 0s 201us/sample - loss: 6.1086 - mean_squared_error: 6.1086 - val_loss: 9.4851 - val_mean_squared_error: 9.4851\n",
      "Epoch 5/5\n",
      "125/125 [==============================] - ETA: 0s - loss: 6.0641 - mean_squared_error: 6.06 - 0s 194us/sample - loss: 5.3889 - mean_squared_error: 5.3889 - val_loss: 9.7293 - val_mean_squared_error: 9.7293\n",
      "Train on 125 samples, validate on 23 samples\n",
      "Epoch 1/5\n",
      "125/125 [==============================] - ETA: 0s - loss: 10.8466 - mean_squared_error: 10.84 - 0s 3ms/sample - loss: 10.5868 - mean_squared_error: 10.5868 - val_loss: 10.2299 - val_mean_squared_error: 10.2299\n",
      "Epoch 2/5\n",
      "125/125 [==============================] - ETA: 0s - loss: 5.4269 - mean_squared_error: 5.42 - 0s 198us/sample - loss: 8.2587 - mean_squared_error: 8.2587 - val_loss: 10.2146 - val_mean_squared_error: 10.2146\n",
      "Epoch 3/5\n",
      "125/125 [==============================] - ETA: 0s - loss: 7.9486 - mean_squared_error: 7.94 - 0s 202us/sample - loss: 7.1662 - mean_squared_error: 7.1662 - val_loss: 10.4029 - val_mean_squared_error: 10.4029\n",
      "Epoch 4/5\n",
      "125/125 [==============================] - ETA: 0s - loss: 8.7021 - mean_squared_error: 8.70 - 0s 203us/sample - loss: 6.3854 - mean_squared_error: 6.3854 - val_loss: 10.5816 - val_mean_squared_error: 10.5816\n",
      "Epoch 5/5\n",
      "125/125 [==============================] - ETA: 0s - loss: 4.9604 - mean_squared_error: 4.96 - 0s 197us/sample - loss: 5.7547 - mean_squared_error: 5.7547 - val_loss: 10.7567 - val_mean_squared_error: 10.7567\n",
      "Train on 125 samples, validate on 23 samples\n",
      "Epoch 1/5\n",
      "125/125 [==============================] - ETA: 0s - loss: 5.3468 - mean_squared_error: 5.34 - 0s 3ms/sample - loss: 10.6405 - mean_squared_error: 10.6405 - val_loss: 10.0786 - val_mean_squared_error: 10.0786\n",
      "Epoch 2/5\n",
      "125/125 [==============================] - ETA: 0s - loss: 10.6409 - mean_squared_error: 10.64 - 0s 213us/sample - loss: 8.5235 - mean_squared_error: 8.5235 - val_loss: 10.1899 - val_mean_squared_error: 10.1899\n",
      "Epoch 3/5\n",
      "125/125 [==============================] - ETA: 0s - loss: 9.3207 - mean_squared_error: 9.32 - 0s 200us/sample - loss: 7.5275 - mean_squared_error: 7.5275 - val_loss: 10.1784 - val_mean_squared_error: 10.1784\n",
      "Epoch 4/5\n",
      "125/125 [==============================] - ETA: 0s - loss: 6.3698 - mean_squared_error: 6.36 - 0s 202us/sample - loss: 5.8454 - mean_squared_error: 5.8454 - val_loss: 10.3032 - val_mean_squared_error: 10.3032\n",
      "Epoch 5/5\n",
      "125/125 [==============================] - ETA: 0s - loss: 4.5023 - mean_squared_error: 4.50 - 0s 195us/sample - loss: 5.4986 - mean_squared_error: 5.4986 - val_loss: 10.2430 - val_mean_squared_error: 10.2430\n"
     ]
    },
    {
     "data": {
      "text/html": [
       "<span style=\"color:#4527A0\"><h1 style=\"font-size:18px\">Trial complete</h1></span>"
      ],
      "text/plain": [
       "<IPython.core.display.HTML object>"
      ]
     },
     "metadata": {},
     "output_type": "display_data"
    },
    {
     "data": {
      "text/html": [
       "<span style=\"color:#4527A0\"><h1 style=\"font-size:18px\">Trial summary</h1></span>"
      ],
      "text/plain": [
       "<IPython.core.display.HTML object>"
      ]
     },
     "metadata": {},
     "output_type": "display_data"
    },
    {
     "data": {
      "text/html": [
       "<span style=\"color:cyan\"> |-Trial ID: 01a5fe3ee01d9e9e626a3a0bac688c37</span>"
      ],
      "text/plain": [
       "<IPython.core.display.HTML object>"
      ]
     },
     "metadata": {},
     "output_type": "display_data"
    },
    {
     "data": {
      "text/html": [
       "<span style=\"color:cyan\"> |-Score: 9.860108375549316</span>"
      ],
      "text/plain": [
       "<IPython.core.display.HTML object>"
      ]
     },
     "metadata": {},
     "output_type": "display_data"
    },
    {
     "data": {
      "text/html": [
       "<span style=\"color:cyan\"> |-Best step: 0</span>"
      ],
      "text/plain": [
       "<IPython.core.display.HTML object>"
      ]
     },
     "metadata": {},
     "output_type": "display_data"
    },
    {
     "data": {
      "text/html": [
       "<span style=\"color:#7E57C2\"><h2 style=\"font-size:16px\">Hyperparameters:</h2></span>"
      ],
      "text/plain": [
       "<IPython.core.display.HTML object>"
      ]
     },
     "metadata": {},
     "output_type": "display_data"
    },
    {
     "data": {
      "text/html": [
       "<span style=\"color:cyan\"> |-act_0: tanh</span>"
      ],
      "text/plain": [
       "<IPython.core.display.HTML object>"
      ]
     },
     "metadata": {},
     "output_type": "display_data"
    },
    {
     "data": {
      "text/html": [
       "<span style=\"color:blue\"> |-act_1: relu</span>"
      ],
      "text/plain": [
       "<IPython.core.display.HTML object>"
      ]
     },
     "metadata": {},
     "output_type": "display_data"
    },
    {
     "data": {
      "text/html": [
       "<span style=\"color:cyan\"> |-act_2: relu</span>"
      ],
      "text/plain": [
       "<IPython.core.display.HTML object>"
      ]
     },
     "metadata": {},
     "output_type": "display_data"
    },
    {
     "data": {
      "text/html": [
       "<span style=\"color:blue\"> |-act_3: relu</span>"
      ],
      "text/plain": [
       "<IPython.core.display.HTML object>"
      ]
     },
     "metadata": {},
     "output_type": "display_data"
    },
    {
     "data": {
      "text/html": [
       "<span style=\"color:cyan\"> |-dropout: 0.30000000000000004</span>"
      ],
      "text/plain": [
       "<IPython.core.display.HTML object>"
      ]
     },
     "metadata": {},
     "output_type": "display_data"
    },
    {
     "data": {
      "text/html": [
       "<span style=\"color:blue\"> |-learning_rate: 0.0001</span>"
      ],
      "text/plain": [
       "<IPython.core.display.HTML object>"
      ]
     },
     "metadata": {},
     "output_type": "display_data"
    },
    {
     "data": {
      "text/html": [
       "<span style=\"color:cyan\"> |-momentum: 0.1</span>"
      ],
      "text/plain": [
       "<IPython.core.display.HTML object>"
      ]
     },
     "metadata": {},
     "output_type": "display_data"
    },
    {
     "data": {
      "text/html": [
       "<span style=\"color:blue\"> |-num_layers: 2</span>"
      ],
      "text/plain": [
       "<IPython.core.display.HTML object>"
      ]
     },
     "metadata": {},
     "output_type": "display_data"
    },
    {
     "data": {
      "text/html": [
       "<span style=\"color:cyan\"> |-rho: 0.8500000000000003</span>"
      ],
      "text/plain": [
       "<IPython.core.display.HTML object>"
      ]
     },
     "metadata": {},
     "output_type": "display_data"
    },
    {
     "data": {
      "text/html": [
       "<span style=\"color:blue\"> |-units_0: 70</span>"
      ],
      "text/plain": [
       "<IPython.core.display.HTML object>"
      ]
     },
     "metadata": {},
     "output_type": "display_data"
    },
    {
     "data": {
      "text/html": [
       "<span style=\"color:cyan\"> |-units_1: 80</span>"
      ],
      "text/plain": [
       "<IPython.core.display.HTML object>"
      ]
     },
     "metadata": {},
     "output_type": "display_data"
    },
    {
     "data": {
      "text/html": [
       "<span style=\"color:blue\"> |-units_2: 70</span>"
      ],
      "text/plain": [
       "<IPython.core.display.HTML object>"
      ]
     },
     "metadata": {},
     "output_type": "display_data"
    },
    {
     "data": {
      "text/html": [
       "<span style=\"color:cyan\"> |-units_3: 80</span>"
      ],
      "text/plain": [
       "<IPython.core.display.HTML object>"
      ]
     },
     "metadata": {},
     "output_type": "display_data"
    },
    {
     "name": "stdout",
     "output_type": "stream",
     "text": [
      "Train on 125 samples, validate on 23 samples\n",
      "Epoch 1/5\n",
      "125/125 [==============================] - ETA: 1s - loss: 7.5321 - mean_squared_error: 7.53 - 0s 4ms/sample - loss: 10.4029 - mean_squared_error: 10.4029 - val_loss: 10.8480 - val_mean_squared_error: 10.8480\n",
      "Epoch 2/5\n",
      "125/125 [==============================] - ETA: 0s - loss: 7.7724 - mean_squared_error: 7.77 - 0s 215us/sample - loss: 8.7384 - mean_squared_error: 8.7384 - val_loss: 10.9242 - val_mean_squared_error: 10.9242\n",
      "Epoch 3/5\n",
      "125/125 [==============================] - ETA: 0s - loss: 8.7365 - mean_squared_error: 8.73 - 0s 206us/sample - loss: 7.6759 - mean_squared_error: 7.6759 - val_loss: 10.8957 - val_mean_squared_error: 10.8957\n",
      "Epoch 4/5\n",
      "125/125 [==============================] - ETA: 0s - loss: 6.5733 - mean_squared_error: 6.57 - 0s 204us/sample - loss: 6.9629 - mean_squared_error: 6.9629 - val_loss: 10.9937 - val_mean_squared_error: 10.9937\n",
      "Epoch 5/5\n",
      "125/125 [==============================] - ETA: 0s - loss: 7.3151 - mean_squared_error: 7.31 - 0s 192us/sample - loss: 6.3882 - mean_squared_error: 6.3882 - val_loss: 11.0532 - val_mean_squared_error: 11.0532\n",
      "Train on 125 samples, validate on 23 samples\n",
      "Epoch 1/5\n",
      "125/125 [==============================] - ETA: 1s - loss: 10.9853 - mean_squared_error: 10.98 - 0s 4ms/sample - loss: 9.8114 - mean_squared_error: 9.8114 - val_loss: 9.1973 - val_mean_squared_error: 9.1973\n",
      "Epoch 2/5\n",
      "125/125 [==============================] - ETA: 0s - loss: 6.6010 - mean_squared_error: 6.60 - 0s 389us/sample - loss: 7.9816 - mean_squared_error: 7.9816 - val_loss: 9.1258 - val_mean_squared_error: 9.1258\n",
      "Epoch 3/5\n",
      "125/125 [==============================] - ETA: 0s - loss: 6.1089 - mean_squared_error: 6.10 - 0s 380us/sample - loss: 7.2213 - mean_squared_error: 7.2213 - val_loss: 9.1081 - val_mean_squared_error: 9.1081\n",
      "Epoch 4/5\n",
      "125/125 [==============================] - ETA: 0s - loss: 7.4420 - mean_squared_error: 7.44 - 0s 389us/sample - loss: 6.3913 - mean_squared_error: 6.3913 - val_loss: 9.0269 - val_mean_squared_error: 9.0269\n",
      "Epoch 5/5\n",
      "125/125 [==============================] - ETA: 0s - loss: 4.8507 - mean_squared_error: 4.85 - 0s 372us/sample - loss: 5.7643 - mean_squared_error: 5.7643 - val_loss: 8.8527 - val_mean_squared_error: 8.8527\n",
      "Train on 125 samples, validate on 23 samples\n",
      "Epoch 1/5\n",
      "125/125 [==============================] - ETA: 1s - loss: 9.2814 - mean_squared_error: 9.28 - 0s 4ms/sample - loss: 8.8275 - mean_squared_error: 8.8275 - val_loss: 9.1595 - val_mean_squared_error: 9.1595\n",
      "Epoch 2/5\n",
      "125/125 [==============================] - ETA: 0s - loss: 7.7952 - mean_squared_error: 7.79 - 0s 215us/sample - loss: 6.9911 - mean_squared_error: 6.9911 - val_loss: 9.3665 - val_mean_squared_error: 9.3665\n",
      "Epoch 3/5\n",
      "125/125 [==============================] - ETA: 0s - loss: 6.5412 - mean_squared_error: 6.54 - 0s 195us/sample - loss: 6.0980 - mean_squared_error: 6.0980 - val_loss: 9.4727 - val_mean_squared_error: 9.4727\n",
      "Epoch 4/5\n",
      "125/125 [==============================] - ETA: 0s - loss: 4.3460 - mean_squared_error: 4.34 - 0s 205us/sample - loss: 5.3475 - mean_squared_error: 5.3475 - val_loss: 9.6111 - val_mean_squared_error: 9.6111\n",
      "Epoch 5/5\n",
      "125/125 [==============================] - ETA: 0s - loss: 5.4212 - mean_squared_error: 5.42 - 0s 199us/sample - loss: 4.8864 - mean_squared_error: 4.8864 - val_loss: 9.8683 - val_mean_squared_error: 9.8683\n"
     ]
    },
    {
     "data": {
      "text/html": [
       "<span style=\"color:#4527A0\"><h1 style=\"font-size:18px\">Trial complete</h1></span>"
      ],
      "text/plain": [
       "<IPython.core.display.HTML object>"
      ]
     },
     "metadata": {},
     "output_type": "display_data"
    },
    {
     "data": {
      "text/html": [
       "<span style=\"color:#4527A0\"><h1 style=\"font-size:18px\">Trial summary</h1></span>"
      ],
      "text/plain": [
       "<IPython.core.display.HTML object>"
      ]
     },
     "metadata": {},
     "output_type": "display_data"
    },
    {
     "data": {
      "text/html": [
       "<span style=\"color:cyan\"> |-Trial ID: 221ed24c6db2e82865a13ba5afb14b7b</span>"
      ],
      "text/plain": [
       "<IPython.core.display.HTML object>"
      ]
     },
     "metadata": {},
     "output_type": "display_data"
    },
    {
     "data": {
      "text/html": [
       "<span style=\"color:cyan\"> |-Score: 9.620059967041016</span>"
      ],
      "text/plain": [
       "<IPython.core.display.HTML object>"
      ]
     },
     "metadata": {},
     "output_type": "display_data"
    },
    {
     "data": {
      "text/html": [
       "<span style=\"color:cyan\"> |-Best step: 0</span>"
      ],
      "text/plain": [
       "<IPython.core.display.HTML object>"
      ]
     },
     "metadata": {},
     "output_type": "display_data"
    },
    {
     "data": {
      "text/html": [
       "<span style=\"color:#7E57C2\"><h2 style=\"font-size:16px\">Hyperparameters:</h2></span>"
      ],
      "text/plain": [
       "<IPython.core.display.HTML object>"
      ]
     },
     "metadata": {},
     "output_type": "display_data"
    },
    {
     "data": {
      "text/html": [
       "<span style=\"color:cyan\"> |-act_0: tanh</span>"
      ],
      "text/plain": [
       "<IPython.core.display.HTML object>"
      ]
     },
     "metadata": {},
     "output_type": "display_data"
    },
    {
     "data": {
      "text/html": [
       "<span style=\"color:blue\"> |-act_1: tanh</span>"
      ],
      "text/plain": [
       "<IPython.core.display.HTML object>"
      ]
     },
     "metadata": {},
     "output_type": "display_data"
    },
    {
     "data": {
      "text/html": [
       "<span style=\"color:cyan\"> |-act_2: relu</span>"
      ],
      "text/plain": [
       "<IPython.core.display.HTML object>"
      ]
     },
     "metadata": {},
     "output_type": "display_data"
    },
    {
     "data": {
      "text/html": [
       "<span style=\"color:blue\"> |-act_3: tanh</span>"
      ],
      "text/plain": [
       "<IPython.core.display.HTML object>"
      ]
     },
     "metadata": {},
     "output_type": "display_data"
    },
    {
     "data": {
      "text/html": [
       "<span style=\"color:cyan\"> |-dropout: 0.2</span>"
      ],
      "text/plain": [
       "<IPython.core.display.HTML object>"
      ]
     },
     "metadata": {},
     "output_type": "display_data"
    },
    {
     "data": {
      "text/html": [
       "<span style=\"color:blue\"> |-learning_rate: 0.0001</span>"
      ],
      "text/plain": [
       "<IPython.core.display.HTML object>"
      ]
     },
     "metadata": {},
     "output_type": "display_data"
    },
    {
     "data": {
      "text/html": [
       "<span style=\"color:cyan\"> |-momentum: 0.1</span>"
      ],
      "text/plain": [
       "<IPython.core.display.HTML object>"
      ]
     },
     "metadata": {},
     "output_type": "display_data"
    },
    {
     "data": {
      "text/html": [
       "<span style=\"color:blue\"> |-num_layers: 3</span>"
      ],
      "text/plain": [
       "<IPython.core.display.HTML object>"
      ]
     },
     "metadata": {},
     "output_type": "display_data"
    },
    {
     "data": {
      "text/html": [
       "<span style=\"color:cyan\"> |-rho: 0.8500000000000003</span>"
      ],
      "text/plain": [
       "<IPython.core.display.HTML object>"
      ]
     },
     "metadata": {},
     "output_type": "display_data"
    },
    {
     "data": {
      "text/html": [
       "<span style=\"color:blue\"> |-units_0: 60</span>"
      ],
      "text/plain": [
       "<IPython.core.display.HTML object>"
      ]
     },
     "metadata": {},
     "output_type": "display_data"
    },
    {
     "data": {
      "text/html": [
       "<span style=\"color:cyan\"> |-units_1: 80</span>"
      ],
      "text/plain": [
       "<IPython.core.display.HTML object>"
      ]
     },
     "metadata": {},
     "output_type": "display_data"
    },
    {
     "data": {
      "text/html": [
       "<span style=\"color:blue\"> |-units_2: 80</span>"
      ],
      "text/plain": [
       "<IPython.core.display.HTML object>"
      ]
     },
     "metadata": {},
     "output_type": "display_data"
    },
    {
     "data": {
      "text/html": [
       "<span style=\"color:cyan\"> |-units_3: 70</span>"
      ],
      "text/plain": [
       "<IPython.core.display.HTML object>"
      ]
     },
     "metadata": {},
     "output_type": "display_data"
    },
    {
     "name": "stdout",
     "output_type": "stream",
     "text": [
      "Train on 125 samples, validate on 23 samples\n",
      "Epoch 1/5\n",
      "125/125 [==============================] - ETA: 0s - loss: 9.8602 - mean_squared_error: 9.86 - 0s 4ms/sample - loss: 9.5255 - mean_squared_error: 9.5254 - val_loss: 11.2550 - val_mean_squared_error: 11.2550\n",
      "Epoch 2/5\n",
      "125/125 [==============================] - ETA: 0s - loss: 8.4744 - mean_squared_error: 8.47 - 0s 207us/sample - loss: 7.3836 - mean_squared_error: 7.3836 - val_loss: 11.6323 - val_mean_squared_error: 11.6323\n",
      "Epoch 3/5\n",
      "125/125 [==============================] - ETA: 0s - loss: 6.7683 - mean_squared_error: 6.76 - 0s 202us/sample - loss: 6.1128 - mean_squared_error: 6.1128 - val_loss: 11.8494 - val_mean_squared_error: 11.8494\n",
      "Epoch 4/5\n",
      "125/125 [==============================] - ETA: 0s - loss: 4.4219 - mean_squared_error: 4.42 - 0s 200us/sample - loss: 5.3444 - mean_squared_error: 5.3444 - val_loss: 12.1717 - val_mean_squared_error: 12.1717\n",
      "Epoch 5/5\n",
      "125/125 [==============================] - ETA: 0s - loss: 5.1047 - mean_squared_error: 5.10 - 0s 198us/sample - loss: 4.6858 - mean_squared_error: 4.6858 - val_loss: 12.4484 - val_mean_squared_error: 12.4484\n",
      "Train on 125 samples, validate on 23 samples\n",
      "Epoch 1/5\n",
      "125/125 [==============================] - ETA: 0s - loss: 11.3863 - mean_squared_error: 11.38 - 0s 3ms/sample - loss: 10.1309 - mean_squared_error: 10.1309 - val_loss: 10.8028 - val_mean_squared_error: 10.8028\n",
      "Epoch 2/5\n",
      "125/125 [==============================] - ETA: 0s - loss: 6.2532 - mean_squared_error: 6.25 - 0s 207us/sample - loss: 7.1794 - mean_squared_error: 7.1794 - val_loss: 10.8753 - val_mean_squared_error: 10.8753\n",
      "Epoch 3/5\n",
      "125/125 [==============================] - ETA: 0s - loss: 4.4555 - mean_squared_error: 4.45 - 0s 202us/sample - loss: 5.5703 - mean_squared_error: 5.5703 - val_loss: 10.9427 - val_mean_squared_error: 10.9427\n",
      "Epoch 4/5\n",
      "125/125 [==============================] - ETA: 0s - loss: 6.7223 - mean_squared_error: 6.72 - 0s 192us/sample - loss: 4.7682 - mean_squared_error: 4.7682 - val_loss: 11.2167 - val_mean_squared_error: 11.2167\n",
      "Epoch 5/5\n",
      "125/125 [==============================] - ETA: 0s - loss: 3.9891 - mean_squared_error: 3.98 - 0s 188us/sample - loss: 3.9912 - mean_squared_error: 3.9912 - val_loss: 11.3682 - val_mean_squared_error: 11.3682\n",
      "Train on 125 samples, validate on 23 samples\n",
      "Epoch 1/5\n",
      "125/125 [==============================] - ETA: 0s - loss: 9.7073 - mean_squared_error: 9.70 - 0s 3ms/sample - loss: 10.3753 - mean_squared_error: 10.3753 - val_loss: 11.2760 - val_mean_squared_error: 11.2760\n",
      "Epoch 2/5\n",
      "125/125 [==============================] - ETA: 0s - loss: 8.5554 - mean_squared_error: 8.55 - 0s 202us/sample - loss: 7.7126 - mean_squared_error: 7.7126 - val_loss: 11.6506 - val_mean_squared_error: 11.6506\n",
      "Epoch 3/5\n",
      "125/125 [==============================] - ETA: 0s - loss: 6.5720 - mean_squared_error: 6.57 - 0s 203us/sample - loss: 6.5044 - mean_squared_error: 6.5044 - val_loss: 12.0292 - val_mean_squared_error: 12.0292\n",
      "Epoch 4/5\n",
      "125/125 [==============================] - ETA: 0s - loss: 5.0854 - mean_squared_error: 5.08 - 0s 191us/sample - loss: 5.8275 - mean_squared_error: 5.8275 - val_loss: 12.2917 - val_mean_squared_error: 12.2917\n",
      "Epoch 5/5\n",
      "125/125 [==============================] - ETA: 0s - loss: 6.4065 - mean_squared_error: 6.40 - 0s 194us/sample - loss: 5.0176 - mean_squared_error: 5.0176 - val_loss: 12.6196 - val_mean_squared_error: 12.6196\n"
     ]
    },
    {
     "data": {
      "text/html": [
       "<span style=\"color:#4527A0\"><h1 style=\"font-size:18px\">Trial complete</h1></span>"
      ],
      "text/plain": [
       "<IPython.core.display.HTML object>"
      ]
     },
     "metadata": {},
     "output_type": "display_data"
    },
    {
     "data": {
      "text/html": [
       "<span style=\"color:#4527A0\"><h1 style=\"font-size:18px\">Trial summary</h1></span>"
      ],
      "text/plain": [
       "<IPython.core.display.HTML object>"
      ]
     },
     "metadata": {},
     "output_type": "display_data"
    },
    {
     "data": {
      "text/html": [
       "<span style=\"color:cyan\"> |-Trial ID: 75fe7c1594093661efaf97c0ab77e35f</span>"
      ],
      "text/plain": [
       "<IPython.core.display.HTML object>"
      ]
     },
     "metadata": {},
     "output_type": "display_data"
    },
    {
     "data": {
      "text/html": [
       "<span style=\"color:cyan\"> |-Score: 11.111274719238281</span>"
      ],
      "text/plain": [
       "<IPython.core.display.HTML object>"
      ]
     },
     "metadata": {},
     "output_type": "display_data"
    },
    {
     "data": {
      "text/html": [
       "<span style=\"color:cyan\"> |-Best step: 0</span>"
      ],
      "text/plain": [
       "<IPython.core.display.HTML object>"
      ]
     },
     "metadata": {},
     "output_type": "display_data"
    },
    {
     "data": {
      "text/html": [
       "<span style=\"color:#7E57C2\"><h2 style=\"font-size:16px\">Hyperparameters:</h2></span>"
      ],
      "text/plain": [
       "<IPython.core.display.HTML object>"
      ]
     },
     "metadata": {},
     "output_type": "display_data"
    },
    {
     "data": {
      "text/html": [
       "<span style=\"color:cyan\"> |-act_0: tanh</span>"
      ],
      "text/plain": [
       "<IPython.core.display.HTML object>"
      ]
     },
     "metadata": {},
     "output_type": "display_data"
    },
    {
     "data": {
      "text/html": [
       "<span style=\"color:blue\"> |-act_1: tanh</span>"
      ],
      "text/plain": [
       "<IPython.core.display.HTML object>"
      ]
     },
     "metadata": {},
     "output_type": "display_data"
    },
    {
     "data": {
      "text/html": [
       "<span style=\"color:cyan\"> |-act_2: relu</span>"
      ],
      "text/plain": [
       "<IPython.core.display.HTML object>"
      ]
     },
     "metadata": {},
     "output_type": "display_data"
    },
    {
     "data": {
      "text/html": [
       "<span style=\"color:blue\"> |-act_3: tanh</span>"
      ],
      "text/plain": [
       "<IPython.core.display.HTML object>"
      ]
     },
     "metadata": {},
     "output_type": "display_data"
    },
    {
     "data": {
      "text/html": [
       "<span style=\"color:cyan\"> |-dropout: 0.1</span>"
      ],
      "text/plain": [
       "<IPython.core.display.HTML object>"
      ]
     },
     "metadata": {},
     "output_type": "display_data"
    },
    {
     "data": {
      "text/html": [
       "<span style=\"color:blue\"> |-learning_rate: 0.0001</span>"
      ],
      "text/plain": [
       "<IPython.core.display.HTML object>"
      ]
     },
     "metadata": {},
     "output_type": "display_data"
    },
    {
     "data": {
      "text/html": [
       "<span style=\"color:cyan\"> |-momentum: 0.1</span>"
      ],
      "text/plain": [
       "<IPython.core.display.HTML object>"
      ]
     },
     "metadata": {},
     "output_type": "display_data"
    },
    {
     "data": {
      "text/html": [
       "<span style=\"color:blue\"> |-num_layers: 2</span>"
      ],
      "text/plain": [
       "<IPython.core.display.HTML object>"
      ]
     },
     "metadata": {},
     "output_type": "display_data"
    },
    {
     "data": {
      "text/html": [
       "<span style=\"color:cyan\"> |-rho: 0.8500000000000003</span>"
      ],
      "text/plain": [
       "<IPython.core.display.HTML object>"
      ]
     },
     "metadata": {},
     "output_type": "display_data"
    },
    {
     "data": {
      "text/html": [
       "<span style=\"color:blue\"> |-units_0: 50</span>"
      ],
      "text/plain": [
       "<IPython.core.display.HTML object>"
      ]
     },
     "metadata": {},
     "output_type": "display_data"
    },
    {
     "data": {
      "text/html": [
       "<span style=\"color:cyan\"> |-units_1: 90</span>"
      ],
      "text/plain": [
       "<IPython.core.display.HTML object>"
      ]
     },
     "metadata": {},
     "output_type": "display_data"
    },
    {
     "data": {
      "text/html": [
       "<span style=\"color:blue\"> |-units_2: 70</span>"
      ],
      "text/plain": [
       "<IPython.core.display.HTML object>"
      ]
     },
     "metadata": {},
     "output_type": "display_data"
    },
    {
     "data": {
      "text/html": [
       "<span style=\"color:cyan\"> |-units_3: 90</span>"
      ],
      "text/plain": [
       "<IPython.core.display.HTML object>"
      ]
     },
     "metadata": {},
     "output_type": "display_data"
    },
    {
     "name": "stdout",
     "output_type": "stream",
     "text": [
      "Train on 125 samples, validate on 23 samples\n",
      "Epoch 1/5\n",
      "125/125 [==============================] - ETA: 1s - loss: 13.7104 - mean_squared_error: 13.71 - 0s 4ms/sample - loss: 180.2609 - mean_squared_error: 180.2609 - val_loss: 14.5607 - val_mean_squared_error: 14.5607\n",
      "Epoch 2/5\n",
      "125/125 [==============================] - ETA: 0s - loss: 25.7147 - mean_squared_error: 25.71 - 0s 370us/sample - loss: 16.1623 - mean_squared_error: 16.1623 - val_loss: 10.7381 - val_mean_squared_error: 10.7381\n",
      "Epoch 3/5\n",
      "125/125 [==============================] - ETA: 0s - loss: 5.5299 - mean_squared_error: 5.52 - 0s 213us/sample - loss: 4.6084 - mean_squared_error: 4.6084 - val_loss: 11.2790 - val_mean_squared_error: 11.2790\n",
      "Epoch 4/5\n",
      "125/125 [==============================] - ETA: 0s - loss: 2.9485 - mean_squared_error: 2.94 - 0s 375us/sample - loss: 3.5273 - mean_squared_error: 3.5273 - val_loss: 10.2388 - val_mean_squared_error: 10.2388\n",
      "Epoch 5/5\n",
      "125/125 [==============================] - ETA: 0s - loss: 2.0156 - mean_squared_error: 2.01 - 0s 204us/sample - loss: 3.7760 - mean_squared_error: 3.7760 - val_loss: 22.5215 - val_mean_squared_error: 22.5215\n",
      "Train on 125 samples, validate on 23 samples\n",
      "Epoch 1/5\n",
      "125/125 [==============================] - ETA: 1s - loss: 13.6799 - mean_squared_error: 13.67 - 0s 4ms/sample - loss: 577.8705 - mean_squared_error: 577.8705 - val_loss: 23.6852 - val_mean_squared_error: 23.6852\n",
      "Epoch 2/5\n",
      "125/125 [==============================] - ETA: 0s - loss: 18.1860 - mean_squared_error: 18.18 - 0s 204us/sample - loss: 14.1331 - mean_squared_error: 14.1331 - val_loss: 12.4931 - val_mean_squared_error: 12.4931\n",
      "Epoch 3/5\n",
      "125/125 [==============================] - ETA: 0s - loss: 7.1753 - mean_squared_error: 7.17 - 0s 382us/sample - loss: 5.7121 - mean_squared_error: 5.7121 - val_loss: 7.2962 - val_mean_squared_error: 7.2962\n",
      "Epoch 4/5\n",
      "125/125 [==============================] - ETA: 0s - loss: 2.6793 - mean_squared_error: 2.67 - 0s 206us/sample - loss: 4.5180 - mean_squared_error: 4.5180 - val_loss: 12.3791 - val_mean_squared_error: 12.3791\n",
      "Epoch 5/5\n",
      "125/125 [==============================] - ETA: 0s - loss: 2.2063 - mean_squared_error: 2.20 - 0s 200us/sample - loss: 15.5536 - mean_squared_error: 15.5536 - val_loss: 9.9658 - val_mean_squared_error: 9.9658\n",
      "Train on 125 samples, validate on 23 samples\n",
      "Epoch 1/5\n",
      "125/125 [==============================] - ETA: 1s - loss: 13.3875 - mean_squared_error: 13.38 - 0s 4ms/sample - loss: 423.9499 - mean_squared_error: 423.9498 - val_loss: 10.5706 - val_mean_squared_error: 10.5706\n",
      "Epoch 2/5\n",
      "125/125 [==============================] - ETA: 0s - loss: 17.1687 - mean_squared_error: 17.16 - 0s 201us/sample - loss: 11.6100 - mean_squared_error: 11.6100 - val_loss: 24.3059 - val_mean_squared_error: 24.3059\n",
      "Epoch 3/5\n",
      "125/125 [==============================] - ETA: 0s - loss: 4.3799 - mean_squared_error: 4.37 - 0s 207us/sample - loss: 5.6701 - mean_squared_error: 5.6701 - val_loss: 18.7476 - val_mean_squared_error: 18.7476\n",
      "Epoch 4/5\n",
      "125/125 [==============================] - ETA: 0s - loss: 6.0110 - mean_squared_error: 6.01 - 0s 205us/sample - loss: 4.7801 - mean_squared_error: 4.7801 - val_loss: 12.8220 - val_mean_squared_error: 12.8220\n",
      "Epoch 5/5\n",
      "125/125 [==============================] - ETA: 0s - loss: 5.1326 - mean_squared_error: 5.13 - 0s 197us/sample - loss: 10.7328 - mean_squared_error: 10.7328 - val_loss: 13.6613 - val_mean_squared_error: 13.6613\n"
     ]
    },
    {
     "data": {
      "text/html": [
       "<span style=\"color:#4527A0\"><h1 style=\"font-size:18px\">Trial complete</h1></span>"
      ],
      "text/plain": [
       "<IPython.core.display.HTML object>"
      ]
     },
     "metadata": {},
     "output_type": "display_data"
    },
    {
     "data": {
      "text/html": [
       "<span style=\"color:#4527A0\"><h1 style=\"font-size:18px\">Trial summary</h1></span>"
      ],
      "text/plain": [
       "<IPython.core.display.HTML object>"
      ]
     },
     "metadata": {},
     "output_type": "display_data"
    },
    {
     "data": {
      "text/html": [
       "<span style=\"color:cyan\"> |-Trial ID: 88c45c4a2dade0044b19923ce9bfcc09</span>"
      ],
      "text/plain": [
       "<IPython.core.display.HTML object>"
      ]
     },
     "metadata": {},
     "output_type": "display_data"
    },
    {
     "data": {
      "text/html": [
       "<span style=\"color:cyan\"> |-Score: 9.368535995483398</span>"
      ],
      "text/plain": [
       "<IPython.core.display.HTML object>"
      ]
     },
     "metadata": {},
     "output_type": "display_data"
    },
    {
     "data": {
      "text/html": [
       "<span style=\"color:cyan\"> |-Best step: 0</span>"
      ],
      "text/plain": [
       "<IPython.core.display.HTML object>"
      ]
     },
     "metadata": {},
     "output_type": "display_data"
    },
    {
     "data": {
      "text/html": [
       "<span style=\"color:#7E57C2\"><h2 style=\"font-size:16px\">Hyperparameters:</h2></span>"
      ],
      "text/plain": [
       "<IPython.core.display.HTML object>"
      ]
     },
     "metadata": {},
     "output_type": "display_data"
    },
    {
     "data": {
      "text/html": [
       "<span style=\"color:cyan\"> |-act_0: relu</span>"
      ],
      "text/plain": [
       "<IPython.core.display.HTML object>"
      ]
     },
     "metadata": {},
     "output_type": "display_data"
    },
    {
     "data": {
      "text/html": [
       "<span style=\"color:blue\"> |-act_1: relu</span>"
      ],
      "text/plain": [
       "<IPython.core.display.HTML object>"
      ]
     },
     "metadata": {},
     "output_type": "display_data"
    },
    {
     "data": {
      "text/html": [
       "<span style=\"color:cyan\"> |-act_2: relu</span>"
      ],
      "text/plain": [
       "<IPython.core.display.HTML object>"
      ]
     },
     "metadata": {},
     "output_type": "display_data"
    },
    {
     "data": {
      "text/html": [
       "<span style=\"color:blue\"> |-act_3: relu</span>"
      ],
      "text/plain": [
       "<IPython.core.display.HTML object>"
      ]
     },
     "metadata": {},
     "output_type": "display_data"
    },
    {
     "data": {
      "text/html": [
       "<span style=\"color:cyan\"> |-dropout: 0.4</span>"
      ],
      "text/plain": [
       "<IPython.core.display.HTML object>"
      ]
     },
     "metadata": {},
     "output_type": "display_data"
    },
    {
     "data": {
      "text/html": [
       "<span style=\"color:blue\"> |-learning_rate: 0.01</span>"
      ],
      "text/plain": [
       "<IPython.core.display.HTML object>"
      ]
     },
     "metadata": {},
     "output_type": "display_data"
    },
    {
     "data": {
      "text/html": [
       "<span style=\"color:cyan\"> |-momentum: 0.05</span>"
      ],
      "text/plain": [
       "<IPython.core.display.HTML object>"
      ]
     },
     "metadata": {},
     "output_type": "display_data"
    },
    {
     "data": {
      "text/html": [
       "<span style=\"color:blue\"> |-num_layers: 3</span>"
      ],
      "text/plain": [
       "<IPython.core.display.HTML object>"
      ]
     },
     "metadata": {},
     "output_type": "display_data"
    },
    {
     "data": {
      "text/html": [
       "<span style=\"color:cyan\"> |-rho: 0.8000000000000003</span>"
      ],
      "text/plain": [
       "<IPython.core.display.HTML object>"
      ]
     },
     "metadata": {},
     "output_type": "display_data"
    },
    {
     "data": {
      "text/html": [
       "<span style=\"color:blue\"> |-units_0: 60</span>"
      ],
      "text/plain": [
       "<IPython.core.display.HTML object>"
      ]
     },
     "metadata": {},
     "output_type": "display_data"
    },
    {
     "data": {
      "text/html": [
       "<span style=\"color:cyan\"> |-units_1: 70</span>"
      ],
      "text/plain": [
       "<IPython.core.display.HTML object>"
      ]
     },
     "metadata": {},
     "output_type": "display_data"
    },
    {
     "data": {
      "text/html": [
       "<span style=\"color:blue\"> |-units_2: 70</span>"
      ],
      "text/plain": [
       "<IPython.core.display.HTML object>"
      ]
     },
     "metadata": {},
     "output_type": "display_data"
    },
    {
     "data": {
      "text/html": [
       "<span style=\"color:cyan\"> |-units_3: 40</span>"
      ],
      "text/plain": [
       "<IPython.core.display.HTML object>"
      ]
     },
     "metadata": {},
     "output_type": "display_data"
    },
    {
     "name": "stdout",
     "output_type": "stream",
     "text": [
      "Train on 125 samples, validate on 23 samples\n",
      "Epoch 1/5\n",
      "125/125 [==============================] - ETA: 1s - loss: 7.9355 - mean_squared_error: 7.93 - 0s 4ms/sample - loss: 10.1216 - mean_squared_error: 10.1216 - val_loss: 12.2495 - val_mean_squared_error: 12.2495\n",
      "Epoch 2/5\n",
      "125/125 [==============================] - ETA: 0s - loss: 6.6874 - mean_squared_error: 6.68 - 0s 224us/sample - loss: 6.8296 - mean_squared_error: 6.8296 - val_loss: 12.7896 - val_mean_squared_error: 12.7896\n",
      "Epoch 3/5\n",
      "125/125 [==============================] - ETA: 0s - loss: 3.4318 - mean_squared_error: 3.43 - 0s 185us/sample - loss: 5.9707 - mean_squared_error: 5.9707 - val_loss: 13.3155 - val_mean_squared_error: 13.3155\n",
      "Epoch 4/5\n",
      "125/125 [==============================] - ETA: 0s - loss: 4.7461 - mean_squared_error: 4.74 - 0s 196us/sample - loss: 4.7144 - mean_squared_error: 4.7144 - val_loss: 13.8268 - val_mean_squared_error: 13.8268\n",
      "Epoch 5/5\n",
      "125/125 [==============================] - ETA: 0s - loss: 3.7828 - mean_squared_error: 3.78 - 0s 188us/sample - loss: 4.0921 - mean_squared_error: 4.0921 - val_loss: 13.9098 - val_mean_squared_error: 13.9098\n",
      "Train on 125 samples, validate on 23 samples\n",
      "Epoch 1/5\n",
      "125/125 [==============================] - ETA: 1s - loss: 11.8340 - mean_squared_error: 11.83 - 0s 4ms/sample - loss: 10.7251 - mean_squared_error: 10.7251 - val_loss: 11.1421 - val_mean_squared_error: 11.1421\n",
      "Epoch 2/5\n",
      "125/125 [==============================] - ETA: 0s - loss: 5.9360 - mean_squared_error: 5.93 - 0s 206us/sample - loss: 6.9669 - mean_squared_error: 6.9669 - val_loss: 11.8394 - val_mean_squared_error: 11.8394\n",
      "Epoch 3/5\n",
      "125/125 [==============================] - ETA: 0s - loss: 4.7306 - mean_squared_error: 4.73 - 0s 183us/sample - loss: 5.7002 - mean_squared_error: 5.7002 - val_loss: 12.0459 - val_mean_squared_error: 12.0459\n",
      "Epoch 4/5\n",
      "125/125 [==============================] - ETA: 0s - loss: 4.5436 - mean_squared_error: 4.54 - 0s 190us/sample - loss: 4.5356 - mean_squared_error: 4.5356 - val_loss: 12.1835 - val_mean_squared_error: 12.1835\n",
      "Epoch 5/5\n",
      "125/125 [==============================] - ETA: 0s - loss: 3.7456 - mean_squared_error: 3.74 - 0s 189us/sample - loss: 3.9380 - mean_squared_error: 3.9380 - val_loss: 12.0851 - val_mean_squared_error: 12.0851\n",
      "Train on 125 samples, validate on 23 samples\n",
      "Epoch 1/5\n",
      "125/125 [==============================] - ETA: 1s - loss: 9.3081 - mean_squared_error: 9.30 - 0s 4ms/sample - loss: 10.3264 - mean_squared_error: 10.3264 - val_loss: 11.5203 - val_mean_squared_error: 11.5203\n",
      "Epoch 2/5\n",
      "125/125 [==============================] - ETA: 0s - loss: 6.0866 - mean_squared_error: 6.08 - 0s 202us/sample - loss: 7.1274 - mean_squared_error: 7.1274 - val_loss: 11.6178 - val_mean_squared_error: 11.6178\n",
      "Epoch 3/5\n",
      "125/125 [==============================] - ETA: 0s - loss: 5.7377 - mean_squared_error: 5.73 - 0s 193us/sample - loss: 6.0525 - mean_squared_error: 6.0525 - val_loss: 11.6878 - val_mean_squared_error: 11.6878\n",
      "Epoch 4/5\n",
      "125/125 [==============================] - ETA: 0s - loss: 4.0875 - mean_squared_error: 4.08 - 0s 188us/sample - loss: 5.1760 - mean_squared_error: 5.1760 - val_loss: 11.8727 - val_mean_squared_error: 11.8727\n",
      "Epoch 5/5\n",
      "125/125 [==============================] - ETA: 0s - loss: 3.4011 - mean_squared_error: 3.40 - 0s 182us/sample - loss: 4.4103 - mean_squared_error: 4.4103 - val_loss: 12.0671 - val_mean_squared_error: 12.0671\n"
     ]
    },
    {
     "data": {
      "text/html": [
       "<span style=\"color:#4527A0\"><h1 style=\"font-size:18px\">Trial complete</h1></span>"
      ],
      "text/plain": [
       "<IPython.core.display.HTML object>"
      ]
     },
     "metadata": {},
     "output_type": "display_data"
    },
    {
     "data": {
      "text/html": [
       "<span style=\"color:#4527A0\"><h1 style=\"font-size:18px\">Trial summary</h1></span>"
      ],
      "text/plain": [
       "<IPython.core.display.HTML object>"
      ]
     },
     "metadata": {},
     "output_type": "display_data"
    },
    {
     "data": {
      "text/html": [
       "<span style=\"color:cyan\"> |-Trial ID: 7dc6bb18f6829ffb92d806417b7b6fb4</span>"
      ],
      "text/plain": [
       "<IPython.core.display.HTML object>"
      ]
     },
     "metadata": {},
     "output_type": "display_data"
    },
    {
     "data": {
      "text/html": [
       "<span style=\"color:cyan\"> |-Score: 11.637317657470703</span>"
      ],
      "text/plain": [
       "<IPython.core.display.HTML object>"
      ]
     },
     "metadata": {},
     "output_type": "display_data"
    },
    {
     "data": {
      "text/html": [
       "<span style=\"color:cyan\"> |-Best step: 0</span>"
      ],
      "text/plain": [
       "<IPython.core.display.HTML object>"
      ]
     },
     "metadata": {},
     "output_type": "display_data"
    },
    {
     "data": {
      "text/html": [
       "<span style=\"color:#7E57C2\"><h2 style=\"font-size:16px\">Hyperparameters:</h2></span>"
      ],
      "text/plain": [
       "<IPython.core.display.HTML object>"
      ]
     },
     "metadata": {},
     "output_type": "display_data"
    },
    {
     "data": {
      "text/html": [
       "<span style=\"color:cyan\"> |-act_0: tanh</span>"
      ],
      "text/plain": [
       "<IPython.core.display.HTML object>"
      ]
     },
     "metadata": {},
     "output_type": "display_data"
    },
    {
     "data": {
      "text/html": [
       "<span style=\"color:blue\"> |-act_1: relu</span>"
      ],
      "text/plain": [
       "<IPython.core.display.HTML object>"
      ]
     },
     "metadata": {},
     "output_type": "display_data"
    },
    {
     "data": {
      "text/html": [
       "<span style=\"color:cyan\"> |-act_2: relu</span>"
      ],
      "text/plain": [
       "<IPython.core.display.HTML object>"
      ]
     },
     "metadata": {},
     "output_type": "display_data"
    },
    {
     "data": {
      "text/html": [
       "<span style=\"color:blue\"> |-act_3: relu</span>"
      ],
      "text/plain": [
       "<IPython.core.display.HTML object>"
      ]
     },
     "metadata": {},
     "output_type": "display_data"
    },
    {
     "data": {
      "text/html": [
       "<span style=\"color:cyan\"> |-dropout: 0.1</span>"
      ],
      "text/plain": [
       "<IPython.core.display.HTML object>"
      ]
     },
     "metadata": {},
     "output_type": "display_data"
    },
    {
     "data": {
      "text/html": [
       "<span style=\"color:blue\"> |-learning_rate: 0.0001</span>"
      ],
      "text/plain": [
       "<IPython.core.display.HTML object>"
      ]
     },
     "metadata": {},
     "output_type": "display_data"
    },
    {
     "data": {
      "text/html": [
       "<span style=\"color:cyan\"> |-momentum: 0.0</span>"
      ],
      "text/plain": [
       "<IPython.core.display.HTML object>"
      ]
     },
     "metadata": {},
     "output_type": "display_data"
    },
    {
     "data": {
      "text/html": [
       "<span style=\"color:blue\"> |-num_layers: 1</span>"
      ],
      "text/plain": [
       "<IPython.core.display.HTML object>"
      ]
     },
     "metadata": {},
     "output_type": "display_data"
    },
    {
     "data": {
      "text/html": [
       "<span style=\"color:cyan\"> |-rho: 0.9000000000000004</span>"
      ],
      "text/plain": [
       "<IPython.core.display.HTML object>"
      ]
     },
     "metadata": {},
     "output_type": "display_data"
    },
    {
     "data": {
      "text/html": [
       "<span style=\"color:blue\"> |-units_0: 30</span>"
      ],
      "text/plain": [
       "<IPython.core.display.HTML object>"
      ]
     },
     "metadata": {},
     "output_type": "display_data"
    },
    {
     "data": {
      "text/html": [
       "<span style=\"color:cyan\"> |-units_1: 50</span>"
      ],
      "text/plain": [
       "<IPython.core.display.HTML object>"
      ]
     },
     "metadata": {},
     "output_type": "display_data"
    },
    {
     "data": {
      "text/html": [
       "<span style=\"color:blue\"> |-units_2: 60</span>"
      ],
      "text/plain": [
       "<IPython.core.display.HTML object>"
      ]
     },
     "metadata": {},
     "output_type": "display_data"
    },
    {
     "data": {
      "text/html": [
       "<span style=\"color:cyan\"> |-units_3: 90</span>"
      ],
      "text/plain": [
       "<IPython.core.display.HTML object>"
      ]
     },
     "metadata": {},
     "output_type": "display_data"
    },
    {
     "name": "stdout",
     "output_type": "stream",
     "text": [
      "Train on 125 samples, validate on 23 samples\n",
      "Epoch 1/5\n",
      "125/125 [==============================] - ETA: 0s - loss: 11.2048 - mean_squared_error: 11.20 - 0s 3ms/sample - loss: 10.7553 - mean_squared_error: 10.7553 - val_loss: 12.6916 - val_mean_squared_error: 12.6916\n",
      "Epoch 2/5\n",
      "125/125 [==============================] - ETA: 0s - loss: 7.4855 - mean_squared_error: 7.48 - 0s 205us/sample - loss: 7.4694 - mean_squared_error: 7.4694 - val_loss: 13.6201 - val_mean_squared_error: 13.6201\n",
      "Epoch 3/5\n",
      "125/125 [==============================] - ETA: 0s - loss: 8.0114 - mean_squared_error: 8.01 - 0s 195us/sample - loss: 5.9032 - mean_squared_error: 5.9032 - val_loss: 14.3401 - val_mean_squared_error: 14.3401\n",
      "Epoch 4/5\n",
      "125/125 [==============================] - ETA: 0s - loss: 3.3018 - mean_squared_error: 3.30 - 0s 187us/sample - loss: 4.2358 - mean_squared_error: 4.2358 - val_loss: 14.7242 - val_mean_squared_error: 14.7242\n",
      "Epoch 5/5\n",
      "125/125 [==============================] - ETA: 0s - loss: 2.3758 - mean_squared_error: 2.37 - 0s 189us/sample - loss: 3.6930 - mean_squared_error: 3.6930 - val_loss: 14.6994 - val_mean_squared_error: 14.6994\n",
      "Train on 125 samples, validate on 23 samples\n",
      "Epoch 1/5\n",
      "125/125 [==============================] - ETA: 0s - loss: 14.0443 - mean_squared_error: 14.04 - 0s 3ms/sample - loss: 12.0137 - mean_squared_error: 12.0137 - val_loss: 12.7876 - val_mean_squared_error: 12.7876\n",
      "Epoch 2/5\n",
      "125/125 [==============================] - ETA: 0s - loss: 10.0693 - mean_squared_error: 10.06 - 0s 202us/sample - loss: 8.0026 - mean_squared_error: 8.0026 - val_loss: 12.8823 - val_mean_squared_error: 12.8823\n",
      "Epoch 3/5\n",
      "125/125 [==============================] - ETA: 0s - loss: 4.8250 - mean_squared_error: 4.82 - 0s 193us/sample - loss: 5.4451 - mean_squared_error: 5.4451 - val_loss: 12.9887 - val_mean_squared_error: 12.9887\n",
      "Epoch 4/5\n",
      "125/125 [==============================] - ETA: 0s - loss: 5.5124 - mean_squared_error: 5.51 - 0s 192us/sample - loss: 4.1664 - mean_squared_error: 4.1664 - val_loss: 13.8615 - val_mean_squared_error: 13.8615\n",
      "Epoch 5/5\n",
      "125/125 [==============================] - ETA: 0s - loss: 1.8792 - mean_squared_error: 1.87 - 0s 189us/sample - loss: 3.2155 - mean_squared_error: 3.2155 - val_loss: 13.6060 - val_mean_squared_error: 13.6060\n",
      "Train on 125 samples, validate on 23 samples\n",
      "Epoch 1/5\n",
      "125/125 [==============================] - ETA: 0s - loss: 8.0733 - mean_squared_error: 8.07 - 0s 3ms/sample - loss: 9.8373 - mean_squared_error: 9.8373 - val_loss: 13.3467 - val_mean_squared_error: 13.3467\n",
      "Epoch 2/5\n",
      "125/125 [==============================] - ETA: 0s - loss: 5.3758 - mean_squared_error: 5.37 - 0s 188us/sample - loss: 7.0659 - mean_squared_error: 7.0659 - val_loss: 14.8606 - val_mean_squared_error: 14.8606\n",
      "Epoch 3/5\n",
      "125/125 [==============================] - ETA: 0s - loss: 4.3030 - mean_squared_error: 4.30 - 0s 195us/sample - loss: 5.3767 - mean_squared_error: 5.3767 - val_loss: 14.9625 - val_mean_squared_error: 14.9625\n",
      "Epoch 4/5\n",
      "125/125 [==============================] - ETA: 0s - loss: 3.2809 - mean_squared_error: 3.28 - 0s 191us/sample - loss: 4.0798 - mean_squared_error: 4.0798 - val_loss: 15.8164 - val_mean_squared_error: 15.8164\n",
      "Epoch 5/5\n",
      "125/125 [==============================] - ETA: 0s - loss: 3.1307 - mean_squared_error: 3.13 - 0s 181us/sample - loss: 3.2898 - mean_squared_error: 3.2898 - val_loss: 16.1419 - val_mean_squared_error: 16.1419\n"
     ]
    },
    {
     "data": {
      "text/html": [
       "<span style=\"color:#4527A0\"><h1 style=\"font-size:18px\">Trial complete</h1></span>"
      ],
      "text/plain": [
       "<IPython.core.display.HTML object>"
      ]
     },
     "metadata": {},
     "output_type": "display_data"
    },
    {
     "data": {
      "text/html": [
       "<span style=\"color:#4527A0\"><h1 style=\"font-size:18px\">Trial summary</h1></span>"
      ],
      "text/plain": [
       "<IPython.core.display.HTML object>"
      ]
     },
     "metadata": {},
     "output_type": "display_data"
    },
    {
     "data": {
      "text/html": [
       "<span style=\"color:cyan\"> |-Trial ID: 5f0336b0a6b798d34a6a3a1e010a5f9b</span>"
      ],
      "text/plain": [
       "<IPython.core.display.HTML object>"
      ]
     },
     "metadata": {},
     "output_type": "display_data"
    },
    {
     "data": {
      "text/html": [
       "<span style=\"color:cyan\"> |-Score: 12.942008972167969</span>"
      ],
      "text/plain": [
       "<IPython.core.display.HTML object>"
      ]
     },
     "metadata": {},
     "output_type": "display_data"
    },
    {
     "data": {
      "text/html": [
       "<span style=\"color:cyan\"> |-Best step: 0</span>"
      ],
      "text/plain": [
       "<IPython.core.display.HTML object>"
      ]
     },
     "metadata": {},
     "output_type": "display_data"
    },
    {
     "data": {
      "text/html": [
       "<span style=\"color:#7E57C2\"><h2 style=\"font-size:16px\">Hyperparameters:</h2></span>"
      ],
      "text/plain": [
       "<IPython.core.display.HTML object>"
      ]
     },
     "metadata": {},
     "output_type": "display_data"
    },
    {
     "data": {
      "text/html": [
       "<span style=\"color:cyan\"> |-act_0: tanh</span>"
      ],
      "text/plain": [
       "<IPython.core.display.HTML object>"
      ]
     },
     "metadata": {},
     "output_type": "display_data"
    },
    {
     "data": {
      "text/html": [
       "<span style=\"color:blue\"> |-act_1: relu</span>"
      ],
      "text/plain": [
       "<IPython.core.display.HTML object>"
      ]
     },
     "metadata": {},
     "output_type": "display_data"
    },
    {
     "data": {
      "text/html": [
       "<span style=\"color:cyan\"> |-act_2: relu</span>"
      ],
      "text/plain": [
       "<IPython.core.display.HTML object>"
      ]
     },
     "metadata": {},
     "output_type": "display_data"
    },
    {
     "data": {
      "text/html": [
       "<span style=\"color:blue\"> |-act_3: relu</span>"
      ],
      "text/plain": [
       "<IPython.core.display.HTML object>"
      ]
     },
     "metadata": {},
     "output_type": "display_data"
    },
    {
     "data": {
      "text/html": [
       "<span style=\"color:cyan\"> |-dropout: 0.2</span>"
      ],
      "text/plain": [
       "<IPython.core.display.HTML object>"
      ]
     },
     "metadata": {},
     "output_type": "display_data"
    },
    {
     "data": {
      "text/html": [
       "<span style=\"color:blue\"> |-learning_rate: 0.0001</span>"
      ],
      "text/plain": [
       "<IPython.core.display.HTML object>"
      ]
     },
     "metadata": {},
     "output_type": "display_data"
    },
    {
     "data": {
      "text/html": [
       "<span style=\"color:cyan\"> |-momentum: 0.30000000000000004</span>"
      ],
      "text/plain": [
       "<IPython.core.display.HTML object>"
      ]
     },
     "metadata": {},
     "output_type": "display_data"
    },
    {
     "data": {
      "text/html": [
       "<span style=\"color:blue\"> |-num_layers: 1</span>"
      ],
      "text/plain": [
       "<IPython.core.display.HTML object>"
      ]
     },
     "metadata": {},
     "output_type": "display_data"
    },
    {
     "data": {
      "text/html": [
       "<span style=\"color:cyan\"> |-rho: 0.6500000000000001</span>"
      ],
      "text/plain": [
       "<IPython.core.display.HTML object>"
      ]
     },
     "metadata": {},
     "output_type": "display_data"
    },
    {
     "data": {
      "text/html": [
       "<span style=\"color:blue\"> |-units_0: 90</span>"
      ],
      "text/plain": [
       "<IPython.core.display.HTML object>"
      ]
     },
     "metadata": {},
     "output_type": "display_data"
    },
    {
     "data": {
      "text/html": [
       "<span style=\"color:cyan\"> |-units_1: 50</span>"
      ],
      "text/plain": [
       "<IPython.core.display.HTML object>"
      ]
     },
     "metadata": {},
     "output_type": "display_data"
    },
    {
     "data": {
      "text/html": [
       "<span style=\"color:blue\"> |-units_2: 80</span>"
      ],
      "text/plain": [
       "<IPython.core.display.HTML object>"
      ]
     },
     "metadata": {},
     "output_type": "display_data"
    },
    {
     "data": {
      "text/html": [
       "<span style=\"color:cyan\"> |-units_3: 60</span>"
      ],
      "text/plain": [
       "<IPython.core.display.HTML object>"
      ]
     },
     "metadata": {},
     "output_type": "display_data"
    },
    {
     "name": "stdout",
     "output_type": "stream",
     "text": [
      "Train on 125 samples, validate on 23 samples\n",
      "Epoch 1/5\n",
      "125/125 [==============================] - ETA: 0s - loss: 9.7335 - mean_squared_error: 9.73 - 0s 3ms/sample - loss: 8.2273 - mean_squared_error: 8.2273 - val_loss: 10.6306 - val_mean_squared_error: 10.6306\n",
      "Epoch 2/5\n",
      "125/125 [==============================] - ETA: 0s - loss: 4.8160 - mean_squared_error: 4.81 - 0s 200us/sample - loss: 5.0403 - mean_squared_error: 5.0403 - val_loss: 11.6861 - val_mean_squared_error: 11.6861\n",
      "Epoch 3/5\n",
      "125/125 [==============================] - ETA: 0s - loss: 3.1445 - mean_squared_error: 3.14 - 0s 189us/sample - loss: 3.4251 - mean_squared_error: 3.4251 - val_loss: 12.1961 - val_mean_squared_error: 12.1961\n",
      "Epoch 4/5\n",
      "125/125 [==============================] - ETA: 0s - loss: 2.1879 - mean_squared_error: 2.18 - 0s 193us/sample - loss: 2.7965 - mean_squared_error: 2.7965 - val_loss: 12.3955 - val_mean_squared_error: 12.3955\n",
      "Epoch 5/5\n",
      "125/125 [==============================] - ETA: 0s - loss: 2.1604 - mean_squared_error: 2.16 - 0s 192us/sample - loss: 2.1097 - mean_squared_error: 2.1097 - val_loss: 12.7841 - val_mean_squared_error: 12.7841\n",
      "Train on 125 samples, validate on 23 samples\n",
      "Epoch 1/5\n",
      "125/125 [==============================] - ETA: 0s - loss: 10.7057 - mean_squared_error: 10.70 - 0s 3ms/sample - loss: 13.3816 - mean_squared_error: 13.3816 - val_loss: 14.6089 - val_mean_squared_error: 14.6089\n",
      "Epoch 2/5\n",
      "125/125 [==============================] - ETA: 0s - loss: 6.3098 - mean_squared_error: 6.30 - 0s 190us/sample - loss: 9.8668 - mean_squared_error: 9.8667 - val_loss: 13.9101 - val_mean_squared_error: 13.9101\n",
      "Epoch 3/5\n",
      "125/125 [==============================] - ETA: 0s - loss: 9.9322 - mean_squared_error: 9.93 - 0s 199us/sample - loss: 7.9199 - mean_squared_error: 7.9199 - val_loss: 13.6711 - val_mean_squared_error: 13.6711\n",
      "Epoch 4/5\n",
      "125/125 [==============================] - ETA: 0s - loss: 8.1786 - mean_squared_error: 8.17 - 0s 192us/sample - loss: 6.7030 - mean_squared_error: 6.7030 - val_loss: 13.7013 - val_mean_squared_error: 13.7013\n",
      "Epoch 5/5\n",
      "125/125 [==============================] - ETA: 0s - loss: 4.9040 - mean_squared_error: 4.90 - 0s 195us/sample - loss: 5.8016 - mean_squared_error: 5.8016 - val_loss: 13.5426 - val_mean_squared_error: 13.5426\n",
      "Train on 125 samples, validate on 23 samples\n",
      "Epoch 1/5\n",
      "125/125 [==============================] - ETA: 0s - loss: 11.4676 - mean_squared_error: 11.46 - 0s 3ms/sample - loss: 11.5688 - mean_squared_error: 11.5688 - val_loss: 11.2284 - val_mean_squared_error: 11.2284\n",
      "Epoch 2/5\n",
      "125/125 [==============================] - ETA: 0s - loss: 10.2744 - mean_squared_error: 10.27 - 0s 195us/sample - loss: 8.3760 - mean_squared_error: 8.3760 - val_loss: 10.7346 - val_mean_squared_error: 10.7346\n",
      "Epoch 3/5\n",
      "125/125 [==============================] - ETA: 0s - loss: 4.9615 - mean_squared_error: 4.96 - 0s 192us/sample - loss: 6.9513 - mean_squared_error: 6.9513 - val_loss: 10.7887 - val_mean_squared_error: 10.7887\n",
      "Epoch 4/5\n",
      "125/125 [==============================] - ETA: 0s - loss: 6.2455 - mean_squared_error: 6.24 - 0s 193us/sample - loss: 5.5179 - mean_squared_error: 5.5179 - val_loss: 10.9490 - val_mean_squared_error: 10.9490\n",
      "Epoch 5/5\n",
      "125/125 [==============================] - ETA: 0s - loss: 5.1551 - mean_squared_error: 5.15 - 0s 184us/sample - loss: 4.7269 - mean_squared_error: 4.7269 - val_loss: 11.0649 - val_mean_squared_error: 11.0649\n"
     ]
    },
    {
     "data": {
      "text/html": [
       "<span style=\"color:#4527A0\"><h1 style=\"font-size:18px\">Trial complete</h1></span>"
      ],
      "text/plain": [
       "<IPython.core.display.HTML object>"
      ]
     },
     "metadata": {},
     "output_type": "display_data"
    },
    {
     "data": {
      "text/html": [
       "<span style=\"color:#4527A0\"><h1 style=\"font-size:18px\">Trial summary</h1></span>"
      ],
      "text/plain": [
       "<IPython.core.display.HTML object>"
      ]
     },
     "metadata": {},
     "output_type": "display_data"
    },
    {
     "data": {
      "text/html": [
       "<span style=\"color:cyan\"> |-Trial ID: 8433b1e30e018bd564f19a4b19771c44</span>"
      ],
      "text/plain": [
       "<IPython.core.display.HTML object>"
      ]
     },
     "metadata": {},
     "output_type": "display_data"
    },
    {
     "data": {
      "text/html": [
       "<span style=\"color:cyan\"> |-Score: 11.635932922363281</span>"
      ],
      "text/plain": [
       "<IPython.core.display.HTML object>"
      ]
     },
     "metadata": {},
     "output_type": "display_data"
    },
    {
     "data": {
      "text/html": [
       "<span style=\"color:cyan\"> |-Best step: 0</span>"
      ],
      "text/plain": [
       "<IPython.core.display.HTML object>"
      ]
     },
     "metadata": {},
     "output_type": "display_data"
    },
    {
     "data": {
      "text/html": [
       "<span style=\"color:#7E57C2\"><h2 style=\"font-size:16px\">Hyperparameters:</h2></span>"
      ],
      "text/plain": [
       "<IPython.core.display.HTML object>"
      ]
     },
     "metadata": {},
     "output_type": "display_data"
    },
    {
     "data": {
      "text/html": [
       "<span style=\"color:cyan\"> |-act_0: tanh</span>"
      ],
      "text/plain": [
       "<IPython.core.display.HTML object>"
      ]
     },
     "metadata": {},
     "output_type": "display_data"
    },
    {
     "data": {
      "text/html": [
       "<span style=\"color:blue\"> |-act_1: relu</span>"
      ],
      "text/plain": [
       "<IPython.core.display.HTML object>"
      ]
     },
     "metadata": {},
     "output_type": "display_data"
    },
    {
     "data": {
      "text/html": [
       "<span style=\"color:cyan\"> |-act_2: relu</span>"
      ],
      "text/plain": [
       "<IPython.core.display.HTML object>"
      ]
     },
     "metadata": {},
     "output_type": "display_data"
    },
    {
     "data": {
      "text/html": [
       "<span style=\"color:blue\"> |-act_3: relu</span>"
      ],
      "text/plain": [
       "<IPython.core.display.HTML object>"
      ]
     },
     "metadata": {},
     "output_type": "display_data"
    },
    {
     "data": {
      "text/html": [
       "<span style=\"color:cyan\"> |-dropout: 0.2</span>"
      ],
      "text/plain": [
       "<IPython.core.display.HTML object>"
      ]
     },
     "metadata": {},
     "output_type": "display_data"
    },
    {
     "data": {
      "text/html": [
       "<span style=\"color:blue\"> |-learning_rate: 0.0001</span>"
      ],
      "text/plain": [
       "<IPython.core.display.HTML object>"
      ]
     },
     "metadata": {},
     "output_type": "display_data"
    },
    {
     "data": {
      "text/html": [
       "<span style=\"color:cyan\"> |-momentum: 0.4</span>"
      ],
      "text/plain": [
       "<IPython.core.display.HTML object>"
      ]
     },
     "metadata": {},
     "output_type": "display_data"
    },
    {
     "data": {
      "text/html": [
       "<span style=\"color:blue\"> |-num_layers: 2</span>"
      ],
      "text/plain": [
       "<IPython.core.display.HTML object>"
      ]
     },
     "metadata": {},
     "output_type": "display_data"
    },
    {
     "data": {
      "text/html": [
       "<span style=\"color:cyan\"> |-rho: 0.9000000000000004</span>"
      ],
      "text/plain": [
       "<IPython.core.display.HTML object>"
      ]
     },
     "metadata": {},
     "output_type": "display_data"
    },
    {
     "data": {
      "text/html": [
       "<span style=\"color:blue\"> |-units_0: 60</span>"
      ],
      "text/plain": [
       "<IPython.core.display.HTML object>"
      ]
     },
     "metadata": {},
     "output_type": "display_data"
    },
    {
     "data": {
      "text/html": [
       "<span style=\"color:cyan\"> |-units_1: 70</span>"
      ],
      "text/plain": [
       "<IPython.core.display.HTML object>"
      ]
     },
     "metadata": {},
     "output_type": "display_data"
    },
    {
     "data": {
      "text/html": [
       "<span style=\"color:blue\"> |-units_2: 70</span>"
      ],
      "text/plain": [
       "<IPython.core.display.HTML object>"
      ]
     },
     "metadata": {},
     "output_type": "display_data"
    },
    {
     "data": {
      "text/html": [
       "<span style=\"color:cyan\"> |-units_3: 90</span>"
      ],
      "text/plain": [
       "<IPython.core.display.HTML object>"
      ]
     },
     "metadata": {},
     "output_type": "display_data"
    },
    {
     "name": "stdout",
     "output_type": "stream",
     "text": [
      "Train on 125 samples, validate on 23 samples\n",
      "Epoch 1/5\n",
      "125/125 [==============================] - ETA: 1s - loss: 8.0935 - mean_squared_error: 8.09 - 0s 4ms/sample - loss: 992.0046 - mean_squared_error: 992.0046 - val_loss: 16.5037 - val_mean_squared_error: 16.5037\n",
      "Epoch 2/5\n",
      "125/125 [==============================] - ETA: 0s - loss: 24.0499 - mean_squared_error: 24.04 - 0s 215us/sample - loss: 16.5359 - mean_squared_error: 16.5359 - val_loss: 55.7353 - val_mean_squared_error: 55.7353\n",
      "Epoch 3/5\n",
      "125/125 [==============================] - ETA: 0s - loss: 45.2567 - mean_squared_error: 45.25 - 0s 406us/sample - loss: 34.5340 - mean_squared_error: 34.5340 - val_loss: 9.4776 - val_mean_squared_error: 9.4776\n",
      "Epoch 4/5\n",
      "125/125 [==============================] - ETA: 0s - loss: 35.9563 - mean_squared_error: 35.95 - 0s 225us/sample - loss: 22.7360 - mean_squared_error: 22.7360 - val_loss: 32.8482 - val_mean_squared_error: 32.8482\n",
      "Epoch 5/5\n",
      "125/125 [==============================] - ETA: 0s - loss: 20.2642 - mean_squared_error: 20.26 - 0s 208us/sample - loss: 12.6411 - mean_squared_error: 12.6411 - val_loss: 14.1342 - val_mean_squared_error: 14.1342\n",
      "Train on 125 samples, validate on 23 samples\n",
      "Epoch 1/5\n",
      "125/125 [==============================] - ETA: 1s - loss: 8.5209 - mean_squared_error: 8.52 - 0s 4ms/sample - loss: 745.2623 - mean_squared_error: 745.2623 - val_loss: 261.6760 - val_mean_squared_error: 261.6760\n",
      "Epoch 2/5\n",
      "125/125 [==============================] - ETA: 0s - loss: 124.3533 - mean_squared_error: 124.35 - 0s 232us/sample - loss: 52.6501 - mean_squared_error: 52.6501 - val_loss: 10.9990 - val_mean_squared_error: 10.9990\n",
      "Epoch 3/5\n",
      "125/125 [==============================] - ETA: 0s - loss: 6.2077 - mean_squared_error: 6.20 - 0s 404us/sample - loss: 8.7758 - mean_squared_error: 8.7758 - val_loss: 8.6658 - val_mean_squared_error: 8.6658\n",
      "Epoch 4/5\n",
      "125/125 [==============================] - ETA: 0s - loss: 6.6782 - mean_squared_error: 6.67 - 0s 217us/sample - loss: 4.7863 - mean_squared_error: 4.7863 - val_loss: 18.4755 - val_mean_squared_error: 18.4755\n",
      "Epoch 5/5\n",
      "125/125 [==============================] - ETA: 0s - loss: 16.0757 - mean_squared_error: 16.07 - 0s 202us/sample - loss: 41.1937 - mean_squared_error: 41.1937 - val_loss: 91.1458 - val_mean_squared_error: 91.1458\n",
      "Train on 125 samples, validate on 23 samples\n",
      "Epoch 1/5\n",
      "125/125 [==============================] - ETA: 1s - loss: 10.2855 - mean_squared_error: 10.28 - 0s 4ms/sample - loss: 371.8755 - mean_squared_error: 371.8755 - val_loss: 100.3958 - val_mean_squared_error: 100.3958\n",
      "Epoch 2/5\n",
      "125/125 [==============================] - ETA: 0s - loss: 58.7060 - mean_squared_error: 58.70 - 0s 216us/sample - loss: 37.2878 - mean_squared_error: 37.2878 - val_loss: 11.2790 - val_mean_squared_error: 11.2790\n",
      "Epoch 3/5\n",
      "125/125 [==============================] - ETA: 0s - loss: 11.6081 - mean_squared_error: 11.60 - 0s 207us/sample - loss: 9.0503 - mean_squared_error: 9.0503 - val_loss: 20.1091 - val_mean_squared_error: 20.1091\n",
      "Epoch 4/5\n",
      "125/125 [==============================] - ETA: 0s - loss: 11.2550 - mean_squared_error: 11.25 - 0s 211us/sample - loss: 11.0373 - mean_squared_error: 11.0373 - val_loss: 14.2279 - val_mean_squared_error: 14.2279\n",
      "Epoch 5/5\n",
      "125/125 [==============================] - ETA: 0s - loss: 11.1749 - mean_squared_error: 11.17 - 0s 207us/sample - loss: 11.2935 - mean_squared_error: 11.2935 - val_loss: 25.4398 - val_mean_squared_error: 25.4398\n"
     ]
    },
    {
     "data": {
      "text/html": [
       "<span style=\"color:#4527A0\"><h1 style=\"font-size:18px\">Trial complete</h1></span>"
      ],
      "text/plain": [
       "<IPython.core.display.HTML object>"
      ]
     },
     "metadata": {},
     "output_type": "display_data"
    },
    {
     "data": {
      "text/html": [
       "<span style=\"color:#4527A0\"><h1 style=\"font-size:18px\">Trial summary</h1></span>"
      ],
      "text/plain": [
       "<IPython.core.display.HTML object>"
      ]
     },
     "metadata": {},
     "output_type": "display_data"
    },
    {
     "data": {
      "text/html": [
       "<span style=\"color:cyan\"> |-Trial ID: c004cf8a3408c25f19b9a4e1fa4b80c0</span>"
      ],
      "text/plain": [
       "<IPython.core.display.HTML object>"
      ]
     },
     "metadata": {},
     "output_type": "display_data"
    },
    {
     "data": {
      "text/html": [
       "<span style=\"color:cyan\"> |-Score: 9.807469367980957</span>"
      ],
      "text/plain": [
       "<IPython.core.display.HTML object>"
      ]
     },
     "metadata": {},
     "output_type": "display_data"
    },
    {
     "data": {
      "text/html": [
       "<span style=\"color:cyan\"> |-Best step: 0</span>"
      ],
      "text/plain": [
       "<IPython.core.display.HTML object>"
      ]
     },
     "metadata": {},
     "output_type": "display_data"
    },
    {
     "data": {
      "text/html": [
       "<span style=\"color:#7E57C2\"><h2 style=\"font-size:16px\">Hyperparameters:</h2></span>"
      ],
      "text/plain": [
       "<IPython.core.display.HTML object>"
      ]
     },
     "metadata": {},
     "output_type": "display_data"
    },
    {
     "data": {
      "text/html": [
       "<span style=\"color:cyan\"> |-act_0: relu</span>"
      ],
      "text/plain": [
       "<IPython.core.display.HTML object>"
      ]
     },
     "metadata": {},
     "output_type": "display_data"
    },
    {
     "data": {
      "text/html": [
       "<span style=\"color:blue\"> |-act_1: relu</span>"
      ],
      "text/plain": [
       "<IPython.core.display.HTML object>"
      ]
     },
     "metadata": {},
     "output_type": "display_data"
    },
    {
     "data": {
      "text/html": [
       "<span style=\"color:cyan\"> |-act_2: relu</span>"
      ],
      "text/plain": [
       "<IPython.core.display.HTML object>"
      ]
     },
     "metadata": {},
     "output_type": "display_data"
    },
    {
     "data": {
      "text/html": [
       "<span style=\"color:blue\"> |-act_3: tanh</span>"
      ],
      "text/plain": [
       "<IPython.core.display.HTML object>"
      ]
     },
     "metadata": {},
     "output_type": "display_data"
    },
    {
     "data": {
      "text/html": [
       "<span style=\"color:cyan\"> |-dropout: 0.2</span>"
      ],
      "text/plain": [
       "<IPython.core.display.HTML object>"
      ]
     },
     "metadata": {},
     "output_type": "display_data"
    },
    {
     "data": {
      "text/html": [
       "<span style=\"color:blue\"> |-learning_rate: 0.01</span>"
      ],
      "text/plain": [
       "<IPython.core.display.HTML object>"
      ]
     },
     "metadata": {},
     "output_type": "display_data"
    },
    {
     "data": {
      "text/html": [
       "<span style=\"color:cyan\"> |-momentum: 0.1</span>"
      ],
      "text/plain": [
       "<IPython.core.display.HTML object>"
      ]
     },
     "metadata": {},
     "output_type": "display_data"
    },
    {
     "data": {
      "text/html": [
       "<span style=\"color:blue\"> |-num_layers: 3</span>"
      ],
      "text/plain": [
       "<IPython.core.display.HTML object>"
      ]
     },
     "metadata": {},
     "output_type": "display_data"
    },
    {
     "data": {
      "text/html": [
       "<span style=\"color:cyan\"> |-rho: 0.7000000000000002</span>"
      ],
      "text/plain": [
       "<IPython.core.display.HTML object>"
      ]
     },
     "metadata": {},
     "output_type": "display_data"
    },
    {
     "data": {
      "text/html": [
       "<span style=\"color:blue\"> |-units_0: 90</span>"
      ],
      "text/plain": [
       "<IPython.core.display.HTML object>"
      ]
     },
     "metadata": {},
     "output_type": "display_data"
    },
    {
     "data": {
      "text/html": [
       "<span style=\"color:cyan\"> |-units_1: 80</span>"
      ],
      "text/plain": [
       "<IPython.core.display.HTML object>"
      ]
     },
     "metadata": {},
     "output_type": "display_data"
    },
    {
     "data": {
      "text/html": [
       "<span style=\"color:blue\"> |-units_2: 90</span>"
      ],
      "text/plain": [
       "<IPython.core.display.HTML object>"
      ]
     },
     "metadata": {},
     "output_type": "display_data"
    },
    {
     "data": {
      "text/html": [
       "<span style=\"color:cyan\"> |-units_3: 40</span>"
      ],
      "text/plain": [
       "<IPython.core.display.HTML object>"
      ]
     },
     "metadata": {},
     "output_type": "display_data"
    },
    {
     "name": "stdout",
     "output_type": "stream",
     "text": [
      "Train on 125 samples, validate on 23 samples\n",
      "Epoch 1/5\n",
      "125/125 [==============================] - ETA: 0s - loss: 10.4117 - mean_squared_error: 10.41 - 0s 3ms/sample - loss: 10.7231 - mean_squared_error: 10.7231 - val_loss: 11.4358 - val_mean_squared_error: 11.4358\n",
      "Epoch 2/5\n",
      "125/125 [==============================] - ETA: 0s - loss: 1.8698 - mean_squared_error: 1.86 - 0s 398us/sample - loss: 3.1221 - mean_squared_error: 3.1221 - val_loss: 9.3126 - val_mean_squared_error: 9.3126\n",
      "Epoch 3/5\n",
      "125/125 [==============================] - ETA: 0s - loss: 0.9684 - mean_squared_error: 0.96 - 0s 217us/sample - loss: 1.3360 - mean_squared_error: 1.3360 - val_loss: 11.4586 - val_mean_squared_error: 11.4586\n",
      "Epoch 4/5\n",
      "125/125 [==============================] - ETA: 0s - loss: 0.5919 - mean_squared_error: 0.59 - 0s 205us/sample - loss: 0.7134 - mean_squared_error: 0.7134 - val_loss: 11.2990 - val_mean_squared_error: 11.2990\n",
      "Epoch 5/5\n",
      "125/125 [==============================] - ETA: 0s - loss: 0.5854 - mean_squared_error: 0.58 - 0s 197us/sample - loss: 0.5266 - mean_squared_error: 0.5266 - val_loss: 11.4365 - val_mean_squared_error: 11.4365\n",
      "Train on 125 samples, validate on 23 samples\n",
      "Epoch 1/5\n",
      "125/125 [==============================] - ETA: 0s - loss: 9.6168 - mean_squared_error: 9.61 - 0s 3ms/sample - loss: 11.5838 - mean_squared_error: 11.5838 - val_loss: 10.5019 - val_mean_squared_error: 10.5019\n",
      "Epoch 2/5\n",
      "125/125 [==============================] - ETA: 0s - loss: 4.5591 - mean_squared_error: 4.55 - 0s 210us/sample - loss: 4.1624 - mean_squared_error: 4.1624 - val_loss: 11.5987 - val_mean_squared_error: 11.5987\n",
      "Epoch 3/5\n",
      "125/125 [==============================] - ETA: 0s - loss: 1.3210 - mean_squared_error: 1.32 - 0s 208us/sample - loss: 1.7629 - mean_squared_error: 1.7629 - val_loss: 12.8527 - val_mean_squared_error: 12.8527\n",
      "Epoch 4/5\n",
      "125/125 [==============================] - ETA: 0s - loss: 0.8143 - mean_squared_error: 0.81 - 0s 203us/sample - loss: 0.9531 - mean_squared_error: 0.9531 - val_loss: 14.8267 - val_mean_squared_error: 14.8267\n",
      "Epoch 5/5\n",
      "125/125 [==============================] - ETA: 0s - loss: 0.5609 - mean_squared_error: 0.56 - 0s 200us/sample - loss: 0.7281 - mean_squared_error: 0.7281 - val_loss: 12.2082 - val_mean_squared_error: 12.2082\n",
      "Train on 125 samples, validate on 23 samples\n",
      "Epoch 1/5\n",
      "125/125 [==============================] - ETA: 0s - loss: 12.4157 - mean_squared_error: 12.41 - 0s 3ms/sample - loss: 9.6527 - mean_squared_error: 9.6527 - val_loss: 9.8523 - val_mean_squared_error: 9.8523\n",
      "Epoch 2/5\n",
      "125/125 [==============================] - ETA: 0s - loss: 2.3543 - mean_squared_error: 2.35 - 0s 207us/sample - loss: 3.6571 - mean_squared_error: 3.6571 - val_loss: 12.2181 - val_mean_squared_error: 12.2181\n",
      "Epoch 3/5\n",
      "125/125 [==============================] - ETA: 0s - loss: 0.9980 - mean_squared_error: 0.99 - 0s 202us/sample - loss: 1.2519 - mean_squared_error: 1.2519 - val_loss: 12.2317 - val_mean_squared_error: 12.2317\n",
      "Epoch 4/5\n",
      "125/125 [==============================] - ETA: 0s - loss: 0.7194 - mean_squared_error: 0.71 - 0s 189us/sample - loss: 0.6775 - mean_squared_error: 0.6775 - val_loss: 13.1609 - val_mean_squared_error: 13.1609\n",
      "Epoch 5/5\n",
      "125/125 [==============================] - ETA: 0s - loss: 0.4914 - mean_squared_error: 0.49 - 0s 198us/sample - loss: 0.4574 - mean_squared_error: 0.4574 - val_loss: 13.1551 - val_mean_squared_error: 13.1551\n"
     ]
    },
    {
     "data": {
      "text/html": [
       "<span style=\"color:#4527A0\"><h1 style=\"font-size:18px\">Trial complete</h1></span>"
      ],
      "text/plain": [
       "<IPython.core.display.HTML object>"
      ]
     },
     "metadata": {},
     "output_type": "display_data"
    },
    {
     "data": {
      "text/html": [
       "<span style=\"color:#4527A0\"><h1 style=\"font-size:18px\">Trial summary</h1></span>"
      ],
      "text/plain": [
       "<IPython.core.display.HTML object>"
      ]
     },
     "metadata": {},
     "output_type": "display_data"
    },
    {
     "data": {
      "text/html": [
       "<span style=\"color:cyan\"> |-Trial ID: e9c3c33a1bbe181e05a4379abbd4bba7</span>"
      ],
      "text/plain": [
       "<IPython.core.display.HTML object>"
      ]
     },
     "metadata": {},
     "output_type": "display_data"
    },
    {
     "data": {
      "text/html": [
       "<span style=\"color:cyan\"> |-Score: 9.888931274414062</span>"
      ],
      "text/plain": [
       "<IPython.core.display.HTML object>"
      ]
     },
     "metadata": {},
     "output_type": "display_data"
    },
    {
     "data": {
      "text/html": [
       "<span style=\"color:cyan\"> |-Best step: 0</span>"
      ],
      "text/plain": [
       "<IPython.core.display.HTML object>"
      ]
     },
     "metadata": {},
     "output_type": "display_data"
    },
    {
     "data": {
      "text/html": [
       "<span style=\"color:#7E57C2\"><h2 style=\"font-size:16px\">Hyperparameters:</h2></span>"
      ],
      "text/plain": [
       "<IPython.core.display.HTML object>"
      ]
     },
     "metadata": {},
     "output_type": "display_data"
    },
    {
     "data": {
      "text/html": [
       "<span style=\"color:cyan\"> |-act_0: tanh</span>"
      ],
      "text/plain": [
       "<IPython.core.display.HTML object>"
      ]
     },
     "metadata": {},
     "output_type": "display_data"
    },
    {
     "data": {
      "text/html": [
       "<span style=\"color:blue\"> |-act_1: relu</span>"
      ],
      "text/plain": [
       "<IPython.core.display.HTML object>"
      ]
     },
     "metadata": {},
     "output_type": "display_data"
    },
    {
     "data": {
      "text/html": [
       "<span style=\"color:cyan\"> |-act_2: relu</span>"
      ],
      "text/plain": [
       "<IPython.core.display.HTML object>"
      ]
     },
     "metadata": {},
     "output_type": "display_data"
    },
    {
     "data": {
      "text/html": [
       "<span style=\"color:blue\"> |-act_3: relu</span>"
      ],
      "text/plain": [
       "<IPython.core.display.HTML object>"
      ]
     },
     "metadata": {},
     "output_type": "display_data"
    },
    {
     "data": {
      "text/html": [
       "<span style=\"color:cyan\"> |-dropout: 0.2</span>"
      ],
      "text/plain": [
       "<IPython.core.display.HTML object>"
      ]
     },
     "metadata": {},
     "output_type": "display_data"
    },
    {
     "data": {
      "text/html": [
       "<span style=\"color:blue\"> |-learning_rate: 0.001</span>"
      ],
      "text/plain": [
       "<IPython.core.display.HTML object>"
      ]
     },
     "metadata": {},
     "output_type": "display_data"
    },
    {
     "data": {
      "text/html": [
       "<span style=\"color:cyan\"> |-momentum: 0.2</span>"
      ],
      "text/plain": [
       "<IPython.core.display.HTML object>"
      ]
     },
     "metadata": {},
     "output_type": "display_data"
    },
    {
     "data": {
      "text/html": [
       "<span style=\"color:blue\"> |-num_layers: 2</span>"
      ],
      "text/plain": [
       "<IPython.core.display.HTML object>"
      ]
     },
     "metadata": {},
     "output_type": "display_data"
    },
    {
     "data": {
      "text/html": [
       "<span style=\"color:cyan\"> |-rho: 0.7500000000000002</span>"
      ],
      "text/plain": [
       "<IPython.core.display.HTML object>"
      ]
     },
     "metadata": {},
     "output_type": "display_data"
    },
    {
     "data": {
      "text/html": [
       "<span style=\"color:blue\"> |-units_0: 100</span>"
      ],
      "text/plain": [
       "<IPython.core.display.HTML object>"
      ]
     },
     "metadata": {},
     "output_type": "display_data"
    },
    {
     "data": {
      "text/html": [
       "<span style=\"color:cyan\"> |-units_1: 90</span>"
      ],
      "text/plain": [
       "<IPython.core.display.HTML object>"
      ]
     },
     "metadata": {},
     "output_type": "display_data"
    },
    {
     "data": {
      "text/html": [
       "<span style=\"color:blue\"> |-units_2: 90</span>"
      ],
      "text/plain": [
       "<IPython.core.display.HTML object>"
      ]
     },
     "metadata": {},
     "output_type": "display_data"
    },
    {
     "data": {
      "text/html": [
       "<span style=\"color:cyan\"> |-units_3: 90</span>"
      ],
      "text/plain": [
       "<IPython.core.display.HTML object>"
      ]
     },
     "metadata": {},
     "output_type": "display_data"
    },
    {
     "name": "stdout",
     "output_type": "stream",
     "text": [
      "Train on 125 samples, validate on 23 samples\n",
      "Epoch 1/5\n",
      "125/125 [==============================] - ETA: 0s - loss: 12.2984 - mean_squared_error: 12.29 - 0s 3ms/sample - loss: 10.7876 - mean_squared_error: 10.7876 - val_loss: 17.1812 - val_mean_squared_error: 17.1812\n",
      "Epoch 2/5\n",
      "125/125 [==============================] - ETA: 0s - loss: 6.9239 - mean_squared_error: 6.92 - 0s 192us/sample - loss: 4.4705 - mean_squared_error: 4.4705 - val_loss: 18.9256 - val_mean_squared_error: 18.9256\n",
      "Epoch 3/5\n",
      "125/125 [==============================] - ETA: 0s - loss: 1.8947 - mean_squared_error: 1.89 - 0s 190us/sample - loss: 2.1500 - mean_squared_error: 2.1500 - val_loss: 19.5487 - val_mean_squared_error: 19.5487\n",
      "Epoch 4/5\n",
      "125/125 [==============================] - ETA: 0s - loss: 1.6738 - mean_squared_error: 1.67 - 0s 192us/sample - loss: 1.3823 - mean_squared_error: 1.3823 - val_loss: 19.4293 - val_mean_squared_error: 19.4293\n",
      "Epoch 5/5\n",
      "125/125 [==============================] - ETA: 0s - loss: 0.7156 - mean_squared_error: 0.71 - 0s 186us/sample - loss: 0.8158 - mean_squared_error: 0.8158 - val_loss: 20.1034 - val_mean_squared_error: 20.1034\n",
      "Train on 125 samples, validate on 23 samples\n",
      "Epoch 1/5\n",
      "125/125 [==============================] - ETA: 0s - loss: 12.3215 - mean_squared_error: 12.32 - 0s 3ms/sample - loss: 11.1310 - mean_squared_error: 11.1310 - val_loss: 13.9934 - val_mean_squared_error: 13.9934\n",
      "Epoch 2/5\n",
      "125/125 [==============================] - ETA: 0s - loss: 4.5154 - mean_squared_error: 4.51 - 0s 198us/sample - loss: 5.4709 - mean_squared_error: 5.4709 - val_loss: 14.0617 - val_mean_squared_error: 14.0617\n",
      "Epoch 3/5\n",
      "125/125 [==============================] - ETA: 0s - loss: 2.5620 - mean_squared_error: 2.56 - 0s 188us/sample - loss: 3.0241 - mean_squared_error: 3.0241 - val_loss: 15.2838 - val_mean_squared_error: 15.2838\n",
      "Epoch 4/5\n",
      "125/125 [==============================] - ETA: 0s - loss: 1.6366 - mean_squared_error: 1.63 - 0s 189us/sample - loss: 1.8090 - mean_squared_error: 1.8090 - val_loss: 14.8555 - val_mean_squared_error: 14.8555\n",
      "Epoch 5/5\n",
      "125/125 [==============================] - ETA: 0s - loss: 1.0566 - mean_squared_error: 1.05 - 0s 180us/sample - loss: 1.0546 - mean_squared_error: 1.0546 - val_loss: 16.2954 - val_mean_squared_error: 16.2954\n",
      "Train on 125 samples, validate on 23 samples\n",
      "Epoch 1/5\n",
      "125/125 [==============================] - ETA: 0s - loss: 12.1298 - mean_squared_error: 12.12 - 0s 3ms/sample - loss: 15.5772 - mean_squared_error: 15.5772 - val_loss: 20.3408 - val_mean_squared_error: 20.3408\n",
      "Epoch 2/5\n",
      "125/125 [==============================] - ETA: 0s - loss: 4.9545 - mean_squared_error: 4.95 - 0s 188us/sample - loss: 7.3632 - mean_squared_error: 7.3632 - val_loss: 19.6100 - val_mean_squared_error: 19.6100\n",
      "Epoch 3/5\n",
      "125/125 [==============================] - ETA: 0s - loss: 5.0442 - mean_squared_error: 5.04 - 0s 184us/sample - loss: 4.9170 - mean_squared_error: 4.9170 - val_loss: 19.6873 - val_mean_squared_error: 19.6873\n",
      "Epoch 4/5\n",
      "125/125 [==============================] - ETA: 0s - loss: 1.9990 - mean_squared_error: 1.99 - 0s 180us/sample - loss: 2.7876 - mean_squared_error: 2.7876 - val_loss: 19.0365 - val_mean_squared_error: 19.0365\n",
      "Epoch 5/5\n",
      "125/125 [==============================] - ETA: 0s - loss: 1.7632 - mean_squared_error: 1.76 - 0s 182us/sample - loss: 1.7514 - mean_squared_error: 1.7514 - val_loss: 18.7786 - val_mean_squared_error: 18.7786\n"
     ]
    },
    {
     "data": {
      "text/html": [
       "<span style=\"color:#4527A0\"><h1 style=\"font-size:18px\">Trial complete</h1></span>"
      ],
      "text/plain": [
       "<IPython.core.display.HTML object>"
      ]
     },
     "metadata": {},
     "output_type": "display_data"
    },
    {
     "data": {
      "text/html": [
       "<span style=\"color:#4527A0\"><h1 style=\"font-size:18px\">Trial summary</h1></span>"
      ],
      "text/plain": [
       "<IPython.core.display.HTML object>"
      ]
     },
     "metadata": {},
     "output_type": "display_data"
    },
    {
     "data": {
      "text/html": [
       "<span style=\"color:cyan\"> |-Trial ID: 33442f07fc8d0a9d47750d5608d25b3e</span>"
      ],
      "text/plain": [
       "<IPython.core.display.HTML object>"
      ]
     },
     "metadata": {},
     "output_type": "display_data"
    },
    {
     "data": {
      "text/html": [
       "<span style=\"color:cyan\"> |-Score: 16.65106201171875</span>"
      ],
      "text/plain": [
       "<IPython.core.display.HTML object>"
      ]
     },
     "metadata": {},
     "output_type": "display_data"
    },
    {
     "data": {
      "text/html": [
       "<span style=\"color:cyan\"> |-Best step: 0</span>"
      ],
      "text/plain": [
       "<IPython.core.display.HTML object>"
      ]
     },
     "metadata": {},
     "output_type": "display_data"
    },
    {
     "data": {
      "text/html": [
       "<span style=\"color:#7E57C2\"><h2 style=\"font-size:16px\">Hyperparameters:</h2></span>"
      ],
      "text/plain": [
       "<IPython.core.display.HTML object>"
      ]
     },
     "metadata": {},
     "output_type": "display_data"
    },
    {
     "data": {
      "text/html": [
       "<span style=\"color:cyan\"> |-act_0: relu</span>"
      ],
      "text/plain": [
       "<IPython.core.display.HTML object>"
      ]
     },
     "metadata": {},
     "output_type": "display_data"
    },
    {
     "data": {
      "text/html": [
       "<span style=\"color:blue\"> |-act_1: relu</span>"
      ],
      "text/plain": [
       "<IPython.core.display.HTML object>"
      ]
     },
     "metadata": {},
     "output_type": "display_data"
    },
    {
     "data": {
      "text/html": [
       "<span style=\"color:cyan\"> |-act_2: relu</span>"
      ],
      "text/plain": [
       "<IPython.core.display.HTML object>"
      ]
     },
     "metadata": {},
     "output_type": "display_data"
    },
    {
     "data": {
      "text/html": [
       "<span style=\"color:blue\"> |-act_3: relu</span>"
      ],
      "text/plain": [
       "<IPython.core.display.HTML object>"
      ]
     },
     "metadata": {},
     "output_type": "display_data"
    },
    {
     "data": {
      "text/html": [
       "<span style=\"color:cyan\"> |-dropout: 0.1</span>"
      ],
      "text/plain": [
       "<IPython.core.display.HTML object>"
      ]
     },
     "metadata": {},
     "output_type": "display_data"
    },
    {
     "data": {
      "text/html": [
       "<span style=\"color:blue\"> |-learning_rate: 0.0001</span>"
      ],
      "text/plain": [
       "<IPython.core.display.HTML object>"
      ]
     },
     "metadata": {},
     "output_type": "display_data"
    },
    {
     "data": {
      "text/html": [
       "<span style=\"color:cyan\"> |-momentum: 0.45</span>"
      ],
      "text/plain": [
       "<IPython.core.display.HTML object>"
      ]
     },
     "metadata": {},
     "output_type": "display_data"
    },
    {
     "data": {
      "text/html": [
       "<span style=\"color:blue\"> |-num_layers: 1</span>"
      ],
      "text/plain": [
       "<IPython.core.display.HTML object>"
      ]
     },
     "metadata": {},
     "output_type": "display_data"
    },
    {
     "data": {
      "text/html": [
       "<span style=\"color:cyan\"> |-rho: 0.8000000000000003</span>"
      ],
      "text/plain": [
       "<IPython.core.display.HTML object>"
      ]
     },
     "metadata": {},
     "output_type": "display_data"
    },
    {
     "data": {
      "text/html": [
       "<span style=\"color:blue\"> |-units_0: 40</span>"
      ],
      "text/plain": [
       "<IPython.core.display.HTML object>"
      ]
     },
     "metadata": {},
     "output_type": "display_data"
    },
    {
     "data": {
      "text/html": [
       "<span style=\"color:cyan\"> |-units_1: 70</span>"
      ],
      "text/plain": [
       "<IPython.core.display.HTML object>"
      ]
     },
     "metadata": {},
     "output_type": "display_data"
    },
    {
     "data": {
      "text/html": [
       "<span style=\"color:blue\"> |-units_2: 50</span>"
      ],
      "text/plain": [
       "<IPython.core.display.HTML object>"
      ]
     },
     "metadata": {},
     "output_type": "display_data"
    },
    {
     "data": {
      "text/html": [
       "<span style=\"color:cyan\"> |-units_3: 80</span>"
      ],
      "text/plain": [
       "<IPython.core.display.HTML object>"
      ]
     },
     "metadata": {},
     "output_type": "display_data"
    },
    {
     "name": "stdout",
     "output_type": "stream",
     "text": [
      "Train on 125 samples, validate on 23 samples\n",
      "Epoch 1/5\n",
      "125/125 [==============================] - ETA: 0s - loss: 13.3771 - mean_squared_error: 13.37 - 0s 4ms/sample - loss: 9.6317 - mean_squared_error: 9.6317 - val_loss: 11.8350 - val_mean_squared_error: 11.8350\n",
      "Epoch 2/5\n",
      "125/125 [==============================] - ETA: 0s - loss: 2.9261 - mean_squared_error: 2.92 - 0s 206us/sample - loss: 3.6145 - mean_squared_error: 3.6145 - val_loss: 12.8260 - val_mean_squared_error: 12.8260\n",
      "Epoch 3/5\n",
      "125/125 [==============================] - ETA: 0s - loss: 1.3151 - mean_squared_error: 1.31 - 0s 196us/sample - loss: 1.7865 - mean_squared_error: 1.7865 - val_loss: 13.1598 - val_mean_squared_error: 13.1598\n",
      "Epoch 4/5\n",
      "125/125 [==============================] - ETA: 0s - loss: 0.6145 - mean_squared_error: 0.61 - 0s 204us/sample - loss: 0.9952 - mean_squared_error: 0.9952 - val_loss: 13.6814 - val_mean_squared_error: 13.6814\n",
      "Epoch 5/5\n",
      "125/125 [==============================] - ETA: 0s - loss: 0.4644 - mean_squared_error: 0.46 - 0s 199us/sample - loss: 0.5179 - mean_squared_error: 0.5179 - val_loss: 13.2251 - val_mean_squared_error: 13.2251\n",
      "Train on 125 samples, validate on 23 samples\n",
      "Epoch 1/5\n",
      "125/125 [==============================] - ETA: 0s - loss: 13.8327 - mean_squared_error: 13.83 - 0s 3ms/sample - loss: 12.8008 - mean_squared_error: 12.8008 - val_loss: 10.1607 - val_mean_squared_error: 10.1607\n",
      "Epoch 2/5\n",
      "125/125 [==============================] - ETA: 0s - loss: 5.5486 - mean_squared_error: 5.54 - 0s 210us/sample - loss: 4.4926 - mean_squared_error: 4.4926 - val_loss: 10.3488 - val_mean_squared_error: 10.3488\n",
      "Epoch 3/5\n",
      "125/125 [==============================] - ETA: 0s - loss: 2.3337 - mean_squared_error: 2.33 - 0s 205us/sample - loss: 2.2938 - mean_squared_error: 2.2938 - val_loss: 10.9773 - val_mean_squared_error: 10.9773\n",
      "Epoch 4/5\n",
      "125/125 [==============================] - ETA: 0s - loss: 1.6961 - mean_squared_error: 1.69 - 0s 200us/sample - loss: 1.4097 - mean_squared_error: 1.4097 - val_loss: 11.5888 - val_mean_squared_error: 11.5888\n",
      "Epoch 5/5\n",
      "125/125 [==============================] - ETA: 0s - loss: 0.9755 - mean_squared_error: 0.97 - 0s 197us/sample - loss: 1.0905 - mean_squared_error: 1.0905 - val_loss: 13.0176 - val_mean_squared_error: 13.0176\n",
      "Train on 125 samples, validate on 23 samples\n",
      "Epoch 1/5\n",
      "125/125 [==============================] - ETA: 0s - loss: 11.3843 - mean_squared_error: 11.38 - 0s 3ms/sample - loss: 11.3176 - mean_squared_error: 11.3176 - val_loss: 11.3273 - val_mean_squared_error: 11.3273\n",
      "Epoch 2/5\n",
      "125/125 [==============================] - ETA: 0s - loss: 3.6653 - mean_squared_error: 3.66 - 0s 378us/sample - loss: 4.3864 - mean_squared_error: 4.3864 - val_loss: 9.9744 - val_mean_squared_error: 9.9744\n",
      "Epoch 3/5\n",
      "125/125 [==============================] - ETA: 0s - loss: 1.5841 - mean_squared_error: 1.58 - 0s 216us/sample - loss: 2.5111 - mean_squared_error: 2.5111 - val_loss: 11.6690 - val_mean_squared_error: 11.6690\n",
      "Epoch 4/5\n",
      "125/125 [==============================] - ETA: 0s - loss: 0.9754 - mean_squared_error: 0.97 - 0s 207us/sample - loss: 1.3396 - mean_squared_error: 1.3396 - val_loss: 10.7762 - val_mean_squared_error: 10.7762\n",
      "Epoch 5/5\n",
      "125/125 [==============================] - ETA: 0s - loss: 0.4757 - mean_squared_error: 0.47 - 0s 189us/sample - loss: 0.7652 - mean_squared_error: 0.7652 - val_loss: 12.0364 - val_mean_squared_error: 12.0364\n"
     ]
    },
    {
     "data": {
      "text/html": [
       "<span style=\"color:#4527A0\"><h1 style=\"font-size:18px\">Trial complete</h1></span>"
      ],
      "text/plain": [
       "<IPython.core.display.HTML object>"
      ]
     },
     "metadata": {},
     "output_type": "display_data"
    },
    {
     "data": {
      "text/html": [
       "<span style=\"color:#4527A0\"><h1 style=\"font-size:18px\">Trial summary</h1></span>"
      ],
      "text/plain": [
       "<IPython.core.display.HTML object>"
      ]
     },
     "metadata": {},
     "output_type": "display_data"
    },
    {
     "data": {
      "text/html": [
       "<span style=\"color:cyan\"> |-Trial ID: c4938d951320beb67b9c6d5620a9faa0</span>"
      ],
      "text/plain": [
       "<IPython.core.display.HTML object>"
      ]
     },
     "metadata": {},
     "output_type": "display_data"
    },
    {
     "data": {
      "text/html": [
       "<span style=\"color:cyan\"> |-Score: 10.656683921813965</span>"
      ],
      "text/plain": [
       "<IPython.core.display.HTML object>"
      ]
     },
     "metadata": {},
     "output_type": "display_data"
    },
    {
     "data": {
      "text/html": [
       "<span style=\"color:cyan\"> |-Best step: 0</span>"
      ],
      "text/plain": [
       "<IPython.core.display.HTML object>"
      ]
     },
     "metadata": {},
     "output_type": "display_data"
    },
    {
     "data": {
      "text/html": [
       "<span style=\"color:#7E57C2\"><h2 style=\"font-size:16px\">Hyperparameters:</h2></span>"
      ],
      "text/plain": [
       "<IPython.core.display.HTML object>"
      ]
     },
     "metadata": {},
     "output_type": "display_data"
    },
    {
     "data": {
      "text/html": [
       "<span style=\"color:cyan\"> |-act_0: tanh</span>"
      ],
      "text/plain": [
       "<IPython.core.display.HTML object>"
      ]
     },
     "metadata": {},
     "output_type": "display_data"
    },
    {
     "data": {
      "text/html": [
       "<span style=\"color:blue\"> |-act_1: relu</span>"
      ],
      "text/plain": [
       "<IPython.core.display.HTML object>"
      ]
     },
     "metadata": {},
     "output_type": "display_data"
    },
    {
     "data": {
      "text/html": [
       "<span style=\"color:cyan\"> |-act_2: relu</span>"
      ],
      "text/plain": [
       "<IPython.core.display.HTML object>"
      ]
     },
     "metadata": {},
     "output_type": "display_data"
    },
    {
     "data": {
      "text/html": [
       "<span style=\"color:blue\"> |-act_3: relu</span>"
      ],
      "text/plain": [
       "<IPython.core.display.HTML object>"
      ]
     },
     "metadata": {},
     "output_type": "display_data"
    },
    {
     "data": {
      "text/html": [
       "<span style=\"color:cyan\"> |-dropout: 0.30000000000000004</span>"
      ],
      "text/plain": [
       "<IPython.core.display.HTML object>"
      ]
     },
     "metadata": {},
     "output_type": "display_data"
    },
    {
     "data": {
      "text/html": [
       "<span style=\"color:blue\"> |-learning_rate: 0.001</span>"
      ],
      "text/plain": [
       "<IPython.core.display.HTML object>"
      ]
     },
     "metadata": {},
     "output_type": "display_data"
    },
    {
     "data": {
      "text/html": [
       "<span style=\"color:cyan\"> |-momentum: 0.05</span>"
      ],
      "text/plain": [
       "<IPython.core.display.HTML object>"
      ]
     },
     "metadata": {},
     "output_type": "display_data"
    },
    {
     "data": {
      "text/html": [
       "<span style=\"color:blue\"> |-num_layers: 2</span>"
      ],
      "text/plain": [
       "<IPython.core.display.HTML object>"
      ]
     },
     "metadata": {},
     "output_type": "display_data"
    },
    {
     "data": {
      "text/html": [
       "<span style=\"color:cyan\"> |-rho: 0.7500000000000002</span>"
      ],
      "text/plain": [
       "<IPython.core.display.HTML object>"
      ]
     },
     "metadata": {},
     "output_type": "display_data"
    },
    {
     "data": {
      "text/html": [
       "<span style=\"color:blue\"> |-units_0: 80</span>"
      ],
      "text/plain": [
       "<IPython.core.display.HTML object>"
      ]
     },
     "metadata": {},
     "output_type": "display_data"
    },
    {
     "data": {
      "text/html": [
       "<span style=\"color:cyan\"> |-units_1: 60</span>"
      ],
      "text/plain": [
       "<IPython.core.display.HTML object>"
      ]
     },
     "metadata": {},
     "output_type": "display_data"
    },
    {
     "data": {
      "text/html": [
       "<span style=\"color:blue\"> |-units_2: 70</span>"
      ],
      "text/plain": [
       "<IPython.core.display.HTML object>"
      ]
     },
     "metadata": {},
     "output_type": "display_data"
    },
    {
     "data": {
      "text/html": [
       "<span style=\"color:cyan\"> |-units_3: 70</span>"
      ],
      "text/plain": [
       "<IPython.core.display.HTML object>"
      ]
     },
     "metadata": {},
     "output_type": "display_data"
    },
    {
     "name": "stdout",
     "output_type": "stream",
     "text": [
      "Train on 125 samples, validate on 23 samples\n",
      "Epoch 1/5\n",
      "125/125 [==============================] - ETA: 1s - loss: 10.9751 - mean_squared_error: 10.97 - 0s 4ms/sample - loss: 10.7770 - mean_squared_error: 10.7770 - val_loss: 10.1821 - val_mean_squared_error: 10.1821\n",
      "Epoch 2/5\n",
      "125/125 [==============================] - ETA: 0s - loss: 13.9063 - mean_squared_error: 13.90 - 0s 389us/sample - loss: 9.7053 - mean_squared_error: 9.7053 - val_loss: 9.9139 - val_mean_squared_error: 9.9139\n",
      "Epoch 3/5\n",
      "125/125 [==============================] - ETA: 0s - loss: 10.8808 - mean_squared_error: 10.88 - 0s 369us/sample - loss: 9.2213 - mean_squared_error: 9.2213 - val_loss: 9.7928 - val_mean_squared_error: 9.7928\n",
      "Epoch 4/5\n",
      "125/125 [==============================] - ETA: 0s - loss: 6.9171 - mean_squared_error: 6.91 - 0s 377us/sample - loss: 8.2321 - mean_squared_error: 8.2321 - val_loss: 9.6497 - val_mean_squared_error: 9.6497\n",
      "Epoch 5/5\n",
      "125/125 [==============================] - ETA: 0s - loss: 9.7131 - mean_squared_error: 9.71 - 0s 356us/sample - loss: 8.0561 - mean_squared_error: 8.0561 - val_loss: 9.5707 - val_mean_squared_error: 9.5707\n",
      "Train on 125 samples, validate on 23 samples\n",
      "Epoch 1/5\n",
      "125/125 [==============================] - ETA: 1s - loss: 6.3376 - mean_squared_error: 6.33 - 0s 4ms/sample - loss: 9.0678 - mean_squared_error: 9.0678 - val_loss: 9.5856 - val_mean_squared_error: 9.5856\n",
      "Epoch 2/5\n",
      "125/125 [==============================] - ETA: 0s - loss: 7.8382 - mean_squared_error: 7.83 - 0s 214us/sample - loss: 8.1876 - mean_squared_error: 8.1876 - val_loss: 9.7335 - val_mean_squared_error: 9.7335\n",
      "Epoch 3/5\n",
      "125/125 [==============================] - ETA: 0s - loss: 7.1556 - mean_squared_error: 7.15 - 0s 199us/sample - loss: 7.7275 - mean_squared_error: 7.7275 - val_loss: 9.8380 - val_mean_squared_error: 9.8380\n",
      "Epoch 4/5\n",
      "125/125 [==============================] - ETA: 0s - loss: 8.0978 - mean_squared_error: 8.09 - 0s 208us/sample - loss: 7.3275 - mean_squared_error: 7.3275 - val_loss: 9.8073 - val_mean_squared_error: 9.8073\n",
      "Epoch 5/5\n",
      "125/125 [==============================] - ETA: 0s - loss: 6.8087 - mean_squared_error: 6.80 - 0s 202us/sample - loss: 6.8986 - mean_squared_error: 6.8986 - val_loss: 9.9163 - val_mean_squared_error: 9.9163\n",
      "Train on 125 samples, validate on 23 samples\n",
      "Epoch 1/5\n",
      "125/125 [==============================] - ETA: 1s - loss: 15.6541 - mean_squared_error: 15.65 - 0s 4ms/sample - loss: 11.2330 - mean_squared_error: 11.2330 - val_loss: 10.7179 - val_mean_squared_error: 10.7179\n",
      "Epoch 2/5\n",
      "125/125 [==============================] - ETA: 0s - loss: 9.3834 - mean_squared_error: 9.38 - 0s 205us/sample - loss: 10.2608 - mean_squared_error: 10.2608 - val_loss: 10.4573 - val_mean_squared_error: 10.4573\n",
      "Epoch 3/5\n",
      "125/125 [==============================] - ETA: 0s - loss: 8.0335 - mean_squared_error: 8.03 - 0s 199us/sample - loss: 9.3838 - mean_squared_error: 9.3838 - val_loss: 10.3231 - val_mean_squared_error: 10.3231\n",
      "Epoch 4/5\n",
      "125/125 [==============================] - ETA: 0s - loss: 6.6734 - mean_squared_error: 6.67 - 0s 205us/sample - loss: 8.8657 - mean_squared_error: 8.8657 - val_loss: 10.2383 - val_mean_squared_error: 10.2383\n",
      "Epoch 5/5\n",
      "125/125 [==============================] - ETA: 0s - loss: 5.7670 - mean_squared_error: 5.76 - 0s 204us/sample - loss: 8.1098 - mean_squared_error: 8.1098 - val_loss: 10.2664 - val_mean_squared_error: 10.2664\n"
     ]
    },
    {
     "data": {
      "text/html": [
       "<span style=\"color:#4527A0\"><h1 style=\"font-size:18px\">Trial complete</h1></span>"
      ],
      "text/plain": [
       "<IPython.core.display.HTML object>"
      ]
     },
     "metadata": {},
     "output_type": "display_data"
    },
    {
     "data": {
      "text/html": [
       "<span style=\"color:#4527A0\"><h1 style=\"font-size:18px\">Trial summary</h1></span>"
      ],
      "text/plain": [
       "<IPython.core.display.HTML object>"
      ]
     },
     "metadata": {},
     "output_type": "display_data"
    },
    {
     "data": {
      "text/html": [
       "<span style=\"color:cyan\"> |-Trial ID: 588c457c5ce7631e309926d07ecffeee</span>"
      ],
      "text/plain": [
       "<IPython.core.display.HTML object>"
      ]
     },
     "metadata": {},
     "output_type": "display_data"
    },
    {
     "data": {
      "text/html": [
       "<span style=\"color:cyan\"> |-Score: 9.79819107055664</span>"
      ],
      "text/plain": [
       "<IPython.core.display.HTML object>"
      ]
     },
     "metadata": {},
     "output_type": "display_data"
    },
    {
     "data": {
      "text/html": [
       "<span style=\"color:cyan\"> |-Best step: 0</span>"
      ],
      "text/plain": [
       "<IPython.core.display.HTML object>"
      ]
     },
     "metadata": {},
     "output_type": "display_data"
    },
    {
     "data": {
      "text/html": [
       "<span style=\"color:#7E57C2\"><h2 style=\"font-size:16px\">Hyperparameters:</h2></span>"
      ],
      "text/plain": [
       "<IPython.core.display.HTML object>"
      ]
     },
     "metadata": {},
     "output_type": "display_data"
    },
    {
     "data": {
      "text/html": [
       "<span style=\"color:cyan\"> |-act_0: tanh</span>"
      ],
      "text/plain": [
       "<IPython.core.display.HTML object>"
      ]
     },
     "metadata": {},
     "output_type": "display_data"
    },
    {
     "data": {
      "text/html": [
       "<span style=\"color:blue\"> |-act_1: relu</span>"
      ],
      "text/plain": [
       "<IPython.core.display.HTML object>"
      ]
     },
     "metadata": {},
     "output_type": "display_data"
    },
    {
     "data": {
      "text/html": [
       "<span style=\"color:cyan\"> |-act_2: relu</span>"
      ],
      "text/plain": [
       "<IPython.core.display.HTML object>"
      ]
     },
     "metadata": {},
     "output_type": "display_data"
    },
    {
     "data": {
      "text/html": [
       "<span style=\"color:blue\"> |-act_3: relu</span>"
      ],
      "text/plain": [
       "<IPython.core.display.HTML object>"
      ]
     },
     "metadata": {},
     "output_type": "display_data"
    },
    {
     "data": {
      "text/html": [
       "<span style=\"color:cyan\"> |-dropout: 0.30000000000000004</span>"
      ],
      "text/plain": [
       "<IPython.core.display.HTML object>"
      ]
     },
     "metadata": {},
     "output_type": "display_data"
    },
    {
     "data": {
      "text/html": [
       "<span style=\"color:blue\"> |-learning_rate: 0.0001</span>"
      ],
      "text/plain": [
       "<IPython.core.display.HTML object>"
      ]
     },
     "metadata": {},
     "output_type": "display_data"
    },
    {
     "data": {
      "text/html": [
       "<span style=\"color:cyan\"> |-momentum: 0.05</span>"
      ],
      "text/plain": [
       "<IPython.core.display.HTML object>"
      ]
     },
     "metadata": {},
     "output_type": "display_data"
    },
    {
     "data": {
      "text/html": [
       "<span style=\"color:blue\"> |-num_layers: 3</span>"
      ],
      "text/plain": [
       "<IPython.core.display.HTML object>"
      ]
     },
     "metadata": {},
     "output_type": "display_data"
    },
    {
     "data": {
      "text/html": [
       "<span style=\"color:cyan\"> |-rho: 0.7000000000000002</span>"
      ],
      "text/plain": [
       "<IPython.core.display.HTML object>"
      ]
     },
     "metadata": {},
     "output_type": "display_data"
    },
    {
     "data": {
      "text/html": [
       "<span style=\"color:blue\"> |-units_0: 60</span>"
      ],
      "text/plain": [
       "<IPython.core.display.HTML object>"
      ]
     },
     "metadata": {},
     "output_type": "display_data"
    },
    {
     "data": {
      "text/html": [
       "<span style=\"color:cyan\"> |-units_1: 80</span>"
      ],
      "text/plain": [
       "<IPython.core.display.HTML object>"
      ]
     },
     "metadata": {},
     "output_type": "display_data"
    },
    {
     "data": {
      "text/html": [
       "<span style=\"color:blue\"> |-units_2: 90</span>"
      ],
      "text/plain": [
       "<IPython.core.display.HTML object>"
      ]
     },
     "metadata": {},
     "output_type": "display_data"
    },
    {
     "data": {
      "text/html": [
       "<span style=\"color:cyan\"> |-units_3: 30</span>"
      ],
      "text/plain": [
       "<IPython.core.display.HTML object>"
      ]
     },
     "metadata": {},
     "output_type": "display_data"
    },
    {
     "name": "stdout",
     "output_type": "stream",
     "text": [
      "Train on 125 samples, validate on 23 samples\n",
      "Epoch 1/5\n",
      "125/125 [==============================] - ETA: 0s - loss: 7.6412 - mean_squared_error: 7.64 - 0s 4ms/sample - loss: 384.8100 - mean_squared_error: 384.8100 - val_loss: 7364.5679 - val_mean_squared_error: 7364.5679\n",
      "Epoch 2/5\n",
      "125/125 [==============================] - ETA: 0s - loss: 5337.9189 - mean_squared_error: 5337.91 - 0s 381us/sample - loss: 1719.4047 - mean_squared_error: 1719.4049 - val_loss: 119.4212 - val_mean_squared_error: 119.4212\n",
      "Epoch 3/5\n",
      "125/125 [==============================] - ETA: 0s - loss: 257.4059 - mean_squared_error: 257.40 - 0s 391us/sample - loss: 163.4783 - mean_squared_error: 163.4783 - val_loss: 57.8395 - val_mean_squared_error: 57.8395\n",
      "Epoch 4/5\n",
      "125/125 [==============================] - ETA: 0s - loss: 68.3425 - mean_squared_error: 68.34 - 0s 392us/sample - loss: 65.1070 - mean_squared_error: 65.1070 - val_loss: 26.1288 - val_mean_squared_error: 26.1288\n",
      "Epoch 5/5\n",
      "125/125 [==============================] - ETA: 0s - loss: 33.7464 - mean_squared_error: 33.74 - 0s 213us/sample - loss: 38.3954 - mean_squared_error: 38.3954 - val_loss: 51.0711 - val_mean_squared_error: 51.0711\n",
      "Train on 125 samples, validate on 23 samples\n",
      "Epoch 1/5\n",
      "125/125 [==============================] - ETA: 0s - loss: 11.2762 - mean_squared_error: 11.27 - 0s 3ms/sample - loss: 1165.7841 - mean_squared_error: 1165.7841 - val_loss: 301.3193 - val_mean_squared_error: 301.3193\n",
      "Epoch 2/5\n",
      "125/125 [==============================] - ETA: 0s - loss: 547.0780 - mean_squared_error: 547.07 - 0s 204us/sample - loss: 344.3039 - mean_squared_error: 344.3039 - val_loss: 159.0439 - val_mean_squared_error: 159.0439\n",
      "Epoch 3/5\n",
      "125/125 [==============================] - ETA: 0s - loss: 165.2420 - mean_squared_error: 165.24 - 0s 203us/sample - loss: 154.7402 - mean_squared_error: 154.7402 - val_loss: 92.0913 - val_mean_squared_error: 92.0913\n",
      "Epoch 4/5\n",
      "125/125 [==============================] - ETA: 0s - loss: 127.5296 - mean_squared_error: 127.52 - 0s 202us/sample - loss: 147.5022 - mean_squared_error: 147.5022 - val_loss: 97.3221 - val_mean_squared_error: 97.3221\n",
      "Epoch 5/5\n",
      "125/125 [==============================] - ETA: 0s - loss: 101.8057 - mean_squared_error: 101.80 - 0s 200us/sample - loss: 62.5933 - mean_squared_error: 62.5933 - val_loss: 61.7045 - val_mean_squared_error: 61.7045\n",
      "Train on 125 samples, validate on 23 samples\n",
      "Epoch 1/5\n",
      "125/125 [==============================] - ETA: 0s - loss: 7.4773 - mean_squared_error: 7.47 - 0s 3ms/sample - loss: 338.1401 - mean_squared_error: 338.1401 - val_loss: 3049.3896 - val_mean_squared_error: 3049.3896\n",
      "Epoch 2/5\n",
      "125/125 [==============================] - ETA: 0s - loss: 1184.8262 - mean_squared_error: 1184.82 - 0s 209us/sample - loss: 693.2829 - mean_squared_error: 693.2829 - val_loss: 677.3950 - val_mean_squared_error: 677.3950\n",
      "Epoch 3/5\n",
      "125/125 [==============================] - ETA: 0s - loss: 740.2030 - mean_squared_error: 740.20 - 0s 194us/sample - loss: 245.3868 - mean_squared_error: 245.3868 - val_loss: 39.7480 - val_mean_squared_error: 39.7480\n",
      "Epoch 4/5\n",
      "125/125 [==============================] - ETA: 0s - loss: 64.6408 - mean_squared_error: 64.64 - 0s 371us/sample - loss: 33.4936 - mean_squared_error: 33.4936 - val_loss: 24.9911 - val_mean_squared_error: 24.9911\n",
      "Epoch 5/5\n",
      "125/125 [==============================] - ETA: 0s - loss: 23.6736 - mean_squared_error: 23.67 - 0s 363us/sample - loss: 27.2097 - mean_squared_error: 27.2097 - val_loss: 15.6099 - val_mean_squared_error: 15.6099\n"
     ]
    },
    {
     "data": {
      "text/html": [
       "<span style=\"color:#4527A0\"><h1 style=\"font-size:18px\">Trial complete</h1></span>"
      ],
      "text/plain": [
       "<IPython.core.display.HTML object>"
      ]
     },
     "metadata": {},
     "output_type": "display_data"
    },
    {
     "data": {
      "text/html": [
       "<span style=\"color:#4527A0\"><h1 style=\"font-size:18px\">Trial summary</h1></span>"
      ],
      "text/plain": [
       "<IPython.core.display.HTML object>"
      ]
     },
     "metadata": {},
     "output_type": "display_data"
    },
    {
     "data": {
      "text/html": [
       "<span style=\"color:cyan\"> |-Trial ID: 55fee351bb6627e9eb8da65c42d941fe</span>"
      ],
      "text/plain": [
       "<IPython.core.display.HTML object>"
      ]
     },
     "metadata": {},
     "output_type": "display_data"
    },
    {
     "data": {
      "text/html": [
       "<span style=\"color:cyan\"> |-Score: 34.4810791015625</span>"
      ],
      "text/plain": [
       "<IPython.core.display.HTML object>"
      ]
     },
     "metadata": {},
     "output_type": "display_data"
    },
    {
     "data": {
      "text/html": [
       "<span style=\"color:cyan\"> |-Best step: 0</span>"
      ],
      "text/plain": [
       "<IPython.core.display.HTML object>"
      ]
     },
     "metadata": {},
     "output_type": "display_data"
    },
    {
     "data": {
      "text/html": [
       "<span style=\"color:#7E57C2\"><h2 style=\"font-size:16px\">Hyperparameters:</h2></span>"
      ],
      "text/plain": [
       "<IPython.core.display.HTML object>"
      ]
     },
     "metadata": {},
     "output_type": "display_data"
    },
    {
     "data": {
      "text/html": [
       "<span style=\"color:cyan\"> |-act_0: relu</span>"
      ],
      "text/plain": [
       "<IPython.core.display.HTML object>"
      ]
     },
     "metadata": {},
     "output_type": "display_data"
    },
    {
     "data": {
      "text/html": [
       "<span style=\"color:blue\"> |-act_1: relu</span>"
      ],
      "text/plain": [
       "<IPython.core.display.HTML object>"
      ]
     },
     "metadata": {},
     "output_type": "display_data"
    },
    {
     "data": {
      "text/html": [
       "<span style=\"color:cyan\"> |-act_2: relu</span>"
      ],
      "text/plain": [
       "<IPython.core.display.HTML object>"
      ]
     },
     "metadata": {},
     "output_type": "display_data"
    },
    {
     "data": {
      "text/html": [
       "<span style=\"color:blue\"> |-act_3: tanh</span>"
      ],
      "text/plain": [
       "<IPython.core.display.HTML object>"
      ]
     },
     "metadata": {},
     "output_type": "display_data"
    },
    {
     "data": {
      "text/html": [
       "<span style=\"color:cyan\"> |-dropout: 0.4</span>"
      ],
      "text/plain": [
       "<IPython.core.display.HTML object>"
      ]
     },
     "metadata": {},
     "output_type": "display_data"
    },
    {
     "data": {
      "text/html": [
       "<span style=\"color:blue\"> |-learning_rate: 0.01</span>"
      ],
      "text/plain": [
       "<IPython.core.display.HTML object>"
      ]
     },
     "metadata": {},
     "output_type": "display_data"
    },
    {
     "data": {
      "text/html": [
       "<span style=\"color:cyan\"> |-momentum: 0.45</span>"
      ],
      "text/plain": [
       "<IPython.core.display.HTML object>"
      ]
     },
     "metadata": {},
     "output_type": "display_data"
    },
    {
     "data": {
      "text/html": [
       "<span style=\"color:blue\"> |-num_layers: 2</span>"
      ],
      "text/plain": [
       "<IPython.core.display.HTML object>"
      ]
     },
     "metadata": {},
     "output_type": "display_data"
    },
    {
     "data": {
      "text/html": [
       "<span style=\"color:cyan\"> |-rho: 0.55</span>"
      ],
      "text/plain": [
       "<IPython.core.display.HTML object>"
      ]
     },
     "metadata": {},
     "output_type": "display_data"
    },
    {
     "data": {
      "text/html": [
       "<span style=\"color:blue\"> |-units_0: 90</span>"
      ],
      "text/plain": [
       "<IPython.core.display.HTML object>"
      ]
     },
     "metadata": {},
     "output_type": "display_data"
    },
    {
     "data": {
      "text/html": [
       "<span style=\"color:cyan\"> |-units_1: 80</span>"
      ],
      "text/plain": [
       "<IPython.core.display.HTML object>"
      ]
     },
     "metadata": {},
     "output_type": "display_data"
    },
    {
     "data": {
      "text/html": [
       "<span style=\"color:blue\"> |-units_2: 80</span>"
      ],
      "text/plain": [
       "<IPython.core.display.HTML object>"
      ]
     },
     "metadata": {},
     "output_type": "display_data"
    },
    {
     "data": {
      "text/html": [
       "<span style=\"color:cyan\"> |-units_3: 70</span>"
      ],
      "text/plain": [
       "<IPython.core.display.HTML object>"
      ]
     },
     "metadata": {},
     "output_type": "display_data"
    },
    {
     "name": "stdout",
     "output_type": "stream",
     "text": [
      "Train on 125 samples, validate on 23 samples\n",
      "Epoch 1/5\n",
      "125/125 [==============================] - ETA: 1s - loss: 11.0858 - mean_squared_error: 11.08 - 0s 4ms/sample - loss: 9.2712 - mean_squared_error: 9.2712 - val_loss: 9.9033 - val_mean_squared_error: 9.9033\n",
      "Epoch 2/5\n",
      "125/125 [==============================] - ETA: 0s - loss: 7.4264 - mean_squared_error: 7.42 - 0s 219us/sample - loss: 6.7451 - mean_squared_error: 6.7451 - val_loss: 10.0295 - val_mean_squared_error: 10.0295\n",
      "Epoch 3/5\n",
      "125/125 [==============================] - ETA: 0s - loss: 4.8383 - mean_squared_error: 4.83 - 0s 203us/sample - loss: 5.3617 - mean_squared_error: 5.3617 - val_loss: 9.9726 - val_mean_squared_error: 9.9726\n",
      "Epoch 4/5\n",
      "125/125 [==============================] - ETA: 0s - loss: 5.4446 - mean_squared_error: 5.44 - 0s 213us/sample - loss: 4.5218 - mean_squared_error: 4.5218 - val_loss: 10.2364 - val_mean_squared_error: 10.2364\n",
      "Epoch 5/5\n",
      "125/125 [==============================] - ETA: 0s - loss: 3.3491 - mean_squared_error: 3.34 - 0s 200us/sample - loss: 3.5581 - mean_squared_error: 3.5581 - val_loss: 10.6294 - val_mean_squared_error: 10.6294\n",
      "Train on 125 samples, validate on 23 samples\n",
      "Epoch 1/5\n",
      "125/125 [==============================] - ETA: 1s - loss: 8.2789 - mean_squared_error: 8.27 - 0s 4ms/sample - loss: 8.5563 - mean_squared_error: 8.5563 - val_loss: 9.3561 - val_mean_squared_error: 9.3561\n",
      "Epoch 2/5\n",
      "125/125 [==============================] - ETA: 0s - loss: 5.6305 - mean_squared_error: 5.63 - 0s 215us/sample - loss: 6.1779 - mean_squared_error: 6.1779 - val_loss: 9.5949 - val_mean_squared_error: 9.5949\n",
      "Epoch 3/5\n",
      "125/125 [==============================] - ETA: 0s - loss: 5.4494 - mean_squared_error: 5.44 - 0s 201us/sample - loss: 4.9166 - mean_squared_error: 4.9166 - val_loss: 9.8210 - val_mean_squared_error: 9.8210\n",
      "Epoch 4/5\n",
      "125/125 [==============================] - ETA: 0s - loss: 3.7533 - mean_squared_error: 3.75 - 0s 215us/sample - loss: 3.9312 - mean_squared_error: 3.9312 - val_loss: 10.0737 - val_mean_squared_error: 10.0737\n",
      "Epoch 5/5\n",
      "125/125 [==============================] - ETA: 0s - loss: 1.9606 - mean_squared_error: 1.96 - 0s 206us/sample - loss: 3.3419 - mean_squared_error: 3.3419 - val_loss: 10.0969 - val_mean_squared_error: 10.0969\n",
      "Train on 125 samples, validate on 23 samples\n",
      "Epoch 1/5\n",
      "125/125 [==============================] - ETA: 1s - loss: 6.9823 - mean_squared_error: 6.98 - 0s 4ms/sample - loss: 9.1394 - mean_squared_error: 9.1394 - val_loss: 9.3164 - val_mean_squared_error: 9.3164\n",
      "Epoch 2/5\n",
      "125/125 [==============================] - ETA: 0s - loss: 5.6471 - mean_squared_error: 5.64 - 0s 221us/sample - loss: 6.8972 - mean_squared_error: 6.8972 - val_loss: 9.4473 - val_mean_squared_error: 9.4473\n",
      "Epoch 3/5\n",
      "125/125 [==============================] - ETA: 0s - loss: 5.3971 - mean_squared_error: 5.39 - 0s 205us/sample - loss: 5.7371 - mean_squared_error: 5.7371 - val_loss: 9.4726 - val_mean_squared_error: 9.4726\n",
      "Epoch 4/5\n",
      "125/125 [==============================] - ETA: 0s - loss: 4.4889 - mean_squared_error: 4.48 - 0s 207us/sample - loss: 4.7440 - mean_squared_error: 4.7440 - val_loss: 9.8224 - val_mean_squared_error: 9.8224\n",
      "Epoch 5/5\n",
      "125/125 [==============================] - ETA: 0s - loss: 4.2416 - mean_squared_error: 4.24 - 0s 204us/sample - loss: 4.0522 - mean_squared_error: 4.0522 - val_loss: 9.9530 - val_mean_squared_error: 9.9530\n"
     ]
    },
    {
     "data": {
      "text/html": [
       "<span style=\"color:#4527A0\"><h1 style=\"font-size:18px\">Trial complete</h1></span>"
      ],
      "text/plain": [
       "<IPython.core.display.HTML object>"
      ]
     },
     "metadata": {},
     "output_type": "display_data"
    },
    {
     "data": {
      "text/html": [
       "<span style=\"color:#4527A0\"><h1 style=\"font-size:18px\">Trial summary</h1></span>"
      ],
      "text/plain": [
       "<IPython.core.display.HTML object>"
      ]
     },
     "metadata": {},
     "output_type": "display_data"
    },
    {
     "data": {
      "text/html": [
       "<span style=\"color:cyan\"> |-Trial ID: 5de7f20b0553e82a357dd7547039c13a</span>"
      ],
      "text/plain": [
       "<IPython.core.display.HTML object>"
      ]
     },
     "metadata": {},
     "output_type": "display_data"
    },
    {
     "data": {
      "text/html": [
       "<span style=\"color:cyan\"> |-Score: 9.52527141571045</span>"
      ],
      "text/plain": [
       "<IPython.core.display.HTML object>"
      ]
     },
     "metadata": {},
     "output_type": "display_data"
    },
    {
     "data": {
      "text/html": [
       "<span style=\"color:cyan\"> |-Best step: 0</span>"
      ],
      "text/plain": [
       "<IPython.core.display.HTML object>"
      ]
     },
     "metadata": {},
     "output_type": "display_data"
    },
    {
     "data": {
      "text/html": [
       "<span style=\"color:#7E57C2\"><h2 style=\"font-size:16px\">Hyperparameters:</h2></span>"
      ],
      "text/plain": [
       "<IPython.core.display.HTML object>"
      ]
     },
     "metadata": {},
     "output_type": "display_data"
    },
    {
     "data": {
      "text/html": [
       "<span style=\"color:cyan\"> |-act_0: tanh</span>"
      ],
      "text/plain": [
       "<IPython.core.display.HTML object>"
      ]
     },
     "metadata": {},
     "output_type": "display_data"
    },
    {
     "data": {
      "text/html": [
       "<span style=\"color:blue\"> |-act_1: tanh</span>"
      ],
      "text/plain": [
       "<IPython.core.display.HTML object>"
      ]
     },
     "metadata": {},
     "output_type": "display_data"
    },
    {
     "data": {
      "text/html": [
       "<span style=\"color:cyan\"> |-act_2: relu</span>"
      ],
      "text/plain": [
       "<IPython.core.display.HTML object>"
      ]
     },
     "metadata": {},
     "output_type": "display_data"
    },
    {
     "data": {
      "text/html": [
       "<span style=\"color:blue\"> |-act_3: tanh</span>"
      ],
      "text/plain": [
       "<IPython.core.display.HTML object>"
      ]
     },
     "metadata": {},
     "output_type": "display_data"
    },
    {
     "data": {
      "text/html": [
       "<span style=\"color:cyan\"> |-dropout: 0.1</span>"
      ],
      "text/plain": [
       "<IPython.core.display.HTML object>"
      ]
     },
     "metadata": {},
     "output_type": "display_data"
    },
    {
     "data": {
      "text/html": [
       "<span style=\"color:blue\"> |-learning_rate: 0.0001</span>"
      ],
      "text/plain": [
       "<IPython.core.display.HTML object>"
      ]
     },
     "metadata": {},
     "output_type": "display_data"
    },
    {
     "data": {
      "text/html": [
       "<span style=\"color:cyan\"> |-momentum: 0.35000000000000003</span>"
      ],
      "text/plain": [
       "<IPython.core.display.HTML object>"
      ]
     },
     "metadata": {},
     "output_type": "display_data"
    },
    {
     "data": {
      "text/html": [
       "<span style=\"color:blue\"> |-num_layers: 3</span>"
      ],
      "text/plain": [
       "<IPython.core.display.HTML object>"
      ]
     },
     "metadata": {},
     "output_type": "display_data"
    },
    {
     "data": {
      "text/html": [
       "<span style=\"color:cyan\"> |-rho: 0.7000000000000002</span>"
      ],
      "text/plain": [
       "<IPython.core.display.HTML object>"
      ]
     },
     "metadata": {},
     "output_type": "display_data"
    },
    {
     "data": {
      "text/html": [
       "<span style=\"color:blue\"> |-units_0: 80</span>"
      ],
      "text/plain": [
       "<IPython.core.display.HTML object>"
      ]
     },
     "metadata": {},
     "output_type": "display_data"
    },
    {
     "data": {
      "text/html": [
       "<span style=\"color:cyan\"> |-units_1: 60</span>"
      ],
      "text/plain": [
       "<IPython.core.display.HTML object>"
      ]
     },
     "metadata": {},
     "output_type": "display_data"
    },
    {
     "data": {
      "text/html": [
       "<span style=\"color:blue\"> |-units_2: 60</span>"
      ],
      "text/plain": [
       "<IPython.core.display.HTML object>"
      ]
     },
     "metadata": {},
     "output_type": "display_data"
    },
    {
     "data": {
      "text/html": [
       "<span style=\"color:cyan\"> |-units_3: 90</span>"
      ],
      "text/plain": [
       "<IPython.core.display.HTML object>"
      ]
     },
     "metadata": {},
     "output_type": "display_data"
    },
    {
     "name": "stdout",
     "output_type": "stream",
     "text": [
      "Train on 125 samples, validate on 23 samples\n",
      "Epoch 1/5\n",
      "125/125 [==============================] - ETA: 1s - loss: 10.6294 - mean_squared_error: 10.62 - 1s 4ms/sample - loss: 8.9147 - mean_squared_error: 8.9147 - val_loss: 9.3013 - val_mean_squared_error: 9.3013\n",
      "Epoch 2/5\n",
      "125/125 [==============================] - ETA: 0s - loss: 6.7564 - mean_squared_error: 6.75 - 0s 392us/sample - loss: 7.6251 - mean_squared_error: 7.6251 - val_loss: 9.2694 - val_mean_squared_error: 9.2694\n",
      "Epoch 3/5\n",
      "125/125 [==============================] - ETA: 0s - loss: 6.0257 - mean_squared_error: 6.02 - 0s 218us/sample - loss: 6.9969 - mean_squared_error: 6.9969 - val_loss: 9.3450 - val_mean_squared_error: 9.3450\n",
      "Epoch 4/5\n",
      "125/125 [==============================] - ETA: 0s - loss: 5.6564 - mean_squared_error: 5.65 - 0s 213us/sample - loss: 6.2174 - mean_squared_error: 6.2174 - val_loss: 9.5349 - val_mean_squared_error: 9.5349\n",
      "Epoch 5/5\n",
      "125/125 [==============================] - ETA: 0s - loss: 5.2790 - mean_squared_error: 5.27 - 0s 211us/sample - loss: 5.7222 - mean_squared_error: 5.7222 - val_loss: 9.5801 - val_mean_squared_error: 9.5801\n",
      "Train on 125 samples, validate on 23 samples\n",
      "Epoch 1/5\n",
      "125/125 [==============================] - ETA: 1s - loss: 9.0661 - mean_squared_error: 9.06 - 1s 4ms/sample - loss: 10.1031 - mean_squared_error: 10.1031 - val_loss: 8.2576 - val_mean_squared_error: 8.2576\n",
      "Epoch 2/5\n",
      "125/125 [==============================] - ETA: 0s - loss: 7.8613 - mean_squared_error: 7.86 - 0s 397us/sample - loss: 8.0352 - mean_squared_error: 8.0352 - val_loss: 7.9580 - val_mean_squared_error: 7.9580\n",
      "Epoch 3/5\n",
      "125/125 [==============================] - ETA: 0s - loss: 6.0208 - mean_squared_error: 6.02 - 0s 230us/sample - loss: 7.0031 - mean_squared_error: 7.0031 - val_loss: 7.9904 - val_mean_squared_error: 7.9904\n",
      "Epoch 4/5\n",
      "125/125 [==============================] - ETA: 0s - loss: 5.4503 - mean_squared_error: 5.45 - 0s 212us/sample - loss: 6.1218 - mean_squared_error: 6.1218 - val_loss: 7.9920 - val_mean_squared_error: 7.9920\n",
      "Epoch 5/5\n",
      "125/125 [==============================] - ETA: 0s - loss: 5.4613 - mean_squared_error: 5.46 - 0s 205us/sample - loss: 5.7544 - mean_squared_error: 5.7544 - val_loss: 8.0669 - val_mean_squared_error: 8.0669\n",
      "Train on 125 samples, validate on 23 samples\n",
      "Epoch 1/5\n",
      "125/125 [==============================] - ETA: 1s - loss: 9.3273 - mean_squared_error: 9.32 - 1s 4ms/sample - loss: 9.6604 - mean_squared_error: 9.6604 - val_loss: 9.5155 - val_mean_squared_error: 9.5155\n",
      "Epoch 2/5\n",
      "125/125 [==============================] - ETA: 0s - loss: 3.6161 - mean_squared_error: 3.61 - 0s 220us/sample - loss: 8.4143 - mean_squared_error: 8.4143 - val_loss: 9.3304 - val_mean_squared_error: 9.3304\n",
      "Epoch 3/5\n",
      "125/125 [==============================] - ETA: 0s - loss: 9.5679 - mean_squared_error: 9.56 - 0s 216us/sample - loss: 7.4513 - mean_squared_error: 7.4513 - val_loss: 9.3617 - val_mean_squared_error: 9.3617\n",
      "Epoch 4/5\n",
      "125/125 [==============================] - ETA: 0s - loss: 8.4079 - mean_squared_error: 8.40 - 0s 227us/sample - loss: 6.8754 - mean_squared_error: 6.8754 - val_loss: 9.4776 - val_mean_squared_error: 9.4776\n",
      "Epoch 5/5\n",
      "125/125 [==============================] - ETA: 0s - loss: 7.6275 - mean_squared_error: 7.62 - 0s 214us/sample - loss: 6.4125 - mean_squared_error: 6.4125 - val_loss: 9.6248 - val_mean_squared_error: 9.6248\n"
     ]
    },
    {
     "data": {
      "text/html": [
       "<span style=\"color:#4527A0\"><h1 style=\"font-size:18px\">Trial complete</h1></span>"
      ],
      "text/plain": [
       "<IPython.core.display.HTML object>"
      ]
     },
     "metadata": {},
     "output_type": "display_data"
    },
    {
     "data": {
      "text/html": [
       "<span style=\"color:#4527A0\"><h1 style=\"font-size:18px\">Trial summary</h1></span>"
      ],
      "text/plain": [
       "<IPython.core.display.HTML object>"
      ]
     },
     "metadata": {},
     "output_type": "display_data"
    },
    {
     "data": {
      "text/html": [
       "<span style=\"color:cyan\"> |-Trial ID: 5ca1c1e9defdc97b5b803a4650daffa3</span>"
      ],
      "text/plain": [
       "<IPython.core.display.HTML object>"
      ]
     },
     "metadata": {},
     "output_type": "display_data"
    },
    {
     "data": {
      "text/html": [
       "<span style=\"color:cyan\"> |-Score: 8.85258674621582</span>"
      ],
      "text/plain": [
       "<IPython.core.display.HTML object>"
      ]
     },
     "metadata": {},
     "output_type": "display_data"
    },
    {
     "data": {
      "text/html": [
       "<span style=\"color:cyan\"> |-Best step: 0</span>"
      ],
      "text/plain": [
       "<IPython.core.display.HTML object>"
      ]
     },
     "metadata": {},
     "output_type": "display_data"
    },
    {
     "data": {
      "text/html": [
       "<span style=\"color:#7E57C2\"><h2 style=\"font-size:16px\">Hyperparameters:</h2></span>"
      ],
      "text/plain": [
       "<IPython.core.display.HTML object>"
      ]
     },
     "metadata": {},
     "output_type": "display_data"
    },
    {
     "data": {
      "text/html": [
       "<span style=\"color:cyan\"> |-act_0: relu</span>"
      ],
      "text/plain": [
       "<IPython.core.display.HTML object>"
      ]
     },
     "metadata": {},
     "output_type": "display_data"
    },
    {
     "data": {
      "text/html": [
       "<span style=\"color:blue\"> |-act_1: tanh</span>"
      ],
      "text/plain": [
       "<IPython.core.display.HTML object>"
      ]
     },
     "metadata": {},
     "output_type": "display_data"
    },
    {
     "data": {
      "text/html": [
       "<span style=\"color:cyan\"> |-act_2: relu</span>"
      ],
      "text/plain": [
       "<IPython.core.display.HTML object>"
      ]
     },
     "metadata": {},
     "output_type": "display_data"
    },
    {
     "data": {
      "text/html": [
       "<span style=\"color:blue\"> |-act_3: tanh</span>"
      ],
      "text/plain": [
       "<IPython.core.display.HTML object>"
      ]
     },
     "metadata": {},
     "output_type": "display_data"
    },
    {
     "data": {
      "text/html": [
       "<span style=\"color:cyan\"> |-dropout: 0.30000000000000004</span>"
      ],
      "text/plain": [
       "<IPython.core.display.HTML object>"
      ]
     },
     "metadata": {},
     "output_type": "display_data"
    },
    {
     "data": {
      "text/html": [
       "<span style=\"color:blue\"> |-learning_rate: 0.0001</span>"
      ],
      "text/plain": [
       "<IPython.core.display.HTML object>"
      ]
     },
     "metadata": {},
     "output_type": "display_data"
    },
    {
     "data": {
      "text/html": [
       "<span style=\"color:cyan\"> |-momentum: 0.1</span>"
      ],
      "text/plain": [
       "<IPython.core.display.HTML object>"
      ]
     },
     "metadata": {},
     "output_type": "display_data"
    },
    {
     "data": {
      "text/html": [
       "<span style=\"color:blue\"> |-num_layers: 4</span>"
      ],
      "text/plain": [
       "<IPython.core.display.HTML object>"
      ]
     },
     "metadata": {},
     "output_type": "display_data"
    },
    {
     "data": {
      "text/html": [
       "<span style=\"color:cyan\"> |-rho: 0.8500000000000003</span>"
      ],
      "text/plain": [
       "<IPython.core.display.HTML object>"
      ]
     },
     "metadata": {},
     "output_type": "display_data"
    },
    {
     "data": {
      "text/html": [
       "<span style=\"color:blue\"> |-units_0: 50</span>"
      ],
      "text/plain": [
       "<IPython.core.display.HTML object>"
      ]
     },
     "metadata": {},
     "output_type": "display_data"
    },
    {
     "data": {
      "text/html": [
       "<span style=\"color:cyan\"> |-units_1: 70</span>"
      ],
      "text/plain": [
       "<IPython.core.display.HTML object>"
      ]
     },
     "metadata": {},
     "output_type": "display_data"
    },
    {
     "data": {
      "text/html": [
       "<span style=\"color:blue\"> |-units_2: 90</span>"
      ],
      "text/plain": [
       "<IPython.core.display.HTML object>"
      ]
     },
     "metadata": {},
     "output_type": "display_data"
    },
    {
     "data": {
      "text/html": [
       "<span style=\"color:cyan\"> |-units_3: 60</span>"
      ],
      "text/plain": [
       "<IPython.core.display.HTML object>"
      ]
     },
     "metadata": {},
     "output_type": "display_data"
    },
    {
     "name": "stdout",
     "output_type": "stream",
     "text": [
      "Train on 125 samples, validate on 23 samples\n",
      "Epoch 1/5\n",
      "125/125 [==============================] - ETA: 0s - loss: 9.0976 - mean_squared_error: 9.09 - 0s 3ms/sample - loss: 10.6225 - mean_squared_error: 10.6225 - val_loss: 12.5889 - val_mean_squared_error: 12.5889\n",
      "Epoch 2/5\n",
      "125/125 [==============================] - ETA: 0s - loss: 8.4788 - mean_squared_error: 8.47 - 0s 202us/sample - loss: 8.1502 - mean_squared_error: 8.1502 - val_loss: 13.2920 - val_mean_squared_error: 13.2920\n",
      "Epoch 3/5\n",
      "125/125 [==============================] - ETA: 0s - loss: 7.7241 - mean_squared_error: 7.72 - 0s 192us/sample - loss: 7.0469 - mean_squared_error: 7.0469 - val_loss: 14.1904 - val_mean_squared_error: 14.1904\n",
      "Epoch 4/5\n",
      "125/125 [==============================] - ETA: 0s - loss: 6.4125 - mean_squared_error: 6.41 - 0s 196us/sample - loss: 6.1718 - mean_squared_error: 6.1718 - val_loss: 14.6887 - val_mean_squared_error: 14.6887\n",
      "Epoch 5/5\n",
      "125/125 [==============================] - ETA: 0s - loss: 2.5000 - mean_squared_error: 2.50 - 0s 184us/sample - loss: 4.5430 - mean_squared_error: 4.5430 - val_loss: 14.7617 - val_mean_squared_error: 14.7617\n",
      "Train on 125 samples, validate on 23 samples\n",
      "Epoch 1/5\n",
      "125/125 [==============================] - ETA: 0s - loss: 10.7781 - mean_squared_error: 10.77 - 0s 3ms/sample - loss: 11.1236 - mean_squared_error: 11.1236 - val_loss: 11.0630 - val_mean_squared_error: 11.0630\n",
      "Epoch 2/5\n",
      "125/125 [==============================] - ETA: 0s - loss: 6.4693 - mean_squared_error: 6.46 - 0s 205us/sample - loss: 8.1121 - mean_squared_error: 8.1121 - val_loss: 11.5470 - val_mean_squared_error: 11.5470\n",
      "Epoch 3/5\n",
      "125/125 [==============================] - ETA: 0s - loss: 6.6560 - mean_squared_error: 6.65 - 0s 198us/sample - loss: 6.3283 - mean_squared_error: 6.3283 - val_loss: 12.1309 - val_mean_squared_error: 12.1309\n",
      "Epoch 4/5\n",
      "125/125 [==============================] - ETA: 0s - loss: 5.1764 - mean_squared_error: 5.17 - 0s 198us/sample - loss: 5.7860 - mean_squared_error: 5.7860 - val_loss: 12.3273 - val_mean_squared_error: 12.3273\n",
      "Epoch 5/5\n",
      "125/125 [==============================] - ETA: 0s - loss: 6.3824 - mean_squared_error: 6.38 - 0s 184us/sample - loss: 5.1630 - mean_squared_error: 5.1630 - val_loss: 12.7651 - val_mean_squared_error: 12.7651\n",
      "Train on 125 samples, validate on 23 samples\n",
      "Epoch 1/5\n",
      "125/125 [==============================] - ETA: 0s - loss: 11.8252 - mean_squared_error: 11.82 - 0s 3ms/sample - loss: 12.3216 - mean_squared_error: 12.3216 - val_loss: 13.0010 - val_mean_squared_error: 13.0010\n",
      "Epoch 2/5\n",
      "125/125 [==============================] - ETA: 0s - loss: 7.1351 - mean_squared_error: 7.13 - 0s 195us/sample - loss: 8.1372 - mean_squared_error: 8.1372 - val_loss: 13.9232 - val_mean_squared_error: 13.9232\n",
      "Epoch 3/5\n",
      "125/125 [==============================] - ETA: 0s - loss: 8.1511 - mean_squared_error: 8.15 - 0s 190us/sample - loss: 6.4425 - mean_squared_error: 6.4425 - val_loss: 13.7917 - val_mean_squared_error: 13.7917\n",
      "Epoch 4/5\n",
      "125/125 [==============================] - ETA: 0s - loss: 6.0934 - mean_squared_error: 6.09 - 0s 189us/sample - loss: 6.1135 - mean_squared_error: 6.1135 - val_loss: 14.4286 - val_mean_squared_error: 14.4286\n",
      "Epoch 5/5\n",
      "125/125 [==============================] - ETA: 0s - loss: 3.0644 - mean_squared_error: 3.06 - 0s 185us/sample - loss: 5.1978 - mean_squared_error: 5.1978 - val_loss: 14.3956 - val_mean_squared_error: 14.3956\n"
     ]
    },
    {
     "data": {
      "text/html": [
       "<span style=\"color:#4527A0\"><h1 style=\"font-size:18px\">Trial complete</h1></span>"
      ],
      "text/plain": [
       "<IPython.core.display.HTML object>"
      ]
     },
     "metadata": {},
     "output_type": "display_data"
    },
    {
     "data": {
      "text/html": [
       "<span style=\"color:#4527A0\"><h1 style=\"font-size:18px\">Trial summary</h1></span>"
      ],
      "text/plain": [
       "<IPython.core.display.HTML object>"
      ]
     },
     "metadata": {},
     "output_type": "display_data"
    },
    {
     "data": {
      "text/html": [
       "<span style=\"color:cyan\"> |-Trial ID: 4aaa638829c7ea954af7a629781f42e0</span>"
      ],
      "text/plain": [
       "<IPython.core.display.HTML object>"
      ]
     },
     "metadata": {},
     "output_type": "display_data"
    },
    {
     "data": {
      "text/html": [
       "<span style=\"color:cyan\"> |-Score: 12.21765422821045</span>"
      ],
      "text/plain": [
       "<IPython.core.display.HTML object>"
      ]
     },
     "metadata": {},
     "output_type": "display_data"
    },
    {
     "data": {
      "text/html": [
       "<span style=\"color:cyan\"> |-Best step: 0</span>"
      ],
      "text/plain": [
       "<IPython.core.display.HTML object>"
      ]
     },
     "metadata": {},
     "output_type": "display_data"
    },
    {
     "data": {
      "text/html": [
       "<span style=\"color:#7E57C2\"><h2 style=\"font-size:16px\">Hyperparameters:</h2></span>"
      ],
      "text/plain": [
       "<IPython.core.display.HTML object>"
      ]
     },
     "metadata": {},
     "output_type": "display_data"
    },
    {
     "data": {
      "text/html": [
       "<span style=\"color:cyan\"> |-act_0: tanh</span>"
      ],
      "text/plain": [
       "<IPython.core.display.HTML object>"
      ]
     },
     "metadata": {},
     "output_type": "display_data"
    },
    {
     "data": {
      "text/html": [
       "<span style=\"color:blue\"> |-act_1: tanh</span>"
      ],
      "text/plain": [
       "<IPython.core.display.HTML object>"
      ]
     },
     "metadata": {},
     "output_type": "display_data"
    },
    {
     "data": {
      "text/html": [
       "<span style=\"color:cyan\"> |-act_2: relu</span>"
      ],
      "text/plain": [
       "<IPython.core.display.HTML object>"
      ]
     },
     "metadata": {},
     "output_type": "display_data"
    },
    {
     "data": {
      "text/html": [
       "<span style=\"color:blue\"> |-act_3: tanh</span>"
      ],
      "text/plain": [
       "<IPython.core.display.HTML object>"
      ]
     },
     "metadata": {},
     "output_type": "display_data"
    },
    {
     "data": {
      "text/html": [
       "<span style=\"color:cyan\"> |-dropout: 0.4</span>"
      ],
      "text/plain": [
       "<IPython.core.display.HTML object>"
      ]
     },
     "metadata": {},
     "output_type": "display_data"
    },
    {
     "data": {
      "text/html": [
       "<span style=\"color:blue\"> |-learning_rate: 0.0001</span>"
      ],
      "text/plain": [
       "<IPython.core.display.HTML object>"
      ]
     },
     "metadata": {},
     "output_type": "display_data"
    },
    {
     "data": {
      "text/html": [
       "<span style=\"color:cyan\"> |-momentum: 0.15000000000000002</span>"
      ],
      "text/plain": [
       "<IPython.core.display.HTML object>"
      ]
     },
     "metadata": {},
     "output_type": "display_data"
    },
    {
     "data": {
      "text/html": [
       "<span style=\"color:blue\"> |-num_layers: 1</span>"
      ],
      "text/plain": [
       "<IPython.core.display.HTML object>"
      ]
     },
     "metadata": {},
     "output_type": "display_data"
    },
    {
     "data": {
      "text/html": [
       "<span style=\"color:cyan\"> |-rho: 0.9000000000000004</span>"
      ],
      "text/plain": [
       "<IPython.core.display.HTML object>"
      ]
     },
     "metadata": {},
     "output_type": "display_data"
    },
    {
     "data": {
      "text/html": [
       "<span style=\"color:blue\"> |-units_0: 70</span>"
      ],
      "text/plain": [
       "<IPython.core.display.HTML object>"
      ]
     },
     "metadata": {},
     "output_type": "display_data"
    },
    {
     "data": {
      "text/html": [
       "<span style=\"color:cyan\"> |-units_1: 90</span>"
      ],
      "text/plain": [
       "<IPython.core.display.HTML object>"
      ]
     },
     "metadata": {},
     "output_type": "display_data"
    },
    {
     "data": {
      "text/html": [
       "<span style=\"color:blue\"> |-units_2: 90</span>"
      ],
      "text/plain": [
       "<IPython.core.display.HTML object>"
      ]
     },
     "metadata": {},
     "output_type": "display_data"
    },
    {
     "data": {
      "text/html": [
       "<span style=\"color:cyan\"> |-units_3: 80</span>"
      ],
      "text/plain": [
       "<IPython.core.display.HTML object>"
      ]
     },
     "metadata": {},
     "output_type": "display_data"
    },
    {
     "name": "stdout",
     "output_type": "stream",
     "text": [
      "Train on 125 samples, validate on 23 samples\n",
      "Epoch 1/5\n",
      "125/125 [==============================] - ETA: 0s - loss: 13.6888 - mean_squared_error: 13.68 - 0s 3ms/sample - loss: 24.5534 - mean_squared_error: 24.5534 - val_loss: 17.6224 - val_mean_squared_error: 17.6224\n",
      "Epoch 2/5\n",
      "125/125 [==============================] - ETA: 0s - loss: 10.8805 - mean_squared_error: 10.88 - 0s 351us/sample - loss: 8.2591 - mean_squared_error: 8.2591 - val_loss: 13.2382 - val_mean_squared_error: 13.2382\n",
      "Epoch 3/5\n",
      "125/125 [==============================] - ETA: 0s - loss: 2.1580 - mean_squared_error: 2.15 - 0s 197us/sample - loss: 2.3958 - mean_squared_error: 2.3958 - val_loss: 16.1007 - val_mean_squared_error: 16.1007\n",
      "Epoch 4/5\n",
      "125/125 [==============================] - ETA: 0s - loss: 1.3845 - mean_squared_error: 1.38 - 0s 185us/sample - loss: 1.2425 - mean_squared_error: 1.2425 - val_loss: 16.0726 - val_mean_squared_error: 16.0726\n",
      "Epoch 5/5\n",
      "125/125 [==============================] - ETA: 0s - loss: 0.3635 - mean_squared_error: 0.36 - 0s 186us/sample - loss: 0.7928 - mean_squared_error: 0.7928 - val_loss: 18.2724 - val_mean_squared_error: 18.2724\n",
      "Train on 125 samples, validate on 23 samples\n",
      "Epoch 1/5\n",
      "125/125 [==============================] - ETA: 0s - loss: 6.3706 - mean_squared_error: 6.37 - 0s 3ms/sample - loss: 15.8224 - mean_squared_error: 15.8224 - val_loss: 15.5944 - val_mean_squared_error: 15.5944\n",
      "Epoch 2/5\n",
      "125/125 [==============================] - ETA: 0s - loss: 8.0456 - mean_squared_error: 8.04 - 0s 345us/sample - loss: 5.9690 - mean_squared_error: 5.9690 - val_loss: 12.3663 - val_mean_squared_error: 12.3663\n",
      "Epoch 3/5\n",
      "125/125 [==============================] - ETA: 0s - loss: 4.0514 - mean_squared_error: 4.05 - 0s 206us/sample - loss: 2.7314 - mean_squared_error: 2.7314 - val_loss: 13.8979 - val_mean_squared_error: 13.8979\n",
      "Epoch 4/5\n",
      "125/125 [==============================] - ETA: 0s - loss: 1.3914 - mean_squared_error: 1.39 - 0s 189us/sample - loss: 1.5478 - mean_squared_error: 1.5478 - val_loss: 13.2599 - val_mean_squared_error: 13.2599\n",
      "Epoch 5/5\n",
      "125/125 [==============================] - ETA: 0s - loss: 0.5269 - mean_squared_error: 0.52 - 0s 188us/sample - loss: 1.0708 - mean_squared_error: 1.0708 - val_loss: 12.5453 - val_mean_squared_error: 12.5453\n",
      "Train on 125 samples, validate on 23 samples\n",
      "Epoch 1/5\n",
      "125/125 [==============================] - ETA: 0s - loss: 9.2252 - mean_squared_error: 9.22 - 0s 3ms/sample - loss: 15.8225 - mean_squared_error: 15.8225 - val_loss: 14.4295 - val_mean_squared_error: 14.4295\n",
      "Epoch 2/5\n",
      "125/125 [==============================] - ETA: 0s - loss: 5.0296 - mean_squared_error: 5.02 - 0s 356us/sample - loss: 5.1668 - mean_squared_error: 5.1668 - val_loss: 11.6706 - val_mean_squared_error: 11.6706\n",
      "Epoch 3/5\n",
      "125/125 [==============================] - ETA: 0s - loss: 2.3437 - mean_squared_error: 2.34 - 0s 200us/sample - loss: 2.4046 - mean_squared_error: 2.4046 - val_loss: 13.0056 - val_mean_squared_error: 13.0056\n",
      "Epoch 4/5\n",
      "125/125 [==============================] - ETA: 0s - loss: 0.8974 - mean_squared_error: 0.89 - 0s 197us/sample - loss: 1.4190 - mean_squared_error: 1.4190 - val_loss: 12.0752 - val_mean_squared_error: 12.0752\n",
      "Epoch 5/5\n",
      "125/125 [==============================] - ETA: 0s - loss: 1.7686 - mean_squared_error: 1.76 - 0s 186us/sample - loss: 1.1308 - mean_squared_error: 1.1308 - val_loss: 13.3839 - val_mean_squared_error: 13.3839\n"
     ]
    },
    {
     "data": {
      "text/html": [
       "<span style=\"color:#4527A0\"><h1 style=\"font-size:18px\">Trial complete</h1></span>"
      ],
      "text/plain": [
       "<IPython.core.display.HTML object>"
      ]
     },
     "metadata": {},
     "output_type": "display_data"
    },
    {
     "data": {
      "text/html": [
       "<span style=\"color:#4527A0\"><h1 style=\"font-size:18px\">Trial summary</h1></span>"
      ],
      "text/plain": [
       "<IPython.core.display.HTML object>"
      ]
     },
     "metadata": {},
     "output_type": "display_data"
    },
    {
     "data": {
      "text/html": [
       "<span style=\"color:cyan\"> |-Trial ID: 5af2ff7355ec51a7f975062e0f45a286</span>"
      ],
      "text/plain": [
       "<IPython.core.display.HTML object>"
      ]
     },
     "metadata": {},
     "output_type": "display_data"
    },
    {
     "data": {
      "text/html": [
       "<span style=\"color:cyan\"> |-Score: 12.425017356872559</span>"
      ],
      "text/plain": [
       "<IPython.core.display.HTML object>"
      ]
     },
     "metadata": {},
     "output_type": "display_data"
    },
    {
     "data": {
      "text/html": [
       "<span style=\"color:cyan\"> |-Best step: 0</span>"
      ],
      "text/plain": [
       "<IPython.core.display.HTML object>"
      ]
     },
     "metadata": {},
     "output_type": "display_data"
    },
    {
     "data": {
      "text/html": [
       "<span style=\"color:#7E57C2\"><h2 style=\"font-size:16px\">Hyperparameters:</h2></span>"
      ],
      "text/plain": [
       "<IPython.core.display.HTML object>"
      ]
     },
     "metadata": {},
     "output_type": "display_data"
    },
    {
     "data": {
      "text/html": [
       "<span style=\"color:cyan\"> |-act_0: tanh</span>"
      ],
      "text/plain": [
       "<IPython.core.display.HTML object>"
      ]
     },
     "metadata": {},
     "output_type": "display_data"
    },
    {
     "data": {
      "text/html": [
       "<span style=\"color:blue\"> |-act_1: relu</span>"
      ],
      "text/plain": [
       "<IPython.core.display.HTML object>"
      ]
     },
     "metadata": {},
     "output_type": "display_data"
    },
    {
     "data": {
      "text/html": [
       "<span style=\"color:cyan\"> |-act_2: relu</span>"
      ],
      "text/plain": [
       "<IPython.core.display.HTML object>"
      ]
     },
     "metadata": {},
     "output_type": "display_data"
    },
    {
     "data": {
      "text/html": [
       "<span style=\"color:blue\"> |-act_3: tanh</span>"
      ],
      "text/plain": [
       "<IPython.core.display.HTML object>"
      ]
     },
     "metadata": {},
     "output_type": "display_data"
    },
    {
     "data": {
      "text/html": [
       "<span style=\"color:cyan\"> |-dropout: 0.2</span>"
      ],
      "text/plain": [
       "<IPython.core.display.HTML object>"
      ]
     },
     "metadata": {},
     "output_type": "display_data"
    },
    {
     "data": {
      "text/html": [
       "<span style=\"color:blue\"> |-learning_rate: 0.001</span>"
      ],
      "text/plain": [
       "<IPython.core.display.HTML object>"
      ]
     },
     "metadata": {},
     "output_type": "display_data"
    },
    {
     "data": {
      "text/html": [
       "<span style=\"color:cyan\"> |-momentum: 0.15000000000000002</span>"
      ],
      "text/plain": [
       "<IPython.core.display.HTML object>"
      ]
     },
     "metadata": {},
     "output_type": "display_data"
    },
    {
     "data": {
      "text/html": [
       "<span style=\"color:blue\"> |-num_layers: 1</span>"
      ],
      "text/plain": [
       "<IPython.core.display.HTML object>"
      ]
     },
     "metadata": {},
     "output_type": "display_data"
    },
    {
     "data": {
      "text/html": [
       "<span style=\"color:cyan\"> |-rho: 0.8500000000000003</span>"
      ],
      "text/plain": [
       "<IPython.core.display.HTML object>"
      ]
     },
     "metadata": {},
     "output_type": "display_data"
    },
    {
     "data": {
      "text/html": [
       "<span style=\"color:blue\"> |-units_0: 80</span>"
      ],
      "text/plain": [
       "<IPython.core.display.HTML object>"
      ]
     },
     "metadata": {},
     "output_type": "display_data"
    },
    {
     "data": {
      "text/html": [
       "<span style=\"color:cyan\"> |-units_1: 50</span>"
      ],
      "text/plain": [
       "<IPython.core.display.HTML object>"
      ]
     },
     "metadata": {},
     "output_type": "display_data"
    },
    {
     "data": {
      "text/html": [
       "<span style=\"color:blue\"> |-units_2: 60</span>"
      ],
      "text/plain": [
       "<IPython.core.display.HTML object>"
      ]
     },
     "metadata": {},
     "output_type": "display_data"
    },
    {
     "data": {
      "text/html": [
       "<span style=\"color:cyan\"> |-units_3: 30</span>"
      ],
      "text/plain": [
       "<IPython.core.display.HTML object>"
      ]
     },
     "metadata": {},
     "output_type": "display_data"
    },
    {
     "name": "stdout",
     "output_type": "stream",
     "text": [
      "Train on 125 samples, validate on 23 samples\n",
      "Epoch 1/5\n",
      "125/125 [==============================] - ETA: 0s - loss: 8.5425 - mean_squared_error: 8.54 - 0s 3ms/sample - loss: 10.2306 - mean_squared_error: 10.2306 - val_loss: 10.0445 - val_mean_squared_error: 10.0445\n",
      "Epoch 2/5\n",
      "125/125 [==============================] - ETA: 0s - loss: 7.9408 - mean_squared_error: 7.94 - 0s 200us/sample - loss: 7.5312 - mean_squared_error: 7.5312 - val_loss: 10.5006 - val_mean_squared_error: 10.5006\n",
      "Epoch 3/5\n",
      "125/125 [==============================] - ETA: 0s - loss: 6.0224 - mean_squared_error: 6.02 - 0s 206us/sample - loss: 6.3153 - mean_squared_error: 6.3153 - val_loss: 10.9263 - val_mean_squared_error: 10.9263\n",
      "Epoch 4/5\n",
      "125/125 [==============================] - ETA: 0s - loss: 5.1282 - mean_squared_error: 5.12 - 0s 201us/sample - loss: 5.9006 - mean_squared_error: 5.9006 - val_loss: 11.4351 - val_mean_squared_error: 11.4351\n",
      "Epoch 5/5\n",
      "125/125 [==============================] - ETA: 0s - loss: 3.3986 - mean_squared_error: 3.39 - 0s 194us/sample - loss: 5.0778 - mean_squared_error: 5.0778 - val_loss: 11.6400 - val_mean_squared_error: 11.6400\n",
      "Train on 125 samples, validate on 23 samples\n",
      "Epoch 1/5\n",
      "125/125 [==============================] - ETA: 0s - loss: 12.1832 - mean_squared_error: 12.18 - 0s 3ms/sample - loss: 10.6973 - mean_squared_error: 10.6973 - val_loss: 11.4022 - val_mean_squared_error: 11.4022\n",
      "Epoch 2/5\n",
      "125/125 [==============================] - ETA: 0s - loss: 9.9598 - mean_squared_error: 9.95 - 0s 192us/sample - loss: 7.7287 - mean_squared_error: 7.7287 - val_loss: 11.8736 - val_mean_squared_error: 11.8736\n",
      "Epoch 3/5\n",
      "125/125 [==============================] - ETA: 0s - loss: 5.1058 - mean_squared_error: 5.10 - 0s 201us/sample - loss: 6.2119 - mean_squared_error: 6.2119 - val_loss: 11.6184 - val_mean_squared_error: 11.6184\n",
      "Epoch 4/5\n",
      "125/125 [==============================] - ETA: 0s - loss: 5.5555 - mean_squared_error: 5.55 - 0s 194us/sample - loss: 5.5049 - mean_squared_error: 5.5049 - val_loss: 11.8343 - val_mean_squared_error: 11.8343\n",
      "Epoch 5/5\n",
      "125/125 [==============================] - ETA: 0s - loss: 3.5336 - mean_squared_error: 3.53 - 0s 187us/sample - loss: 4.5064 - mean_squared_error: 4.5064 - val_loss: 12.2967 - val_mean_squared_error: 12.2967\n",
      "Train on 125 samples, validate on 23 samples\n",
      "Epoch 1/5\n",
      "125/125 [==============================] - ETA: 0s - loss: 11.1687 - mean_squared_error: 11.16 - 0s 3ms/sample - loss: 9.6656 - mean_squared_error: 9.6656 - val_loss: 11.5442 - val_mean_squared_error: 11.5442\n",
      "Epoch 2/5\n",
      "125/125 [==============================] - ETA: 0s - loss: 8.5419 - mean_squared_error: 8.54 - 0s 215us/sample - loss: 7.2573 - mean_squared_error: 7.2573 - val_loss: 11.8545 - val_mean_squared_error: 11.8545\n",
      "Epoch 3/5\n",
      "125/125 [==============================] - ETA: 0s - loss: 3.9904 - mean_squared_error: 3.99 - 0s 203us/sample - loss: 6.3379 - mean_squared_error: 6.3379 - val_loss: 12.3089 - val_mean_squared_error: 12.3089\n",
      "Epoch 4/5\n",
      "125/125 [==============================] - ETA: 0s - loss: 5.8940 - mean_squared_error: 5.89 - 0s 199us/sample - loss: 5.2937 - mean_squared_error: 5.2937 - val_loss: 12.4345 - val_mean_squared_error: 12.4345\n",
      "Epoch 5/5\n",
      "125/125 [==============================] - ETA: 0s - loss: 3.2726 - mean_squared_error: 3.27 - 0s 193us/sample - loss: 4.5493 - mean_squared_error: 4.5493 - val_loss: 12.6184 - val_mean_squared_error: 12.6184\n"
     ]
    },
    {
     "data": {
      "text/html": [
       "<span style=\"color:#4527A0\"><h1 style=\"font-size:18px\">Trial complete</h1></span>"
      ],
      "text/plain": [
       "<IPython.core.display.HTML object>"
      ]
     },
     "metadata": {},
     "output_type": "display_data"
    },
    {
     "data": {
      "text/html": [
       "<span style=\"color:#4527A0\"><h1 style=\"font-size:18px\">Trial summary</h1></span>"
      ],
      "text/plain": [
       "<IPython.core.display.HTML object>"
      ]
     },
     "metadata": {},
     "output_type": "display_data"
    },
    {
     "data": {
      "text/html": [
       "<span style=\"color:cyan\"> |-Trial ID: b88426abb4998f69ee4ea2160944043a</span>"
      ],
      "text/plain": [
       "<IPython.core.display.HTML object>"
      ]
     },
     "metadata": {},
     "output_type": "display_data"
    },
    {
     "data": {
      "text/html": [
       "<span style=\"color:cyan\"> |-Score: 10.99693775177002</span>"
      ],
      "text/plain": [
       "<IPython.core.display.HTML object>"
      ]
     },
     "metadata": {},
     "output_type": "display_data"
    },
    {
     "data": {
      "text/html": [
       "<span style=\"color:cyan\"> |-Best step: 0</span>"
      ],
      "text/plain": [
       "<IPython.core.display.HTML object>"
      ]
     },
     "metadata": {},
     "output_type": "display_data"
    },
    {
     "data": {
      "text/html": [
       "<span style=\"color:#7E57C2\"><h2 style=\"font-size:16px\">Hyperparameters:</h2></span>"
      ],
      "text/plain": [
       "<IPython.core.display.HTML object>"
      ]
     },
     "metadata": {},
     "output_type": "display_data"
    },
    {
     "data": {
      "text/html": [
       "<span style=\"color:cyan\"> |-act_0: tanh</span>"
      ],
      "text/plain": [
       "<IPython.core.display.HTML object>"
      ]
     },
     "metadata": {},
     "output_type": "display_data"
    },
    {
     "data": {
      "text/html": [
       "<span style=\"color:blue\"> |-act_1: tanh</span>"
      ],
      "text/plain": [
       "<IPython.core.display.HTML object>"
      ]
     },
     "metadata": {},
     "output_type": "display_data"
    },
    {
     "data": {
      "text/html": [
       "<span style=\"color:cyan\"> |-act_2: relu</span>"
      ],
      "text/plain": [
       "<IPython.core.display.HTML object>"
      ]
     },
     "metadata": {},
     "output_type": "display_data"
    },
    {
     "data": {
      "text/html": [
       "<span style=\"color:blue\"> |-act_3: relu</span>"
      ],
      "text/plain": [
       "<IPython.core.display.HTML object>"
      ]
     },
     "metadata": {},
     "output_type": "display_data"
    },
    {
     "data": {
      "text/html": [
       "<span style=\"color:cyan\"> |-dropout: 0.30000000000000004</span>"
      ],
      "text/plain": [
       "<IPython.core.display.HTML object>"
      ]
     },
     "metadata": {},
     "output_type": "display_data"
    },
    {
     "data": {
      "text/html": [
       "<span style=\"color:blue\"> |-learning_rate: 0.0001</span>"
      ],
      "text/plain": [
       "<IPython.core.display.HTML object>"
      ]
     },
     "metadata": {},
     "output_type": "display_data"
    },
    {
     "data": {
      "text/html": [
       "<span style=\"color:cyan\"> |-momentum: 0.2</span>"
      ],
      "text/plain": [
       "<IPython.core.display.HTML object>"
      ]
     },
     "metadata": {},
     "output_type": "display_data"
    },
    {
     "data": {
      "text/html": [
       "<span style=\"color:blue\"> |-num_layers: 2</span>"
      ],
      "text/plain": [
       "<IPython.core.display.HTML object>"
      ]
     },
     "metadata": {},
     "output_type": "display_data"
    },
    {
     "data": {
      "text/html": [
       "<span style=\"color:cyan\"> |-rho: 0.9000000000000004</span>"
      ],
      "text/plain": [
       "<IPython.core.display.HTML object>"
      ]
     },
     "metadata": {},
     "output_type": "display_data"
    },
    {
     "data": {
      "text/html": [
       "<span style=\"color:blue\"> |-units_0: 70</span>"
      ],
      "text/plain": [
       "<IPython.core.display.HTML object>"
      ]
     },
     "metadata": {},
     "output_type": "display_data"
    },
    {
     "data": {
      "text/html": [
       "<span style=\"color:cyan\"> |-units_1: 60</span>"
      ],
      "text/plain": [
       "<IPython.core.display.HTML object>"
      ]
     },
     "metadata": {},
     "output_type": "display_data"
    },
    {
     "data": {
      "text/html": [
       "<span style=\"color:blue\"> |-units_2: 90</span>"
      ],
      "text/plain": [
       "<IPython.core.display.HTML object>"
      ]
     },
     "metadata": {},
     "output_type": "display_data"
    },
    {
     "data": {
      "text/html": [
       "<span style=\"color:cyan\"> |-units_3: 80</span>"
      ],
      "text/plain": [
       "<IPython.core.display.HTML object>"
      ]
     },
     "metadata": {},
     "output_type": "display_data"
    },
    {
     "name": "stdout",
     "output_type": "stream",
     "text": [
      "Train on 125 samples, validate on 23 samples\n",
      "Epoch 1/5\n",
      "125/125 [==============================] - ETA: 0s - loss: 7.1240 - mean_squared_error: 7.12 - 0s 4ms/sample - loss: 10.0089 - mean_squared_error: 10.0089 - val_loss: 10.9972 - val_mean_squared_error: 10.9972\n",
      "Epoch 2/5\n",
      "125/125 [==============================] - ETA: 0s - loss: 7.3525 - mean_squared_error: 7.35 - 0s 213us/sample - loss: 6.3782 - mean_squared_error: 6.3782 - val_loss: 11.3719 - val_mean_squared_error: 11.3719\n",
      "Epoch 3/5\n",
      "125/125 [==============================] - ETA: 0s - loss: 4.6678 - mean_squared_error: 4.66 - 0s 207us/sample - loss: 4.8468 - mean_squared_error: 4.8468 - val_loss: 11.7960 - val_mean_squared_error: 11.7960\n",
      "Epoch 4/5\n",
      "125/125 [==============================] - ETA: 0s - loss: 3.4394 - mean_squared_error: 3.43 - 0s 205us/sample - loss: 3.7670 - mean_squared_error: 3.7670 - val_loss: 12.2222 - val_mean_squared_error: 12.2222\n",
      "Epoch 5/5\n",
      "125/125 [==============================] - ETA: 0s - loss: 2.6178 - mean_squared_error: 2.61 - 0s 197us/sample - loss: 2.9551 - mean_squared_error: 2.9551 - val_loss: 12.5697 - val_mean_squared_error: 12.5697\n",
      "Train on 125 samples, validate on 23 samples\n",
      "Epoch 1/5\n",
      "125/125 [==============================] - ETA: 0s - loss: 10.1938 - mean_squared_error: 10.19 - 0s 3ms/sample - loss: 10.0198 - mean_squared_error: 10.0198 - val_loss: 11.9197 - val_mean_squared_error: 11.9197\n",
      "Epoch 2/5\n",
      "125/125 [==============================] - ETA: 0s - loss: 6.2605 - mean_squared_error: 6.26 - 0s 208us/sample - loss: 6.1039 - mean_squared_error: 6.1039 - val_loss: 12.6690 - val_mean_squared_error: 12.6690\n",
      "Epoch 3/5\n",
      "125/125 [==============================] - ETA: 0s - loss: 5.5643 - mean_squared_error: 5.56 - 0s 208us/sample - loss: 4.4894 - mean_squared_error: 4.4894 - val_loss: 13.1883 - val_mean_squared_error: 13.1883\n",
      "Epoch 4/5\n",
      "125/125 [==============================] - ETA: 0s - loss: 2.7204 - mean_squared_error: 2.72 - 0s 209us/sample - loss: 3.3973 - mean_squared_error: 3.3973 - val_loss: 13.6331 - val_mean_squared_error: 13.6331\n",
      "Epoch 5/5\n",
      "125/125 [==============================] - ETA: 0s - loss: 2.5124 - mean_squared_error: 2.51 - 0s 194us/sample - loss: 2.6845 - mean_squared_error: 2.6845 - val_loss: 13.8748 - val_mean_squared_error: 13.8748\n",
      "Train on 125 samples, validate on 23 samples\n",
      "Epoch 1/5\n",
      "125/125 [==============================] - ETA: 1s - loss: 9.9426 - mean_squared_error: 9.94 - 0s 4ms/sample - loss: 10.4786 - mean_squared_error: 10.4786 - val_loss: 12.4916 - val_mean_squared_error: 12.4916\n",
      "Epoch 2/5\n",
      "125/125 [==============================] - ETA: 0s - loss: 6.1614 - mean_squared_error: 6.16 - 0s 220us/sample - loss: 6.8865 - mean_squared_error: 6.8865 - val_loss: 12.8847 - val_mean_squared_error: 12.8847\n",
      "Epoch 3/5\n",
      "125/125 [==============================] - ETA: 0s - loss: 6.5667 - mean_squared_error: 6.56 - 0s 191us/sample - loss: 5.3024 - mean_squared_error: 5.3024 - val_loss: 13.2127 - val_mean_squared_error: 13.2127\n",
      "Epoch 4/5\n",
      "125/125 [==============================] - ETA: 0s - loss: 4.5518 - mean_squared_error: 4.55 - 0s 212us/sample - loss: 4.2253 - mean_squared_error: 4.2253 - val_loss: 13.7094 - val_mean_squared_error: 13.7094\n",
      "Epoch 5/5\n",
      "125/125 [==============================] - ETA: 0s - loss: 4.0193 - mean_squared_error: 4.01 - 0s 202us/sample - loss: 3.3268 - mean_squared_error: 3.3268 - val_loss: 14.1702 - val_mean_squared_error: 14.1702\n"
     ]
    },
    {
     "data": {
      "text/html": [
       "<span style=\"color:#4527A0\"><h1 style=\"font-size:18px\">Trial complete</h1></span>"
      ],
      "text/plain": [
       "<IPython.core.display.HTML object>"
      ]
     },
     "metadata": {},
     "output_type": "display_data"
    },
    {
     "data": {
      "text/html": [
       "<span style=\"color:#4527A0\"><h1 style=\"font-size:18px\">Trial summary</h1></span>"
      ],
      "text/plain": [
       "<IPython.core.display.HTML object>"
      ]
     },
     "metadata": {},
     "output_type": "display_data"
    },
    {
     "data": {
      "text/html": [
       "<span style=\"color:cyan\"> |-Trial ID: c3fdb9885bd85c5ccfdd88d1cad4bf5b</span>"
      ],
      "text/plain": [
       "<IPython.core.display.HTML object>"
      ]
     },
     "metadata": {},
     "output_type": "display_data"
    },
    {
     "data": {
      "text/html": [
       "<span style=\"color:cyan\"> |-Score: 11.80283260345459</span>"
      ],
      "text/plain": [
       "<IPython.core.display.HTML object>"
      ]
     },
     "metadata": {},
     "output_type": "display_data"
    },
    {
     "data": {
      "text/html": [
       "<span style=\"color:cyan\"> |-Best step: 0</span>"
      ],
      "text/plain": [
       "<IPython.core.display.HTML object>"
      ]
     },
     "metadata": {},
     "output_type": "display_data"
    },
    {
     "data": {
      "text/html": [
       "<span style=\"color:#7E57C2\"><h2 style=\"font-size:16px\">Hyperparameters:</h2></span>"
      ],
      "text/plain": [
       "<IPython.core.display.HTML object>"
      ]
     },
     "metadata": {},
     "output_type": "display_data"
    },
    {
     "data": {
      "text/html": [
       "<span style=\"color:cyan\"> |-act_0: tanh</span>"
      ],
      "text/plain": [
       "<IPython.core.display.HTML object>"
      ]
     },
     "metadata": {},
     "output_type": "display_data"
    },
    {
     "data": {
      "text/html": [
       "<span style=\"color:blue\"> |-act_1: tanh</span>"
      ],
      "text/plain": [
       "<IPython.core.display.HTML object>"
      ]
     },
     "metadata": {},
     "output_type": "display_data"
    },
    {
     "data": {
      "text/html": [
       "<span style=\"color:cyan\"> |-act_2: tanh</span>"
      ],
      "text/plain": [
       "<IPython.core.display.HTML object>"
      ]
     },
     "metadata": {},
     "output_type": "display_data"
    },
    {
     "data": {
      "text/html": [
       "<span style=\"color:blue\"> |-act_3: tanh</span>"
      ],
      "text/plain": [
       "<IPython.core.display.HTML object>"
      ]
     },
     "metadata": {},
     "output_type": "display_data"
    },
    {
     "data": {
      "text/html": [
       "<span style=\"color:cyan\"> |-dropout: 0.0</span>"
      ],
      "text/plain": [
       "<IPython.core.display.HTML object>"
      ]
     },
     "metadata": {},
     "output_type": "display_data"
    },
    {
     "data": {
      "text/html": [
       "<span style=\"color:blue\"> |-learning_rate: 0.0001</span>"
      ],
      "text/plain": [
       "<IPython.core.display.HTML object>"
      ]
     },
     "metadata": {},
     "output_type": "display_data"
    },
    {
     "data": {
      "text/html": [
       "<span style=\"color:cyan\"> |-momentum: 0.2</span>"
      ],
      "text/plain": [
       "<IPython.core.display.HTML object>"
      ]
     },
     "metadata": {},
     "output_type": "display_data"
    },
    {
     "data": {
      "text/html": [
       "<span style=\"color:blue\"> |-num_layers: 3</span>"
      ],
      "text/plain": [
       "<IPython.core.display.HTML object>"
      ]
     },
     "metadata": {},
     "output_type": "display_data"
    },
    {
     "data": {
      "text/html": [
       "<span style=\"color:cyan\"> |-rho: 0.8500000000000003</span>"
      ],
      "text/plain": [
       "<IPython.core.display.HTML object>"
      ]
     },
     "metadata": {},
     "output_type": "display_data"
    },
    {
     "data": {
      "text/html": [
       "<span style=\"color:blue\"> |-units_0: 70</span>"
      ],
      "text/plain": [
       "<IPython.core.display.HTML object>"
      ]
     },
     "metadata": {},
     "output_type": "display_data"
    },
    {
     "data": {
      "text/html": [
       "<span style=\"color:cyan\"> |-units_1: 90</span>"
      ],
      "text/plain": [
       "<IPython.core.display.HTML object>"
      ]
     },
     "metadata": {},
     "output_type": "display_data"
    },
    {
     "data": {
      "text/html": [
       "<span style=\"color:blue\"> |-units_2: 60</span>"
      ],
      "text/plain": [
       "<IPython.core.display.HTML object>"
      ]
     },
     "metadata": {},
     "output_type": "display_data"
    },
    {
     "data": {
      "text/html": [
       "<span style=\"color:cyan\"> |-units_3: 100</span>"
      ],
      "text/plain": [
       "<IPython.core.display.HTML object>"
      ]
     },
     "metadata": {},
     "output_type": "display_data"
    },
    {
     "name": "stdout",
     "output_type": "stream",
     "text": [
      "Train on 125 samples, validate on 23 samples\n",
      "Epoch 1/5\n",
      "125/125 [==============================] - ETA: 1s - loss: 10.2659 - mean_squared_error: 10.26 - 1s 4ms/sample - loss: 7.9818 - mean_squared_error: 7.9818 - val_loss: 9.2415 - val_mean_squared_error: 9.2415\n",
      "Epoch 2/5\n",
      "125/125 [==============================] - ETA: 0s - loss: 3.8310 - mean_squared_error: 3.83 - 0s 228us/sample - loss: 4.1298 - mean_squared_error: 4.1298 - val_loss: 11.5752 - val_mean_squared_error: 11.5752\n",
      "Epoch 3/5\n",
      "125/125 [==============================] - ETA: 0s - loss: 3.0869 - mean_squared_error: 3.08 - 0s 221us/sample - loss: 1.9548 - mean_squared_error: 1.9548 - val_loss: 12.4553 - val_mean_squared_error: 12.4553\n",
      "Epoch 4/5\n",
      "125/125 [==============================] - ETA: 0s - loss: 0.9418 - mean_squared_error: 0.94 - 0s 221us/sample - loss: 0.6860 - mean_squared_error: 0.6860 - val_loss: 13.0043 - val_mean_squared_error: 13.0043\n",
      "Epoch 5/5\n",
      "125/125 [==============================] - ETA: 0s - loss: 0.4631 - mean_squared_error: 0.46 - 0s 206us/sample - loss: 0.4158 - mean_squared_error: 0.4158 - val_loss: 11.7509 - val_mean_squared_error: 11.7509\n",
      "Train on 125 samples, validate on 23 samples\n",
      "Epoch 1/5\n",
      "125/125 [==============================] - ETA: 1s - loss: 10.8368 - mean_squared_error: 10.83 - 0s 4ms/sample - loss: 8.8971 - mean_squared_error: 8.8971 - val_loss: 10.9374 - val_mean_squared_error: 10.9374\n",
      "Epoch 2/5\n",
      "125/125 [==============================] - ETA: 0s - loss: 5.2991 - mean_squared_error: 5.29 - 0s 211us/sample - loss: 4.8737 - mean_squared_error: 4.8737 - val_loss: 11.9926 - val_mean_squared_error: 11.9926\n",
      "Epoch 3/5\n",
      "125/125 [==============================] - ETA: 0s - loss: 2.8431 - mean_squared_error: 2.84 - 0s 219us/sample - loss: 2.4023 - mean_squared_error: 2.4023 - val_loss: 16.8041 - val_mean_squared_error: 16.8041\n",
      "Epoch 4/5\n",
      "125/125 [==============================] - ETA: 0s - loss: 1.1071 - mean_squared_error: 1.10 - 0s 215us/sample - loss: 0.9890 - mean_squared_error: 0.9890 - val_loss: 17.8622 - val_mean_squared_error: 17.8622\n",
      "Epoch 5/5\n",
      "125/125 [==============================] - ETA: 0s - loss: 0.2858 - mean_squared_error: 0.28 - 0s 203us/sample - loss: 0.3804 - mean_squared_error: 0.3804 - val_loss: 16.5248 - val_mean_squared_error: 16.5248\n",
      "Train on 125 samples, validate on 23 samples\n",
      "Epoch 1/5\n",
      "125/125 [==============================] - ETA: 1s - loss: 14.3084 - mean_squared_error: 14.30 - 1s 4ms/sample - loss: 10.0871 - mean_squared_error: 10.0871 - val_loss: 8.8402 - val_mean_squared_error: 8.8402\n",
      "Epoch 2/5\n",
      "125/125 [==============================] - ETA: 0s - loss: 5.0452 - mean_squared_error: 5.04 - 0s 224us/sample - loss: 5.2722 - mean_squared_error: 5.2722 - val_loss: 10.3789 - val_mean_squared_error: 10.3789\n",
      "Epoch 3/5\n",
      "125/125 [==============================] - ETA: 0s - loss: 3.0697 - mean_squared_error: 3.06 - 0s 215us/sample - loss: 2.5071 - mean_squared_error: 2.5071 - val_loss: 12.0529 - val_mean_squared_error: 12.0529\n",
      "Epoch 4/5\n",
      "125/125 [==============================] - ETA: 0s - loss: 1.1692 - mean_squared_error: 1.16 - 0s 210us/sample - loss: 1.1418 - mean_squared_error: 1.1418 - val_loss: 14.5012 - val_mean_squared_error: 14.5012\n",
      "Epoch 5/5\n",
      "125/125 [==============================] - ETA: 0s - loss: 0.5164 - mean_squared_error: 0.51 - 0s 204us/sample - loss: 0.5449 - mean_squared_error: 0.5449 - val_loss: 15.0151 - val_mean_squared_error: 15.0151\n"
     ]
    },
    {
     "data": {
      "text/html": [
       "<span style=\"color:#4527A0\"><h1 style=\"font-size:18px\">Trial complete</h1></span>"
      ],
      "text/plain": [
       "<IPython.core.display.HTML object>"
      ]
     },
     "metadata": {},
     "output_type": "display_data"
    },
    {
     "data": {
      "text/html": [
       "<span style=\"color:#4527A0\"><h1 style=\"font-size:18px\">Trial summary</h1></span>"
      ],
      "text/plain": [
       "<IPython.core.display.HTML object>"
      ]
     },
     "metadata": {},
     "output_type": "display_data"
    },
    {
     "data": {
      "text/html": [
       "<span style=\"color:cyan\"> |-Trial ID: 966ee8a7a94da364a26812829973e7cf</span>"
      ],
      "text/plain": [
       "<IPython.core.display.HTML object>"
      ]
     },
     "metadata": {},
     "output_type": "display_data"
    },
    {
     "data": {
      "text/html": [
       "<span style=\"color:cyan\"> |-Score: 9.673047065734863</span>"
      ],
      "text/plain": [
       "<IPython.core.display.HTML object>"
      ]
     },
     "metadata": {},
     "output_type": "display_data"
    },
    {
     "data": {
      "text/html": [
       "<span style=\"color:cyan\"> |-Best step: 0</span>"
      ],
      "text/plain": [
       "<IPython.core.display.HTML object>"
      ]
     },
     "metadata": {},
     "output_type": "display_data"
    },
    {
     "data": {
      "text/html": [
       "<span style=\"color:#7E57C2\"><h2 style=\"font-size:16px\">Hyperparameters:</h2></span>"
      ],
      "text/plain": [
       "<IPython.core.display.HTML object>"
      ]
     },
     "metadata": {},
     "output_type": "display_data"
    },
    {
     "data": {
      "text/html": [
       "<span style=\"color:cyan\"> |-act_0: relu</span>"
      ],
      "text/plain": [
       "<IPython.core.display.HTML object>"
      ]
     },
     "metadata": {},
     "output_type": "display_data"
    },
    {
     "data": {
      "text/html": [
       "<span style=\"color:blue\"> |-act_1: tanh</span>"
      ],
      "text/plain": [
       "<IPython.core.display.HTML object>"
      ]
     },
     "metadata": {},
     "output_type": "display_data"
    },
    {
     "data": {
      "text/html": [
       "<span style=\"color:cyan\"> |-act_2: relu</span>"
      ],
      "text/plain": [
       "<IPython.core.display.HTML object>"
      ]
     },
     "metadata": {},
     "output_type": "display_data"
    },
    {
     "data": {
      "text/html": [
       "<span style=\"color:blue\"> |-act_3: tanh</span>"
      ],
      "text/plain": [
       "<IPython.core.display.HTML object>"
      ]
     },
     "metadata": {},
     "output_type": "display_data"
    },
    {
     "data": {
      "text/html": [
       "<span style=\"color:cyan\"> |-dropout: 0.1</span>"
      ],
      "text/plain": [
       "<IPython.core.display.HTML object>"
      ]
     },
     "metadata": {},
     "output_type": "display_data"
    },
    {
     "data": {
      "text/html": [
       "<span style=\"color:blue\"> |-learning_rate: 0.001</span>"
      ],
      "text/plain": [
       "<IPython.core.display.HTML object>"
      ]
     },
     "metadata": {},
     "output_type": "display_data"
    },
    {
     "data": {
      "text/html": [
       "<span style=\"color:cyan\"> |-momentum: 0.05</span>"
      ],
      "text/plain": [
       "<IPython.core.display.HTML object>"
      ]
     },
     "metadata": {},
     "output_type": "display_data"
    },
    {
     "data": {
      "text/html": [
       "<span style=\"color:blue\"> |-num_layers: 4</span>"
      ],
      "text/plain": [
       "<IPython.core.display.HTML object>"
      ]
     },
     "metadata": {},
     "output_type": "display_data"
    },
    {
     "data": {
      "text/html": [
       "<span style=\"color:cyan\"> |-rho: 0.8500000000000003</span>"
      ],
      "text/plain": [
       "<IPython.core.display.HTML object>"
      ]
     },
     "metadata": {},
     "output_type": "display_data"
    },
    {
     "data": {
      "text/html": [
       "<span style=\"color:blue\"> |-units_0: 70</span>"
      ],
      "text/plain": [
       "<IPython.core.display.HTML object>"
      ]
     },
     "metadata": {},
     "output_type": "display_data"
    },
    {
     "data": {
      "text/html": [
       "<span style=\"color:cyan\"> |-units_1: 70</span>"
      ],
      "text/plain": [
       "<IPython.core.display.HTML object>"
      ]
     },
     "metadata": {},
     "output_type": "display_data"
    },
    {
     "data": {
      "text/html": [
       "<span style=\"color:blue\"> |-units_2: 90</span>"
      ],
      "text/plain": [
       "<IPython.core.display.HTML object>"
      ]
     },
     "metadata": {},
     "output_type": "display_data"
    },
    {
     "data": {
      "text/html": [
       "<span style=\"color:cyan\"> |-units_3: 60</span>"
      ],
      "text/plain": [
       "<IPython.core.display.HTML object>"
      ]
     },
     "metadata": {},
     "output_type": "display_data"
    },
    {
     "name": "stdout",
     "output_type": "stream",
     "text": [
      "Train on 125 samples, validate on 23 samples\n",
      "Epoch 1/5\n",
      "125/125 [==============================] - ETA: 0s - loss: 8.3990 - mean_squared_error: 8.39 - 0s 4ms/sample - loss: 10.5189 - mean_squared_error: 10.5189 - val_loss: 20.9925 - val_mean_squared_error: 20.9925\n",
      "Epoch 2/5\n",
      "125/125 [==============================] - ETA: 0s - loss: 5.9514 - mean_squared_error: 5.95 - 0s 338us/sample - loss: 3.8335 - mean_squared_error: 3.8335 - val_loss: 15.1911 - val_mean_squared_error: 15.1911\n",
      "Epoch 3/5\n",
      "125/125 [==============================] - ETA: 0s - loss: 1.9147 - mean_squared_error: 1.91 - 0s 341us/sample - loss: 1.4692 - mean_squared_error: 1.4692 - val_loss: 14.4636 - val_mean_squared_error: 14.4636\n",
      "Epoch 4/5\n",
      "125/125 [==============================] - ETA: 0s - loss: 1.3001 - mean_squared_error: 1.30 - 0s 210us/sample - loss: 1.0017 - mean_squared_error: 1.0017 - val_loss: 16.4908 - val_mean_squared_error: 16.4908\n",
      "Epoch 5/5\n",
      "125/125 [==============================] - ETA: 0s - loss: 1.7459 - mean_squared_error: 1.74 - 0s 330us/sample - loss: 1.0897 - mean_squared_error: 1.0897 - val_loss: 13.2211 - val_mean_squared_error: 13.2211\n",
      "Train on 125 samples, validate on 23 samples\n",
      "Epoch 1/5\n",
      "125/125 [==============================] - ETA: 0s - loss: 13.8009 - mean_squared_error: 13.80 - 0s 3ms/sample - loss: 10.0206 - mean_squared_error: 10.0206 - val_loss: 11.3064 - val_mean_squared_error: 11.3064\n",
      "Epoch 2/5\n",
      "125/125 [==============================] - ETA: 0s - loss: 1.7174 - mean_squared_error: 1.71 - 0s 226us/sample - loss: 2.9885 - mean_squared_error: 2.9885 - val_loss: 15.1679 - val_mean_squared_error: 15.1679\n",
      "Epoch 3/5\n",
      "125/125 [==============================] - ETA: 0s - loss: 1.1452 - mean_squared_error: 1.14 - 0s 201us/sample - loss: 1.3250 - mean_squared_error: 1.3250 - val_loss: 15.2570 - val_mean_squared_error: 15.2570\n",
      "Epoch 4/5\n",
      "125/125 [==============================] - ETA: 0s - loss: 1.7575 - mean_squared_error: 1.75 - 0s 201us/sample - loss: 1.4840 - mean_squared_error: 1.4840 - val_loss: 13.3309 - val_mean_squared_error: 13.3309\n",
      "Epoch 5/5\n",
      "125/125 [==============================] - ETA: 0s - loss: 0.8641 - mean_squared_error: 0.86 - 0s 193us/sample - loss: 1.4943 - mean_squared_error: 1.4943 - val_loss: 14.4407 - val_mean_squared_error: 14.4407\n",
      "Train on 125 samples, validate on 23 samples\n",
      "Epoch 1/5\n",
      "125/125 [==============================] - ETA: 0s - loss: 8.4281 - mean_squared_error: 8.42 - 0s 3ms/sample - loss: 9.4293 - mean_squared_error: 9.4293 - val_loss: 15.3889 - val_mean_squared_error: 15.3889\n",
      "Epoch 2/5\n",
      "125/125 [==============================] - ETA: 0s - loss: 4.2376 - mean_squared_error: 4.23 - 0s 197us/sample - loss: 4.0306 - mean_squared_error: 4.0306 - val_loss: 12.3376 - val_mean_squared_error: 12.3376\n",
      "Epoch 3/5\n",
      "125/125 [==============================] - ETA: 0s - loss: 2.3136 - mean_squared_error: 2.31 - 0s 202us/sample - loss: 1.5346 - mean_squared_error: 1.5346 - val_loss: 14.4293 - val_mean_squared_error: 14.4293\n",
      "Epoch 4/5\n",
      "125/125 [==============================] - ETA: 0s - loss: 1.0873 - mean_squared_error: 1.08 - 0s 202us/sample - loss: 1.0065 - mean_squared_error: 1.0065 - val_loss: 12.5283 - val_mean_squared_error: 12.5283\n",
      "Epoch 5/5\n",
      "125/125 [==============================] - ETA: 0s - loss: 0.9147 - mean_squared_error: 0.91 - 0s 188us/sample - loss: 1.2971 - mean_squared_error: 1.2971 - val_loss: 14.2750 - val_mean_squared_error: 14.2750\n"
     ]
    },
    {
     "data": {
      "text/html": [
       "<span style=\"color:#4527A0\"><h1 style=\"font-size:18px\">Trial complete</h1></span>"
      ],
      "text/plain": [
       "<IPython.core.display.HTML object>"
      ]
     },
     "metadata": {},
     "output_type": "display_data"
    },
    {
     "data": {
      "text/html": [
       "<span style=\"color:#4527A0\"><h1 style=\"font-size:18px\">Trial summary</h1></span>"
      ],
      "text/plain": [
       "<IPython.core.display.HTML object>"
      ]
     },
     "metadata": {},
     "output_type": "display_data"
    },
    {
     "data": {
      "text/html": [
       "<span style=\"color:cyan\"> |-Trial ID: b898685fe1d7f5e86dd053a0e52612cf</span>"
      ],
      "text/plain": [
       "<IPython.core.display.HTML object>"
      ]
     },
     "metadata": {},
     "output_type": "display_data"
    },
    {
     "data": {
      "text/html": [
       "<span style=\"color:cyan\"> |-Score: 12.288378715515137</span>"
      ],
      "text/plain": [
       "<IPython.core.display.HTML object>"
      ]
     },
     "metadata": {},
     "output_type": "display_data"
    },
    {
     "data": {
      "text/html": [
       "<span style=\"color:cyan\"> |-Best step: 0</span>"
      ],
      "text/plain": [
       "<IPython.core.display.HTML object>"
      ]
     },
     "metadata": {},
     "output_type": "display_data"
    },
    {
     "data": {
      "text/html": [
       "<span style=\"color:#7E57C2\"><h2 style=\"font-size:16px\">Hyperparameters:</h2></span>"
      ],
      "text/plain": [
       "<IPython.core.display.HTML object>"
      ]
     },
     "metadata": {},
     "output_type": "display_data"
    },
    {
     "data": {
      "text/html": [
       "<span style=\"color:cyan\"> |-act_0: relu</span>"
      ],
      "text/plain": [
       "<IPython.core.display.HTML object>"
      ]
     },
     "metadata": {},
     "output_type": "display_data"
    },
    {
     "data": {
      "text/html": [
       "<span style=\"color:blue\"> |-act_1: relu</span>"
      ],
      "text/plain": [
       "<IPython.core.display.HTML object>"
      ]
     },
     "metadata": {},
     "output_type": "display_data"
    },
    {
     "data": {
      "text/html": [
       "<span style=\"color:cyan\"> |-act_2: relu</span>"
      ],
      "text/plain": [
       "<IPython.core.display.HTML object>"
      ]
     },
     "metadata": {},
     "output_type": "display_data"
    },
    {
     "data": {
      "text/html": [
       "<span style=\"color:blue\"> |-act_3: relu</span>"
      ],
      "text/plain": [
       "<IPython.core.display.HTML object>"
      ]
     },
     "metadata": {},
     "output_type": "display_data"
    },
    {
     "data": {
      "text/html": [
       "<span style=\"color:cyan\"> |-dropout: 0.30000000000000004</span>"
      ],
      "text/plain": [
       "<IPython.core.display.HTML object>"
      ]
     },
     "metadata": {},
     "output_type": "display_data"
    },
    {
     "data": {
      "text/html": [
       "<span style=\"color:blue\"> |-learning_rate: 0.001</span>"
      ],
      "text/plain": [
       "<IPython.core.display.HTML object>"
      ]
     },
     "metadata": {},
     "output_type": "display_data"
    },
    {
     "data": {
      "text/html": [
       "<span style=\"color:cyan\"> |-momentum: 0.1</span>"
      ],
      "text/plain": [
       "<IPython.core.display.HTML object>"
      ]
     },
     "metadata": {},
     "output_type": "display_data"
    },
    {
     "data": {
      "text/html": [
       "<span style=\"color:blue\"> |-num_layers: 2</span>"
      ],
      "text/plain": [
       "<IPython.core.display.HTML object>"
      ]
     },
     "metadata": {},
     "output_type": "display_data"
    },
    {
     "data": {
      "text/html": [
       "<span style=\"color:cyan\"> |-rho: 0.8000000000000003</span>"
      ],
      "text/plain": [
       "<IPython.core.display.HTML object>"
      ]
     },
     "metadata": {},
     "output_type": "display_data"
    },
    {
     "data": {
      "text/html": [
       "<span style=\"color:blue\"> |-units_0: 40</span>"
      ],
      "text/plain": [
       "<IPython.core.display.HTML object>"
      ]
     },
     "metadata": {},
     "output_type": "display_data"
    },
    {
     "data": {
      "text/html": [
       "<span style=\"color:cyan\"> |-units_1: 80</span>"
      ],
      "text/plain": [
       "<IPython.core.display.HTML object>"
      ]
     },
     "metadata": {},
     "output_type": "display_data"
    },
    {
     "data": {
      "text/html": [
       "<span style=\"color:blue\"> |-units_2: 70</span>"
      ],
      "text/plain": [
       "<IPython.core.display.HTML object>"
      ]
     },
     "metadata": {},
     "output_type": "display_data"
    },
    {
     "data": {
      "text/html": [
       "<span style=\"color:cyan\"> |-units_3: 60</span>"
      ],
      "text/plain": [
       "<IPython.core.display.HTML object>"
      ]
     },
     "metadata": {},
     "output_type": "display_data"
    },
    {
     "name": "stdout",
     "output_type": "stream",
     "text": [
      "Train on 125 samples, validate on 23 samples\n",
      "Epoch 1/5\n",
      "125/125 [==============================] - ETA: 1s - loss: 9.7670 - mean_squared_error: 9.76 - 0s 4ms/sample - loss: 8.7160 - mean_squared_error: 8.7160 - val_loss: 10.0240 - val_mean_squared_error: 10.0240\n",
      "Epoch 2/5\n",
      "125/125 [==============================] - ETA: 0s - loss: 7.1132 - mean_squared_error: 7.11 - 0s 392us/sample - loss: 6.5373 - mean_squared_error: 6.5373 - val_loss: 9.9548 - val_mean_squared_error: 9.9548\n",
      "Epoch 3/5\n",
      "125/125 [==============================] - ETA: 0s - loss: 4.6675 - mean_squared_error: 4.66 - 0s 218us/sample - loss: 5.1022 - mean_squared_error: 5.1022 - val_loss: 10.0696 - val_mean_squared_error: 10.0696\n",
      "Epoch 4/5\n",
      "125/125 [==============================] - ETA: 0s - loss: 3.5407 - mean_squared_error: 3.54 - 0s 196us/sample - loss: 4.3014 - mean_squared_error: 4.3014 - val_loss: 9.9969 - val_mean_squared_error: 9.9969\n",
      "Epoch 5/5\n",
      "125/125 [==============================] - ETA: 0s - loss: 4.1803 - mean_squared_error: 4.18 - 0s 198us/sample - loss: 3.7889 - mean_squared_error: 3.7889 - val_loss: 10.1355 - val_mean_squared_error: 10.1355\n",
      "Train on 125 samples, validate on 23 samples\n",
      "Epoch 1/5\n",
      "125/125 [==============================] - ETA: 1s - loss: 4.9009 - mean_squared_error: 4.90 - 0s 4ms/sample - loss: 11.4169 - mean_squared_error: 11.4169 - val_loss: 10.9490 - val_mean_squared_error: 10.9490\n",
      "Epoch 2/5\n",
      "125/125 [==============================] - ETA: 0s - loss: 7.4517 - mean_squared_error: 7.45 - 0s 211us/sample - loss: 9.2029 - mean_squared_error: 9.2029 - val_loss: 10.7293 - val_mean_squared_error: 10.7293\n",
      "Epoch 3/5\n",
      "125/125 [==============================] - ETA: 0s - loss: 6.7081 - mean_squared_error: 6.70 - 0s 208us/sample - loss: 8.2061 - mean_squared_error: 8.2061 - val_loss: 10.5349 - val_mean_squared_error: 10.5349\n",
      "Epoch 4/5\n",
      "125/125 [==============================] - ETA: 0s - loss: 8.7876 - mean_squared_error: 8.78 - 0s 195us/sample - loss: 7.4096 - mean_squared_error: 7.4096 - val_loss: 10.1814 - val_mean_squared_error: 10.1814\n",
      "Epoch 5/5\n",
      "125/125 [==============================] - ETA: 0s - loss: 6.0209 - mean_squared_error: 6.02 - 0s 200us/sample - loss: 6.7390 - mean_squared_error: 6.7390 - val_loss: 10.0586 - val_mean_squared_error: 10.0586\n",
      "Train on 125 samples, validate on 23 samples\n",
      "Epoch 1/5\n",
      "125/125 [==============================] - ETA: 1s - loss: 12.5832 - mean_squared_error: 12.58 - 0s 4ms/sample - loss: 9.8028 - mean_squared_error: 9.8028 - val_loss: 9.8723 - val_mean_squared_error: 9.8723\n",
      "Epoch 2/5\n",
      "125/125 [==============================] - ETA: 0s - loss: 4.9241 - mean_squared_error: 4.92 - 0s 374us/sample - loss: 7.5086 - mean_squared_error: 7.5086 - val_loss: 9.3999 - val_mean_squared_error: 9.3999\n",
      "Epoch 3/5\n",
      "125/125 [==============================] - ETA: 0s - loss: 6.3372 - mean_squared_error: 6.33 - 0s 381us/sample - loss: 6.2992 - mean_squared_error: 6.2992 - val_loss: 9.2116 - val_mean_squared_error: 9.2116\n",
      "Epoch 4/5\n",
      "125/125 [==============================] - ETA: 0s - loss: 4.3326 - mean_squared_error: 4.33 - 0s 372us/sample - loss: 5.5922 - mean_squared_error: 5.5922 - val_loss: 9.0282 - val_mean_squared_error: 9.0282\n",
      "Epoch 5/5\n",
      "125/125 [==============================] - ETA: 0s - loss: 4.7785 - mean_squared_error: 4.77 - 0s 369us/sample - loss: 4.9062 - mean_squared_error: 4.9062 - val_loss: 8.8727 - val_mean_squared_error: 8.8727\n"
     ]
    },
    {
     "data": {
      "text/html": [
       "<span style=\"color:#4527A0\"><h1 style=\"font-size:18px\">Trial complete</h1></span>"
      ],
      "text/plain": [
       "<IPython.core.display.HTML object>"
      ]
     },
     "metadata": {},
     "output_type": "display_data"
    },
    {
     "data": {
      "text/html": [
       "<span style=\"color:#4527A0\"><h1 style=\"font-size:18px\">Trial summary</h1></span>"
      ],
      "text/plain": [
       "<IPython.core.display.HTML object>"
      ]
     },
     "metadata": {},
     "output_type": "display_data"
    },
    {
     "data": {
      "text/html": [
       "<span style=\"color:cyan\"> |-Trial ID: c8580c6805a369ded3e0d637faf3b696</span>"
      ],
      "text/plain": [
       "<IPython.core.display.HTML object>"
      ]
     },
     "metadata": {},
     "output_type": "display_data"
    },
    {
     "data": {
      "text/html": [
       "<span style=\"color:cyan\"> |-Score: 9.628693580627441</span>"
      ],
      "text/plain": [
       "<IPython.core.display.HTML object>"
      ]
     },
     "metadata": {},
     "output_type": "display_data"
    },
    {
     "data": {
      "text/html": [
       "<span style=\"color:cyan\"> |-Best step: 0</span>"
      ],
      "text/plain": [
       "<IPython.core.display.HTML object>"
      ]
     },
     "metadata": {},
     "output_type": "display_data"
    },
    {
     "data": {
      "text/html": [
       "<span style=\"color:#7E57C2\"><h2 style=\"font-size:16px\">Hyperparameters:</h2></span>"
      ],
      "text/plain": [
       "<IPython.core.display.HTML object>"
      ]
     },
     "metadata": {},
     "output_type": "display_data"
    },
    {
     "data": {
      "text/html": [
       "<span style=\"color:cyan\"> |-act_0: tanh</span>"
      ],
      "text/plain": [
       "<IPython.core.display.HTML object>"
      ]
     },
     "metadata": {},
     "output_type": "display_data"
    },
    {
     "data": {
      "text/html": [
       "<span style=\"color:blue\"> |-act_1: relu</span>"
      ],
      "text/plain": [
       "<IPython.core.display.HTML object>"
      ]
     },
     "metadata": {},
     "output_type": "display_data"
    },
    {
     "data": {
      "text/html": [
       "<span style=\"color:cyan\"> |-act_2: relu</span>"
      ],
      "text/plain": [
       "<IPython.core.display.HTML object>"
      ]
     },
     "metadata": {},
     "output_type": "display_data"
    },
    {
     "data": {
      "text/html": [
       "<span style=\"color:blue\"> |-act_3: tanh</span>"
      ],
      "text/plain": [
       "<IPython.core.display.HTML object>"
      ]
     },
     "metadata": {},
     "output_type": "display_data"
    },
    {
     "data": {
      "text/html": [
       "<span style=\"color:cyan\"> |-dropout: 0.2</span>"
      ],
      "text/plain": [
       "<IPython.core.display.HTML object>"
      ]
     },
     "metadata": {},
     "output_type": "display_data"
    },
    {
     "data": {
      "text/html": [
       "<span style=\"color:blue\"> |-learning_rate: 0.0001</span>"
      ],
      "text/plain": [
       "<IPython.core.display.HTML object>"
      ]
     },
     "metadata": {},
     "output_type": "display_data"
    },
    {
     "data": {
      "text/html": [
       "<span style=\"color:cyan\"> |-momentum: 0.05</span>"
      ],
      "text/plain": [
       "<IPython.core.display.HTML object>"
      ]
     },
     "metadata": {},
     "output_type": "display_data"
    },
    {
     "data": {
      "text/html": [
       "<span style=\"color:blue\"> |-num_layers: 3</span>"
      ],
      "text/plain": [
       "<IPython.core.display.HTML object>"
      ]
     },
     "metadata": {},
     "output_type": "display_data"
    },
    {
     "data": {
      "text/html": [
       "<span style=\"color:cyan\"> |-rho: 0.9500000000000004</span>"
      ],
      "text/plain": [
       "<IPython.core.display.HTML object>"
      ]
     },
     "metadata": {},
     "output_type": "display_data"
    },
    {
     "data": {
      "text/html": [
       "<span style=\"color:blue\"> |-units_0: 60</span>"
      ],
      "text/plain": [
       "<IPython.core.display.HTML object>"
      ]
     },
     "metadata": {},
     "output_type": "display_data"
    },
    {
     "data": {
      "text/html": [
       "<span style=\"color:cyan\"> |-units_1: 90</span>"
      ],
      "text/plain": [
       "<IPython.core.display.HTML object>"
      ]
     },
     "metadata": {},
     "output_type": "display_data"
    },
    {
     "data": {
      "text/html": [
       "<span style=\"color:blue\"> |-units_2: 70</span>"
      ],
      "text/plain": [
       "<IPython.core.display.HTML object>"
      ]
     },
     "metadata": {},
     "output_type": "display_data"
    },
    {
     "data": {
      "text/html": [
       "<span style=\"color:cyan\"> |-units_3: 100</span>"
      ],
      "text/plain": [
       "<IPython.core.display.HTML object>"
      ]
     },
     "metadata": {},
     "output_type": "display_data"
    },
    {
     "name": "stdout",
     "output_type": "stream",
     "text": [
      "Train on 125 samples, validate on 23 samples\n",
      "Epoch 1/5\n",
      "125/125 [==============================] - ETA: 0s - loss: 7.8954 - mean_squared_error: 7.89 - 0s 3ms/sample - loss: 10.6117 - mean_squared_error: 10.6117 - val_loss: 9.5197 - val_mean_squared_error: 9.5197\n",
      "Epoch 2/5\n",
      "125/125 [==============================] - ETA: 0s - loss: 6.3245 - mean_squared_error: 6.32 - 0s 201us/sample - loss: 6.7543 - mean_squared_error: 6.7543 - val_loss: 10.3467 - val_mean_squared_error: 10.3467\n",
      "Epoch 3/5\n",
      "125/125 [==============================] - ETA: 0s - loss: 7.4181 - mean_squared_error: 7.41 - 0s 188us/sample - loss: 4.7676 - mean_squared_error: 4.7676 - val_loss: 10.4751 - val_mean_squared_error: 10.4751\n",
      "Epoch 4/5\n",
      "125/125 [==============================] - ETA: 0s - loss: 3.8249 - mean_squared_error: 3.82 - 0s 196us/sample - loss: 3.9762 - mean_squared_error: 3.9762 - val_loss: 10.9850 - val_mean_squared_error: 10.9850\n",
      "Epoch 5/5\n",
      "125/125 [==============================] - ETA: 0s - loss: 3.6218 - mean_squared_error: 3.62 - 0s 181us/sample - loss: 3.1105 - mean_squared_error: 3.1105 - val_loss: 11.3362 - val_mean_squared_error: 11.3362\n",
      "Train on 125 samples, validate on 23 samples\n",
      "Epoch 1/5\n",
      "125/125 [==============================] - ETA: 0s - loss: 13.8860 - mean_squared_error: 13.88 - 0s 3ms/sample - loss: 11.7378 - mean_squared_error: 11.7378 - val_loss: 13.3404 - val_mean_squared_error: 13.3404\n",
      "Epoch 2/5\n",
      "125/125 [==============================] - ETA: 0s - loss: 7.9657 - mean_squared_error: 7.96 - 0s 217us/sample - loss: 7.6110 - mean_squared_error: 7.6110 - val_loss: 13.9025 - val_mean_squared_error: 13.9025\n",
      "Epoch 3/5\n",
      "125/125 [==============================] - ETA: 0s - loss: 5.6958 - mean_squared_error: 5.69 - 0s 197us/sample - loss: 5.7729 - mean_squared_error: 5.7729 - val_loss: 14.4840 - val_mean_squared_error: 14.4840\n",
      "Epoch 4/5\n",
      "125/125 [==============================] - ETA: 0s - loss: 4.9637 - mean_squared_error: 4.96 - 0s 183us/sample - loss: 4.5734 - mean_squared_error: 4.5734 - val_loss: 14.7935 - val_mean_squared_error: 14.7935\n",
      "Epoch 5/5\n",
      "125/125 [==============================] - ETA: 0s - loss: 3.6346 - mean_squared_error: 3.63 - 0s 180us/sample - loss: 3.6023 - mean_squared_error: 3.6023 - val_loss: 15.1858 - val_mean_squared_error: 15.1858\n",
      "Train on 125 samples, validate on 23 samples\n",
      "Epoch 1/5\n",
      "125/125 [==============================] - ETA: 0s - loss: 11.2710 - mean_squared_error: 11.27 - 0s 3ms/sample - loss: 10.1903 - mean_squared_error: 10.1903 - val_loss: 9.5478 - val_mean_squared_error: 9.5478\n",
      "Epoch 2/5\n",
      "125/125 [==============================] - ETA: 0s - loss: 5.6693 - mean_squared_error: 5.66 - 0s 190us/sample - loss: 6.3596 - mean_squared_error: 6.3596 - val_loss: 10.5776 - val_mean_squared_error: 10.5776\n",
      "Epoch 3/5\n",
      "125/125 [==============================] - ETA: 0s - loss: 4.4008 - mean_squared_error: 4.40 - 0s 192us/sample - loss: 5.3865 - mean_squared_error: 5.3865 - val_loss: 11.1960 - val_mean_squared_error: 11.1960\n",
      "Epoch 4/5\n",
      "125/125 [==============================] - ETA: 0s - loss: 5.3582 - mean_squared_error: 5.35 - 0s 197us/sample - loss: 3.9220 - mean_squared_error: 3.9220 - val_loss: 11.4827 - val_mean_squared_error: 11.4827\n",
      "Epoch 5/5\n",
      "125/125 [==============================] - ETA: 0s - loss: 3.2580 - mean_squared_error: 3.25 - 0s 181us/sample - loss: 3.1490 - mean_squared_error: 3.1490 - val_loss: 11.9389 - val_mean_squared_error: 11.9389\n"
     ]
    },
    {
     "data": {
      "text/html": [
       "<span style=\"color:#4527A0\"><h1 style=\"font-size:18px\">Trial complete</h1></span>"
      ],
      "text/plain": [
       "<IPython.core.display.HTML object>"
      ]
     },
     "metadata": {},
     "output_type": "display_data"
    },
    {
     "data": {
      "text/html": [
       "<span style=\"color:#4527A0\"><h1 style=\"font-size:18px\">Trial summary</h1></span>"
      ],
      "text/plain": [
       "<IPython.core.display.HTML object>"
      ]
     },
     "metadata": {},
     "output_type": "display_data"
    },
    {
     "data": {
      "text/html": [
       "<span style=\"color:cyan\"> |-Trial ID: 6f968fc83c686ee163325c2582039128</span>"
      ],
      "text/plain": [
       "<IPython.core.display.HTML object>"
      ]
     },
     "metadata": {},
     "output_type": "display_data"
    },
    {
     "data": {
      "text/html": [
       "<span style=\"color:cyan\"> |-Score: 10.802599906921387</span>"
      ],
      "text/plain": [
       "<IPython.core.display.HTML object>"
      ]
     },
     "metadata": {},
     "output_type": "display_data"
    },
    {
     "data": {
      "text/html": [
       "<span style=\"color:cyan\"> |-Best step: 0</span>"
      ],
      "text/plain": [
       "<IPython.core.display.HTML object>"
      ]
     },
     "metadata": {},
     "output_type": "display_data"
    },
    {
     "data": {
      "text/html": [
       "<span style=\"color:#7E57C2\"><h2 style=\"font-size:16px\">Hyperparameters:</h2></span>"
      ],
      "text/plain": [
       "<IPython.core.display.HTML object>"
      ]
     },
     "metadata": {},
     "output_type": "display_data"
    },
    {
     "data": {
      "text/html": [
       "<span style=\"color:cyan\"> |-act_0: tanh</span>"
      ],
      "text/plain": [
       "<IPython.core.display.HTML object>"
      ]
     },
     "metadata": {},
     "output_type": "display_data"
    },
    {
     "data": {
      "text/html": [
       "<span style=\"color:blue\"> |-act_1: tanh</span>"
      ],
      "text/plain": [
       "<IPython.core.display.HTML object>"
      ]
     },
     "metadata": {},
     "output_type": "display_data"
    },
    {
     "data": {
      "text/html": [
       "<span style=\"color:cyan\"> |-act_2: relu</span>"
      ],
      "text/plain": [
       "<IPython.core.display.HTML object>"
      ]
     },
     "metadata": {},
     "output_type": "display_data"
    },
    {
     "data": {
      "text/html": [
       "<span style=\"color:blue\"> |-act_3: tanh</span>"
      ],
      "text/plain": [
       "<IPython.core.display.HTML object>"
      ]
     },
     "metadata": {},
     "output_type": "display_data"
    },
    {
     "data": {
      "text/html": [
       "<span style=\"color:cyan\"> |-dropout: 0.1</span>"
      ],
      "text/plain": [
       "<IPython.core.display.HTML object>"
      ]
     },
     "metadata": {},
     "output_type": "display_data"
    },
    {
     "data": {
      "text/html": [
       "<span style=\"color:blue\"> |-learning_rate: 0.0001</span>"
      ],
      "text/plain": [
       "<IPython.core.display.HTML object>"
      ]
     },
     "metadata": {},
     "output_type": "display_data"
    },
    {
     "data": {
      "text/html": [
       "<span style=\"color:cyan\"> |-momentum: 0.1</span>"
      ],
      "text/plain": [
       "<IPython.core.display.HTML object>"
      ]
     },
     "metadata": {},
     "output_type": "display_data"
    },
    {
     "data": {
      "text/html": [
       "<span style=\"color:blue\"> |-num_layers: 1</span>"
      ],
      "text/plain": [
       "<IPython.core.display.HTML object>"
      ]
     },
     "metadata": {},
     "output_type": "display_data"
    },
    {
     "data": {
      "text/html": [
       "<span style=\"color:cyan\"> |-rho: 0.8000000000000003</span>"
      ],
      "text/plain": [
       "<IPython.core.display.HTML object>"
      ]
     },
     "metadata": {},
     "output_type": "display_data"
    },
    {
     "data": {
      "text/html": [
       "<span style=\"color:blue\"> |-units_0: 60</span>"
      ],
      "text/plain": [
       "<IPython.core.display.HTML object>"
      ]
     },
     "metadata": {},
     "output_type": "display_data"
    },
    {
     "data": {
      "text/html": [
       "<span style=\"color:cyan\"> |-units_1: 70</span>"
      ],
      "text/plain": [
       "<IPython.core.display.HTML object>"
      ]
     },
     "metadata": {},
     "output_type": "display_data"
    },
    {
     "data": {
      "text/html": [
       "<span style=\"color:blue\"> |-units_2: 40</span>"
      ],
      "text/plain": [
       "<IPython.core.display.HTML object>"
      ]
     },
     "metadata": {},
     "output_type": "display_data"
    },
    {
     "data": {
      "text/html": [
       "<span style=\"color:cyan\"> |-units_3: 60</span>"
      ],
      "text/plain": [
       "<IPython.core.display.HTML object>"
      ]
     },
     "metadata": {},
     "output_type": "display_data"
    },
    {
     "name": "stdout",
     "output_type": "stream",
     "text": [
      "Train on 125 samples, validate on 23 samples\n",
      "Epoch 1/5\n",
      "125/125 [==============================] - ETA: 0s - loss: 9.8551 - mean_squared_error: 9.85 - 0s 4ms/sample - loss: 8.3691 - mean_squared_error: 8.3691 - val_loss: 13.1919 - val_mean_squared_error: 13.1919\n",
      "Epoch 2/5\n",
      "125/125 [==============================] - ETA: 0s - loss: 7.9770 - mean_squared_error: 7.97 - 0s 215us/sample - loss: 6.6900 - mean_squared_error: 6.6900 - val_loss: 13.7401 - val_mean_squared_error: 13.7401\n",
      "Epoch 3/5\n",
      "125/125 [==============================] - ETA: 0s - loss: 4.6368 - mean_squared_error: 4.63 - 0s 197us/sample - loss: 6.0045 - mean_squared_error: 6.0045 - val_loss: 14.7841 - val_mean_squared_error: 14.7841\n",
      "Epoch 4/5\n",
      "125/125 [==============================] - ETA: 0s - loss: 4.5893 - mean_squared_error: 4.58 - 0s 200us/sample - loss: 4.6871 - mean_squared_error: 4.6871 - val_loss: 15.7753 - val_mean_squared_error: 15.7753\n",
      "Epoch 5/5\n",
      "125/125 [==============================] - ETA: 0s - loss: 4.1011 - mean_squared_error: 4.10 - 0s 187us/sample - loss: 4.4534 - mean_squared_error: 4.4534 - val_loss: 15.8776 - val_mean_squared_error: 15.8776\n",
      "Train on 125 samples, validate on 23 samples\n",
      "Epoch 1/5\n",
      "125/125 [==============================] - ETA: 0s - loss: 17.6414 - mean_squared_error: 17.64 - 0s 3ms/sample - loss: 12.4348 - mean_squared_error: 12.4348 - val_loss: 10.4888 - val_mean_squared_error: 10.4888\n",
      "Epoch 2/5\n",
      "125/125 [==============================] - ETA: 0s - loss: 11.2883 - mean_squared_error: 11.28 - 0s 365us/sample - loss: 9.5328 - mean_squared_error: 9.5328 - val_loss: 9.9344 - val_mean_squared_error: 9.9344\n",
      "Epoch 3/5\n",
      "125/125 [==============================] - ETA: 0s - loss: 9.8143 - mean_squared_error: 9.81 - 0s 371us/sample - loss: 8.2555 - mean_squared_error: 8.2555 - val_loss: 9.5892 - val_mean_squared_error: 9.5892\n",
      "Epoch 4/5\n",
      "125/125 [==============================] - ETA: 0s - loss: 8.3682 - mean_squared_error: 8.36 - 0s 201us/sample - loss: 6.6798 - mean_squared_error: 6.6798 - val_loss: 9.7099 - val_mean_squared_error: 9.7099\n",
      "Epoch 5/5\n",
      "125/125 [==============================] - ETA: 0s - loss: 4.8094 - mean_squared_error: 4.80 - 0s 354us/sample - loss: 4.5532 - mean_squared_error: 4.5532 - val_loss: 9.5725 - val_mean_squared_error: 9.5725\n",
      "Train on 125 samples, validate on 23 samples\n",
      "Epoch 1/5\n",
      "125/125 [==============================] - ETA: 0s - loss: 14.6334 - mean_squared_error: 14.63 - 0s 3ms/sample - loss: 17.5792 - mean_squared_error: 17.5792 - val_loss: 16.6155 - val_mean_squared_error: 16.6155\n",
      "Epoch 2/5\n",
      "125/125 [==============================] - ETA: 0s - loss: 16.3831 - mean_squared_error: 16.38 - 0s 202us/sample - loss: 14.3261 - mean_squared_error: 14.3261 - val_loss: 15.1234 - val_mean_squared_error: 15.1234\n",
      "Epoch 3/5\n",
      "125/125 [==============================] - ETA: 0s - loss: 12.5928 - mean_squared_error: 12.59 - 0s 204us/sample - loss: 12.0818 - mean_squared_error: 12.0818 - val_loss: 14.1183 - val_mean_squared_error: 14.1183\n",
      "Epoch 4/5\n",
      "125/125 [==============================] - ETA: 0s - loss: 12.9174 - mean_squared_error: 12.91 - 0s 201us/sample - loss: 10.0117 - mean_squared_error: 10.0117 - val_loss: 13.9010 - val_mean_squared_error: 13.9010\n",
      "Epoch 5/5\n",
      "125/125 [==============================] - ETA: 0s - loss: 11.9905 - mean_squared_error: 11.99 - 0s 202us/sample - loss: 8.7814 - mean_squared_error: 8.7814 - val_loss: 13.5985 - val_mean_squared_error: 13.5985\n"
     ]
    },
    {
     "data": {
      "text/html": [
       "<span style=\"color:#4527A0\"><h1 style=\"font-size:18px\">Trial complete</h1></span>"
      ],
      "text/plain": [
       "<IPython.core.display.HTML object>"
      ]
     },
     "metadata": {},
     "output_type": "display_data"
    },
    {
     "data": {
      "text/html": [
       "<span style=\"color:#4527A0\"><h1 style=\"font-size:18px\">Trial summary</h1></span>"
      ],
      "text/plain": [
       "<IPython.core.display.HTML object>"
      ]
     },
     "metadata": {},
     "output_type": "display_data"
    },
    {
     "data": {
      "text/html": [
       "<span style=\"color:cyan\"> |-Trial ID: 9fde9cd2c186bcefd8d20ace8f594cbd</span>"
      ],
      "text/plain": [
       "<IPython.core.display.HTML object>"
      ]
     },
     "metadata": {},
     "output_type": "display_data"
    },
    {
     "data": {
      "text/html": [
       "<span style=\"color:cyan\"> |-Score: 12.120970726013184</span>"
      ],
      "text/plain": [
       "<IPython.core.display.HTML object>"
      ]
     },
     "metadata": {},
     "output_type": "display_data"
    },
    {
     "data": {
      "text/html": [
       "<span style=\"color:cyan\"> |-Best step: 0</span>"
      ],
      "text/plain": [
       "<IPython.core.display.HTML object>"
      ]
     },
     "metadata": {},
     "output_type": "display_data"
    },
    {
     "data": {
      "text/html": [
       "<span style=\"color:#7E57C2\"><h2 style=\"font-size:16px\">Hyperparameters:</h2></span>"
      ],
      "text/plain": [
       "<IPython.core.display.HTML object>"
      ]
     },
     "metadata": {},
     "output_type": "display_data"
    },
    {
     "data": {
      "text/html": [
       "<span style=\"color:cyan\"> |-act_0: relu</span>"
      ],
      "text/plain": [
       "<IPython.core.display.HTML object>"
      ]
     },
     "metadata": {},
     "output_type": "display_data"
    },
    {
     "data": {
      "text/html": [
       "<span style=\"color:blue\"> |-act_1: relu</span>"
      ],
      "text/plain": [
       "<IPython.core.display.HTML object>"
      ]
     },
     "metadata": {},
     "output_type": "display_data"
    },
    {
     "data": {
      "text/html": [
       "<span style=\"color:cyan\"> |-act_2: relu</span>"
      ],
      "text/plain": [
       "<IPython.core.display.HTML object>"
      ]
     },
     "metadata": {},
     "output_type": "display_data"
    },
    {
     "data": {
      "text/html": [
       "<span style=\"color:blue\"> |-act_3: relu</span>"
      ],
      "text/plain": [
       "<IPython.core.display.HTML object>"
      ]
     },
     "metadata": {},
     "output_type": "display_data"
    },
    {
     "data": {
      "text/html": [
       "<span style=\"color:cyan\"> |-dropout: 0.5</span>"
      ],
      "text/plain": [
       "<IPython.core.display.HTML object>"
      ]
     },
     "metadata": {},
     "output_type": "display_data"
    },
    {
     "data": {
      "text/html": [
       "<span style=\"color:blue\"> |-learning_rate: 0.0001</span>"
      ],
      "text/plain": [
       "<IPython.core.display.HTML object>"
      ]
     },
     "metadata": {},
     "output_type": "display_data"
    },
    {
     "data": {
      "text/html": [
       "<span style=\"color:cyan\"> |-momentum: 0.15000000000000002</span>"
      ],
      "text/plain": [
       "<IPython.core.display.HTML object>"
      ]
     },
     "metadata": {},
     "output_type": "display_data"
    },
    {
     "data": {
      "text/html": [
       "<span style=\"color:blue\"> |-num_layers: 2</span>"
      ],
      "text/plain": [
       "<IPython.core.display.HTML object>"
      ]
     },
     "metadata": {},
     "output_type": "display_data"
    },
    {
     "data": {
      "text/html": [
       "<span style=\"color:cyan\"> |-rho: 0.8500000000000003</span>"
      ],
      "text/plain": [
       "<IPython.core.display.HTML object>"
      ]
     },
     "metadata": {},
     "output_type": "display_data"
    },
    {
     "data": {
      "text/html": [
       "<span style=\"color:blue\"> |-units_0: 70</span>"
      ],
      "text/plain": [
       "<IPython.core.display.HTML object>"
      ]
     },
     "metadata": {},
     "output_type": "display_data"
    },
    {
     "data": {
      "text/html": [
       "<span style=\"color:cyan\"> |-units_1: 60</span>"
      ],
      "text/plain": [
       "<IPython.core.display.HTML object>"
      ]
     },
     "metadata": {},
     "output_type": "display_data"
    },
    {
     "data": {
      "text/html": [
       "<span style=\"color:blue\"> |-units_2: 60</span>"
      ],
      "text/plain": [
       "<IPython.core.display.HTML object>"
      ]
     },
     "metadata": {},
     "output_type": "display_data"
    },
    {
     "data": {
      "text/html": [
       "<span style=\"color:cyan\"> |-units_3: 20</span>"
      ],
      "text/plain": [
       "<IPython.core.display.HTML object>"
      ]
     },
     "metadata": {},
     "output_type": "display_data"
    },
    {
     "name": "stdout",
     "output_type": "stream",
     "text": [
      "Train on 125 samples, validate on 23 samples\n",
      "Epoch 1/5\n",
      "125/125 [==============================] - ETA: 0s - loss: 11.7479 - mean_squared_error: 11.74 - 0s 4ms/sample - loss: 1447.4384 - mean_squared_error: 1447.4384 - val_loss: 386.3376 - val_mean_squared_error: 386.3376\n",
      "Epoch 2/5\n",
      "125/125 [==============================] - ETA: 0s - loss: 196.7156 - mean_squared_error: 196.71 - 0s 375us/sample - loss: 116.0967 - mean_squared_error: 116.0967 - val_loss: 44.5220 - val_mean_squared_error: 44.5220\n",
      "Epoch 3/5\n",
      "125/125 [==============================] - ETA: 0s - loss: 36.7584 - mean_squared_error: 36.75 - 0s 379us/sample - loss: 23.4870 - mean_squared_error: 23.4870 - val_loss: 34.9901 - val_mean_squared_error: 34.9901\n",
      "Epoch 4/5\n",
      "125/125 [==============================] - ETA: 0s - loss: 4.1280 - mean_squared_error: 4.12 - 0s 208us/sample - loss: 8.2024 - mean_squared_error: 8.2024 - val_loss: 35.8941 - val_mean_squared_error: 35.8941\n",
      "Epoch 5/5\n",
      "125/125 [==============================] - ETA: 0s - loss: 10.0579 - mean_squared_error: 10.05 - 0s 373us/sample - loss: 7.5043 - mean_squared_error: 7.5043 - val_loss: 25.6872 - val_mean_squared_error: 25.6872\n",
      "Train on 125 samples, validate on 23 samples\n",
      "Epoch 1/5\n",
      "125/125 [==============================] - ETA: 0s - loss: 7.7285 - mean_squared_error: 7.72 - 0s 3ms/sample - loss: 1520.0325 - mean_squared_error: 1520.0325 - val_loss: 124.8674 - val_mean_squared_error: 124.8674\n",
      "Epoch 2/5\n",
      "125/125 [==============================] - ETA: 0s - loss: 149.1469 - mean_squared_error: 149.14 - 0s 212us/sample - loss: 105.5309 - mean_squared_error: 105.5309 - val_loss: 308.3283 - val_mean_squared_error: 308.3283\n",
      "Epoch 3/5\n",
      "125/125 [==============================] - ETA: 0s - loss: 216.4898 - mean_squared_error: 216.48 - 0s 201us/sample - loss: 84.3689 - mean_squared_error: 84.3689 - val_loss: 31.8282 - val_mean_squared_error: 31.8282\n",
      "Epoch 4/5\n",
      "125/125 [==============================] - ETA: 0s - loss: 21.6608 - mean_squared_error: 21.66 - 0s 205us/sample - loss: 22.7570 - mean_squared_error: 22.7570 - val_loss: 43.5415 - val_mean_squared_error: 43.5415\n",
      "Epoch 5/5\n",
      "125/125 [==============================] - ETA: 0s - loss: 5.3283 - mean_squared_error: 5.32 - 0s 190us/sample - loss: 9.0736 - mean_squared_error: 9.0736 - val_loss: 43.6993 - val_mean_squared_error: 43.6993\n",
      "Train on 125 samples, validate on 23 samples\n",
      "Epoch 1/5\n",
      "125/125 [==============================] - ETA: 0s - loss: 13.1664 - mean_squared_error: 13.16 - 0s 3ms/sample - loss: 2370.4774 - mean_squared_error: 2370.4775 - val_loss: 715.1179 - val_mean_squared_error: 715.1179\n",
      "Epoch 2/5\n",
      "125/125 [==============================] - ETA: 0s - loss: 430.8506 - mean_squared_error: 430.85 - 0s 204us/sample - loss: 204.7429 - mean_squared_error: 204.7429 - val_loss: 46.9643 - val_mean_squared_error: 46.9643\n",
      "Epoch 3/5\n",
      "125/125 [==============================] - ETA: 0s - loss: 117.1680 - mean_squared_error: 117.16 - 0s 206us/sample - loss: 66.8166 - mean_squared_error: 66.8166 - val_loss: 38.6126 - val_mean_squared_error: 38.6126\n",
      "Epoch 4/5\n",
      "125/125 [==============================] - ETA: 0s - loss: 32.9878 - mean_squared_error: 32.98 - 0s 198us/sample - loss: 25.9915 - mean_squared_error: 25.9915 - val_loss: 41.0323 - val_mean_squared_error: 41.0323\n",
      "Epoch 5/5\n",
      "125/125 [==============================] - ETA: 0s - loss: 14.4681 - mean_squared_error: 14.46 - 0s 188us/sample - loss: 23.9428 - mean_squared_error: 23.9428 - val_loss: 46.7645 - val_mean_squared_error: 46.7645\n"
     ]
    },
    {
     "data": {
      "text/html": [
       "<span style=\"color:#4527A0\"><h1 style=\"font-size:18px\">Trial complete</h1></span>"
      ],
      "text/plain": [
       "<IPython.core.display.HTML object>"
      ]
     },
     "metadata": {},
     "output_type": "display_data"
    },
    {
     "data": {
      "text/html": [
       "<span style=\"color:#4527A0\"><h1 style=\"font-size:18px\">Trial summary</h1></span>"
      ],
      "text/plain": [
       "<IPython.core.display.HTML object>"
      ]
     },
     "metadata": {},
     "output_type": "display_data"
    },
    {
     "data": {
      "text/html": [
       "<span style=\"color:cyan\"> |-Trial ID: 91461a0cc4495a542ecfecb7f0e75f87</span>"
      ],
      "text/plain": [
       "<IPython.core.display.HTML object>"
      ]
     },
     "metadata": {},
     "output_type": "display_data"
    },
    {
     "data": {
      "text/html": [
       "<span style=\"color:cyan\"> |-Score: 32.04267120361328</span>"
      ],
      "text/plain": [
       "<IPython.core.display.HTML object>"
      ]
     },
     "metadata": {},
     "output_type": "display_data"
    },
    {
     "data": {
      "text/html": [
       "<span style=\"color:cyan\"> |-Best step: 0</span>"
      ],
      "text/plain": [
       "<IPython.core.display.HTML object>"
      ]
     },
     "metadata": {},
     "output_type": "display_data"
    },
    {
     "data": {
      "text/html": [
       "<span style=\"color:#7E57C2\"><h2 style=\"font-size:16px\">Hyperparameters:</h2></span>"
      ],
      "text/plain": [
       "<IPython.core.display.HTML object>"
      ]
     },
     "metadata": {},
     "output_type": "display_data"
    },
    {
     "data": {
      "text/html": [
       "<span style=\"color:cyan\"> |-act_0: relu</span>"
      ],
      "text/plain": [
       "<IPython.core.display.HTML object>"
      ]
     },
     "metadata": {},
     "output_type": "display_data"
    },
    {
     "data": {
      "text/html": [
       "<span style=\"color:blue\"> |-act_1: relu</span>"
      ],
      "text/plain": [
       "<IPython.core.display.HTML object>"
      ]
     },
     "metadata": {},
     "output_type": "display_data"
    },
    {
     "data": {
      "text/html": [
       "<span style=\"color:cyan\"> |-act_2: relu</span>"
      ],
      "text/plain": [
       "<IPython.core.display.HTML object>"
      ]
     },
     "metadata": {},
     "output_type": "display_data"
    },
    {
     "data": {
      "text/html": [
       "<span style=\"color:blue\"> |-act_3: tanh</span>"
      ],
      "text/plain": [
       "<IPython.core.display.HTML object>"
      ]
     },
     "metadata": {},
     "output_type": "display_data"
    },
    {
     "data": {
      "text/html": [
       "<span style=\"color:cyan\"> |-dropout: 0.4</span>"
      ],
      "text/plain": [
       "<IPython.core.display.HTML object>"
      ]
     },
     "metadata": {},
     "output_type": "display_data"
    },
    {
     "data": {
      "text/html": [
       "<span style=\"color:blue\"> |-learning_rate: 0.01</span>"
      ],
      "text/plain": [
       "<IPython.core.display.HTML object>"
      ]
     },
     "metadata": {},
     "output_type": "display_data"
    },
    {
     "data": {
      "text/html": [
       "<span style=\"color:cyan\"> |-momentum: 0.1</span>"
      ],
      "text/plain": [
       "<IPython.core.display.HTML object>"
      ]
     },
     "metadata": {},
     "output_type": "display_data"
    },
    {
     "data": {
      "text/html": [
       "<span style=\"color:blue\"> |-num_layers: 2</span>"
      ],
      "text/plain": [
       "<IPython.core.display.HTML object>"
      ]
     },
     "metadata": {},
     "output_type": "display_data"
    },
    {
     "data": {
      "text/html": [
       "<span style=\"color:cyan\"> |-rho: 0.9000000000000004</span>"
      ],
      "text/plain": [
       "<IPython.core.display.HTML object>"
      ]
     },
     "metadata": {},
     "output_type": "display_data"
    },
    {
     "data": {
      "text/html": [
       "<span style=\"color:blue\"> |-units_0: 80</span>"
      ],
      "text/plain": [
       "<IPython.core.display.HTML object>"
      ]
     },
     "metadata": {},
     "output_type": "display_data"
    },
    {
     "data": {
      "text/html": [
       "<span style=\"color:cyan\"> |-units_1: 60</span>"
      ],
      "text/plain": [
       "<IPython.core.display.HTML object>"
      ]
     },
     "metadata": {},
     "output_type": "display_data"
    },
    {
     "data": {
      "text/html": [
       "<span style=\"color:blue\"> |-units_2: 60</span>"
      ],
      "text/plain": [
       "<IPython.core.display.HTML object>"
      ]
     },
     "metadata": {},
     "output_type": "display_data"
    },
    {
     "data": {
      "text/html": [
       "<span style=\"color:cyan\"> |-units_3: 40</span>"
      ],
      "text/plain": [
       "<IPython.core.display.HTML object>"
      ]
     },
     "metadata": {},
     "output_type": "display_data"
    },
    {
     "name": "stdout",
     "output_type": "stream",
     "text": [
      "Train on 125 samples, validate on 23 samples\n",
      "Epoch 1/5\n",
      "125/125 [==============================] - ETA: 1s - loss: 8.7922 - mean_squared_error: 8.79 - 1s 4ms/sample - loss: 8.9359 - mean_squared_error: 8.9359 - val_loss: 8.4302 - val_mean_squared_error: 8.4302\n",
      "Epoch 2/5\n",
      "125/125 [==============================] - ETA: 0s - loss: 7.1726 - mean_squared_error: 7.17 - 0s 220us/sample - loss: 7.2055 - mean_squared_error: 7.2055 - val_loss: 8.5077 - val_mean_squared_error: 8.5077\n",
      "Epoch 3/5\n",
      "125/125 [==============================] - ETA: 0s - loss: 4.6904 - mean_squared_error: 4.69 - 0s 215us/sample - loss: 6.0849 - mean_squared_error: 6.0849 - val_loss: 8.5706 - val_mean_squared_error: 8.5706\n",
      "Epoch 4/5\n",
      "125/125 [==============================] - ETA: 0s - loss: 6.6164 - mean_squared_error: 6.61 - 0s 207us/sample - loss: 5.4239 - mean_squared_error: 5.4239 - val_loss: 8.7528 - val_mean_squared_error: 8.7528\n",
      "Epoch 5/5\n",
      "125/125 [==============================] - ETA: 0s - loss: 5.7803 - mean_squared_error: 5.78 - 0s 202us/sample - loss: 4.6974 - mean_squared_error: 4.6974 - val_loss: 8.8268 - val_mean_squared_error: 8.8268\n",
      "Train on 125 samples, validate on 23 samples\n",
      "Epoch 1/5\n",
      "125/125 [==============================] - ETA: 1s - loss: 5.0588 - mean_squared_error: 5.05 - 0s 4ms/sample - loss: 9.8500 - mean_squared_error: 9.8500 - val_loss: 9.8630 - val_mean_squared_error: 9.8630\n",
      "Epoch 2/5\n",
      "125/125 [==============================] - ETA: 0s - loss: 9.2763 - mean_squared_error: 9.27 - 0s 217us/sample - loss: 8.2344 - mean_squared_error: 8.2343 - val_loss: 9.8438 - val_mean_squared_error: 9.8438\n",
      "Epoch 3/5\n",
      "125/125 [==============================] - ETA: 0s - loss: 7.9016 - mean_squared_error: 7.90 - 0s 203us/sample - loss: 7.2696 - mean_squared_error: 7.2696 - val_loss: 9.8284 - val_mean_squared_error: 9.8284\n",
      "Epoch 4/5\n",
      "125/125 [==============================] - ETA: 0s - loss: 6.1961 - mean_squared_error: 6.19 - 0s 214us/sample - loss: 6.3365 - mean_squared_error: 6.3365 - val_loss: 9.9243 - val_mean_squared_error: 9.9243\n",
      "Epoch 5/5\n",
      "125/125 [==============================] - ETA: 0s - loss: 5.7535 - mean_squared_error: 5.75 - 0s 201us/sample - loss: 5.6914 - mean_squared_error: 5.6914 - val_loss: 9.9352 - val_mean_squared_error: 9.9352\n",
      "Train on 125 samples, validate on 23 samples\n",
      "Epoch 1/5\n",
      "125/125 [==============================] - ETA: 1s - loss: 8.7763 - mean_squared_error: 8.77 - 1s 4ms/sample - loss: 8.5129 - mean_squared_error: 8.5129 - val_loss: 8.7555 - val_mean_squared_error: 8.7555\n",
      "Epoch 2/5\n",
      "125/125 [==============================] - ETA: 0s - loss: 9.3367 - mean_squared_error: 9.33 - 0s 219us/sample - loss: 7.0150 - mean_squared_error: 7.0150 - val_loss: 8.8841 - val_mean_squared_error: 8.8841\n",
      "Epoch 3/5\n",
      "125/125 [==============================] - ETA: 0s - loss: 5.9887 - mean_squared_error: 5.98 - 0s 217us/sample - loss: 5.9575 - mean_squared_error: 5.9575 - val_loss: 8.9685 - val_mean_squared_error: 8.9685\n",
      "Epoch 4/5\n",
      "125/125 [==============================] - ETA: 0s - loss: 4.3051 - mean_squared_error: 4.30 - 0s 213us/sample - loss: 5.2124 - mean_squared_error: 5.2124 - val_loss: 9.1683 - val_mean_squared_error: 9.1683\n",
      "Epoch 5/5\n",
      "125/125 [==============================] - ETA: 0s - loss: 4.3838 - mean_squared_error: 4.38 - 0s 202us/sample - loss: 4.6310 - mean_squared_error: 4.6310 - val_loss: 9.2730 - val_mean_squared_error: 9.2730\n"
     ]
    },
    {
     "data": {
      "text/html": [
       "<span style=\"color:#4527A0\"><h1 style=\"font-size:18px\">Trial complete</h1></span>"
      ],
      "text/plain": [
       "<IPython.core.display.HTML object>"
      ]
     },
     "metadata": {},
     "output_type": "display_data"
    },
    {
     "data": {
      "text/html": [
       "<span style=\"color:#4527A0\"><h1 style=\"font-size:18px\">Trial summary</h1></span>"
      ],
      "text/plain": [
       "<IPython.core.display.HTML object>"
      ]
     },
     "metadata": {},
     "output_type": "display_data"
    },
    {
     "data": {
      "text/html": [
       "<span style=\"color:cyan\"> |-Trial ID: 70b06eed95e847a4ecded1272be70b27</span>"
      ],
      "text/plain": [
       "<IPython.core.display.HTML object>"
      ]
     },
     "metadata": {},
     "output_type": "display_data"
    },
    {
     "data": {
      "text/html": [
       "<span style=\"color:cyan\"> |-Score: 9.004694938659668</span>"
      ],
      "text/plain": [
       "<IPython.core.display.HTML object>"
      ]
     },
     "metadata": {},
     "output_type": "display_data"
    },
    {
     "data": {
      "text/html": [
       "<span style=\"color:cyan\"> |-Best step: 0</span>"
      ],
      "text/plain": [
       "<IPython.core.display.HTML object>"
      ]
     },
     "metadata": {},
     "output_type": "display_data"
    },
    {
     "data": {
      "text/html": [
       "<span style=\"color:#7E57C2\"><h2 style=\"font-size:16px\">Hyperparameters:</h2></span>"
      ],
      "text/plain": [
       "<IPython.core.display.HTML object>"
      ]
     },
     "metadata": {},
     "output_type": "display_data"
    },
    {
     "data": {
      "text/html": [
       "<span style=\"color:cyan\"> |-act_0: tanh</span>"
      ],
      "text/plain": [
       "<IPython.core.display.HTML object>"
      ]
     },
     "metadata": {},
     "output_type": "display_data"
    },
    {
     "data": {
      "text/html": [
       "<span style=\"color:blue\"> |-act_1: tanh</span>"
      ],
      "text/plain": [
       "<IPython.core.display.HTML object>"
      ]
     },
     "metadata": {},
     "output_type": "display_data"
    },
    {
     "data": {
      "text/html": [
       "<span style=\"color:cyan\"> |-act_2: relu</span>"
      ],
      "text/plain": [
       "<IPython.core.display.HTML object>"
      ]
     },
     "metadata": {},
     "output_type": "display_data"
    },
    {
     "data": {
      "text/html": [
       "<span style=\"color:blue\"> |-act_3: tanh</span>"
      ],
      "text/plain": [
       "<IPython.core.display.HTML object>"
      ]
     },
     "metadata": {},
     "output_type": "display_data"
    },
    {
     "data": {
      "text/html": [
       "<span style=\"color:cyan\"> |-dropout: 0.1</span>"
      ],
      "text/plain": [
       "<IPython.core.display.HTML object>"
      ]
     },
     "metadata": {},
     "output_type": "display_data"
    },
    {
     "data": {
      "text/html": [
       "<span style=\"color:blue\"> |-learning_rate: 0.0001</span>"
      ],
      "text/plain": [
       "<IPython.core.display.HTML object>"
      ]
     },
     "metadata": {},
     "output_type": "display_data"
    },
    {
     "data": {
      "text/html": [
       "<span style=\"color:cyan\"> |-momentum: 0.25</span>"
      ],
      "text/plain": [
       "<IPython.core.display.HTML object>"
      ]
     },
     "metadata": {},
     "output_type": "display_data"
    },
    {
     "data": {
      "text/html": [
       "<span style=\"color:blue\"> |-num_layers: 4</span>"
      ],
      "text/plain": [
       "<IPython.core.display.HTML object>"
      ]
     },
     "metadata": {},
     "output_type": "display_data"
    },
    {
     "data": {
      "text/html": [
       "<span style=\"color:cyan\"> |-rho: 0.7500000000000002</span>"
      ],
      "text/plain": [
       "<IPython.core.display.HTML object>"
      ]
     },
     "metadata": {},
     "output_type": "display_data"
    },
    {
     "data": {
      "text/html": [
       "<span style=\"color:blue\"> |-units_0: 50</span>"
      ],
      "text/plain": [
       "<IPython.core.display.HTML object>"
      ]
     },
     "metadata": {},
     "output_type": "display_data"
    },
    {
     "data": {
      "text/html": [
       "<span style=\"color:cyan\"> |-units_1: 70</span>"
      ],
      "text/plain": [
       "<IPython.core.display.HTML object>"
      ]
     },
     "metadata": {},
     "output_type": "display_data"
    },
    {
     "data": {
      "text/html": [
       "<span style=\"color:blue\"> |-units_2: 80</span>"
      ],
      "text/plain": [
       "<IPython.core.display.HTML object>"
      ]
     },
     "metadata": {},
     "output_type": "display_data"
    },
    {
     "data": {
      "text/html": [
       "<span style=\"color:cyan\"> |-units_3: 80</span>"
      ],
      "text/plain": [
       "<IPython.core.display.HTML object>"
      ]
     },
     "metadata": {},
     "output_type": "display_data"
    },
    {
     "name": "stdout",
     "output_type": "stream",
     "text": [
      "Train on 125 samples, validate on 23 samples\n",
      "Epoch 1/5\n",
      "125/125 [==============================] - ETA: 1s - loss: 12.1318 - mean_squared_error: 12.13 - 0s 4ms/sample - loss: 11.1173 - mean_squared_error: 11.1173 - val_loss: 10.7435 - val_mean_squared_error: 10.7435\n",
      "Epoch 2/5\n",
      "125/125 [==============================] - ETA: 0s - loss: 7.0514 - mean_squared_error: 7.05 - 0s 382us/sample - loss: 8.8166 - mean_squared_error: 8.8166 - val_loss: 10.6586 - val_mean_squared_error: 10.6586\n",
      "Epoch 3/5\n",
      "125/125 [==============================] - ETA: 0s - loss: 9.0288 - mean_squared_error: 9.02 - 0s 210us/sample - loss: 7.4225 - mean_squared_error: 7.4225 - val_loss: 10.7387 - val_mean_squared_error: 10.7387\n",
      "Epoch 4/5\n",
      "125/125 [==============================] - ETA: 0s - loss: 6.8827 - mean_squared_error: 6.88 - 0s 202us/sample - loss: 6.5893 - mean_squared_error: 6.5893 - val_loss: 10.9053 - val_mean_squared_error: 10.9053\n",
      "Epoch 5/5\n",
      "125/125 [==============================] - ETA: 0s - loss: 4.8547 - mean_squared_error: 4.85 - 0s 202us/sample - loss: 5.9281 - mean_squared_error: 5.9281 - val_loss: 10.9280 - val_mean_squared_error: 10.9280\n",
      "Train on 125 samples, validate on 23 samples\n",
      "Epoch 1/5\n",
      "125/125 [==============================] - ETA: 1s - loss: 8.5326 - mean_squared_error: 8.53 - 0s 4ms/sample - loss: 9.3361 - mean_squared_error: 9.3361 - val_loss: 9.8544 - val_mean_squared_error: 9.8544\n",
      "Epoch 2/5\n",
      "125/125 [==============================] - ETA: 0s - loss: 7.2480 - mean_squared_error: 7.24 - 0s 385us/sample - loss: 7.1650 - mean_squared_error: 7.1650 - val_loss: 9.7415 - val_mean_squared_error: 9.7415\n",
      "Epoch 3/5\n",
      "125/125 [==============================] - ETA: 0s - loss: 7.2269 - mean_squared_error: 7.22 - 0s 223us/sample - loss: 6.1818 - mean_squared_error: 6.1818 - val_loss: 9.7568 - val_mean_squared_error: 9.7568\n",
      "Epoch 4/5\n",
      "125/125 [==============================] - ETA: 0s - loss: 5.0258 - mean_squared_error: 5.02 - 0s 215us/sample - loss: 5.5890 - mean_squared_error: 5.5890 - val_loss: 9.7637 - val_mean_squared_error: 9.7637\n",
      "Epoch 5/5\n",
      "125/125 [==============================] - ETA: 0s - loss: 4.7739 - mean_squared_error: 4.77 - 0s 197us/sample - loss: 4.8987 - mean_squared_error: 4.8987 - val_loss: 9.9156 - val_mean_squared_error: 9.9156\n",
      "Train on 125 samples, validate on 23 samples\n",
      "Epoch 1/5\n",
      "125/125 [==============================] - ETA: 1s - loss: 10.8211 - mean_squared_error: 10.82 - 0s 4ms/sample - loss: 9.3453 - mean_squared_error: 9.3453 - val_loss: 11.6930 - val_mean_squared_error: 11.6930\n",
      "Epoch 2/5\n",
      "125/125 [==============================] - ETA: 0s - loss: 6.7777 - mean_squared_error: 6.77 - 0s 209us/sample - loss: 7.1147 - mean_squared_error: 7.1147 - val_loss: 11.5720 - val_mean_squared_error: 11.5720\n",
      "Epoch 3/5\n",
      "125/125 [==============================] - ETA: 0s - loss: 4.0978 - mean_squared_error: 4.09 - 0s 214us/sample - loss: 5.9750 - mean_squared_error: 5.9750 - val_loss: 11.4344 - val_mean_squared_error: 11.4344\n",
      "Epoch 4/5\n",
      "125/125 [==============================] - ETA: 0s - loss: 5.0849 - mean_squared_error: 5.08 - 0s 208us/sample - loss: 5.2439 - mean_squared_error: 5.2439 - val_loss: 11.4180 - val_mean_squared_error: 11.4180\n",
      "Epoch 5/5\n",
      "125/125 [==============================] - ETA: 0s - loss: 4.6391 - mean_squared_error: 4.63 - 0s 202us/sample - loss: 4.4783 - mean_squared_error: 4.4783 - val_loss: 11.4312 - val_mean_squared_error: 11.4312\n"
     ]
    },
    {
     "data": {
      "text/html": [
       "<span style=\"color:#4527A0\"><h1 style=\"font-size:18px\">Trial complete</h1></span>"
      ],
      "text/plain": [
       "<IPython.core.display.HTML object>"
      ]
     },
     "metadata": {},
     "output_type": "display_data"
    },
    {
     "data": {
      "text/html": [
       "<span style=\"color:#4527A0\"><h1 style=\"font-size:18px\">Trial summary</h1></span>"
      ],
      "text/plain": [
       "<IPython.core.display.HTML object>"
      ]
     },
     "metadata": {},
     "output_type": "display_data"
    },
    {
     "data": {
      "text/html": [
       "<span style=\"color:cyan\"> |-Trial ID: 3bbd3f972c60b9fd73cba44bbfd6bc62</span>"
      ],
      "text/plain": [
       "<IPython.core.display.HTML object>"
      ]
     },
     "metadata": {},
     "output_type": "display_data"
    },
    {
     "data": {
      "text/html": [
       "<span style=\"color:cyan\"> |-Score: 10.606021881103516</span>"
      ],
      "text/plain": [
       "<IPython.core.display.HTML object>"
      ]
     },
     "metadata": {},
     "output_type": "display_data"
    },
    {
     "data": {
      "text/html": [
       "<span style=\"color:cyan\"> |-Best step: 0</span>"
      ],
      "text/plain": [
       "<IPython.core.display.HTML object>"
      ]
     },
     "metadata": {},
     "output_type": "display_data"
    },
    {
     "data": {
      "text/html": [
       "<span style=\"color:#7E57C2\"><h2 style=\"font-size:16px\">Hyperparameters:</h2></span>"
      ],
      "text/plain": [
       "<IPython.core.display.HTML object>"
      ]
     },
     "metadata": {},
     "output_type": "display_data"
    },
    {
     "data": {
      "text/html": [
       "<span style=\"color:cyan\"> |-act_0: tanh</span>"
      ],
      "text/plain": [
       "<IPython.core.display.HTML object>"
      ]
     },
     "metadata": {},
     "output_type": "display_data"
    },
    {
     "data": {
      "text/html": [
       "<span style=\"color:blue\"> |-act_1: tanh</span>"
      ],
      "text/plain": [
       "<IPython.core.display.HTML object>"
      ]
     },
     "metadata": {},
     "output_type": "display_data"
    },
    {
     "data": {
      "text/html": [
       "<span style=\"color:cyan\"> |-act_2: relu</span>"
      ],
      "text/plain": [
       "<IPython.core.display.HTML object>"
      ]
     },
     "metadata": {},
     "output_type": "display_data"
    },
    {
     "data": {
      "text/html": [
       "<span style=\"color:blue\"> |-act_3: tanh</span>"
      ],
      "text/plain": [
       "<IPython.core.display.HTML object>"
      ]
     },
     "metadata": {},
     "output_type": "display_data"
    },
    {
     "data": {
      "text/html": [
       "<span style=\"color:cyan\"> |-dropout: 0.2</span>"
      ],
      "text/plain": [
       "<IPython.core.display.HTML object>"
      ]
     },
     "metadata": {},
     "output_type": "display_data"
    },
    {
     "data": {
      "text/html": [
       "<span style=\"color:blue\"> |-learning_rate: 0.0001</span>"
      ],
      "text/plain": [
       "<IPython.core.display.HTML object>"
      ]
     },
     "metadata": {},
     "output_type": "display_data"
    },
    {
     "data": {
      "text/html": [
       "<span style=\"color:cyan\"> |-momentum: 0.30000000000000004</span>"
      ],
      "text/plain": [
       "<IPython.core.display.HTML object>"
      ]
     },
     "metadata": {},
     "output_type": "display_data"
    },
    {
     "data": {
      "text/html": [
       "<span style=\"color:blue\"> |-num_layers: 3</span>"
      ],
      "text/plain": [
       "<IPython.core.display.HTML object>"
      ]
     },
     "metadata": {},
     "output_type": "display_data"
    },
    {
     "data": {
      "text/html": [
       "<span style=\"color:cyan\"> |-rho: 0.9000000000000004</span>"
      ],
      "text/plain": [
       "<IPython.core.display.HTML object>"
      ]
     },
     "metadata": {},
     "output_type": "display_data"
    },
    {
     "data": {
      "text/html": [
       "<span style=\"color:blue\"> |-units_0: 60</span>"
      ],
      "text/plain": [
       "<IPython.core.display.HTML object>"
      ]
     },
     "metadata": {},
     "output_type": "display_data"
    },
    {
     "data": {
      "text/html": [
       "<span style=\"color:cyan\"> |-units_1: 60</span>"
      ],
      "text/plain": [
       "<IPython.core.display.HTML object>"
      ]
     },
     "metadata": {},
     "output_type": "display_data"
    },
    {
     "data": {
      "text/html": [
       "<span style=\"color:blue\"> |-units_2: 40</span>"
      ],
      "text/plain": [
       "<IPython.core.display.HTML object>"
      ]
     },
     "metadata": {},
     "output_type": "display_data"
    },
    {
     "data": {
      "text/html": [
       "<span style=\"color:cyan\"> |-units_3: 100</span>"
      ],
      "text/plain": [
       "<IPython.core.display.HTML object>"
      ]
     },
     "metadata": {},
     "output_type": "display_data"
    },
    {
     "name": "stdout",
     "output_type": "stream",
     "text": [
      "Train on 125 samples, validate on 23 samples\n",
      "Epoch 1/5\n",
      "125/125 [==============================] - ETA: 1s - loss: 6.1587 - mean_squared_error: 6.15 - 1s 4ms/sample - loss: 9.3311 - mean_squared_error: 9.3311 - val_loss: 9.9450 - val_mean_squared_error: 9.9450\n",
      "Epoch 2/5\n",
      "125/125 [==============================] - ETA: 0s - loss: 7.5296 - mean_squared_error: 7.52 - 0s 409us/sample - loss: 8.2756 - mean_squared_error: 8.2756 - val_loss: 9.6643 - val_mean_squared_error: 9.6643\n",
      "Epoch 3/5\n",
      "125/125 [==============================] - ETA: 0s - loss: 9.0892 - mean_squared_error: 9.08 - 0s 398us/sample - loss: 7.7517 - mean_squared_error: 7.7517 - val_loss: 9.5797 - val_mean_squared_error: 9.5797\n",
      "Epoch 4/5\n",
      "125/125 [==============================] - ETA: 0s - loss: 8.4000 - mean_squared_error: 8.40 - 0s 379us/sample - loss: 7.3197 - mean_squared_error: 7.3197 - val_loss: 9.4998 - val_mean_squared_error: 9.4998\n",
      "Epoch 5/5\n",
      "125/125 [==============================] - ETA: 0s - loss: 6.0000 - mean_squared_error: 6.00 - 0s 206us/sample - loss: 6.8215 - mean_squared_error: 6.8215 - val_loss: 9.5070 - val_mean_squared_error: 9.5070\n",
      "Train on 125 samples, validate on 23 samples\n",
      "Epoch 1/5\n",
      "125/125 [==============================] - ETA: 1s - loss: 11.2262 - mean_squared_error: 11.22 - 0s 4ms/sample - loss: 10.8421 - mean_squared_error: 10.8421 - val_loss: 9.9069 - val_mean_squared_error: 9.9069\n",
      "Epoch 2/5\n",
      "125/125 [==============================] - ETA: 0s - loss: 12.5888 - mean_squared_error: 12.58 - 0s 221us/sample - loss: 9.6717 - mean_squared_error: 9.6717 - val_loss: 9.6758 - val_mean_squared_error: 9.6758\n",
      "Epoch 3/5\n",
      "125/125 [==============================] - ETA: 0s - loss: 6.7106 - mean_squared_error: 6.71 - 0s 214us/sample - loss: 9.0761 - mean_squared_error: 9.0761 - val_loss: 9.5924 - val_mean_squared_error: 9.5924\n",
      "Epoch 4/5\n",
      "125/125 [==============================] - ETA: 0s - loss: 7.7934 - mean_squared_error: 7.79 - 0s 218us/sample - loss: 8.4932 - mean_squared_error: 8.4932 - val_loss: 9.5615 - val_mean_squared_error: 9.5615\n",
      "Epoch 5/5\n",
      "125/125 [==============================] - ETA: 0s - loss: 8.1613 - mean_squared_error: 8.16 - 0s 211us/sample - loss: 7.8064 - mean_squared_error: 7.8064 - val_loss: 9.5324 - val_mean_squared_error: 9.5324\n",
      "Train on 125 samples, validate on 23 samples\n",
      "Epoch 1/5\n",
      "125/125 [==============================] - ETA: 1s - loss: 10.5314 - mean_squared_error: 10.53 - 1s 4ms/sample - loss: 10.3811 - mean_squared_error: 10.3811 - val_loss: 10.5051 - val_mean_squared_error: 10.5051\n",
      "Epoch 2/5\n",
      "125/125 [==============================] - ETA: 0s - loss: 8.6428 - mean_squared_error: 8.64 - 0s 219us/sample - loss: 9.0412 - mean_squared_error: 9.0412 - val_loss: 10.3490 - val_mean_squared_error: 10.3490\n",
      "Epoch 3/5\n",
      "125/125 [==============================] - ETA: 0s - loss: 5.2172 - mean_squared_error: 5.21 - 0s 218us/sample - loss: 8.3588 - mean_squared_error: 8.3588 - val_loss: 10.2195 - val_mean_squared_error: 10.2195\n",
      "Epoch 4/5\n",
      "125/125 [==============================] - ETA: 0s - loss: 9.0968 - mean_squared_error: 9.09 - 0s 213us/sample - loss: 7.6022 - mean_squared_error: 7.6022 - val_loss: 10.2227 - val_mean_squared_error: 10.2227\n",
      "Epoch 5/5\n",
      "125/125 [==============================] - ETA: 0s - loss: 5.7453 - mean_squared_error: 5.74 - 0s 205us/sample - loss: 6.9738 - mean_squared_error: 6.9738 - val_loss: 10.2230 - val_mean_squared_error: 10.2230\n"
     ]
    },
    {
     "data": {
      "text/html": [
       "<span style=\"color:#4527A0\"><h1 style=\"font-size:18px\">Trial complete</h1></span>"
      ],
      "text/plain": [
       "<IPython.core.display.HTML object>"
      ]
     },
     "metadata": {},
     "output_type": "display_data"
    },
    {
     "data": {
      "text/html": [
       "<span style=\"color:#4527A0\"><h1 style=\"font-size:18px\">Trial summary</h1></span>"
      ],
      "text/plain": [
       "<IPython.core.display.HTML object>"
      ]
     },
     "metadata": {},
     "output_type": "display_data"
    },
    {
     "data": {
      "text/html": [
       "<span style=\"color:cyan\"> |-Trial ID: b3c3c5af5fbfa59045088c482caf7cb3</span>"
      ],
      "text/plain": [
       "<IPython.core.display.HTML object>"
      ]
     },
     "metadata": {},
     "output_type": "display_data"
    },
    {
     "data": {
      "text/html": [
       "<span style=\"color:cyan\"> |-Score: 9.750527381896973</span>"
      ],
      "text/plain": [
       "<IPython.core.display.HTML object>"
      ]
     },
     "metadata": {},
     "output_type": "display_data"
    },
    {
     "data": {
      "text/html": [
       "<span style=\"color:cyan\"> |-Best step: 0</span>"
      ],
      "text/plain": [
       "<IPython.core.display.HTML object>"
      ]
     },
     "metadata": {},
     "output_type": "display_data"
    },
    {
     "data": {
      "text/html": [
       "<span style=\"color:#7E57C2\"><h2 style=\"font-size:16px\">Hyperparameters:</h2></span>"
      ],
      "text/plain": [
       "<IPython.core.display.HTML object>"
      ]
     },
     "metadata": {},
     "output_type": "display_data"
    },
    {
     "data": {
      "text/html": [
       "<span style=\"color:cyan\"> |-act_0: tanh</span>"
      ],
      "text/plain": [
       "<IPython.core.display.HTML object>"
      ]
     },
     "metadata": {},
     "output_type": "display_data"
    },
    {
     "data": {
      "text/html": [
       "<span style=\"color:blue\"> |-act_1: tanh</span>"
      ],
      "text/plain": [
       "<IPython.core.display.HTML object>"
      ]
     },
     "metadata": {},
     "output_type": "display_data"
    },
    {
     "data": {
      "text/html": [
       "<span style=\"color:cyan\"> |-act_2: relu</span>"
      ],
      "text/plain": [
       "<IPython.core.display.HTML object>"
      ]
     },
     "metadata": {},
     "output_type": "display_data"
    },
    {
     "data": {
      "text/html": [
       "<span style=\"color:blue\"> |-act_3: tanh</span>"
      ],
      "text/plain": [
       "<IPython.core.display.HTML object>"
      ]
     },
     "metadata": {},
     "output_type": "display_data"
    },
    {
     "data": {
      "text/html": [
       "<span style=\"color:cyan\"> |-dropout: 0.30000000000000004</span>"
      ],
      "text/plain": [
       "<IPython.core.display.HTML object>"
      ]
     },
     "metadata": {},
     "output_type": "display_data"
    },
    {
     "data": {
      "text/html": [
       "<span style=\"color:blue\"> |-learning_rate: 0.0001</span>"
      ],
      "text/plain": [
       "<IPython.core.display.HTML object>"
      ]
     },
     "metadata": {},
     "output_type": "display_data"
    },
    {
     "data": {
      "text/html": [
       "<span style=\"color:cyan\"> |-momentum: 0.25</span>"
      ],
      "text/plain": [
       "<IPython.core.display.HTML object>"
      ]
     },
     "metadata": {},
     "output_type": "display_data"
    },
    {
     "data": {
      "text/html": [
       "<span style=\"color:blue\"> |-num_layers: 4</span>"
      ],
      "text/plain": [
       "<IPython.core.display.HTML object>"
      ]
     },
     "metadata": {},
     "output_type": "display_data"
    },
    {
     "data": {
      "text/html": [
       "<span style=\"color:cyan\"> |-rho: 0.7500000000000002</span>"
      ],
      "text/plain": [
       "<IPython.core.display.HTML object>"
      ]
     },
     "metadata": {},
     "output_type": "display_data"
    },
    {
     "data": {
      "text/html": [
       "<span style=\"color:blue\"> |-units_0: 40</span>"
      ],
      "text/plain": [
       "<IPython.core.display.HTML object>"
      ]
     },
     "metadata": {},
     "output_type": "display_data"
    },
    {
     "data": {
      "text/html": [
       "<span style=\"color:cyan\"> |-units_1: 50</span>"
      ],
      "text/plain": [
       "<IPython.core.display.HTML object>"
      ]
     },
     "metadata": {},
     "output_type": "display_data"
    },
    {
     "data": {
      "text/html": [
       "<span style=\"color:blue\"> |-units_2: 80</span>"
      ],
      "text/plain": [
       "<IPython.core.display.HTML object>"
      ]
     },
     "metadata": {},
     "output_type": "display_data"
    },
    {
     "data": {
      "text/html": [
       "<span style=\"color:cyan\"> |-units_3: 60</span>"
      ],
      "text/plain": [
       "<IPython.core.display.HTML object>"
      ]
     },
     "metadata": {},
     "output_type": "display_data"
    },
    {
     "name": "stdout",
     "output_type": "stream",
     "text": [
      "Train on 125 samples, validate on 23 samples\n",
      "Epoch 1/5\n",
      "125/125 [==============================] - ETA: 0s - loss: 15.1825 - mean_squared_error: 15.18 - 0s 3ms/sample - loss: 12.5732 - mean_squared_error: 12.5732 - val_loss: 11.7217 - val_mean_squared_error: 11.7217\n",
      "Epoch 2/5\n",
      "125/125 [==============================] - ETA: 0s - loss: 3.0290 - mean_squared_error: 3.02 - 0s 205us/sample - loss: 4.8740 - mean_squared_error: 4.8740 - val_loss: 13.0248 - val_mean_squared_error: 13.0248\n",
      "Epoch 3/5\n",
      "125/125 [==============================] - ETA: 0s - loss: 2.4831 - mean_squared_error: 2.48 - 0s 201us/sample - loss: 2.4634 - mean_squared_error: 2.4634 - val_loss: 13.4476 - val_mean_squared_error: 13.4476\n",
      "Epoch 4/5\n",
      "125/125 [==============================] - ETA: 0s - loss: 1.5558 - mean_squared_error: 1.55 - 0s 195us/sample - loss: 1.2296 - mean_squared_error: 1.2296 - val_loss: 15.0864 - val_mean_squared_error: 15.0864\n",
      "Epoch 5/5\n",
      "125/125 [==============================] - ETA: 0s - loss: 0.7089 - mean_squared_error: 0.70 - 0s 193us/sample - loss: 0.7437 - mean_squared_error: 0.7437 - val_loss: 14.0039 - val_mean_squared_error: 14.0039\n",
      "Train on 125 samples, validate on 23 samples\n",
      "Epoch 1/5\n",
      "125/125 [==============================] - ETA: 0s - loss: 9.0968 - mean_squared_error: 9.09 - 0s 3ms/sample - loss: 12.7921 - mean_squared_error: 12.7921 - val_loss: 12.3694 - val_mean_squared_error: 12.3694\n",
      "Epoch 2/5\n",
      "125/125 [==============================] - ETA: 0s - loss: 7.3700 - mean_squared_error: 7.37 - 0s 194us/sample - loss: 5.8423 - mean_squared_error: 5.8423 - val_loss: 11.8126 - val_mean_squared_error: 11.8126\n",
      "Epoch 3/5\n",
      "125/125 [==============================] - ETA: 0s - loss: 4.1508 - mean_squared_error: 4.15 - 0s 187us/sample - loss: 3.6645 - mean_squared_error: 3.6645 - val_loss: 12.7776 - val_mean_squared_error: 12.7776\n",
      "Epoch 4/5\n",
      "125/125 [==============================] - ETA: 0s - loss: 3.7007 - mean_squared_error: 3.70 - 0s 199us/sample - loss: 2.4038 - mean_squared_error: 2.4038 - val_loss: 12.5780 - val_mean_squared_error: 12.5780\n",
      "Epoch 5/5\n",
      "125/125 [==============================] - ETA: 0s - loss: 1.5626 - mean_squared_error: 1.56 - 0s 187us/sample - loss: 1.5376 - mean_squared_error: 1.5376 - val_loss: 14.0464 - val_mean_squared_error: 14.0464\n",
      "Train on 125 samples, validate on 23 samples\n",
      "Epoch 1/5\n",
      "125/125 [==============================] - ETA: 0s - loss: 10.2855 - mean_squared_error: 10.28 - 0s 3ms/sample - loss: 11.7994 - mean_squared_error: 11.7994 - val_loss: 11.1029 - val_mean_squared_error: 11.1029\n",
      "Epoch 2/5\n",
      "125/125 [==============================] - ETA: 0s - loss: 4.4127 - mean_squared_error: 4.41 - 0s 204us/sample - loss: 5.8198 - mean_squared_error: 5.8198 - val_loss: 12.6325 - val_mean_squared_error: 12.6325\n",
      "Epoch 3/5\n",
      "125/125 [==============================] - ETA: 0s - loss: 3.4614 - mean_squared_error: 3.46 - 0s 199us/sample - loss: 3.3365 - mean_squared_error: 3.3365 - val_loss: 12.6024 - val_mean_squared_error: 12.6024\n",
      "Epoch 4/5\n",
      "125/125 [==============================] - ETA: 0s - loss: 1.9052 - mean_squared_error: 1.90 - 0s 194us/sample - loss: 2.0154 - mean_squared_error: 2.0154 - val_loss: 12.9083 - val_mean_squared_error: 12.9083\n",
      "Epoch 5/5\n",
      "125/125 [==============================] - ETA: 0s - loss: 0.9996 - mean_squared_error: 0.99 - 0s 188us/sample - loss: 1.2589 - mean_squared_error: 1.2589 - val_loss: 13.8053 - val_mean_squared_error: 13.8053\n"
     ]
    },
    {
     "data": {
      "text/html": [
       "<span style=\"color:#4527A0\"><h1 style=\"font-size:18px\">Trial complete</h1></span>"
      ],
      "text/plain": [
       "<IPython.core.display.HTML object>"
      ]
     },
     "metadata": {},
     "output_type": "display_data"
    },
    {
     "data": {
      "text/html": [
       "<span style=\"color:#4527A0\"><h1 style=\"font-size:18px\">Trial summary</h1></span>"
      ],
      "text/plain": [
       "<IPython.core.display.HTML object>"
      ]
     },
     "metadata": {},
     "output_type": "display_data"
    },
    {
     "data": {
      "text/html": [
       "<span style=\"color:cyan\"> |-Trial ID: dcd50aada15ca60fa68041f2119cadf9</span>"
      ],
      "text/plain": [
       "<IPython.core.display.HTML object>"
      ]
     },
     "metadata": {},
     "output_type": "display_data"
    },
    {
     "data": {
      "text/html": [
       "<span style=\"color:cyan\"> |-Score: 11.545741081237793</span>"
      ],
      "text/plain": [
       "<IPython.core.display.HTML object>"
      ]
     },
     "metadata": {},
     "output_type": "display_data"
    },
    {
     "data": {
      "text/html": [
       "<span style=\"color:cyan\"> |-Best step: 0</span>"
      ],
      "text/plain": [
       "<IPython.core.display.HTML object>"
      ]
     },
     "metadata": {},
     "output_type": "display_data"
    },
    {
     "data": {
      "text/html": [
       "<span style=\"color:#7E57C2\"><h2 style=\"font-size:16px\">Hyperparameters:</h2></span>"
      ],
      "text/plain": [
       "<IPython.core.display.HTML object>"
      ]
     },
     "metadata": {},
     "output_type": "display_data"
    },
    {
     "data": {
      "text/html": [
       "<span style=\"color:cyan\"> |-act_0: tanh</span>"
      ],
      "text/plain": [
       "<IPython.core.display.HTML object>"
      ]
     },
     "metadata": {},
     "output_type": "display_data"
    },
    {
     "data": {
      "text/html": [
       "<span style=\"color:blue\"> |-act_1: tanh</span>"
      ],
      "text/plain": [
       "<IPython.core.display.HTML object>"
      ]
     },
     "metadata": {},
     "output_type": "display_data"
    },
    {
     "data": {
      "text/html": [
       "<span style=\"color:cyan\"> |-act_2: tanh</span>"
      ],
      "text/plain": [
       "<IPython.core.display.HTML object>"
      ]
     },
     "metadata": {},
     "output_type": "display_data"
    },
    {
     "data": {
      "text/html": [
       "<span style=\"color:blue\"> |-act_3: tanh</span>"
      ],
      "text/plain": [
       "<IPython.core.display.HTML object>"
      ]
     },
     "metadata": {},
     "output_type": "display_data"
    },
    {
     "data": {
      "text/html": [
       "<span style=\"color:cyan\"> |-dropout: 0.0</span>"
      ],
      "text/plain": [
       "<IPython.core.display.HTML object>"
      ]
     },
     "metadata": {},
     "output_type": "display_data"
    },
    {
     "data": {
      "text/html": [
       "<span style=\"color:blue\"> |-learning_rate: 0.001</span>"
      ],
      "text/plain": [
       "<IPython.core.display.HTML object>"
      ]
     },
     "metadata": {},
     "output_type": "display_data"
    },
    {
     "data": {
      "text/html": [
       "<span style=\"color:cyan\"> |-momentum: 0.15000000000000002</span>"
      ],
      "text/plain": [
       "<IPython.core.display.HTML object>"
      ]
     },
     "metadata": {},
     "output_type": "display_data"
    },
    {
     "data": {
      "text/html": [
       "<span style=\"color:blue\"> |-num_layers: 2</span>"
      ],
      "text/plain": [
       "<IPython.core.display.HTML object>"
      ]
     },
     "metadata": {},
     "output_type": "display_data"
    },
    {
     "data": {
      "text/html": [
       "<span style=\"color:cyan\"> |-rho: 0.8000000000000003</span>"
      ],
      "text/plain": [
       "<IPython.core.display.HTML object>"
      ]
     },
     "metadata": {},
     "output_type": "display_data"
    },
    {
     "data": {
      "text/html": [
       "<span style=\"color:blue\"> |-units_0: 70</span>"
      ],
      "text/plain": [
       "<IPython.core.display.HTML object>"
      ]
     },
     "metadata": {},
     "output_type": "display_data"
    },
    {
     "data": {
      "text/html": [
       "<span style=\"color:cyan\"> |-units_1: 90</span>"
      ],
      "text/plain": [
       "<IPython.core.display.HTML object>"
      ]
     },
     "metadata": {},
     "output_type": "display_data"
    },
    {
     "data": {
      "text/html": [
       "<span style=\"color:blue\"> |-units_2: 80</span>"
      ],
      "text/plain": [
       "<IPython.core.display.HTML object>"
      ]
     },
     "metadata": {},
     "output_type": "display_data"
    },
    {
     "data": {
      "text/html": [
       "<span style=\"color:cyan\"> |-units_3: 90</span>"
      ],
      "text/plain": [
       "<IPython.core.display.HTML object>"
      ]
     },
     "metadata": {},
     "output_type": "display_data"
    },
    {
     "name": "stdout",
     "output_type": "stream",
     "text": [
      "Train on 125 samples, validate on 23 samples\n",
      "Epoch 1/5\n",
      "125/125 [==============================] - ETA: 1s - loss: 13.9599 - mean_squared_error: 13.95 - 1s 4ms/sample - loss: 10.7199 - mean_squared_error: 10.7199 - val_loss: 9.8159 - val_mean_squared_error: 9.8159\n",
      "Epoch 2/5\n",
      "125/125 [==============================] - ETA: 0s - loss: 14.8674 - mean_squared_error: 14.86 - 0s 381us/sample - loss: 9.9840 - mean_squared_error: 9.9840 - val_loss: 9.7681 - val_mean_squared_error: 9.7681\n",
      "Epoch 3/5\n",
      "125/125 [==============================] - ETA: 0s - loss: 10.6180 - mean_squared_error: 10.61 - 0s 369us/sample - loss: 9.4233 - mean_squared_error: 9.4233 - val_loss: 9.5886 - val_mean_squared_error: 9.5886\n",
      "Epoch 4/5\n",
      "125/125 [==============================] - ETA: 0s - loss: 9.4579 - mean_squared_error: 9.45 - 0s 373us/sample - loss: 9.1251 - mean_squared_error: 9.1251 - val_loss: 9.4718 - val_mean_squared_error: 9.4718\n",
      "Epoch 5/5\n",
      "125/125 [==============================] - ETA: 0s - loss: 6.8436 - mean_squared_error: 6.84 - 0s 357us/sample - loss: 8.4271 - mean_squared_error: 8.4271 - val_loss: 9.3074 - val_mean_squared_error: 9.3074\n",
      "Train on 125 samples, validate on 23 samples\n",
      "Epoch 1/5\n",
      "125/125 [==============================] - ETA: 1s - loss: 10.1025 - mean_squared_error: 10.10 - 0s 4ms/sample - loss: 9.6701 - mean_squared_error: 9.6701 - val_loss: 9.8121 - val_mean_squared_error: 9.8121\n",
      "Epoch 2/5\n",
      "125/125 [==============================] - ETA: 0s - loss: 9.6399 - mean_squared_error: 9.63 - 0s 212us/sample - loss: 8.9360 - mean_squared_error: 8.9360 - val_loss: 9.7322 - val_mean_squared_error: 9.7322\n",
      "Epoch 3/5\n",
      "125/125 [==============================] - ETA: 0s - loss: 10.2189 - mean_squared_error: 10.21 - 0s 201us/sample - loss: 8.8840 - mean_squared_error: 8.8840 - val_loss: 9.6137 - val_mean_squared_error: 9.6137\n",
      "Epoch 4/5\n",
      "125/125 [==============================] - ETA: 0s - loss: 5.7021 - mean_squared_error: 5.70 - 0s 214us/sample - loss: 8.3991 - mean_squared_error: 8.3991 - val_loss: 9.5344 - val_mean_squared_error: 9.5344\n",
      "Epoch 5/5\n",
      "125/125 [==============================] - ETA: 0s - loss: 7.6656 - mean_squared_error: 7.66 - 0s 205us/sample - loss: 8.1555 - mean_squared_error: 8.1555 - val_loss: 9.5342 - val_mean_squared_error: 9.5342\n",
      "Train on 125 samples, validate on 23 samples\n",
      "Epoch 1/5\n",
      "125/125 [==============================] - ETA: 1s - loss: 10.2941 - mean_squared_error: 10.29 - 0s 4ms/sample - loss: 12.1943 - mean_squared_error: 12.1943 - val_loss: 11.7106 - val_mean_squared_error: 11.7106\n",
      "Epoch 2/5\n",
      "125/125 [==============================] - ETA: 0s - loss: 13.3806 - mean_squared_error: 13.38 - 0s 211us/sample - loss: 11.2605 - mean_squared_error: 11.2605 - val_loss: 11.5088 - val_mean_squared_error: 11.5088\n",
      "Epoch 3/5\n",
      "125/125 [==============================] - ETA: 0s - loss: 12.1290 - mean_squared_error: 12.12 - 0s 211us/sample - loss: 10.9790 - mean_squared_error: 10.9790 - val_loss: 11.3404 - val_mean_squared_error: 11.3404\n",
      "Epoch 4/5\n",
      "125/125 [==============================] - ETA: 0s - loss: 11.4433 - mean_squared_error: 11.44 - 0s 212us/sample - loss: 10.4494 - mean_squared_error: 10.4494 - val_loss: 11.2293 - val_mean_squared_error: 11.2293\n",
      "Epoch 5/5\n",
      "125/125 [==============================] - ETA: 0s - loss: 9.6461 - mean_squared_error: 9.64 - 0s 199us/sample - loss: 10.0349 - mean_squared_error: 10.0349 - val_loss: 11.1244 - val_mean_squared_error: 11.1244\n"
     ]
    },
    {
     "data": {
      "text/html": [
       "<span style=\"color:#4527A0\"><h1 style=\"font-size:18px\">Trial complete</h1></span>"
      ],
      "text/plain": [
       "<IPython.core.display.HTML object>"
      ]
     },
     "metadata": {},
     "output_type": "display_data"
    },
    {
     "data": {
      "text/html": [
       "<span style=\"color:#4527A0\"><h1 style=\"font-size:18px\">Trial summary</h1></span>"
      ],
      "text/plain": [
       "<IPython.core.display.HTML object>"
      ]
     },
     "metadata": {},
     "output_type": "display_data"
    },
    {
     "data": {
      "text/html": [
       "<span style=\"color:cyan\"> |-Trial ID: d791476d5ec323a8da0babc879fe61bc</span>"
      ],
      "text/plain": [
       "<IPython.core.display.HTML object>"
      ]
     },
     "metadata": {},
     "output_type": "display_data"
    },
    {
     "data": {
      "text/html": [
       "<span style=\"color:cyan\"> |-Score: 9.988661766052246</span>"
      ],
      "text/plain": [
       "<IPython.core.display.HTML object>"
      ]
     },
     "metadata": {},
     "output_type": "display_data"
    },
    {
     "data": {
      "text/html": [
       "<span style=\"color:cyan\"> |-Best step: 0</span>"
      ],
      "text/plain": [
       "<IPython.core.display.HTML object>"
      ]
     },
     "metadata": {},
     "output_type": "display_data"
    },
    {
     "data": {
      "text/html": [
       "<span style=\"color:#7E57C2\"><h2 style=\"font-size:16px\">Hyperparameters:</h2></span>"
      ],
      "text/plain": [
       "<IPython.core.display.HTML object>"
      ]
     },
     "metadata": {},
     "output_type": "display_data"
    },
    {
     "data": {
      "text/html": [
       "<span style=\"color:cyan\"> |-act_0: tanh</span>"
      ],
      "text/plain": [
       "<IPython.core.display.HTML object>"
      ]
     },
     "metadata": {},
     "output_type": "display_data"
    },
    {
     "data": {
      "text/html": [
       "<span style=\"color:blue\"> |-act_1: tanh</span>"
      ],
      "text/plain": [
       "<IPython.core.display.HTML object>"
      ]
     },
     "metadata": {},
     "output_type": "display_data"
    },
    {
     "data": {
      "text/html": [
       "<span style=\"color:cyan\"> |-act_2: relu</span>"
      ],
      "text/plain": [
       "<IPython.core.display.HTML object>"
      ]
     },
     "metadata": {},
     "output_type": "display_data"
    },
    {
     "data": {
      "text/html": [
       "<span style=\"color:blue\"> |-act_3: tanh</span>"
      ],
      "text/plain": [
       "<IPython.core.display.HTML object>"
      ]
     },
     "metadata": {},
     "output_type": "display_data"
    },
    {
     "data": {
      "text/html": [
       "<span style=\"color:cyan\"> |-dropout: 0.4</span>"
      ],
      "text/plain": [
       "<IPython.core.display.HTML object>"
      ]
     },
     "metadata": {},
     "output_type": "display_data"
    },
    {
     "data": {
      "text/html": [
       "<span style=\"color:blue\"> |-learning_rate: 0.0001</span>"
      ],
      "text/plain": [
       "<IPython.core.display.HTML object>"
      ]
     },
     "metadata": {},
     "output_type": "display_data"
    },
    {
     "data": {
      "text/html": [
       "<span style=\"color:cyan\"> |-momentum: 0.05</span>"
      ],
      "text/plain": [
       "<IPython.core.display.HTML object>"
      ]
     },
     "metadata": {},
     "output_type": "display_data"
    },
    {
     "data": {
      "text/html": [
       "<span style=\"color:blue\"> |-num_layers: 4</span>"
      ],
      "text/plain": [
       "<IPython.core.display.HTML object>"
      ]
     },
     "metadata": {},
     "output_type": "display_data"
    },
    {
     "data": {
      "text/html": [
       "<span style=\"color:cyan\"> |-rho: 0.6000000000000001</span>"
      ],
      "text/plain": [
       "<IPython.core.display.HTML object>"
      ]
     },
     "metadata": {},
     "output_type": "display_data"
    },
    {
     "data": {
      "text/html": [
       "<span style=\"color:blue\"> |-units_0: 30</span>"
      ],
      "text/plain": [
       "<IPython.core.display.HTML object>"
      ]
     },
     "metadata": {},
     "output_type": "display_data"
    },
    {
     "data": {
      "text/html": [
       "<span style=\"color:cyan\"> |-units_1: 30</span>"
      ],
      "text/plain": [
       "<IPython.core.display.HTML object>"
      ]
     },
     "metadata": {},
     "output_type": "display_data"
    },
    {
     "data": {
      "text/html": [
       "<span style=\"color:blue\"> |-units_2: 90</span>"
      ],
      "text/plain": [
       "<IPython.core.display.HTML object>"
      ]
     },
     "metadata": {},
     "output_type": "display_data"
    },
    {
     "data": {
      "text/html": [
       "<span style=\"color:cyan\"> |-units_3: 60</span>"
      ],
      "text/plain": [
       "<IPython.core.display.HTML object>"
      ]
     },
     "metadata": {},
     "output_type": "display_data"
    },
    {
     "name": "stdout",
     "output_type": "stream",
     "text": [
      "Train on 125 samples, validate on 23 samples\n",
      "Epoch 1/5\n",
      "125/125 [==============================] - ETA: 1s - loss: 8.7863 - mean_squared_error: 8.78 - 1s 6ms/sample - loss: 10.0786 - mean_squared_error: 10.0786 - val_loss: 9.2805 - val_mean_squared_error: 9.2805\n",
      "Epoch 2/5\n",
      "125/125 [==============================] - ETA: 0s - loss: 6.5895 - mean_squared_error: 6.58 - 0s 226us/sample - loss: 8.1808 - mean_squared_error: 8.1808 - val_loss: 9.7686 - val_mean_squared_error: 9.7686\n",
      "Epoch 3/5\n",
      "125/125 [==============================] - ETA: 0s - loss: 8.8162 - mean_squared_error: 8.81 - 0s 224us/sample - loss: 7.6729 - mean_squared_error: 7.6729 - val_loss: 9.9596 - val_mean_squared_error: 9.9596\n",
      "Epoch 4/5\n",
      "125/125 [==============================] - ETA: 0s - loss: 6.6715 - mean_squared_error: 6.67 - 0s 232us/sample - loss: 6.5454 - mean_squared_error: 6.5454 - val_loss: 10.4154 - val_mean_squared_error: 10.4154\n",
      "Epoch 5/5\n",
      "125/125 [==============================] - ETA: 0s - loss: 4.8660 - mean_squared_error: 4.86 - 0s 206us/sample - loss: 6.0905 - mean_squared_error: 6.0905 - val_loss: 10.7864 - val_mean_squared_error: 10.7864\n",
      "Train on 125 samples, validate on 23 samples\n",
      "Epoch 1/5\n",
      "125/125 [==============================] - ETA: 1s - loss: 5.2531 - mean_squared_error: 5.25 - 1s 5ms/sample - loss: 9.5446 - mean_squared_error: 9.5446 - val_loss: 10.2978 - val_mean_squared_error: 10.2978\n",
      "Epoch 2/5\n",
      "125/125 [==============================] - ETA: 0s - loss: 9.0393 - mean_squared_error: 9.03 - 0s 216us/sample - loss: 8.1672 - mean_squared_error: 8.1672 - val_loss: 10.5283 - val_mean_squared_error: 10.5283\n",
      "Epoch 3/5\n",
      "125/125 [==============================] - ETA: 0s - loss: 7.1320 - mean_squared_error: 7.13 - 0s 221us/sample - loss: 7.3436 - mean_squared_error: 7.3436 - val_loss: 10.7093 - val_mean_squared_error: 10.7093\n",
      "Epoch 4/5\n",
      "125/125 [==============================] - ETA: 0s - loss: 6.4392 - mean_squared_error: 6.43 - 0s 221us/sample - loss: 6.8706 - mean_squared_error: 6.8706 - val_loss: 10.6567 - val_mean_squared_error: 10.6567\n",
      "Epoch 5/5\n",
      "125/125 [==============================] - ETA: 0s - loss: 3.8519 - mean_squared_error: 3.85 - 0s 218us/sample - loss: 6.0813 - mean_squared_error: 6.0813 - val_loss: 11.0148 - val_mean_squared_error: 11.0148\n",
      "Train on 125 samples, validate on 23 samples\n",
      "Epoch 1/5\n",
      "125/125 [==============================] - ETA: 1s - loss: 11.4292 - mean_squared_error: 11.42 - 1s 5ms/sample - loss: 9.8836 - mean_squared_error: 9.8836 - val_loss: 9.9413 - val_mean_squared_error: 9.9413\n",
      "Epoch 2/5\n",
      "125/125 [==============================] - ETA: 0s - loss: 8.9802 - mean_squared_error: 8.98 - 0s 222us/sample - loss: 8.4242 - mean_squared_error: 8.4242 - val_loss: 10.2238 - val_mean_squared_error: 10.2238\n",
      "Epoch 3/5\n",
      "125/125 [==============================] - ETA: 0s - loss: 5.0942 - mean_squared_error: 5.09 - 0s 222us/sample - loss: 7.4672 - mean_squared_error: 7.4672 - val_loss: 10.5448 - val_mean_squared_error: 10.5448\n",
      "Epoch 4/5\n",
      "125/125 [==============================] - ETA: 0s - loss: 6.6436 - mean_squared_error: 6.64 - 0s 215us/sample - loss: 7.1816 - mean_squared_error: 7.1816 - val_loss: 10.6357 - val_mean_squared_error: 10.6357\n",
      "Epoch 5/5\n",
      "125/125 [==============================] - ETA: 0s - loss: 5.7501 - mean_squared_error: 5.75 - 0s 208us/sample - loss: 6.1669 - mean_squared_error: 6.1669 - val_loss: 11.0269 - val_mean_squared_error: 11.0269\n"
     ]
    },
    {
     "data": {
      "text/html": [
       "<span style=\"color:#4527A0\"><h1 style=\"font-size:18px\">Trial complete</h1></span>"
      ],
      "text/plain": [
       "<IPython.core.display.HTML object>"
      ]
     },
     "metadata": {},
     "output_type": "display_data"
    },
    {
     "data": {
      "text/html": [
       "<span style=\"color:#4527A0\"><h1 style=\"font-size:18px\">Trial summary</h1></span>"
      ],
      "text/plain": [
       "<IPython.core.display.HTML object>"
      ]
     },
     "metadata": {},
     "output_type": "display_data"
    },
    {
     "data": {
      "text/html": [
       "<span style=\"color:cyan\"> |-Trial ID: 53d68660ceb3c743bdf2d377bf50edda</span>"
      ],
      "text/plain": [
       "<IPython.core.display.HTML object>"
      ]
     },
     "metadata": {},
     "output_type": "display_data"
    },
    {
     "data": {
      "text/html": [
       "<span style=\"color:cyan\"> |-Score: 9.839885711669922</span>"
      ],
      "text/plain": [
       "<IPython.core.display.HTML object>"
      ]
     },
     "metadata": {},
     "output_type": "display_data"
    },
    {
     "data": {
      "text/html": [
       "<span style=\"color:cyan\"> |-Best step: 0</span>"
      ],
      "text/plain": [
       "<IPython.core.display.HTML object>"
      ]
     },
     "metadata": {},
     "output_type": "display_data"
    },
    {
     "data": {
      "text/html": [
       "<span style=\"color:#7E57C2\"><h2 style=\"font-size:16px\">Hyperparameters:</h2></span>"
      ],
      "text/plain": [
       "<IPython.core.display.HTML object>"
      ]
     },
     "metadata": {},
     "output_type": "display_data"
    },
    {
     "data": {
      "text/html": [
       "<span style=\"color:cyan\"> |-act_0: tanh</span>"
      ],
      "text/plain": [
       "<IPython.core.display.HTML object>"
      ]
     },
     "metadata": {},
     "output_type": "display_data"
    },
    {
     "data": {
      "text/html": [
       "<span style=\"color:blue\"> |-act_1: tanh</span>"
      ],
      "text/plain": [
       "<IPython.core.display.HTML object>"
      ]
     },
     "metadata": {},
     "output_type": "display_data"
    },
    {
     "data": {
      "text/html": [
       "<span style=\"color:cyan\"> |-act_2: tanh</span>"
      ],
      "text/plain": [
       "<IPython.core.display.HTML object>"
      ]
     },
     "metadata": {},
     "output_type": "display_data"
    },
    {
     "data": {
      "text/html": [
       "<span style=\"color:blue\"> |-act_3: tanh</span>"
      ],
      "text/plain": [
       "<IPython.core.display.HTML object>"
      ]
     },
     "metadata": {},
     "output_type": "display_data"
    },
    {
     "data": {
      "text/html": [
       "<span style=\"color:cyan\"> |-dropout: 0.30000000000000004</span>"
      ],
      "text/plain": [
       "<IPython.core.display.HTML object>"
      ]
     },
     "metadata": {},
     "output_type": "display_data"
    },
    {
     "data": {
      "text/html": [
       "<span style=\"color:blue\"> |-learning_rate: 0.0001</span>"
      ],
      "text/plain": [
       "<IPython.core.display.HTML object>"
      ]
     },
     "metadata": {},
     "output_type": "display_data"
    },
    {
     "data": {
      "text/html": [
       "<span style=\"color:cyan\"> |-momentum: 0.0</span>"
      ],
      "text/plain": [
       "<IPython.core.display.HTML object>"
      ]
     },
     "metadata": {},
     "output_type": "display_data"
    },
    {
     "data": {
      "text/html": [
       "<span style=\"color:blue\"> |-num_layers: 4</span>"
      ],
      "text/plain": [
       "<IPython.core.display.HTML object>"
      ]
     },
     "metadata": {},
     "output_type": "display_data"
    },
    {
     "data": {
      "text/html": [
       "<span style=\"color:cyan\"> |-rho: 0.9500000000000004</span>"
      ],
      "text/plain": [
       "<IPython.core.display.HTML object>"
      ]
     },
     "metadata": {},
     "output_type": "display_data"
    },
    {
     "data": {
      "text/html": [
       "<span style=\"color:blue\"> |-units_0: 30</span>"
      ],
      "text/plain": [
       "<IPython.core.display.HTML object>"
      ]
     },
     "metadata": {},
     "output_type": "display_data"
    },
    {
     "data": {
      "text/html": [
       "<span style=\"color:cyan\"> |-units_1: 80</span>"
      ],
      "text/plain": [
       "<IPython.core.display.HTML object>"
      ]
     },
     "metadata": {},
     "output_type": "display_data"
    },
    {
     "data": {
      "text/html": [
       "<span style=\"color:blue\"> |-units_2: 80</span>"
      ],
      "text/plain": [
       "<IPython.core.display.HTML object>"
      ]
     },
     "metadata": {},
     "output_type": "display_data"
    },
    {
     "data": {
      "text/html": [
       "<span style=\"color:cyan\"> |-units_3: 80</span>"
      ],
      "text/plain": [
       "<IPython.core.display.HTML object>"
      ]
     },
     "metadata": {},
     "output_type": "display_data"
    },
    {
     "name": "stdout",
     "output_type": "stream",
     "text": [
      "Train on 125 samples, validate on 23 samples\n",
      "Epoch 1/5\n",
      "125/125 [==============================] - ETA: 1s - loss: 7.5517 - mean_squared_error: 7.55 - 0s 4ms/sample - loss: 8.5230 - mean_squared_error: 8.5230 - val_loss: 9.5738 - val_mean_squared_error: 9.5738\n",
      "Epoch 2/5\n",
      "125/125 [==============================] - ETA: 0s - loss: 4.4442 - mean_squared_error: 4.44 - 0s 221us/sample - loss: 4.4033 - mean_squared_error: 4.4033 - val_loss: 11.9249 - val_mean_squared_error: 11.9249\n",
      "Epoch 3/5\n",
      "125/125 [==============================] - ETA: 0s - loss: 1.7638 - mean_squared_error: 1.76 - 0s 202us/sample - loss: 1.9422 - mean_squared_error: 1.9422 - val_loss: 12.7956 - val_mean_squared_error: 12.7956\n",
      "Epoch 4/5\n",
      "125/125 [==============================] - ETA: 0s - loss: 0.3104 - mean_squared_error: 0.31 - 0s 207us/sample - loss: 0.8715 - mean_squared_error: 0.8715 - val_loss: 13.1119 - val_mean_squared_error: 13.1119\n",
      "Epoch 5/5\n",
      "125/125 [==============================] - ETA: 0s - loss: 0.2251 - mean_squared_error: 0.22 - 0s 203us/sample - loss: 0.5033 - mean_squared_error: 0.5033 - val_loss: 13.9527 - val_mean_squared_error: 13.9527\n",
      "Train on 125 samples, validate on 23 samples\n",
      "Epoch 1/5\n",
      "125/125 [==============================] - ETA: 1s - loss: 8.1991 - mean_squared_error: 8.19 - 0s 4ms/sample - loss: 9.0440 - mean_squared_error: 9.0440 - val_loss: 9.9701 - val_mean_squared_error: 9.9701\n",
      "Epoch 2/5\n",
      "125/125 [==============================] - ETA: 0s - loss: 4.9176 - mean_squared_error: 4.91 - 0s 209us/sample - loss: 4.0291 - mean_squared_error: 4.0291 - val_loss: 11.4940 - val_mean_squared_error: 11.4940\n",
      "Epoch 3/5\n",
      "125/125 [==============================] - ETA: 0s - loss: 1.6408 - mean_squared_error: 1.64 - 0s 202us/sample - loss: 1.5240 - mean_squared_error: 1.5240 - val_loss: 13.0100 - val_mean_squared_error: 13.0100\n",
      "Epoch 4/5\n",
      "125/125 [==============================] - ETA: 0s - loss: 0.1988 - mean_squared_error: 0.19 - 0s 224us/sample - loss: 0.6503 - mean_squared_error: 0.6503 - val_loss: 11.8429 - val_mean_squared_error: 11.8429\n",
      "Epoch 5/5\n",
      "125/125 [==============================] - ETA: 0s - loss: 0.3520 - mean_squared_error: 0.35 - 0s 206us/sample - loss: 0.5027 - mean_squared_error: 0.5027 - val_loss: 11.6124 - val_mean_squared_error: 11.6124\n",
      "Train on 125 samples, validate on 23 samples\n",
      "Epoch 1/5\n",
      "125/125 [==============================] - ETA: 1s - loss: 14.2547 - mean_squared_error: 14.25 - 0s 4ms/sample - loss: 10.9333 - mean_squared_error: 10.9333 - val_loss: 9.7289 - val_mean_squared_error: 9.7289\n",
      "Epoch 2/5\n",
      "125/125 [==============================] - ETA: 0s - loss: 5.9051 - mean_squared_error: 5.90 - 0s 213us/sample - loss: 5.9841 - mean_squared_error: 5.9841 - val_loss: 10.5483 - val_mean_squared_error: 10.5483\n",
      "Epoch 3/5\n",
      "125/125 [==============================] - ETA: 0s - loss: 2.2901 - mean_squared_error: 2.29 - 0s 205us/sample - loss: 3.2179 - mean_squared_error: 3.2179 - val_loss: 12.0703 - val_mean_squared_error: 12.0703\n",
      "Epoch 4/5\n",
      "125/125 [==============================] - ETA: 0s - loss: 1.4824 - mean_squared_error: 1.48 - 0s 212us/sample - loss: 1.4394 - mean_squared_error: 1.4394 - val_loss: 13.2225 - val_mean_squared_error: 13.2225\n",
      "Epoch 5/5\n",
      "125/125 [==============================] - ETA: 0s - loss: 0.8413 - mean_squared_error: 0.84 - 0s 202us/sample - loss: 0.7271 - mean_squared_error: 0.7271 - val_loss: 14.2317 - val_mean_squared_error: 14.2317\n"
     ]
    },
    {
     "data": {
      "text/html": [
       "<span style=\"color:#4527A0\"><h1 style=\"font-size:18px\">Trial complete</h1></span>"
      ],
      "text/plain": [
       "<IPython.core.display.HTML object>"
      ]
     },
     "metadata": {},
     "output_type": "display_data"
    },
    {
     "data": {
      "text/html": [
       "<span style=\"color:#4527A0\"><h1 style=\"font-size:18px\">Trial summary</h1></span>"
      ],
      "text/plain": [
       "<IPython.core.display.HTML object>"
      ]
     },
     "metadata": {},
     "output_type": "display_data"
    },
    {
     "data": {
      "text/html": [
       "<span style=\"color:cyan\"> |-Trial ID: cbf4b00d230b5f9c4c842dca09efe559</span>"
      ],
      "text/plain": [
       "<IPython.core.display.HTML object>"
      ]
     },
     "metadata": {},
     "output_type": "display_data"
    },
    {
     "data": {
      "text/html": [
       "<span style=\"color:cyan\"> |-Score: 9.757604598999023</span>"
      ],
      "text/plain": [
       "<IPython.core.display.HTML object>"
      ]
     },
     "metadata": {},
     "output_type": "display_data"
    },
    {
     "data": {
      "text/html": [
       "<span style=\"color:cyan\"> |-Best step: 0</span>"
      ],
      "text/plain": [
       "<IPython.core.display.HTML object>"
      ]
     },
     "metadata": {},
     "output_type": "display_data"
    },
    {
     "data": {
      "text/html": [
       "<span style=\"color:#7E57C2\"><h2 style=\"font-size:16px\">Hyperparameters:</h2></span>"
      ],
      "text/plain": [
       "<IPython.core.display.HTML object>"
      ]
     },
     "metadata": {},
     "output_type": "display_data"
    },
    {
     "data": {
      "text/html": [
       "<span style=\"color:cyan\"> |-act_0: tanh</span>"
      ],
      "text/plain": [
       "<IPython.core.display.HTML object>"
      ]
     },
     "metadata": {},
     "output_type": "display_data"
    },
    {
     "data": {
      "text/html": [
       "<span style=\"color:blue\"> |-act_1: relu</span>"
      ],
      "text/plain": [
       "<IPython.core.display.HTML object>"
      ]
     },
     "metadata": {},
     "output_type": "display_data"
    },
    {
     "data": {
      "text/html": [
       "<span style=\"color:cyan\"> |-act_2: relu</span>"
      ],
      "text/plain": [
       "<IPython.core.display.HTML object>"
      ]
     },
     "metadata": {},
     "output_type": "display_data"
    },
    {
     "data": {
      "text/html": [
       "<span style=\"color:blue\"> |-act_3: tanh</span>"
      ],
      "text/plain": [
       "<IPython.core.display.HTML object>"
      ]
     },
     "metadata": {},
     "output_type": "display_data"
    },
    {
     "data": {
      "text/html": [
       "<span style=\"color:cyan\"> |-dropout: 0.2</span>"
      ],
      "text/plain": [
       "<IPython.core.display.HTML object>"
      ]
     },
     "metadata": {},
     "output_type": "display_data"
    },
    {
     "data": {
      "text/html": [
       "<span style=\"color:blue\"> |-learning_rate: 0.001</span>"
      ],
      "text/plain": [
       "<IPython.core.display.HTML object>"
      ]
     },
     "metadata": {},
     "output_type": "display_data"
    },
    {
     "data": {
      "text/html": [
       "<span style=\"color:cyan\"> |-momentum: 0.35000000000000003</span>"
      ],
      "text/plain": [
       "<IPython.core.display.HTML object>"
      ]
     },
     "metadata": {},
     "output_type": "display_data"
    },
    {
     "data": {
      "text/html": [
       "<span style=\"color:blue\"> |-num_layers: 3</span>"
      ],
      "text/plain": [
       "<IPython.core.display.HTML object>"
      ]
     },
     "metadata": {},
     "output_type": "display_data"
    },
    {
     "data": {
      "text/html": [
       "<span style=\"color:cyan\"> |-rho: 0.6500000000000001</span>"
      ],
      "text/plain": [
       "<IPython.core.display.HTML object>"
      ]
     },
     "metadata": {},
     "output_type": "display_data"
    },
    {
     "data": {
      "text/html": [
       "<span style=\"color:blue\"> |-units_0: 100</span>"
      ],
      "text/plain": [
       "<IPython.core.display.HTML object>"
      ]
     },
     "metadata": {},
     "output_type": "display_data"
    },
    {
     "data": {
      "text/html": [
       "<span style=\"color:cyan\"> |-units_1: 60</span>"
      ],
      "text/plain": [
       "<IPython.core.display.HTML object>"
      ]
     },
     "metadata": {},
     "output_type": "display_data"
    },
    {
     "data": {
      "text/html": [
       "<span style=\"color:blue\"> |-units_2: 80</span>"
      ],
      "text/plain": [
       "<IPython.core.display.HTML object>"
      ]
     },
     "metadata": {},
     "output_type": "display_data"
    },
    {
     "data": {
      "text/html": [
       "<span style=\"color:cyan\"> |-units_3: 100</span>"
      ],
      "text/plain": [
       "<IPython.core.display.HTML object>"
      ]
     },
     "metadata": {},
     "output_type": "display_data"
    },
    {
     "name": "stdout",
     "output_type": "stream",
     "text": [
      "Train on 125 samples, validate on 23 samples\n",
      "Epoch 1/5\n",
      "125/125 [==============================] - ETA: 0s - loss: 9.9534 - mean_squared_error: 9.95 - 0s 3ms/sample - loss: 12.7924 - mean_squared_error: 12.7924 - val_loss: 20.4172 - val_mean_squared_error: 20.4172\n",
      "Epoch 2/5\n",
      "125/125 [==============================] - ETA: 0s - loss: 4.8009 - mean_squared_error: 4.80 - 0s 344us/sample - loss: 5.1258 - mean_squared_error: 5.1258 - val_loss: 13.1387 - val_mean_squared_error: 13.1387\n",
      "Epoch 3/5\n",
      "125/125 [==============================] - ETA: 0s - loss: 3.0730 - mean_squared_error: 3.07 - 0s 334us/sample - loss: 2.8665 - mean_squared_error: 2.8665 - val_loss: 12.9309 - val_mean_squared_error: 12.9309\n",
      "Epoch 4/5\n",
      "125/125 [==============================] - ETA: 0s - loss: 1.5433 - mean_squared_error: 1.54 - 0s 194us/sample - loss: 1.7085 - mean_squared_error: 1.7085 - val_loss: 15.8422 - val_mean_squared_error: 15.8422\n",
      "Epoch 5/5\n",
      "125/125 [==============================] - ETA: 0s - loss: 0.8697 - mean_squared_error: 0.86 - 0s 310us/sample - loss: 1.1230 - mean_squared_error: 1.1230 - val_loss: 12.2978 - val_mean_squared_error: 12.2978\n",
      "Train on 125 samples, validate on 23 samples\n",
      "Epoch 1/5\n",
      "125/125 [==============================] - ETA: 0s - loss: 13.6785 - mean_squared_error: 13.67 - 0s 3ms/sample - loss: 13.6050 - mean_squared_error: 13.6050 - val_loss: 15.2751 - val_mean_squared_error: 15.2751\n",
      "Epoch 2/5\n",
      "125/125 [==============================] - ETA: 0s - loss: 5.7453 - mean_squared_error: 5.74 - 0s 208us/sample - loss: 5.2952 - mean_squared_error: 5.2952 - val_loss: 14.3440 - val_mean_squared_error: 14.3440\n",
      "Epoch 3/5\n",
      "125/125 [==============================] - ETA: 0s - loss: 3.5325 - mean_squared_error: 3.53 - 0s 188us/sample - loss: 2.8876 - mean_squared_error: 2.8876 - val_loss: 17.1164 - val_mean_squared_error: 17.1164\n",
      "Epoch 4/5\n",
      "125/125 [==============================] - ETA: 0s - loss: 1.4600 - mean_squared_error: 1.46 - 0s 193us/sample - loss: 2.0146 - mean_squared_error: 2.0146 - val_loss: 14.7132 - val_mean_squared_error: 14.7132\n",
      "Epoch 5/5\n",
      "125/125 [==============================] - ETA: 0s - loss: 1.4057 - mean_squared_error: 1.40 - 0s 177us/sample - loss: 1.5421 - mean_squared_error: 1.5421 - val_loss: 14.1043 - val_mean_squared_error: 14.1043\n",
      "Train on 125 samples, validate on 23 samples\n",
      "Epoch 1/5\n",
      "125/125 [==============================] - ETA: 0s - loss: 12.1734 - mean_squared_error: 12.17 - 0s 3ms/sample - loss: 14.9002 - mean_squared_error: 14.9002 - val_loss: 18.8079 - val_mean_squared_error: 18.8079\n",
      "Epoch 2/5\n",
      "125/125 [==============================] - ETA: 0s - loss: 5.9637 - mean_squared_error: 5.96 - 0s 194us/sample - loss: 6.1780 - mean_squared_error: 6.1780 - val_loss: 14.8225 - val_mean_squared_error: 14.8225\n",
      "Epoch 3/5\n",
      "125/125 [==============================] - ETA: 0s - loss: 2.7471 - mean_squared_error: 2.74 - 0s 197us/sample - loss: 3.2305 - mean_squared_error: 3.2305 - val_loss: 15.4977 - val_mean_squared_error: 15.4977\n",
      "Epoch 4/5\n",
      "125/125 [==============================] - ETA: 0s - loss: 1.6479 - mean_squared_error: 1.64 - 0s 184us/sample - loss: 1.9501 - mean_squared_error: 1.9501 - val_loss: 16.2339 - val_mean_squared_error: 16.2339\n",
      "Epoch 5/5\n",
      "125/125 [==============================] - ETA: 0s - loss: 0.5642 - mean_squared_error: 0.56 - 0s 181us/sample - loss: 1.5132 - mean_squared_error: 1.5132 - val_loss: 14.7509 - val_mean_squared_error: 14.7509\n"
     ]
    },
    {
     "data": {
      "text/html": [
       "<span style=\"color:#4527A0\"><h1 style=\"font-size:18px\">Trial complete</h1></span>"
      ],
      "text/plain": [
       "<IPython.core.display.HTML object>"
      ]
     },
     "metadata": {},
     "output_type": "display_data"
    },
    {
     "data": {
      "text/html": [
       "<span style=\"color:#4527A0\"><h1 style=\"font-size:18px\">Trial summary</h1></span>"
      ],
      "text/plain": [
       "<IPython.core.display.HTML object>"
      ]
     },
     "metadata": {},
     "output_type": "display_data"
    },
    {
     "data": {
      "text/html": [
       "<span style=\"color:cyan\"> |-Trial ID: 15b3ef803f52971d6b9c91b1181ce2b4</span>"
      ],
      "text/plain": [
       "<IPython.core.display.HTML object>"
      ]
     },
     "metadata": {},
     "output_type": "display_data"
    },
    {
     "data": {
      "text/html": [
       "<span style=\"color:cyan\"> |-Score: 13.717658042907715</span>"
      ],
      "text/plain": [
       "<IPython.core.display.HTML object>"
      ]
     },
     "metadata": {},
     "output_type": "display_data"
    },
    {
     "data": {
      "text/html": [
       "<span style=\"color:cyan\"> |-Best step: 0</span>"
      ],
      "text/plain": [
       "<IPython.core.display.HTML object>"
      ]
     },
     "metadata": {},
     "output_type": "display_data"
    },
    {
     "data": {
      "text/html": [
       "<span style=\"color:#7E57C2\"><h2 style=\"font-size:16px\">Hyperparameters:</h2></span>"
      ],
      "text/plain": [
       "<IPython.core.display.HTML object>"
      ]
     },
     "metadata": {},
     "output_type": "display_data"
    },
    {
     "data": {
      "text/html": [
       "<span style=\"color:cyan\"> |-act_0: tanh</span>"
      ],
      "text/plain": [
       "<IPython.core.display.HTML object>"
      ]
     },
     "metadata": {},
     "output_type": "display_data"
    },
    {
     "data": {
      "text/html": [
       "<span style=\"color:blue\"> |-act_1: relu</span>"
      ],
      "text/plain": [
       "<IPython.core.display.HTML object>"
      ]
     },
     "metadata": {},
     "output_type": "display_data"
    },
    {
     "data": {
      "text/html": [
       "<span style=\"color:cyan\"> |-act_2: relu</span>"
      ],
      "text/plain": [
       "<IPython.core.display.HTML object>"
      ]
     },
     "metadata": {},
     "output_type": "display_data"
    },
    {
     "data": {
      "text/html": [
       "<span style=\"color:blue\"> |-act_3: relu</span>"
      ],
      "text/plain": [
       "<IPython.core.display.HTML object>"
      ]
     },
     "metadata": {},
     "output_type": "display_data"
    },
    {
     "data": {
      "text/html": [
       "<span style=\"color:cyan\"> |-dropout: 0.30000000000000004</span>"
      ],
      "text/plain": [
       "<IPython.core.display.HTML object>"
      ]
     },
     "metadata": {},
     "output_type": "display_data"
    },
    {
     "data": {
      "text/html": [
       "<span style=\"color:blue\"> |-learning_rate: 0.001</span>"
      ],
      "text/plain": [
       "<IPython.core.display.HTML object>"
      ]
     },
     "metadata": {},
     "output_type": "display_data"
    },
    {
     "data": {
      "text/html": [
       "<span style=\"color:cyan\"> |-momentum: 0.25</span>"
      ],
      "text/plain": [
       "<IPython.core.display.HTML object>"
      ]
     },
     "metadata": {},
     "output_type": "display_data"
    },
    {
     "data": {
      "text/html": [
       "<span style=\"color:blue\"> |-num_layers: 1</span>"
      ],
      "text/plain": [
       "<IPython.core.display.HTML object>"
      ]
     },
     "metadata": {},
     "output_type": "display_data"
    },
    {
     "data": {
      "text/html": [
       "<span style=\"color:cyan\"> |-rho: 0.6500000000000001</span>"
      ],
      "text/plain": [
       "<IPython.core.display.HTML object>"
      ]
     },
     "metadata": {},
     "output_type": "display_data"
    },
    {
     "data": {
      "text/html": [
       "<span style=\"color:blue\"> |-units_0: 60</span>"
      ],
      "text/plain": [
       "<IPython.core.display.HTML object>"
      ]
     },
     "metadata": {},
     "output_type": "display_data"
    },
    {
     "data": {
      "text/html": [
       "<span style=\"color:cyan\"> |-units_1: 100</span>"
      ],
      "text/plain": [
       "<IPython.core.display.HTML object>"
      ]
     },
     "metadata": {},
     "output_type": "display_data"
    },
    {
     "data": {
      "text/html": [
       "<span style=\"color:blue\"> |-units_2: 100</span>"
      ],
      "text/plain": [
       "<IPython.core.display.HTML object>"
      ]
     },
     "metadata": {},
     "output_type": "display_data"
    },
    {
     "data": {
      "text/html": [
       "<span style=\"color:cyan\"> |-units_3: 80</span>"
      ],
      "text/plain": [
       "<IPython.core.display.HTML object>"
      ]
     },
     "metadata": {},
     "output_type": "display_data"
    },
    {
     "name": "stdout",
     "output_type": "stream",
     "text": [
      "Train on 125 samples, validate on 23 samples\n",
      "Epoch 1/5\n",
      "125/125 [==============================] - ETA: 0s - loss: 9.5580 - mean_squared_error: 9.55 - 0s 3ms/sample - loss: 11.0591 - mean_squared_error: 11.0591 - val_loss: 12.1889 - val_mean_squared_error: 12.1889\n",
      "Epoch 2/5\n",
      "125/125 [==============================] - ETA: 0s - loss: 7.9479 - mean_squared_error: 7.94 - 0s 206us/sample - loss: 8.2060 - mean_squared_error: 8.2060 - val_loss: 12.6048 - val_mean_squared_error: 12.6048\n",
      "Epoch 3/5\n",
      "125/125 [==============================] - ETA: 0s - loss: 6.6148 - mean_squared_error: 6.61 - 0s 208us/sample - loss: 7.1169 - mean_squared_error: 7.1169 - val_loss: 12.6341 - val_mean_squared_error: 12.6341\n",
      "Epoch 4/5\n",
      "125/125 [==============================] - ETA: 0s - loss: 6.0879 - mean_squared_error: 6.08 - 0s 192us/sample - loss: 6.7952 - mean_squared_error: 6.7952 - val_loss: 13.0435 - val_mean_squared_error: 13.0435\n",
      "Epoch 5/5\n",
      "125/125 [==============================] - ETA: 0s - loss: 4.0702 - mean_squared_error: 4.07 - 0s 192us/sample - loss: 5.2979 - mean_squared_error: 5.2979 - val_loss: 13.5045 - val_mean_squared_error: 13.5045\n",
      "Train on 125 samples, validate on 23 samples\n",
      "Epoch 1/5\n",
      "125/125 [==============================] - ETA: 0s - loss: 13.8633 - mean_squared_error: 13.86 - 0s 3ms/sample - loss: 12.0674 - mean_squared_error: 12.0674 - val_loss: 9.7312 - val_mean_squared_error: 9.7312\n",
      "Epoch 2/5\n",
      "125/125 [==============================] - ETA: 0s - loss: 14.1163 - mean_squared_error: 14.11 - 0s 369us/sample - loss: 8.7540 - mean_squared_error: 8.7540 - val_loss: 8.9732 - val_mean_squared_error: 8.9732\n",
      "Epoch 3/5\n",
      "125/125 [==============================] - ETA: 0s - loss: 6.9588 - mean_squared_error: 6.95 - 0s 368us/sample - loss: 8.4355 - mean_squared_error: 8.4355 - val_loss: 8.9514 - val_mean_squared_error: 8.9514\n",
      "Epoch 4/5\n",
      "125/125 [==============================] - ETA: 0s - loss: 7.9219 - mean_squared_error: 7.92 - 0s 366us/sample - loss: 7.4248 - mean_squared_error: 7.4248 - val_loss: 8.4142 - val_mean_squared_error: 8.4142\n",
      "Epoch 5/5\n",
      "125/125 [==============================] - ETA: 0s - loss: 5.8886 - mean_squared_error: 5.88 - 0s 360us/sample - loss: 6.1367 - mean_squared_error: 6.1367 - val_loss: 7.8359 - val_mean_squared_error: 7.8359\n",
      "Train on 125 samples, validate on 23 samples\n",
      "Epoch 1/5\n",
      "125/125 [==============================] - ETA: 0s - loss: 8.6919 - mean_squared_error: 8.69 - 0s 3ms/sample - loss: 11.8399 - mean_squared_error: 11.8399 - val_loss: 12.2336 - val_mean_squared_error: 12.2336\n",
      "Epoch 2/5\n",
      "125/125 [==============================] - ETA: 0s - loss: 7.4859 - mean_squared_error: 7.48 - 0s 199us/sample - loss: 10.4310 - mean_squared_error: 10.4310 - val_loss: 11.4827 - val_mean_squared_error: 11.4827\n",
      "Epoch 3/5\n",
      "125/125 [==============================] - ETA: 0s - loss: 5.6665 - mean_squared_error: 5.66 - 0s 198us/sample - loss: 8.0535 - mean_squared_error: 8.0535 - val_loss: 11.1250 - val_mean_squared_error: 11.1250\n",
      "Epoch 4/5\n",
      "125/125 [==============================] - ETA: 0s - loss: 8.5621 - mean_squared_error: 8.56 - 0s 196us/sample - loss: 6.5926 - mean_squared_error: 6.5926 - val_loss: 10.9995 - val_mean_squared_error: 10.9995\n",
      "Epoch 5/5\n",
      "125/125 [==============================] - ETA: 0s - loss: 6.3800 - mean_squared_error: 6.38 - 0s 202us/sample - loss: 6.1315 - mean_squared_error: 6.1315 - val_loss: 11.3307 - val_mean_squared_error: 11.3307\n"
     ]
    },
    {
     "data": {
      "text/html": [
       "<span style=\"color:#4527A0\"><h1 style=\"font-size:18px\">Trial complete</h1></span>"
      ],
      "text/plain": [
       "<IPython.core.display.HTML object>"
      ]
     },
     "metadata": {},
     "output_type": "display_data"
    },
    {
     "data": {
      "text/html": [
       "<span style=\"color:#4527A0\"><h1 style=\"font-size:18px\">Trial summary</h1></span>"
      ],
      "text/plain": [
       "<IPython.core.display.HTML object>"
      ]
     },
     "metadata": {},
     "output_type": "display_data"
    },
    {
     "data": {
      "text/html": [
       "<span style=\"color:cyan\"> |-Trial ID: 1d0cdb0aa9c5fb36690e6d9df8730ee8</span>"
      ],
      "text/plain": [
       "<IPython.core.display.HTML object>"
      ]
     },
     "metadata": {},
     "output_type": "display_data"
    },
    {
     "data": {
      "text/html": [
       "<span style=\"color:cyan\"> |-Score: 10.34142780303955</span>"
      ],
      "text/plain": [
       "<IPython.core.display.HTML object>"
      ]
     },
     "metadata": {},
     "output_type": "display_data"
    },
    {
     "data": {
      "text/html": [
       "<span style=\"color:cyan\"> |-Best step: 0</span>"
      ],
      "text/plain": [
       "<IPython.core.display.HTML object>"
      ]
     },
     "metadata": {},
     "output_type": "display_data"
    },
    {
     "data": {
      "text/html": [
       "<span style=\"color:#7E57C2\"><h2 style=\"font-size:16px\">Hyperparameters:</h2></span>"
      ],
      "text/plain": [
       "<IPython.core.display.HTML object>"
      ]
     },
     "metadata": {},
     "output_type": "display_data"
    },
    {
     "data": {
      "text/html": [
       "<span style=\"color:cyan\"> |-act_0: relu</span>"
      ],
      "text/plain": [
       "<IPython.core.display.HTML object>"
      ]
     },
     "metadata": {},
     "output_type": "display_data"
    },
    {
     "data": {
      "text/html": [
       "<span style=\"color:blue\"> |-act_1: relu</span>"
      ],
      "text/plain": [
       "<IPython.core.display.HTML object>"
      ]
     },
     "metadata": {},
     "output_type": "display_data"
    },
    {
     "data": {
      "text/html": [
       "<span style=\"color:cyan\"> |-act_2: relu</span>"
      ],
      "text/plain": [
       "<IPython.core.display.HTML object>"
      ]
     },
     "metadata": {},
     "output_type": "display_data"
    },
    {
     "data": {
      "text/html": [
       "<span style=\"color:blue\"> |-act_3: relu</span>"
      ],
      "text/plain": [
       "<IPython.core.display.HTML object>"
      ]
     },
     "metadata": {},
     "output_type": "display_data"
    },
    {
     "data": {
      "text/html": [
       "<span style=\"color:cyan\"> |-dropout: 0.5</span>"
      ],
      "text/plain": [
       "<IPython.core.display.HTML object>"
      ]
     },
     "metadata": {},
     "output_type": "display_data"
    },
    {
     "data": {
      "text/html": [
       "<span style=\"color:blue\"> |-learning_rate: 0.0001</span>"
      ],
      "text/plain": [
       "<IPython.core.display.HTML object>"
      ]
     },
     "metadata": {},
     "output_type": "display_data"
    },
    {
     "data": {
      "text/html": [
       "<span style=\"color:cyan\"> |-momentum: 0.05</span>"
      ],
      "text/plain": [
       "<IPython.core.display.HTML object>"
      ]
     },
     "metadata": {},
     "output_type": "display_data"
    },
    {
     "data": {
      "text/html": [
       "<span style=\"color:blue\"> |-num_layers: 2</span>"
      ],
      "text/plain": [
       "<IPython.core.display.HTML object>"
      ]
     },
     "metadata": {},
     "output_type": "display_data"
    },
    {
     "data": {
      "text/html": [
       "<span style=\"color:cyan\"> |-rho: 0.8000000000000003</span>"
      ],
      "text/plain": [
       "<IPython.core.display.HTML object>"
      ]
     },
     "metadata": {},
     "output_type": "display_data"
    },
    {
     "data": {
      "text/html": [
       "<span style=\"color:blue\"> |-units_0: 70</span>"
      ],
      "text/plain": [
       "<IPython.core.display.HTML object>"
      ]
     },
     "metadata": {},
     "output_type": "display_data"
    },
    {
     "data": {
      "text/html": [
       "<span style=\"color:cyan\"> |-units_1: 70</span>"
      ],
      "text/plain": [
       "<IPython.core.display.HTML object>"
      ]
     },
     "metadata": {},
     "output_type": "display_data"
    },
    {
     "data": {
      "text/html": [
       "<span style=\"color:blue\"> |-units_2: 60</span>"
      ],
      "text/plain": [
       "<IPython.core.display.HTML object>"
      ]
     },
     "metadata": {},
     "output_type": "display_data"
    },
    {
     "data": {
      "text/html": [
       "<span style=\"color:cyan\"> |-units_3: 40</span>"
      ],
      "text/plain": [
       "<IPython.core.display.HTML object>"
      ]
     },
     "metadata": {},
     "output_type": "display_data"
    },
    {
     "name": "stdout",
     "output_type": "stream",
     "text": [
      "Train on 125 samples, validate on 23 samples\n",
      "Epoch 1/5\n",
      "125/125 [==============================] - ETA: 0s - loss: 7.7767 - mean_squared_error: 7.77 - 0s 4ms/sample - loss: 13.4547 - mean_squared_error: 13.4547 - val_loss: 16.1293 - val_mean_squared_error: 16.1293\n",
      "Epoch 2/5\n",
      "125/125 [==============================] - ETA: 0s - loss: 3.6570 - mean_squared_error: 3.65 - 0s 389us/sample - loss: 3.6365 - mean_squared_error: 3.6365 - val_loss: 13.8519 - val_mean_squared_error: 13.8519\n",
      "Epoch 3/5\n",
      "125/125 [==============================] - ETA: 0s - loss: 1.0628 - mean_squared_error: 1.06 - 0s 212us/sample - loss: 2.1202 - mean_squared_error: 2.1202 - val_loss: 15.8339 - val_mean_squared_error: 15.8339\n",
      "Epoch 4/5\n",
      "125/125 [==============================] - ETA: 0s - loss: 2.1825 - mean_squared_error: 2.18 - 0s 369us/sample - loss: 2.9405 - mean_squared_error: 2.9405 - val_loss: 11.2929 - val_mean_squared_error: 11.2929\n",
      "Epoch 5/5\n",
      "125/125 [==============================] - ETA: 0s - loss: 2.4747 - mean_squared_error: 2.47 - 0s 200us/sample - loss: 2.7285 - mean_squared_error: 2.7285 - val_loss: 16.8547 - val_mean_squared_error: 16.8547\n",
      "Train on 125 samples, validate on 23 samples\n",
      "Epoch 1/5\n",
      "125/125 [==============================] - ETA: 0s - loss: 7.3242 - mean_squared_error: 7.32 - 0s 3ms/sample - loss: 10.0956 - mean_squared_error: 10.0956 - val_loss: 23.6479 - val_mean_squared_error: 23.6479\n",
      "Epoch 2/5\n",
      "125/125 [==============================] - ETA: 0s - loss: 6.2284 - mean_squared_error: 6.22 - 0s 209us/sample - loss: 5.3153 - mean_squared_error: 5.3153 - val_loss: 11.7628 - val_mean_squared_error: 11.7628\n",
      "Epoch 3/5\n",
      "125/125 [==============================] - ETA: 0s - loss: 3.6743 - mean_squared_error: 3.67 - 0s 370us/sample - loss: 3.0913 - mean_squared_error: 3.0913 - val_loss: 10.9718 - val_mean_squared_error: 10.9718\n",
      "Epoch 4/5\n",
      "125/125 [==============================] - ETA: 0s - loss: 2.4273 - mean_squared_error: 2.42 - 0s 211us/sample - loss: 2.3597 - mean_squared_error: 2.3597 - val_loss: 12.1473 - val_mean_squared_error: 12.1473\n",
      "Epoch 5/5\n",
      "125/125 [==============================] - ETA: 0s - loss: 2.2323 - mean_squared_error: 2.23 - 0s 359us/sample - loss: 2.4601 - mean_squared_error: 2.4601 - val_loss: 10.9321 - val_mean_squared_error: 10.9321\n",
      "Train on 125 samples, validate on 23 samples\n",
      "Epoch 1/5\n",
      "125/125 [==============================] - ETA: 0s - loss: 8.9364 - mean_squared_error: 8.93 - 0s 3ms/sample - loss: 9.3015 - mean_squared_error: 9.3015 - val_loss: 15.4614 - val_mean_squared_error: 15.4614\n",
      "Epoch 2/5\n",
      "125/125 [==============================] - ETA: 0s - loss: 5.8768 - mean_squared_error: 5.87 - 0s 203us/sample - loss: 4.0433 - mean_squared_error: 4.0433 - val_loss: 13.9024 - val_mean_squared_error: 13.9024\n",
      "Epoch 3/5\n",
      "125/125 [==============================] - ETA: 0s - loss: 2.7162 - mean_squared_error: 2.71 - 0s 197us/sample - loss: 3.6557 - mean_squared_error: 3.6557 - val_loss: 16.7156 - val_mean_squared_error: 16.7156\n",
      "Epoch 4/5\n",
      "125/125 [==============================] - ETA: 0s - loss: 4.7016 - mean_squared_error: 4.70 - 0s 194us/sample - loss: 3.5083 - mean_squared_error: 3.5083 - val_loss: 17.9945 - val_mean_squared_error: 17.9945\n",
      "Epoch 5/5\n",
      "125/125 [==============================] - ETA: 0s - loss: 2.8635 - mean_squared_error: 2.86 - 0s 369us/sample - loss: 3.0164 - mean_squared_error: 3.0164 - val_loss: 10.9320 - val_mean_squared_error: 10.9320\n"
     ]
    },
    {
     "data": {
      "text/html": [
       "<span style=\"color:#4527A0\"><h1 style=\"font-size:18px\">Trial complete</h1></span>"
      ],
      "text/plain": [
       "<IPython.core.display.HTML object>"
      ]
     },
     "metadata": {},
     "output_type": "display_data"
    },
    {
     "data": {
      "text/html": [
       "<span style=\"color:#4527A0\"><h1 style=\"font-size:18px\">Trial summary</h1></span>"
      ],
      "text/plain": [
       "<IPython.core.display.HTML object>"
      ]
     },
     "metadata": {},
     "output_type": "display_data"
    },
    {
     "data": {
      "text/html": [
       "<span style=\"color:cyan\"> |-Trial ID: 8198ee373e1ed4ce480b7bf8db8f1585</span>"
      ],
      "text/plain": [
       "<IPython.core.display.HTML object>"
      ]
     },
     "metadata": {},
     "output_type": "display_data"
    },
    {
     "data": {
      "text/html": [
       "<span style=\"color:cyan\"> |-Score: 11.0523099899292</span>"
      ],
      "text/plain": [
       "<IPython.core.display.HTML object>"
      ]
     },
     "metadata": {},
     "output_type": "display_data"
    },
    {
     "data": {
      "text/html": [
       "<span style=\"color:cyan\"> |-Best step: 0</span>"
      ],
      "text/plain": [
       "<IPython.core.display.HTML object>"
      ]
     },
     "metadata": {},
     "output_type": "display_data"
    },
    {
     "data": {
      "text/html": [
       "<span style=\"color:#7E57C2\"><h2 style=\"font-size:16px\">Hyperparameters:</h2></span>"
      ],
      "text/plain": [
       "<IPython.core.display.HTML object>"
      ]
     },
     "metadata": {},
     "output_type": "display_data"
    },
    {
     "data": {
      "text/html": [
       "<span style=\"color:cyan\"> |-act_0: relu</span>"
      ],
      "text/plain": [
       "<IPython.core.display.HTML object>"
      ]
     },
     "metadata": {},
     "output_type": "display_data"
    },
    {
     "data": {
      "text/html": [
       "<span style=\"color:blue\"> |-act_1: relu</span>"
      ],
      "text/plain": [
       "<IPython.core.display.HTML object>"
      ]
     },
     "metadata": {},
     "output_type": "display_data"
    },
    {
     "data": {
      "text/html": [
       "<span style=\"color:cyan\"> |-act_2: relu</span>"
      ],
      "text/plain": [
       "<IPython.core.display.HTML object>"
      ]
     },
     "metadata": {},
     "output_type": "display_data"
    },
    {
     "data": {
      "text/html": [
       "<span style=\"color:blue\"> |-act_3: relu</span>"
      ],
      "text/plain": [
       "<IPython.core.display.HTML object>"
      ]
     },
     "metadata": {},
     "output_type": "display_data"
    },
    {
     "data": {
      "text/html": [
       "<span style=\"color:cyan\"> |-dropout: 0.4</span>"
      ],
      "text/plain": [
       "<IPython.core.display.HTML object>"
      ]
     },
     "metadata": {},
     "output_type": "display_data"
    },
    {
     "data": {
      "text/html": [
       "<span style=\"color:blue\"> |-learning_rate: 0.001</span>"
      ],
      "text/plain": [
       "<IPython.core.display.HTML object>"
      ]
     },
     "metadata": {},
     "output_type": "display_data"
    },
    {
     "data": {
      "text/html": [
       "<span style=\"color:cyan\"> |-momentum: 0.2</span>"
      ],
      "text/plain": [
       "<IPython.core.display.HTML object>"
      ]
     },
     "metadata": {},
     "output_type": "display_data"
    },
    {
     "data": {
      "text/html": [
       "<span style=\"color:blue\"> |-num_layers: 2</span>"
      ],
      "text/plain": [
       "<IPython.core.display.HTML object>"
      ]
     },
     "metadata": {},
     "output_type": "display_data"
    },
    {
     "data": {
      "text/html": [
       "<span style=\"color:cyan\"> |-rho: 0.7000000000000002</span>"
      ],
      "text/plain": [
       "<IPython.core.display.HTML object>"
      ]
     },
     "metadata": {},
     "output_type": "display_data"
    },
    {
     "data": {
      "text/html": [
       "<span style=\"color:blue\"> |-units_0: 80</span>"
      ],
      "text/plain": [
       "<IPython.core.display.HTML object>"
      ]
     },
     "metadata": {},
     "output_type": "display_data"
    },
    {
     "data": {
      "text/html": [
       "<span style=\"color:cyan\"> |-units_1: 80</span>"
      ],
      "text/plain": [
       "<IPython.core.display.HTML object>"
      ]
     },
     "metadata": {},
     "output_type": "display_data"
    },
    {
     "data": {
      "text/html": [
       "<span style=\"color:blue\"> |-units_2: 40</span>"
      ],
      "text/plain": [
       "<IPython.core.display.HTML object>"
      ]
     },
     "metadata": {},
     "output_type": "display_data"
    },
    {
     "data": {
      "text/html": [
       "<span style=\"color:cyan\"> |-units_3: 50</span>"
      ],
      "text/plain": [
       "<IPython.core.display.HTML object>"
      ]
     },
     "metadata": {},
     "output_type": "display_data"
    },
    {
     "name": "stdout",
     "output_type": "stream",
     "text": [
      "Train on 125 samples, validate on 23 samples\n",
      "Epoch 1/5\n",
      "125/125 [==============================] - ETA: 1s - loss: 7.4228 - mean_squared_error: 7.42 - 1s 4ms/sample - loss: 9.4838 - mean_squared_error: 9.4838 - val_loss: 10.5644 - val_mean_squared_error: 10.5644\n",
      "Epoch 2/5\n",
      "125/125 [==============================] - ETA: 0s - loss: 8.1332 - mean_squared_error: 8.13 - 0s 367us/sample - loss: 7.8667 - mean_squared_error: 7.8667 - val_loss: 10.3787 - val_mean_squared_error: 10.3787\n",
      "Epoch 3/5\n",
      "125/125 [==============================] - ETA: 0s - loss: 7.9057 - mean_squared_error: 7.90 - 0s 362us/sample - loss: 6.8380 - mean_squared_error: 6.8380 - val_loss: 10.1994 - val_mean_squared_error: 10.1994\n",
      "Epoch 4/5\n",
      "125/125 [==============================] - ETA: 0s - loss: 5.4274 - mean_squared_error: 5.42 - 0s 214us/sample - loss: 6.0815 - mean_squared_error: 6.0815 - val_loss: 10.3204 - val_mean_squared_error: 10.3204\n",
      "Epoch 5/5\n",
      "125/125 [==============================] - ETA: 0s - loss: 4.9680 - mean_squared_error: 4.96 - 0s 192us/sample - loss: 5.5639 - mean_squared_error: 5.5639 - val_loss: 10.3059 - val_mean_squared_error: 10.3059\n",
      "Train on 125 samples, validate on 23 samples\n",
      "Epoch 1/5\n",
      "125/125 [==============================] - ETA: 1s - loss: 8.7346 - mean_squared_error: 8.73 - 1s 4ms/sample - loss: 8.8202 - mean_squared_error: 8.8202 - val_loss: 8.7067 - val_mean_squared_error: 8.7067\n",
      "Epoch 2/5\n",
      "125/125 [==============================] - ETA: 0s - loss: 8.7019 - mean_squared_error: 8.70 - 0s 374us/sample - loss: 7.2796 - mean_squared_error: 7.2796 - val_loss: 8.5035 - val_mean_squared_error: 8.5035\n",
      "Epoch 3/5\n",
      "125/125 [==============================] - ETA: 0s - loss: 6.4877 - mean_squared_error: 6.48 - 0s 217us/sample - loss: 6.5305 - mean_squared_error: 6.5305 - val_loss: 8.5094 - val_mean_squared_error: 8.5094\n",
      "Epoch 4/5\n",
      "125/125 [==============================] - ETA: 0s - loss: 6.4885 - mean_squared_error: 6.48 - 0s 207us/sample - loss: 5.9482 - mean_squared_error: 5.9482 - val_loss: 8.6454 - val_mean_squared_error: 8.6454\n",
      "Epoch 5/5\n",
      "125/125 [==============================] - ETA: 0s - loss: 6.4260 - mean_squared_error: 6.42 - 0s 209us/sample - loss: 5.3084 - mean_squared_error: 5.3084 - val_loss: 8.6747 - val_mean_squared_error: 8.6747\n",
      "Train on 125 samples, validate on 23 samples\n",
      "Epoch 1/5\n",
      "125/125 [==============================] - ETA: 1s - loss: 9.3046 - mean_squared_error: 9.30 - 1s 4ms/sample - loss: 9.2405 - mean_squared_error: 9.2405 - val_loss: 8.4379 - val_mean_squared_error: 8.4379\n",
      "Epoch 2/5\n",
      "125/125 [==============================] - ETA: 0s - loss: 8.0455 - mean_squared_error: 8.04 - 0s 369us/sample - loss: 7.6120 - mean_squared_error: 7.6120 - val_loss: 8.2767 - val_mean_squared_error: 8.2767\n",
      "Epoch 3/5\n",
      "125/125 [==============================] - ETA: 0s - loss: 4.6064 - mean_squared_error: 4.60 - 0s 220us/sample - loss: 6.6628 - mean_squared_error: 6.6628 - val_loss: 8.3299 - val_mean_squared_error: 8.3299\n",
      "Epoch 4/5\n",
      "125/125 [==============================] - ETA: 0s - loss: 5.0140 - mean_squared_error: 5.01 - 0s 213us/sample - loss: 6.1811 - mean_squared_error: 6.1811 - val_loss: 8.3340 - val_mean_squared_error: 8.3340\n",
      "Epoch 5/5\n",
      "125/125 [==============================] - ETA: 0s - loss: 7.1336 - mean_squared_error: 7.13 - 0s 202us/sample - loss: 5.6888 - mean_squared_error: 5.6888 - val_loss: 8.2962 - val_mean_squared_error: 8.2962\n"
     ]
    },
    {
     "data": {
      "text/html": [
       "<span style=\"color:#4527A0\"><h1 style=\"font-size:18px\">Trial complete</h1></span>"
      ],
      "text/plain": [
       "<IPython.core.display.HTML object>"
      ]
     },
     "metadata": {},
     "output_type": "display_data"
    },
    {
     "data": {
      "text/html": [
       "<span style=\"color:#4527A0\"><h1 style=\"font-size:18px\">Trial summary</h1></span>"
      ],
      "text/plain": [
       "<IPython.core.display.HTML object>"
      ]
     },
     "metadata": {},
     "output_type": "display_data"
    },
    {
     "data": {
      "text/html": [
       "<span style=\"color:cyan\"> |-Trial ID: 14b7ab3fa4f8f5505fe825266ac554f2</span>"
      ],
      "text/plain": [
       "<IPython.core.display.HTML object>"
      ]
     },
     "metadata": {},
     "output_type": "display_data"
    },
    {
     "data": {
      "text/html": [
       "<span style=\"color:cyan\"> |-Score: 8.993208885192871</span>"
      ],
      "text/plain": [
       "<IPython.core.display.HTML object>"
      ]
     },
     "metadata": {},
     "output_type": "display_data"
    },
    {
     "data": {
      "text/html": [
       "<span style=\"color:cyan\"> |-Best step: 0</span>"
      ],
      "text/plain": [
       "<IPython.core.display.HTML object>"
      ]
     },
     "metadata": {},
     "output_type": "display_data"
    },
    {
     "data": {
      "text/html": [
       "<span style=\"color:#7E57C2\"><h2 style=\"font-size:16px\">Hyperparameters:</h2></span>"
      ],
      "text/plain": [
       "<IPython.core.display.HTML object>"
      ]
     },
     "metadata": {},
     "output_type": "display_data"
    },
    {
     "data": {
      "text/html": [
       "<span style=\"color:cyan\"> |-act_0: relu</span>"
      ],
      "text/plain": [
       "<IPython.core.display.HTML object>"
      ]
     },
     "metadata": {},
     "output_type": "display_data"
    },
    {
     "data": {
      "text/html": [
       "<span style=\"color:blue\"> |-act_1: tanh</span>"
      ],
      "text/plain": [
       "<IPython.core.display.HTML object>"
      ]
     },
     "metadata": {},
     "output_type": "display_data"
    },
    {
     "data": {
      "text/html": [
       "<span style=\"color:cyan\"> |-act_2: relu</span>"
      ],
      "text/plain": [
       "<IPython.core.display.HTML object>"
      ]
     },
     "metadata": {},
     "output_type": "display_data"
    },
    {
     "data": {
      "text/html": [
       "<span style=\"color:blue\"> |-act_3: tanh</span>"
      ],
      "text/plain": [
       "<IPython.core.display.HTML object>"
      ]
     },
     "metadata": {},
     "output_type": "display_data"
    },
    {
     "data": {
      "text/html": [
       "<span style=\"color:cyan\"> |-dropout: 0.2</span>"
      ],
      "text/plain": [
       "<IPython.core.display.HTML object>"
      ]
     },
     "metadata": {},
     "output_type": "display_data"
    },
    {
     "data": {
      "text/html": [
       "<span style=\"color:blue\"> |-learning_rate: 0.0001</span>"
      ],
      "text/plain": [
       "<IPython.core.display.HTML object>"
      ]
     },
     "metadata": {},
     "output_type": "display_data"
    },
    {
     "data": {
      "text/html": [
       "<span style=\"color:cyan\"> |-momentum: 0.1</span>"
      ],
      "text/plain": [
       "<IPython.core.display.HTML object>"
      ]
     },
     "metadata": {},
     "output_type": "display_data"
    },
    {
     "data": {
      "text/html": [
       "<span style=\"color:blue\"> |-num_layers: 4</span>"
      ],
      "text/plain": [
       "<IPython.core.display.HTML object>"
      ]
     },
     "metadata": {},
     "output_type": "display_data"
    },
    {
     "data": {
      "text/html": [
       "<span style=\"color:cyan\"> |-rho: 0.9500000000000004</span>"
      ],
      "text/plain": [
       "<IPython.core.display.HTML object>"
      ]
     },
     "metadata": {},
     "output_type": "display_data"
    },
    {
     "data": {
      "text/html": [
       "<span style=\"color:blue\"> |-units_0: 20</span>"
      ],
      "text/plain": [
       "<IPython.core.display.HTML object>"
      ]
     },
     "metadata": {},
     "output_type": "display_data"
    },
    {
     "data": {
      "text/html": [
       "<span style=\"color:cyan\"> |-units_1: 70</span>"
      ],
      "text/plain": [
       "<IPython.core.display.HTML object>"
      ]
     },
     "metadata": {},
     "output_type": "display_data"
    },
    {
     "data": {
      "text/html": [
       "<span style=\"color:blue\"> |-units_2: 70</span>"
      ],
      "text/plain": [
       "<IPython.core.display.HTML object>"
      ]
     },
     "metadata": {},
     "output_type": "display_data"
    },
    {
     "data": {
      "text/html": [
       "<span style=\"color:cyan\"> |-units_3: 60</span>"
      ],
      "text/plain": [
       "<IPython.core.display.HTML object>"
      ]
     },
     "metadata": {},
     "output_type": "display_data"
    },
    {
     "name": "stdout",
     "output_type": "stream",
     "text": [
      "Train on 125 samples, validate on 23 samples\n",
      "Epoch 1/5\n",
      "125/125 [==============================] - ETA: 1s - loss: 8.2254 - mean_squared_error: 8.22 - 0s 4ms/sample - loss: 12.1193 - mean_squared_error: 12.1193 - val_loss: 11.9071 - val_mean_squared_error: 11.9071\n",
      "Epoch 2/5\n",
      "125/125 [==============================] - ETA: 0s - loss: 6.5417 - mean_squared_error: 6.54 - 0s 211us/sample - loss: 6.4697 - mean_squared_error: 6.4697 - val_loss: 12.8028 - val_mean_squared_error: 12.8028\n",
      "Epoch 3/5\n",
      "125/125 [==============================] - ETA: 0s - loss: 3.2883 - mean_squared_error: 3.28 - 0s 201us/sample - loss: 5.4380 - mean_squared_error: 5.4380 - val_loss: 12.0380 - val_mean_squared_error: 12.0380\n",
      "Epoch 4/5\n",
      "125/125 [==============================] - ETA: 0s - loss: 4.7258 - mean_squared_error: 4.72 - 0s 207us/sample - loss: 4.5767 - mean_squared_error: 4.5767 - val_loss: 13.0192 - val_mean_squared_error: 13.0192\n",
      "Epoch 5/5\n",
      "125/125 [==============================] - ETA: 0s - loss: 3.2401 - mean_squared_error: 3.24 - 0s 198us/sample - loss: 4.5995 - mean_squared_error: 4.5995 - val_loss: 12.3665 - val_mean_squared_error: 12.3665\n",
      "Train on 125 samples, validate on 23 samples\n",
      "Epoch 1/5\n",
      "125/125 [==============================] - ETA: 1s - loss: 11.4777 - mean_squared_error: 11.47 - 0s 4ms/sample - loss: 11.7432 - mean_squared_error: 11.7432 - val_loss: 9.9445 - val_mean_squared_error: 9.9445\n",
      "Epoch 2/5\n",
      "125/125 [==============================] - ETA: 0s - loss: 9.6774 - mean_squared_error: 9.67 - 0s 216us/sample - loss: 8.0541 - mean_squared_error: 8.0541 - val_loss: 11.6939 - val_mean_squared_error: 11.6939\n",
      "Epoch 3/5\n",
      "125/125 [==============================] - ETA: 0s - loss: 5.2685 - mean_squared_error: 5.26 - 0s 201us/sample - loss: 5.3072 - mean_squared_error: 5.3072 - val_loss: 12.2082 - val_mean_squared_error: 12.2082\n",
      "Epoch 4/5\n",
      "125/125 [==============================] - ETA: 0s - loss: 3.9389 - mean_squared_error: 3.93 - 0s 209us/sample - loss: 4.9324 - mean_squared_error: 4.9324 - val_loss: 15.1863 - val_mean_squared_error: 15.1863\n",
      "Epoch 5/5\n",
      "125/125 [==============================] - ETA: 0s - loss: 2.4396 - mean_squared_error: 2.43 - 0s 194us/sample - loss: 4.8764 - mean_squared_error: 4.8764 - val_loss: 13.8442 - val_mean_squared_error: 13.8442\n",
      "Train on 125 samples, validate on 23 samples\n",
      "Epoch 1/5\n",
      "125/125 [==============================] - ETA: 1s - loss: 5.8224 - mean_squared_error: 5.82 - 0s 4ms/sample - loss: 9.7213 - mean_squared_error: 9.7213 - val_loss: 7.9175 - val_mean_squared_error: 7.9175\n",
      "Epoch 2/5\n",
      "125/125 [==============================] - ETA: 0s - loss: 7.5637 - mean_squared_error: 7.56 - 0s 209us/sample - loss: 7.3782 - mean_squared_error: 7.3782 - val_loss: 10.0333 - val_mean_squared_error: 10.0333\n",
      "Epoch 3/5\n",
      "125/125 [==============================] - ETA: 0s - loss: 5.2693 - mean_squared_error: 5.26 - 0s 207us/sample - loss: 5.8866 - mean_squared_error: 5.8866 - val_loss: 10.9216 - val_mean_squared_error: 10.9216\n",
      "Epoch 4/5\n",
      "125/125 [==============================] - ETA: 0s - loss: 5.7143 - mean_squared_error: 5.71 - 0s 203us/sample - loss: 5.0659 - mean_squared_error: 5.0659 - val_loss: 11.7593 - val_mean_squared_error: 11.7593\n",
      "Epoch 5/5\n",
      "125/125 [==============================] - ETA: 0s - loss: 4.0343 - mean_squared_error: 4.03 - 0s 195us/sample - loss: 4.8661 - mean_squared_error: 4.8661 - val_loss: 9.1793 - val_mean_squared_error: 9.1793\n"
     ]
    },
    {
     "data": {
      "text/html": [
       "<span style=\"color:#4527A0\"><h1 style=\"font-size:18px\">Trial complete</h1></span>"
      ],
      "text/plain": [
       "<IPython.core.display.HTML object>"
      ]
     },
     "metadata": {},
     "output_type": "display_data"
    },
    {
     "data": {
      "text/html": [
       "<span style=\"color:#4527A0\"><h1 style=\"font-size:18px\">Trial summary</h1></span>"
      ],
      "text/plain": [
       "<IPython.core.display.HTML object>"
      ]
     },
     "metadata": {},
     "output_type": "display_data"
    },
    {
     "data": {
      "text/html": [
       "<span style=\"color:cyan\"> |-Trial ID: f5393bfa6b8e598a1a91a0e6115dd1a2</span>"
      ],
      "text/plain": [
       "<IPython.core.display.HTML object>"
      ]
     },
     "metadata": {},
     "output_type": "display_data"
    },
    {
     "data": {
      "text/html": [
       "<span style=\"color:cyan\"> |-Score: 9.923027038574219</span>"
      ],
      "text/plain": [
       "<IPython.core.display.HTML object>"
      ]
     },
     "metadata": {},
     "output_type": "display_data"
    },
    {
     "data": {
      "text/html": [
       "<span style=\"color:cyan\"> |-Best step: 0</span>"
      ],
      "text/plain": [
       "<IPython.core.display.HTML object>"
      ]
     },
     "metadata": {},
     "output_type": "display_data"
    },
    {
     "data": {
      "text/html": [
       "<span style=\"color:#7E57C2\"><h2 style=\"font-size:16px\">Hyperparameters:</h2></span>"
      ],
      "text/plain": [
       "<IPython.core.display.HTML object>"
      ]
     },
     "metadata": {},
     "output_type": "display_data"
    },
    {
     "data": {
      "text/html": [
       "<span style=\"color:cyan\"> |-act_0: tanh</span>"
      ],
      "text/plain": [
       "<IPython.core.display.HTML object>"
      ]
     },
     "metadata": {},
     "output_type": "display_data"
    },
    {
     "data": {
      "text/html": [
       "<span style=\"color:blue\"> |-act_1: relu</span>"
      ],
      "text/plain": [
       "<IPython.core.display.HTML object>"
      ]
     },
     "metadata": {},
     "output_type": "display_data"
    },
    {
     "data": {
      "text/html": [
       "<span style=\"color:cyan\"> |-act_2: tanh</span>"
      ],
      "text/plain": [
       "<IPython.core.display.HTML object>"
      ]
     },
     "metadata": {},
     "output_type": "display_data"
    },
    {
     "data": {
      "text/html": [
       "<span style=\"color:blue\"> |-act_3: tanh</span>"
      ],
      "text/plain": [
       "<IPython.core.display.HTML object>"
      ]
     },
     "metadata": {},
     "output_type": "display_data"
    },
    {
     "data": {
      "text/html": [
       "<span style=\"color:cyan\"> |-dropout: 0.1</span>"
      ],
      "text/plain": [
       "<IPython.core.display.HTML object>"
      ]
     },
     "metadata": {},
     "output_type": "display_data"
    },
    {
     "data": {
      "text/html": [
       "<span style=\"color:blue\"> |-learning_rate: 0.01</span>"
      ],
      "text/plain": [
       "<IPython.core.display.HTML object>"
      ]
     },
     "metadata": {},
     "output_type": "display_data"
    },
    {
     "data": {
      "text/html": [
       "<span style=\"color:cyan\"> |-momentum: 0.35000000000000003</span>"
      ],
      "text/plain": [
       "<IPython.core.display.HTML object>"
      ]
     },
     "metadata": {},
     "output_type": "display_data"
    },
    {
     "data": {
      "text/html": [
       "<span style=\"color:blue\"> |-num_layers: 3</span>"
      ],
      "text/plain": [
       "<IPython.core.display.HTML object>"
      ]
     },
     "metadata": {},
     "output_type": "display_data"
    },
    {
     "data": {
      "text/html": [
       "<span style=\"color:cyan\"> |-rho: 0.9000000000000004</span>"
      ],
      "text/plain": [
       "<IPython.core.display.HTML object>"
      ]
     },
     "metadata": {},
     "output_type": "display_data"
    },
    {
     "data": {
      "text/html": [
       "<span style=\"color:blue\"> |-units_0: 30</span>"
      ],
      "text/plain": [
       "<IPython.core.display.HTML object>"
      ]
     },
     "metadata": {},
     "output_type": "display_data"
    },
    {
     "data": {
      "text/html": [
       "<span style=\"color:cyan\"> |-units_1: 70</span>"
      ],
      "text/plain": [
       "<IPython.core.display.HTML object>"
      ]
     },
     "metadata": {},
     "output_type": "display_data"
    },
    {
     "data": {
      "text/html": [
       "<span style=\"color:blue\"> |-units_2: 40</span>"
      ],
      "text/plain": [
       "<IPython.core.display.HTML object>"
      ]
     },
     "metadata": {},
     "output_type": "display_data"
    },
    {
     "data": {
      "text/html": [
       "<span style=\"color:cyan\"> |-units_3: 20</span>"
      ],
      "text/plain": [
       "<IPython.core.display.HTML object>"
      ]
     },
     "metadata": {},
     "output_type": "display_data"
    },
    {
     "name": "stdout",
     "output_type": "stream",
     "text": [
      "Train on 125 samples, validate on 23 samples\n",
      "Epoch 1/5\n",
      "125/125 [==============================] - ETA: 1s - loss: 7.4223 - mean_squared_error: 7.42 - 0s 4ms/sample - loss: 9.1121 - mean_squared_error: 9.1121 - val_loss: 9.2784 - val_mean_squared_error: 9.2784\n",
      "Epoch 2/5\n",
      "125/125 [==============================] - ETA: 0s - loss: 6.5724 - mean_squared_error: 6.57 - 0s 394us/sample - loss: 7.8657 - mean_squared_error: 7.8657 - val_loss: 9.2029 - val_mean_squared_error: 9.2029\n",
      "Epoch 3/5\n",
      "125/125 [==============================] - ETA: 0s - loss: 9.8855 - mean_squared_error: 9.88 - 0s 392us/sample - loss: 7.0702 - mean_squared_error: 7.0702 - val_loss: 9.1092 - val_mean_squared_error: 9.1092\n",
      "Epoch 4/5\n",
      "125/125 [==============================] - ETA: 0s - loss: 6.0934 - mean_squared_error: 6.09 - 0s 385us/sample - loss: 6.3609 - mean_squared_error: 6.3609 - val_loss: 8.9648 - val_mean_squared_error: 8.9648\n",
      "Epoch 5/5\n",
      "125/125 [==============================] - ETA: 0s - loss: 4.4568 - mean_squared_error: 4.45 - 0s 209us/sample - loss: 5.8705 - mean_squared_error: 5.8705 - val_loss: 8.9859 - val_mean_squared_error: 8.9859\n",
      "Train on 125 samples, validate on 23 samples\n",
      "Epoch 1/5\n",
      "125/125 [==============================] - ETA: 1s - loss: 10.1489 - mean_squared_error: 10.14 - 0s 4ms/sample - loss: 8.8488 - mean_squared_error: 8.8488 - val_loss: 9.9448 - val_mean_squared_error: 9.9448\n",
      "Epoch 2/5\n",
      "125/125 [==============================] - ETA: 0s - loss: 9.1705 - mean_squared_error: 9.17 - 0s 206us/sample - loss: 7.5008 - mean_squared_error: 7.5008 - val_loss: 10.0624 - val_mean_squared_error: 10.0624\n",
      "Epoch 3/5\n",
      "125/125 [==============================] - ETA: 0s - loss: 7.9932 - mean_squared_error: 7.99 - 0s 205us/sample - loss: 6.8977 - mean_squared_error: 6.8977 - val_loss: 10.0239 - val_mean_squared_error: 10.0239\n",
      "Epoch 4/5\n",
      "125/125 [==============================] - ETA: 0s - loss: 5.8228 - mean_squared_error: 5.82 - 0s 213us/sample - loss: 6.5117 - mean_squared_error: 6.5117 - val_loss: 9.9963 - val_mean_squared_error: 9.9963\n",
      "Epoch 5/5\n",
      "125/125 [==============================] - ETA: 0s - loss: 5.0505 - mean_squared_error: 5.05 - 0s 208us/sample - loss: 5.6368 - mean_squared_error: 5.6368 - val_loss: 10.0016 - val_mean_squared_error: 10.0016\n",
      "Train on 125 samples, validate on 23 samples\n",
      "Epoch 1/5\n",
      "125/125 [==============================] - ETA: 1s - loss: 8.6157 - mean_squared_error: 8.61 - 0s 4ms/sample - loss: 9.3948 - mean_squared_error: 9.3948 - val_loss: 9.7378 - val_mean_squared_error: 9.7378\n",
      "Epoch 2/5\n",
      "125/125 [==============================] - ETA: 0s - loss: 11.3044 - mean_squared_error: 11.30 - 0s 217us/sample - loss: 8.1718 - mean_squared_error: 8.1718 - val_loss: 9.4692 - val_mean_squared_error: 9.4692\n",
      "Epoch 3/5\n",
      "125/125 [==============================] - ETA: 0s - loss: 8.4130 - mean_squared_error: 8.41 - 0s 202us/sample - loss: 7.2661 - mean_squared_error: 7.2661 - val_loss: 9.3671 - val_mean_squared_error: 9.3671\n",
      "Epoch 4/5\n",
      "125/125 [==============================] - ETA: 0s - loss: 8.7279 - mean_squared_error: 8.72 - 0s 207us/sample - loss: 6.4640 - mean_squared_error: 6.4640 - val_loss: 9.5198 - val_mean_squared_error: 9.5198\n",
      "Epoch 5/5\n",
      "125/125 [==============================] - ETA: 0s - loss: 6.1433 - mean_squared_error: 6.14 - 0s 196us/sample - loss: 5.9627 - mean_squared_error: 5.9627 - val_loss: 9.6561 - val_mean_squared_error: 9.6561\n"
     ]
    },
    {
     "data": {
      "text/html": [
       "<span style=\"color:#4527A0\"><h1 style=\"font-size:18px\">Trial complete</h1></span>"
      ],
      "text/plain": [
       "<IPython.core.display.HTML object>"
      ]
     },
     "metadata": {},
     "output_type": "display_data"
    },
    {
     "data": {
      "text/html": [
       "<span style=\"color:#4527A0\"><h1 style=\"font-size:18px\">Trial summary</h1></span>"
      ],
      "text/plain": [
       "<IPython.core.display.HTML object>"
      ]
     },
     "metadata": {},
     "output_type": "display_data"
    },
    {
     "data": {
      "text/html": [
       "<span style=\"color:cyan\"> |-Trial ID: c2051250e5d7220f9ae395de615c535b</span>"
      ],
      "text/plain": [
       "<IPython.core.display.HTML object>"
      ]
     },
     "metadata": {},
     "output_type": "display_data"
    },
    {
     "data": {
      "text/html": [
       "<span style=\"color:cyan\"> |-Score: 9.425541877746582</span>"
      ],
      "text/plain": [
       "<IPython.core.display.HTML object>"
      ]
     },
     "metadata": {},
     "output_type": "display_data"
    },
    {
     "data": {
      "text/html": [
       "<span style=\"color:cyan\"> |-Best step: 0</span>"
      ],
      "text/plain": [
       "<IPython.core.display.HTML object>"
      ]
     },
     "metadata": {},
     "output_type": "display_data"
    },
    {
     "data": {
      "text/html": [
       "<span style=\"color:#7E57C2\"><h2 style=\"font-size:16px\">Hyperparameters:</h2></span>"
      ],
      "text/plain": [
       "<IPython.core.display.HTML object>"
      ]
     },
     "metadata": {},
     "output_type": "display_data"
    },
    {
     "data": {
      "text/html": [
       "<span style=\"color:cyan\"> |-act_0: relu</span>"
      ],
      "text/plain": [
       "<IPython.core.display.HTML object>"
      ]
     },
     "metadata": {},
     "output_type": "display_data"
    },
    {
     "data": {
      "text/html": [
       "<span style=\"color:blue\"> |-act_1: tanh</span>"
      ],
      "text/plain": [
       "<IPython.core.display.HTML object>"
      ]
     },
     "metadata": {},
     "output_type": "display_data"
    },
    {
     "data": {
      "text/html": [
       "<span style=\"color:cyan\"> |-act_2: relu</span>"
      ],
      "text/plain": [
       "<IPython.core.display.HTML object>"
      ]
     },
     "metadata": {},
     "output_type": "display_data"
    },
    {
     "data": {
      "text/html": [
       "<span style=\"color:blue\"> |-act_3: tanh</span>"
      ],
      "text/plain": [
       "<IPython.core.display.HTML object>"
      ]
     },
     "metadata": {},
     "output_type": "display_data"
    },
    {
     "data": {
      "text/html": [
       "<span style=\"color:cyan\"> |-dropout: 0.2</span>"
      ],
      "text/plain": [
       "<IPython.core.display.HTML object>"
      ]
     },
     "metadata": {},
     "output_type": "display_data"
    },
    {
     "data": {
      "text/html": [
       "<span style=\"color:blue\"> |-learning_rate: 0.0001</span>"
      ],
      "text/plain": [
       "<IPython.core.display.HTML object>"
      ]
     },
     "metadata": {},
     "output_type": "display_data"
    },
    {
     "data": {
      "text/html": [
       "<span style=\"color:cyan\"> |-momentum: 0.1</span>"
      ],
      "text/plain": [
       "<IPython.core.display.HTML object>"
      ]
     },
     "metadata": {},
     "output_type": "display_data"
    },
    {
     "data": {
      "text/html": [
       "<span style=\"color:blue\"> |-num_layers: 3</span>"
      ],
      "text/plain": [
       "<IPython.core.display.HTML object>"
      ]
     },
     "metadata": {},
     "output_type": "display_data"
    },
    {
     "data": {
      "text/html": [
       "<span style=\"color:cyan\"> |-rho: 0.8000000000000003</span>"
      ],
      "text/plain": [
       "<IPython.core.display.HTML object>"
      ]
     },
     "metadata": {},
     "output_type": "display_data"
    },
    {
     "data": {
      "text/html": [
       "<span style=\"color:blue\"> |-units_0: 60</span>"
      ],
      "text/plain": [
       "<IPython.core.display.HTML object>"
      ]
     },
     "metadata": {},
     "output_type": "display_data"
    },
    {
     "data": {
      "text/html": [
       "<span style=\"color:cyan\"> |-units_1: 60</span>"
      ],
      "text/plain": [
       "<IPython.core.display.HTML object>"
      ]
     },
     "metadata": {},
     "output_type": "display_data"
    },
    {
     "data": {
      "text/html": [
       "<span style=\"color:blue\"> |-units_2: 80</span>"
      ],
      "text/plain": [
       "<IPython.core.display.HTML object>"
      ]
     },
     "metadata": {},
     "output_type": "display_data"
    },
    {
     "data": {
      "text/html": [
       "<span style=\"color:cyan\"> |-units_3: 90</span>"
      ],
      "text/plain": [
       "<IPython.core.display.HTML object>"
      ]
     },
     "metadata": {},
     "output_type": "display_data"
    },
    {
     "name": "stdout",
     "output_type": "stream",
     "text": [
      "Train on 125 samples, validate on 23 samples\n",
      "Epoch 1/5\n",
      "125/125 [==============================] - ETA: 0s - loss: 8.5805 - mean_squared_error: 8.58 - 0s 4ms/sample - loss: 9.0356 - mean_squared_error: 9.0356 - val_loss: 11.7169 - val_mean_squared_error: 11.7169\n",
      "Epoch 2/5\n",
      "125/125 [==============================] - ETA: 0s - loss: 4.1742 - mean_squared_error: 4.17 - 0s 214us/sample - loss: 4.6700 - mean_squared_error: 4.6700 - val_loss: 12.1754 - val_mean_squared_error: 12.1754\n",
      "Epoch 3/5\n",
      "125/125 [==============================] - ETA: 0s - loss: 3.8290 - mean_squared_error: 3.82 - 0s 200us/sample - loss: 3.0240 - mean_squared_error: 3.0240 - val_loss: 13.2869 - val_mean_squared_error: 13.2869\n",
      "Epoch 4/5\n",
      "125/125 [==============================] - ETA: 0s - loss: 1.2509 - mean_squared_error: 1.25 - 0s 198us/sample - loss: 2.1887 - mean_squared_error: 2.1887 - val_loss: 14.3984 - val_mean_squared_error: 14.3984\n",
      "Epoch 5/5\n",
      "125/125 [==============================] - ETA: 0s - loss: 0.6259 - mean_squared_error: 0.62 - 0s 196us/sample - loss: 1.3725 - mean_squared_error: 1.3725 - val_loss: 14.8046 - val_mean_squared_error: 14.8046\n",
      "Train on 125 samples, validate on 23 samples\n",
      "Epoch 1/5\n",
      "125/125 [==============================] - ETA: 0s - loss: 9.3540 - mean_squared_error: 9.35 - 0s 4ms/sample - loss: 8.8474 - mean_squared_error: 8.8474 - val_loss: 8.1790 - val_mean_squared_error: 8.1790\n",
      "Epoch 2/5\n",
      "125/125 [==============================] - ETA: 0s - loss: 3.8001 - mean_squared_error: 3.80 - 0s 214us/sample - loss: 4.3554 - mean_squared_error: 4.3554 - val_loss: 8.5275 - val_mean_squared_error: 8.5275\n",
      "Epoch 3/5\n",
      "125/125 [==============================] - ETA: 0s - loss: 2.3088 - mean_squared_error: 2.30 - 0s 205us/sample - loss: 2.6979 - mean_squared_error: 2.6979 - val_loss: 9.6269 - val_mean_squared_error: 9.6269\n",
      "Epoch 4/5\n",
      "125/125 [==============================] - ETA: 0s - loss: 2.3588 - mean_squared_error: 2.35 - 0s 209us/sample - loss: 2.0251 - mean_squared_error: 2.0251 - val_loss: 10.3410 - val_mean_squared_error: 10.3410\n",
      "Epoch 5/5\n",
      "125/125 [==============================] - ETA: 0s - loss: 1.0562 - mean_squared_error: 1.05 - 0s 193us/sample - loss: 1.1334 - mean_squared_error: 1.1334 - val_loss: 10.5816 - val_mean_squared_error: 10.5816\n",
      "Train on 125 samples, validate on 23 samples\n",
      "Epoch 1/5\n",
      "125/125 [==============================] - ETA: 0s - loss: 10.0592 - mean_squared_error: 10.05 - 0s 3ms/sample - loss: 9.0651 - mean_squared_error: 9.0651 - val_loss: 13.5686 - val_mean_squared_error: 13.5686\n",
      "Epoch 2/5\n",
      "125/125 [==============================] - ETA: 0s - loss: 4.1035 - mean_squared_error: 4.10 - 0s 207us/sample - loss: 4.5292 - mean_squared_error: 4.5292 - val_loss: 15.1427 - val_mean_squared_error: 15.1427\n",
      "Epoch 3/5\n",
      "125/125 [==============================] - ETA: 0s - loss: 2.5032 - mean_squared_error: 2.50 - 0s 203us/sample - loss: 2.7418 - mean_squared_error: 2.7418 - val_loss: 16.1332 - val_mean_squared_error: 16.1332\n",
      "Epoch 4/5\n",
      "125/125 [==============================] - ETA: 0s - loss: 1.3336 - mean_squared_error: 1.33 - 0s 198us/sample - loss: 1.6672 - mean_squared_error: 1.6672 - val_loss: 16.5585 - val_mean_squared_error: 16.5585\n",
      "Epoch 5/5\n",
      "125/125 [==============================] - ETA: 0s - loss: 0.8193 - mean_squared_error: 0.81 - 0s 194us/sample - loss: 1.0876 - mean_squared_error: 1.0876 - val_loss: 16.9015 - val_mean_squared_error: 16.9015\n"
     ]
    },
    {
     "data": {
      "text/html": [
       "<span style=\"color:#4527A0\"><h1 style=\"font-size:18px\">Trial complete</h1></span>"
      ],
      "text/plain": [
       "<IPython.core.display.HTML object>"
      ]
     },
     "metadata": {},
     "output_type": "display_data"
    },
    {
     "data": {
      "text/html": [
       "<span style=\"color:#4527A0\"><h1 style=\"font-size:18px\">Trial summary</h1></span>"
      ],
      "text/plain": [
       "<IPython.core.display.HTML object>"
      ]
     },
     "metadata": {},
     "output_type": "display_data"
    },
    {
     "data": {
      "text/html": [
       "<span style=\"color:cyan\"> |-Trial ID: a09065581bb484f2b88c9a5d160a0e20</span>"
      ],
      "text/plain": [
       "<IPython.core.display.HTML object>"
      ]
     },
     "metadata": {},
     "output_type": "display_data"
    },
    {
     "data": {
      "text/html": [
       "<span style=\"color:cyan\"> |-Score: 11.154808044433594</span>"
      ],
      "text/plain": [
       "<IPython.core.display.HTML object>"
      ]
     },
     "metadata": {},
     "output_type": "display_data"
    },
    {
     "data": {
      "text/html": [
       "<span style=\"color:cyan\"> |-Best step: 0</span>"
      ],
      "text/plain": [
       "<IPython.core.display.HTML object>"
      ]
     },
     "metadata": {},
     "output_type": "display_data"
    },
    {
     "data": {
      "text/html": [
       "<span style=\"color:#7E57C2\"><h2 style=\"font-size:16px\">Hyperparameters:</h2></span>"
      ],
      "text/plain": [
       "<IPython.core.display.HTML object>"
      ]
     },
     "metadata": {},
     "output_type": "display_data"
    },
    {
     "data": {
      "text/html": [
       "<span style=\"color:cyan\"> |-act_0: relu</span>"
      ],
      "text/plain": [
       "<IPython.core.display.HTML object>"
      ]
     },
     "metadata": {},
     "output_type": "display_data"
    },
    {
     "data": {
      "text/html": [
       "<span style=\"color:blue\"> |-act_1: relu</span>"
      ],
      "text/plain": [
       "<IPython.core.display.HTML object>"
      ]
     },
     "metadata": {},
     "output_type": "display_data"
    },
    {
     "data": {
      "text/html": [
       "<span style=\"color:cyan\"> |-act_2: relu</span>"
      ],
      "text/plain": [
       "<IPython.core.display.HTML object>"
      ]
     },
     "metadata": {},
     "output_type": "display_data"
    },
    {
     "data": {
      "text/html": [
       "<span style=\"color:blue\"> |-act_3: relu</span>"
      ],
      "text/plain": [
       "<IPython.core.display.HTML object>"
      ]
     },
     "metadata": {},
     "output_type": "display_data"
    },
    {
     "data": {
      "text/html": [
       "<span style=\"color:cyan\"> |-dropout: 0.1</span>"
      ],
      "text/plain": [
       "<IPython.core.display.HTML object>"
      ]
     },
     "metadata": {},
     "output_type": "display_data"
    },
    {
     "data": {
      "text/html": [
       "<span style=\"color:blue\"> |-learning_rate: 0.0001</span>"
      ],
      "text/plain": [
       "<IPython.core.display.HTML object>"
      ]
     },
     "metadata": {},
     "output_type": "display_data"
    },
    {
     "data": {
      "text/html": [
       "<span style=\"color:cyan\"> |-momentum: 0.2</span>"
      ],
      "text/plain": [
       "<IPython.core.display.HTML object>"
      ]
     },
     "metadata": {},
     "output_type": "display_data"
    },
    {
     "data": {
      "text/html": [
       "<span style=\"color:blue\"> |-num_layers: 2</span>"
      ],
      "text/plain": [
       "<IPython.core.display.HTML object>"
      ]
     },
     "metadata": {},
     "output_type": "display_data"
    },
    {
     "data": {
      "text/html": [
       "<span style=\"color:cyan\"> |-rho: 0.8500000000000003</span>"
      ],
      "text/plain": [
       "<IPython.core.display.HTML object>"
      ]
     },
     "metadata": {},
     "output_type": "display_data"
    },
    {
     "data": {
      "text/html": [
       "<span style=\"color:blue\"> |-units_0: 70</span>"
      ],
      "text/plain": [
       "<IPython.core.display.HTML object>"
      ]
     },
     "metadata": {},
     "output_type": "display_data"
    },
    {
     "data": {
      "text/html": [
       "<span style=\"color:cyan\"> |-units_1: 40</span>"
      ],
      "text/plain": [
       "<IPython.core.display.HTML object>"
      ]
     },
     "metadata": {},
     "output_type": "display_data"
    },
    {
     "data": {
      "text/html": [
       "<span style=\"color:blue\"> |-units_2: 70</span>"
      ],
      "text/plain": [
       "<IPython.core.display.HTML object>"
      ]
     },
     "metadata": {},
     "output_type": "display_data"
    },
    {
     "data": {
      "text/html": [
       "<span style=\"color:cyan\"> |-units_3: 80</span>"
      ],
      "text/plain": [
       "<IPython.core.display.HTML object>"
      ]
     },
     "metadata": {},
     "output_type": "display_data"
    },
    {
     "name": "stdout",
     "output_type": "stream",
     "text": [
      "INFO:tensorflow:Oracle triggered exit\n"
     ]
    }
   ],
   "source": [
    "tuner.search(X_train.values, y_train.values,\n",
    "             epochs=5,\n",
    "             validation_data=(X_dev.values, y_dev.values))"
   ]
  },
  {
   "cell_type": "code",
   "execution_count": 14,
   "metadata": {},
   "outputs": [
    {
     "data": {
      "text/html": [
       "<span style=\"color:#4527A0\"><h1 style=\"font-size:18px\">Results summary</h1></span>"
      ],
      "text/plain": [
       "<IPython.core.display.HTML object>"
      ]
     },
     "metadata": {},
     "output_type": "display_data"
    },
    {
     "data": {
      "text/html": [
       "<span style=\"color:cyan\"> |-Results in Metabolomics/tuning_4layermax_bayes</span>"
      ],
      "text/plain": [
       "<IPython.core.display.HTML object>"
      ]
     },
     "metadata": {},
     "output_type": "display_data"
    },
    {
     "data": {
      "text/html": [
       "<span style=\"color:cyan\"> |-Showing 10 best trials</span>"
      ],
      "text/plain": [
       "<IPython.core.display.HTML object>"
      ]
     },
     "metadata": {},
     "output_type": "display_data"
    },
    {
     "data": {
      "text/html": [
       "<span style=\"color:cyan\"> |-Objective(name='val_mean_squared_error', direction='min')</span>"
      ],
      "text/plain": [
       "<IPython.core.display.HTML object>"
      ]
     },
     "metadata": {},
     "output_type": "display_data"
    },
    {
     "data": {
      "text/html": [
       "<span style=\"color:#4527A0\"><h1 style=\"font-size:18px\">Trial summary</h1></span>"
      ],
      "text/plain": [
       "<IPython.core.display.HTML object>"
      ]
     },
     "metadata": {},
     "output_type": "display_data"
    },
    {
     "data": {
      "text/html": [
       "<span style=\"color:cyan\"> |-Trial ID: 5ca1c1e9defdc97b5b803a4650daffa3</span>"
      ],
      "text/plain": [
       "<IPython.core.display.HTML object>"
      ]
     },
     "metadata": {},
     "output_type": "display_data"
    },
    {
     "data": {
      "text/html": [
       "<span style=\"color:cyan\"> |-Score: 8.85258674621582</span>"
      ],
      "text/plain": [
       "<IPython.core.display.HTML object>"
      ]
     },
     "metadata": {},
     "output_type": "display_data"
    },
    {
     "data": {
      "text/html": [
       "<span style=\"color:cyan\"> |-Best step: 0</span>"
      ],
      "text/plain": [
       "<IPython.core.display.HTML object>"
      ]
     },
     "metadata": {},
     "output_type": "display_data"
    },
    {
     "data": {
      "text/html": [
       "<span style=\"color:#7E57C2\"><h2 style=\"font-size:16px\">Hyperparameters:</h2></span>"
      ],
      "text/plain": [
       "<IPython.core.display.HTML object>"
      ]
     },
     "metadata": {},
     "output_type": "display_data"
    },
    {
     "data": {
      "text/html": [
       "<span style=\"color:cyan\"> |-act_0: relu</span>"
      ],
      "text/plain": [
       "<IPython.core.display.HTML object>"
      ]
     },
     "metadata": {},
     "output_type": "display_data"
    },
    {
     "data": {
      "text/html": [
       "<span style=\"color:blue\"> |-act_1: tanh</span>"
      ],
      "text/plain": [
       "<IPython.core.display.HTML object>"
      ]
     },
     "metadata": {},
     "output_type": "display_data"
    },
    {
     "data": {
      "text/html": [
       "<span style=\"color:cyan\"> |-act_2: relu</span>"
      ],
      "text/plain": [
       "<IPython.core.display.HTML object>"
      ]
     },
     "metadata": {},
     "output_type": "display_data"
    },
    {
     "data": {
      "text/html": [
       "<span style=\"color:blue\"> |-act_3: tanh</span>"
      ],
      "text/plain": [
       "<IPython.core.display.HTML object>"
      ]
     },
     "metadata": {},
     "output_type": "display_data"
    },
    {
     "data": {
      "text/html": [
       "<span style=\"color:cyan\"> |-dropout: 0.30000000000000004</span>"
      ],
      "text/plain": [
       "<IPython.core.display.HTML object>"
      ]
     },
     "metadata": {},
     "output_type": "display_data"
    },
    {
     "data": {
      "text/html": [
       "<span style=\"color:blue\"> |-learning_rate: 0.0001</span>"
      ],
      "text/plain": [
       "<IPython.core.display.HTML object>"
      ]
     },
     "metadata": {},
     "output_type": "display_data"
    },
    {
     "data": {
      "text/html": [
       "<span style=\"color:cyan\"> |-momentum: 0.1</span>"
      ],
      "text/plain": [
       "<IPython.core.display.HTML object>"
      ]
     },
     "metadata": {},
     "output_type": "display_data"
    },
    {
     "data": {
      "text/html": [
       "<span style=\"color:blue\"> |-num_layers: 4</span>"
      ],
      "text/plain": [
       "<IPython.core.display.HTML object>"
      ]
     },
     "metadata": {},
     "output_type": "display_data"
    },
    {
     "data": {
      "text/html": [
       "<span style=\"color:cyan\"> |-rho: 0.8500000000000003</span>"
      ],
      "text/plain": [
       "<IPython.core.display.HTML object>"
      ]
     },
     "metadata": {},
     "output_type": "display_data"
    },
    {
     "data": {
      "text/html": [
       "<span style=\"color:blue\"> |-units_0: 50</span>"
      ],
      "text/plain": [
       "<IPython.core.display.HTML object>"
      ]
     },
     "metadata": {},
     "output_type": "display_data"
    },
    {
     "data": {
      "text/html": [
       "<span style=\"color:cyan\"> |-units_1: 70</span>"
      ],
      "text/plain": [
       "<IPython.core.display.HTML object>"
      ]
     },
     "metadata": {},
     "output_type": "display_data"
    },
    {
     "data": {
      "text/html": [
       "<span style=\"color:blue\"> |-units_2: 90</span>"
      ],
      "text/plain": [
       "<IPython.core.display.HTML object>"
      ]
     },
     "metadata": {},
     "output_type": "display_data"
    },
    {
     "data": {
      "text/html": [
       "<span style=\"color:cyan\"> |-units_3: 60</span>"
      ],
      "text/plain": [
       "<IPython.core.display.HTML object>"
      ]
     },
     "metadata": {},
     "output_type": "display_data"
    },
    {
     "data": {
      "text/html": [
       "<span style=\"color:#4527A0\"><h1 style=\"font-size:18px\">Trial summary</h1></span>"
      ],
      "text/plain": [
       "<IPython.core.display.HTML object>"
      ]
     },
     "metadata": {},
     "output_type": "display_data"
    },
    {
     "data": {
      "text/html": [
       "<span style=\"color:cyan\"> |-Trial ID: 14b7ab3fa4f8f5505fe825266ac554f2</span>"
      ],
      "text/plain": [
       "<IPython.core.display.HTML object>"
      ]
     },
     "metadata": {},
     "output_type": "display_data"
    },
    {
     "data": {
      "text/html": [
       "<span style=\"color:cyan\"> |-Score: 8.993208885192871</span>"
      ],
      "text/plain": [
       "<IPython.core.display.HTML object>"
      ]
     },
     "metadata": {},
     "output_type": "display_data"
    },
    {
     "data": {
      "text/html": [
       "<span style=\"color:cyan\"> |-Best step: 0</span>"
      ],
      "text/plain": [
       "<IPython.core.display.HTML object>"
      ]
     },
     "metadata": {},
     "output_type": "display_data"
    },
    {
     "data": {
      "text/html": [
       "<span style=\"color:#7E57C2\"><h2 style=\"font-size:16px\">Hyperparameters:</h2></span>"
      ],
      "text/plain": [
       "<IPython.core.display.HTML object>"
      ]
     },
     "metadata": {},
     "output_type": "display_data"
    },
    {
     "data": {
      "text/html": [
       "<span style=\"color:cyan\"> |-act_0: relu</span>"
      ],
      "text/plain": [
       "<IPython.core.display.HTML object>"
      ]
     },
     "metadata": {},
     "output_type": "display_data"
    },
    {
     "data": {
      "text/html": [
       "<span style=\"color:blue\"> |-act_1: tanh</span>"
      ],
      "text/plain": [
       "<IPython.core.display.HTML object>"
      ]
     },
     "metadata": {},
     "output_type": "display_data"
    },
    {
     "data": {
      "text/html": [
       "<span style=\"color:cyan\"> |-act_2: relu</span>"
      ],
      "text/plain": [
       "<IPython.core.display.HTML object>"
      ]
     },
     "metadata": {},
     "output_type": "display_data"
    },
    {
     "data": {
      "text/html": [
       "<span style=\"color:blue\"> |-act_3: tanh</span>"
      ],
      "text/plain": [
       "<IPython.core.display.HTML object>"
      ]
     },
     "metadata": {},
     "output_type": "display_data"
    },
    {
     "data": {
      "text/html": [
       "<span style=\"color:cyan\"> |-dropout: 0.2</span>"
      ],
      "text/plain": [
       "<IPython.core.display.HTML object>"
      ]
     },
     "metadata": {},
     "output_type": "display_data"
    },
    {
     "data": {
      "text/html": [
       "<span style=\"color:blue\"> |-learning_rate: 0.0001</span>"
      ],
      "text/plain": [
       "<IPython.core.display.HTML object>"
      ]
     },
     "metadata": {},
     "output_type": "display_data"
    },
    {
     "data": {
      "text/html": [
       "<span style=\"color:cyan\"> |-momentum: 0.1</span>"
      ],
      "text/plain": [
       "<IPython.core.display.HTML object>"
      ]
     },
     "metadata": {},
     "output_type": "display_data"
    },
    {
     "data": {
      "text/html": [
       "<span style=\"color:blue\"> |-num_layers: 4</span>"
      ],
      "text/plain": [
       "<IPython.core.display.HTML object>"
      ]
     },
     "metadata": {},
     "output_type": "display_data"
    },
    {
     "data": {
      "text/html": [
       "<span style=\"color:cyan\"> |-rho: 0.9500000000000004</span>"
      ],
      "text/plain": [
       "<IPython.core.display.HTML object>"
      ]
     },
     "metadata": {},
     "output_type": "display_data"
    },
    {
     "data": {
      "text/html": [
       "<span style=\"color:blue\"> |-units_0: 20</span>"
      ],
      "text/plain": [
       "<IPython.core.display.HTML object>"
      ]
     },
     "metadata": {},
     "output_type": "display_data"
    },
    {
     "data": {
      "text/html": [
       "<span style=\"color:cyan\"> |-units_1: 70</span>"
      ],
      "text/plain": [
       "<IPython.core.display.HTML object>"
      ]
     },
     "metadata": {},
     "output_type": "display_data"
    },
    {
     "data": {
      "text/html": [
       "<span style=\"color:blue\"> |-units_2: 70</span>"
      ],
      "text/plain": [
       "<IPython.core.display.HTML object>"
      ]
     },
     "metadata": {},
     "output_type": "display_data"
    },
    {
     "data": {
      "text/html": [
       "<span style=\"color:cyan\"> |-units_3: 60</span>"
      ],
      "text/plain": [
       "<IPython.core.display.HTML object>"
      ]
     },
     "metadata": {},
     "output_type": "display_data"
    },
    {
     "data": {
      "text/html": [
       "<span style=\"color:#4527A0\"><h1 style=\"font-size:18px\">Trial summary</h1></span>"
      ],
      "text/plain": [
       "<IPython.core.display.HTML object>"
      ]
     },
     "metadata": {},
     "output_type": "display_data"
    },
    {
     "data": {
      "text/html": [
       "<span style=\"color:cyan\"> |-Trial ID: 70b06eed95e847a4ecded1272be70b27</span>"
      ],
      "text/plain": [
       "<IPython.core.display.HTML object>"
      ]
     },
     "metadata": {},
     "output_type": "display_data"
    },
    {
     "data": {
      "text/html": [
       "<span style=\"color:cyan\"> |-Score: 9.004694938659668</span>"
      ],
      "text/plain": [
       "<IPython.core.display.HTML object>"
      ]
     },
     "metadata": {},
     "output_type": "display_data"
    },
    {
     "data": {
      "text/html": [
       "<span style=\"color:cyan\"> |-Best step: 0</span>"
      ],
      "text/plain": [
       "<IPython.core.display.HTML object>"
      ]
     },
     "metadata": {},
     "output_type": "display_data"
    },
    {
     "data": {
      "text/html": [
       "<span style=\"color:#7E57C2\"><h2 style=\"font-size:16px\">Hyperparameters:</h2></span>"
      ],
      "text/plain": [
       "<IPython.core.display.HTML object>"
      ]
     },
     "metadata": {},
     "output_type": "display_data"
    },
    {
     "data": {
      "text/html": [
       "<span style=\"color:cyan\"> |-act_0: tanh</span>"
      ],
      "text/plain": [
       "<IPython.core.display.HTML object>"
      ]
     },
     "metadata": {},
     "output_type": "display_data"
    },
    {
     "data": {
      "text/html": [
       "<span style=\"color:blue\"> |-act_1: tanh</span>"
      ],
      "text/plain": [
       "<IPython.core.display.HTML object>"
      ]
     },
     "metadata": {},
     "output_type": "display_data"
    },
    {
     "data": {
      "text/html": [
       "<span style=\"color:cyan\"> |-act_2: relu</span>"
      ],
      "text/plain": [
       "<IPython.core.display.HTML object>"
      ]
     },
     "metadata": {},
     "output_type": "display_data"
    },
    {
     "data": {
      "text/html": [
       "<span style=\"color:blue\"> |-act_3: tanh</span>"
      ],
      "text/plain": [
       "<IPython.core.display.HTML object>"
      ]
     },
     "metadata": {},
     "output_type": "display_data"
    },
    {
     "data": {
      "text/html": [
       "<span style=\"color:cyan\"> |-dropout: 0.1</span>"
      ],
      "text/plain": [
       "<IPython.core.display.HTML object>"
      ]
     },
     "metadata": {},
     "output_type": "display_data"
    },
    {
     "data": {
      "text/html": [
       "<span style=\"color:blue\"> |-learning_rate: 0.0001</span>"
      ],
      "text/plain": [
       "<IPython.core.display.HTML object>"
      ]
     },
     "metadata": {},
     "output_type": "display_data"
    },
    {
     "data": {
      "text/html": [
       "<span style=\"color:cyan\"> |-momentum: 0.25</span>"
      ],
      "text/plain": [
       "<IPython.core.display.HTML object>"
      ]
     },
     "metadata": {},
     "output_type": "display_data"
    },
    {
     "data": {
      "text/html": [
       "<span style=\"color:blue\"> |-num_layers: 4</span>"
      ],
      "text/plain": [
       "<IPython.core.display.HTML object>"
      ]
     },
     "metadata": {},
     "output_type": "display_data"
    },
    {
     "data": {
      "text/html": [
       "<span style=\"color:cyan\"> |-rho: 0.7500000000000002</span>"
      ],
      "text/plain": [
       "<IPython.core.display.HTML object>"
      ]
     },
     "metadata": {},
     "output_type": "display_data"
    },
    {
     "data": {
      "text/html": [
       "<span style=\"color:blue\"> |-units_0: 50</span>"
      ],
      "text/plain": [
       "<IPython.core.display.HTML object>"
      ]
     },
     "metadata": {},
     "output_type": "display_data"
    },
    {
     "data": {
      "text/html": [
       "<span style=\"color:cyan\"> |-units_1: 70</span>"
      ],
      "text/plain": [
       "<IPython.core.display.HTML object>"
      ]
     },
     "metadata": {},
     "output_type": "display_data"
    },
    {
     "data": {
      "text/html": [
       "<span style=\"color:blue\"> |-units_2: 80</span>"
      ],
      "text/plain": [
       "<IPython.core.display.HTML object>"
      ]
     },
     "metadata": {},
     "output_type": "display_data"
    },
    {
     "data": {
      "text/html": [
       "<span style=\"color:cyan\"> |-units_3: 80</span>"
      ],
      "text/plain": [
       "<IPython.core.display.HTML object>"
      ]
     },
     "metadata": {},
     "output_type": "display_data"
    },
    {
     "data": {
      "text/html": [
       "<span style=\"color:#4527A0\"><h1 style=\"font-size:18px\">Trial summary</h1></span>"
      ],
      "text/plain": [
       "<IPython.core.display.HTML object>"
      ]
     },
     "metadata": {},
     "output_type": "display_data"
    },
    {
     "data": {
      "text/html": [
       "<span style=\"color:cyan\"> |-Trial ID: 88c45c4a2dade0044b19923ce9bfcc09</span>"
      ],
      "text/plain": [
       "<IPython.core.display.HTML object>"
      ]
     },
     "metadata": {},
     "output_type": "display_data"
    },
    {
     "data": {
      "text/html": [
       "<span style=\"color:cyan\"> |-Score: 9.368535995483398</span>"
      ],
      "text/plain": [
       "<IPython.core.display.HTML object>"
      ]
     },
     "metadata": {},
     "output_type": "display_data"
    },
    {
     "data": {
      "text/html": [
       "<span style=\"color:cyan\"> |-Best step: 0</span>"
      ],
      "text/plain": [
       "<IPython.core.display.HTML object>"
      ]
     },
     "metadata": {},
     "output_type": "display_data"
    },
    {
     "data": {
      "text/html": [
       "<span style=\"color:#7E57C2\"><h2 style=\"font-size:16px\">Hyperparameters:</h2></span>"
      ],
      "text/plain": [
       "<IPython.core.display.HTML object>"
      ]
     },
     "metadata": {},
     "output_type": "display_data"
    },
    {
     "data": {
      "text/html": [
       "<span style=\"color:cyan\"> |-act_0: relu</span>"
      ],
      "text/plain": [
       "<IPython.core.display.HTML object>"
      ]
     },
     "metadata": {},
     "output_type": "display_data"
    },
    {
     "data": {
      "text/html": [
       "<span style=\"color:blue\"> |-act_1: relu</span>"
      ],
      "text/plain": [
       "<IPython.core.display.HTML object>"
      ]
     },
     "metadata": {},
     "output_type": "display_data"
    },
    {
     "data": {
      "text/html": [
       "<span style=\"color:cyan\"> |-act_2: relu</span>"
      ],
      "text/plain": [
       "<IPython.core.display.HTML object>"
      ]
     },
     "metadata": {},
     "output_type": "display_data"
    },
    {
     "data": {
      "text/html": [
       "<span style=\"color:blue\"> |-act_3: relu</span>"
      ],
      "text/plain": [
       "<IPython.core.display.HTML object>"
      ]
     },
     "metadata": {},
     "output_type": "display_data"
    },
    {
     "data": {
      "text/html": [
       "<span style=\"color:cyan\"> |-dropout: 0.4</span>"
      ],
      "text/plain": [
       "<IPython.core.display.HTML object>"
      ]
     },
     "metadata": {},
     "output_type": "display_data"
    },
    {
     "data": {
      "text/html": [
       "<span style=\"color:blue\"> |-learning_rate: 0.01</span>"
      ],
      "text/plain": [
       "<IPython.core.display.HTML object>"
      ]
     },
     "metadata": {},
     "output_type": "display_data"
    },
    {
     "data": {
      "text/html": [
       "<span style=\"color:cyan\"> |-momentum: 0.05</span>"
      ],
      "text/plain": [
       "<IPython.core.display.HTML object>"
      ]
     },
     "metadata": {},
     "output_type": "display_data"
    },
    {
     "data": {
      "text/html": [
       "<span style=\"color:blue\"> |-num_layers: 3</span>"
      ],
      "text/plain": [
       "<IPython.core.display.HTML object>"
      ]
     },
     "metadata": {},
     "output_type": "display_data"
    },
    {
     "data": {
      "text/html": [
       "<span style=\"color:cyan\"> |-rho: 0.8000000000000003</span>"
      ],
      "text/plain": [
       "<IPython.core.display.HTML object>"
      ]
     },
     "metadata": {},
     "output_type": "display_data"
    },
    {
     "data": {
      "text/html": [
       "<span style=\"color:blue\"> |-units_0: 60</span>"
      ],
      "text/plain": [
       "<IPython.core.display.HTML object>"
      ]
     },
     "metadata": {},
     "output_type": "display_data"
    },
    {
     "data": {
      "text/html": [
       "<span style=\"color:cyan\"> |-units_1: 70</span>"
      ],
      "text/plain": [
       "<IPython.core.display.HTML object>"
      ]
     },
     "metadata": {},
     "output_type": "display_data"
    },
    {
     "data": {
      "text/html": [
       "<span style=\"color:blue\"> |-units_2: 70</span>"
      ],
      "text/plain": [
       "<IPython.core.display.HTML object>"
      ]
     },
     "metadata": {},
     "output_type": "display_data"
    },
    {
     "data": {
      "text/html": [
       "<span style=\"color:cyan\"> |-units_3: 40</span>"
      ],
      "text/plain": [
       "<IPython.core.display.HTML object>"
      ]
     },
     "metadata": {},
     "output_type": "display_data"
    },
    {
     "data": {
      "text/html": [
       "<span style=\"color:#4527A0\"><h1 style=\"font-size:18px\">Trial summary</h1></span>"
      ],
      "text/plain": [
       "<IPython.core.display.HTML object>"
      ]
     },
     "metadata": {},
     "output_type": "display_data"
    },
    {
     "data": {
      "text/html": [
       "<span style=\"color:cyan\"> |-Trial ID: c2051250e5d7220f9ae395de615c535b</span>"
      ],
      "text/plain": [
       "<IPython.core.display.HTML object>"
      ]
     },
     "metadata": {},
     "output_type": "display_data"
    },
    {
     "data": {
      "text/html": [
       "<span style=\"color:cyan\"> |-Score: 9.425541877746582</span>"
      ],
      "text/plain": [
       "<IPython.core.display.HTML object>"
      ]
     },
     "metadata": {},
     "output_type": "display_data"
    },
    {
     "data": {
      "text/html": [
       "<span style=\"color:cyan\"> |-Best step: 0</span>"
      ],
      "text/plain": [
       "<IPython.core.display.HTML object>"
      ]
     },
     "metadata": {},
     "output_type": "display_data"
    },
    {
     "data": {
      "text/html": [
       "<span style=\"color:#7E57C2\"><h2 style=\"font-size:16px\">Hyperparameters:</h2></span>"
      ],
      "text/plain": [
       "<IPython.core.display.HTML object>"
      ]
     },
     "metadata": {},
     "output_type": "display_data"
    },
    {
     "data": {
      "text/html": [
       "<span style=\"color:cyan\"> |-act_0: relu</span>"
      ],
      "text/plain": [
       "<IPython.core.display.HTML object>"
      ]
     },
     "metadata": {},
     "output_type": "display_data"
    },
    {
     "data": {
      "text/html": [
       "<span style=\"color:blue\"> |-act_1: tanh</span>"
      ],
      "text/plain": [
       "<IPython.core.display.HTML object>"
      ]
     },
     "metadata": {},
     "output_type": "display_data"
    },
    {
     "data": {
      "text/html": [
       "<span style=\"color:cyan\"> |-act_2: relu</span>"
      ],
      "text/plain": [
       "<IPython.core.display.HTML object>"
      ]
     },
     "metadata": {},
     "output_type": "display_data"
    },
    {
     "data": {
      "text/html": [
       "<span style=\"color:blue\"> |-act_3: tanh</span>"
      ],
      "text/plain": [
       "<IPython.core.display.HTML object>"
      ]
     },
     "metadata": {},
     "output_type": "display_data"
    },
    {
     "data": {
      "text/html": [
       "<span style=\"color:cyan\"> |-dropout: 0.2</span>"
      ],
      "text/plain": [
       "<IPython.core.display.HTML object>"
      ]
     },
     "metadata": {},
     "output_type": "display_data"
    },
    {
     "data": {
      "text/html": [
       "<span style=\"color:blue\"> |-learning_rate: 0.0001</span>"
      ],
      "text/plain": [
       "<IPython.core.display.HTML object>"
      ]
     },
     "metadata": {},
     "output_type": "display_data"
    },
    {
     "data": {
      "text/html": [
       "<span style=\"color:cyan\"> |-momentum: 0.1</span>"
      ],
      "text/plain": [
       "<IPython.core.display.HTML object>"
      ]
     },
     "metadata": {},
     "output_type": "display_data"
    },
    {
     "data": {
      "text/html": [
       "<span style=\"color:blue\"> |-num_layers: 3</span>"
      ],
      "text/plain": [
       "<IPython.core.display.HTML object>"
      ]
     },
     "metadata": {},
     "output_type": "display_data"
    },
    {
     "data": {
      "text/html": [
       "<span style=\"color:cyan\"> |-rho: 0.8000000000000003</span>"
      ],
      "text/plain": [
       "<IPython.core.display.HTML object>"
      ]
     },
     "metadata": {},
     "output_type": "display_data"
    },
    {
     "data": {
      "text/html": [
       "<span style=\"color:blue\"> |-units_0: 60</span>"
      ],
      "text/plain": [
       "<IPython.core.display.HTML object>"
      ]
     },
     "metadata": {},
     "output_type": "display_data"
    },
    {
     "data": {
      "text/html": [
       "<span style=\"color:cyan\"> |-units_1: 60</span>"
      ],
      "text/plain": [
       "<IPython.core.display.HTML object>"
      ]
     },
     "metadata": {},
     "output_type": "display_data"
    },
    {
     "data": {
      "text/html": [
       "<span style=\"color:blue\"> |-units_2: 80</span>"
      ],
      "text/plain": [
       "<IPython.core.display.HTML object>"
      ]
     },
     "metadata": {},
     "output_type": "display_data"
    },
    {
     "data": {
      "text/html": [
       "<span style=\"color:cyan\"> |-units_3: 90</span>"
      ],
      "text/plain": [
       "<IPython.core.display.HTML object>"
      ]
     },
     "metadata": {},
     "output_type": "display_data"
    },
    {
     "data": {
      "text/html": [
       "<span style=\"color:#4527A0\"><h1 style=\"font-size:18px\">Trial summary</h1></span>"
      ],
      "text/plain": [
       "<IPython.core.display.HTML object>"
      ]
     },
     "metadata": {},
     "output_type": "display_data"
    },
    {
     "data": {
      "text/html": [
       "<span style=\"color:cyan\"> |-Trial ID: 5de7f20b0553e82a357dd7547039c13a</span>"
      ],
      "text/plain": [
       "<IPython.core.display.HTML object>"
      ]
     },
     "metadata": {},
     "output_type": "display_data"
    },
    {
     "data": {
      "text/html": [
       "<span style=\"color:cyan\"> |-Score: 9.52527141571045</span>"
      ],
      "text/plain": [
       "<IPython.core.display.HTML object>"
      ]
     },
     "metadata": {},
     "output_type": "display_data"
    },
    {
     "data": {
      "text/html": [
       "<span style=\"color:cyan\"> |-Best step: 0</span>"
      ],
      "text/plain": [
       "<IPython.core.display.HTML object>"
      ]
     },
     "metadata": {},
     "output_type": "display_data"
    },
    {
     "data": {
      "text/html": [
       "<span style=\"color:#7E57C2\"><h2 style=\"font-size:16px\">Hyperparameters:</h2></span>"
      ],
      "text/plain": [
       "<IPython.core.display.HTML object>"
      ]
     },
     "metadata": {},
     "output_type": "display_data"
    },
    {
     "data": {
      "text/html": [
       "<span style=\"color:cyan\"> |-act_0: tanh</span>"
      ],
      "text/plain": [
       "<IPython.core.display.HTML object>"
      ]
     },
     "metadata": {},
     "output_type": "display_data"
    },
    {
     "data": {
      "text/html": [
       "<span style=\"color:blue\"> |-act_1: tanh</span>"
      ],
      "text/plain": [
       "<IPython.core.display.HTML object>"
      ]
     },
     "metadata": {},
     "output_type": "display_data"
    },
    {
     "data": {
      "text/html": [
       "<span style=\"color:cyan\"> |-act_2: relu</span>"
      ],
      "text/plain": [
       "<IPython.core.display.HTML object>"
      ]
     },
     "metadata": {},
     "output_type": "display_data"
    },
    {
     "data": {
      "text/html": [
       "<span style=\"color:blue\"> |-act_3: tanh</span>"
      ],
      "text/plain": [
       "<IPython.core.display.HTML object>"
      ]
     },
     "metadata": {},
     "output_type": "display_data"
    },
    {
     "data": {
      "text/html": [
       "<span style=\"color:cyan\"> |-dropout: 0.1</span>"
      ],
      "text/plain": [
       "<IPython.core.display.HTML object>"
      ]
     },
     "metadata": {},
     "output_type": "display_data"
    },
    {
     "data": {
      "text/html": [
       "<span style=\"color:blue\"> |-learning_rate: 0.0001</span>"
      ],
      "text/plain": [
       "<IPython.core.display.HTML object>"
      ]
     },
     "metadata": {},
     "output_type": "display_data"
    },
    {
     "data": {
      "text/html": [
       "<span style=\"color:cyan\"> |-momentum: 0.35000000000000003</span>"
      ],
      "text/plain": [
       "<IPython.core.display.HTML object>"
      ]
     },
     "metadata": {},
     "output_type": "display_data"
    },
    {
     "data": {
      "text/html": [
       "<span style=\"color:blue\"> |-num_layers: 3</span>"
      ],
      "text/plain": [
       "<IPython.core.display.HTML object>"
      ]
     },
     "metadata": {},
     "output_type": "display_data"
    },
    {
     "data": {
      "text/html": [
       "<span style=\"color:cyan\"> |-rho: 0.7000000000000002</span>"
      ],
      "text/plain": [
       "<IPython.core.display.HTML object>"
      ]
     },
     "metadata": {},
     "output_type": "display_data"
    },
    {
     "data": {
      "text/html": [
       "<span style=\"color:blue\"> |-units_0: 80</span>"
      ],
      "text/plain": [
       "<IPython.core.display.HTML object>"
      ]
     },
     "metadata": {},
     "output_type": "display_data"
    },
    {
     "data": {
      "text/html": [
       "<span style=\"color:cyan\"> |-units_1: 60</span>"
      ],
      "text/plain": [
       "<IPython.core.display.HTML object>"
      ]
     },
     "metadata": {},
     "output_type": "display_data"
    },
    {
     "data": {
      "text/html": [
       "<span style=\"color:blue\"> |-units_2: 60</span>"
      ],
      "text/plain": [
       "<IPython.core.display.HTML object>"
      ]
     },
     "metadata": {},
     "output_type": "display_data"
    },
    {
     "data": {
      "text/html": [
       "<span style=\"color:cyan\"> |-units_3: 90</span>"
      ],
      "text/plain": [
       "<IPython.core.display.HTML object>"
      ]
     },
     "metadata": {},
     "output_type": "display_data"
    },
    {
     "data": {
      "text/html": [
       "<span style=\"color:#4527A0\"><h1 style=\"font-size:18px\">Trial summary</h1></span>"
      ],
      "text/plain": [
       "<IPython.core.display.HTML object>"
      ]
     },
     "metadata": {},
     "output_type": "display_data"
    },
    {
     "data": {
      "text/html": [
       "<span style=\"color:cyan\"> |-Trial ID: 285aebeda5f27e0844544a72efe824e4</span>"
      ],
      "text/plain": [
       "<IPython.core.display.HTML object>"
      ]
     },
     "metadata": {},
     "output_type": "display_data"
    },
    {
     "data": {
      "text/html": [
       "<span style=\"color:cyan\"> |-Score: 9.585430145263672</span>"
      ],
      "text/plain": [
       "<IPython.core.display.HTML object>"
      ]
     },
     "metadata": {},
     "output_type": "display_data"
    },
    {
     "data": {
      "text/html": [
       "<span style=\"color:cyan\"> |-Best step: 0</span>"
      ],
      "text/plain": [
       "<IPython.core.display.HTML object>"
      ]
     },
     "metadata": {},
     "output_type": "display_data"
    },
    {
     "data": {
      "text/html": [
       "<span style=\"color:#7E57C2\"><h2 style=\"font-size:16px\">Hyperparameters:</h2></span>"
      ],
      "text/plain": [
       "<IPython.core.display.HTML object>"
      ]
     },
     "metadata": {},
     "output_type": "display_data"
    },
    {
     "data": {
      "text/html": [
       "<span style=\"color:cyan\"> |-act_0: tanh</span>"
      ],
      "text/plain": [
       "<IPython.core.display.HTML object>"
      ]
     },
     "metadata": {},
     "output_type": "display_data"
    },
    {
     "data": {
      "text/html": [
       "<span style=\"color:blue\"> |-act_1: relu</span>"
      ],
      "text/plain": [
       "<IPython.core.display.HTML object>"
      ]
     },
     "metadata": {},
     "output_type": "display_data"
    },
    {
     "data": {
      "text/html": [
       "<span style=\"color:cyan\"> |-act_2: tanh</span>"
      ],
      "text/plain": [
       "<IPython.core.display.HTML object>"
      ]
     },
     "metadata": {},
     "output_type": "display_data"
    },
    {
     "data": {
      "text/html": [
       "<span style=\"color:blue\"> |-act_3: relu</span>"
      ],
      "text/plain": [
       "<IPython.core.display.HTML object>"
      ]
     },
     "metadata": {},
     "output_type": "display_data"
    },
    {
     "data": {
      "text/html": [
       "<span style=\"color:cyan\"> |-dropout: 0.0</span>"
      ],
      "text/plain": [
       "<IPython.core.display.HTML object>"
      ]
     },
     "metadata": {},
     "output_type": "display_data"
    },
    {
     "data": {
      "text/html": [
       "<span style=\"color:blue\"> |-learning_rate: 0.001</span>"
      ],
      "text/plain": [
       "<IPython.core.display.HTML object>"
      ]
     },
     "metadata": {},
     "output_type": "display_data"
    },
    {
     "data": {
      "text/html": [
       "<span style=\"color:cyan\"> |-momentum: 0.30000000000000004</span>"
      ],
      "text/plain": [
       "<IPython.core.display.HTML object>"
      ]
     },
     "metadata": {},
     "output_type": "display_data"
    },
    {
     "data": {
      "text/html": [
       "<span style=\"color:blue\"> |-num_layers: 4</span>"
      ],
      "text/plain": [
       "<IPython.core.display.HTML object>"
      ]
     },
     "metadata": {},
     "output_type": "display_data"
    },
    {
     "data": {
      "text/html": [
       "<span style=\"color:cyan\"> |-rho: 0.9000000000000004</span>"
      ],
      "text/plain": [
       "<IPython.core.display.HTML object>"
      ]
     },
     "metadata": {},
     "output_type": "display_data"
    },
    {
     "data": {
      "text/html": [
       "<span style=\"color:blue\"> |-units_0: 20</span>"
      ],
      "text/plain": [
       "<IPython.core.display.HTML object>"
      ]
     },
     "metadata": {},
     "output_type": "display_data"
    },
    {
     "data": {
      "text/html": [
       "<span style=\"color:cyan\"> |-units_1: 60</span>"
      ],
      "text/plain": [
       "<IPython.core.display.HTML object>"
      ]
     },
     "metadata": {},
     "output_type": "display_data"
    },
    {
     "data": {
      "text/html": [
       "<span style=\"color:blue\"> |-units_2: 30</span>"
      ],
      "text/plain": [
       "<IPython.core.display.HTML object>"
      ]
     },
     "metadata": {},
     "output_type": "display_data"
    },
    {
     "data": {
      "text/html": [
       "<span style=\"color:cyan\"> |-units_3: 20</span>"
      ],
      "text/plain": [
       "<IPython.core.display.HTML object>"
      ]
     },
     "metadata": {},
     "output_type": "display_data"
    },
    {
     "data": {
      "text/html": [
       "<span style=\"color:#4527A0\"><h1 style=\"font-size:18px\">Trial summary</h1></span>"
      ],
      "text/plain": [
       "<IPython.core.display.HTML object>"
      ]
     },
     "metadata": {},
     "output_type": "display_data"
    },
    {
     "data": {
      "text/html": [
       "<span style=\"color:cyan\"> |-Trial ID: 221ed24c6db2e82865a13ba5afb14b7b</span>"
      ],
      "text/plain": [
       "<IPython.core.display.HTML object>"
      ]
     },
     "metadata": {},
     "output_type": "display_data"
    },
    {
     "data": {
      "text/html": [
       "<span style=\"color:cyan\"> |-Score: 9.620059967041016</span>"
      ],
      "text/plain": [
       "<IPython.core.display.HTML object>"
      ]
     },
     "metadata": {},
     "output_type": "display_data"
    },
    {
     "data": {
      "text/html": [
       "<span style=\"color:cyan\"> |-Best step: 0</span>"
      ],
      "text/plain": [
       "<IPython.core.display.HTML object>"
      ]
     },
     "metadata": {},
     "output_type": "display_data"
    },
    {
     "data": {
      "text/html": [
       "<span style=\"color:#7E57C2\"><h2 style=\"font-size:16px\">Hyperparameters:</h2></span>"
      ],
      "text/plain": [
       "<IPython.core.display.HTML object>"
      ]
     },
     "metadata": {},
     "output_type": "display_data"
    },
    {
     "data": {
      "text/html": [
       "<span style=\"color:cyan\"> |-act_0: tanh</span>"
      ],
      "text/plain": [
       "<IPython.core.display.HTML object>"
      ]
     },
     "metadata": {},
     "output_type": "display_data"
    },
    {
     "data": {
      "text/html": [
       "<span style=\"color:blue\"> |-act_1: tanh</span>"
      ],
      "text/plain": [
       "<IPython.core.display.HTML object>"
      ]
     },
     "metadata": {},
     "output_type": "display_data"
    },
    {
     "data": {
      "text/html": [
       "<span style=\"color:cyan\"> |-act_2: relu</span>"
      ],
      "text/plain": [
       "<IPython.core.display.HTML object>"
      ]
     },
     "metadata": {},
     "output_type": "display_data"
    },
    {
     "data": {
      "text/html": [
       "<span style=\"color:blue\"> |-act_3: tanh</span>"
      ],
      "text/plain": [
       "<IPython.core.display.HTML object>"
      ]
     },
     "metadata": {},
     "output_type": "display_data"
    },
    {
     "data": {
      "text/html": [
       "<span style=\"color:cyan\"> |-dropout: 0.2</span>"
      ],
      "text/plain": [
       "<IPython.core.display.HTML object>"
      ]
     },
     "metadata": {},
     "output_type": "display_data"
    },
    {
     "data": {
      "text/html": [
       "<span style=\"color:blue\"> |-learning_rate: 0.0001</span>"
      ],
      "text/plain": [
       "<IPython.core.display.HTML object>"
      ]
     },
     "metadata": {},
     "output_type": "display_data"
    },
    {
     "data": {
      "text/html": [
       "<span style=\"color:cyan\"> |-momentum: 0.1</span>"
      ],
      "text/plain": [
       "<IPython.core.display.HTML object>"
      ]
     },
     "metadata": {},
     "output_type": "display_data"
    },
    {
     "data": {
      "text/html": [
       "<span style=\"color:blue\"> |-num_layers: 3</span>"
      ],
      "text/plain": [
       "<IPython.core.display.HTML object>"
      ]
     },
     "metadata": {},
     "output_type": "display_data"
    },
    {
     "data": {
      "text/html": [
       "<span style=\"color:cyan\"> |-rho: 0.8500000000000003</span>"
      ],
      "text/plain": [
       "<IPython.core.display.HTML object>"
      ]
     },
     "metadata": {},
     "output_type": "display_data"
    },
    {
     "data": {
      "text/html": [
       "<span style=\"color:blue\"> |-units_0: 60</span>"
      ],
      "text/plain": [
       "<IPython.core.display.HTML object>"
      ]
     },
     "metadata": {},
     "output_type": "display_data"
    },
    {
     "data": {
      "text/html": [
       "<span style=\"color:cyan\"> |-units_1: 80</span>"
      ],
      "text/plain": [
       "<IPython.core.display.HTML object>"
      ]
     },
     "metadata": {},
     "output_type": "display_data"
    },
    {
     "data": {
      "text/html": [
       "<span style=\"color:blue\"> |-units_2: 80</span>"
      ],
      "text/plain": [
       "<IPython.core.display.HTML object>"
      ]
     },
     "metadata": {},
     "output_type": "display_data"
    },
    {
     "data": {
      "text/html": [
       "<span style=\"color:cyan\"> |-units_3: 70</span>"
      ],
      "text/plain": [
       "<IPython.core.display.HTML object>"
      ]
     },
     "metadata": {},
     "output_type": "display_data"
    },
    {
     "data": {
      "text/html": [
       "<span style=\"color:#4527A0\"><h1 style=\"font-size:18px\">Trial summary</h1></span>"
      ],
      "text/plain": [
       "<IPython.core.display.HTML object>"
      ]
     },
     "metadata": {},
     "output_type": "display_data"
    },
    {
     "data": {
      "text/html": [
       "<span style=\"color:cyan\"> |-Trial ID: c8580c6805a369ded3e0d637faf3b696</span>"
      ],
      "text/plain": [
       "<IPython.core.display.HTML object>"
      ]
     },
     "metadata": {},
     "output_type": "display_data"
    },
    {
     "data": {
      "text/html": [
       "<span style=\"color:cyan\"> |-Score: 9.628693580627441</span>"
      ],
      "text/plain": [
       "<IPython.core.display.HTML object>"
      ]
     },
     "metadata": {},
     "output_type": "display_data"
    },
    {
     "data": {
      "text/html": [
       "<span style=\"color:cyan\"> |-Best step: 0</span>"
      ],
      "text/plain": [
       "<IPython.core.display.HTML object>"
      ]
     },
     "metadata": {},
     "output_type": "display_data"
    },
    {
     "data": {
      "text/html": [
       "<span style=\"color:#7E57C2\"><h2 style=\"font-size:16px\">Hyperparameters:</h2></span>"
      ],
      "text/plain": [
       "<IPython.core.display.HTML object>"
      ]
     },
     "metadata": {},
     "output_type": "display_data"
    },
    {
     "data": {
      "text/html": [
       "<span style=\"color:cyan\"> |-act_0: tanh</span>"
      ],
      "text/plain": [
       "<IPython.core.display.HTML object>"
      ]
     },
     "metadata": {},
     "output_type": "display_data"
    },
    {
     "data": {
      "text/html": [
       "<span style=\"color:blue\"> |-act_1: relu</span>"
      ],
      "text/plain": [
       "<IPython.core.display.HTML object>"
      ]
     },
     "metadata": {},
     "output_type": "display_data"
    },
    {
     "data": {
      "text/html": [
       "<span style=\"color:cyan\"> |-act_2: relu</span>"
      ],
      "text/plain": [
       "<IPython.core.display.HTML object>"
      ]
     },
     "metadata": {},
     "output_type": "display_data"
    },
    {
     "data": {
      "text/html": [
       "<span style=\"color:blue\"> |-act_3: tanh</span>"
      ],
      "text/plain": [
       "<IPython.core.display.HTML object>"
      ]
     },
     "metadata": {},
     "output_type": "display_data"
    },
    {
     "data": {
      "text/html": [
       "<span style=\"color:cyan\"> |-dropout: 0.2</span>"
      ],
      "text/plain": [
       "<IPython.core.display.HTML object>"
      ]
     },
     "metadata": {},
     "output_type": "display_data"
    },
    {
     "data": {
      "text/html": [
       "<span style=\"color:blue\"> |-learning_rate: 0.0001</span>"
      ],
      "text/plain": [
       "<IPython.core.display.HTML object>"
      ]
     },
     "metadata": {},
     "output_type": "display_data"
    },
    {
     "data": {
      "text/html": [
       "<span style=\"color:cyan\"> |-momentum: 0.05</span>"
      ],
      "text/plain": [
       "<IPython.core.display.HTML object>"
      ]
     },
     "metadata": {},
     "output_type": "display_data"
    },
    {
     "data": {
      "text/html": [
       "<span style=\"color:blue\"> |-num_layers: 3</span>"
      ],
      "text/plain": [
       "<IPython.core.display.HTML object>"
      ]
     },
     "metadata": {},
     "output_type": "display_data"
    },
    {
     "data": {
      "text/html": [
       "<span style=\"color:cyan\"> |-rho: 0.9500000000000004</span>"
      ],
      "text/plain": [
       "<IPython.core.display.HTML object>"
      ]
     },
     "metadata": {},
     "output_type": "display_data"
    },
    {
     "data": {
      "text/html": [
       "<span style=\"color:blue\"> |-units_0: 60</span>"
      ],
      "text/plain": [
       "<IPython.core.display.HTML object>"
      ]
     },
     "metadata": {},
     "output_type": "display_data"
    },
    {
     "data": {
      "text/html": [
       "<span style=\"color:cyan\"> |-units_1: 90</span>"
      ],
      "text/plain": [
       "<IPython.core.display.HTML object>"
      ]
     },
     "metadata": {},
     "output_type": "display_data"
    },
    {
     "data": {
      "text/html": [
       "<span style=\"color:blue\"> |-units_2: 70</span>"
      ],
      "text/plain": [
       "<IPython.core.display.HTML object>"
      ]
     },
     "metadata": {},
     "output_type": "display_data"
    },
    {
     "data": {
      "text/html": [
       "<span style=\"color:cyan\"> |-units_3: 100</span>"
      ],
      "text/plain": [
       "<IPython.core.display.HTML object>"
      ]
     },
     "metadata": {},
     "output_type": "display_data"
    },
    {
     "data": {
      "text/html": [
       "<span style=\"color:#4527A0\"><h1 style=\"font-size:18px\">Trial summary</h1></span>"
      ],
      "text/plain": [
       "<IPython.core.display.HTML object>"
      ]
     },
     "metadata": {},
     "output_type": "display_data"
    },
    {
     "data": {
      "text/html": [
       "<span style=\"color:cyan\"> |-Trial ID: 966ee8a7a94da364a26812829973e7cf</span>"
      ],
      "text/plain": [
       "<IPython.core.display.HTML object>"
      ]
     },
     "metadata": {},
     "output_type": "display_data"
    },
    {
     "data": {
      "text/html": [
       "<span style=\"color:cyan\"> |-Score: 9.673047065734863</span>"
      ],
      "text/plain": [
       "<IPython.core.display.HTML object>"
      ]
     },
     "metadata": {},
     "output_type": "display_data"
    },
    {
     "data": {
      "text/html": [
       "<span style=\"color:cyan\"> |-Best step: 0</span>"
      ],
      "text/plain": [
       "<IPython.core.display.HTML object>"
      ]
     },
     "metadata": {},
     "output_type": "display_data"
    },
    {
     "data": {
      "text/html": [
       "<span style=\"color:#7E57C2\"><h2 style=\"font-size:16px\">Hyperparameters:</h2></span>"
      ],
      "text/plain": [
       "<IPython.core.display.HTML object>"
      ]
     },
     "metadata": {},
     "output_type": "display_data"
    },
    {
     "data": {
      "text/html": [
       "<span style=\"color:cyan\"> |-act_0: relu</span>"
      ],
      "text/plain": [
       "<IPython.core.display.HTML object>"
      ]
     },
     "metadata": {},
     "output_type": "display_data"
    },
    {
     "data": {
      "text/html": [
       "<span style=\"color:blue\"> |-act_1: tanh</span>"
      ],
      "text/plain": [
       "<IPython.core.display.HTML object>"
      ]
     },
     "metadata": {},
     "output_type": "display_data"
    },
    {
     "data": {
      "text/html": [
       "<span style=\"color:cyan\"> |-act_2: relu</span>"
      ],
      "text/plain": [
       "<IPython.core.display.HTML object>"
      ]
     },
     "metadata": {},
     "output_type": "display_data"
    },
    {
     "data": {
      "text/html": [
       "<span style=\"color:blue\"> |-act_3: tanh</span>"
      ],
      "text/plain": [
       "<IPython.core.display.HTML object>"
      ]
     },
     "metadata": {},
     "output_type": "display_data"
    },
    {
     "data": {
      "text/html": [
       "<span style=\"color:cyan\"> |-dropout: 0.1</span>"
      ],
      "text/plain": [
       "<IPython.core.display.HTML object>"
      ]
     },
     "metadata": {},
     "output_type": "display_data"
    },
    {
     "data": {
      "text/html": [
       "<span style=\"color:blue\"> |-learning_rate: 0.001</span>"
      ],
      "text/plain": [
       "<IPython.core.display.HTML object>"
      ]
     },
     "metadata": {},
     "output_type": "display_data"
    },
    {
     "data": {
      "text/html": [
       "<span style=\"color:cyan\"> |-momentum: 0.05</span>"
      ],
      "text/plain": [
       "<IPython.core.display.HTML object>"
      ]
     },
     "metadata": {},
     "output_type": "display_data"
    },
    {
     "data": {
      "text/html": [
       "<span style=\"color:blue\"> |-num_layers: 4</span>"
      ],
      "text/plain": [
       "<IPython.core.display.HTML object>"
      ]
     },
     "metadata": {},
     "output_type": "display_data"
    },
    {
     "data": {
      "text/html": [
       "<span style=\"color:cyan\"> |-rho: 0.8500000000000003</span>"
      ],
      "text/plain": [
       "<IPython.core.display.HTML object>"
      ]
     },
     "metadata": {},
     "output_type": "display_data"
    },
    {
     "data": {
      "text/html": [
       "<span style=\"color:blue\"> |-units_0: 70</span>"
      ],
      "text/plain": [
       "<IPython.core.display.HTML object>"
      ]
     },
     "metadata": {},
     "output_type": "display_data"
    },
    {
     "data": {
      "text/html": [
       "<span style=\"color:cyan\"> |-units_1: 70</span>"
      ],
      "text/plain": [
       "<IPython.core.display.HTML object>"
      ]
     },
     "metadata": {},
     "output_type": "display_data"
    },
    {
     "data": {
      "text/html": [
       "<span style=\"color:blue\"> |-units_2: 90</span>"
      ],
      "text/plain": [
       "<IPython.core.display.HTML object>"
      ]
     },
     "metadata": {},
     "output_type": "display_data"
    },
    {
     "data": {
      "text/html": [
       "<span style=\"color:cyan\"> |-units_3: 60</span>"
      ],
      "text/plain": [
       "<IPython.core.display.HTML object>"
      ]
     },
     "metadata": {},
     "output_type": "display_data"
    }
   ],
   "source": [
    "tuner.results_summary()"
   ]
  },
  {
   "cell_type": "code",
   "execution_count": 89,
   "metadata": {},
   "outputs": [],
   "source": [
    "best_hparams = tuner.get_best_hyperparameters()"
   ]
  },
  {
   "cell_type": "code",
   "execution_count": 91,
   "metadata": {},
   "outputs": [
    {
     "name": "stdout",
     "output_type": "stream",
     "text": [
      "[<kerastuner.engine.hyperparameters.HyperParameters object at 0x7fe8e23a1898>]\n"
     ]
    }
   ],
   "source": [
    "print (str(best_hparams))"
   ]
  },
  {
   "cell_type": "code",
   "execution_count": 88,
   "metadata": {},
   "outputs": [],
   "source": [
    "best_model = tuner.get_best_models(num_models=1)[0]"
   ]
  },
  {
   "cell_type": "code",
   "execution_count": 77,
   "metadata": {},
   "outputs": [
    {
     "ename": "ValueError",
     "evalue": "This model has not yet been built. Build the model first by calling `build()` or calling `fit()` with some data, or specify an `input_shape` argument in the first layer(s) for automatic build.",
     "output_type": "error",
     "traceback": [
      "\u001b[0;31m---------------------------------------------------------------------------\u001b[0m",
      "\u001b[0;31mValueError\u001b[0m                                Traceback (most recent call last)",
      "\u001b[0;32m<ipython-input-77-170280c199ea>\u001b[0m in \u001b[0;36m<module>\u001b[0;34m\u001b[0m\n\u001b[0;32m----> 1\u001b[0;31m \u001b[0mbest_model\u001b[0m\u001b[0;34m.\u001b[0m\u001b[0msummary\u001b[0m\u001b[0;34m(\u001b[0m\u001b[0;34m)\u001b[0m\u001b[0;34m\u001b[0m\u001b[0;34m\u001b[0m\u001b[0m\n\u001b[0m",
      "\u001b[0;32m/home/ubuntu/anaconda3/envs/tensorflow_p36/lib/python3.6/site-packages/tensorflow_core/python/keras/engine/network.py\u001b[0m in \u001b[0;36msummary\u001b[0;34m(self, line_length, positions, print_fn)\u001b[0m\n\u001b[1;32m   1451\u001b[0m     \"\"\"\n\u001b[1;32m   1452\u001b[0m     \u001b[0;32mif\u001b[0m \u001b[0;32mnot\u001b[0m \u001b[0mself\u001b[0m\u001b[0;34m.\u001b[0m\u001b[0mbuilt\u001b[0m\u001b[0;34m:\u001b[0m\u001b[0;34m\u001b[0m\u001b[0;34m\u001b[0m\u001b[0m\n\u001b[0;32m-> 1453\u001b[0;31m       raise ValueError('This model has not yet been built. '\n\u001b[0m\u001b[1;32m   1454\u001b[0m                        \u001b[0;34m'Build the model first by calling `build()` or calling '\u001b[0m\u001b[0;34m\u001b[0m\u001b[0;34m\u001b[0m\u001b[0m\n\u001b[1;32m   1455\u001b[0m                        \u001b[0;34m'`fit()` with some data, or specify '\u001b[0m\u001b[0;34m\u001b[0m\u001b[0;34m\u001b[0m\u001b[0m\n",
      "\u001b[0;31mValueError\u001b[0m: This model has not yet been built. Build the model first by calling `build()` or calling `fit()` with some data, or specify an `input_shape` argument in the first layer(s) for automatic build."
     ]
    }
   ],
   "source": [
    "history = best_model.fit(x = X_train.values, y = y_train.values,\n",
    "                        batch_size = 32, epochs = 50,\n",
    "                        validation_data = (X_dev.values, y_dev.values))"
   ]
  },
  {
   "cell_type": "code",
   "execution_count": null,
   "metadata": {},
   "outputs": [],
   "source": []
  }
 ],
 "metadata": {
  "kernelspec": {
   "display_name": "Python 3",
   "language": "python",
   "name": "python3"
  },
  "language_info": {
   "codemirror_mode": {
    "name": "ipython",
    "version": 3
   },
   "file_extension": ".py",
   "mimetype": "text/x-python",
   "name": "python",
   "nbconvert_exporter": "python",
   "pygments_lexer": "ipython3",
   "version": "3.6.10"
  }
 },
 "nbformat": 4,
 "nbformat_minor": 4
}
