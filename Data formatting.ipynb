{
 "cells": [
  {
   "cell_type": "code",
   "execution_count": 1,
   "metadata": {},
   "outputs": [],
   "source": [
    "import pandas as pd \n",
    "import numpy as np\n",
    "import matplotlib.pyplot as plt\n",
    "from sklearn.decomposition import PCA\n",
    "from sklearn.preprocessing import StandardScaler\n",
    "from sklearn.impute import KNNImputer\n",
    "from functools import partial, reduce"
   ]
  },
  {
   "cell_type": "markdown",
   "metadata": {},
   "source": [
    "### Dataframe Cleanup"
   ]
  },
  {
   "cell_type": "code",
   "execution_count": 2,
   "metadata": {},
   "outputs": [],
   "source": [
    "df_metab = pd.read_csv('Metab_psych_data.csv')\n",
    "df_bdi = pd.read_csv('Psychometric Data.csv')\n",
    "df_card = pd.read_csv('CardioPanel_psych_data.csv')\n",
    "df_cyto = pd.read_csv('Cytokines3_new_psych_data.csv')\n",
    "df_lipid = pd.read_csv('Lipids_psych_data.csv')\n",
    "df_metpan = pd.read_csv('MetabolicPanel_psych_data.csv')"
   ]
  },
  {
   "cell_type": "code",
   "execution_count": 3,
   "metadata": {},
   "outputs": [],
   "source": [
    "def addSampleID (df, delID):\n",
    "    df['Sample'] = df['id'].map(str) + '-' + df['Time'].map(str)\n",
    "    first_col = df.pop(\"Sample\")\n",
    "    df.insert(0, \"Sample\", first_col)\n",
    "    if delID == True:\n",
    "        del df['Time']\n",
    "        del df['bdi_total']\n",
    "        del df['id']\n",
    "    return df"
   ]
  },
  {
   "cell_type": "code",
   "execution_count": 4,
   "metadata": {},
   "outputs": [],
   "source": [
    "for df in [df_metab, df_card, df_cyto, df_lipid, df_metpan]:\n",
    "    df = addSampleID(df, True)\n",
    "    df = df.groupby('Sample').mean().reset_index()\n",
    "df_bdi = addSampleID(df_bdi, False)"
   ]
  },
  {
   "cell_type": "code",
   "execution_count": 5,
   "metadata": {},
   "outputs": [],
   "source": [
    "df_bdi = df_bdi[['Sample', 'id', 'Time', 'bdi_total', 'depressed']]"
   ]
  },
  {
   "cell_type": "code",
   "execution_count": 6,
   "metadata": {},
   "outputs": [],
   "source": [
    "df_demo = df_metab[['Sample', 'age', 'sex']]\n",
    "del df_metab['age']\n",
    "del df_metab['sex']\n",
    "del df_metab['safe']"
   ]
  },
  {
   "cell_type": "code",
   "execution_count": 7,
   "metadata": {},
   "outputs": [],
   "source": [
    "df_metab = df_metab.groupby('Sample').mean().reset_index()"
   ]
  },
  {
   "cell_type": "code",
   "execution_count": 8,
   "metadata": {},
   "outputs": [],
   "source": [
    "del df_card['safe']\n",
    "del df_card['plate']\n",
    "df_card = df_card.groupby('Sample').mean().reset_index()\n",
    "df_card = df_card.rename(columns = {\"CHEX-1\":\"CHEX-1_1\", \"CHEX-2\":\"CHEX-2_1\", \"CHEX-3\":\"CHEX-3_1\", \"CHEX-4\":\"CHEX-4_1\"})"
   ]
  },
  {
   "cell_type": "code",
   "execution_count": 9,
   "metadata": {},
   "outputs": [],
   "source": [
    "del df_cyto['safe']\n",
    "del df_cyto['Plate']\n",
    "del df_cyto['Wells']\n",
    "df_cyto = df_cyto.groupby('Sample').mean().reset_index()"
   ]
  },
  {
   "cell_type": "code",
   "execution_count": 10,
   "metadata": {},
   "outputs": [],
   "source": [
    "del df_lipid['age']\n",
    "del df_lipid['sex']\n",
    "del df_lipid['safe']\n",
    "df_lipid = df_lipid.groupby('Sample').mean().reset_index()"
   ]
  },
  {
   "cell_type": "code",
   "execution_count": 11,
   "metadata": {},
   "outputs": [],
   "source": [
    "del df_metpan['safe']\n",
    "del df_metpan['plate']\n",
    "del df_metpan['Well']\n",
    "df_metpan = df_metpan.groupby('Sample').mean().reset_index()\n",
    "df_metpan = df_metpan.rename(columns = {\"CHEX-1\":\"CHEX-1_2\", \"CHEX-2\":\"CHEX-2_2\", \"CHEX-3\":\"CHEX-3_2\", \"CHEX-4\":\"CHEX-4_2\"})"
   ]
  },
  {
   "cell_type": "markdown",
   "metadata": {},
   "source": [
    "### Fill Missing Data"
   ]
  },
  {
   "cell_type": "code",
   "execution_count": 12,
   "metadata": {},
   "outputs": [],
   "source": [
    "pd.set_option('display.max_rows', 400)"
   ]
  },
  {
   "cell_type": "code",
   "execution_count": 13,
   "metadata": {},
   "outputs": [],
   "source": [
    "m_s = df_metab['Sample'].unique()\n",
    "l_s = df_lipid['Sample'].unique()\n",
    "c_s = df_card['Sample'].unique()\n",
    "y_s = df_cyto['Sample'].unique()\n",
    "p_s = df_metpan['Sample'].unique()"
   ]
  },
  {
   "cell_type": "code",
   "execution_count": 14,
   "metadata": {},
   "outputs": [],
   "source": [
    "union = reduce(np.union1d, (m_s, l_s, c_s, y_s, p_s))\n",
    "df_bdi_reduced = df_bdi.loc[df_bdi['Sample'].isin(union)]"
   ]
  },
  {
   "cell_type": "code",
   "execution_count": 15,
   "metadata": {},
   "outputs": [],
   "source": [
    "dfs = [df_bdi_reduced, df_demo, df_metab, df_card, df_cyto, df_lipid, df_metpan]\n",
    "merge = partial(pd.merge, on=['Sample'], how='outer')\n",
    "df = reduce(merge, dfs)"
   ]
  },
  {
   "cell_type": "code",
   "execution_count": 16,
   "metadata": {},
   "outputs": [],
   "source": [
    "df = df[df['bdi_total'].notna()]"
   ]
  },
  {
   "cell_type": "code",
   "execution_count": 17,
   "metadata": {},
   "outputs": [],
   "source": [
    "X = df.loc[:, ~df.columns.isin(['Sample', 'Time', 'depressed'])].values"
   ]
  },
  {
   "cell_type": "code",
   "execution_count": 18,
   "metadata": {},
   "outputs": [],
   "source": [
    "imputer = KNNImputer(n_neighbors=2, weights=\"uniform\")\n",
    "X_imputed = imputer.fit_transform(X)"
   ]
  },
  {
   "cell_type": "code",
   "execution_count": 19,
   "metadata": {},
   "outputs": [],
   "source": [
    "df_imputed = pd.DataFrame(X_imputed[:, 2:])\n",
    "df_imputed.columns = np.array(df.columns)[5:]"
   ]
  },
  {
   "cell_type": "code",
   "execution_count": 20,
   "metadata": {},
   "outputs": [],
   "source": [
    "df = pd.concat([df[['Sample', 'id', 'Time', 'bdi_total', 'depressed']].reset_index(), df_imputed], axis=1)\n",
    "df = df.drop(columns='index')"
   ]
  },
  {
   "cell_type": "markdown",
   "metadata": {},
   "source": [
    "### Train/Dev/Test Split"
   ]
  },
  {
   "cell_type": "code",
   "execution_count": 21,
   "metadata": {},
   "outputs": [],
   "source": [
    "df_reduced = df[['id', 'depressed']].drop_duplicates()"
   ]
  },
  {
   "cell_type": "code",
   "execution_count": 22,
   "metadata": {},
   "outputs": [
    {
     "data": {
      "text/plain": [
       "array([ 0,  1,  2,  3,  4,  5,  6,  7,  8,  9, 10, 11, 12, 13, 14, 15, 16,\n",
       "       17, 18, 19, 20, 21, 22, 23, 24, 25, 26, 27, 28, 29, 30, 31, 32, 33,\n",
       "       34, 35, 36, 37, 38, 39, 40, 41, 42, 43, 44, 59, 97])"
      ]
     },
     "execution_count": 22,
     "metadata": {},
     "output_type": "execute_result"
    }
   ],
   "source": [
    "np.random.seed(0)\n",
    "all_index = np.array(df_reduced.index).flatten()\n",
    "all_index"
   ]
  },
  {
   "cell_type": "code",
   "execution_count": 23,
   "metadata": {},
   "outputs": [
    {
     "data": {
      "text/plain": [
       "array([28, 33, 30,  4, 18, 11, 42, 31, 22, 10, 27, 32, 29, 43,  2, 59, 26,\n",
       "       15, 25, 16, 40, 20, 41,  8, 13,  5, 17, 34, 14, 37,  7, 38,  1, 12,\n",
       "       35, 24,  6, 23, 36, 21, 19,  9, 39, 97,  3,  0, 44])"
      ]
     },
     "execution_count": 23,
     "metadata": {},
     "output_type": "execute_result"
    }
   ],
   "source": [
    "np.random.shuffle(all_index)\n",
    "all_index"
   ]
  },
  {
   "cell_type": "code",
   "execution_count": 24,
   "metadata": {},
   "outputs": [],
   "source": [
    "test_index = all_index[:8]\n",
    "dev_index = all_index[8:17]\n",
    "train_index = all_index[17:]"
   ]
  },
  {
   "cell_type": "code",
   "execution_count": 25,
   "metadata": {},
   "outputs": [],
   "source": [
    "test_id = df_reduced.reindex(test_index)['id'].to_numpy()\n",
    "dev_id = df_reduced.reindex(dev_index)['id'].to_numpy()\n",
    "train_id = df_reduced.reindex(train_index)['id'].to_numpy()"
   ]
  },
  {
   "cell_type": "code",
   "execution_count": 26,
   "metadata": {},
   "outputs": [],
   "source": [
    "df_test = df.loc[df['id'].isin(test_id)]\n",
    "df_dev = df.loc[df['id'].isin(dev_id)]\n",
    "df_train = df.loc[df['id'].isin(train_id)]"
   ]
  },
  {
   "cell_type": "code",
   "execution_count": 27,
   "metadata": {},
   "outputs": [
    {
     "name": "stderr",
     "output_type": "stream",
     "text": [
      "/home/joydoong/anaconda3/lib/python3.7/site-packages/ipykernel_launcher.py:1: SettingWithCopyWarning: \n",
      "A value is trying to be set on a copy of a slice from a DataFrame.\n",
      "Try using .loc[row_indexer,col_indexer] = value instead\n",
      "\n",
      "See the caveats in the documentation: https://pandas.pydata.org/pandas-docs/stable/user_guide/indexing.html#returning-a-view-versus-a-copy\n",
      "  \"\"\"Entry point for launching an IPython kernel.\n",
      "/home/joydoong/anaconda3/lib/python3.7/site-packages/ipykernel_launcher.py:2: SettingWithCopyWarning: \n",
      "A value is trying to be set on a copy of a slice from a DataFrame.\n",
      "Try using .loc[row_indexer,col_indexer] = value instead\n",
      "\n",
      "See the caveats in the documentation: https://pandas.pydata.org/pandas-docs/stable/user_guide/indexing.html#returning-a-view-versus-a-copy\n",
      "  \n",
      "/home/joydoong/anaconda3/lib/python3.7/site-packages/ipykernel_launcher.py:3: SettingWithCopyWarning: \n",
      "A value is trying to be set on a copy of a slice from a DataFrame.\n",
      "Try using .loc[row_indexer,col_indexer] = value instead\n",
      "\n",
      "See the caveats in the documentation: https://pandas.pydata.org/pandas-docs/stable/user_guide/indexing.html#returning-a-view-versus-a-copy\n",
      "  This is separate from the ipykernel package so we can avoid doing imports until\n"
     ]
    }
   ],
   "source": [
    "df_test['Depressed at Time'] = df_test['bdi_total'] > 10\n",
    "df_dev['Depressed at Time'] = df_dev['bdi_total'] > 10\n",
    "df_train['Depressed at Time'] = df_train['bdi_total'] > 10"
   ]
  },
  {
   "cell_type": "markdown",
   "metadata": {},
   "source": [
    "### PCA"
   ]
  },
  {
   "cell_type": "code",
   "execution_count": 28,
   "metadata": {},
   "outputs": [],
   "source": [
    "def get_df_name(df):\n",
    "    name =[x for x in globals() if globals()[x] is df][0]\n",
    "    return name"
   ]
  },
  {
   "cell_type": "code",
   "execution_count": 36,
   "metadata": {},
   "outputs": [],
   "source": [
    "df_test_PCA = df_test[['Depressed at Time']].reset_index().drop(columns = 'index')\n",
    "df_dev_PCA = df_dev[['Depressed at Time']].reset_index().drop(columns = 'index')\n",
    "df_train_PCA = df_train[['Depressed at Time']].reset_index().drop(columns = 'index')\n",
    "\n",
    "df_test_PCA_dict = {}\n",
    "df_train_PCA_dict = {}\n",
    "df_dev_PCA_dict = {}\n",
    "\n",
    "for df_sub in [df_metab, df_card, df_cyto, df_lipid, df_metpan]:\n",
    "    columns = df_sub.loc[:, df_sub.columns != 'Sample'].columns\n",
    "    \n",
    "    train_X = df_train[columns].values\n",
    "    dev_X = df_dev[columns].values\n",
    "    test_X = df_test[columns].values\n",
    "    \n",
    "    scaler = StandardScaler()\n",
    "    scaler.fit(train_X)\n",
    "    \n",
    "    train_X = scaler.transform(train_X)\n",
    "    dev_X = scaler.transform(dev_X)\n",
    "    test_X = scaler.transform(test_X)\n",
    "    \n",
    "    pca = PCA(n_components = 5)\n",
    "    fit = pca.fit(train_X)\n",
    "\n",
    "    train_X = pca.transform(train_X)\n",
    "    dev_X = pca.transform(dev_X)\n",
    "    test_X = pca.transform(test_X)\n",
    "    \n",
    "    num_PCA = np.shape(train_X)[1]\n",
    "    new_columns = [get_df_name(df_sub) + '_' + (item) for item in np.array(range(num_PCA)).astype(str)]\n",
    "    \n",
    "    \n",
    "    df_test_t = pd.DataFrame(test_X, columns = new_columns)\n",
    "    df_train_t = pd.DataFrame(train_X, columns = new_columns)\n",
    "    df_dev_t = pd.DataFrame(dev_X, columns = new_columns)\n",
    "    \n",
    "    df_test_PCA_dict[get_df_name(df_sub)] = pd.concat([df_test[['Depressed at Time']].reset_index().drop(columns = 'index'), df_test_t], axis=1)\n",
    "    df_train_PCA_dict[get_df_name(df_sub)] = pd.concat([df_train[['Depressed at Time']].reset_index().drop(columns = 'index'), df_train_t], axis=1)\n",
    "    df_dev_PCA_dict[get_df_name(df_sub)] = pd.concat([df_dev[['Depressed at Time']].reset_index().drop(columns = 'index'), df_dev_t], axis=1)\n",
    "    \n",
    "    df_test_PCA = pd.concat([df_test_PCA, df_test_t], axis=1)\n",
    "    df_train_PCA = pd.concat([df_train_PCA, df_train_t], axis=1)\n",
    "    df_dev_PCA = pd.concat([df_dev_PCA, df_dev_t], axis=1)"
   ]
  },
  {
   "cell_type": "code",
   "execution_count": 34,
   "metadata": {},
   "outputs": [
    {
     "name": "stdout",
     "output_type": "stream",
     "text": [
      "df_card [ 46.76696875  70.77875445  84.83907454  94.09554966  96.77966679\n",
      "  98.76141034  99.50311223  99.95210899  99.96771362  99.98188969\n",
      "  99.99051348  99.99599943  99.99949521 100.        ]\n",
      "df_cyto [ 64.96301588  79.51599153  89.26296522  93.97985122  97.84455648\n",
      "  99.72892551  99.91350416  99.97407855  99.99505527  99.998169\n",
      "  99.99952518  99.99991426 100.        ]\n",
      "df_metpan [ 37.18792929  70.30215799  88.66036723  93.82075663  96.12207974\n",
      "  97.82740489  99.35723429  99.73033734  99.87571071  99.95420534\n",
      "  99.97457665  99.98880052  99.99398743  99.9967908   99.99899818\n",
      " 100.        ]\n",
      "df_lipid [ 78.80262767  90.65364861  92.59440763  94.25508128  95.41015345\n",
      "  96.32024206  97.19377139  97.91276221  98.42088404  98.79594647\n",
      "  99.0250803   99.2386273   99.3814619   99.49829911  99.58496087\n",
      "  99.65743747  99.71709566  99.76186713  99.79484991  99.82481012\n",
      "  99.84876523  99.87037726  99.88891831  99.9040147   99.91456929\n",
      "  99.92354579  99.93130694  99.93890713  99.94500789  99.95045006\n",
      "  99.95565193  99.96017641  99.96428865  99.9676866   99.97100832\n",
      "  99.97406819  99.97663283  99.97889319  99.98108994  99.98281984\n",
      "  99.98436054  99.98575508  99.98691787  99.98805392  99.98899214\n",
      "  99.98988599  99.99073261  99.99151935  99.99223033  99.99282233\n",
      "  99.99339272  99.99385604  99.99429819  99.99470122  99.99507707\n",
      "  99.99540557  99.99572254  99.99601673  99.99629734  99.99654612\n",
      "  99.9967738   99.99698696  99.99719178  99.99738119  99.99755999\n",
      "  99.99772686  99.99789217  99.99803895  99.99817264  99.99830423\n",
      "  99.99843006  99.99854253  99.99864663  99.99874828  99.99884607\n",
      "  99.99894022  99.9990254   99.99910089  99.99916758  99.99923204\n",
      "  99.99929144  99.99934551  99.99939632  99.99944309  99.99948878\n",
      "  99.99953096  99.99957197  99.99960728  99.99963852  99.99966921\n",
      "  99.99969704  99.99972385  99.99974909  99.9997722   99.9997934\n",
      "  99.99981412  99.99983237  99.99984946  99.99986494  99.99987963\n",
      "  99.99989268  99.99990521  99.99991734  99.99992853  99.99993912\n",
      "  99.9999484   99.99995654  99.99996414  99.99997068  99.99997675\n",
      "  99.99998202  99.99998716  99.99999228  99.99999672 100.\n",
      " 100.         100.         100.         100.         100.\n",
      " 100.         100.         100.         100.         100.\n",
      " 100.         100.         100.        ]\n",
      "df_metab [ 40.08901508  59.42965339  70.53270549  77.77387016  81.76666401\n",
      "  84.80052566  87.01454941  88.64205622  89.95954864  91.21617397\n",
      "  92.08404393  92.92632491  93.61059991  94.22260479  94.75849886\n",
      "  95.23597364  95.6454538   96.01810161  96.33711943  96.61818786\n",
      "  96.88841832  97.14706256  97.37303911  97.58660968  97.79736367\n",
      "  97.96693469  98.13143391  98.28654831  98.42110399  98.54340563\n",
      "  98.66075383  98.76659054  98.85893434  98.93804058  99.01298776\n",
      "  99.08640589  99.15441595  99.21609946  99.2738643   99.33078527\n",
      "  99.37881062  99.42279606  99.46322196  99.49892811  99.53307746\n",
      "  99.56657691  99.59835423  99.62540014  99.65118139  99.67535896\n",
      "  99.69696776  99.71755548  99.73546092  99.75202787  99.76805513\n",
      "  99.7821737   99.79519136  99.80808026  99.81960335  99.82992223\n",
      "  99.83998734  99.84897665  99.85699598  99.86463525  99.87198753\n",
      "  99.87896635  99.8857282   99.89194486  99.89778794  99.90358373\n",
      "  99.90888266  99.91398808  99.91872955  99.92335858  99.92778554\n",
      "  99.93194236  99.93598428  99.93968868  99.94322491  99.9466711\n",
      "  99.94996522  99.95314358  99.95598764  99.95874465  99.9614331\n",
      "  99.96395431  99.96622617  99.96843115  99.97053092  99.97242098\n",
      "  99.97430652  99.97611666  99.97785274  99.97947247  99.98107325\n",
      "  99.98256927  99.9840204   99.98539752  99.98667898  99.98785224\n",
      "  99.98891927  99.98996518  99.99093499  99.99187533  99.99274499\n",
      "  99.99355244  99.99435278  99.99508882  99.99577774  99.99640777\n",
      "  99.99700906  99.9975933   99.99811417  99.99860395  99.99901748\n",
      "  99.99942208  99.99977206 100.         100.         100.\n",
      " 100.         100.         100.         100.         100.\n",
      " 100.         100.         100.        ]\n"
     ]
    },
    {
     "data": {
      "image/png": "[encoded data removed]",
      "text/plain": [
       "<Figure size 1080x288 with 6 Axes>"
      ]
     },
     "metadata": {
      "needs_background": "light"
     },
     "output_type": "display_data"
    }
   ],
   "source": [
    "### Graph explained variance \n",
    "fig, axes = plt.subplots(1, 5, sharex=True, sharey=True, figsize=(15,4))\n",
    "fig.add_subplot(111, frameon=False)\n",
    "\n",
    "index = 0\n",
    "for df_sub in [df_card, df_cyto, df_metpan, df_lipid, df_metab]:\n",
    "    columns = df_sub.loc[:, df_sub.columns != 'Sample'].columns\n",
    "    \n",
    "    train_X = df_train[columns].values\n",
    "\n",
    "    pca = PCA(0.95)\n",
    "    X_train_pca = pca.fit_transform(train_X)\n",
    "    exp_var_pca = pca.explained_variance_ratio_\n",
    "    print(get_df_name(df_sub), np.cumsum(exp_var_pca)*100)\n",
    "    cum_sum_eigenvalues = np.cumsum(exp_var_pca)\n",
    "\n",
    "    axes[index].step(range(0,len(exp_var_pca)), exp_var_pca, where='mid', label= get_df_name(df_sub) + ' Explained variance')\n",
    "    axes[index].set_title(get_df_name(df_sub))\n",
    "    #plt.bar(range(0,len(exp_var_pca)), exp_var_pca, alpha=0.5, align='center', label='Individual explained variance')\n",
    "    #plt.step(range(0,len(cum_sum_eigenvalues)), cum_sum_eigenvalues, where='mid',label='Cumulative explained variance')\n",
    "    #axes[index].legend(loc='best')\n",
    "    #axes.tight_layout()\n",
    "    \n",
    "    index += 1\n",
    "\n",
    "plt.tick_params(labelcolor='none', top=False, bottom=False, left=False, right=False)\n",
    "plt.grid(False)    \n",
    "plt.ylabel('Explained variance ratio')\n",
    "plt.xlabel('Principal component index')\n",
    "\n",
    "plt.show()"
   ]
  },
  {
   "cell_type": "markdown",
   "metadata": {},
   "source": [
    "### Export"
   ]
  },
  {
   "cell_type": "code",
   "execution_count": 37,
   "metadata": {},
   "outputs": [],
   "source": [
    "## Export\n",
    "df_test_PCA.to_csv('test_set_PCA_mild.csv', index=False)\n",
    "df_dev_PCA.to_csv('dev_set_PCA_mild.csv', index=False)\n",
    "df_train_PCA.to_csv('train_set_PCA_mild.csv', index=False)"
   ]
  },
  {
   "cell_type": "code",
   "execution_count": 52,
   "metadata": {},
   "outputs": [],
   "source": [
    "for thisdict in [df_test_PCA_dict, df_train_PCA_dict, df_dev_PCA_dict]:\n",
    "    for key, df in thisdict.items():\n",
    "        df.to_csv(get_df_name(thisdict) + '_' + key +'.csv', index=False)"
   ]
  },
  {
   "cell_type": "markdown",
   "metadata": {},
   "source": [
    "### Other stuff"
   ]
  },
  {
   "cell_type": "code",
   "execution_count": 15,
   "metadata": {},
   "outputs": [],
   "source": [
    "del df['Time']"
   ]
  },
  {
   "cell_type": "code",
   "execution_count": 17,
   "metadata": {},
   "outputs": [],
   "source": [
    "del df_test['id']\n",
    "del df_dev['id']\n",
    "del df_train['id']\n",
    "col_names = df_train.columns.values.tolist()"
   ]
  },
  {
   "cell_type": "code",
   "execution_count": 18,
   "metadata": {},
   "outputs": [],
   "source": [
    "def quanTran (df):\n",
    "    X = df.to_numpy()\n",
    "    qt_X = quantile_transform(X[:, 1:], axis = 0, n_quantiles=20, output_distribution='normal', copy=True)\n",
    "    set_qn = np.concatenate((X[:,:1], qt_X), axis=1)\n",
    "    return set_qn"
   ]
  },
  {
   "cell_type": "code",
   "execution_count": 19,
   "metadata": {},
   "outputs": [
    {
     "name": "stderr",
     "output_type": "stream",
     "text": [
      "/home/joydoong/anaconda3/lib/python3.7/site-packages/sklearn/preprocessing/_data.py:2357: UserWarning: n_quantiles (20) is greater than the total number of samples (19). n_quantiles is set to n_samples.\n",
      "  % (self.n_quantiles, n_samples))\n"
     ]
    }
   ],
   "source": [
    "df_train = pd.DataFrame(quanTran(df_train))\n",
    "df_dev = pd.DataFrame(quanTran(df_dev))\n",
    "df_test = pd.DataFrame(quanTran(df_test))"
   ]
  },
  {
   "cell_type": "code",
   "execution_count": 20,
   "metadata": {},
   "outputs": [],
   "source": [
    "df_train.columns = col_names\n",
    "df_dev.columns = col_names\n",
    "df_test.columns = col_names"
   ]
  },
  {
   "cell_type": "code",
   "execution_count": null,
   "metadata": {},
   "outputs": [],
   "source": []
  }
 ],
 "metadata": {
  "kernelspec": {
   "display_name": "Python 3",
   "language": "python",
   "name": "python3"
  },
  "language_info": {
   "codemirror_mode": {
    "name": "ipython",
    "version": 3
   },
   "file_extension": ".py",
   "mimetype": "text/x-python",
   "name": "python",
   "nbconvert_exporter": "python",
   "pygments_lexer": "ipython3",
   "version": "3.7.9"
  }
 },
 "nbformat": 4,
 "nbformat_minor": 4
}
