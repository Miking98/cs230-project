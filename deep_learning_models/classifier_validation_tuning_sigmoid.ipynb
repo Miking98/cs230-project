{
 "cells": [
  {
   "cell_type": "code",
   "execution_count": 2,
   "metadata": {},
   "outputs": [
    {
     "name": "stdout",
     "output_type": "stream",
     "text": [
      "WARNING:tensorflow:From /home/ubuntu/anaconda3/envs/tensorflow_p36/lib/python3.6/site-packages/tensorflow_core/__init__.py:1473: The name tf.estimator.inputs is deprecated. Please use tf.compat.v1.estimator.inputs instead.\n",
      "\n"
     ]
    }
   ],
   "source": [
    "import pandas as pd\n",
    "from tensorflow import keras\n",
    "from tensorflow.keras import layers\n",
    "from kerastuner.tuners import RandomSearch, BayesianOptimization\n",
    "import tensorflow as tf"
   ]
  },
  {
   "cell_type": "code",
   "execution_count": 3,
   "metadata": {},
   "outputs": [
    {
     "name": "stdout",
     "output_type": "stream",
     "text": [
      "<bound method NDFrame.head of      Depressed at Time  df_metab_0  df_metab_1  df_metab_2  df_metab_3  \\\n",
      "0                 True   45.789637   14.994401    2.792549   -7.301174   \n",
      "1                False   21.305736  -12.739211    2.414824  -22.494078   \n",
      "2                False  -11.160583    0.500590    1.948961  -18.053438   \n",
      "3                 True   -3.505071    3.023377  -14.520562    9.177950   \n",
      "4                False    2.370956   14.234072    6.691360    4.755687   \n",
      "..                 ...         ...         ...         ...         ...   \n",
      "123              False    0.125152   -2.485553   -3.342023  -20.668625   \n",
      "124              False  -16.114327  -22.152604  -23.709256  -18.545960   \n",
      "125              False   36.381486    6.960738   11.266882    9.134153   \n",
      "126              False   -2.210158   12.276662  -22.779149   -9.248137   \n",
      "127              False   -1.710068   17.256411   11.794209    3.967151   \n",
      "\n",
      "     df_metab_4  df_metab_5  df_metab_6  df_metab_7  df_metab_8  ...  \\\n",
      "0      2.979374   -0.913556  -10.229722    3.839571   15.237508  ...   \n",
      "1     -5.710027   10.182443   -2.451668   -3.366818    7.031764  ...   \n",
      "2    -22.711004    6.541365    8.366531    7.116829    3.615027  ...   \n",
      "3     18.387869   12.611491   22.909826  -14.280988    7.079911  ...   \n",
      "4    -13.289094    7.853948    3.019834   -6.235657   19.070766  ...   \n",
      "..          ...         ...         ...         ...         ...  ...   \n",
      "123  -18.670531    5.270886   -4.055267    2.862509    0.817288  ...   \n",
      "124    0.272989   13.098050    5.441518   10.134082   -1.369082  ...   \n",
      "125   -6.859981    9.456483   -4.870111   -5.522212    2.868580  ...   \n",
      "126    7.348845  -19.683558   -0.544539    1.439142   -4.806192  ...   \n",
      "127   -7.073977   -9.116868   -5.906614    7.947229   18.566477  ...   \n",
      "\n",
      "     df_metab_78  df_metab_79  df_metab_80  df_metab_81  df_metab_82  \\\n",
      "0       2.750456    -2.901403     2.759620     4.480938    -3.582663   \n",
      "1       0.746035    -3.707440    -3.891046     2.684485     1.616988   \n",
      "2      -3.010996     3.635648     2.193355    -0.330299     2.823601   \n",
      "3       1.473849     2.262273    -0.203101    -1.807046    -0.316681   \n",
      "4      -0.127521     6.901653     1.268451     2.524945    -4.171543   \n",
      "..           ...          ...          ...          ...          ...   \n",
      "123     3.374207    -5.931721     3.062149     0.672421     1.207607   \n",
      "124    -4.339506    -1.992364     7.603839    -6.410090    -3.162364   \n",
      "125     2.539126     2.637960     2.235438     7.316500    -0.781183   \n",
      "126     5.400679     1.746592     1.580690    -1.207701     5.422559   \n",
      "127    -2.462806    -7.314410    16.402393     3.365966    -5.370727   \n",
      "\n",
      "     df_metab_83  df_metab_84  df_metab_85  df_metab_86  df_metab_87  \n",
      "0       0.469317     2.597935     0.159220     1.182358     0.696594  \n",
      "1       7.790377    -2.911657    -4.501589    -1.852580     0.191722  \n",
      "2       0.095792     5.084015     0.590115     2.170341    -2.478937  \n",
      "3       0.862496    -0.264648    -0.053904     0.513610    -0.644546  \n",
      "4       5.412390     3.531698    -7.274978     2.053378     3.030161  \n",
      "..           ...          ...          ...          ...          ...  \n",
      "123     1.341304    -4.681336     0.246370     6.649690    -2.093643  \n",
      "124    -5.106574     3.192732     4.019709     2.678097    -2.778203  \n",
      "125   -12.050419     6.648556    -5.598400     0.625768    -0.343988  \n",
      "126     0.502694     0.705520    -0.922350    -4.528967    -0.092109  \n",
      "127     4.905531    -1.799308    -3.315816    -0.114056    -4.228800  \n",
      "\n",
      "[128 rows x 89 columns]>\n"
     ]
    }
   ],
   "source": [
    "df_train = pd.read_csv('/home/ubuntu/cs230-project/data_sub_PCA_mild/df_train_PCA_dict_df_metab.csv')\n",
    "print (df_train.head)"
   ]
  },
  {
   "cell_type": "code",
   "execution_count": 4,
   "metadata": {},
   "outputs": [],
   "source": [
    "y_train = df_train.iloc[:,0]\n",
    "X_train = df_train.iloc[:,1:]"
   ]
  },
  {
   "cell_type": "code",
   "execution_count": 5,
   "metadata": {},
   "outputs": [
    {
     "name": "stdout",
     "output_type": "stream",
     "text": [
      "25\n"
     ]
    }
   ],
   "source": [
    "# one-hot encoding\n",
    "y_train = pd.get_dummies(y_train)[True]\n",
    "print (y_train.sum())"
   ]
  },
  {
   "cell_type": "code",
   "execution_count": 6,
   "metadata": {},
   "outputs": [
    {
     "name": "stdout",
     "output_type": "stream",
     "text": [
      "(128,)\n",
      "(128, 88)\n"
     ]
    }
   ],
   "source": [
    "print (y_train.shape)\n",
    "print (X_train.shape)"
   ]
  },
  {
   "cell_type": "code",
   "execution_count": 7,
   "metadata": {},
   "outputs": [
    {
     "name": "stdout",
     "output_type": "stream",
     "text": [
      "(37, 89)\n"
     ]
    }
   ],
   "source": [
    "df_dev = pd.read_csv('/home/ubuntu/cs230-project/data_sub_PCA_mild/df_dev_PCA_dict_df_metab.csv')\n",
    "print (df_dev.shape)"
   ]
  },
  {
   "cell_type": "code",
   "execution_count": 8,
   "metadata": {},
   "outputs": [],
   "source": [
    "y_dev = df_dev.iloc[:,0]\n",
    "y_dev = pd.get_dummies(y_dev)[True]\n",
    "X_dev = df_dev.iloc[:,1:]"
   ]
  },
  {
   "cell_type": "code",
   "execution_count": 9,
   "metadata": {},
   "outputs": [
    {
     "name": "stdout",
     "output_type": "stream",
     "text": [
      "(37,)\n",
      "(37, 88)\n",
      "5\n"
     ]
    }
   ],
   "source": [
    "print (y_dev.shape)\n",
    "print (X_dev.shape)\n",
    "print (y_dev.sum())"
   ]
  },
  {
   "cell_type": "code",
   "execution_count": 10,
   "metadata": {},
   "outputs": [],
   "source": [
    "def build_model(hp):\n",
    "    model = keras.Sequential()\n",
    "    model.add(layers.Dropout(0.1))\n",
    "    model.add(layers.Dense(units=70, activation='relu',\n",
    "                          kernel_regularizer = keras.regularizers.l2(hp.Float('l2_dns1',0, 0.02, step=0.001))))\n",
    "    model.add(layers.Dropout(hp.Float('dropout1', 0, 0.5, step = 0.1)))\n",
    "    model.add(layers.Dense(units=20, activation='relu',\n",
    "                          kernel_regularizer = keras.regularizers.l2(hp.Float('l2_dns2',0, 0.02, step=0.001))))\n",
    "    model.add(layers.Dropout(hp.Float('dropout2', 0, 0.5, step = 0.1)))\n",
    "    #model.add(layers.Dense(2, activation = 'softmax')) #2 for binary classification\n",
    "    model.add(layers.Dense(1, activation='sigmoid'))\n",
    "    \n",
    "    metrics_list = [\n",
    "        tf.keras.metrics.BinaryAccuracy(),\n",
    "        tf.keras.metrics.Precision(name=\"precision\"),\n",
    "        tf.keras.metrics.Recall(name=\"recall\"),\n",
    "    ]\n",
    "    \n",
    "    model.compile(\n",
    "        optimizer = keras.optimizers.RMSprop(\n",
    "        learning_rate = 0.001,\n",
    "        rho = 0.75,\n",
    "        momentum = 0.15),\n",
    "        loss = 'binary_crossentropy',\n",
    "        metrics = metrics_list)\n",
    "    \n",
    "    return model"
   ]
  },
  {
   "cell_type": "code",
   "execution_count": 11,
   "metadata": {},
   "outputs": [
    {
     "name": "stdout",
     "output_type": "stream",
     "text": [
      "WARNING:tensorflow:From /home/ubuntu/anaconda3/envs/tensorflow_p36/lib/python3.6/site-packages/tensorflow_core/python/ops/resource_variable_ops.py:1630: calling BaseResourceVariable.__init__ (from tensorflow.python.ops.resource_variable_ops) with constraint is deprecated and will be removed in a future version.\n",
      "Instructions for updating:\n",
      "If using Keras pass *_constraint arguments to layers.\n"
     ]
    }
   ],
   "source": [
    "#tuner = RandomSearch(\n",
    "tuner = BayesianOptimization(\n",
    "    build_model,\n",
    "    objective = 'val_binary_accuracy',\n",
    "    max_trials = 5,\n",
    "    executions_per_trial = 3,\n",
    "    directory = 'Metabolomics_dev_mild')"
   ]
  },
  {
   "cell_type": "code",
   "execution_count": 12,
   "metadata": {},
   "outputs": [
    {
     "name": "stdout",
     "output_type": "stream",
     "text": [
      "WARNING:tensorflow:From /home/ubuntu/anaconda3/envs/tensorflow_p36/lib/python3.6/site-packages/tensorflow_core/python/ops/nn_impl.py:183: where (from tensorflow.python.ops.array_ops) is deprecated and will be removed in a future version.\n",
      "Instructions for updating:\n",
      "Use tf.where in 2.0, which has the same broadcast rule as np.where\n",
      "Train on 128 samples, validate on 37 samples\n",
      "Epoch 1/5\n",
      "128/128 [==============================] - ETA: 0s - loss: 2.9891 - binary_accuracy: 0.5625 - precision: 0.2000 - recall: 0.60 - 1s 4ms/sample - loss: 2.7386 - binary_accuracy: 0.6562 - precision: 0.2432 - recall: 0.3600 - val_loss: 6.4587 - val_binary_accuracy: 0.7027 - val_precision: 0.2000 - val_recall: 0.4000\n",
      "Epoch 2/5\n",
      "128/128 [==============================] - ETA: 0s - loss: 1.6467 - binary_accuracy: 0.8125 - precision: 0.3333 - recall: 0.20 - 0s 262us/sample - loss: 2.3732 - binary_accuracy: 0.6875 - precision: 0.2414 - recall: 0.2800 - val_loss: 6.1494 - val_binary_accuracy: 0.7297 - val_precision: 0.2222 - val_recall: 0.4000\n",
      "Epoch 3/5\n",
      "128/128 [==============================] - ETA: 0s - loss: 2.2488 - binary_accuracy: 0.7500 - precision: 0.4444 - recall: 0.57 - 0s 249us/sample - loss: 2.1868 - binary_accuracy: 0.7422 - precision: 0.3571 - recall: 0.4000 - val_loss: 5.7800 - val_binary_accuracy: 0.7568 - val_precision: 0.2500 - val_recall: 0.4000\n",
      "Epoch 4/5\n",
      "128/128 [==============================] - ETA: 0s - loss: 1.5977 - binary_accuracy: 0.8125 - precision: 0.5000 - recall: 0.50 - 0s 185us/sample - loss: 2.0784 - binary_accuracy: 0.7891 - precision: 0.4500 - recall: 0.3600 - val_loss: 5.7722 - val_binary_accuracy: 0.7568 - val_precision: 0.2500 - val_recall: 0.4000\n",
      "Epoch 5/5\n",
      "128/128 [==============================] - ETA: 0s - loss: 1.8511 - binary_accuracy: 0.7812 - precision: 0.7500 - recall: 0.54 - 0s 181us/sample - loss: 1.8656 - binary_accuracy: 0.7812 - precision: 0.4444 - recall: 0.4800 - val_loss: 5.4229 - val_binary_accuracy: 0.7568 - val_precision: 0.2500 - val_recall: 0.4000\n",
      "Train on 128 samples, validate on 37 samples\n",
      "Epoch 1/5\n",
      "128/128 [==============================] - ETA: 0s - loss: 3.3320 - binary_accuracy: 0.5000 - precision: 0.3182 - recall: 0.87 - 0s 2ms/sample - loss: 3.2816 - binary_accuracy: 0.4766 - precision: 0.2083 - recall: 0.6000 - val_loss: 3.7678 - val_binary_accuracy: 0.7568 - val_precision: 0.0000e+00 - val_recall: 0.0000e+00\n",
      "Epoch 2/5\n",
      "128/128 [==============================] - ETA: 0s - loss: 3.0513 - binary_accuracy: 0.5938 - precision: 0.3333 - recall: 0.30 - 0s 786us/sample - loss: 2.8929 - binary_accuracy: 0.6094 - precision: 0.1795 - recall: 0.2800 - val_loss: 3.7569 - val_binary_accuracy: 0.8108 - val_precision: 0.0000e+00 - val_recall: 0.0000e+00\n",
      "Epoch 3/5\n",
      "128/128 [==============================] - ETA: 0s - loss: 3.6529 - binary_accuracy: 0.4688 - precision: 0.1667 - recall: 0.22 - 0s 190us/sample - loss: 2.6629 - binary_accuracy: 0.6250 - precision: 0.2051 - recall: 0.3200 - val_loss: 4.0663 - val_binary_accuracy: 0.8108 - val_precision: 0.0000e+00 - val_recall: 0.0000e+00\n",
      "Epoch 4/5\n",
      "128/128 [==============================] - ETA: 0s - loss: 2.1925 - binary_accuracy: 0.7500 - precision: 0.3750 - recall: 0.50 - 0s 231us/sample - loss: 2.0039 - binary_accuracy: 0.7109 - precision: 0.3125 - recall: 0.4000 - val_loss: 4.3203 - val_binary_accuracy: 0.8378 - val_precision: 0.0000e+00 - val_recall: 0.0000e+00\n",
      "Epoch 5/5\n",
      "128/128 [==============================] - ETA: 0s - loss: 2.1730 - binary_accuracy: 0.7188 - precision: 0.2500 - recall: 0.40 - 0s 182us/sample - loss: 2.3153 - binary_accuracy: 0.7031 - precision: 0.2593 - recall: 0.2800 - val_loss: 4.3234 - val_binary_accuracy: 0.8378 - val_precision: 0.0000e+00 - val_recall: 0.0000e+00\n",
      "Train on 128 samples, validate on 37 samples\n",
      "Epoch 1/5\n",
      "128/128 [==============================] - ETA: 0s - loss: 4.3700 - binary_accuracy: 0.3750 - precision: 0.0833 - recall: 0.10 - 0s 2ms/sample - loss: 4.2174 - binary_accuracy: 0.4219 - precision: 0.0984 - recall: 0.2400 - val_loss: 5.8138 - val_binary_accuracy: 0.6757 - val_precision: 0.0000e+00 - val_recall: 0.0000e+00\n",
      "Epoch 2/5\n",
      "128/128 [==============================] - ETA: 0s - loss: 2.9013 - binary_accuracy: 0.6562 - precision: 0.1667 - recall: 0.66 - 0s 182us/sample - loss: 3.4129 - binary_accuracy: 0.6172 - precision: 0.1842 - recall: 0.2800 - val_loss: 5.7605 - val_binary_accuracy: 0.7297 - val_precision: 0.0000e+00 - val_recall: 0.0000e+00\n",
      "Epoch 3/5\n",
      "128/128 [==============================] - ETA: 0s - loss: 2.3113 - binary_accuracy: 0.6875 - precision: 0.2000 - recall: 0.50 - 0s 172us/sample - loss: 2.6552 - binary_accuracy: 0.6484 - precision: 0.1667 - recall: 0.2000 - val_loss: 5.7420 - val_binary_accuracy: 0.7838 - val_precision: 0.0000e+00 - val_recall: 0.0000e+00\n",
      "Epoch 4/5\n",
      "128/128 [==============================] - ETA: 0s - loss: 3.2666 - binary_accuracy: 0.6562 - precision: 0.2000 - recall: 0.12 - 0s 173us/sample - loss: 3.0175 - binary_accuracy: 0.6172 - precision: 0.1000 - recall: 0.1200 - val_loss: 5.3877 - val_binary_accuracy: 0.8108 - val_precision: 0.0000e+00 - val_recall: 0.0000e+00\n",
      "Epoch 5/5\n",
      "128/128 [==============================] - ETA: 0s - loss: 2.4328 - binary_accuracy: 0.6250 - precision: 0.1667 - recall: 0.12 - 0s 811us/sample - loss: 2.5267 - binary_accuracy: 0.6172 - precision: 0.1471 - recall: 0.2000 - val_loss: 5.3520 - val_binary_accuracy: 0.8649 - val_precision: 0.0000e+00 - val_recall: 0.0000e+00\n"
     ]
    },
    {
     "data": {
      "text/html": [
       "<span style=\"color:#4527A0\"><h1 style=\"font-size:18px\">Trial complete</h1></span>"
      ],
      "text/plain": [
       "<IPython.core.display.HTML object>"
      ]
     },
     "metadata": {},
     "output_type": "display_data"
    },
    {
     "data": {
      "text/html": [
       "<span style=\"color:#4527A0\"><h1 style=\"font-size:18px\">Trial summary</h1></span>"
      ],
      "text/plain": [
       "<IPython.core.display.HTML object>"
      ]
     },
     "metadata": {},
     "output_type": "display_data"
    },
    {
     "data": {
      "text/html": [
       "<span style=\"color:cyan\"> |-Trial ID: 44320c828723dcf7b9075f89ce6b706f</span>"
      ],
      "text/plain": [
       "<IPython.core.display.HTML object>"
      ]
     },
     "metadata": {},
     "output_type": "display_data"
    },
    {
     "data": {
      "text/html": [
       "<span style=\"color:cyan\"> |-Score: 0.8198198676109314</span>"
      ],
      "text/plain": [
       "<IPython.core.display.HTML object>"
      ]
     },
     "metadata": {},
     "output_type": "display_data"
    },
    {
     "data": {
      "text/html": [
       "<span style=\"color:cyan\"> |-Best step: 0</span>"
      ],
      "text/plain": [
       "<IPython.core.display.HTML object>"
      ]
     },
     "metadata": {},
     "output_type": "display_data"
    },
    {
     "data": {
      "text/html": [
       "<span style=\"color:#7E57C2\"><h2 style=\"font-size:16px\">Hyperparameters:</h2></span>"
      ],
      "text/plain": [
       "<IPython.core.display.HTML object>"
      ]
     },
     "metadata": {},
     "output_type": "display_data"
    },
    {
     "data": {
      "text/html": [
       "<span style=\"color:cyan\"> |-dropout1: 0.2</span>"
      ],
      "text/plain": [
       "<IPython.core.display.HTML object>"
      ]
     },
     "metadata": {},
     "output_type": "display_data"
    },
    {
     "data": {
      "text/html": [
       "<span style=\"color:blue\"> |-dropout2: 0.1</span>"
      ],
      "text/plain": [
       "<IPython.core.display.HTML object>"
      ]
     },
     "metadata": {},
     "output_type": "display_data"
    },
    {
     "data": {
      "text/html": [
       "<span style=\"color:cyan\"> |-l2_dns1: 0.013000000000000001</span>"
      ],
      "text/plain": [
       "<IPython.core.display.HTML object>"
      ]
     },
     "metadata": {},
     "output_type": "display_data"
    },
    {
     "data": {
      "text/html": [
       "<span style=\"color:blue\"> |-l2_dns2: 0.003</span>"
      ],
      "text/plain": [
       "<IPython.core.display.HTML object>"
      ]
     },
     "metadata": {},
     "output_type": "display_data"
    },
    {
     "name": "stdout",
     "output_type": "stream",
     "text": [
      "Train on 128 samples, validate on 37 samples\n",
      "Epoch 1/5\n",
      "128/128 [==============================] - ETA: 0s - loss: 15.2230 - binary_accuracy: 0.2188 - precision: 0.1724 - recall: 0.833 - 0s 3ms/sample - loss: 12.7256 - binary_accuracy: 0.2344 - precision: 0.1983 - recall: 0.9600 - val_loss: 20.0772 - val_binary_accuracy: 0.1351 - val_precision: 0.0909 - val_recall: 0.6000\n",
      "Epoch 2/5\n",
      "128/128 [==============================] - ETA: 0s - loss: 11.0005 - binary_accuracy: 0.3438 - precision: 0.3000 - recall: 1.000 - 0s 237us/sample - loss: 9.0722 - binary_accuracy: 0.3125 - precision: 0.2162 - recall: 0.9600 - val_loss: 15.9051 - val_binary_accuracy: 0.1892 - val_precision: 0.0690 - val_recall: 0.4000\n",
      "Epoch 3/5\n",
      "128/128 [==============================] - ETA: 0s - loss: 7.0067 - binary_accuracy: 0.5000 - precision: 0.3600 - recall: 1.00 - 0s 214us/sample - loss: 6.8028 - binary_accuracy: 0.3438 - precision: 0.2136 - recall: 0.8800 - val_loss: 13.1023 - val_binary_accuracy: 0.2162 - val_precision: 0.0714 - val_recall: 0.4000\n",
      "Epoch 4/5\n",
      "128/128 [==============================] - ETA: 0s - loss: 6.0314 - binary_accuracy: 0.4062 - precision: 0.1000 - recall: 0.66 - 0s 218us/sample - loss: 5.3107 - binary_accuracy: 0.4531 - precision: 0.2000 - recall: 0.6000 - val_loss: 10.6802 - val_binary_accuracy: 0.2703 - val_precision: 0.0417 - val_recall: 0.2000\n",
      "Epoch 5/5\n",
      "128/128 [==============================] - ETA: 0s - loss: 4.2867 - binary_accuracy: 0.5625 - precision: 0.2500 - recall: 0.66 - 0s 220us/sample - loss: 4.0173 - binary_accuracy: 0.5000 - precision: 0.2329 - recall: 0.6800 - val_loss: 9.3180 - val_binary_accuracy: 0.3784 - val_precision: 0.0500 - val_recall: 0.2000\n",
      "Train on 128 samples, validate on 37 samples\n",
      "Epoch 1/5\n",
      "128/128 [==============================] - ETA: 0s - loss: 6.3548 - binary_accuracy: 0.2500 - precision: 0.1481 - recall: 0.80 - 0s 3ms/sample - loss: 5.1942 - binary_accuracy: 0.4141 - precision: 0.2222 - recall: 0.8000 - val_loss: 4.3079 - val_binary_accuracy: 0.5946 - val_precision: 0.2500 - val_recall: 1.0000\n",
      "Epoch 2/5\n",
      "128/128 [==============================] - ETA: 0s - loss: 3.0057 - binary_accuracy: 0.5938 - precision: 0.1429 - recall: 0.66 - 0s 234us/sample - loss: 3.4045 - binary_accuracy: 0.5703 - precision: 0.2321 - recall: 0.5200 - val_loss: 3.0258 - val_binary_accuracy: 0.7297 - val_precision: 0.3077 - val_recall: 0.8000\n",
      "Epoch 3/5\n",
      "128/128 [==============================] - ETA: 0s - loss: 3.3434 - binary_accuracy: 0.5000 - precision: 0.2667 - recall: 0.44 - 0s 223us/sample - loss: 3.2389 - binary_accuracy: 0.6094 - precision: 0.2727 - recall: 0.6000 - val_loss: 2.7433 - val_binary_accuracy: 0.7838 - val_precision: 0.2857 - val_recall: 0.4000\n",
      "Epoch 4/5\n",
      "128/128 [==============================] - ETA: 0s - loss: 3.1268 - binary_accuracy: 0.6875 - precision: 0.3750 - recall: 0.37 - 0s 215us/sample - loss: 2.7995 - binary_accuracy: 0.7344 - precision: 0.3043 - recall: 0.2800 - val_loss: 3.2352 - val_binary_accuracy: 0.8649 - val_precision: 0.5000 - val_recall: 0.4000\n",
      "Epoch 5/5\n",
      "128/128 [==============================] - ETA: 0s - loss: 2.4837 - binary_accuracy: 0.7500 - precision: 0.0000e+00 - recall: 0.0000e+ - 0s 216us/sample - loss: 2.6569 - binary_accuracy: 0.6719 - precision: 0.2424 - recall: 0.3200 - val_loss: 3.7807 - val_binary_accuracy: 0.8919 - val_precision: 0.6667 - val_recall: 0.4000\n",
      "Train on 128 samples, validate on 37 samples\n",
      "Epoch 1/5\n",
      "128/128 [==============================] - ETA: 0s - loss: 2.9089 - binary_accuracy: 0.6562 - precision: 0.2000 - recall: 0.40 - 0s 2ms/sample - loss: 2.7320 - binary_accuracy: 0.7266 - precision: 0.3611 - recall: 0.5200 - val_loss: 3.3823 - val_binary_accuracy: 0.7838 - val_precision: 0.2000 - val_recall: 0.2000\n",
      "Epoch 2/5\n",
      "128/128 [==============================] - ETA: 0s - loss: 2.6676 - binary_accuracy: 0.7812 - precision: 0.2500 - recall: 0.20 - 0s 184us/sample - loss: 2.8392 - binary_accuracy: 0.7344 - precision: 0.3448 - recall: 0.4000 - val_loss: 3.2422 - val_binary_accuracy: 0.7027 - val_precision: 0.0000e+00 - val_recall: 0.0000e+00\n",
      "Epoch 3/5\n",
      "128/128 [==============================] - ETA: 0s - loss: 2.3641 - binary_accuracy: 0.8125 - precision: 0.2500 - recall: 1.00 - 0s 178us/sample - loss: 2.7853 - binary_accuracy: 0.7344 - precision: 0.3333 - recall: 0.3600 - val_loss: 3.2024 - val_binary_accuracy: 0.7838 - val_precision: 0.0000e+00 - val_recall: 0.0000e+00\n",
      "Epoch 4/5\n",
      "128/128 [==============================] - ETA: 0s - loss: 2.5045 - binary_accuracy: 0.8125 - precision: 0.6667 - recall: 0.28 - 0s 181us/sample - loss: 2.4788 - binary_accuracy: 0.7969 - precision: 0.4706 - recall: 0.3200 - val_loss: 2.6937 - val_binary_accuracy: 0.7568 - val_precision: 0.0000e+00 - val_recall: 0.0000e+00\n",
      "Epoch 5/5\n",
      "128/128 [==============================] - ETA: 0s - loss: 2.4418 - binary_accuracy: 0.7812 - precision: 0.4000 - recall: 0.33 - 0s 184us/sample - loss: 2.2196 - binary_accuracy: 0.8125 - precision: 0.5217 - recall: 0.4800 - val_loss: 2.7060 - val_binary_accuracy: 0.7568 - val_precision: 0.0000e+00 - val_recall: 0.0000e+00\n"
     ]
    },
    {
     "data": {
      "text/html": [
       "<span style=\"color:#4527A0\"><h1 style=\"font-size:18px\">Trial complete</h1></span>"
      ],
      "text/plain": [
       "<IPython.core.display.HTML object>"
      ]
     },
     "metadata": {},
     "output_type": "display_data"
    },
    {
     "data": {
      "text/html": [
       "<span style=\"color:#4527A0\"><h1 style=\"font-size:18px\">Trial summary</h1></span>"
      ],
      "text/plain": [
       "<IPython.core.display.HTML object>"
      ]
     },
     "metadata": {},
     "output_type": "display_data"
    },
    {
     "data": {
      "text/html": [
       "<span style=\"color:cyan\"> |-Trial ID: 9c62f5b1fe68ab73e1349ab0bf80731c</span>"
      ],
      "text/plain": [
       "<IPython.core.display.HTML object>"
      ]
     },
     "metadata": {},
     "output_type": "display_data"
    },
    {
     "data": {
      "text/html": [
       "<span style=\"color:cyan\"> |-Score: 0.6846847534179688</span>"
      ],
      "text/plain": [
       "<IPython.core.display.HTML object>"
      ]
     },
     "metadata": {},
     "output_type": "display_data"
    },
    {
     "data": {
      "text/html": [
       "<span style=\"color:cyan\"> |-Best step: 0</span>"
      ],
      "text/plain": [
       "<IPython.core.display.HTML object>"
      ]
     },
     "metadata": {},
     "output_type": "display_data"
    },
    {
     "data": {
      "text/html": [
       "<span style=\"color:#7E57C2\"><h2 style=\"font-size:16px\">Hyperparameters:</h2></span>"
      ],
      "text/plain": [
       "<IPython.core.display.HTML object>"
      ]
     },
     "metadata": {},
     "output_type": "display_data"
    },
    {
     "data": {
      "text/html": [
       "<span style=\"color:cyan\"> |-dropout1: 0.1</span>"
      ],
      "text/plain": [
       "<IPython.core.display.HTML object>"
      ]
     },
     "metadata": {},
     "output_type": "display_data"
    },
    {
     "data": {
      "text/html": [
       "<span style=\"color:blue\"> |-dropout2: 0.30000000000000004</span>"
      ],
      "text/plain": [
       "<IPython.core.display.HTML object>"
      ]
     },
     "metadata": {},
     "output_type": "display_data"
    },
    {
     "data": {
      "text/html": [
       "<span style=\"color:cyan\"> |-l2_dns1: 0.013000000000000001</span>"
      ],
      "text/plain": [
       "<IPython.core.display.HTML object>"
      ]
     },
     "metadata": {},
     "output_type": "display_data"
    },
    {
     "data": {
      "text/html": [
       "<span style=\"color:blue\"> |-l2_dns2: 0.019</span>"
      ],
      "text/plain": [
       "<IPython.core.display.HTML object>"
      ]
     },
     "metadata": {},
     "output_type": "display_data"
    },
    {
     "name": "stdout",
     "output_type": "stream",
     "text": [
      "Train on 128 samples, validate on 37 samples\n",
      "Epoch 1/5\n",
      "128/128 [==============================] - ETA: 0s - loss: 4.6655 - binary_accuracy: 0.3750 - precision: 0.0588 - recall: 0.20 - 0s 3ms/sample - loss: 3.6386 - binary_accuracy: 0.4766 - precision: 0.0962 - recall: 0.2000 - val_loss: 6.0845 - val_binary_accuracy: 0.7838 - val_precision: 0.0000e+00 - val_recall: 0.0000e+00\n",
      "Epoch 2/5\n",
      "128/128 [==============================] - ETA: 0s - loss: 3.1338 - binary_accuracy: 0.5938 - precision: 0.2500 - recall: 0.22 - 0s 229us/sample - loss: 3.1758 - binary_accuracy: 0.6172 - precision: 0.1667 - recall: 0.2400 - val_loss: 6.3712 - val_binary_accuracy: 0.8108 - val_precision: 0.0000e+00 - val_recall: 0.0000e+00\n",
      "Epoch 3/5\n",
      "128/128 [==============================] - ETA: 0s - loss: 1.8446 - binary_accuracy: 0.7188 - precision: 0.0000e+00 - recall: 0.0000e+ - 0s 180us/sample - loss: 2.7513 - binary_accuracy: 0.6406 - precision: 0.1111 - recall: 0.1200 - val_loss: 5.9000 - val_binary_accuracy: 0.8108 - val_precision: 0.0000e+00 - val_recall: 0.0000e+00\n",
      "Epoch 4/5\n",
      "128/128 [==============================] - ETA: 0s - loss: 2.5613 - binary_accuracy: 0.6875 - precision: 0.0000e+00 - recall: 0.0000e+ - 0s 181us/sample - loss: 2.4375 - binary_accuracy: 0.6797 - precision: 0.1923 - recall: 0.2000 - val_loss: 5.7666 - val_binary_accuracy: 0.8108 - val_precision: 0.0000e+00 - val_recall: 0.0000e+00\n",
      "Epoch 5/5\n",
      "128/128 [==============================] - ETA: 0s - loss: 2.4513 - binary_accuracy: 0.7188 - precision: 0.3333 - recall: 0.50 - 0s 174us/sample - loss: 2.2888 - binary_accuracy: 0.7031 - precision: 0.2174 - recall: 0.2000 - val_loss: 5.5092 - val_binary_accuracy: 0.8108 - val_precision: 0.0000e+00 - val_recall: 0.0000e+00\n",
      "Train on 128 samples, validate on 37 samples\n",
      "Epoch 1/5\n",
      "128/128 [==============================] - ETA: 0s - loss: 8.8903 - binary_accuracy: 0.2500 - precision: 0.0833 - recall: 0.50 - 0s 2ms/sample - loss: 5.7867 - binary_accuracy: 0.4375 - precision: 0.1948 - recall: 0.6000 - val_loss: 8.2634 - val_binary_accuracy: 0.4324 - val_precision: 0.1000 - val_recall: 0.4000\n",
      "Epoch 2/5\n",
      "128/128 [==============================] - ETA: 0s - loss: 3.1895 - binary_accuracy: 0.6875 - precision: 0.3333 - recall: 1.00 - 0s 180us/sample - loss: 3.6690 - binary_accuracy: 0.5547 - precision: 0.2037 - recall: 0.4400 - val_loss: 6.8722 - val_binary_accuracy: 0.6486 - val_precision: 0.0000e+00 - val_recall: 0.0000e+00\n",
      "Epoch 3/5\n",
      "128/128 [==============================] - ETA: 0s - loss: 3.4435 - binary_accuracy: 0.5625 - precision: 0.2857 - recall: 0.50 - 0s 181us/sample - loss: 3.1876 - binary_accuracy: 0.6250 - precision: 0.2326 - recall: 0.4000 - val_loss: 7.8774 - val_binary_accuracy: 0.6757 - val_precision: 0.0000e+00 - val_recall: 0.0000e+00\n",
      "Epoch 4/5\n",
      "128/128 [==============================] - ETA: 0s - loss: 2.2673 - binary_accuracy: 0.8125 - precision: 0.2500 - recall: 0.25 - 0s 178us/sample - loss: 2.4951 - binary_accuracy: 0.7734 - precision: 0.4231 - recall: 0.4400 - val_loss: 8.8050 - val_binary_accuracy: 0.7027 - val_precision: 0.0000e+00 - val_recall: 0.0000e+00\n",
      "Epoch 5/5\n",
      "128/128 [==============================] - ETA: 0s - loss: 3.1363 - binary_accuracy: 0.7188 - precision: 0.2000 - recall: 0.16 - 0s 183us/sample - loss: 2.7097 - binary_accuracy: 0.6875 - precision: 0.2222 - recall: 0.2400 - val_loss: 8.8039 - val_binary_accuracy: 0.6757 - val_precision: 0.0000e+00 - val_recall: 0.0000e+00\n",
      "Train on 128 samples, validate on 37 samples\n",
      "Epoch 1/5\n",
      "128/128 [==============================] - ETA: 0s - loss: 7.4088 - binary_accuracy: 0.2188 - precision: 0.1481 - recall: 0.66 - 0s 2ms/sample - loss: 4.9285 - binary_accuracy: 0.3594 - precision: 0.1647 - recall: 0.5600 - val_loss: 6.3055 - val_binary_accuracy: 0.6486 - val_precision: 0.2143 - val_recall: 0.6000\n",
      "Epoch 2/5\n",
      "128/128 [==============================] - ETA: 0s - loss: 3.7564 - binary_accuracy: 0.4375 - precision: 0.2000 - recall: 0.66 - 0s 180us/sample - loss: 3.2425 - binary_accuracy: 0.5078 - precision: 0.2031 - recall: 0.5200 - val_loss: 6.5822 - val_binary_accuracy: 0.7297 - val_precision: 0.2222 - val_recall: 0.4000\n",
      "Epoch 3/5\n",
      "128/128 [==============================] - ETA: 0s - loss: 2.8395 - binary_accuracy: 0.5625 - precision: 0.1667 - recall: 0.33 - 0s 178us/sample - loss: 2.7048 - binary_accuracy: 0.5781 - precision: 0.2264 - recall: 0.4800 - val_loss: 6.3325 - val_binary_accuracy: 0.7838 - val_precision: 0.2857 - val_recall: 0.4000\n",
      "Epoch 4/5\n",
      "128/128 [==============================] - ETA: 0s - loss: 1.9300 - binary_accuracy: 0.7188 - precision: 0.4286 - recall: 0.85 - 0s 793us/sample - loss: 1.9421 - binary_accuracy: 0.6797 - precision: 0.3182 - recall: 0.5600 - val_loss: 6.7379 - val_binary_accuracy: 0.8649 - val_precision: 0.5000 - val_recall: 0.4000\n",
      "Epoch 5/5\n",
      "128/128 [==============================] - ETA: 0s - loss: 2.6361 - binary_accuracy: 0.5625 - precision: 0.2000 - recall: 0.25 - 0s 193us/sample - loss: 1.9660 - binary_accuracy: 0.7031 - precision: 0.3143 - recall: 0.4400 - val_loss: 6.7706 - val_binary_accuracy: 0.8649 - val_precision: 0.5000 - val_recall: 0.4000\n"
     ]
    },
    {
     "data": {
      "text/html": [
       "<span style=\"color:#4527A0\"><h1 style=\"font-size:18px\">Trial complete</h1></span>"
      ],
      "text/plain": [
       "<IPython.core.display.HTML object>"
      ]
     },
     "metadata": {},
     "output_type": "display_data"
    },
    {
     "data": {
      "text/html": [
       "<span style=\"color:#4527A0\"><h1 style=\"font-size:18px\">Trial summary</h1></span>"
      ],
      "text/plain": [
       "<IPython.core.display.HTML object>"
      ]
     },
     "metadata": {},
     "output_type": "display_data"
    },
    {
     "data": {
      "text/html": [
       "<span style=\"color:cyan\"> |-Trial ID: 3afdd9994365b5ca01fa35e90ce7f956</span>"
      ],
      "text/plain": [
       "<IPython.core.display.HTML object>"
      ]
     },
     "metadata": {},
     "output_type": "display_data"
    },
    {
     "data": {
      "text/html": [
       "<span style=\"color:cyan\"> |-Score: 0.792792797088623</span>"
      ],
      "text/plain": [
       "<IPython.core.display.HTML object>"
      ]
     },
     "metadata": {},
     "output_type": "display_data"
    },
    {
     "data": {
      "text/html": [
       "<span style=\"color:cyan\"> |-Best step: 0</span>"
      ],
      "text/plain": [
       "<IPython.core.display.HTML object>"
      ]
     },
     "metadata": {},
     "output_type": "display_data"
    },
    {
     "data": {
      "text/html": [
       "<span style=\"color:#7E57C2\"><h2 style=\"font-size:16px\">Hyperparameters:</h2></span>"
      ],
      "text/plain": [
       "<IPython.core.display.HTML object>"
      ]
     },
     "metadata": {},
     "output_type": "display_data"
    },
    {
     "data": {
      "text/html": [
       "<span style=\"color:cyan\"> |-dropout1: 0.30000000000000004</span>"
      ],
      "text/plain": [
       "<IPython.core.display.HTML object>"
      ]
     },
     "metadata": {},
     "output_type": "display_data"
    },
    {
     "data": {
      "text/html": [
       "<span style=\"color:blue\"> |-dropout2: 0.0</span>"
      ],
      "text/plain": [
       "<IPython.core.display.HTML object>"
      ]
     },
     "metadata": {},
     "output_type": "display_data"
    },
    {
     "data": {
      "text/html": [
       "<span style=\"color:cyan\"> |-l2_dns1: 0.011</span>"
      ],
      "text/plain": [
       "<IPython.core.display.HTML object>"
      ]
     },
     "metadata": {},
     "output_type": "display_data"
    },
    {
     "data": {
      "text/html": [
       "<span style=\"color:blue\"> |-l2_dns2: 0.001</span>"
      ],
      "text/plain": [
       "<IPython.core.display.HTML object>"
      ]
     },
     "metadata": {},
     "output_type": "display_data"
    },
    {
     "name": "stdout",
     "output_type": "stream",
     "text": [
      "Train on 128 samples, validate on 37 samples\n",
      "Epoch 1/5\n",
      "128/128 [==============================] - ETA: 0s - loss: 4.4569 - binary_accuracy: 0.5625 - precision: 0.2857 - recall: 0.50 - 0s 3ms/sample - loss: 3.6085 - binary_accuracy: 0.6484 - precision: 0.2619 - recall: 0.4400 - val_loss: 7.4852 - val_binary_accuracy: 0.7297 - val_precision: 0.0000e+00 - val_recall: 0.0000e+00\n",
      "Epoch 2/5\n",
      "128/128 [==============================] - ETA: 0s - loss: 2.7409 - binary_accuracy: 0.7188 - precision: 0.2000 - recall: 0.16 - 0s 223us/sample - loss: 2.7076 - binary_accuracy: 0.7266 - precision: 0.2727 - recall: 0.2400 - val_loss: 7.4134 - val_binary_accuracy: 0.7568 - val_precision: 0.0000e+00 - val_recall: 0.0000e+00\n",
      "Epoch 3/5\n",
      "128/128 [==============================] - ETA: 0s - loss: 2.2504 - binary_accuracy: 0.8438 - precision: 0.6667 - recall: 0.33 - 0s 176us/sample - loss: 2.2806 - binary_accuracy: 0.8125 - precision: 0.5238 - recall: 0.4400 - val_loss: 7.1501 - val_binary_accuracy: 0.7568 - val_precision: 0.0000e+00 - val_recall: 0.0000e+00\n",
      "Epoch 4/5\n",
      "128/128 [==============================] - ETA: 0s - loss: 1.7326 - binary_accuracy: 0.8750 - precision: 0.6000 - recall: 0.60 - 0s 170us/sample - loss: 2.1095 - binary_accuracy: 0.8281 - precision: 0.5789 - recall: 0.4400 - val_loss: 6.8635 - val_binary_accuracy: 0.7568 - val_precision: 0.0000e+00 - val_recall: 0.0000e+00\n",
      "Epoch 5/5\n",
      "128/128 [==============================] - ETA: 0s - loss: 1.9665 - binary_accuracy: 0.8125 - precision: 0.7500 - recall: 0.37 - 0s 172us/sample - loss: 2.0377 - binary_accuracy: 0.8281 - precision: 0.5882 - recall: 0.4000 - val_loss: 6.6401 - val_binary_accuracy: 0.7297 - val_precision: 0.0000e+00 - val_recall: 0.0000e+00\n",
      "Train on 128 samples, validate on 37 samples\n",
      "Epoch 1/5\n",
      "128/128 [==============================] - ETA: 0s - loss: 7.9405 - binary_accuracy: 0.2500 - precision: 0.2143 - recall: 0.75 - 0s 2ms/sample - loss: 7.1243 - binary_accuracy: 0.3047 - precision: 0.1863 - recall: 0.7600 - val_loss: 20.9088 - val_binary_accuracy: 0.2162 - val_precision: 0.1000 - val_recall: 0.6000\n",
      "Epoch 2/5\n",
      "128/128 [==============================] - ETA: 0s - loss: 6.5603 - binary_accuracy: 0.4062 - precision: 0.1111 - recall: 0.40 - 0s 175us/sample - loss: 4.6745 - binary_accuracy: 0.5078 - precision: 0.2286 - recall: 0.6400 - val_loss: 18.0614 - val_binary_accuracy: 0.2432 - val_precision: 0.1034 - val_recall: 0.6000\n",
      "Epoch 3/5\n",
      "128/128 [==============================] - ETA: 0s - loss: 3.2615 - binary_accuracy: 0.5938 - precision: 0.3333 - recall: 0.62 - 0s 174us/sample - loss: 3.3200 - binary_accuracy: 0.6094 - precision: 0.2449 - recall: 0.4800 - val_loss: 16.2873 - val_binary_accuracy: 0.4054 - val_precision: 0.0952 - val_recall: 0.4000\n",
      "Epoch 4/5\n",
      "128/128 [==============================] - ETA: 0s - loss: 2.2139 - binary_accuracy: 0.7500 - precision: 0.3000 - recall: 0.75 - 0s 171us/sample - loss: 2.9839 - binary_accuracy: 0.6953 - precision: 0.3056 - recall: 0.4400 - val_loss: 15.3212 - val_binary_accuracy: 0.4595 - val_precision: 0.1053 - val_recall: 0.4000\n",
      "Epoch 5/5\n",
      "128/128 [==============================] - ETA: 0s - loss: 2.7437 - binary_accuracy: 0.6562 - precision: 0.3333 - recall: 0.37 - 0s 175us/sample - loss: 2.4089 - binary_accuracy: 0.7578 - precision: 0.3929 - recall: 0.4400 - val_loss: 14.3994 - val_binary_accuracy: 0.5676 - val_precision: 0.1333 - val_recall: 0.4000\n",
      "Train on 128 samples, validate on 37 samples\n",
      "Epoch 1/5\n",
      "128/128 [==============================] - ETA: 0s - loss: 4.2737 - binary_accuracy: 0.4375 - precision: 0.0556 - recall: 0.50 - 0s 2ms/sample - loss: 3.1942 - binary_accuracy: 0.6016 - precision: 0.2593 - recall: 0.5600 - val_loss: 13.7205 - val_binary_accuracy: 0.7297 - val_precision: 0.0000e+00 - val_recall: 0.0000e+00\n",
      "Epoch 2/5\n",
      "128/128 [==============================] - ETA: 0s - loss: 2.4378 - binary_accuracy: 0.7188 - precision: 0.3636 - recall: 0.66 - 0s 768us/sample - loss: 2.7996 - binary_accuracy: 0.7109 - precision: 0.3125 - recall: 0.4000 - val_loss: 13.0804 - val_binary_accuracy: 0.7838 - val_precision: 0.0000e+00 - val_recall: 0.0000e+00\n",
      "Epoch 3/5\n",
      "128/128 [==============================] - ETA: 0s - loss: 1.7863 - binary_accuracy: 0.8750 - precision: 0.2000 - recall: 1.00 - 0s 230us/sample - loss: 2.3899 - binary_accuracy: 0.7812 - precision: 0.4444 - recall: 0.4800 - val_loss: 12.7580 - val_binary_accuracy: 0.8108 - val_precision: 0.0000e+00 - val_recall: 0.0000e+00\n",
      "Epoch 4/5\n",
      "128/128 [==============================] - ETA: 0s - loss: 2.5008 - binary_accuracy: 0.8125 - precision: 0.6667 - recall: 0.28 - 0s 181us/sample - loss: 2.4591 - binary_accuracy: 0.7422 - precision: 0.3182 - recall: 0.2800 - val_loss: 11.8395 - val_binary_accuracy: 0.7297 - val_precision: 0.0000e+00 - val_recall: 0.0000e+00\n",
      "Epoch 5/5\n",
      "128/128 [==============================] - ETA: 0s - loss: 2.3263 - binary_accuracy: 0.8125 - precision: 0.7500 - recall: 0.60 - 0s 170us/sample - loss: 2.1047 - binary_accuracy: 0.8281 - precision: 0.5556 - recall: 0.6000 - val_loss: 11.9930 - val_binary_accuracy: 0.7568 - val_precision: 0.0000e+00 - val_recall: 0.0000e+00\n"
     ]
    },
    {
     "data": {
      "text/html": [
       "<span style=\"color:#4527A0\"><h1 style=\"font-size:18px\">Trial complete</h1></span>"
      ],
      "text/plain": [
       "<IPython.core.display.HTML object>"
      ]
     },
     "metadata": {},
     "output_type": "display_data"
    },
    {
     "data": {
      "text/html": [
       "<span style=\"color:#4527A0\"><h1 style=\"font-size:18px\">Trial summary</h1></span>"
      ],
      "text/plain": [
       "<IPython.core.display.HTML object>"
      ]
     },
     "metadata": {},
     "output_type": "display_data"
    },
    {
     "data": {
      "text/html": [
       "<span style=\"color:cyan\"> |-Trial ID: 89b6cf9771cf3ed866edd3b4260ae359</span>"
      ],
      "text/plain": [
       "<IPython.core.display.HTML object>"
      ]
     },
     "metadata": {},
     "output_type": "display_data"
    },
    {
     "data": {
      "text/html": [
       "<span style=\"color:cyan\"> |-Score: 0.7117117047309875</span>"
      ],
      "text/plain": [
       "<IPython.core.display.HTML object>"
      ]
     },
     "metadata": {},
     "output_type": "display_data"
    },
    {
     "data": {
      "text/html": [
       "<span style=\"color:cyan\"> |-Best step: 0</span>"
      ],
      "text/plain": [
       "<IPython.core.display.HTML object>"
      ]
     },
     "metadata": {},
     "output_type": "display_data"
    },
    {
     "data": {
      "text/html": [
       "<span style=\"color:#7E57C2\"><h2 style=\"font-size:16px\">Hyperparameters:</h2></span>"
      ],
      "text/plain": [
       "<IPython.core.display.HTML object>"
      ]
     },
     "metadata": {},
     "output_type": "display_data"
    },
    {
     "data": {
      "text/html": [
       "<span style=\"color:cyan\"> |-dropout1: 0.1</span>"
      ],
      "text/plain": [
       "<IPython.core.display.HTML object>"
      ]
     },
     "metadata": {},
     "output_type": "display_data"
    },
    {
     "data": {
      "text/html": [
       "<span style=\"color:blue\"> |-dropout2: 0.0</span>"
      ],
      "text/plain": [
       "<IPython.core.display.HTML object>"
      ]
     },
     "metadata": {},
     "output_type": "display_data"
    },
    {
     "data": {
      "text/html": [
       "<span style=\"color:cyan\"> |-l2_dns1: 0.02</span>"
      ],
      "text/plain": [
       "<IPython.core.display.HTML object>"
      ]
     },
     "metadata": {},
     "output_type": "display_data"
    },
    {
     "data": {
      "text/html": [
       "<span style=\"color:blue\"> |-l2_dns2: 0.0</span>"
      ],
      "text/plain": [
       "<IPython.core.display.HTML object>"
      ]
     },
     "metadata": {},
     "output_type": "display_data"
    },
    {
     "name": "stdout",
     "output_type": "stream",
     "text": [
      "Train on 128 samples, validate on 37 samples\n",
      "Epoch 1/5\n",
      "128/128 [==============================] - ETA: 0s - loss: 8.5941 - binary_accuracy: 0.2188 - precision: 0.1538 - recall: 0.57 - 0s 3ms/sample - loss: 8.3330 - binary_accuracy: 0.2891 - precision: 0.1827 - recall: 0.7600 - val_loss: 17.5205 - val_binary_accuracy: 0.3243 - val_precision: 0.0833 - val_recall: 0.4000\n",
      "Epoch 2/5\n",
      "128/128 [==============================] - ETA: 0s - loss: 5.1616 - binary_accuracy: 0.4688 - precision: 0.2000 - recall: 0.80 - 0s 230us/sample - loss: 5.4334 - binary_accuracy: 0.4375 - precision: 0.1948 - recall: 0.6000 - val_loss: 16.7228 - val_binary_accuracy: 0.5405 - val_precision: 0.0714 - val_recall: 0.2000\n",
      "Epoch 3/5\n",
      "128/128 [==============================] - ETA: 0s - loss: 5.3389 - binary_accuracy: 0.5312 - precision: 0.2143 - recall: 0.42 - 0s 217us/sample - loss: 4.3665 - binary_accuracy: 0.5469 - precision: 0.2203 - recall: 0.5200 - val_loss: 15.3677 - val_binary_accuracy: 0.6216 - val_precision: 0.0909 - val_recall: 0.2000\n",
      "Epoch 4/5\n",
      "128/128 [==============================] - ETA: 0s - loss: 5.7400 - binary_accuracy: 0.4688 - precision: 0.2667 - recall: 0.40 - 0s 216us/sample - loss: 3.8439 - binary_accuracy: 0.5547 - precision: 0.1923 - recall: 0.4000 - val_loss: 14.6644 - val_binary_accuracy: 0.6486 - val_precision: 0.1000 - val_recall: 0.2000\n",
      "Epoch 5/5\n",
      "128/128 [==============================] - ETA: 0s - loss: 3.6954 - binary_accuracy: 0.6250 - precision: 0.3333 - recall: 0.33 - 0s 236us/sample - loss: 3.4306 - binary_accuracy: 0.6172 - precision: 0.1842 - recall: 0.2800 - val_loss: 14.2007 - val_binary_accuracy: 0.7297 - val_precision: 0.1429 - val_recall: 0.2000\n",
      "Train on 128 samples, validate on 37 samples\n",
      "Epoch 1/5\n",
      "128/128 [==============================] - ETA: 0s - loss: 13.7968 - binary_accuracy: 0.2812 - precision: 0.1852 - recall: 0.833 - 0s 2ms/sample - loss: 9.8311 - binary_accuracy: 0.2812 - precision: 0.1927 - recall: 0.8400 - val_loss: 9.7192 - val_binary_accuracy: 0.3243 - val_precision: 0.1667 - val_recall: 1.0000\n",
      "Epoch 2/5\n",
      "128/128 [==============================] - ETA: 0s - loss: 9.7832 - binary_accuracy: 0.3125 - precision: 0.1538 - recall: 1.00 - 0s 181us/sample - loss: 7.0914 - binary_accuracy: 0.3750 - precision: 0.2222 - recall: 0.8800 - val_loss: 6.9099 - val_binary_accuracy: 0.4595 - val_precision: 0.1739 - val_recall: 0.8000\n",
      "Epoch 3/5\n",
      "128/128 [==============================] - ETA: 0s - loss: 5.6275 - binary_accuracy: 0.3750 - precision: 0.1739 - recall: 0.80 - 0s 179us/sample - loss: 5.3995 - binary_accuracy: 0.4219 - precision: 0.2247 - recall: 0.8000 - val_loss: 6.4411 - val_binary_accuracy: 0.6486 - val_precision: 0.2143 - val_recall: 0.6000\n",
      "Epoch 4/5\n",
      "128/128 [==============================] - ETA: 0s - loss: 5.5762 - binary_accuracy: 0.4375 - precision: 0.3043 - recall: 0.77 - 0s 177us/sample - loss: 4.6696 - binary_accuracy: 0.4688 - precision: 0.1972 - recall: 0.5600 - val_loss: 7.4062 - val_binary_accuracy: 0.5676 - val_precision: 0.0000e+00 - val_recall: 0.0000e+00\n",
      "Epoch 5/5\n",
      "128/128 [==============================] - ETA: 0s - loss: 4.7048 - binary_accuracy: 0.5000 - precision: 0.1765 - recall: 0.60 - 0s 179us/sample - loss: 3.9123 - binary_accuracy: 0.5312 - precision: 0.2034 - recall: 0.4800 - val_loss: 8.4544 - val_binary_accuracy: 0.6486 - val_precision: 0.0000e+00 - val_recall: 0.0000e+00\n",
      "Train on 128 samples, validate on 37 samples\n",
      "Epoch 1/5\n",
      "128/128 [==============================] - ETA: 0s - loss: 1.6918 - binary_accuracy: 0.7812 - precision: 0.4000 - recall: 0.33 - 0s 3ms/sample - loss: 2.5971 - binary_accuracy: 0.7422 - precision: 0.2143 - recall: 0.1200 - val_loss: 6.2199 - val_binary_accuracy: 0.7568 - val_precision: 0.0000e+00 - val_recall: 0.0000e+00\n",
      "Epoch 2/5\n",
      "128/128 [==============================] - ETA: 0s - loss: 3.9211 - binary_accuracy: 0.6250 - precision: 0.0000e+00 - recall: 0.0000e+ - 0s 191us/sample - loss: 2.5636 - binary_accuracy: 0.6953 - precision: 0.0625 - recall: 0.0400 - val_loss: 5.2776 - val_binary_accuracy: 0.7568 - val_precision: 0.0000e+00 - val_recall: 0.0000e+00\n",
      "Epoch 3/5\n",
      "128/128 [==============================] - ETA: 0s - loss: 3.4801 - binary_accuracy: 0.6250 - precision: 0.0000e+00 - recall: 0.0000e+ - 0s 181us/sample - loss: 2.5915 - binary_accuracy: 0.7422 - precision: 0.2500 - recall: 0.1600 - val_loss: 4.7881 - val_binary_accuracy: 0.7568 - val_precision: 0.1667 - val_recall: 0.2000\n",
      "Epoch 4/5\n",
      "128/128 [==============================] - ETA: 0s - loss: 3.3066 - binary_accuracy: 0.6875 - precision: 0.3750 - recall: 0.37 - 0s 223us/sample - loss: 2.2536 - binary_accuracy: 0.7812 - precision: 0.4211 - recall: 0.3200 - val_loss: 4.5066 - val_binary_accuracy: 0.7838 - val_precision: 0.2857 - val_recall: 0.4000\n",
      "Epoch 5/5\n",
      "128/128 [==============================] - ETA: 0s - loss: 2.4960 - binary_accuracy: 0.6875 - precision: 0.0000e+00 - recall: 0.0000e+ - 0s 181us/sample - loss: 2.6136 - binary_accuracy: 0.6953 - precision: 0.1818 - recall: 0.1600 - val_loss: 4.4891 - val_binary_accuracy: 0.7838 - val_precision: 0.2857 - val_recall: 0.4000\n"
     ]
    },
    {
     "data": {
      "text/html": [
       "<span style=\"color:#4527A0\"><h1 style=\"font-size:18px\">Trial complete</h1></span>"
      ],
      "text/plain": [
       "<IPython.core.display.HTML object>"
      ]
     },
     "metadata": {},
     "output_type": "display_data"
    },
    {
     "data": {
      "text/html": [
       "<span style=\"color:#4527A0\"><h1 style=\"font-size:18px\">Trial summary</h1></span>"
      ],
      "text/plain": [
       "<IPython.core.display.HTML object>"
      ]
     },
     "metadata": {},
     "output_type": "display_data"
    },
    {
     "data": {
      "text/html": [
       "<span style=\"color:cyan\"> |-Trial ID: b34968530f9b3e27ff6a198549117332</span>"
      ],
      "text/plain": [
       "<IPython.core.display.HTML object>"
      ]
     },
     "metadata": {},
     "output_type": "display_data"
    },
    {
     "data": {
      "text/html": [
       "<span style=\"color:cyan\"> |-Score: 0.7207207679748535</span>"
      ],
      "text/plain": [
       "<IPython.core.display.HTML object>"
      ]
     },
     "metadata": {},
     "output_type": "display_data"
    },
    {
     "data": {
      "text/html": [
       "<span style=\"color:cyan\"> |-Best step: 0</span>"
      ],
      "text/plain": [
       "<IPython.core.display.HTML object>"
      ]
     },
     "metadata": {},
     "output_type": "display_data"
    },
    {
     "data": {
      "text/html": [
       "<span style=\"color:#7E57C2\"><h2 style=\"font-size:16px\">Hyperparameters:</h2></span>"
      ],
      "text/plain": [
       "<IPython.core.display.HTML object>"
      ]
     },
     "metadata": {},
     "output_type": "display_data"
    },
    {
     "data": {
      "text/html": [
       "<span style=\"color:cyan\"> |-dropout1: 0.30000000000000004</span>"
      ],
      "text/plain": [
       "<IPython.core.display.HTML object>"
      ]
     },
     "metadata": {},
     "output_type": "display_data"
    },
    {
     "data": {
      "text/html": [
       "<span style=\"color:blue\"> |-dropout2: 0.2</span>"
      ],
      "text/plain": [
       "<IPython.core.display.HTML object>"
      ]
     },
     "metadata": {},
     "output_type": "display_data"
    },
    {
     "data": {
      "text/html": [
       "<span style=\"color:cyan\"> |-l2_dns1: 0.009000000000000001</span>"
      ],
      "text/plain": [
       "<IPython.core.display.HTML object>"
      ]
     },
     "metadata": {},
     "output_type": "display_data"
    },
    {
     "data": {
      "text/html": [
       "<span style=\"color:blue\"> |-l2_dns2: 0.003</span>"
      ],
      "text/plain": [
       "<IPython.core.display.HTML object>"
      ]
     },
     "metadata": {},
     "output_type": "display_data"
    },
    {
     "name": "stdout",
     "output_type": "stream",
     "text": [
      "INFO:tensorflow:Oracle triggered exit\n"
     ]
    }
   ],
   "source": [
    "tuner.search(X_train.values, y_train.values,\n",
    "            epochs=5,\n",
    "            validation_data=(X_dev, y_dev))"
   ]
  },
  {
   "cell_type": "code",
   "execution_count": 13,
   "metadata": {},
   "outputs": [
    {
     "data": {
      "text/html": [
       "<span style=\"color:#4527A0\"><h1 style=\"font-size:18px\">Results summary</h1></span>"
      ],
      "text/plain": [
       "<IPython.core.display.HTML object>"
      ]
     },
     "metadata": {},
     "output_type": "display_data"
    },
    {
     "data": {
      "text/html": [
       "<span style=\"color:cyan\"> |-Results in Metabolomics_dev_mild/untitled_project</span>"
      ],
      "text/plain": [
       "<IPython.core.display.HTML object>"
      ]
     },
     "metadata": {},
     "output_type": "display_data"
    },
    {
     "data": {
      "text/html": [
       "<span style=\"color:cyan\"> |-Showing 10 best trials</span>"
      ],
      "text/plain": [
       "<IPython.core.display.HTML object>"
      ]
     },
     "metadata": {},
     "output_type": "display_data"
    },
    {
     "data": {
      "text/html": [
       "<span style=\"color:cyan\"> |-Objective(name='val_binary_accuracy', direction='max')</span>"
      ],
      "text/plain": [
       "<IPython.core.display.HTML object>"
      ]
     },
     "metadata": {},
     "output_type": "display_data"
    },
    {
     "data": {
      "text/html": [
       "<span style=\"color:#4527A0\"><h1 style=\"font-size:18px\">Trial summary</h1></span>"
      ],
      "text/plain": [
       "<IPython.core.display.HTML object>"
      ]
     },
     "metadata": {},
     "output_type": "display_data"
    },
    {
     "data": {
      "text/html": [
       "<span style=\"color:cyan\"> |-Trial ID: 44320c828723dcf7b9075f89ce6b706f</span>"
      ],
      "text/plain": [
       "<IPython.core.display.HTML object>"
      ]
     },
     "metadata": {},
     "output_type": "display_data"
    },
    {
     "data": {
      "text/html": [
       "<span style=\"color:cyan\"> |-Score: 0.8198198676109314</span>"
      ],
      "text/plain": [
       "<IPython.core.display.HTML object>"
      ]
     },
     "metadata": {},
     "output_type": "display_data"
    },
    {
     "data": {
      "text/html": [
       "<span style=\"color:cyan\"> |-Best step: 0</span>"
      ],
      "text/plain": [
       "<IPython.core.display.HTML object>"
      ]
     },
     "metadata": {},
     "output_type": "display_data"
    },
    {
     "data": {
      "text/html": [
       "<span style=\"color:#7E57C2\"><h2 style=\"font-size:16px\">Hyperparameters:</h2></span>"
      ],
      "text/plain": [
       "<IPython.core.display.HTML object>"
      ]
     },
     "metadata": {},
     "output_type": "display_data"
    },
    {
     "data": {
      "text/html": [
       "<span style=\"color:cyan\"> |-dropout1: 0.2</span>"
      ],
      "text/plain": [
       "<IPython.core.display.HTML object>"
      ]
     },
     "metadata": {},
     "output_type": "display_data"
    },
    {
     "data": {
      "text/html": [
       "<span style=\"color:blue\"> |-dropout2: 0.1</span>"
      ],
      "text/plain": [
       "<IPython.core.display.HTML object>"
      ]
     },
     "metadata": {},
     "output_type": "display_data"
    },
    {
     "data": {
      "text/html": [
       "<span style=\"color:cyan\"> |-l2_dns1: 0.013000000000000001</span>"
      ],
      "text/plain": [
       "<IPython.core.display.HTML object>"
      ]
     },
     "metadata": {},
     "output_type": "display_data"
    },
    {
     "data": {
      "text/html": [
       "<span style=\"color:blue\"> |-l2_dns2: 0.003</span>"
      ],
      "text/plain": [
       "<IPython.core.display.HTML object>"
      ]
     },
     "metadata": {},
     "output_type": "display_data"
    },
    {
     "data": {
      "text/html": [
       "<span style=\"color:#4527A0\"><h1 style=\"font-size:18px\">Trial summary</h1></span>"
      ],
      "text/plain": [
       "<IPython.core.display.HTML object>"
      ]
     },
     "metadata": {},
     "output_type": "display_data"
    },
    {
     "data": {
      "text/html": [
       "<span style=\"color:cyan\"> |-Trial ID: 3afdd9994365b5ca01fa35e90ce7f956</span>"
      ],
      "text/plain": [
       "<IPython.core.display.HTML object>"
      ]
     },
     "metadata": {},
     "output_type": "display_data"
    },
    {
     "data": {
      "text/html": [
       "<span style=\"color:cyan\"> |-Score: 0.792792797088623</span>"
      ],
      "text/plain": [
       "<IPython.core.display.HTML object>"
      ]
     },
     "metadata": {},
     "output_type": "display_data"
    },
    {
     "data": {
      "text/html": [
       "<span style=\"color:cyan\"> |-Best step: 0</span>"
      ],
      "text/plain": [
       "<IPython.core.display.HTML object>"
      ]
     },
     "metadata": {},
     "output_type": "display_data"
    },
    {
     "data": {
      "text/html": [
       "<span style=\"color:#7E57C2\"><h2 style=\"font-size:16px\">Hyperparameters:</h2></span>"
      ],
      "text/plain": [
       "<IPython.core.display.HTML object>"
      ]
     },
     "metadata": {},
     "output_type": "display_data"
    },
    {
     "data": {
      "text/html": [
       "<span style=\"color:cyan\"> |-dropout1: 0.30000000000000004</span>"
      ],
      "text/plain": [
       "<IPython.core.display.HTML object>"
      ]
     },
     "metadata": {},
     "output_type": "display_data"
    },
    {
     "data": {
      "text/html": [
       "<span style=\"color:blue\"> |-dropout2: 0.0</span>"
      ],
      "text/plain": [
       "<IPython.core.display.HTML object>"
      ]
     },
     "metadata": {},
     "output_type": "display_data"
    },
    {
     "data": {
      "text/html": [
       "<span style=\"color:cyan\"> |-l2_dns1: 0.011</span>"
      ],
      "text/plain": [
       "<IPython.core.display.HTML object>"
      ]
     },
     "metadata": {},
     "output_type": "display_data"
    },
    {
     "data": {
      "text/html": [
       "<span style=\"color:blue\"> |-l2_dns2: 0.001</span>"
      ],
      "text/plain": [
       "<IPython.core.display.HTML object>"
      ]
     },
     "metadata": {},
     "output_type": "display_data"
    },
    {
     "data": {
      "text/html": [
       "<span style=\"color:#4527A0\"><h1 style=\"font-size:18px\">Trial summary</h1></span>"
      ],
      "text/plain": [
       "<IPython.core.display.HTML object>"
      ]
     },
     "metadata": {},
     "output_type": "display_data"
    },
    {
     "data": {
      "text/html": [
       "<span style=\"color:cyan\"> |-Trial ID: b34968530f9b3e27ff6a198549117332</span>"
      ],
      "text/plain": [
       "<IPython.core.display.HTML object>"
      ]
     },
     "metadata": {},
     "output_type": "display_data"
    },
    {
     "data": {
      "text/html": [
       "<span style=\"color:cyan\"> |-Score: 0.7207207679748535</span>"
      ],
      "text/plain": [
       "<IPython.core.display.HTML object>"
      ]
     },
     "metadata": {},
     "output_type": "display_data"
    },
    {
     "data": {
      "text/html": [
       "<span style=\"color:cyan\"> |-Best step: 0</span>"
      ],
      "text/plain": [
       "<IPython.core.display.HTML object>"
      ]
     },
     "metadata": {},
     "output_type": "display_data"
    },
    {
     "data": {
      "text/html": [
       "<span style=\"color:#7E57C2\"><h2 style=\"font-size:16px\">Hyperparameters:</h2></span>"
      ],
      "text/plain": [
       "<IPython.core.display.HTML object>"
      ]
     },
     "metadata": {},
     "output_type": "display_data"
    },
    {
     "data": {
      "text/html": [
       "<span style=\"color:cyan\"> |-dropout1: 0.30000000000000004</span>"
      ],
      "text/plain": [
       "<IPython.core.display.HTML object>"
      ]
     },
     "metadata": {},
     "output_type": "display_data"
    },
    {
     "data": {
      "text/html": [
       "<span style=\"color:blue\"> |-dropout2: 0.2</span>"
      ],
      "text/plain": [
       "<IPython.core.display.HTML object>"
      ]
     },
     "metadata": {},
     "output_type": "display_data"
    },
    {
     "data": {
      "text/html": [
       "<span style=\"color:cyan\"> |-l2_dns1: 0.009000000000000001</span>"
      ],
      "text/plain": [
       "<IPython.core.display.HTML object>"
      ]
     },
     "metadata": {},
     "output_type": "display_data"
    },
    {
     "data": {
      "text/html": [
       "<span style=\"color:blue\"> |-l2_dns2: 0.003</span>"
      ],
      "text/plain": [
       "<IPython.core.display.HTML object>"
      ]
     },
     "metadata": {},
     "output_type": "display_data"
    },
    {
     "data": {
      "text/html": [
       "<span style=\"color:#4527A0\"><h1 style=\"font-size:18px\">Trial summary</h1></span>"
      ],
      "text/plain": [
       "<IPython.core.display.HTML object>"
      ]
     },
     "metadata": {},
     "output_type": "display_data"
    },
    {
     "data": {
      "text/html": [
       "<span style=\"color:cyan\"> |-Trial ID: 89b6cf9771cf3ed866edd3b4260ae359</span>"
      ],
      "text/plain": [
       "<IPython.core.display.HTML object>"
      ]
     },
     "metadata": {},
     "output_type": "display_data"
    },
    {
     "data": {
      "text/html": [
       "<span style=\"color:cyan\"> |-Score: 0.7117117047309875</span>"
      ],
      "text/plain": [
       "<IPython.core.display.HTML object>"
      ]
     },
     "metadata": {},
     "output_type": "display_data"
    },
    {
     "data": {
      "text/html": [
       "<span style=\"color:cyan\"> |-Best step: 0</span>"
      ],
      "text/plain": [
       "<IPython.core.display.HTML object>"
      ]
     },
     "metadata": {},
     "output_type": "display_data"
    },
    {
     "data": {
      "text/html": [
       "<span style=\"color:#7E57C2\"><h2 style=\"font-size:16px\">Hyperparameters:</h2></span>"
      ],
      "text/plain": [
       "<IPython.core.display.HTML object>"
      ]
     },
     "metadata": {},
     "output_type": "display_data"
    },
    {
     "data": {
      "text/html": [
       "<span style=\"color:cyan\"> |-dropout1: 0.1</span>"
      ],
      "text/plain": [
       "<IPython.core.display.HTML object>"
      ]
     },
     "metadata": {},
     "output_type": "display_data"
    },
    {
     "data": {
      "text/html": [
       "<span style=\"color:blue\"> |-dropout2: 0.0</span>"
      ],
      "text/plain": [
       "<IPython.core.display.HTML object>"
      ]
     },
     "metadata": {},
     "output_type": "display_data"
    },
    {
     "data": {
      "text/html": [
       "<span style=\"color:cyan\"> |-l2_dns1: 0.02</span>"
      ],
      "text/plain": [
       "<IPython.core.display.HTML object>"
      ]
     },
     "metadata": {},
     "output_type": "display_data"
    },
    {
     "data": {
      "text/html": [
       "<span style=\"color:blue\"> |-l2_dns2: 0.0</span>"
      ],
      "text/plain": [
       "<IPython.core.display.HTML object>"
      ]
     },
     "metadata": {},
     "output_type": "display_data"
    },
    {
     "data": {
      "text/html": [
       "<span style=\"color:#4527A0\"><h1 style=\"font-size:18px\">Trial summary</h1></span>"
      ],
      "text/plain": [
       "<IPython.core.display.HTML object>"
      ]
     },
     "metadata": {},
     "output_type": "display_data"
    },
    {
     "data": {
      "text/html": [
       "<span style=\"color:cyan\"> |-Trial ID: 9c62f5b1fe68ab73e1349ab0bf80731c</span>"
      ],
      "text/plain": [
       "<IPython.core.display.HTML object>"
      ]
     },
     "metadata": {},
     "output_type": "display_data"
    },
    {
     "data": {
      "text/html": [
       "<span style=\"color:cyan\"> |-Score: 0.6846847534179688</span>"
      ],
      "text/plain": [
       "<IPython.core.display.HTML object>"
      ]
     },
     "metadata": {},
     "output_type": "display_data"
    },
    {
     "data": {
      "text/html": [
       "<span style=\"color:cyan\"> |-Best step: 0</span>"
      ],
      "text/plain": [
       "<IPython.core.display.HTML object>"
      ]
     },
     "metadata": {},
     "output_type": "display_data"
    },
    {
     "data": {
      "text/html": [
       "<span style=\"color:#7E57C2\"><h2 style=\"font-size:16px\">Hyperparameters:</h2></span>"
      ],
      "text/plain": [
       "<IPython.core.display.HTML object>"
      ]
     },
     "metadata": {},
     "output_type": "display_data"
    },
    {
     "data": {
      "text/html": [
       "<span style=\"color:cyan\"> |-dropout1: 0.1</span>"
      ],
      "text/plain": [
       "<IPython.core.display.HTML object>"
      ]
     },
     "metadata": {},
     "output_type": "display_data"
    },
    {
     "data": {
      "text/html": [
       "<span style=\"color:blue\"> |-dropout2: 0.30000000000000004</span>"
      ],
      "text/plain": [
       "<IPython.core.display.HTML object>"
      ]
     },
     "metadata": {},
     "output_type": "display_data"
    },
    {
     "data": {
      "text/html": [
       "<span style=\"color:cyan\"> |-l2_dns1: 0.013000000000000001</span>"
      ],
      "text/plain": [
       "<IPython.core.display.HTML object>"
      ]
     },
     "metadata": {},
     "output_type": "display_data"
    },
    {
     "data": {
      "text/html": [
       "<span style=\"color:blue\"> |-l2_dns2: 0.019</span>"
      ],
      "text/plain": [
       "<IPython.core.display.HTML object>"
      ]
     },
     "metadata": {},
     "output_type": "display_data"
    }
   ],
   "source": [
    "tuner.results_summary()"
   ]
  },
  {
   "cell_type": "code",
   "execution_count": 14,
   "metadata": {},
   "outputs": [
    {
     "name": "stdout",
     "output_type": "stream",
     "text": [
      "{'l2_dns1': 0.013000000000000001, 'dropout1': 0.2, 'l2_dns2': 0.003, 'dropout2': 0.1}\n"
     ]
    }
   ],
   "source": [
    "best_hp = tuner.get_best_hyperparameters(num_trials=1)[0]\n",
    "print (best_hp.values)"
   ]
  },
  {
   "cell_type": "code",
   "execution_count": 18,
   "metadata": {},
   "outputs": [],
   "source": [
    "best_model = tuner.get_best_models(num_models=1)[0]"
   ]
  },
  {
   "cell_type": "code",
   "execution_count": 19,
   "metadata": {},
   "outputs": [
    {
     "name": "stdout",
     "output_type": "stream",
     "text": [
      "Train on 128 samples\n",
      "Epoch 1/20\n",
      "128/128 [==============================] - ETA: 0s - loss: 1.9671 - binary_accuracy: 0.8125 - precision: 0.4000 - recall: 0.40 - 0s 1ms/sample - loss: 2.0130 - binary_accuracy: 0.7500 - precision: 0.3478 - recall: 0.3200\n",
      "Epoch 2/20\n",
      "128/128 [==============================] - ETA: 0s - loss: 2.0964 - binary_accuracy: 0.7500 - precision: 0.4545 - recall: 0.71 - 0s 129us/sample - loss: 1.8729 - binary_accuracy: 0.7422 - precision: 0.3462 - recall: 0.3600\n",
      "Epoch 3/20\n",
      "128/128 [==============================] - ETA: 0s - loss: 2.3562 - binary_accuracy: 0.7188 - precision: 0.3333 - recall: 0.12 - 0s 122us/sample - loss: 1.8930 - binary_accuracy: 0.7578 - precision: 0.3636 - recall: 0.3200\n",
      "Epoch 4/20\n",
      "128/128 [==============================] - ETA: 0s - loss: 1.5889 - binary_accuracy: 0.7812 - precision: 0.0000e+00 - recall: 0.0000e+ - 0s 119us/sample - loss: 1.9784 - binary_accuracy: 0.7734 - precision: 0.4000 - recall: 0.3200\n",
      "Epoch 5/20\n",
      "128/128 [==============================] - ETA: 0s - loss: 1.5226 - binary_accuracy: 0.8125 - precision: 0.5714 - recall: 0.57 - 0s 122us/sample - loss: 1.6182 - binary_accuracy: 0.7812 - precision: 0.4348 - recall: 0.4000\n",
      "Epoch 6/20\n",
      "128/128 [==============================] - ETA: 0s - loss: 1.7131 - binary_accuracy: 0.8125 - precision: 0.5000 - recall: 0.33 - 0s 120us/sample - loss: 1.7378 - binary_accuracy: 0.8281 - precision: 0.5652 - recall: 0.5200\n",
      "Epoch 7/20\n",
      "128/128 [==============================] - ETA: 0s - loss: 1.4991 - binary_accuracy: 0.8125 - precision: 0.7000 - recall: 0.70 - 0s 126us/sample - loss: 1.6281 - binary_accuracy: 0.7969 - precision: 0.4800 - recall: 0.4800\n",
      "Epoch 8/20\n",
      "128/128 [==============================] - ETA: 0s - loss: 1.9709 - binary_accuracy: 0.7812 - precision: 0.5714 - recall: 0.50 - 0s 121us/sample - loss: 1.6397 - binary_accuracy: 0.8281 - precision: 0.5714 - recall: 0.4800\n",
      "Epoch 9/20\n",
      "128/128 [==============================] - ETA: 0s - loss: 1.7854 - binary_accuracy: 0.7812 - precision: 0.2857 - recall: 0.50 - 0s 123us/sample - loss: 1.6704 - binary_accuracy: 0.7812 - precision: 0.4483 - recall: 0.5200\n",
      "Epoch 10/20\n",
      "128/128 [==============================] - ETA: 0s - loss: 1.4548 - binary_accuracy: 0.8438 - precision: 0.5714 - recall: 0.66 - 0s 127us/sample - loss: 1.4439 - binary_accuracy: 0.8438 - precision: 0.5862 - recall: 0.6800\n",
      "Epoch 11/20\n",
      "128/128 [==============================] - ETA: 0s - loss: 1.2050 - binary_accuracy: 0.9062 - precision: 0.6000 - recall: 0.75 - 0s 121us/sample - loss: 1.3420 - binary_accuracy: 0.8672 - precision: 0.6667 - recall: 0.6400\n",
      "Epoch 12/20\n",
      "128/128 [==============================] - ETA: 0s - loss: 1.5717 - binary_accuracy: 0.8125 - precision: 0.5000 - recall: 0.33 - 0s 121us/sample - loss: 1.4655 - binary_accuracy: 0.8359 - precision: 0.5833 - recall: 0.5600\n",
      "Epoch 13/20\n",
      "128/128 [==============================] - ETA: 0s - loss: 1.3681 - binary_accuracy: 0.9062 - precision: 0.8000 - recall: 0.66 - 0s 124us/sample - loss: 1.2517 - binary_accuracy: 0.8906 - precision: 0.7037 - recall: 0.7600\n",
      "Epoch 14/20\n",
      "128/128 [==============================] - ETA: 0s - loss: 1.2722 - binary_accuracy: 0.8750 - precision: 0.8333 - recall: 0.62 - 0s 128us/sample - loss: 1.1367 - binary_accuracy: 0.9453 - precision: 0.9091 - recall: 0.8000\n",
      "Epoch 15/20\n",
      "128/128 [==============================] - ETA: 0s - loss: 1.0698 - binary_accuracy: 1.0000 - precision: 1.0000 - recall: 1.00 - 0s 127us/sample - loss: 1.2269 - binary_accuracy: 0.9141 - precision: 0.7917 - recall: 0.7600\n",
      "Epoch 16/20\n",
      "128/128 [==============================] - ETA: 0s - loss: 1.1464 - binary_accuracy: 0.9062 - precision: 0.5000 - recall: 0.33 - 0s 125us/sample - loss: 1.2147 - binary_accuracy: 0.8906 - precision: 0.7391 - recall: 0.6800\n",
      "Epoch 17/20\n",
      "128/128 [==============================] - ETA: 0s - loss: 1.1534 - binary_accuracy: 0.9375 - precision: 1.0000 - recall: 0.75 - 0s 126us/sample - loss: 1.2382 - binary_accuracy: 0.8828 - precision: 0.7778 - recall: 0.5600\n",
      "Epoch 18/20\n",
      "128/128 [==============================] - ETA: 0s - loss: 1.2461 - binary_accuracy: 0.8750 - precision: 0.6250 - recall: 0.83 - 0s 132us/sample - loss: 1.1168 - binary_accuracy: 0.9297 - precision: 0.7857 - recall: 0.8800\n",
      "Epoch 19/20\n",
      "128/128 [==============================] - ETA: 0s - loss: 1.2075 - binary_accuracy: 0.8750 - precision: 0.8571 - recall: 0.66 - 0s 127us/sample - loss: 1.1223 - binary_accuracy: 0.9062 - precision: 0.7826 - recall: 0.7200\n",
      "Epoch 20/20\n",
      "128/128 [==============================] - ETA: 0s - loss: 0.9828 - binary_accuracy: 1.0000 - precision: 1.0000 - recall: 1.00 - 0s 119us/sample - loss: 1.1729 - binary_accuracy: 0.9375 - precision: 0.8400 - recall: 0.8400\n"
     ]
    },
    {
     "data": {
      "text/plain": [
       "<tensorflow.python.keras.callbacks.History at 0x7fee500ddd30>"
      ]
     },
     "execution_count": 19,
     "metadata": {},
     "output_type": "execute_result"
    }
   ],
   "source": [
    "best_model.fit(x=X_train.values, y=y_train.values, epochs=20)"
   ]
  },
  {
   "cell_type": "code",
   "execution_count": 20,
   "metadata": {},
   "outputs": [
    {
     "name": "stdout",
     "output_type": "stream",
     "text": [
      "37/37 [==============================] - ETA: 0s - loss: 3.7771 - binary_accuracy: 0.8438 - precision: 0.0000e+00 - recall: 0.0000e+ - 0s 2ms/sample - loss: 3.3952 - binary_accuracy: 0.8649 - precision: 0.0000e+00 - recall: 0.0000e+00\n"
     ]
    }
   ],
   "source": [
    "results = best_model.evaluate(X_dev.values, y_dev.values)"
   ]
  },
  {
   "cell_type": "code",
   "execution_count": 21,
   "metadata": {},
   "outputs": [
    {
     "name": "stdout",
     "output_type": "stream",
     "text": [
      "test loss, test acc: [3.39521458181175, 0.8648649, 0.0, 0.0]\n"
     ]
    }
   ],
   "source": [
    "print (\"test loss, test acc:\", results)"
   ]
  },
  {
   "cell_type": "code",
   "execution_count": 22,
   "metadata": {},
   "outputs": [
    {
     "name": "stdout",
     "output_type": "stream",
     "text": [
      "    ground_truth  prediction\n",
      "0              0       False\n",
      "1              0       False\n",
      "2              0       False\n",
      "3              1       False\n",
      "4              1       False\n",
      "5              1       False\n",
      "6              1       False\n",
      "7              0       False\n",
      "8              0       False\n",
      "9              0       False\n",
      "10             0       False\n",
      "11             0       False\n",
      "12             0       False\n",
      "13             1       False\n",
      "14             0       False\n",
      "15             0       False\n",
      "16             0       False\n",
      "17             0       False\n",
      "18             0       False\n",
      "19             0       False\n",
      "20             0       False\n",
      "21             0       False\n",
      "22             0       False\n",
      "23             0       False\n",
      "24             0       False\n",
      "25             0       False\n",
      "26             0       False\n",
      "27             0       False\n",
      "28             0       False\n",
      "29             0       False\n",
      "30             0       False\n",
      "31             0       False\n",
      "32             0       False\n",
      "33             0       False\n",
      "34             0       False\n",
      "35             0       False\n",
      "36             0       False\n"
     ]
    }
   ],
   "source": [
    "print (pd.DataFrame({'ground_truth': y_dev,\n",
    "                     'prediction' : best_model.predict(X_dev.values)[:,0]>0.5}))"
   ]
  },
  {
   "cell_type": "code",
   "execution_count": null,
   "metadata": {},
   "outputs": [],
   "source": []
  }
 ],
 "metadata": {
  "kernelspec": {
   "display_name": "Python 3",
   "language": "python",
   "name": "python3"
  },
  "language_info": {
   "codemirror_mode": {
    "name": "ipython",
    "version": 3
   },
   "file_extension": ".py",
   "mimetype": "text/x-python",
   "name": "python",
   "nbconvert_exporter": "python",
   "pygments_lexer": "ipython3",
   "version": "3.6.10"
  }
 },
 "nbformat": 4,
 "nbformat_minor": 4
}
