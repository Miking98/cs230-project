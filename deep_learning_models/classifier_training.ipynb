{
 "cells": [
  {
   "cell_type": "code",
   "execution_count": 1,
   "metadata": {},
   "outputs": [
    {
     "name": "stdout",
     "output_type": "stream",
     "text": [
      "WARNING:tensorflow:From /home/ubuntu/anaconda3/envs/tensorflow_p36/lib/python3.6/site-packages/tensorflow_core/__init__.py:1473: The name tf.estimator.inputs is deprecated. Please use tf.compat.v1.estimator.inputs instead.\n",
      "\n"
     ]
    }
   ],
   "source": [
    "import pandas as pd\n",
    "from tensorflow import keras\n",
    "from tensorflow.keras import layers"
   ]
  },
  {
   "cell_type": "code",
   "execution_count": 2,
   "metadata": {},
   "outputs": [],
   "source": [
    "df_train = pd.read_csv('/home/ubuntu/cs230-project/data_sub_PCA/df_train_PCA_dict_df_metab.csv')"
   ]
  },
  {
   "cell_type": "code",
   "execution_count": 3,
   "metadata": {},
   "outputs": [],
   "source": [
    "y_train = df_train.iloc[:,0]\n",
    "X_train = df_train.iloc[:,1:]"
   ]
  },
  {
   "cell_type": "code",
   "execution_count": 4,
   "metadata": {},
   "outputs": [],
   "source": [
    "y_train = pd.get_dummies(y_train)"
   ]
  },
  {
   "cell_type": "code",
   "execution_count": 5,
   "metadata": {},
   "outputs": [
    {
     "name": "stdout",
     "output_type": "stream",
     "text": [
      "(128, 2)\n",
      "(128, 88)\n"
     ]
    }
   ],
   "source": [
    "print (y_train.shape)\n",
    "print (X_train.shape)"
   ]
  },
  {
   "cell_type": "code",
   "execution_count": 6,
   "metadata": {},
   "outputs": [],
   "source": [
    "def build_model():\n",
    "    model = keras.Sequential()\n",
    "    model.add(layers.Dropout(0.2))\n",
    "    model.add(layers.Dense(units=40, activation='tanh'))\n",
    "    model.add(layers.Dense(units=20, activation='relu'))\n",
    "    model.add(layers.Dense(units=20, activation='relu'))\n",
    "    model.add(layers.Dense(2, activation = 'softmax')) #2 for binary classification\n",
    "    \n",
    "    model.compile(\n",
    "        optimizer = keras.optimizers.RMSprop(\n",
    "            learning_rate = 0.01,\n",
    "            rho = 0.55,\n",
    "            momentum = 0.5),\n",
    "        loss = 'binary_crossentropy',\n",
    "        metrics = ['accuracy'])\n",
    "    return model"
   ]
  },
  {
   "cell_type": "code",
   "execution_count": 7,
   "metadata": {},
   "outputs": [],
   "source": [
    "model = build_model()"
   ]
  },
  {
   "cell_type": "code",
   "execution_count": 8,
   "metadata": {},
   "outputs": [
    {
     "name": "stdout",
     "output_type": "stream",
     "text": [
      "WARNING:tensorflow:From /home/ubuntu/anaconda3/envs/tensorflow_p36/lib/python3.6/site-packages/tensorflow_core/python/ops/resource_variable_ops.py:1630: calling BaseResourceVariable.__init__ (from tensorflow.python.ops.resource_variable_ops) with constraint is deprecated and will be removed in a future version.\n",
      "Instructions for updating:\n",
      "If using Keras pass *_constraint arguments to layers.\n",
      "WARNING:tensorflow:From /home/ubuntu/anaconda3/envs/tensorflow_p36/lib/python3.6/site-packages/tensorflow_core/python/ops/math_grad.py:1424: where (from tensorflow.python.ops.array_ops) is deprecated and will be removed in a future version.\n",
      "Instructions for updating:\n",
      "Use tf.where in 2.0, which has the same broadcast rule as np.where\n",
      "Train on 128 samples\n",
      "Epoch 1/20\n",
      "128/128 [==============================] - 0s 2ms/sample - loss: 0.3750 - acc: 0.9141\n",
      "Epoch 2/20\n",
      "128/128 [==============================] - 0s 115us/sample - loss: 0.2139 - acc: 0.9141\n",
      "Epoch 3/20\n",
      "128/128 [==============================] - 0s 113us/sample - loss: 0.1625 - acc: 0.9141\n",
      "Epoch 4/20\n",
      "128/128 [==============================] - 0s 121us/sample - loss: 0.1346 - acc: 0.9453\n",
      "Epoch 5/20\n",
      "128/128 [==============================] - 0s 111us/sample - loss: 0.1202 - acc: 0.9531\n",
      "Epoch 6/20\n",
      "128/128 [==============================] - 0s 110us/sample - loss: 0.0960 - acc: 0.9766\n",
      "Epoch 7/20\n",
      "128/128 [==============================] - 0s 110us/sample - loss: 0.1041 - acc: 0.9766\n",
      "Epoch 8/20\n",
      "128/128 [==============================] - 0s 102us/sample - loss: 0.0799 - acc: 0.9766\n",
      "Epoch 9/20\n",
      "128/128 [==============================] - 0s 100us/sample - loss: 0.0348 - acc: 0.9844\n",
      "Epoch 10/20\n",
      "128/128 [==============================] - 0s 103us/sample - loss: 0.0364 - acc: 0.9844\n",
      "Epoch 11/20\n",
      "128/128 [==============================] - 0s 100us/sample - loss: 0.0287 - acc: 0.9844\n",
      "Epoch 12/20\n",
      "128/128 [==============================] - 0s 102us/sample - loss: 0.0208 - acc: 0.9922\n",
      "Epoch 13/20\n",
      "128/128 [==============================] - 0s 99us/sample - loss: 0.0392 - acc: 0.9922\n",
      "Epoch 14/20\n",
      "128/128 [==============================] - 0s 112us/sample - loss: 0.0421 - acc: 0.9766\n",
      "Epoch 15/20\n",
      "128/128 [==============================] - 0s 96us/sample - loss: 0.0150 - acc: 0.9922\n",
      "Epoch 16/20\n",
      "128/128 [==============================] - 0s 99us/sample - loss: 0.0477 - acc: 0.9844\n",
      "Epoch 17/20\n",
      "128/128 [==============================] - 0s 100us/sample - loss: 0.0072 - acc: 1.0000\n",
      "Epoch 18/20\n",
      "128/128 [==============================] - 0s 100us/sample - loss: 0.0081 - acc: 0.9922\n",
      "Epoch 19/20\n",
      "128/128 [==============================] - 0s 115us/sample - loss: 0.0024 - acc: 1.0000\n",
      "Epoch 20/20\n",
      "128/128 [==============================] - 0s 110us/sample - loss: 6.3479e-04 - acc: 1.0000\n"
     ]
    }
   ],
   "source": [
    "history = model.fit(X_train.values, y_train.values, epochs=20)"
   ]
  },
  {
   "cell_type": "code",
   "execution_count": 9,
   "metadata": {},
   "outputs": [
    {
     "name": "stdout",
     "output_type": "stream",
     "text": [
      "(37, 89)\n"
     ]
    }
   ],
   "source": [
    "df_dev = pd.read_csv('/home/ubuntu/cs230-project/data_sub_PCA/df_dev_PCA_dict_df_metab.csv')\n",
    "print (df_dev.shape)"
   ]
  },
  {
   "cell_type": "code",
   "execution_count": 10,
   "metadata": {},
   "outputs": [],
   "source": [
    "y_dev = df_dev.iloc[:,0]\n",
    "y_dev = pd.get_dummies(y_dev)\n",
    "X_dev = df_dev.iloc[:,1:]"
   ]
  },
  {
   "cell_type": "code",
   "execution_count": 11,
   "metadata": {},
   "outputs": [
    {
     "name": "stdout",
     "output_type": "stream",
     "text": [
      "(37, 2)\n",
      "(37, 88)\n"
     ]
    }
   ],
   "source": [
    "print (y_dev.shape)\n",
    "print (X_dev.shape)"
   ]
  },
  {
   "cell_type": "code",
   "execution_count": 12,
   "metadata": {},
   "outputs": [
    {
     "name": "stdout",
     "output_type": "stream",
     "text": [
      "37/37 [==============================] - 0s 1ms/sample - loss: 1.2742 - acc: 0.9189\n"
     ]
    }
   ],
   "source": [
    "results = model.evaluate(X_dev.values, y_dev.values)"
   ]
  },
  {
   "cell_type": "code",
   "execution_count": 13,
   "metadata": {},
   "outputs": [
    {
     "name": "stdout",
     "output_type": "stream",
     "text": [
      "test loss, test acc: [1.274162810094453, 0.9189189]\n"
     ]
    }
   ],
   "source": [
    "print (\"test loss, test acc:\", results)"
   ]
  },
  {
   "cell_type": "code",
   "execution_count": null,
   "metadata": {},
   "outputs": [],
   "source": []
  },
  {
   "cell_type": "code",
   "execution_count": null,
   "metadata": {},
   "outputs": [],
   "source": []
  }
 ],
 "metadata": {
  "kernelspec": {
   "display_name": "Python 3",
   "language": "python",
   "name": "python3"
  },
  "language_info": {
   "codemirror_mode": {
    "name": "ipython",
    "version": 3
   },
   "file_extension": ".py",
   "mimetype": "text/x-python",
   "name": "python",
   "nbconvert_exporter": "python",
   "pygments_lexer": "ipython3",
   "version": "3.6.10"
  }
 },
 "nbformat": 4,
 "nbformat_minor": 4
}
