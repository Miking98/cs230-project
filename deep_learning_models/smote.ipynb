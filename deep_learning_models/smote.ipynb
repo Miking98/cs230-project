{
 "cells": [
  {
   "cell_type": "code",
   "execution_count": 3,
   "metadata": {},
   "outputs": [
    {
     "name": "stdout",
     "output_type": "stream",
     "text": [
      "WARNING:tensorflow:From /home/ubuntu/anaconda3/envs/tensorflow_p36/lib/python3.6/site-packages/tensorflow_core/__init__.py:1473: The name tf.estimator.inputs is deprecated. Please use tf.compat.v1.estimator.inputs instead.\n",
      "\n"
     ]
    }
   ],
   "source": [
    "import pandas as pd\n",
    "from tensorflow import keras\n",
    "from tensorflow.keras import layers\n",
    "from imblearn.over_sampling import SMOTE"
   ]
  },
  {
   "cell_type": "code",
   "execution_count": 4,
   "metadata": {},
   "outputs": [],
   "source": [
    "df_train = pd.read_csv('/home/ubuntu/cs230-project/data_sub_PCA/df_train_PCA_dict_df_metab.csv')"
   ]
  },
  {
   "cell_type": "code",
   "execution_count": 5,
   "metadata": {},
   "outputs": [],
   "source": [
    "y_train = df_train.iloc[:,0]\n",
    "X_train = df_train.iloc[:,1:]"
   ]
  },
  {
   "cell_type": "code",
   "execution_count": 6,
   "metadata": {},
   "outputs": [],
   "source": [
    "y_train = pd.get_dummies(y_train)"
   ]
  },
  {
   "cell_type": "code",
   "execution_count": 7,
   "metadata": {},
   "outputs": [
    {
     "name": "stdout",
     "output_type": "stream",
     "text": [
      "(128, 2)\n",
      "(128, 88)\n",
      "False    117\n",
      "True      11\n",
      "dtype: int64\n"
     ]
    }
   ],
   "source": [
    "print (y_train.shape)\n",
    "print (X_train.shape)\n",
    "print (y_train.sum())"
   ]
  },
  {
   "cell_type": "code",
   "execution_count": 49,
   "metadata": {},
   "outputs": [],
   "source": [
    "smote = SMOTE(sampling_strategy=0.5)"
   ]
  },
  {
   "cell_type": "code",
   "execution_count": 50,
   "metadata": {},
   "outputs": [],
   "source": [
    "X_train_smote, y_train_smote = smote.fit_resample(X_train, y_train[True])"
   ]
  },
  {
   "cell_type": "code",
   "execution_count": 51,
   "metadata": {},
   "outputs": [
    {
     "name": "stdout",
     "output_type": "stream",
     "text": [
      "(175, 88)\n",
      "     False  True \n",
      "0    False   True\n",
      "1     True  False\n",
      "2     True  False\n",
      "3     True  False\n",
      "4     True  False\n",
      "..     ...    ...\n",
      "170  False   True\n",
      "171  False   True\n",
      "172  False   True\n",
      "173  False   True\n",
      "174  False   True\n",
      "\n",
      "[175 rows x 2 columns]\n"
     ]
    }
   ],
   "source": [
    "print (X_train_smote.shape)\n",
    "y_train_smote = y_train_smote.astype(bool)\n",
    "not_y_train_smote = ~y_train_smote\n",
    "y_train_smote_binary = pd.DataFrame({False:not_y_train_smote, True:y_train_smote})\n",
    "print (y_train_smote_binary)"
   ]
  },
  {
   "cell_type": "code",
   "execution_count": 52,
   "metadata": {},
   "outputs": [],
   "source": [
    "def build_model():\n",
    "    model = keras.Sequential()\n",
    "    model.add(layers.Dropout(0.2))\n",
    "    model.add(layers.Dense(units=40, activation='tanh'))\n",
    "    model.add(layers.Dense(units=20, activation='relu'))\n",
    "    model.add(layers.Dense(units=20, activation='relu'))\n",
    "    model.add(layers.Dense(2, activation = 'softmax')) #2 for binary classification\n",
    "    \n",
    "    model.compile(\n",
    "        optimizer = keras.optimizers.RMSprop(\n",
    "            learning_rate = 0.01,\n",
    "            rho = 0.55,\n",
    "            momentum = 0.5),\n",
    "        loss = 'binary_crossentropy',\n",
    "        metrics = ['accuracy'])\n",
    "    return model"
   ]
  },
  {
   "cell_type": "code",
   "execution_count": 57,
   "metadata": {},
   "outputs": [],
   "source": [
    "model = build_model()"
   ]
  },
  {
   "cell_type": "code",
   "execution_count": 58,
   "metadata": {},
   "outputs": [
    {
     "name": "stdout",
     "output_type": "stream",
     "text": [
      "Train on 175 samples\n",
      "Epoch 1/20\n",
      "175/175 [==============================] - 0s 868us/sample - loss: 0.6433 - acc: 0.6171\n",
      "Epoch 2/20\n",
      "175/175 [==============================] - 0s 102us/sample - loss: 0.2800 - acc: 0.8857\n",
      "Epoch 3/20\n",
      "175/175 [==============================] - 0s 106us/sample - loss: 0.1344 - acc: 0.9371\n",
      "Epoch 4/20\n",
      "175/175 [==============================] - 0s 109us/sample - loss: 0.0896 - acc: 0.9829\n",
      "Epoch 5/20\n",
      "175/175 [==============================] - 0s 101us/sample - loss: 0.0352 - acc: 0.9886\n",
      "Epoch 6/20\n",
      "175/175 [==============================] - 0s 109us/sample - loss: 0.0248 - acc: 0.9943\n",
      "Epoch 7/20\n",
      "175/175 [==============================] - 0s 104us/sample - loss: 0.0849 - acc: 0.9771\n",
      "Epoch 8/20\n",
      "175/175 [==============================] - 0s 105us/sample - loss: 0.0280 - acc: 0.9886\n",
      "Epoch 9/20\n",
      "175/175 [==============================] - 0s 107us/sample - loss: 0.0065 - acc: 1.0000\n",
      "Epoch 10/20\n",
      "175/175 [==============================] - 0s 103us/sample - loss: 0.0290 - acc: 0.9943\n",
      "Epoch 11/20\n",
      "175/175 [==============================] - 0s 108us/sample - loss: 0.0266 - acc: 0.9943\n",
      "Epoch 12/20\n",
      "175/175 [==============================] - 0s 106us/sample - loss: 0.0030 - acc: 1.0000\n",
      "Epoch 13/20\n",
      "175/175 [==============================] - 0s 105us/sample - loss: 0.0683 - acc: 0.9829\n",
      "Epoch 14/20\n",
      "175/175 [==============================] - 0s 110us/sample - loss: 0.0314 - acc: 0.9886\n",
      "Epoch 15/20\n",
      "175/175 [==============================] - 0s 103us/sample - loss: 0.0095 - acc: 0.9943\n",
      "Epoch 16/20\n",
      "175/175 [==============================] - 0s 106us/sample - loss: 0.0092 - acc: 0.9943\n",
      "Epoch 17/20\n",
      "175/175 [==============================] - 0s 103us/sample - loss: 0.0234 - acc: 0.9943\n",
      "Epoch 18/20\n",
      "175/175 [==============================] - 0s 108us/sample - loss: 0.0139 - acc: 0.9943\n",
      "Epoch 19/20\n",
      "175/175 [==============================] - 0s 109us/sample - loss: 0.0065 - acc: 0.9943\n",
      "Epoch 20/20\n",
      "175/175 [==============================] - 0s 107us/sample - loss: 0.0288 - acc: 0.9943\n"
     ]
    }
   ],
   "source": [
    "class_weight = {False:1.0, True:3.0}\n",
    "history = model.fit(X_train_smote.values, y_train_smote_binary.values, epochs=20)"
   ]
  },
  {
   "cell_type": "code",
   "execution_count": 43,
   "metadata": {},
   "outputs": [
    {
     "name": "stdout",
     "output_type": "stream",
     "text": [
      "(37, 89)\n"
     ]
    }
   ],
   "source": [
    "df_dev = pd.read_csv('/home/ubuntu/cs230-project/data_sub_PCA/df_dev_PCA_dict_df_metab.csv')\n",
    "print (df_dev.shape)"
   ]
  },
  {
   "cell_type": "code",
   "execution_count": 44,
   "metadata": {},
   "outputs": [],
   "source": [
    "y_dev = df_dev.iloc[:,0]\n",
    "y_dev = pd.get_dummies(y_dev)\n",
    "X_dev = df_dev.iloc[:,1:]"
   ]
  },
  {
   "cell_type": "code",
   "execution_count": 45,
   "metadata": {},
   "outputs": [
    {
     "name": "stdout",
     "output_type": "stream",
     "text": [
      "    False  True \n",
      "0       1      0\n",
      "1       1      0\n",
      "2       1      0\n",
      "3       0      1\n",
      "4       0      1\n",
      "5       1      0\n",
      "6       0      1\n",
      "7       1      0\n",
      "8       1      0\n",
      "9       1      0\n",
      "10      1      0\n",
      "11      1      0\n",
      "12      1      0\n",
      "13      1      0\n",
      "14      1      0\n",
      "15      1      0\n",
      "16      1      0\n",
      "17      1      0\n",
      "18      1      0\n",
      "19      1      0\n",
      "20      1      0\n",
      "21      1      0\n",
      "22      1      0\n",
      "23      1      0\n",
      "24      1      0\n",
      "25      1      0\n",
      "26      1      0\n",
      "27      1      0\n",
      "28      1      0\n",
      "29      1      0\n",
      "30      1      0\n",
      "31      1      0\n",
      "32      1      0\n",
      "33      1      0\n",
      "34      1      0\n",
      "35      1      0\n",
      "36      1      0\n",
      "(37, 88)\n"
     ]
    }
   ],
   "source": [
    "print (y_dev)\n",
    "print (X_dev.shape)"
   ]
  },
  {
   "cell_type": "code",
   "execution_count": 59,
   "metadata": {
    "scrolled": true
   },
   "outputs": [
    {
     "name": "stdout",
     "output_type": "stream",
     "text": [
      "    actual  pred\n",
      "0        0     0\n",
      "1        0     0\n",
      "2        0     0\n",
      "3        1     0\n",
      "4        1     0\n",
      "5        0     0\n",
      "6        1     0\n",
      "7        0     0\n",
      "8        0     0\n",
      "9        0     0\n",
      "10       0     0\n",
      "11       0     0\n",
      "12       0     0\n",
      "13       0     0\n",
      "14       0     0\n",
      "15       0     0\n",
      "16       0     0\n",
      "17       0     0\n",
      "18       0     0\n",
      "19       0     0\n",
      "20       0     0\n",
      "21       0     0\n",
      "22       0     0\n",
      "23       0     0\n",
      "24       0     0\n",
      "25       0     0\n",
      "26       0     1\n",
      "27       0     0\n",
      "28       0     0\n",
      "29       0     0\n",
      "30       0     0\n",
      "31       0     0\n",
      "32       0     0\n",
      "33       0     0\n",
      "34       0     0\n",
      "35       0     0\n",
      "36       0     0\n"
     ]
    }
   ],
   "source": [
    "dev_pred = pd.Series(model.predict_classes(X_dev))\n",
    "dev_y_vs_pred = pd.DataFrame({'actual':y_dev[True].values, 'pred':dev_pred})\n",
    "print (dev_y_vs_pred)"
   ]
  },
  {
   "cell_type": "code",
   "execution_count": null,
   "metadata": {},
   "outputs": [],
   "source": []
  }
 ],
 "metadata": {
  "kernelspec": {
   "display_name": "Python 3",
   "language": "python",
   "name": "python3"
  },
  "language_info": {
   "codemirror_mode": {
    "name": "ipython",
    "version": 3
   },
   "file_extension": ".py",
   "mimetype": "text/x-python",
   "name": "python",
   "nbconvert_exporter": "python",
   "pygments_lexer": "ipython3",
   "version": "3.6.10"
  }
 },
 "nbformat": 4,
 "nbformat_minor": 4
}
