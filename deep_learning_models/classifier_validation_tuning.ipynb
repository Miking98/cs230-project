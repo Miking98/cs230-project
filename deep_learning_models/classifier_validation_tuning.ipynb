{
 "cells": [
  {
   "cell_type": "code",
   "execution_count": 16,
   "metadata": {},
   "outputs": [],
   "source": [
    "import pandas as pd\n",
    "from tensorflow import keras\n",
    "from tensorflow.keras import layers\n",
    "from kerastuner.tuners import RandomSearch, BayesianOptimization\n",
    "import tensorflow as tf"
   ]
  },
  {
   "cell_type": "code",
   "execution_count": 17,
   "metadata": {},
   "outputs": [
    {
     "name": "stdout",
     "output_type": "stream",
     "text": [
      "<bound method NDFrame.head of      Depressed at Time  df_metab_0  df_metab_1  df_metab_2  df_metab_3  \\\n",
      "0                 True   45.789637   14.994401    2.792549   -7.301174   \n",
      "1                False   21.305736  -12.739211    2.414824  -22.494078   \n",
      "2                False  -11.160583    0.500590    1.948961  -18.053438   \n",
      "3                False   -3.505071    3.023377  -14.520562    9.177950   \n",
      "4                False    2.370956   14.234072    6.691360    4.755687   \n",
      "..                 ...         ...         ...         ...         ...   \n",
      "123              False    0.125152   -2.485553   -3.342023  -20.668625   \n",
      "124              False  -16.114327  -22.152604  -23.709256  -18.545960   \n",
      "125              False   36.381486    6.960738   11.266882    9.134153   \n",
      "126              False   -2.210158   12.276662  -22.779149   -9.248137   \n",
      "127              False   -1.710068   17.256411   11.794209    3.967151   \n",
      "\n",
      "     df_metab_4  df_metab_5  df_metab_6  df_metab_7  df_metab_8  ...  \\\n",
      "0      2.979374   -0.913556  -10.229722    3.839571   15.237508  ...   \n",
      "1     -5.710027   10.182443   -2.451668   -3.366818    7.031764  ...   \n",
      "2    -22.711004    6.541365    8.366531    7.116829    3.615027  ...   \n",
      "3     18.387869   12.611491   22.909826  -14.280988    7.079911  ...   \n",
      "4    -13.289094    7.853948    3.019834   -6.235657   19.070766  ...   \n",
      "..          ...         ...         ...         ...         ...  ...   \n",
      "123  -18.670531    5.270886   -4.055267    2.862509    0.817288  ...   \n",
      "124    0.272989   13.098050    5.441518   10.134082   -1.369082  ...   \n",
      "125   -6.859981    9.456483   -4.870111   -5.522212    2.868580  ...   \n",
      "126    7.348845  -19.683558   -0.544539    1.439142   -4.806192  ...   \n",
      "127   -7.073977   -9.116868   -5.906614    7.947229   18.566477  ...   \n",
      "\n",
      "     df_metab_78  df_metab_79  df_metab_80  df_metab_81  df_metab_82  \\\n",
      "0       2.750456    -2.901403     2.759620     4.480938    -3.582663   \n",
      "1       0.746035    -3.707440    -3.891046     2.684485     1.616988   \n",
      "2      -3.010996     3.635648     2.193355    -0.330299     2.823601   \n",
      "3       1.473849     2.262273    -0.203101    -1.807046    -0.316681   \n",
      "4      -0.127521     6.901653     1.268451     2.524945    -4.171543   \n",
      "..           ...          ...          ...          ...          ...   \n",
      "123     3.374207    -5.931721     3.062149     0.672421     1.207607   \n",
      "124    -4.339506    -1.992364     7.603839    -6.410090    -3.162364   \n",
      "125     2.539126     2.637960     2.235438     7.316500    -0.781183   \n",
      "126     5.400679     1.746592     1.580690    -1.207701     5.422559   \n",
      "127    -2.462806    -7.314410    16.402393     3.365966    -5.370727   \n",
      "\n",
      "     df_metab_83  df_metab_84  df_metab_85  df_metab_86  df_metab_87  \n",
      "0       0.469317     2.597935     0.159220     1.182358     0.696594  \n",
      "1       7.790377    -2.911657    -4.501589    -1.852580     0.191722  \n",
      "2       0.095792     5.084015     0.590115     2.170341    -2.478937  \n",
      "3       0.862496    -0.264648    -0.053904     0.513610    -0.644546  \n",
      "4       5.412390     3.531698    -7.274978     2.053378     3.030161  \n",
      "..           ...          ...          ...          ...          ...  \n",
      "123     1.341304    -4.681336     0.246370     6.649690    -2.093643  \n",
      "124    -5.106574     3.192732     4.019709     2.678097    -2.778203  \n",
      "125   -12.050419     6.648556    -5.598400     0.625768    -0.343988  \n",
      "126     0.502694     0.705520    -0.922350    -4.528967    -0.092109  \n",
      "127     4.905531    -1.799308    -3.315816    -0.114056    -4.228800  \n",
      "\n",
      "[128 rows x 89 columns]>\n"
     ]
    }
   ],
   "source": [
    "df_train = pd.read_csv('/home/ubuntu/cs230-project/data_sub_PCA/df_train_PCA_dict_df_metab.csv')\n",
    "print (df_train.head)"
   ]
  },
  {
   "cell_type": "code",
   "execution_count": 18,
   "metadata": {},
   "outputs": [],
   "source": [
    "y_train = df_train.iloc[:,0]\n",
    "X_train = df_train.iloc[:,1:]"
   ]
  },
  {
   "cell_type": "code",
   "execution_count": 19,
   "metadata": {},
   "outputs": [
    {
     "name": "stdout",
     "output_type": "stream",
     "text": [
      "11\n"
     ]
    }
   ],
   "source": [
    "# one-hot encoding\n",
    "y_train = pd.get_dummies(y_train)[True]\n",
    "print (y_train.sum())"
   ]
  },
  {
   "cell_type": "code",
   "execution_count": 20,
   "metadata": {},
   "outputs": [
    {
     "name": "stdout",
     "output_type": "stream",
     "text": [
      "(128,)\n",
      "(128, 88)\n"
     ]
    }
   ],
   "source": [
    "print (y_train.shape)\n",
    "print (X_train.shape)"
   ]
  },
  {
   "cell_type": "code",
   "execution_count": 21,
   "metadata": {},
   "outputs": [
    {
     "name": "stdout",
     "output_type": "stream",
     "text": [
      "(37, 89)\n"
     ]
    }
   ],
   "source": [
    "df_dev = pd.read_csv('/home/ubuntu/cs230-project/data_sub_PCA/df_dev_PCA_dict_df_metab.csv')\n",
    "print (df_dev.shape)"
   ]
  },
  {
   "cell_type": "code",
   "execution_count": 22,
   "metadata": {},
   "outputs": [],
   "source": [
    "y_dev = df_dev.iloc[:,0]\n",
    "y_dev = pd.get_dummies(y_dev)[True]\n",
    "X_dev = df_dev.iloc[:,1:]"
   ]
  },
  {
   "cell_type": "code",
   "execution_count": 23,
   "metadata": {},
   "outputs": [
    {
     "name": "stdout",
     "output_type": "stream",
     "text": [
      "(37,)\n",
      "(37, 88)\n",
      "3\n"
     ]
    }
   ],
   "source": [
    "print (y_dev.shape)\n",
    "print (X_dev.shape)\n",
    "print (y_dev.sum())"
   ]
  },
  {
   "cell_type": "code",
   "execution_count": 13,
   "metadata": {},
   "outputs": [],
   "source": [
    "def build_model(hp):\n",
    "    model = keras.Sequential()\n",
    "    model.add(layers.Dropout(0.2))\n",
    "    model.add(layers.Dense(units=40, activation='tanh',\n",
    "                          kernel_regularizer = keras.regularizers.l2(hp.Float('l2_dns1',0, 0.02, step=0.001))))\n",
    "    model.add(layers.Dropout(hp.Float('dropout1', 0, 0.5, step = 0.1)))\n",
    "    model.add(layers.Dense(units=20, activation='relu',\n",
    "                          kernel_regularizer = keras.regularizers.l2(hp.Float('l2_dns2',0, 0.02, step=0.001))))\n",
    "    model.add(layers.Dropout(hp.Float('dropout2', 0, 0.5, step = 0.1)))\n",
    "    model.add(layers.Dense(units=20, activation='relu',\n",
    "                          kernel_regularizer = keras.regularizers.l2(hp.Float('l2_dns3',0, 0.02, step=0.001))))\n",
    "    #model.add(layers.Dense(2, activation = 'softmax')) #2 for binary classification\n",
    "    model.add(layers.Dense(1, activation='sigmoid'))\n",
    "    \n",
    "    metrics_list = [\n",
    "        tf.keras.metrics.BinaryAccuracy(),\n",
    "        tf.keras.metrics.Precision(name=\"precision\"),\n",
    "        tf.keras.metrics.Recall(name=\"recall\"),\n",
    "    ]\n",
    "    \n",
    "    model.compile(\n",
    "        optimizer = keras.optimizers.RMSprop(\n",
    "        learning_rate = 0.01,\n",
    "        rho = 0.55,\n",
    "        momentum = 0.5),\n",
    "        loss = 'binary_crossentropy',\n",
    "        metrics = metrics_list)\n",
    "    \n",
    "    return model"
   ]
  },
  {
   "cell_type": "code",
   "execution_count": 26,
   "metadata": {},
   "outputs": [
    {
     "name": "stdout",
     "output_type": "stream",
     "text": [
      "INFO:tensorflow:Reloading Oracle from existing project Metabolomics_dev/untitled_project/oracle.json\n"
     ]
    }
   ],
   "source": [
    "#tuner = RandomSearch(\n",
    "tuner = BayesianOptimization(\n",
    "    build_model,\n",
    "    objective = 'val_binary_accuracy',\n",
    "    max_trials = 5,\n",
    "    executions_per_trial = 3,\n",
    "    directory = 'Metabolomics_dev')"
   ]
  },
  {
   "cell_type": "code",
   "execution_count": 27,
   "metadata": {},
   "outputs": [
    {
     "name": "stdout",
     "output_type": "stream",
     "text": [
      "Train on 128 samples, validate on 37 samples\n",
      "Epoch 1/5\n",
      "128/128 [==============================] - ETA: 0s - loss: 1.7017 - binary_accuracy: 0.6250 - precision: 0.1429 - recall: 1.00 - 0s 3ms/sample - loss: 1.4422 - binary_accuracy: 0.7891 - precision: 0.1000 - recall: 0.1818 - val_loss: 1.1379 - val_binary_accuracy: 0.9189 - val_precision: 0.0000e+00 - val_recall: 0.0000e+00\n",
      "Epoch 2/5\n",
      "128/128 [==============================] - ETA: 0s - loss: 1.3172 - binary_accuracy: 0.8125 - precision: 0.0000e+00 - recall: 0.0000e+ - 0s 191us/sample - loss: 1.0644 - binary_accuracy: 0.9141 - precision: 0.0000e+00 - recall: 0.0000e+00 - val_loss: 0.9363 - val_binary_accuracy: 0.9189 - val_precision: 0.0000e+00 - val_recall: 0.0000e+00\n",
      "Epoch 3/5\n",
      "128/128 [==============================] - ETA: 0s - loss: 0.7963 - binary_accuracy: 0.9375 - precision: 0.0000e+00 - recall: 0.0000e+ - 0s 186us/sample - loss: 0.8490 - binary_accuracy: 0.9141 - precision: 0.0000e+00 - recall: 0.0000e+00 - val_loss: 0.8112 - val_binary_accuracy: 0.9189 - val_precision: 0.0000e+00 - val_recall: 0.0000e+00\n",
      "Epoch 4/5\n",
      "128/128 [==============================] - ETA: 0s - loss: 0.7713 - binary_accuracy: 0.8438 - precision: 0.0000e+00 - recall: 0.0000e+ - 0s 183us/sample - loss: 0.6502 - binary_accuracy: 0.9141 - precision: 0.0000e+00 - recall: 0.0000e+00 - val_loss: 0.7738 - val_binary_accuracy: 0.9189 - val_precision: 0.0000e+00 - val_recall: 0.0000e+00\n",
      "Epoch 5/5\n",
      "128/128 [==============================] - ETA: 0s - loss: 0.4627 - binary_accuracy: 0.9688 - precision: 0.0000e+00 - recall: 0.0000e+ - 0s 188us/sample - loss: 0.5507 - binary_accuracy: 0.9297 - precision: 1.0000 - recall: 0.1818 - val_loss: 0.7813 - val_binary_accuracy: 0.9189 - val_precision: 0.0000e+00 - val_recall: 0.0000e+00\n",
      "Train on 128 samples, validate on 37 samples\n",
      "Epoch 1/5\n",
      "128/128 [==============================] - ETA: 0s - loss: 1.5811 - binary_accuracy: 0.7812 - precision: 0.0000e+00 - recall: 0.0000e+ - 0s 2ms/sample - loss: 1.3134 - binary_accuracy: 0.8906 - precision: 0.0000e+00 - recall: 0.0000e+00 - val_loss: 1.0183 - val_binary_accuracy: 0.9189 - val_precision: 0.0000e+00 - val_recall: 0.0000e+00\n",
      "Epoch 2/5\n",
      "128/128 [==============================] - ETA: 0s - loss: 0.9360 - binary_accuracy: 0.9375 - precision: 0.0000e+00 - recall: 0.0000e+ - 0s 185us/sample - loss: 0.9534 - binary_accuracy: 0.9141 - precision: 0.0000e+00 - recall: 0.0000e+00 - val_loss: 0.8145 - val_binary_accuracy: 0.9189 - val_precision: 0.0000e+00 - val_recall: 0.0000e+00\n",
      "Epoch 3/5\n",
      "128/128 [==============================] - ETA: 0s - loss: 0.6770 - binary_accuracy: 0.9375 - precision: 0.0000e+00 - recall: 0.0000e+ - 0s 183us/sample - loss: 0.7037 - binary_accuracy: 0.9219 - precision: 1.0000 - recall: 0.0909 - val_loss: 0.6999 - val_binary_accuracy: 0.9189 - val_precision: 0.0000e+00 - val_recall: 0.0000e+00\n",
      "Epoch 4/5\n",
      "128/128 [==============================] - ETA: 0s - loss: 0.5189 - binary_accuracy: 0.9688 - precision: 0.0000e+00 - recall: 0.0000e+ - 0s 185us/sample - loss: 0.5720 - binary_accuracy: 0.9141 - precision: 0.0000e+00 - recall: 0.0000e+00 - val_loss: 0.5928 - val_binary_accuracy: 0.9189 - val_precision: 0.0000e+00 - val_recall: 0.0000e+00\n",
      "Epoch 5/5\n",
      "128/128 [==============================] - ETA: 0s - loss: 0.4629 - binary_accuracy: 0.9062 - precision: 0.0000e+00 - recall: 0.0000e+ - 0s 189us/sample - loss: 0.4790 - binary_accuracy: 0.9141 - precision: 0.0000e+00 - recall: 0.0000e+00 - val_loss: 0.7307 - val_binary_accuracy: 0.9189 - val_precision: 0.0000e+00 - val_recall: 0.0000e+00\n",
      "Train on 128 samples, validate on 37 samples\n",
      "Epoch 1/5\n",
      "128/128 [==============================] - ETA: 0s - loss: 1.6744 - binary_accuracy: 0.6875 - precision: 0.0000e+00 - recall: 0.0000e+ - 0s 2ms/sample - loss: 1.4269 - binary_accuracy: 0.8203 - precision: 0.0000e+00 - recall: 0.0000e+00 - val_loss: 1.1132 - val_binary_accuracy: 0.9189 - val_precision: 0.0000e+00 - val_recall: 0.0000e+00\n",
      "Epoch 2/5\n",
      "128/128 [==============================] - ETA: 0s - loss: 1.0019 - binary_accuracy: 0.9688 - precision: 0.0000e+00 - recall: 0.0000e+ - 0s 187us/sample - loss: 1.0564 - binary_accuracy: 0.9141 - precision: 0.0000e+00 - recall: 0.0000e+00 - val_loss: 0.9559 - val_binary_accuracy: 0.9189 - val_precision: 0.0000e+00 - val_recall: 0.0000e+00\n",
      "Epoch 3/5\n",
      "128/128 [==============================] - ETA: 0s - loss: 1.0226 - binary_accuracy: 0.8438 - precision: 0.0000e+00 - recall: 0.0000e+ - 0s 182us/sample - loss: 0.8176 - binary_accuracy: 0.9141 - precision: 0.0000e+00 - recall: 0.0000e+00 - val_loss: 0.7868 - val_binary_accuracy: 0.9189 - val_precision: 0.0000e+00 - val_recall: 0.0000e+00\n",
      "Epoch 4/5\n",
      "128/128 [==============================] - ETA: 0s - loss: 0.8732 - binary_accuracy: 0.8438 - precision: 0.0000e+00 - recall: 0.0000e+ - 0s 191us/sample - loss: 0.6515 - binary_accuracy: 0.9141 - precision: 0.0000e+00 - recall: 0.0000e+00 - val_loss: 0.7432 - val_binary_accuracy: 0.9189 - val_precision: 0.0000e+00 - val_recall: 0.0000e+00\n",
      "Epoch 5/5\n",
      "128/128 [==============================] - ETA: 0s - loss: 0.5186 - binary_accuracy: 0.8750 - precision: 0.0000e+00 - recall: 0.0000e+ - 0s 190us/sample - loss: 0.5165 - binary_accuracy: 0.9141 - precision: 0.5000 - recall: 0.0909 - val_loss: 0.8570 - val_binary_accuracy: 0.9189 - val_precision: 0.0000e+00 - val_recall: 0.0000e+00\n"
     ]
    },
    {
     "data": {
      "text/html": [
       "<span style=\"color:#4527A0\"><h1 style=\"font-size:18px\">Trial complete</h1></span>"
      ],
      "text/plain": [
       "<IPython.core.display.HTML object>"
      ]
     },
     "metadata": {},
     "output_type": "display_data"
    },
    {
     "data": {
      "text/html": [
       "<span style=\"color:#4527A0\"><h1 style=\"font-size:18px\">Trial summary</h1></span>"
      ],
      "text/plain": [
       "<IPython.core.display.HTML object>"
      ]
     },
     "metadata": {},
     "output_type": "display_data"
    },
    {
     "data": {
      "text/html": [
       "<span style=\"color:cyan\"> |-Trial ID: 46aa195e676865aa192633e55efdc0a0</span>"
      ],
      "text/plain": [
       "<IPython.core.display.HTML object>"
      ]
     },
     "metadata": {},
     "output_type": "display_data"
    },
    {
     "data": {
      "text/html": [
       "<span style=\"color:cyan\"> |-Score: 0.9189189076423645</span>"
      ],
      "text/plain": [
       "<IPython.core.display.HTML object>"
      ]
     },
     "metadata": {},
     "output_type": "display_data"
    },
    {
     "data": {
      "text/html": [
       "<span style=\"color:cyan\"> |-Best step: 0</span>"
      ],
      "text/plain": [
       "<IPython.core.display.HTML object>"
      ]
     },
     "metadata": {},
     "output_type": "display_data"
    },
    {
     "data": {
      "text/html": [
       "<span style=\"color:#7E57C2\"><h2 style=\"font-size:16px\">Hyperparameters:</h2></span>"
      ],
      "text/plain": [
       "<IPython.core.display.HTML object>"
      ]
     },
     "metadata": {},
     "output_type": "display_data"
    },
    {
     "data": {
      "text/html": [
       "<span style=\"color:cyan\"> |-dropout1: 0.0</span>"
      ],
      "text/plain": [
       "<IPython.core.display.HTML object>"
      ]
     },
     "metadata": {},
     "output_type": "display_data"
    },
    {
     "data": {
      "text/html": [
       "<span style=\"color:blue\"> |-dropout2: 0.30000000000000004</span>"
      ],
      "text/plain": [
       "<IPython.core.display.HTML object>"
      ]
     },
     "metadata": {},
     "output_type": "display_data"
    },
    {
     "data": {
      "text/html": [
       "<span style=\"color:cyan\"> |-l2_dns1: 0.015</span>"
      ],
      "text/plain": [
       "<IPython.core.display.HTML object>"
      ]
     },
     "metadata": {},
     "output_type": "display_data"
    },
    {
     "data": {
      "text/html": [
       "<span style=\"color:blue\"> |-l2_dns2: 0.007</span>"
      ],
      "text/plain": [
       "<IPython.core.display.HTML object>"
      ]
     },
     "metadata": {},
     "output_type": "display_data"
    },
    {
     "data": {
      "text/html": [
       "<span style=\"color:cyan\"> |-l2_dns3: 0.001</span>"
      ],
      "text/plain": [
       "<IPython.core.display.HTML object>"
      ]
     },
     "metadata": {},
     "output_type": "display_data"
    },
    {
     "name": "stdout",
     "output_type": "stream",
     "text": [
      "Train on 128 samples, validate on 37 samples\n",
      "Epoch 1/5\n",
      "128/128 [==============================] - ETA: 0s - loss: 1.0823 - binary_accuracy: 0.8438 - precision: 0.0000e+00 - recall: 0.0000e+ - 0s 3ms/sample - loss: 0.9343 - binary_accuracy: 0.8906 - precision: 0.0000e+00 - recall: 0.0000e+00 - val_loss: 0.8296 - val_binary_accuracy: 0.9189 - val_precision: 0.0000e+00 - val_recall: 0.0000e+00\n",
      "Epoch 2/5\n",
      "128/128 [==============================] - ETA: 0s - loss: 0.7412 - binary_accuracy: 0.9375 - precision: 0.0000e+00 - recall: 0.0000e+ - 0s 194us/sample - loss: 0.7547 - binary_accuracy: 0.9141 - precision: 0.0000e+00 - recall: 0.0000e+00 - val_loss: 0.7245 - val_binary_accuracy: 0.9189 - val_precision: 0.0000e+00 - val_recall: 0.0000e+00\n",
      "Epoch 3/5\n",
      "128/128 [==============================] - ETA: 0s - loss: 0.6440 - binary_accuracy: 0.9062 - precision: 0.0000e+00 - recall: 0.0000e+ - 0s 190us/sample - loss: 0.6882 - binary_accuracy: 0.9141 - precision: 0.0000e+00 - recall: 0.0000e+00 - val_loss: 0.6707 - val_binary_accuracy: 0.9189 - val_precision: 0.0000e+00 - val_recall: 0.0000e+00\n",
      "Epoch 4/5\n",
      "128/128 [==============================] - ETA: 0s - loss: 0.6643 - binary_accuracy: 0.8750 - precision: 0.0000e+00 - recall: 0.0000e+ - 0s 186us/sample - loss: 0.5971 - binary_accuracy: 0.9141 - precision: 0.0000e+00 - recall: 0.0000e+00 - val_loss: 0.6441 - val_binary_accuracy: 0.9189 - val_precision: 0.0000e+00 - val_recall: 0.0000e+00\n",
      "Epoch 5/5\n",
      "128/128 [==============================] - ETA: 0s - loss: 0.4956 - binary_accuracy: 0.9375 - precision: 0.0000e+00 - recall: 0.0000e+ - 0s 191us/sample - loss: 0.5090 - binary_accuracy: 0.9141 - precision: 0.0000e+00 - recall: 0.0000e+00 - val_loss: 0.5856 - val_binary_accuracy: 0.9189 - val_precision: 0.0000e+00 - val_recall: 0.0000e+00\n",
      "Train on 128 samples, validate on 37 samples\n",
      "Epoch 1/5\n",
      "128/128 [==============================] - ETA: 0s - loss: 0.9813 - binary_accuracy: 0.8438 - precision: 0.0000e+00 - recall: 0.0000e+ - 0s 2ms/sample - loss: 0.9165 - binary_accuracy: 0.8828 - precision: 0.0000e+00 - recall: 0.0000e+00 - val_loss: 0.7825 - val_binary_accuracy: 0.9189 - val_precision: 0.0000e+00 - val_recall: 0.0000e+00\n",
      "Epoch 2/5\n",
      "128/128 [==============================] - ETA: 0s - loss: 0.6859 - binary_accuracy: 0.9688 - precision: 0.0000e+00 - recall: 0.0000e+ - 0s 189us/sample - loss: 0.7923 - binary_accuracy: 0.9141 - precision: 0.0000e+00 - recall: 0.0000e+00 - val_loss: 0.6664 - val_binary_accuracy: 0.9189 - val_precision: 0.0000e+00 - val_recall: 0.0000e+00\n",
      "Epoch 3/5\n",
      "128/128 [==============================] - ETA: 0s - loss: 0.8162 - binary_accuracy: 0.9062 - precision: 0.0000e+00 - recall: 0.0000e+ - 0s 185us/sample - loss: 0.6962 - binary_accuracy: 0.9141 - precision: 0.0000e+00 - recall: 0.0000e+00 - val_loss: 0.6366 - val_binary_accuracy: 0.9189 - val_precision: 0.0000e+00 - val_recall: 0.0000e+00\n",
      "Epoch 4/5\n",
      "128/128 [==============================] - ETA: 0s - loss: 0.6103 - binary_accuracy: 0.9062 - precision: 0.0000e+00 - recall: 0.0000e+ - 0s 189us/sample - loss: 0.5737 - binary_accuracy: 0.9141 - precision: 0.0000e+00 - recall: 0.0000e+00 - val_loss: 0.6107 - val_binary_accuracy: 0.9189 - val_precision: 0.0000e+00 - val_recall: 0.0000e+00\n",
      "Epoch 5/5\n",
      "128/128 [==============================] - ETA: 0s - loss: 0.4409 - binary_accuracy: 0.9375 - precision: 0.0000e+00 - recall: 0.0000e+ - 0s 194us/sample - loss: 0.5061 - binary_accuracy: 0.9141 - precision: 0.0000e+00 - recall: 0.0000e+00 - val_loss: 0.5730 - val_binary_accuracy: 0.9189 - val_precision: 0.0000e+00 - val_recall: 0.0000e+00\n",
      "Train on 128 samples, validate on 37 samples\n",
      "Epoch 1/5\n",
      "128/128 [==============================] - ETA: 0s - loss: 1.0769 - binary_accuracy: 0.8125 - precision: 0.3333 - recall: 0.50 - 0s 2ms/sample - loss: 0.9453 - binary_accuracy: 0.8906 - precision: 0.3333 - recall: 0.2727 - val_loss: 0.7841 - val_binary_accuracy: 0.9189 - val_precision: 0.0000e+00 - val_recall: 0.0000e+00\n",
      "Epoch 2/5\n",
      "128/128 [==============================] - ETA: 0s - loss: 0.8839 - binary_accuracy: 0.9375 - precision: 0.0000e+00 - recall: 0.0000e+ - 0s 192us/sample - loss: 0.8180 - binary_accuracy: 0.9141 - precision: 0.0000e+00 - recall: 0.0000e+00 - val_loss: 0.6666 - val_binary_accuracy: 0.9189 - val_precision: 0.0000e+00 - val_recall: 0.0000e+00\n",
      "Epoch 3/5\n",
      "128/128 [==============================] - ETA: 0s - loss: 0.7883 - binary_accuracy: 0.8750 - precision: 0.0000e+00 - recall: 0.0000e+ - 0s 191us/sample - loss: 0.6353 - binary_accuracy: 0.9141 - precision: 0.0000e+00 - recall: 0.0000e+00 - val_loss: 0.6432 - val_binary_accuracy: 0.9189 - val_precision: 0.0000e+00 - val_recall: 0.0000e+00\n",
      "Epoch 4/5\n",
      "128/128 [==============================] - ETA: 0s - loss: 0.7201 - binary_accuracy: 0.8438 - precision: 0.0000e+00 - recall: 0.0000e+ - 0s 186us/sample - loss: 0.5985 - binary_accuracy: 0.9141 - precision: 0.0000e+00 - recall: 0.0000e+00 - val_loss: 0.6062 - val_binary_accuracy: 0.9189 - val_precision: 0.0000e+00 - val_recall: 0.0000e+00\n",
      "Epoch 5/5\n",
      "128/128 [==============================] - ETA: 0s - loss: 0.5279 - binary_accuracy: 0.8750 - precision: 0.0000e+00 - recall: 0.0000e+ - 0s 190us/sample - loss: 0.5227 - binary_accuracy: 0.9141 - precision: 0.0000e+00 - recall: 0.0000e+00 - val_loss: 0.5856 - val_binary_accuracy: 0.9189 - val_precision: 0.0000e+00 - val_recall: 0.0000e+00\n"
     ]
    },
    {
     "data": {
      "text/html": [
       "<span style=\"color:#4527A0\"><h1 style=\"font-size:18px\">Trial complete</h1></span>"
      ],
      "text/plain": [
       "<IPython.core.display.HTML object>"
      ]
     },
     "metadata": {},
     "output_type": "display_data"
    },
    {
     "data": {
      "text/html": [
       "<span style=\"color:#4527A0\"><h1 style=\"font-size:18px\">Trial summary</h1></span>"
      ],
      "text/plain": [
       "<IPython.core.display.HTML object>"
      ]
     },
     "metadata": {},
     "output_type": "display_data"
    },
    {
     "data": {
      "text/html": [
       "<span style=\"color:cyan\"> |-Trial ID: 990f7284be1f9d3170f0410342ae2628</span>"
      ],
      "text/plain": [
       "<IPython.core.display.HTML object>"
      ]
     },
     "metadata": {},
     "output_type": "display_data"
    },
    {
     "data": {
      "text/html": [
       "<span style=\"color:cyan\"> |-Score: 0.9189189076423645</span>"
      ],
      "text/plain": [
       "<IPython.core.display.HTML object>"
      ]
     },
     "metadata": {},
     "output_type": "display_data"
    },
    {
     "data": {
      "text/html": [
       "<span style=\"color:cyan\"> |-Best step: 0</span>"
      ],
      "text/plain": [
       "<IPython.core.display.HTML object>"
      ]
     },
     "metadata": {},
     "output_type": "display_data"
    },
    {
     "data": {
      "text/html": [
       "<span style=\"color:#7E57C2\"><h2 style=\"font-size:16px\">Hyperparameters:</h2></span>"
      ],
      "text/plain": [
       "<IPython.core.display.HTML object>"
      ]
     },
     "metadata": {},
     "output_type": "display_data"
    },
    {
     "data": {
      "text/html": [
       "<span style=\"color:cyan\"> |-dropout1: 0.30000000000000004</span>"
      ],
      "text/plain": [
       "<IPython.core.display.HTML object>"
      ]
     },
     "metadata": {},
     "output_type": "display_data"
    },
    {
     "data": {
      "text/html": [
       "<span style=\"color:blue\"> |-dropout2: 0.4</span>"
      ],
      "text/plain": [
       "<IPython.core.display.HTML object>"
      ]
     },
     "metadata": {},
     "output_type": "display_data"
    },
    {
     "data": {
      "text/html": [
       "<span style=\"color:cyan\"> |-l2_dns1: 0.003</span>"
      ],
      "text/plain": [
       "<IPython.core.display.HTML object>"
      ]
     },
     "metadata": {},
     "output_type": "display_data"
    },
    {
     "data": {
      "text/html": [
       "<span style=\"color:blue\"> |-l2_dns2: 0.015</span>"
      ],
      "text/plain": [
       "<IPython.core.display.HTML object>"
      ]
     },
     "metadata": {},
     "output_type": "display_data"
    },
    {
     "data": {
      "text/html": [
       "<span style=\"color:cyan\"> |-l2_dns3: 0.001</span>"
      ],
      "text/plain": [
       "<IPython.core.display.HTML object>"
      ]
     },
     "metadata": {},
     "output_type": "display_data"
    },
    {
     "name": "stdout",
     "output_type": "stream",
     "text": [
      "Train on 128 samples, validate on 37 samples\n",
      "Epoch 1/5\n",
      "128/128 [==============================] - ETA: 0s - loss: 1.0522 - binary_accuracy: 0.9688 - precision: 1.0000 - recall: 0.50 - 0s 3ms/sample - loss: 1.0296 - binary_accuracy: 0.9219 - precision: 1.0000 - recall: 0.0909 - val_loss: 0.9419 - val_binary_accuracy: 0.9189 - val_precision: 0.0000e+00 - val_recall: 0.0000e+00\n",
      "Epoch 2/5\n",
      "128/128 [==============================] - ETA: 0s - loss: 0.9365 - binary_accuracy: 0.8125 - precision: 0.0000e+00 - recall: 0.0000e+ - 0s 197us/sample - loss: 0.7631 - binary_accuracy: 0.9141 - precision: 0.0000e+00 - recall: 0.0000e+00 - val_loss: 0.9081 - val_binary_accuracy: 0.9189 - val_precision: 0.0000e+00 - val_recall: 0.0000e+00\n",
      "Epoch 3/5\n",
      "128/128 [==============================] - ETA: 0s - loss: 0.5921 - binary_accuracy: 0.9375 - precision: 0.0000e+00 - recall: 0.0000e+ - 0s 185us/sample - loss: 0.6136 - binary_accuracy: 0.9141 - precision: 0.0000e+00 - recall: 0.0000e+00 - val_loss: 0.8020 - val_binary_accuracy: 0.9189 - val_precision: 0.0000e+00 - val_recall: 0.0000e+00\n",
      "Epoch 4/5\n",
      "128/128 [==============================] - ETA: 0s - loss: 0.4245 - binary_accuracy: 0.9688 - precision: 0.0000e+00 - recall: 0.0000e+ - 0s 188us/sample - loss: 0.4845 - binary_accuracy: 0.9375 - precision: 1.0000 - recall: 0.2727 - val_loss: 0.8092 - val_binary_accuracy: 0.8919 - val_precision: 0.0000e+00 - val_recall: 0.0000e+00\n",
      "Epoch 5/5\n",
      "128/128 [==============================] - ETA: 0s - loss: 0.4195 - binary_accuracy: 0.9062 - precision: 1.0000 - recall: 0.25 - 0s 187us/sample - loss: 0.3949 - binary_accuracy: 0.9531 - precision: 1.0000 - recall: 0.4545 - val_loss: 0.9068 - val_binary_accuracy: 0.8919 - val_precision: 0.0000e+00 - val_recall: 0.0000e+00\n",
      "Train on 128 samples, validate on 37 samples\n",
      "Epoch 1/5\n",
      "128/128 [==============================] - ETA: 0s - loss: 1.9283 - binary_accuracy: 0.0938 - precision: 0.0938 - recall: 1.00 - 0s 2ms/sample - loss: 1.4218 - binary_accuracy: 0.5000 - precision: 0.0508 - recall: 0.2727 - val_loss: 0.9759 - val_binary_accuracy: 0.9189 - val_precision: 0.0000e+00 - val_recall: 0.0000e+00\n",
      "Epoch 2/5\n",
      "128/128 [==============================] - ETA: 0s - loss: 0.9023 - binary_accuracy: 0.9375 - precision: 0.0000e+00 - recall: 0.0000e+ - 0s 190us/sample - loss: 0.8513 - binary_accuracy: 0.9141 - precision: 0.0000e+00 - recall: 0.0000e+00 - val_loss: 0.8462 - val_binary_accuracy: 0.9189 - val_precision: 0.0000e+00 - val_recall: 0.0000e+00\n",
      "Epoch 3/5\n",
      "128/128 [==============================] - ETA: 0s - loss: 0.6488 - binary_accuracy: 0.9375 - precision: 0.0000e+00 - recall: 0.0000e+ - 0s 187us/sample - loss: 0.6676 - binary_accuracy: 0.9141 - precision: 0.0000e+00 - recall: 0.0000e+00 - val_loss: 0.7586 - val_binary_accuracy: 0.9189 - val_precision: 0.0000e+00 - val_recall: 0.0000e+00\n",
      "Epoch 4/5\n",
      "128/128 [==============================] - ETA: 0s - loss: 0.5272 - binary_accuracy: 0.9375 - precision: 0.0000e+00 - recall: 0.0000e+ - 0s 197us/sample - loss: 0.5891 - binary_accuracy: 0.9219 - precision: 1.0000 - recall: 0.0909 - val_loss: 0.7097 - val_binary_accuracy: 0.9189 - val_precision: 0.0000e+00 - val_recall: 0.0000e+00\n",
      "Epoch 5/5\n",
      "128/128 [==============================] - ETA: 0s - loss: 0.4217 - binary_accuracy: 0.9688 - precision: 0.0000e+00 - recall: 0.0000e+ - 0s 194us/sample - loss: 0.4378 - binary_accuracy: 0.9141 - precision: 0.0000e+00 - recall: 0.0000e+00 - val_loss: 0.6666 - val_binary_accuracy: 0.9189 - val_precision: 0.0000e+00 - val_recall: 0.0000e+00\n",
      "Train on 128 samples, validate on 37 samples\n",
      "Epoch 1/5\n",
      "128/128 [==============================] - ETA: 0s - loss: 1.4653 - binary_accuracy: 0.4062 - precision: 0.1364 - recall: 1.00 - 0s 2ms/sample - loss: 1.2007 - binary_accuracy: 0.7422 - precision: 0.1562 - recall: 0.4545 - val_loss: 0.8621 - val_binary_accuracy: 0.9189 - val_precision: 0.0000e+00 - val_recall: 0.0000e+00\n",
      "Epoch 2/5\n",
      "128/128 [==============================] - ETA: 0s - loss: 0.8645 - binary_accuracy: 0.9062 - precision: 0.0000e+00 - recall: 0.0000e+ - 0s 190us/sample - loss: 0.8356 - binary_accuracy: 0.9141 - precision: 0.0000e+00 - recall: 0.0000e+00 - val_loss: 0.7450 - val_binary_accuracy: 0.9189 - val_precision: 0.0000e+00 - val_recall: 0.0000e+00\n",
      "Epoch 3/5\n",
      "128/128 [==============================] - ETA: 0s - loss: 0.5234 - binary_accuracy: 1.0000 - precision: 0.0000e+00 - recall: 0.0000e+ - 0s 208us/sample - loss: 0.6185 - binary_accuracy: 0.9141 - precision: 0.0000e+00 - recall: 0.0000e+00 - val_loss: 0.6347 - val_binary_accuracy: 0.9189 - val_precision: 0.0000e+00 - val_recall: 0.0000e+00\n",
      "Epoch 4/5\n",
      "128/128 [==============================] - ETA: 0s - loss: 0.5889 - binary_accuracy: 0.9062 - precision: 0.0000e+00 - recall: 0.0000e+ - 0s 199us/sample - loss: 0.5297 - binary_accuracy: 0.9141 - precision: 0.0000e+00 - recall: 0.0000e+00 - val_loss: 0.6423 - val_binary_accuracy: 0.9189 - val_precision: 0.0000e+00 - val_recall: 0.0000e+00\n",
      "Epoch 5/5\n",
      "128/128 [==============================] - ETA: 0s - loss: 0.5682 - binary_accuracy: 0.8125 - precision: 0.0000e+00 - recall: 0.0000e+ - 0s 194us/sample - loss: 0.4318 - binary_accuracy: 0.9141 - precision: 0.0000e+00 - recall: 0.0000e+00 - val_loss: 0.6900 - val_binary_accuracy: 0.9189 - val_precision: 0.0000e+00 - val_recall: 0.0000e+00\n"
     ]
    },
    {
     "data": {
      "text/html": [
       "<span style=\"color:#4527A0\"><h1 style=\"font-size:18px\">Trial complete</h1></span>"
      ],
      "text/plain": [
       "<IPython.core.display.HTML object>"
      ]
     },
     "metadata": {},
     "output_type": "display_data"
    },
    {
     "data": {
      "text/html": [
       "<span style=\"color:#4527A0\"><h1 style=\"font-size:18px\">Trial summary</h1></span>"
      ],
      "text/plain": [
       "<IPython.core.display.HTML object>"
      ]
     },
     "metadata": {},
     "output_type": "display_data"
    },
    {
     "data": {
      "text/html": [
       "<span style=\"color:cyan\"> |-Trial ID: 07c61b4d859c3f149f0b0c1704d33bda</span>"
      ],
      "text/plain": [
       "<IPython.core.display.HTML object>"
      ]
     },
     "metadata": {},
     "output_type": "display_data"
    },
    {
     "data": {
      "text/html": [
       "<span style=\"color:cyan\"> |-Score: 0.9189189076423645</span>"
      ],
      "text/plain": [
       "<IPython.core.display.HTML object>"
      ]
     },
     "metadata": {},
     "output_type": "display_data"
    },
    {
     "data": {
      "text/html": [
       "<span style=\"color:cyan\"> |-Best step: 0</span>"
      ],
      "text/plain": [
       "<IPython.core.display.HTML object>"
      ]
     },
     "metadata": {},
     "output_type": "display_data"
    },
    {
     "data": {
      "text/html": [
       "<span style=\"color:#7E57C2\"><h2 style=\"font-size:16px\">Hyperparameters:</h2></span>"
      ],
      "text/plain": [
       "<IPython.core.display.HTML object>"
      ]
     },
     "metadata": {},
     "output_type": "display_data"
    },
    {
     "data": {
      "text/html": [
       "<span style=\"color:cyan\"> |-dropout1: 0.1</span>"
      ],
      "text/plain": [
       "<IPython.core.display.HTML object>"
      ]
     },
     "metadata": {},
     "output_type": "display_data"
    },
    {
     "data": {
      "text/html": [
       "<span style=\"color:blue\"> |-dropout2: 0.1</span>"
      ],
      "text/plain": [
       "<IPython.core.display.HTML object>"
      ]
     },
     "metadata": {},
     "output_type": "display_data"
    },
    {
     "data": {
      "text/html": [
       "<span style=\"color:cyan\"> |-l2_dns1: 0.006</span>"
      ],
      "text/plain": [
       "<IPython.core.display.HTML object>"
      ]
     },
     "metadata": {},
     "output_type": "display_data"
    },
    {
     "data": {
      "text/html": [
       "<span style=\"color:blue\"> |-l2_dns2: 0.013000000000000001</span>"
      ],
      "text/plain": [
       "<IPython.core.display.HTML object>"
      ]
     },
     "metadata": {},
     "output_type": "display_data"
    },
    {
     "data": {
      "text/html": [
       "<span style=\"color:cyan\"> |-l2_dns3: 0.002</span>"
      ],
      "text/plain": [
       "<IPython.core.display.HTML object>"
      ]
     },
     "metadata": {},
     "output_type": "display_data"
    },
    {
     "name": "stdout",
     "output_type": "stream",
     "text": [
      "Train on 128 samples, validate on 37 samples\n",
      "Epoch 1/5\n",
      "128/128 [==============================] - ETA: 0s - loss: 0.7650 - binary_accuracy: 0.6562 - precision: 0.0000e+00 - recall: 0.0000e+ - 0s 3ms/sample - loss: 0.6096 - binary_accuracy: 0.8125 - precision: 0.0000e+00 - recall: 0.0000e+00 - val_loss: 0.4755 - val_binary_accuracy: 0.9189 - val_precision: 0.0000e+00 - val_recall: 0.0000e+00\n",
      "Epoch 2/5\n",
      "128/128 [==============================] - ETA: 0s - loss: 0.6187 - binary_accuracy: 0.8750 - precision: 0.0000e+00 - recall: 0.0000e+ - 0s 199us/sample - loss: 0.5000 - binary_accuracy: 0.9141 - precision: 0.0000e+00 - recall: 0.0000e+00 - val_loss: 0.4757 - val_binary_accuracy: 0.9189 - val_precision: 0.0000e+00 - val_recall: 0.0000e+00\n",
      "Epoch 3/5\n",
      "128/128 [==============================] - ETA: 0s - loss: 0.3320 - binary_accuracy: 0.9375 - precision: 0.0000e+00 - recall: 0.0000e+ - 0s 187us/sample - loss: 0.4202 - binary_accuracy: 0.9141 - precision: 0.0000e+00 - recall: 0.0000e+00 - val_loss: 0.4621 - val_binary_accuracy: 0.9189 - val_precision: 0.0000e+00 - val_recall: 0.0000e+00\n",
      "Epoch 4/5\n",
      "128/128 [==============================] - ETA: 0s - loss: 0.5640 - binary_accuracy: 0.8438 - precision: 0.0000e+00 - recall: 0.0000e+ - 0s 196us/sample - loss: 0.4311 - binary_accuracy: 0.9141 - precision: 0.0000e+00 - recall: 0.0000e+00 - val_loss: 0.5473 - val_binary_accuracy: 0.9189 - val_precision: 0.0000e+00 - val_recall: 0.0000e+00\n",
      "Epoch 5/5\n",
      "128/128 [==============================] - ETA: 0s - loss: 0.3066 - binary_accuracy: 0.9375 - precision: 0.0000e+00 - recall: 0.0000e+ - 0s 188us/sample - loss: 0.4220 - binary_accuracy: 0.9141 - precision: 0.0000e+00 - recall: 0.0000e+00 - val_loss: 0.6389 - val_binary_accuracy: 0.9189 - val_precision: 0.0000e+00 - val_recall: 0.0000e+00\n",
      "Train on 128 samples, validate on 37 samples\n",
      "Epoch 1/5\n",
      "128/128 [==============================] - ETA: 0s - loss: 0.8448 - binary_accuracy: 0.6562 - precision: 0.1667 - recall: 0.14 - 0s 2ms/sample - loss: 0.5920 - binary_accuracy: 0.8438 - precision: 0.0909 - recall: 0.0909 - val_loss: 0.4600 - val_binary_accuracy: 0.9189 - val_precision: 0.0000e+00 - val_recall: 0.0000e+00\n",
      "Epoch 2/5\n",
      "128/128 [==============================] - ETA: 0s - loss: 0.6056 - binary_accuracy: 0.8750 - precision: 0.0000e+00 - recall: 0.0000e+ - 0s 186us/sample - loss: 0.5421 - binary_accuracy: 0.9141 - precision: 0.0000e+00 - recall: 0.0000e+00 - val_loss: 0.4593 - val_binary_accuracy: 0.9189 - val_precision: 0.0000e+00 - val_recall: 0.0000e+00\n",
      "Epoch 3/5\n",
      "128/128 [==============================] - ETA: 0s - loss: 0.3905 - binary_accuracy: 0.9375 - precision: 0.0000e+00 - recall: 0.0000e+ - 0s 187us/sample - loss: 0.4226 - binary_accuracy: 0.9141 - precision: 0.0000e+00 - recall: 0.0000e+00 - val_loss: 0.4487 - val_binary_accuracy: 0.9189 - val_precision: 0.0000e+00 - val_recall: 0.0000e+00\n",
      "Epoch 4/5\n",
      "128/128 [==============================] - ETA: 0s - loss: 0.3462 - binary_accuracy: 0.9375 - precision: 0.0000e+00 - recall: 0.0000e+ - 0s 183us/sample - loss: 0.3770 - binary_accuracy: 0.9141 - precision: 0.0000e+00 - recall: 0.0000e+00 - val_loss: 0.4504 - val_binary_accuracy: 0.9189 - val_precision: 0.0000e+00 - val_recall: 0.0000e+00\n",
      "Epoch 5/5\n",
      "128/128 [==============================] - ETA: 0s - loss: 0.3977 - binary_accuracy: 0.8750 - precision: 0.0000e+00 - recall: 0.0000e+ - 0s 188us/sample - loss: 0.3518 - binary_accuracy: 0.9062 - precision: 0.0000e+00 - recall: 0.0000e+00 - val_loss: 0.5108 - val_binary_accuracy: 0.9189 - val_precision: 0.0000e+00 - val_recall: 0.0000e+00\n",
      "Train on 128 samples, validate on 37 samples\n",
      "Epoch 1/5\n",
      "128/128 [==============================] - ETA: 0s - loss: 0.6489 - binary_accuracy: 0.8125 - precision: 0.0000e+00 - recall: 0.0000e+ - 0s 2ms/sample - loss: 0.5475 - binary_accuracy: 0.8672 - precision: 0.0000e+00 - recall: 0.0000e+00 - val_loss: 0.4567 - val_binary_accuracy: 0.9189 - val_precision: 0.0000e+00 - val_recall: 0.0000e+00\n",
      "Epoch 2/5\n",
      "128/128 [==============================] - ETA: 0s - loss: 0.9326 - binary_accuracy: 0.8438 - precision: 0.0000e+00 - recall: 0.0000e+ - 0s 182us/sample - loss: 0.5709 - binary_accuracy: 0.9141 - precision: 0.0000e+00 - recall: 0.0000e+00 - val_loss: 0.4370 - val_binary_accuracy: 0.9189 - val_precision: 0.0000e+00 - val_recall: 0.0000e+00\n",
      "Epoch 3/5\n",
      "128/128 [==============================] - ETA: 0s - loss: 0.5079 - binary_accuracy: 0.9375 - precision: 0.0000e+00 - recall: 0.0000e+ - 0s 187us/sample - loss: 0.4875 - binary_accuracy: 0.9141 - precision: 0.0000e+00 - recall: 0.0000e+00 - val_loss: 0.4406 - val_binary_accuracy: 0.9189 - val_precision: 0.0000e+00 - val_recall: 0.0000e+00\n",
      "Epoch 4/5\n",
      "128/128 [==============================] - ETA: 0s - loss: 0.3695 - binary_accuracy: 0.9375 - precision: 0.0000e+00 - recall: 0.0000e+ - 0s 185us/sample - loss: 0.4122 - binary_accuracy: 0.9141 - precision: 0.0000e+00 - recall: 0.0000e+00 - val_loss: 0.4401 - val_binary_accuracy: 0.9189 - val_precision: 0.0000e+00 - val_recall: 0.0000e+00\n",
      "Epoch 5/5\n",
      "128/128 [==============================] - ETA: 0s - loss: 0.5773 - binary_accuracy: 0.8750 - precision: 1.0000 - recall: 0.20 - 0s 183us/sample - loss: 0.4054 - binary_accuracy: 0.9141 - precision: 0.5000 - recall: 0.0909 - val_loss: 0.4398 - val_binary_accuracy: 0.9189 - val_precision: 0.0000e+00 - val_recall: 0.0000e+00\n"
     ]
    },
    {
     "data": {
      "text/html": [
       "<span style=\"color:#4527A0\"><h1 style=\"font-size:18px\">Trial complete</h1></span>"
      ],
      "text/plain": [
       "<IPython.core.display.HTML object>"
      ]
     },
     "metadata": {},
     "output_type": "display_data"
    },
    {
     "data": {
      "text/html": [
       "<span style=\"color:#4527A0\"><h1 style=\"font-size:18px\">Trial summary</h1></span>"
      ],
      "text/plain": [
       "<IPython.core.display.HTML object>"
      ]
     },
     "metadata": {},
     "output_type": "display_data"
    },
    {
     "data": {
      "text/html": [
       "<span style=\"color:cyan\"> |-Trial ID: 79bb759699704588d07872e89d07c963</span>"
      ],
      "text/plain": [
       "<IPython.core.display.HTML object>"
      ]
     },
     "metadata": {},
     "output_type": "display_data"
    },
    {
     "data": {
      "text/html": [
       "<span style=\"color:cyan\"> |-Score: 0.9189189076423645</span>"
      ],
      "text/plain": [
       "<IPython.core.display.HTML object>"
      ]
     },
     "metadata": {},
     "output_type": "display_data"
    },
    {
     "data": {
      "text/html": [
       "<span style=\"color:cyan\"> |-Best step: 0</span>"
      ],
      "text/plain": [
       "<IPython.core.display.HTML object>"
      ]
     },
     "metadata": {},
     "output_type": "display_data"
    },
    {
     "data": {
      "text/html": [
       "<span style=\"color:#7E57C2\"><h2 style=\"font-size:16px\">Hyperparameters:</h2></span>"
      ],
      "text/plain": [
       "<IPython.core.display.HTML object>"
      ]
     },
     "metadata": {},
     "output_type": "display_data"
    },
    {
     "data": {
      "text/html": [
       "<span style=\"color:cyan\"> |-dropout1: 0.1</span>"
      ],
      "text/plain": [
       "<IPython.core.display.HTML object>"
      ]
     },
     "metadata": {},
     "output_type": "display_data"
    },
    {
     "data": {
      "text/html": [
       "<span style=\"color:blue\"> |-dropout2: 0.5</span>"
      ],
      "text/plain": [
       "<IPython.core.display.HTML object>"
      ]
     },
     "metadata": {},
     "output_type": "display_data"
    },
    {
     "data": {
      "text/html": [
       "<span style=\"color:cyan\"> |-l2_dns1: 0.002</span>"
      ],
      "text/plain": [
       "<IPython.core.display.HTML object>"
      ]
     },
     "metadata": {},
     "output_type": "display_data"
    },
    {
     "data": {
      "text/html": [
       "<span style=\"color:blue\"> |-l2_dns2: 0.0</span>"
      ],
      "text/plain": [
       "<IPython.core.display.HTML object>"
      ]
     },
     "metadata": {},
     "output_type": "display_data"
    },
    {
     "data": {
      "text/html": [
       "<span style=\"color:cyan\"> |-l2_dns3: 0.003</span>"
      ],
      "text/plain": [
       "<IPython.core.display.HTML object>"
      ]
     },
     "metadata": {},
     "output_type": "display_data"
    },
    {
     "name": "stdout",
     "output_type": "stream",
     "text": [
      "Train on 128 samples, validate on 37 samples\n",
      "Epoch 1/5\n",
      "128/128 [==============================] - ETA: 0s - loss: 2.0492 - binary_accuracy: 0.2500 - precision: 0.0769 - recall: 1.00 - 0s 3ms/sample - loss: 1.6282 - binary_accuracy: 0.6562 - precision: 0.1333 - recall: 0.5455 - val_loss: 1.1551 - val_binary_accuracy: 0.9189 - val_precision: 0.0000e+00 - val_recall: 0.0000e+00\n",
      "Epoch 2/5\n",
      "128/128 [==============================] - ETA: 0s - loss: 1.2657 - binary_accuracy: 0.8750 - precision: 0.0000e+00 - recall: 0.0000e+ - 0s 192us/sample - loss: 1.0972 - binary_accuracy: 0.9141 - precision: 0.0000e+00 - recall: 0.0000e+00 - val_loss: 0.9431 - val_binary_accuracy: 0.9189 - val_precision: 0.0000e+00 - val_recall: 0.0000e+00\n",
      "Epoch 3/5\n",
      "128/128 [==============================] - ETA: 0s - loss: 0.9434 - binary_accuracy: 0.9375 - precision: 0.0000e+00 - recall: 0.0000e+ - 0s 197us/sample - loss: 0.9144 - binary_accuracy: 0.9141 - precision: 0.0000e+00 - recall: 0.0000e+00 - val_loss: 0.8047 - val_binary_accuracy: 0.9189 - val_precision: 0.0000e+00 - val_recall: 0.0000e+00\n",
      "Epoch 4/5\n",
      "128/128 [==============================] - ETA: 0s - loss: 0.9109 - binary_accuracy: 0.8750 - precision: 0.0000e+00 - recall: 0.0000e+ - 0s 186us/sample - loss: 0.7385 - binary_accuracy: 0.9141 - precision: 0.0000e+00 - recall: 0.0000e+00 - val_loss: 0.7138 - val_binary_accuracy: 0.9189 - val_precision: 0.0000e+00 - val_recall: 0.0000e+00\n",
      "Epoch 5/5\n",
      "128/128 [==============================] - ETA: 0s - loss: 0.5802 - binary_accuracy: 0.9375 - precision: 0.0000e+00 - recall: 0.0000e+ - 0s 198us/sample - loss: 0.6262 - binary_accuracy: 0.9141 - precision: 0.0000e+00 - recall: 0.0000e+00 - val_loss: 0.6580 - val_binary_accuracy: 0.9189 - val_precision: 0.0000e+00 - val_recall: 0.0000e+00\n",
      "Train on 128 samples, validate on 37 samples\n",
      "Epoch 1/5\n",
      "128/128 [==============================] - ETA: 0s - loss: 1.6889 - binary_accuracy: 0.6250 - precision: 0.1538 - recall: 0.66 - 0s 2ms/sample - loss: 1.4312 - binary_accuracy: 0.7891 - precision: 0.1364 - recall: 0.2727 - val_loss: 1.0829 - val_binary_accuracy: 0.9189 - val_precision: 0.0000e+00 - val_recall: 0.0000e+00\n",
      "Epoch 2/5\n",
      "128/128 [==============================] - ETA: 0s - loss: 1.2938 - binary_accuracy: 0.8750 - precision: 0.0000e+00 - recall: 0.0000e+ - 0s 194us/sample - loss: 1.0791 - binary_accuracy: 0.9141 - precision: 0.0000e+00 - recall: 0.0000e+00 - val_loss: 0.8421 - val_binary_accuracy: 0.9189 - val_precision: 0.0000e+00 - val_recall: 0.0000e+00\n",
      "Epoch 3/5\n",
      "128/128 [==============================] - ETA: 0s - loss: 0.9719 - binary_accuracy: 0.9062 - precision: 0.0000e+00 - recall: 0.0000e+ - 0s 198us/sample - loss: 0.8460 - binary_accuracy: 0.9141 - precision: 0.0000e+00 - recall: 0.0000e+00 - val_loss: 0.7020 - val_binary_accuracy: 0.9189 - val_precision: 0.0000e+00 - val_recall: 0.0000e+00\n",
      "Epoch 4/5\n",
      "128/128 [==============================] - ETA: 0s - loss: 0.5613 - binary_accuracy: 0.9688 - precision: 0.0000e+00 - recall: 0.0000e+ - 0s 190us/sample - loss: 0.6812 - binary_accuracy: 0.9141 - precision: 0.0000e+00 - recall: 0.0000e+00 - val_loss: 0.6782 - val_binary_accuracy: 0.9189 - val_precision: 0.0000e+00 - val_recall: 0.0000e+00\n",
      "Epoch 5/5\n",
      "128/128 [==============================] - ETA: 0s - loss: 0.5147 - binary_accuracy: 0.9375 - precision: 0.0000e+00 - recall: 0.0000e+ - 0s 194us/sample - loss: 0.5522 - binary_accuracy: 0.9141 - precision: 0.0000e+00 - recall: 0.0000e+00 - val_loss: 0.6154 - val_binary_accuracy: 0.9189 - val_precision: 0.0000e+00 - val_recall: 0.0000e+00\n",
      "Train on 128 samples, validate on 37 samples\n",
      "Epoch 1/5\n",
      "128/128 [==============================] - ETA: 0s - loss: 2.0309 - binary_accuracy: 0.2812 - precision: 0.1250 - recall: 0.60 - 0s 2ms/sample - loss: 1.5628 - binary_accuracy: 0.6875 - precision: 0.0857 - recall: 0.2727 - val_loss: 1.1456 - val_binary_accuracy: 0.9189 - val_precision: 0.0000e+00 - val_recall: 0.0000e+00\n",
      "Epoch 2/5\n",
      "128/128 [==============================] - ETA: 0s - loss: 1.2072 - binary_accuracy: 0.9062 - precision: 0.0000e+00 - recall: 0.0000e+ - 0s 191us/sample - loss: 1.1047 - binary_accuracy: 0.9141 - precision: 0.0000e+00 - recall: 0.0000e+00 - val_loss: 0.9067 - val_binary_accuracy: 0.9189 - val_precision: 0.0000e+00 - val_recall: 0.0000e+00\n",
      "Epoch 3/5\n",
      "128/128 [==============================] - ETA: 0s - loss: 0.8841 - binary_accuracy: 0.9062 - precision: 0.0000e+00 - recall: 0.0000e+ - 0s 187us/sample - loss: 0.8130 - binary_accuracy: 0.9141 - precision: 0.0000e+00 - recall: 0.0000e+00 - val_loss: 0.8025 - val_binary_accuracy: 0.9189 - val_precision: 0.0000e+00 - val_recall: 0.0000e+00\n",
      "Epoch 4/5\n",
      "128/128 [==============================] - ETA: 0s - loss: 0.5592 - binary_accuracy: 1.0000 - precision: 0.0000e+00 - recall: 0.0000e+ - 0s 192us/sample - loss: 0.7087 - binary_accuracy: 0.9141 - precision: 0.0000e+00 - recall: 0.0000e+00 - val_loss: 0.6324 - val_binary_accuracy: 0.9189 - val_precision: 0.0000e+00 - val_recall: 0.0000e+00\n",
      "Epoch 5/5\n",
      "128/128 [==============================] - ETA: 0s - loss: 0.4981 - binary_accuracy: 0.9688 - precision: 0.0000e+00 - recall: 0.0000e+ - 0s 181us/sample - loss: 0.5929 - binary_accuracy: 0.9141 - precision: 0.0000e+00 - recall: 0.0000e+00 - val_loss: 0.5905 - val_binary_accuracy: 0.9189 - val_precision: 0.0000e+00 - val_recall: 0.0000e+00\n"
     ]
    },
    {
     "data": {
      "text/html": [
       "<span style=\"color:#4527A0\"><h1 style=\"font-size:18px\">Trial complete</h1></span>"
      ],
      "text/plain": [
       "<IPython.core.display.HTML object>"
      ]
     },
     "metadata": {},
     "output_type": "display_data"
    },
    {
     "data": {
      "text/html": [
       "<span style=\"color:#4527A0\"><h1 style=\"font-size:18px\">Trial summary</h1></span>"
      ],
      "text/plain": [
       "<IPython.core.display.HTML object>"
      ]
     },
     "metadata": {},
     "output_type": "display_data"
    },
    {
     "data": {
      "text/html": [
       "<span style=\"color:cyan\"> |-Trial ID: 350c1b081239b1eb7fb7f3a808d2f6ae</span>"
      ],
      "text/plain": [
       "<IPython.core.display.HTML object>"
      ]
     },
     "metadata": {},
     "output_type": "display_data"
    },
    {
     "data": {
      "text/html": [
       "<span style=\"color:cyan\"> |-Score: 0.9189189076423645</span>"
      ],
      "text/plain": [
       "<IPython.core.display.HTML object>"
      ]
     },
     "metadata": {},
     "output_type": "display_data"
    },
    {
     "data": {
      "text/html": [
       "<span style=\"color:cyan\"> |-Best step: 0</span>"
      ],
      "text/plain": [
       "<IPython.core.display.HTML object>"
      ]
     },
     "metadata": {},
     "output_type": "display_data"
    },
    {
     "data": {
      "text/html": [
       "<span style=\"color:#7E57C2\"><h2 style=\"font-size:16px\">Hyperparameters:</h2></span>"
      ],
      "text/plain": [
       "<IPython.core.display.HTML object>"
      ]
     },
     "metadata": {},
     "output_type": "display_data"
    },
    {
     "data": {
      "text/html": [
       "<span style=\"color:cyan\"> |-dropout1: 0.4</span>"
      ],
      "text/plain": [
       "<IPython.core.display.HTML object>"
      ]
     },
     "metadata": {},
     "output_type": "display_data"
    },
    {
     "data": {
      "text/html": [
       "<span style=\"color:blue\"> |-dropout2: 0.30000000000000004</span>"
      ],
      "text/plain": [
       "<IPython.core.display.HTML object>"
      ]
     },
     "metadata": {},
     "output_type": "display_data"
    },
    {
     "data": {
      "text/html": [
       "<span style=\"color:cyan\"> |-l2_dns1: 0.013000000000000001</span>"
      ],
      "text/plain": [
       "<IPython.core.display.HTML object>"
      ]
     },
     "metadata": {},
     "output_type": "display_data"
    },
    {
     "data": {
      "text/html": [
       "<span style=\"color:blue\"> |-l2_dns2: 0.008</span>"
      ],
      "text/plain": [
       "<IPython.core.display.HTML object>"
      ]
     },
     "metadata": {},
     "output_type": "display_data"
    },
    {
     "data": {
      "text/html": [
       "<span style=\"color:cyan\"> |-l2_dns3: 0.007</span>"
      ],
      "text/plain": [
       "<IPython.core.display.HTML object>"
      ]
     },
     "metadata": {},
     "output_type": "display_data"
    },
    {
     "name": "stdout",
     "output_type": "stream",
     "text": [
      "INFO:tensorflow:Oracle triggered exit\n"
     ]
    }
   ],
   "source": [
    "tuner.search(X_train.values, y_train.values,\n",
    "            epochs=5,\n",
    "            validation_data=(X_dev, y_dev))"
   ]
  },
  {
   "cell_type": "code",
   "execution_count": 28,
   "metadata": {},
   "outputs": [
    {
     "data": {
      "text/html": [
       "<span style=\"color:#4527A0\"><h1 style=\"font-size:18px\">Results summary</h1></span>"
      ],
      "text/plain": [
       "<IPython.core.display.HTML object>"
      ]
     },
     "metadata": {},
     "output_type": "display_data"
    },
    {
     "data": {
      "text/html": [
       "<span style=\"color:cyan\"> |-Results in Metabolomics_dev/untitled_project</span>"
      ],
      "text/plain": [
       "<IPython.core.display.HTML object>"
      ]
     },
     "metadata": {},
     "output_type": "display_data"
    },
    {
     "data": {
      "text/html": [
       "<span style=\"color:cyan\"> |-Showing 10 best trials</span>"
      ],
      "text/plain": [
       "<IPython.core.display.HTML object>"
      ]
     },
     "metadata": {},
     "output_type": "display_data"
    },
    {
     "data": {
      "text/html": [
       "<span style=\"color:cyan\"> |-Objective(name='val_binary_accuracy', direction='max')</span>"
      ],
      "text/plain": [
       "<IPython.core.display.HTML object>"
      ]
     },
     "metadata": {},
     "output_type": "display_data"
    },
    {
     "data": {
      "text/html": [
       "<span style=\"color:#4527A0\"><h1 style=\"font-size:18px\">Trial summary</h1></span>"
      ],
      "text/plain": [
       "<IPython.core.display.HTML object>"
      ]
     },
     "metadata": {},
     "output_type": "display_data"
    },
    {
     "data": {
      "text/html": [
       "<span style=\"color:cyan\"> |-Trial ID: 46aa195e676865aa192633e55efdc0a0</span>"
      ],
      "text/plain": [
       "<IPython.core.display.HTML object>"
      ]
     },
     "metadata": {},
     "output_type": "display_data"
    },
    {
     "data": {
      "text/html": [
       "<span style=\"color:cyan\"> |-Score: 0.9189189076423645</span>"
      ],
      "text/plain": [
       "<IPython.core.display.HTML object>"
      ]
     },
     "metadata": {},
     "output_type": "display_data"
    },
    {
     "data": {
      "text/html": [
       "<span style=\"color:cyan\"> |-Best step: 0</span>"
      ],
      "text/plain": [
       "<IPython.core.display.HTML object>"
      ]
     },
     "metadata": {},
     "output_type": "display_data"
    },
    {
     "data": {
      "text/html": [
       "<span style=\"color:#7E57C2\"><h2 style=\"font-size:16px\">Hyperparameters:</h2></span>"
      ],
      "text/plain": [
       "<IPython.core.display.HTML object>"
      ]
     },
     "metadata": {},
     "output_type": "display_data"
    },
    {
     "data": {
      "text/html": [
       "<span style=\"color:cyan\"> |-dropout1: 0.0</span>"
      ],
      "text/plain": [
       "<IPython.core.display.HTML object>"
      ]
     },
     "metadata": {},
     "output_type": "display_data"
    },
    {
     "data": {
      "text/html": [
       "<span style=\"color:blue\"> |-dropout2: 0.30000000000000004</span>"
      ],
      "text/plain": [
       "<IPython.core.display.HTML object>"
      ]
     },
     "metadata": {},
     "output_type": "display_data"
    },
    {
     "data": {
      "text/html": [
       "<span style=\"color:cyan\"> |-l2_dns1: 0.015</span>"
      ],
      "text/plain": [
       "<IPython.core.display.HTML object>"
      ]
     },
     "metadata": {},
     "output_type": "display_data"
    },
    {
     "data": {
      "text/html": [
       "<span style=\"color:blue\"> |-l2_dns2: 0.007</span>"
      ],
      "text/plain": [
       "<IPython.core.display.HTML object>"
      ]
     },
     "metadata": {},
     "output_type": "display_data"
    },
    {
     "data": {
      "text/html": [
       "<span style=\"color:cyan\"> |-l2_dns3: 0.001</span>"
      ],
      "text/plain": [
       "<IPython.core.display.HTML object>"
      ]
     },
     "metadata": {},
     "output_type": "display_data"
    },
    {
     "data": {
      "text/html": [
       "<span style=\"color:#4527A0\"><h1 style=\"font-size:18px\">Trial summary</h1></span>"
      ],
      "text/plain": [
       "<IPython.core.display.HTML object>"
      ]
     },
     "metadata": {},
     "output_type": "display_data"
    },
    {
     "data": {
      "text/html": [
       "<span style=\"color:cyan\"> |-Trial ID: 990f7284be1f9d3170f0410342ae2628</span>"
      ],
      "text/plain": [
       "<IPython.core.display.HTML object>"
      ]
     },
     "metadata": {},
     "output_type": "display_data"
    },
    {
     "data": {
      "text/html": [
       "<span style=\"color:cyan\"> |-Score: 0.9189189076423645</span>"
      ],
      "text/plain": [
       "<IPython.core.display.HTML object>"
      ]
     },
     "metadata": {},
     "output_type": "display_data"
    },
    {
     "data": {
      "text/html": [
       "<span style=\"color:cyan\"> |-Best step: 0</span>"
      ],
      "text/plain": [
       "<IPython.core.display.HTML object>"
      ]
     },
     "metadata": {},
     "output_type": "display_data"
    },
    {
     "data": {
      "text/html": [
       "<span style=\"color:#7E57C2\"><h2 style=\"font-size:16px\">Hyperparameters:</h2></span>"
      ],
      "text/plain": [
       "<IPython.core.display.HTML object>"
      ]
     },
     "metadata": {},
     "output_type": "display_data"
    },
    {
     "data": {
      "text/html": [
       "<span style=\"color:cyan\"> |-dropout1: 0.30000000000000004</span>"
      ],
      "text/plain": [
       "<IPython.core.display.HTML object>"
      ]
     },
     "metadata": {},
     "output_type": "display_data"
    },
    {
     "data": {
      "text/html": [
       "<span style=\"color:blue\"> |-dropout2: 0.4</span>"
      ],
      "text/plain": [
       "<IPython.core.display.HTML object>"
      ]
     },
     "metadata": {},
     "output_type": "display_data"
    },
    {
     "data": {
      "text/html": [
       "<span style=\"color:cyan\"> |-l2_dns1: 0.003</span>"
      ],
      "text/plain": [
       "<IPython.core.display.HTML object>"
      ]
     },
     "metadata": {},
     "output_type": "display_data"
    },
    {
     "data": {
      "text/html": [
       "<span style=\"color:blue\"> |-l2_dns2: 0.015</span>"
      ],
      "text/plain": [
       "<IPython.core.display.HTML object>"
      ]
     },
     "metadata": {},
     "output_type": "display_data"
    },
    {
     "data": {
      "text/html": [
       "<span style=\"color:cyan\"> |-l2_dns3: 0.001</span>"
      ],
      "text/plain": [
       "<IPython.core.display.HTML object>"
      ]
     },
     "metadata": {},
     "output_type": "display_data"
    },
    {
     "data": {
      "text/html": [
       "<span style=\"color:#4527A0\"><h1 style=\"font-size:18px\">Trial summary</h1></span>"
      ],
      "text/plain": [
       "<IPython.core.display.HTML object>"
      ]
     },
     "metadata": {},
     "output_type": "display_data"
    },
    {
     "data": {
      "text/html": [
       "<span style=\"color:cyan\"> |-Trial ID: 07c61b4d859c3f149f0b0c1704d33bda</span>"
      ],
      "text/plain": [
       "<IPython.core.display.HTML object>"
      ]
     },
     "metadata": {},
     "output_type": "display_data"
    },
    {
     "data": {
      "text/html": [
       "<span style=\"color:cyan\"> |-Score: 0.9189189076423645</span>"
      ],
      "text/plain": [
       "<IPython.core.display.HTML object>"
      ]
     },
     "metadata": {},
     "output_type": "display_data"
    },
    {
     "data": {
      "text/html": [
       "<span style=\"color:cyan\"> |-Best step: 0</span>"
      ],
      "text/plain": [
       "<IPython.core.display.HTML object>"
      ]
     },
     "metadata": {},
     "output_type": "display_data"
    },
    {
     "data": {
      "text/html": [
       "<span style=\"color:#7E57C2\"><h2 style=\"font-size:16px\">Hyperparameters:</h2></span>"
      ],
      "text/plain": [
       "<IPython.core.display.HTML object>"
      ]
     },
     "metadata": {},
     "output_type": "display_data"
    },
    {
     "data": {
      "text/html": [
       "<span style=\"color:cyan\"> |-dropout1: 0.1</span>"
      ],
      "text/plain": [
       "<IPython.core.display.HTML object>"
      ]
     },
     "metadata": {},
     "output_type": "display_data"
    },
    {
     "data": {
      "text/html": [
       "<span style=\"color:blue\"> |-dropout2: 0.1</span>"
      ],
      "text/plain": [
       "<IPython.core.display.HTML object>"
      ]
     },
     "metadata": {},
     "output_type": "display_data"
    },
    {
     "data": {
      "text/html": [
       "<span style=\"color:cyan\"> |-l2_dns1: 0.006</span>"
      ],
      "text/plain": [
       "<IPython.core.display.HTML object>"
      ]
     },
     "metadata": {},
     "output_type": "display_data"
    },
    {
     "data": {
      "text/html": [
       "<span style=\"color:blue\"> |-l2_dns2: 0.013000000000000001</span>"
      ],
      "text/plain": [
       "<IPython.core.display.HTML object>"
      ]
     },
     "metadata": {},
     "output_type": "display_data"
    },
    {
     "data": {
      "text/html": [
       "<span style=\"color:cyan\"> |-l2_dns3: 0.002</span>"
      ],
      "text/plain": [
       "<IPython.core.display.HTML object>"
      ]
     },
     "metadata": {},
     "output_type": "display_data"
    },
    {
     "data": {
      "text/html": [
       "<span style=\"color:#4527A0\"><h1 style=\"font-size:18px\">Trial summary</h1></span>"
      ],
      "text/plain": [
       "<IPython.core.display.HTML object>"
      ]
     },
     "metadata": {},
     "output_type": "display_data"
    },
    {
     "data": {
      "text/html": [
       "<span style=\"color:cyan\"> |-Trial ID: 79bb759699704588d07872e89d07c963</span>"
      ],
      "text/plain": [
       "<IPython.core.display.HTML object>"
      ]
     },
     "metadata": {},
     "output_type": "display_data"
    },
    {
     "data": {
      "text/html": [
       "<span style=\"color:cyan\"> |-Score: 0.9189189076423645</span>"
      ],
      "text/plain": [
       "<IPython.core.display.HTML object>"
      ]
     },
     "metadata": {},
     "output_type": "display_data"
    },
    {
     "data": {
      "text/html": [
       "<span style=\"color:cyan\"> |-Best step: 0</span>"
      ],
      "text/plain": [
       "<IPython.core.display.HTML object>"
      ]
     },
     "metadata": {},
     "output_type": "display_data"
    },
    {
     "data": {
      "text/html": [
       "<span style=\"color:#7E57C2\"><h2 style=\"font-size:16px\">Hyperparameters:</h2></span>"
      ],
      "text/plain": [
       "<IPython.core.display.HTML object>"
      ]
     },
     "metadata": {},
     "output_type": "display_data"
    },
    {
     "data": {
      "text/html": [
       "<span style=\"color:cyan\"> |-dropout1: 0.1</span>"
      ],
      "text/plain": [
       "<IPython.core.display.HTML object>"
      ]
     },
     "metadata": {},
     "output_type": "display_data"
    },
    {
     "data": {
      "text/html": [
       "<span style=\"color:blue\"> |-dropout2: 0.5</span>"
      ],
      "text/plain": [
       "<IPython.core.display.HTML object>"
      ]
     },
     "metadata": {},
     "output_type": "display_data"
    },
    {
     "data": {
      "text/html": [
       "<span style=\"color:cyan\"> |-l2_dns1: 0.002</span>"
      ],
      "text/plain": [
       "<IPython.core.display.HTML object>"
      ]
     },
     "metadata": {},
     "output_type": "display_data"
    },
    {
     "data": {
      "text/html": [
       "<span style=\"color:blue\"> |-l2_dns2: 0.0</span>"
      ],
      "text/plain": [
       "<IPython.core.display.HTML object>"
      ]
     },
     "metadata": {},
     "output_type": "display_data"
    },
    {
     "data": {
      "text/html": [
       "<span style=\"color:cyan\"> |-l2_dns3: 0.003</span>"
      ],
      "text/plain": [
       "<IPython.core.display.HTML object>"
      ]
     },
     "metadata": {},
     "output_type": "display_data"
    },
    {
     "data": {
      "text/html": [
       "<span style=\"color:#4527A0\"><h1 style=\"font-size:18px\">Trial summary</h1></span>"
      ],
      "text/plain": [
       "<IPython.core.display.HTML object>"
      ]
     },
     "metadata": {},
     "output_type": "display_data"
    },
    {
     "data": {
      "text/html": [
       "<span style=\"color:cyan\"> |-Trial ID: 350c1b081239b1eb7fb7f3a808d2f6ae</span>"
      ],
      "text/plain": [
       "<IPython.core.display.HTML object>"
      ]
     },
     "metadata": {},
     "output_type": "display_data"
    },
    {
     "data": {
      "text/html": [
       "<span style=\"color:cyan\"> |-Score: 0.9189189076423645</span>"
      ],
      "text/plain": [
       "<IPython.core.display.HTML object>"
      ]
     },
     "metadata": {},
     "output_type": "display_data"
    },
    {
     "data": {
      "text/html": [
       "<span style=\"color:cyan\"> |-Best step: 0</span>"
      ],
      "text/plain": [
       "<IPython.core.display.HTML object>"
      ]
     },
     "metadata": {},
     "output_type": "display_data"
    },
    {
     "data": {
      "text/html": [
       "<span style=\"color:#7E57C2\"><h2 style=\"font-size:16px\">Hyperparameters:</h2></span>"
      ],
      "text/plain": [
       "<IPython.core.display.HTML object>"
      ]
     },
     "metadata": {},
     "output_type": "display_data"
    },
    {
     "data": {
      "text/html": [
       "<span style=\"color:cyan\"> |-dropout1: 0.4</span>"
      ],
      "text/plain": [
       "<IPython.core.display.HTML object>"
      ]
     },
     "metadata": {},
     "output_type": "display_data"
    },
    {
     "data": {
      "text/html": [
       "<span style=\"color:blue\"> |-dropout2: 0.30000000000000004</span>"
      ],
      "text/plain": [
       "<IPython.core.display.HTML object>"
      ]
     },
     "metadata": {},
     "output_type": "display_data"
    },
    {
     "data": {
      "text/html": [
       "<span style=\"color:cyan\"> |-l2_dns1: 0.013000000000000001</span>"
      ],
      "text/plain": [
       "<IPython.core.display.HTML object>"
      ]
     },
     "metadata": {},
     "output_type": "display_data"
    },
    {
     "data": {
      "text/html": [
       "<span style=\"color:blue\"> |-l2_dns2: 0.008</span>"
      ],
      "text/plain": [
       "<IPython.core.display.HTML object>"
      ]
     },
     "metadata": {},
     "output_type": "display_data"
    },
    {
     "data": {
      "text/html": [
       "<span style=\"color:cyan\"> |-l2_dns3: 0.007</span>"
      ],
      "text/plain": [
       "<IPython.core.display.HTML object>"
      ]
     },
     "metadata": {},
     "output_type": "display_data"
    }
   ],
   "source": [
    "tuner.results_summary()"
   ]
  },
  {
   "cell_type": "code",
   "execution_count": 56,
   "metadata": {},
   "outputs": [
    {
     "name": "stdout",
     "output_type": "stream",
     "text": [
      "{'dropout': 0.2, 'num_layers': 3, 'units_0': 40, 'act_0': 'tanh', 'learning_rate': 0.01, 'rho': 0.55, 'momentum': 0.5, 'units_1': 20, 'act_1': 'relu', 'units_2': 20, 'act_2': 'relu'}\n"
     ]
    }
   ],
   "source": [
    "best_hp = tuner.get_best_hyperparameters(num_trials=1)[0]\n",
    "print (best_hp.values)"
   ]
  },
  {
   "cell_type": "code",
   "execution_count": 30,
   "metadata": {},
   "outputs": [],
   "source": [
    "best_model = tuner.get_best_models(num_models=1)[0]"
   ]
  },
  {
   "cell_type": "code",
   "execution_count": 57,
   "metadata": {},
   "outputs": [
    {
     "name": "stdout",
     "output_type": "stream",
     "text": [
      "Model: \"sequential\"\n",
      "_________________________________________________________________\n",
      "Layer (type)                 Output Shape              Param #   \n",
      "=================================================================\n",
      "dropout (Dropout)            multiple                  0         \n",
      "_________________________________________________________________\n",
      "dense (Dense)                multiple                  3560      \n",
      "_________________________________________________________________\n",
      "dense_1 (Dense)              multiple                  820       \n",
      "_________________________________________________________________\n",
      "dense_2 (Dense)              multiple                  420       \n",
      "_________________________________________________________________\n",
      "dense_3 (Dense)              multiple                  42        \n",
      "=================================================================\n",
      "Total params: 4,842\n",
      "Trainable params: 4,842\n",
      "Non-trainable params: 0\n",
      "_________________________________________________________________\n",
      "None\n"
     ]
    }
   ],
   "source": [
    "print (best_model.summary())"
   ]
  },
  {
   "cell_type": "code",
   "execution_count": 44,
   "metadata": {},
   "outputs": [
    {
     "name": "stdout",
     "output_type": "stream",
     "text": [
      "37/37 [==============================] - ETA: 0s - loss: 0.8509 - acc: 0.843 - 0s 186us/sample - loss: 0.7360 - acc: 0.8649\n",
      "test loss, test acc: [0.7359883179998252, 0.8648649]\n"
     ]
    }
   ],
   "source": [
    "results = best_model.evaluate(X_dev.values, y_dev.values)"
   ]
  },
  {
   "cell_type": "code",
   "execution_count": 45,
   "metadata": {},
   "outputs": [
    {
     "name": "stdout",
     "output_type": "stream",
     "text": [
      "test loss, test acc: [0.7359883179998252, 0.8648649]\n"
     ]
    }
   ],
   "source": [
    "print (\"test loss, test acc:\", results)"
   ]
  },
  {
   "cell_type": "code",
   "execution_count": null,
   "metadata": {},
   "outputs": [],
   "source": []
  },
  {
   "cell_type": "code",
   "execution_count": null,
   "metadata": {},
   "outputs": [],
   "source": []
  }
 ],
 "metadata": {
  "kernelspec": {
   "display_name": "Python 3",
   "language": "python",
   "name": "python3"
  },
  "language_info": {
   "codemirror_mode": {
    "name": "ipython",
    "version": 3
   },
   "file_extension": ".py",
   "mimetype": "text/x-python",
   "name": "python",
   "nbconvert_exporter": "python",
   "pygments_lexer": "ipython3",
   "version": "3.6.10"
  }
 },
 "nbformat": 4,
 "nbformat_minor": 4
}
