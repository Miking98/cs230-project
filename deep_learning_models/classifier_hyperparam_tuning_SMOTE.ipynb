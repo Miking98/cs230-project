{
 "cells": [
  {
   "cell_type": "code",
   "execution_count": 83,
   "metadata": {},
   "outputs": [],
   "source": [
    "import pandas as pd\n",
    "from tensorflow import keras\n",
    "from tensorflow.keras import layers\n",
    "from kerastuner.tuners import RandomSearch, BayesianOptimization"
   ]
  },
  {
   "cell_type": "code",
   "execution_count": 84,
   "metadata": {},
   "outputs": [
    {
     "name": "stdout",
     "output_type": "stream",
     "text": [
      "     Depressed  df_metab_0  df_metab_1  df_metab_2  df_metab_3  df_metab_4  \\\n",
      "0            1   45.789767   14.994491    2.797363   -7.322123    2.981386   \n",
      "1            0   21.305753  -12.739486    2.412704  -22.493627   -5.713449   \n",
      "2            0  -11.160934    0.500802    1.940362  -18.004380  -22.724939   \n",
      "3            1   -3.505051    3.024076  -14.514754    9.163330   18.413856   \n",
      "4            0    2.371245   14.233916    6.696834    4.717963  -13.288564   \n",
      "..         ...         ...         ...         ...         ...         ...   \n",
      "149          1   44.333601   15.793958    3.639052   -7.659921    2.262666   \n",
      "150          1  -16.265040    3.974755    9.637169    0.513980   -7.400003   \n",
      "151          1  -11.915798    7.208843   17.227042   26.394198   -3.593319   \n",
      "152          1   -8.121996  -20.007981   -8.107669   -7.684438  -12.121510   \n",
      "153          1  -23.282984    8.146323   10.887350   32.018423    7.425380   \n",
      "\n",
      "     df_card_0  df_card_1  df_card_2  df_card_3  ...  df_lipid_0  df_lipid_1  \\\n",
      "0     0.129934  -1.131966  -0.708981  -1.309647  ...    1.496499   -2.105026   \n",
      "1     1.243014   1.309124  -0.303868   0.069346  ...   -5.600597    0.006207   \n",
      "2    -0.350150   1.283889   1.751396   0.023797  ...  103.435803   40.521713   \n",
      "3     1.043221   0.324503  -0.769713  -1.278411  ...  -14.280708   -0.115833   \n",
      "4     4.635813   0.541566  -1.915818  -0.012737  ...  -14.293160    1.060370   \n",
      "..         ...        ...        ...        ...  ...         ...         ...   \n",
      "149   0.145983  -1.090094  -0.698394  -1.293233  ...    2.078706   -1.497595   \n",
      "150  -0.549802  -1.350671  -0.678255   0.854387  ...  -10.909097    1.217864   \n",
      "151  -0.621269   0.045148  -0.564367  -0.011463  ...   28.414344  -30.406364   \n",
      "152   5.326246   0.436071  -0.014503   0.291523  ...   19.203133    7.050209   \n",
      "153  -0.064353  -0.528911   0.137299   0.153256  ...   -9.526553    1.344052   \n",
      "\n",
      "     df_lipid_2  df_lipid_3  df_lipid_4  df_metpan_0  df_metpan_1  \\\n",
      "0      1.204210   -8.105448    4.839408     0.668807    -0.714310   \n",
      "1     -6.207374   -1.521098    3.277292    -2.443155    -0.566839   \n",
      "2     20.895579    3.495573    5.947366     0.279836    -0.660182   \n",
      "3      3.979605    0.464584    0.400885    -1.570418    -0.897558   \n",
      "4      2.387513   -1.019705    2.175917    -1.341632    -2.118914   \n",
      "..          ...         ...         ...          ...          ...   \n",
      "149    0.981211   -7.892807    4.720971     0.567154    -0.508006   \n",
      "150    0.134687   -3.104007    2.088638    -0.334824    -0.123181   \n",
      "151   12.311651   19.832411   17.915719     0.053682    -0.641645   \n",
      "152    9.108499    3.574421   -4.226796    -1.642451     0.781504   \n",
      "153    4.164332   -4.525960   -6.423804    -0.777657    -0.517843   \n",
      "\n",
      "     df_metpan_2  df_metpan_3  df_metpan_4  \n",
      "0      -0.978595    -0.275094    -0.424774  \n",
      "1       1.728045    -0.660630     1.183248  \n",
      "2      -2.476980    -0.626666     0.927045  \n",
      "3       0.313717     0.445069     1.752758  \n",
      "4      -0.335980    -2.932757    -0.605028  \n",
      "..           ...          ...          ...  \n",
      "149    -0.912904    -0.257118    -0.453080  \n",
      "150    -0.283088     1.181579     0.352315  \n",
      "151    -0.549622     0.124490    -0.248677  \n",
      "152     1.453181    -0.881157     0.733388  \n",
      "153    -0.293641     1.322831    -0.251894  \n",
      "\n",
      "[154 rows x 26 columns]\n"
     ]
    }
   ],
   "source": [
    "df_train = pd.read_csv('./data_5comp_each_train_set_PCA_mild_SMOTE.csv')\n",
    "#get rid of extra index column\n",
    "df_train = df_train.iloc[:,1:]\n",
    "print (df_train)"
   ]
  },
  {
   "cell_type": "code",
   "execution_count": 85,
   "metadata": {},
   "outputs": [],
   "source": [
    "y_train = df_train.iloc[:,0]\n",
    "X_train = df_train.iloc[:,1:]"
   ]
  },
  {
   "cell_type": "code",
   "execution_count": 86,
   "metadata": {},
   "outputs": [
    {
     "data": {
      "text/html": [
       "<div>\n",
       "<style scoped>\n",
       "    .dataframe tbody tr th:only-of-type {\n",
       "        vertical-align: middle;\n",
       "    }\n",
       "\n",
       "    .dataframe tbody tr th {\n",
       "        vertical-align: top;\n",
       "    }\n",
       "\n",
       "    .dataframe thead th {\n",
       "        text-align: right;\n",
       "    }\n",
       "</style>\n",
       "<table border=\"1\" class=\"dataframe\">\n",
       "  <thead>\n",
       "    <tr style=\"text-align: right;\">\n",
       "      <th></th>\n",
       "      <th>df_metab_0</th>\n",
       "      <th>df_metab_1</th>\n",
       "      <th>df_metab_2</th>\n",
       "      <th>df_metab_3</th>\n",
       "      <th>df_metab_4</th>\n",
       "      <th>df_card_0</th>\n",
       "      <th>df_card_1</th>\n",
       "      <th>df_card_2</th>\n",
       "      <th>df_card_3</th>\n",
       "      <th>df_card_4</th>\n",
       "      <th>...</th>\n",
       "      <th>df_lipid_0</th>\n",
       "      <th>df_lipid_1</th>\n",
       "      <th>df_lipid_2</th>\n",
       "      <th>df_lipid_3</th>\n",
       "      <th>df_lipid_4</th>\n",
       "      <th>df_metpan_0</th>\n",
       "      <th>df_metpan_1</th>\n",
       "      <th>df_metpan_2</th>\n",
       "      <th>df_metpan_3</th>\n",
       "      <th>df_metpan_4</th>\n",
       "    </tr>\n",
       "  </thead>\n",
       "  <tbody>\n",
       "    <tr>\n",
       "      <th>0</th>\n",
       "      <td>45.789767</td>\n",
       "      <td>14.994491</td>\n",
       "      <td>2.797363</td>\n",
       "      <td>-7.322123</td>\n",
       "      <td>2.981386</td>\n",
       "      <td>0.129934</td>\n",
       "      <td>-1.131966</td>\n",
       "      <td>-0.708981</td>\n",
       "      <td>-1.309647</td>\n",
       "      <td>-1.458030</td>\n",
       "      <td>...</td>\n",
       "      <td>1.496499</td>\n",
       "      <td>-2.105026</td>\n",
       "      <td>1.204210</td>\n",
       "      <td>-8.105448</td>\n",
       "      <td>4.839408</td>\n",
       "      <td>0.668807</td>\n",
       "      <td>-0.714310</td>\n",
       "      <td>-0.978595</td>\n",
       "      <td>-0.275094</td>\n",
       "      <td>-0.424774</td>\n",
       "    </tr>\n",
       "    <tr>\n",
       "      <th>1</th>\n",
       "      <td>21.305753</td>\n",
       "      <td>-12.739486</td>\n",
       "      <td>2.412704</td>\n",
       "      <td>-22.493627</td>\n",
       "      <td>-5.713449</td>\n",
       "      <td>1.243014</td>\n",
       "      <td>1.309124</td>\n",
       "      <td>-0.303868</td>\n",
       "      <td>0.069346</td>\n",
       "      <td>0.822446</td>\n",
       "      <td>...</td>\n",
       "      <td>-5.600597</td>\n",
       "      <td>0.006207</td>\n",
       "      <td>-6.207374</td>\n",
       "      <td>-1.521098</td>\n",
       "      <td>3.277292</td>\n",
       "      <td>-2.443155</td>\n",
       "      <td>-0.566839</td>\n",
       "      <td>1.728045</td>\n",
       "      <td>-0.660630</td>\n",
       "      <td>1.183248</td>\n",
       "    </tr>\n",
       "    <tr>\n",
       "      <th>2</th>\n",
       "      <td>-11.160934</td>\n",
       "      <td>0.500802</td>\n",
       "      <td>1.940362</td>\n",
       "      <td>-18.004380</td>\n",
       "      <td>-22.724939</td>\n",
       "      <td>-0.350150</td>\n",
       "      <td>1.283889</td>\n",
       "      <td>1.751396</td>\n",
       "      <td>0.023797</td>\n",
       "      <td>0.006199</td>\n",
       "      <td>...</td>\n",
       "      <td>103.435803</td>\n",
       "      <td>40.521713</td>\n",
       "      <td>20.895579</td>\n",
       "      <td>3.495573</td>\n",
       "      <td>5.947366</td>\n",
       "      <td>0.279836</td>\n",
       "      <td>-0.660182</td>\n",
       "      <td>-2.476980</td>\n",
       "      <td>-0.626666</td>\n",
       "      <td>0.927045</td>\n",
       "    </tr>\n",
       "    <tr>\n",
       "      <th>3</th>\n",
       "      <td>-3.505051</td>\n",
       "      <td>3.024076</td>\n",
       "      <td>-14.514754</td>\n",
       "      <td>9.163330</td>\n",
       "      <td>18.413856</td>\n",
       "      <td>1.043221</td>\n",
       "      <td>0.324503</td>\n",
       "      <td>-0.769713</td>\n",
       "      <td>-1.278411</td>\n",
       "      <td>1.043176</td>\n",
       "      <td>...</td>\n",
       "      <td>-14.280708</td>\n",
       "      <td>-0.115833</td>\n",
       "      <td>3.979605</td>\n",
       "      <td>0.464584</td>\n",
       "      <td>0.400885</td>\n",
       "      <td>-1.570418</td>\n",
       "      <td>-0.897558</td>\n",
       "      <td>0.313717</td>\n",
       "      <td>0.445069</td>\n",
       "      <td>1.752758</td>\n",
       "    </tr>\n",
       "    <tr>\n",
       "      <th>4</th>\n",
       "      <td>2.371245</td>\n",
       "      <td>14.233916</td>\n",
       "      <td>6.696834</td>\n",
       "      <td>4.717963</td>\n",
       "      <td>-13.288564</td>\n",
       "      <td>4.635813</td>\n",
       "      <td>0.541566</td>\n",
       "      <td>-1.915818</td>\n",
       "      <td>-0.012737</td>\n",
       "      <td>-0.926184</td>\n",
       "      <td>...</td>\n",
       "      <td>-14.293160</td>\n",
       "      <td>1.060370</td>\n",
       "      <td>2.387513</td>\n",
       "      <td>-1.019705</td>\n",
       "      <td>2.175917</td>\n",
       "      <td>-1.341632</td>\n",
       "      <td>-2.118914</td>\n",
       "      <td>-0.335980</td>\n",
       "      <td>-2.932757</td>\n",
       "      <td>-0.605028</td>\n",
       "    </tr>\n",
       "    <tr>\n",
       "      <th>...</th>\n",
       "      <td>...</td>\n",
       "      <td>...</td>\n",
       "      <td>...</td>\n",
       "      <td>...</td>\n",
       "      <td>...</td>\n",
       "      <td>...</td>\n",
       "      <td>...</td>\n",
       "      <td>...</td>\n",
       "      <td>...</td>\n",
       "      <td>...</td>\n",
       "      <td>...</td>\n",
       "      <td>...</td>\n",
       "      <td>...</td>\n",
       "      <td>...</td>\n",
       "      <td>...</td>\n",
       "      <td>...</td>\n",
       "      <td>...</td>\n",
       "      <td>...</td>\n",
       "      <td>...</td>\n",
       "      <td>...</td>\n",
       "      <td>...</td>\n",
       "    </tr>\n",
       "    <tr>\n",
       "      <th>149</th>\n",
       "      <td>44.333601</td>\n",
       "      <td>15.793958</td>\n",
       "      <td>3.639052</td>\n",
       "      <td>-7.659921</td>\n",
       "      <td>2.262666</td>\n",
       "      <td>0.145983</td>\n",
       "      <td>-1.090094</td>\n",
       "      <td>-0.698394</td>\n",
       "      <td>-1.293233</td>\n",
       "      <td>-1.443406</td>\n",
       "      <td>...</td>\n",
       "      <td>2.078706</td>\n",
       "      <td>-1.497595</td>\n",
       "      <td>0.981211</td>\n",
       "      <td>-7.892807</td>\n",
       "      <td>4.720971</td>\n",
       "      <td>0.567154</td>\n",
       "      <td>-0.508006</td>\n",
       "      <td>-0.912904</td>\n",
       "      <td>-0.257118</td>\n",
       "      <td>-0.453080</td>\n",
       "    </tr>\n",
       "    <tr>\n",
       "      <th>150</th>\n",
       "      <td>-16.265040</td>\n",
       "      <td>3.974755</td>\n",
       "      <td>9.637169</td>\n",
       "      <td>0.513980</td>\n",
       "      <td>-7.400003</td>\n",
       "      <td>-0.549802</td>\n",
       "      <td>-1.350671</td>\n",
       "      <td>-0.678255</td>\n",
       "      <td>0.854387</td>\n",
       "      <td>1.088114</td>\n",
       "      <td>...</td>\n",
       "      <td>-10.909097</td>\n",
       "      <td>1.217864</td>\n",
       "      <td>0.134687</td>\n",
       "      <td>-3.104007</td>\n",
       "      <td>2.088638</td>\n",
       "      <td>-0.334824</td>\n",
       "      <td>-0.123181</td>\n",
       "      <td>-0.283088</td>\n",
       "      <td>1.181579</td>\n",
       "      <td>0.352315</td>\n",
       "    </tr>\n",
       "    <tr>\n",
       "      <th>151</th>\n",
       "      <td>-11.915798</td>\n",
       "      <td>7.208843</td>\n",
       "      <td>17.227042</td>\n",
       "      <td>26.394198</td>\n",
       "      <td>-3.593319</td>\n",
       "      <td>-0.621269</td>\n",
       "      <td>0.045148</td>\n",
       "      <td>-0.564367</td>\n",
       "      <td>-0.011463</td>\n",
       "      <td>-0.432775</td>\n",
       "      <td>...</td>\n",
       "      <td>28.414344</td>\n",
       "      <td>-30.406364</td>\n",
       "      <td>12.311651</td>\n",
       "      <td>19.832411</td>\n",
       "      <td>17.915719</td>\n",
       "      <td>0.053682</td>\n",
       "      <td>-0.641645</td>\n",
       "      <td>-0.549622</td>\n",
       "      <td>0.124490</td>\n",
       "      <td>-0.248677</td>\n",
       "    </tr>\n",
       "    <tr>\n",
       "      <th>152</th>\n",
       "      <td>-8.121996</td>\n",
       "      <td>-20.007981</td>\n",
       "      <td>-8.107669</td>\n",
       "      <td>-7.684438</td>\n",
       "      <td>-12.121510</td>\n",
       "      <td>5.326246</td>\n",
       "      <td>0.436071</td>\n",
       "      <td>-0.014503</td>\n",
       "      <td>0.291523</td>\n",
       "      <td>-0.162070</td>\n",
       "      <td>...</td>\n",
       "      <td>19.203133</td>\n",
       "      <td>7.050209</td>\n",
       "      <td>9.108499</td>\n",
       "      <td>3.574421</td>\n",
       "      <td>-4.226796</td>\n",
       "      <td>-1.642451</td>\n",
       "      <td>0.781504</td>\n",
       "      <td>1.453181</td>\n",
       "      <td>-0.881157</td>\n",
       "      <td>0.733388</td>\n",
       "    </tr>\n",
       "    <tr>\n",
       "      <th>153</th>\n",
       "      <td>-23.282984</td>\n",
       "      <td>8.146323</td>\n",
       "      <td>10.887350</td>\n",
       "      <td>32.018423</td>\n",
       "      <td>7.425380</td>\n",
       "      <td>-0.064353</td>\n",
       "      <td>-0.528911</td>\n",
       "      <td>0.137299</td>\n",
       "      <td>0.153256</td>\n",
       "      <td>-0.398851</td>\n",
       "      <td>...</td>\n",
       "      <td>-9.526553</td>\n",
       "      <td>1.344052</td>\n",
       "      <td>4.164332</td>\n",
       "      <td>-4.525960</td>\n",
       "      <td>-6.423804</td>\n",
       "      <td>-0.777657</td>\n",
       "      <td>-0.517843</td>\n",
       "      <td>-0.293641</td>\n",
       "      <td>1.322831</td>\n",
       "      <td>-0.251894</td>\n",
       "    </tr>\n",
       "  </tbody>\n",
       "</table>\n",
       "<p>154 rows × 25 columns</p>\n",
       "</div>"
      ],
      "text/plain": [
       "     df_metab_0  df_metab_1  df_metab_2  df_metab_3  df_metab_4  df_card_0  \\\n",
       "0     45.789767   14.994491    2.797363   -7.322123    2.981386   0.129934   \n",
       "1     21.305753  -12.739486    2.412704  -22.493627   -5.713449   1.243014   \n",
       "2    -11.160934    0.500802    1.940362  -18.004380  -22.724939  -0.350150   \n",
       "3     -3.505051    3.024076  -14.514754    9.163330   18.413856   1.043221   \n",
       "4      2.371245   14.233916    6.696834    4.717963  -13.288564   4.635813   \n",
       "..          ...         ...         ...         ...         ...        ...   \n",
       "149   44.333601   15.793958    3.639052   -7.659921    2.262666   0.145983   \n",
       "150  -16.265040    3.974755    9.637169    0.513980   -7.400003  -0.549802   \n",
       "151  -11.915798    7.208843   17.227042   26.394198   -3.593319  -0.621269   \n",
       "152   -8.121996  -20.007981   -8.107669   -7.684438  -12.121510   5.326246   \n",
       "153  -23.282984    8.146323   10.887350   32.018423    7.425380  -0.064353   \n",
       "\n",
       "     df_card_1  df_card_2  df_card_3  df_card_4  ...  df_lipid_0  df_lipid_1  \\\n",
       "0    -1.131966  -0.708981  -1.309647  -1.458030  ...    1.496499   -2.105026   \n",
       "1     1.309124  -0.303868   0.069346   0.822446  ...   -5.600597    0.006207   \n",
       "2     1.283889   1.751396   0.023797   0.006199  ...  103.435803   40.521713   \n",
       "3     0.324503  -0.769713  -1.278411   1.043176  ...  -14.280708   -0.115833   \n",
       "4     0.541566  -1.915818  -0.012737  -0.926184  ...  -14.293160    1.060370   \n",
       "..         ...        ...        ...        ...  ...         ...         ...   \n",
       "149  -1.090094  -0.698394  -1.293233  -1.443406  ...    2.078706   -1.497595   \n",
       "150  -1.350671  -0.678255   0.854387   1.088114  ...  -10.909097    1.217864   \n",
       "151   0.045148  -0.564367  -0.011463  -0.432775  ...   28.414344  -30.406364   \n",
       "152   0.436071  -0.014503   0.291523  -0.162070  ...   19.203133    7.050209   \n",
       "153  -0.528911   0.137299   0.153256  -0.398851  ...   -9.526553    1.344052   \n",
       "\n",
       "     df_lipid_2  df_lipid_3  df_lipid_4  df_metpan_0  df_metpan_1  \\\n",
       "0      1.204210   -8.105448    4.839408     0.668807    -0.714310   \n",
       "1     -6.207374   -1.521098    3.277292    -2.443155    -0.566839   \n",
       "2     20.895579    3.495573    5.947366     0.279836    -0.660182   \n",
       "3      3.979605    0.464584    0.400885    -1.570418    -0.897558   \n",
       "4      2.387513   -1.019705    2.175917    -1.341632    -2.118914   \n",
       "..          ...         ...         ...          ...          ...   \n",
       "149    0.981211   -7.892807    4.720971     0.567154    -0.508006   \n",
       "150    0.134687   -3.104007    2.088638    -0.334824    -0.123181   \n",
       "151   12.311651   19.832411   17.915719     0.053682    -0.641645   \n",
       "152    9.108499    3.574421   -4.226796    -1.642451     0.781504   \n",
       "153    4.164332   -4.525960   -6.423804    -0.777657    -0.517843   \n",
       "\n",
       "     df_metpan_2  df_metpan_3  df_metpan_4  \n",
       "0      -0.978595    -0.275094    -0.424774  \n",
       "1       1.728045    -0.660630     1.183248  \n",
       "2      -2.476980    -0.626666     0.927045  \n",
       "3       0.313717     0.445069     1.752758  \n",
       "4      -0.335980    -2.932757    -0.605028  \n",
       "..           ...          ...          ...  \n",
       "149    -0.912904    -0.257118    -0.453080  \n",
       "150    -0.283088     1.181579     0.352315  \n",
       "151    -0.549622     0.124490    -0.248677  \n",
       "152     1.453181    -0.881157     0.733388  \n",
       "153    -0.293641     1.322831    -0.251894  \n",
       "\n",
       "[154 rows x 25 columns]"
      ]
     },
     "execution_count": 86,
     "metadata": {},
     "output_type": "execute_result"
    }
   ],
   "source": [
    "X_train"
   ]
  },
  {
   "cell_type": "code",
   "execution_count": 74,
   "metadata": {},
   "outputs": [],
   "source": [
    "#y_train = pd.get_dummies(y_train)[True]"
   ]
  },
  {
   "cell_type": "code",
   "execution_count": 87,
   "metadata": {},
   "outputs": [
    {
     "name": "stdout",
     "output_type": "stream",
     "text": [
      "(154,)\n",
      "(154, 25)\n",
      "51\n"
     ]
    }
   ],
   "source": [
    "print (y_train.shape)\n",
    "print (X_train.shape)\n",
    "print (y_train.sum())"
   ]
  },
  {
   "cell_type": "code",
   "execution_count": 76,
   "metadata": {},
   "outputs": [],
   "source": [
    "def get_class_weights(y):\n",
    "    num_positive = y.sum()\n",
    "    total = len(y)\n",
    "\n",
    "    weight_for_0 = (1 / (total - num_positive)) * (total) / 2.0\n",
    "    weight_for_1 = (1 / num_positive) * (total) / 2.0\n",
    "\n",
    "    class_weight = {0: weight_for_0, 1: weight_for_1}\n",
    "    return class_weight"
   ]
  },
  {
   "cell_type": "code",
   "execution_count": 77,
   "metadata": {},
   "outputs": [
    {
     "data": {
      "text/plain": [
       "{0: 0.7475728155339805, 1: 1.5098039215686274}"
      ]
     },
     "execution_count": 77,
     "metadata": {},
     "output_type": "execute_result"
    }
   ],
   "source": [
    "get_class_weights(y_train)"
   ]
  },
  {
   "cell_type": "code",
   "execution_count": 47,
   "metadata": {},
   "outputs": [],
   "source": [
    "def build_model(hp):\n",
    "    model = keras.Sequential()\n",
    "    model.add(layers.Dropout(hp.Float('dropout', 0, 0.5, step = 0.1)))\n",
    "    for i in range(hp.Int('num_layers', 1, 4)): #16)):\n",
    "        model.add(layers.Dense(units = hp.Int('units_'+str(i), 20, 100, step = 10),\n",
    "        #model.add(layers.Dense(units = hp.Int('units_'+str(i), 25, 1000, step = 25),\n",
    "                               activation = hp.Choice('act_'+str(i), ['relu', 'tanh'])))\n",
    "    #model.add(layers.Dense(2, activation = 'softmax')) #2 for binary classification\n",
    "    model.add(layers.Dense(1, activation='sigmoid'))\n",
    "    \n",
    "    metrics_list = [\n",
    "        keras.metrics.BinaryAccuracy(),\n",
    "        keras.metrics.Precision(name=\"precision\"),\n",
    "        keras.metrics.Recall(name=\"recall\"),\n",
    "    ]\n",
    "    \n",
    "    \n",
    "    model.compile(\n",
    "        optimizer = keras.optimizers.RMSprop(\n",
    "            learning_rate = hp.Choice('learning_rate', [1e-2, 1e-3, 1e-4]),\n",
    "            rho = hp.Float('rho', 0.5, 0.99, step = 0.05),\n",
    "            momentum = hp.Float('momentum', 0, 0.5, step = 0.05)),\n",
    "        loss = 'binary_crossentropy',\n",
    "        metrics = metrics_list)\n",
    "    return model"
   ]
  },
  {
   "cell_type": "code",
   "execution_count": 51,
   "metadata": {},
   "outputs": [
    {
     "name": "stdout",
     "output_type": "stream",
     "text": [
      "INFO:tensorflow:Reloading Oracle from existing project SMOTE5/untitled_project/oracle.json\n"
     ]
    }
   ],
   "source": [
    "#tuner = RandomSearch(\n",
    "tuner = BayesianOptimization(\n",
    "    build_model,\n",
    "    objective = 'binary_accuracy',\n",
    "    max_trials = 5,\n",
    "    executions_per_trial = 3,\n",
    "    directory = 'SMOTE5')"
   ]
  },
  {
   "cell_type": "code",
   "execution_count": 52,
   "metadata": {},
   "outputs": [
    {
     "name": "stdout",
     "output_type": "stream",
     "text": [
      "Train on 154 samples\n",
      "Epoch 1/5\n",
      "154/154 [==============================] - ETA: 0s - loss: 3.8557 - binary_accuracy: 0.4375 - precision: 0.4375 - recall: 1.00 - 0s 1ms/sample - loss: 1.5429 - binary_accuracy: 0.5714 - precision: 0.4026 - recall: 0.6078\n",
      "Epoch 2/5\n",
      "154/154 [==============================] - ETA: 0s - loss: 0.6994 - binary_accuracy: 0.5312 - precision: 0.2000 - recall: 0.08 - 0s 165us/sample - loss: 0.6935 - binary_accuracy: 0.5974 - precision: 0.3590 - recall: 0.2745\n",
      "Epoch 3/5\n",
      "154/154 [==============================] - ETA: 0s - loss: 0.6304 - binary_accuracy: 0.6875 - precision: 0.5000 - recall: 0.30 - 0s 165us/sample - loss: 0.5879 - binary_accuracy: 0.7013 - precision: 0.5758 - recall: 0.3725\n",
      "Epoch 4/5\n",
      "154/154 [==============================] - ETA: 0s - loss: 0.6811 - binary_accuracy: 0.6875 - precision: 0.7500 - recall: 0.42 - 0s 164us/sample - loss: 0.6386 - binary_accuracy: 0.7078 - precision: 0.5714 - recall: 0.4706\n",
      "Epoch 5/5\n",
      "154/154 [==============================] - ETA: 0s - loss: 0.6124 - binary_accuracy: 0.7188 - precision: 0.8000 - recall: 0.33 - 0s 119us/sample - loss: 0.5577 - binary_accuracy: 0.7078 - precision: 0.5714 - recall: 0.4706\n",
      "Train on 154 samples\n",
      "Epoch 1/5\n",
      "154/154 [==============================] - ETA: 0s - loss: 2.1392 - binary_accuracy: 0.3438 - precision: 0.2593 - recall: 0.87 - 0s 944us/sample - loss: 1.3404 - binary_accuracy: 0.5714 - precision: 0.3729 - recall: 0.4314\n",
      "Epoch 2/5\n",
      "154/154 [==============================] - ETA: 0s - loss: 0.5374 - binary_accuracy: 0.6562 - precision: 0.5000 - recall: 0.63 - 0s 114us/sample - loss: 0.6620 - binary_accuracy: 0.6818 - precision: 0.5263 - recall: 0.3922\n",
      "Epoch 3/5\n",
      "154/154 [==============================] - ETA: 0s - loss: 0.6266 - binary_accuracy: 0.7500 - precision: 0.5882 - recall: 0.90 - 0s 115us/sample - loss: 0.5706 - binary_accuracy: 0.7078 - precision: 0.5833 - recall: 0.4118\n",
      "Epoch 4/5\n",
      "154/154 [==============================] - ETA: 0s - loss: 0.5088 - binary_accuracy: 0.7812 - precision: 0.6250 - recall: 0.55 - 0s 650us/sample - loss: 0.5230 - binary_accuracy: 0.7403 - precision: 0.6410 - recall: 0.4902\n",
      "Epoch 5/5\n",
      "154/154 [==============================] - ETA: 0s - loss: 0.5215 - binary_accuracy: 0.7500 - precision: 0.7500 - recall: 0.50 - 0s 122us/sample - loss: 0.5599 - binary_accuracy: 0.7403 - precision: 0.6341 - recall: 0.5098\n",
      "Train on 154 samples\n",
      "Epoch 1/5\n",
      "154/154 [==============================] - ETA: 0s - loss: 0.9942 - binary_accuracy: 0.6250 - precision: 0.4000 - recall: 0.18 - 0s 924us/sample - loss: 1.0452 - binary_accuracy: 0.6104 - precision: 0.3784 - recall: 0.2745\n",
      "Epoch 2/5\n",
      "154/154 [==============================] - ETA: 0s - loss: 0.7072 - binary_accuracy: 0.8125 - precision: 0.4000 - recall: 0.40 - 0s 125us/sample - loss: 0.6468 - binary_accuracy: 0.7143 - precision: 0.6207 - recall: 0.3529\n",
      "Epoch 3/5\n",
      "154/154 [==============================] - ETA: 0s - loss: 0.5646 - binary_accuracy: 0.6875 - precision: 0.4706 - recall: 0.88 - 0s 120us/sample - loss: 0.5777 - binary_accuracy: 0.7013 - precision: 0.5581 - recall: 0.4706\n",
      "Epoch 4/5\n",
      "154/154 [==============================] - ETA: 0s - loss: 0.6045 - binary_accuracy: 0.6875 - precision: 0.7500 - recall: 0.25 - 0s 130us/sample - loss: 0.5739 - binary_accuracy: 0.7273 - precision: 0.6216 - recall: 0.4510\n",
      "Epoch 5/5\n",
      "154/154 [==============================] - ETA: 0s - loss: 0.4595 - binary_accuracy: 0.7812 - precision: 0.5556 - recall: 0.62 - 0s 674us/sample - loss: 0.5330 - binary_accuracy: 0.7468 - precision: 0.6364 - recall: 0.5490\n"
     ]
    },
    {
     "data": {
      "text/html": [
       "<span style=\"color:#4527A0\"><h1 style=\"font-size:18px\">Trial complete</h1></span>"
      ],
      "text/plain": [
       "<IPython.core.display.HTML object>"
      ]
     },
     "metadata": {},
     "output_type": "display_data"
    },
    {
     "data": {
      "text/html": [
       "<span style=\"color:#4527A0\"><h1 style=\"font-size:18px\">Trial summary</h1></span>"
      ],
      "text/plain": [
       "<IPython.core.display.HTML object>"
      ]
     },
     "metadata": {},
     "output_type": "display_data"
    },
    {
     "data": {
      "text/html": [
       "<span style=\"color:cyan\"> |-Trial ID: 60ad3ca36c024104142f5f369e794c11</span>"
      ],
      "text/plain": [
       "<IPython.core.display.HTML object>"
      ]
     },
     "metadata": {},
     "output_type": "display_data"
    },
    {
     "data": {
      "text/html": [
       "<span style=\"color:cyan\"> |-Score: 0.7316017150878906</span>"
      ],
      "text/plain": [
       "<IPython.core.display.HTML object>"
      ]
     },
     "metadata": {},
     "output_type": "display_data"
    },
    {
     "data": {
      "text/html": [
       "<span style=\"color:cyan\"> |-Best step: 0</span>"
      ],
      "text/plain": [
       "<IPython.core.display.HTML object>"
      ]
     },
     "metadata": {},
     "output_type": "display_data"
    },
    {
     "data": {
      "text/html": [
       "<span style=\"color:#7E57C2\"><h2 style=\"font-size:16px\">Hyperparameters:</h2></span>"
      ],
      "text/plain": [
       "<IPython.core.display.HTML object>"
      ]
     },
     "metadata": {},
     "output_type": "display_data"
    },
    {
     "data": {
      "text/html": [
       "<span style=\"color:cyan\"> |-act_0: relu</span>"
      ],
      "text/plain": [
       "<IPython.core.display.HTML object>"
      ]
     },
     "metadata": {},
     "output_type": "display_data"
    },
    {
     "data": {
      "text/html": [
       "<span style=\"color:blue\"> |-act_1: relu</span>"
      ],
      "text/plain": [
       "<IPython.core.display.HTML object>"
      ]
     },
     "metadata": {},
     "output_type": "display_data"
    },
    {
     "data": {
      "text/html": [
       "<span style=\"color:cyan\"> |-act_2: relu</span>"
      ],
      "text/plain": [
       "<IPython.core.display.HTML object>"
      ]
     },
     "metadata": {},
     "output_type": "display_data"
    },
    {
     "data": {
      "text/html": [
       "<span style=\"color:blue\"> |-dropout: 0.30000000000000004</span>"
      ],
      "text/plain": [
       "<IPython.core.display.HTML object>"
      ]
     },
     "metadata": {},
     "output_type": "display_data"
    },
    {
     "data": {
      "text/html": [
       "<span style=\"color:cyan\"> |-learning_rate: 0.01</span>"
      ],
      "text/plain": [
       "<IPython.core.display.HTML object>"
      ]
     },
     "metadata": {},
     "output_type": "display_data"
    },
    {
     "data": {
      "text/html": [
       "<span style=\"color:blue\"> |-momentum: 0.1</span>"
      ],
      "text/plain": [
       "<IPython.core.display.HTML object>"
      ]
     },
     "metadata": {},
     "output_type": "display_data"
    },
    {
     "data": {
      "text/html": [
       "<span style=\"color:cyan\"> |-num_layers: 3</span>"
      ],
      "text/plain": [
       "<IPython.core.display.HTML object>"
      ]
     },
     "metadata": {},
     "output_type": "display_data"
    },
    {
     "data": {
      "text/html": [
       "<span style=\"color:blue\"> |-rho: 0.6000000000000001</span>"
      ],
      "text/plain": [
       "<IPython.core.display.HTML object>"
      ]
     },
     "metadata": {},
     "output_type": "display_data"
    },
    {
     "data": {
      "text/html": [
       "<span style=\"color:cyan\"> |-units_0: 30</span>"
      ],
      "text/plain": [
       "<IPython.core.display.HTML object>"
      ]
     },
     "metadata": {},
     "output_type": "display_data"
    },
    {
     "data": {
      "text/html": [
       "<span style=\"color:blue\"> |-units_1: 20</span>"
      ],
      "text/plain": [
       "<IPython.core.display.HTML object>"
      ]
     },
     "metadata": {},
     "output_type": "display_data"
    },
    {
     "data": {
      "text/html": [
       "<span style=\"color:cyan\"> |-units_2: 20</span>"
      ],
      "text/plain": [
       "<IPython.core.display.HTML object>"
      ]
     },
     "metadata": {},
     "output_type": "display_data"
    },
    {
     "name": "stdout",
     "output_type": "stream",
     "text": [
      "Train on 154 samples\n",
      "Epoch 1/5\n",
      "154/154 [==============================] - ETA: 0s - loss: 0.6756 - binary_accuracy: 0.6250 - precision: 0.4762 - recall: 0.90 - 0s 1ms/sample - loss: 0.6309 - binary_accuracy: 0.6688 - precision: 0.5000 - recall: 0.4510\n",
      "Epoch 2/5\n",
      "154/154 [==============================] - ETA: 0s - loss: 0.4823 - binary_accuracy: 0.8125 - precision: 0.7143 - recall: 0.55 - 0s 169us/sample - loss: 0.4867 - binary_accuracy: 0.7727 - precision: 0.7500 - recall: 0.4706\n",
      "Epoch 3/5\n",
      "154/154 [==============================] - ETA: 0s - loss: 0.4454 - binary_accuracy: 0.8125 - precision: 0.7500 - recall: 0.37 - 0s 163us/sample - loss: 0.4320 - binary_accuracy: 0.7987 - precision: 0.8125 - recall: 0.5098\n",
      "Epoch 4/5\n",
      "154/154 [==============================] - ETA: 0s - loss: 0.3768 - binary_accuracy: 0.9062 - precision: 0.9167 - recall: 0.84 - 0s 162us/sample - loss: 0.3958 - binary_accuracy: 0.8831 - precision: 0.9024 - recall: 0.7255\n",
      "Epoch 5/5\n",
      "154/154 [==============================] - ETA: 0s - loss: 0.2838 - binary_accuracy: 0.9688 - precision: 1.0000 - recall: 0.85 - 0s 129us/sample - loss: 0.3944 - binary_accuracy: 0.8377 - precision: 0.8250 - recall: 0.6471\n",
      "Train on 154 samples\n",
      "Epoch 1/5\n",
      "154/154 [==============================] - ETA: 0s - loss: 0.7876 - binary_accuracy: 0.3750 - precision: 0.2500 - recall: 0.50 - 0s 956us/sample - loss: 0.6382 - binary_accuracy: 0.6169 - precision: 0.4286 - recall: 0.4706\n",
      "Epoch 2/5\n",
      "154/154 [==============================] - ETA: 0s - loss: 0.5639 - binary_accuracy: 0.7188 - precision: 0.6667 - recall: 0.36 - 0s 124us/sample - loss: 0.4975 - binary_accuracy: 0.7662 - precision: 0.7273 - recall: 0.4706\n",
      "Epoch 3/5\n",
      "154/154 [==============================] - ETA: 0s - loss: 0.4379 - binary_accuracy: 0.8125 - precision: 1.0000 - recall: 0.57 - 0s 121us/sample - loss: 0.4341 - binary_accuracy: 0.7922 - precision: 0.7879 - recall: 0.5098\n",
      "Epoch 4/5\n",
      "154/154 [==============================] - ETA: 0s - loss: 0.3705 - binary_accuracy: 0.8750 - precision: 0.7143 - recall: 0.71 - 0s 121us/sample - loss: 0.3913 - binary_accuracy: 0.8182 - precision: 0.8710 - recall: 0.5294\n",
      "Epoch 5/5\n",
      "154/154 [==============================] - ETA: 0s - loss: 0.3480 - binary_accuracy: 0.9062 - precision: 0.9167 - recall: 0.84 - 0s 124us/sample - loss: 0.3722 - binary_accuracy: 0.8442 - precision: 0.8000 - recall: 0.7059\n",
      "Train on 154 samples\n",
      "Epoch 1/5\n",
      "154/154 [==============================] - ETA: 0s - loss: 0.7636 - binary_accuracy: 0.4375 - precision: 0.1429 - recall: 0.07 - 0s 956us/sample - loss: 0.6333 - binary_accuracy: 0.6364 - precision: 0.3684 - recall: 0.1373\n",
      "Epoch 2/5\n",
      "154/154 [==============================] - ETA: 0s - loss: 0.4536 - binary_accuracy: 0.7812 - precision: 0.0000e+00 - recall: 0.0000e+ - 0s 120us/sample - loss: 0.5130 - binary_accuracy: 0.7338 - precision: 0.9167 - recall: 0.2157\n",
      "Epoch 3/5\n",
      "154/154 [==============================] - ETA: 0s - loss: 0.5296 - binary_accuracy: 0.6562 - precision: 0.5000 - recall: 0.45 - 0s 119us/sample - loss: 0.4855 - binary_accuracy: 0.7662 - precision: 0.7419 - recall: 0.4510\n",
      "Epoch 4/5\n",
      "154/154 [==============================] - ETA: 0s - loss: 0.4401 - binary_accuracy: 0.7812 - precision: 1.0000 - recall: 0.36 - 0s 120us/sample - loss: 0.4409 - binary_accuracy: 0.8052 - precision: 0.8387 - recall: 0.5098\n",
      "Epoch 5/5\n",
      "154/154 [==============================] - ETA: 0s - loss: 0.3317 - binary_accuracy: 0.9062 - precision: 1.0000 - recall: 0.62 - 0s 121us/sample - loss: 0.3605 - binary_accuracy: 0.8701 - precision: 0.8974 - recall: 0.6863\n"
     ]
    },
    {
     "data": {
      "text/html": [
       "<span style=\"color:#4527A0\"><h1 style=\"font-size:18px\">Trial complete</h1></span>"
      ],
      "text/plain": [
       "<IPython.core.display.HTML object>"
      ]
     },
     "metadata": {},
     "output_type": "display_data"
    },
    {
     "data": {
      "text/html": [
       "<span style=\"color:#4527A0\"><h1 style=\"font-size:18px\">Trial summary</h1></span>"
      ],
      "text/plain": [
       "<IPython.core.display.HTML object>"
      ]
     },
     "metadata": {},
     "output_type": "display_data"
    },
    {
     "data": {
      "text/html": [
       "<span style=\"color:cyan\"> |-Trial ID: 64824ceee035f5e3791bcae0d325dbcf</span>"
      ],
      "text/plain": [
       "<IPython.core.display.HTML object>"
      ]
     },
     "metadata": {},
     "output_type": "display_data"
    },
    {
     "data": {
      "text/html": [
       "<span style=\"color:cyan\"> |-Score: 0.8658008575439453</span>"
      ],
      "text/plain": [
       "<IPython.core.display.HTML object>"
      ]
     },
     "metadata": {},
     "output_type": "display_data"
    },
    {
     "data": {
      "text/html": [
       "<span style=\"color:cyan\"> |-Best step: 0</span>"
      ],
      "text/plain": [
       "<IPython.core.display.HTML object>"
      ]
     },
     "metadata": {},
     "output_type": "display_data"
    },
    {
     "data": {
      "text/html": [
       "<span style=\"color:#7E57C2\"><h2 style=\"font-size:16px\">Hyperparameters:</h2></span>"
      ],
      "text/plain": [
       "<IPython.core.display.HTML object>"
      ]
     },
     "metadata": {},
     "output_type": "display_data"
    },
    {
     "data": {
      "text/html": [
       "<span style=\"color:cyan\"> |-act_0: relu</span>"
      ],
      "text/plain": [
       "<IPython.core.display.HTML object>"
      ]
     },
     "metadata": {},
     "output_type": "display_data"
    },
    {
     "data": {
      "text/html": [
       "<span style=\"color:blue\"> |-act_1: tanh</span>"
      ],
      "text/plain": [
       "<IPython.core.display.HTML object>"
      ]
     },
     "metadata": {},
     "output_type": "display_data"
    },
    {
     "data": {
      "text/html": [
       "<span style=\"color:cyan\"> |-act_2: relu</span>"
      ],
      "text/plain": [
       "<IPython.core.display.HTML object>"
      ]
     },
     "metadata": {},
     "output_type": "display_data"
    },
    {
     "data": {
      "text/html": [
       "<span style=\"color:blue\"> |-dropout: 0.1</span>"
      ],
      "text/plain": [
       "<IPython.core.display.HTML object>"
      ]
     },
     "metadata": {},
     "output_type": "display_data"
    },
    {
     "data": {
      "text/html": [
       "<span style=\"color:cyan\"> |-learning_rate: 0.001</span>"
      ],
      "text/plain": [
       "<IPython.core.display.HTML object>"
      ]
     },
     "metadata": {},
     "output_type": "display_data"
    },
    {
     "data": {
      "text/html": [
       "<span style=\"color:blue\"> |-momentum: 0.25</span>"
      ],
      "text/plain": [
       "<IPython.core.display.HTML object>"
      ]
     },
     "metadata": {},
     "output_type": "display_data"
    },
    {
     "data": {
      "text/html": [
       "<span style=\"color:cyan\"> |-num_layers: 3</span>"
      ],
      "text/plain": [
       "<IPython.core.display.HTML object>"
      ]
     },
     "metadata": {},
     "output_type": "display_data"
    },
    {
     "data": {
      "text/html": [
       "<span style=\"color:blue\"> |-rho: 0.8000000000000003</span>"
      ],
      "text/plain": [
       "<IPython.core.display.HTML object>"
      ]
     },
     "metadata": {},
     "output_type": "display_data"
    },
    {
     "data": {
      "text/html": [
       "<span style=\"color:cyan\"> |-units_0: 80</span>"
      ],
      "text/plain": [
       "<IPython.core.display.HTML object>"
      ]
     },
     "metadata": {},
     "output_type": "display_data"
    },
    {
     "data": {
      "text/html": [
       "<span style=\"color:blue\"> |-units_1: 80</span>"
      ],
      "text/plain": [
       "<IPython.core.display.HTML object>"
      ]
     },
     "metadata": {},
     "output_type": "display_data"
    },
    {
     "data": {
      "text/html": [
       "<span style=\"color:cyan\"> |-units_2: 30</span>"
      ],
      "text/plain": [
       "<IPython.core.display.HTML object>"
      ]
     },
     "metadata": {},
     "output_type": "display_data"
    },
    {
     "name": "stdout",
     "output_type": "stream",
     "text": [
      "Train on 154 samples\n",
      "Epoch 1/5\n",
      "154/154 [==============================] - ETA: 0s - loss: 1.7458 - binary_accuracy: 0.5938 - precision: 0.5000 - recall: 0.30 - 0s 1ms/sample - loss: 1.4707 - binary_accuracy: 0.6429 - precision: 0.4583 - recall: 0.4314\n",
      "Epoch 2/5\n",
      "154/154 [==============================] - ETA: 0s - loss: 0.5279 - binary_accuracy: 0.7188 - precision: 0.6000 - recall: 0.75 - 0s 182us/sample - loss: 0.6649 - binary_accuracy: 0.7792 - precision: 0.6809 - recall: 0.6275\n",
      "Epoch 3/5\n",
      "154/154 [==============================] - ETA: 0s - loss: 0.5032 - binary_accuracy: 0.7500 - precision: 0.5455 - recall: 0.66 - 0s 154us/sample - loss: 0.4587 - binary_accuracy: 0.8247 - precision: 0.7400 - recall: 0.7255\n",
      "Epoch 4/5\n",
      "154/154 [==============================] - ETA: 0s - loss: 0.5417 - binary_accuracy: 0.7500 - precision: 0.4615 - recall: 0.85 - 0s 161us/sample - loss: 0.3953 - binary_accuracy: 0.8442 - precision: 0.7288 - recall: 0.8431\n",
      "Epoch 5/5\n",
      "154/154 [==============================] - ETA: 0s - loss: 0.0985 - binary_accuracy: 0.9688 - precision: 1.0000 - recall: 0.88 - 0s 152us/sample - loss: 0.2074 - binary_accuracy: 0.8961 - precision: 0.8723 - recall: 0.8039\n",
      "Train on 154 samples\n",
      "Epoch 1/5\n",
      "154/154 [==============================] - ETA: 0s - loss: 1.2021 - binary_accuracy: 0.5938 - precision: 0.2857 - recall: 0.20 - 0s 842us/sample - loss: 1.5920 - binary_accuracy: 0.5909 - precision: 0.3636 - recall: 0.3137\n",
      "Epoch 2/5\n",
      "154/154 [==============================] - ETA: 0s - loss: 1.2099 - binary_accuracy: 0.7188 - precision: 0.5000 - recall: 1.00 - 0s 116us/sample - loss: 0.6585 - binary_accuracy: 0.7857 - precision: 0.6667 - recall: 0.7059\n",
      "Epoch 3/5\n",
      "154/154 [==============================] - ETA: 0s - loss: 0.1280 - binary_accuracy: 1.0000 - precision: 1.0000 - recall: 1.00 - 0s 117us/sample - loss: 0.2868 - binary_accuracy: 0.8896 - precision: 0.8269 - recall: 0.8431\n",
      "Epoch 4/5\n",
      "154/154 [==============================] - ETA: 0s - loss: 0.2096 - binary_accuracy: 0.8750 - precision: 0.8750 - recall: 0.70 - 0s 109us/sample - loss: 0.3560 - binary_accuracy: 0.8896 - precision: 0.8864 - recall: 0.7647\n",
      "Epoch 5/5\n",
      "154/154 [==============================] - ETA: 0s - loss: 0.1074 - binary_accuracy: 0.9688 - precision: 0.8750 - recall: 1.00 - 0s 588us/sample - loss: 0.3242 - binary_accuracy: 0.9026 - precision: 0.8750 - recall: 0.8235\n",
      "Train on 154 samples\n",
      "Epoch 1/5\n",
      "154/154 [==============================] - ETA: 0s - loss: 2.1919 - binary_accuracy: 0.5625 - precision: 0.2000 - recall: 0.09 - 0s 818us/sample - loss: 1.6801 - binary_accuracy: 0.6364 - precision: 0.4444 - recall: 0.3922\n",
      "Epoch 2/5\n",
      "154/154 [==============================] - ETA: 0s - loss: 1.1284 - binary_accuracy: 0.7188 - precision: 0.5000 - recall: 1.00 - 0s 116us/sample - loss: 0.7111 - binary_accuracy: 0.7987 - precision: 0.7083 - recall: 0.6667\n",
      "Epoch 3/5\n",
      "154/154 [==============================] - ETA: 0s - loss: 0.5745 - binary_accuracy: 0.7500 - precision: 0.6111 - recall: 0.91 - 0s 112us/sample - loss: 0.5314 - binary_accuracy: 0.7987 - precision: 0.6923 - recall: 0.7059\n",
      "Epoch 4/5\n",
      "154/154 [==============================] - ETA: 0s - loss: 0.2811 - binary_accuracy: 0.8438 - precision: 0.8750 - recall: 0.63 - 0s 112us/sample - loss: 0.4010 - binary_accuracy: 0.8636 - precision: 0.8125 - recall: 0.7647\n",
      "Epoch 5/5\n",
      "154/154 [==============================] - ETA: 0s - loss: 0.4041 - binary_accuracy: 0.8438 - precision: 0.9091 - recall: 0.71 - 0s 113us/sample - loss: 0.2776 - binary_accuracy: 0.8701 - precision: 0.8605 - recall: 0.7255\n"
     ]
    },
    {
     "data": {
      "text/html": [
       "<span style=\"color:#4527A0\"><h1 style=\"font-size:18px\">Trial complete</h1></span>"
      ],
      "text/plain": [
       "<IPython.core.display.HTML object>"
      ]
     },
     "metadata": {},
     "output_type": "display_data"
    },
    {
     "data": {
      "text/html": [
       "<span style=\"color:#4527A0\"><h1 style=\"font-size:18px\">Trial summary</h1></span>"
      ],
      "text/plain": [
       "<IPython.core.display.HTML object>"
      ]
     },
     "metadata": {},
     "output_type": "display_data"
    },
    {
     "data": {
      "text/html": [
       "<span style=\"color:cyan\"> |-Trial ID: da645490380744cf5b57535faaf71401</span>"
      ],
      "text/plain": [
       "<IPython.core.display.HTML object>"
      ]
     },
     "metadata": {},
     "output_type": "display_data"
    },
    {
     "data": {
      "text/html": [
       "<span style=\"color:cyan\"> |-Score: 0.8896103501319885</span>"
      ],
      "text/plain": [
       "<IPython.core.display.HTML object>"
      ]
     },
     "metadata": {},
     "output_type": "display_data"
    },
    {
     "data": {
      "text/html": [
       "<span style=\"color:cyan\"> |-Best step: 0</span>"
      ],
      "text/plain": [
       "<IPython.core.display.HTML object>"
      ]
     },
     "metadata": {},
     "output_type": "display_data"
    },
    {
     "data": {
      "text/html": [
       "<span style=\"color:#7E57C2\"><h2 style=\"font-size:16px\">Hyperparameters:</h2></span>"
      ],
      "text/plain": [
       "<IPython.core.display.HTML object>"
      ]
     },
     "metadata": {},
     "output_type": "display_data"
    },
    {
     "data": {
      "text/html": [
       "<span style=\"color:cyan\"> |-act_0: relu</span>"
      ],
      "text/plain": [
       "<IPython.core.display.HTML object>"
      ]
     },
     "metadata": {},
     "output_type": "display_data"
    },
    {
     "data": {
      "text/html": [
       "<span style=\"color:blue\"> |-act_1: relu</span>"
      ],
      "text/plain": [
       "<IPython.core.display.HTML object>"
      ]
     },
     "metadata": {},
     "output_type": "display_data"
    },
    {
     "data": {
      "text/html": [
       "<span style=\"color:cyan\"> |-act_2: relu</span>"
      ],
      "text/plain": [
       "<IPython.core.display.HTML object>"
      ]
     },
     "metadata": {},
     "output_type": "display_data"
    },
    {
     "data": {
      "text/html": [
       "<span style=\"color:blue\"> |-dropout: 0.0</span>"
      ],
      "text/plain": [
       "<IPython.core.display.HTML object>"
      ]
     },
     "metadata": {},
     "output_type": "display_data"
    },
    {
     "data": {
      "text/html": [
       "<span style=\"color:cyan\"> |-learning_rate: 0.01</span>"
      ],
      "text/plain": [
       "<IPython.core.display.HTML object>"
      ]
     },
     "metadata": {},
     "output_type": "display_data"
    },
    {
     "data": {
      "text/html": [
       "<span style=\"color:blue\"> |-momentum: 0.25</span>"
      ],
      "text/plain": [
       "<IPython.core.display.HTML object>"
      ]
     },
     "metadata": {},
     "output_type": "display_data"
    },
    {
     "data": {
      "text/html": [
       "<span style=\"color:cyan\"> |-num_layers: 2</span>"
      ],
      "text/plain": [
       "<IPython.core.display.HTML object>"
      ]
     },
     "metadata": {},
     "output_type": "display_data"
    },
    {
     "data": {
      "text/html": [
       "<span style=\"color:blue\"> |-rho: 0.6000000000000001</span>"
      ],
      "text/plain": [
       "<IPython.core.display.HTML object>"
      ]
     },
     "metadata": {},
     "output_type": "display_data"
    },
    {
     "data": {
      "text/html": [
       "<span style=\"color:cyan\"> |-units_0: 60</span>"
      ],
      "text/plain": [
       "<IPython.core.display.HTML object>"
      ]
     },
     "metadata": {},
     "output_type": "display_data"
    },
    {
     "data": {
      "text/html": [
       "<span style=\"color:blue\"> |-units_1: 50</span>"
      ],
      "text/plain": [
       "<IPython.core.display.HTML object>"
      ]
     },
     "metadata": {},
     "output_type": "display_data"
    },
    {
     "data": {
      "text/html": [
       "<span style=\"color:cyan\"> |-units_2: 60</span>"
      ],
      "text/plain": [
       "<IPython.core.display.HTML object>"
      ]
     },
     "metadata": {},
     "output_type": "display_data"
    },
    {
     "name": "stdout",
     "output_type": "stream",
     "text": [
      "Train on 154 samples\n",
      "Epoch 1/5\n",
      "154/154 [==============================] - ETA: 0s - loss: 0.8195 - binary_accuracy: 0.5000 - precision: 0.5385 - recall: 0.41 - 0s 1ms/sample - loss: 0.8747 - binary_accuracy: 0.4286 - precision: 0.2658 - recall: 0.4118\n",
      "Epoch 2/5\n",
      "154/154 [==============================] - ETA: 0s - loss: 0.8413 - binary_accuracy: 0.4375 - precision: 0.3333 - recall: 0.28 - 0s 164us/sample - loss: 0.8520 - binary_accuracy: 0.4351 - precision: 0.2750 - recall: 0.4314\n",
      "Epoch 3/5\n",
      "154/154 [==============================] - ETA: 0s - loss: 0.7467 - binary_accuracy: 0.5938 - precision: 0.2667 - recall: 0.66 - 0s 159us/sample - loss: 0.8351 - binary_accuracy: 0.4481 - precision: 0.2821 - recall: 0.4314\n",
      "Epoch 4/5\n",
      "154/154 [==============================] - ETA: 0s - loss: 0.8135 - binary_accuracy: 0.5000 - precision: 0.4545 - recall: 0.33 - 0s 172us/sample - loss: 0.8205 - binary_accuracy: 0.4610 - precision: 0.2895 - recall: 0.4314\n",
      "Epoch 5/5\n",
      "154/154 [==============================] - ETA: 0s - loss: 0.7216 - binary_accuracy: 0.5938 - precision: 0.3750 - recall: 0.66 - 0s 160us/sample - loss: 0.8055 - binary_accuracy: 0.4675 - precision: 0.2933 - recall: 0.4314\n",
      "Train on 154 samples\n",
      "Epoch 1/5\n",
      "154/154 [==============================] - ETA: 0s - loss: 0.7626 - binary_accuracy: 0.5312 - precision: 0.3571 - recall: 0.45 - 0s 1ms/sample - loss: 0.9001 - binary_accuracy: 0.4610 - precision: 0.3182 - recall: 0.5490\n",
      "Epoch 2/5\n",
      "154/154 [==============================] - ETA: 0s - loss: 0.7089 - binary_accuracy: 0.5312 - precision: 0.3333 - recall: 0.66 - 0s 571us/sample - loss: 0.8727 - binary_accuracy: 0.4740 - precision: 0.3256 - recall: 0.5490\n",
      "Epoch 3/5\n",
      "154/154 [==============================] - ETA: 0s - loss: 0.7790 - binary_accuracy: 0.5000 - precision: 0.2941 - recall: 0.55 - 0s 131us/sample - loss: 0.8513 - binary_accuracy: 0.4675 - precision: 0.3176 - recall: 0.5294\n",
      "Epoch 4/5\n",
      "154/154 [==============================] - ETA: 0s - loss: 0.8284 - binary_accuracy: 0.5000 - precision: 0.3889 - recall: 0.58 - 0s 121us/sample - loss: 0.8318 - binary_accuracy: 0.4740 - precision: 0.3295 - recall: 0.5686\n",
      "Epoch 5/5\n",
      "154/154 [==============================] - ETA: 0s - loss: 0.8398 - binary_accuracy: 0.3750 - precision: 0.2105 - recall: 0.44 - 0s 119us/sample - loss: 0.8138 - binary_accuracy: 0.4610 - precision: 0.3095 - recall: 0.5098\n",
      "Train on 154 samples\n",
      "Epoch 1/5\n",
      "154/154 [==============================] - ETA: 0s - loss: 0.5909 - binary_accuracy: 0.5625 - precision: 0.3000 - recall: 0.30 - 0s 1ms/sample - loss: 0.7553 - binary_accuracy: 0.4481 - precision: 0.2821 - recall: 0.4314\n",
      "Epoch 2/5\n",
      "154/154 [==============================] - ETA: 0s - loss: 0.7045 - binary_accuracy: 0.5625 - precision: 0.3889 - recall: 0.70 - 0s 569us/sample - loss: 0.7368 - binary_accuracy: 0.5000 - precision: 0.3415 - recall: 0.5490\n",
      "Epoch 3/5\n",
      "154/154 [==============================] - ETA: 0s - loss: 0.6529 - binary_accuracy: 0.5938 - precision: 0.4118 - recall: 0.70 - 0s 168us/sample - loss: 0.7243 - binary_accuracy: 0.5195 - precision: 0.3614 - recall: 0.5882\n",
      "Epoch 4/5\n",
      "154/154 [==============================] - ETA: 0s - loss: 0.6635 - binary_accuracy: 0.5312 - precision: 0.3889 - recall: 0.63 - 0s 156us/sample - loss: 0.7129 - binary_accuracy: 0.5260 - precision: 0.3690 - recall: 0.6078\n",
      "Epoch 5/5\n",
      "154/154 [==============================] - ETA: 0s - loss: 0.6672 - binary_accuracy: 0.5312 - precision: 0.3750 - recall: 0.54 - 0s 121us/sample - loss: 0.7015 - binary_accuracy: 0.5260 - precision: 0.3721 - recall: 0.6275\n"
     ]
    },
    {
     "data": {
      "text/html": [
       "<span style=\"color:#4527A0\"><h1 style=\"font-size:18px\">Trial complete</h1></span>"
      ],
      "text/plain": [
       "<IPython.core.display.HTML object>"
      ]
     },
     "metadata": {},
     "output_type": "display_data"
    },
    {
     "data": {
      "text/html": [
       "<span style=\"color:#4527A0\"><h1 style=\"font-size:18px\">Trial summary</h1></span>"
      ],
      "text/plain": [
       "<IPython.core.display.HTML object>"
      ]
     },
     "metadata": {},
     "output_type": "display_data"
    },
    {
     "data": {
      "text/html": [
       "<span style=\"color:cyan\"> |-Trial ID: 764eadcf69a5834c84bd75ffa9d29762</span>"
      ],
      "text/plain": [
       "<IPython.core.display.HTML object>"
      ]
     },
     "metadata": {},
     "output_type": "display_data"
    },
    {
     "data": {
      "text/html": [
       "<span style=\"color:cyan\"> |-Score: 0.4891774654388428</span>"
      ],
      "text/plain": [
       "<IPython.core.display.HTML object>"
      ]
     },
     "metadata": {},
     "output_type": "display_data"
    },
    {
     "data": {
      "text/html": [
       "<span style=\"color:cyan\"> |-Best step: 0</span>"
      ],
      "text/plain": [
       "<IPython.core.display.HTML object>"
      ]
     },
     "metadata": {},
     "output_type": "display_data"
    },
    {
     "data": {
      "text/html": [
       "<span style=\"color:#7E57C2\"><h2 style=\"font-size:16px\">Hyperparameters:</h2></span>"
      ],
      "text/plain": [
       "<IPython.core.display.HTML object>"
      ]
     },
     "metadata": {},
     "output_type": "display_data"
    },
    {
     "data": {
      "text/html": [
       "<span style=\"color:cyan\"> |-act_0: tanh</span>"
      ],
      "text/plain": [
       "<IPython.core.display.HTML object>"
      ]
     },
     "metadata": {},
     "output_type": "display_data"
    },
    {
     "data": {
      "text/html": [
       "<span style=\"color:blue\"> |-act_1: tanh</span>"
      ],
      "text/plain": [
       "<IPython.core.display.HTML object>"
      ]
     },
     "metadata": {},
     "output_type": "display_data"
    },
    {
     "data": {
      "text/html": [
       "<span style=\"color:cyan\"> |-act_2: relu</span>"
      ],
      "text/plain": [
       "<IPython.core.display.HTML object>"
      ]
     },
     "metadata": {},
     "output_type": "display_data"
    },
    {
     "data": {
      "text/html": [
       "<span style=\"color:blue\"> |-dropout: 0.0</span>"
      ],
      "text/plain": [
       "<IPython.core.display.HTML object>"
      ]
     },
     "metadata": {},
     "output_type": "display_data"
    },
    {
     "data": {
      "text/html": [
       "<span style=\"color:cyan\"> |-learning_rate: 0.0001</span>"
      ],
      "text/plain": [
       "<IPython.core.display.HTML object>"
      ]
     },
     "metadata": {},
     "output_type": "display_data"
    },
    {
     "data": {
      "text/html": [
       "<span style=\"color:blue\"> |-momentum: 0.0</span>"
      ],
      "text/plain": [
       "<IPython.core.display.HTML object>"
      ]
     },
     "metadata": {},
     "output_type": "display_data"
    },
    {
     "data": {
      "text/html": [
       "<span style=\"color:cyan\"> |-num_layers: 2</span>"
      ],
      "text/plain": [
       "<IPython.core.display.HTML object>"
      ]
     },
     "metadata": {},
     "output_type": "display_data"
    },
    {
     "data": {
      "text/html": [
       "<span style=\"color:blue\"> |-rho: 0.8000000000000003</span>"
      ],
      "text/plain": [
       "<IPython.core.display.HTML object>"
      ]
     },
     "metadata": {},
     "output_type": "display_data"
    },
    {
     "data": {
      "text/html": [
       "<span style=\"color:cyan\"> |-units_0: 60</span>"
      ],
      "text/plain": [
       "<IPython.core.display.HTML object>"
      ]
     },
     "metadata": {},
     "output_type": "display_data"
    },
    {
     "data": {
      "text/html": [
       "<span style=\"color:blue\"> |-units_1: 70</span>"
      ],
      "text/plain": [
       "<IPython.core.display.HTML object>"
      ]
     },
     "metadata": {},
     "output_type": "display_data"
    },
    {
     "data": {
      "text/html": [
       "<span style=\"color:cyan\"> |-units_2: 80</span>"
      ],
      "text/plain": [
       "<IPython.core.display.HTML object>"
      ]
     },
     "metadata": {},
     "output_type": "display_data"
    },
    {
     "name": "stdout",
     "output_type": "stream",
     "text": [
      "Train on 154 samples\n",
      "Epoch 1/5\n",
      "154/154 [==============================] - ETA: 0s - loss: 0.6830 - binary_accuracy: 0.5312 - precision: 0.3333 - recall: 0.36 - 0s 2ms/sample - loss: 0.6846 - binary_accuracy: 0.5130 - precision: 0.2692 - recall: 0.2745\n",
      "Epoch 2/5\n",
      "154/154 [==============================] - ETA: 0s - loss: 0.6789 - binary_accuracy: 0.6875 - precision: 0.2857 - recall: 0.28 - 0s 174us/sample - loss: 0.6604 - binary_accuracy: 0.6234 - precision: 0.4186 - recall: 0.3529\n",
      "Epoch 3/5\n",
      "154/154 [==============================] - ETA: 0s - loss: 0.6984 - binary_accuracy: 0.5312 - precision: 0.3636 - recall: 0.33 - 0s 170us/sample - loss: 0.6561 - binary_accuracy: 0.6623 - precision: 0.4815 - recall: 0.2549\n",
      "Epoch 4/5\n",
      "154/154 [==============================] - ETA: 0s - loss: 0.6100 - binary_accuracy: 0.6875 - precision: 0.2000 - recall: 0.14 - 0s 176us/sample - loss: 0.6257 - binary_accuracy: 0.6688 - precision: 0.5000 - recall: 0.2549\n",
      "Epoch 5/5\n",
      "154/154 [==============================] - ETA: 0s - loss: 0.5933 - binary_accuracy: 0.6875 - precision: 0.0000e+00 - recall: 0.0000e+ - 0s 134us/sample - loss: 0.6169 - binary_accuracy: 0.6688 - precision: 0.5000 - recall: 0.1176\n",
      "Train on 154 samples\n",
      "Epoch 1/5\n",
      "154/154 [==============================] - ETA: 0s - loss: 0.7518 - binary_accuracy: 0.5625 - precision: 0.2667 - recall: 0.57 - 0s 1ms/sample - loss: 0.7355 - binary_accuracy: 0.4870 - precision: 0.2879 - recall: 0.3725\n",
      "Epoch 2/5\n",
      "154/154 [==============================] - ETA: 0s - loss: 0.7369 - binary_accuracy: 0.5312 - precision: 0.4706 - recall: 0.57 - 0s 171us/sample - loss: 0.7196 - binary_accuracy: 0.5000 - precision: 0.2969 - recall: 0.3725\n",
      "Epoch 3/5\n",
      "154/154 [==============================] - ETA: 0s - loss: 0.7208 - binary_accuracy: 0.4688 - precision: 0.2500 - recall: 0.27 - 0s 129us/sample - loss: 0.7072 - binary_accuracy: 0.5325 - precision: 0.2941 - recall: 0.2941\n",
      "Epoch 4/5\n",
      "154/154 [==============================] - ETA: 0s - loss: 0.7109 - binary_accuracy: 0.5312 - precision: 0.3750 - recall: 0.23 - 0s 122us/sample - loss: 0.6821 - binary_accuracy: 0.5779 - precision: 0.3158 - recall: 0.2353\n",
      "Epoch 5/5\n",
      "154/154 [==============================] - ETA: 0s - loss: 0.6891 - binary_accuracy: 0.6562 - precision: 0.6250 - recall: 0.38 - 0s 131us/sample - loss: 0.6603 - binary_accuracy: 0.6234 - precision: 0.3871 - recall: 0.2353\n",
      "Train on 154 samples\n",
      "Epoch 1/5\n",
      "154/154 [==============================] - ETA: 0s - loss: 0.7721 - binary_accuracy: 0.5000 - precision: 0.3125 - recall: 0.50 - 0s 993us/sample - loss: 0.7691 - binary_accuracy: 0.4091 - precision: 0.2872 - recall: 0.5294\n",
      "Epoch 2/5\n",
      "154/154 [==============================] - ETA: 0s - loss: 0.7201 - binary_accuracy: 0.4375 - precision: 0.2632 - recall: 0.55 - 0s 126us/sample - loss: 0.7269 - binary_accuracy: 0.5065 - precision: 0.3457 - recall: 0.5490\n",
      "Epoch 3/5\n",
      "154/154 [==============================] - ETA: 0s - loss: 0.7517 - binary_accuracy: 0.3750 - precision: 0.2941 - recall: 0.38 - 0s 125us/sample - loss: 0.6912 - binary_accuracy: 0.5195 - precision: 0.3506 - recall: 0.5294\n",
      "Epoch 4/5\n",
      "154/154 [==============================] - ETA: 0s - loss: 0.6681 - binary_accuracy: 0.5625 - precision: 0.4167 - recall: 0.41 - 0s 127us/sample - loss: 0.6618 - binary_accuracy: 0.5779 - precision: 0.3793 - recall: 0.4314\n",
      "Epoch 5/5\n",
      "154/154 [==============================] - ETA: 0s - loss: 0.6744 - binary_accuracy: 0.6250 - precision: 0.2857 - recall: 0.22 - 0s 124us/sample - loss: 0.6501 - binary_accuracy: 0.6364 - precision: 0.4286 - recall: 0.2941\n"
     ]
    },
    {
     "data": {
      "text/html": [
       "<span style=\"color:#4527A0\"><h1 style=\"font-size:18px\">Trial complete</h1></span>"
      ],
      "text/plain": [
       "<IPython.core.display.HTML object>"
      ]
     },
     "metadata": {},
     "output_type": "display_data"
    },
    {
     "data": {
      "text/html": [
       "<span style=\"color:#4527A0\"><h1 style=\"font-size:18px\">Trial summary</h1></span>"
      ],
      "text/plain": [
       "<IPython.core.display.HTML object>"
      ]
     },
     "metadata": {},
     "output_type": "display_data"
    },
    {
     "data": {
      "text/html": [
       "<span style=\"color:cyan\"> |-Trial ID: ea8db45bc1a62e54dc64f97f66b37b4f</span>"
      ],
      "text/plain": [
       "<IPython.core.display.HTML object>"
      ]
     },
     "metadata": {},
     "output_type": "display_data"
    },
    {
     "data": {
      "text/html": [
       "<span style=\"color:cyan\"> |-Score: 0.6428571343421936</span>"
      ],
      "text/plain": [
       "<IPython.core.display.HTML object>"
      ]
     },
     "metadata": {},
     "output_type": "display_data"
    },
    {
     "data": {
      "text/html": [
       "<span style=\"color:cyan\"> |-Best step: 0</span>"
      ],
      "text/plain": [
       "<IPython.core.display.HTML object>"
      ]
     },
     "metadata": {},
     "output_type": "display_data"
    },
    {
     "data": {
      "text/html": [
       "<span style=\"color:#7E57C2\"><h2 style=\"font-size:16px\">Hyperparameters:</h2></span>"
      ],
      "text/plain": [
       "<IPython.core.display.HTML object>"
      ]
     },
     "metadata": {},
     "output_type": "display_data"
    },
    {
     "data": {
      "text/html": [
       "<span style=\"color:cyan\"> |-act_0: tanh</span>"
      ],
      "text/plain": [
       "<IPython.core.display.HTML object>"
      ]
     },
     "metadata": {},
     "output_type": "display_data"
    },
    {
     "data": {
      "text/html": [
       "<span style=\"color:blue\"> |-act_1: relu</span>"
      ],
      "text/plain": [
       "<IPython.core.display.HTML object>"
      ]
     },
     "metadata": {},
     "output_type": "display_data"
    },
    {
     "data": {
      "text/html": [
       "<span style=\"color:cyan\"> |-act_2: tanh</span>"
      ],
      "text/plain": [
       "<IPython.core.display.HTML object>"
      ]
     },
     "metadata": {},
     "output_type": "display_data"
    },
    {
     "data": {
      "text/html": [
       "<span style=\"color:blue\"> |-act_3: relu</span>"
      ],
      "text/plain": [
       "<IPython.core.display.HTML object>"
      ]
     },
     "metadata": {},
     "output_type": "display_data"
    },
    {
     "data": {
      "text/html": [
       "<span style=\"color:cyan\"> |-dropout: 0.1</span>"
      ],
      "text/plain": [
       "<IPython.core.display.HTML object>"
      ]
     },
     "metadata": {},
     "output_type": "display_data"
    },
    {
     "data": {
      "text/html": [
       "<span style=\"color:blue\"> |-learning_rate: 0.0001</span>"
      ],
      "text/plain": [
       "<IPython.core.display.HTML object>"
      ]
     },
     "metadata": {},
     "output_type": "display_data"
    },
    {
     "data": {
      "text/html": [
       "<span style=\"color:cyan\"> |-momentum: 0.35000000000000003</span>"
      ],
      "text/plain": [
       "<IPython.core.display.HTML object>"
      ]
     },
     "metadata": {},
     "output_type": "display_data"
    },
    {
     "data": {
      "text/html": [
       "<span style=\"color:blue\"> |-num_layers: 4</span>"
      ],
      "text/plain": [
       "<IPython.core.display.HTML object>"
      ]
     },
     "metadata": {},
     "output_type": "display_data"
    },
    {
     "data": {
      "text/html": [
       "<span style=\"color:cyan\"> |-rho: 0.5</span>"
      ],
      "text/plain": [
       "<IPython.core.display.HTML object>"
      ]
     },
     "metadata": {},
     "output_type": "display_data"
    },
    {
     "data": {
      "text/html": [
       "<span style=\"color:blue\"> |-units_0: 70</span>"
      ],
      "text/plain": [
       "<IPython.core.display.HTML object>"
      ]
     },
     "metadata": {},
     "output_type": "display_data"
    },
    {
     "data": {
      "text/html": [
       "<span style=\"color:cyan\"> |-units_1: 40</span>"
      ],
      "text/plain": [
       "<IPython.core.display.HTML object>"
      ]
     },
     "metadata": {},
     "output_type": "display_data"
    },
    {
     "data": {
      "text/html": [
       "<span style=\"color:blue\"> |-units_2: 80</span>"
      ],
      "text/plain": [
       "<IPython.core.display.HTML object>"
      ]
     },
     "metadata": {},
     "output_type": "display_data"
    },
    {
     "data": {
      "text/html": [
       "<span style=\"color:cyan\"> |-units_3: 20</span>"
      ],
      "text/plain": [
       "<IPython.core.display.HTML object>"
      ]
     },
     "metadata": {},
     "output_type": "display_data"
    },
    {
     "name": "stdout",
     "output_type": "stream",
     "text": [
      "INFO:tensorflow:Oracle triggered exit\n"
     ]
    }
   ],
   "source": [
    "tuner.search(X_train.values, y_train.values,\n",
    "             epochs=5)# class_weight=get_class_weights(y_train))"
   ]
  },
  {
   "cell_type": "code",
   "execution_count": 53,
   "metadata": {},
   "outputs": [
    {
     "data": {
      "text/html": [
       "<span style=\"color:#4527A0\"><h1 style=\"font-size:18px\">Results summary</h1></span>"
      ],
      "text/plain": [
       "<IPython.core.display.HTML object>"
      ]
     },
     "metadata": {},
     "output_type": "display_data"
    },
    {
     "data": {
      "text/html": [
       "<span style=\"color:cyan\"> |-Results in SMOTE5/untitled_project</span>"
      ],
      "text/plain": [
       "<IPython.core.display.HTML object>"
      ]
     },
     "metadata": {},
     "output_type": "display_data"
    },
    {
     "data": {
      "text/html": [
       "<span style=\"color:cyan\"> |-Showing 10 best trials</span>"
      ],
      "text/plain": [
       "<IPython.core.display.HTML object>"
      ]
     },
     "metadata": {},
     "output_type": "display_data"
    },
    {
     "data": {
      "text/html": [
       "<span style=\"color:cyan\"> |-Objective(name='binary_accuracy', direction='max')</span>"
      ],
      "text/plain": [
       "<IPython.core.display.HTML object>"
      ]
     },
     "metadata": {},
     "output_type": "display_data"
    },
    {
     "data": {
      "text/html": [
       "<span style=\"color:#4527A0\"><h1 style=\"font-size:18px\">Trial summary</h1></span>"
      ],
      "text/plain": [
       "<IPython.core.display.HTML object>"
      ]
     },
     "metadata": {},
     "output_type": "display_data"
    },
    {
     "data": {
      "text/html": [
       "<span style=\"color:cyan\"> |-Trial ID: da645490380744cf5b57535faaf71401</span>"
      ],
      "text/plain": [
       "<IPython.core.display.HTML object>"
      ]
     },
     "metadata": {},
     "output_type": "display_data"
    },
    {
     "data": {
      "text/html": [
       "<span style=\"color:cyan\"> |-Score: 0.8896103501319885</span>"
      ],
      "text/plain": [
       "<IPython.core.display.HTML object>"
      ]
     },
     "metadata": {},
     "output_type": "display_data"
    },
    {
     "data": {
      "text/html": [
       "<span style=\"color:cyan\"> |-Best step: 0</span>"
      ],
      "text/plain": [
       "<IPython.core.display.HTML object>"
      ]
     },
     "metadata": {},
     "output_type": "display_data"
    },
    {
     "data": {
      "text/html": [
       "<span style=\"color:#7E57C2\"><h2 style=\"font-size:16px\">Hyperparameters:</h2></span>"
      ],
      "text/plain": [
       "<IPython.core.display.HTML object>"
      ]
     },
     "metadata": {},
     "output_type": "display_data"
    },
    {
     "data": {
      "text/html": [
       "<span style=\"color:cyan\"> |-act_0: relu</span>"
      ],
      "text/plain": [
       "<IPython.core.display.HTML object>"
      ]
     },
     "metadata": {},
     "output_type": "display_data"
    },
    {
     "data": {
      "text/html": [
       "<span style=\"color:blue\"> |-act_1: relu</span>"
      ],
      "text/plain": [
       "<IPython.core.display.HTML object>"
      ]
     },
     "metadata": {},
     "output_type": "display_data"
    },
    {
     "data": {
      "text/html": [
       "<span style=\"color:cyan\"> |-act_2: relu</span>"
      ],
      "text/plain": [
       "<IPython.core.display.HTML object>"
      ]
     },
     "metadata": {},
     "output_type": "display_data"
    },
    {
     "data": {
      "text/html": [
       "<span style=\"color:blue\"> |-dropout: 0.0</span>"
      ],
      "text/plain": [
       "<IPython.core.display.HTML object>"
      ]
     },
     "metadata": {},
     "output_type": "display_data"
    },
    {
     "data": {
      "text/html": [
       "<span style=\"color:cyan\"> |-learning_rate: 0.01</span>"
      ],
      "text/plain": [
       "<IPython.core.display.HTML object>"
      ]
     },
     "metadata": {},
     "output_type": "display_data"
    },
    {
     "data": {
      "text/html": [
       "<span style=\"color:blue\"> |-momentum: 0.25</span>"
      ],
      "text/plain": [
       "<IPython.core.display.HTML object>"
      ]
     },
     "metadata": {},
     "output_type": "display_data"
    },
    {
     "data": {
      "text/html": [
       "<span style=\"color:cyan\"> |-num_layers: 2</span>"
      ],
      "text/plain": [
       "<IPython.core.display.HTML object>"
      ]
     },
     "metadata": {},
     "output_type": "display_data"
    },
    {
     "data": {
      "text/html": [
       "<span style=\"color:blue\"> |-rho: 0.6000000000000001</span>"
      ],
      "text/plain": [
       "<IPython.core.display.HTML object>"
      ]
     },
     "metadata": {},
     "output_type": "display_data"
    },
    {
     "data": {
      "text/html": [
       "<span style=\"color:cyan\"> |-units_0: 60</span>"
      ],
      "text/plain": [
       "<IPython.core.display.HTML object>"
      ]
     },
     "metadata": {},
     "output_type": "display_data"
    },
    {
     "data": {
      "text/html": [
       "<span style=\"color:blue\"> |-units_1: 50</span>"
      ],
      "text/plain": [
       "<IPython.core.display.HTML object>"
      ]
     },
     "metadata": {},
     "output_type": "display_data"
    },
    {
     "data": {
      "text/html": [
       "<span style=\"color:cyan\"> |-units_2: 60</span>"
      ],
      "text/plain": [
       "<IPython.core.display.HTML object>"
      ]
     },
     "metadata": {},
     "output_type": "display_data"
    },
    {
     "data": {
      "text/html": [
       "<span style=\"color:#4527A0\"><h1 style=\"font-size:18px\">Trial summary</h1></span>"
      ],
      "text/plain": [
       "<IPython.core.display.HTML object>"
      ]
     },
     "metadata": {},
     "output_type": "display_data"
    },
    {
     "data": {
      "text/html": [
       "<span style=\"color:cyan\"> |-Trial ID: 64824ceee035f5e3791bcae0d325dbcf</span>"
      ],
      "text/plain": [
       "<IPython.core.display.HTML object>"
      ]
     },
     "metadata": {},
     "output_type": "display_data"
    },
    {
     "data": {
      "text/html": [
       "<span style=\"color:cyan\"> |-Score: 0.8658008575439453</span>"
      ],
      "text/plain": [
       "<IPython.core.display.HTML object>"
      ]
     },
     "metadata": {},
     "output_type": "display_data"
    },
    {
     "data": {
      "text/html": [
       "<span style=\"color:cyan\"> |-Best step: 0</span>"
      ],
      "text/plain": [
       "<IPython.core.display.HTML object>"
      ]
     },
     "metadata": {},
     "output_type": "display_data"
    },
    {
     "data": {
      "text/html": [
       "<span style=\"color:#7E57C2\"><h2 style=\"font-size:16px\">Hyperparameters:</h2></span>"
      ],
      "text/plain": [
       "<IPython.core.display.HTML object>"
      ]
     },
     "metadata": {},
     "output_type": "display_data"
    },
    {
     "data": {
      "text/html": [
       "<span style=\"color:cyan\"> |-act_0: relu</span>"
      ],
      "text/plain": [
       "<IPython.core.display.HTML object>"
      ]
     },
     "metadata": {},
     "output_type": "display_data"
    },
    {
     "data": {
      "text/html": [
       "<span style=\"color:blue\"> |-act_1: tanh</span>"
      ],
      "text/plain": [
       "<IPython.core.display.HTML object>"
      ]
     },
     "metadata": {},
     "output_type": "display_data"
    },
    {
     "data": {
      "text/html": [
       "<span style=\"color:cyan\"> |-act_2: relu</span>"
      ],
      "text/plain": [
       "<IPython.core.display.HTML object>"
      ]
     },
     "metadata": {},
     "output_type": "display_data"
    },
    {
     "data": {
      "text/html": [
       "<span style=\"color:blue\"> |-dropout: 0.1</span>"
      ],
      "text/plain": [
       "<IPython.core.display.HTML object>"
      ]
     },
     "metadata": {},
     "output_type": "display_data"
    },
    {
     "data": {
      "text/html": [
       "<span style=\"color:cyan\"> |-learning_rate: 0.001</span>"
      ],
      "text/plain": [
       "<IPython.core.display.HTML object>"
      ]
     },
     "metadata": {},
     "output_type": "display_data"
    },
    {
     "data": {
      "text/html": [
       "<span style=\"color:blue\"> |-momentum: 0.25</span>"
      ],
      "text/plain": [
       "<IPython.core.display.HTML object>"
      ]
     },
     "metadata": {},
     "output_type": "display_data"
    },
    {
     "data": {
      "text/html": [
       "<span style=\"color:cyan\"> |-num_layers: 3</span>"
      ],
      "text/plain": [
       "<IPython.core.display.HTML object>"
      ]
     },
     "metadata": {},
     "output_type": "display_data"
    },
    {
     "data": {
      "text/html": [
       "<span style=\"color:blue\"> |-rho: 0.8000000000000003</span>"
      ],
      "text/plain": [
       "<IPython.core.display.HTML object>"
      ]
     },
     "metadata": {},
     "output_type": "display_data"
    },
    {
     "data": {
      "text/html": [
       "<span style=\"color:cyan\"> |-units_0: 80</span>"
      ],
      "text/plain": [
       "<IPython.core.display.HTML object>"
      ]
     },
     "metadata": {},
     "output_type": "display_data"
    },
    {
     "data": {
      "text/html": [
       "<span style=\"color:blue\"> |-units_1: 80</span>"
      ],
      "text/plain": [
       "<IPython.core.display.HTML object>"
      ]
     },
     "metadata": {},
     "output_type": "display_data"
    },
    {
     "data": {
      "text/html": [
       "<span style=\"color:cyan\"> |-units_2: 30</span>"
      ],
      "text/plain": [
       "<IPython.core.display.HTML object>"
      ]
     },
     "metadata": {},
     "output_type": "display_data"
    },
    {
     "data": {
      "text/html": [
       "<span style=\"color:#4527A0\"><h1 style=\"font-size:18px\">Trial summary</h1></span>"
      ],
      "text/plain": [
       "<IPython.core.display.HTML object>"
      ]
     },
     "metadata": {},
     "output_type": "display_data"
    },
    {
     "data": {
      "text/html": [
       "<span style=\"color:cyan\"> |-Trial ID: 60ad3ca36c024104142f5f369e794c11</span>"
      ],
      "text/plain": [
       "<IPython.core.display.HTML object>"
      ]
     },
     "metadata": {},
     "output_type": "display_data"
    },
    {
     "data": {
      "text/html": [
       "<span style=\"color:cyan\"> |-Score: 0.7316017150878906</span>"
      ],
      "text/plain": [
       "<IPython.core.display.HTML object>"
      ]
     },
     "metadata": {},
     "output_type": "display_data"
    },
    {
     "data": {
      "text/html": [
       "<span style=\"color:cyan\"> |-Best step: 0</span>"
      ],
      "text/plain": [
       "<IPython.core.display.HTML object>"
      ]
     },
     "metadata": {},
     "output_type": "display_data"
    },
    {
     "data": {
      "text/html": [
       "<span style=\"color:#7E57C2\"><h2 style=\"font-size:16px\">Hyperparameters:</h2></span>"
      ],
      "text/plain": [
       "<IPython.core.display.HTML object>"
      ]
     },
     "metadata": {},
     "output_type": "display_data"
    },
    {
     "data": {
      "text/html": [
       "<span style=\"color:cyan\"> |-act_0: relu</span>"
      ],
      "text/plain": [
       "<IPython.core.display.HTML object>"
      ]
     },
     "metadata": {},
     "output_type": "display_data"
    },
    {
     "data": {
      "text/html": [
       "<span style=\"color:blue\"> |-act_1: relu</span>"
      ],
      "text/plain": [
       "<IPython.core.display.HTML object>"
      ]
     },
     "metadata": {},
     "output_type": "display_data"
    },
    {
     "data": {
      "text/html": [
       "<span style=\"color:cyan\"> |-act_2: relu</span>"
      ],
      "text/plain": [
       "<IPython.core.display.HTML object>"
      ]
     },
     "metadata": {},
     "output_type": "display_data"
    },
    {
     "data": {
      "text/html": [
       "<span style=\"color:blue\"> |-dropout: 0.30000000000000004</span>"
      ],
      "text/plain": [
       "<IPython.core.display.HTML object>"
      ]
     },
     "metadata": {},
     "output_type": "display_data"
    },
    {
     "data": {
      "text/html": [
       "<span style=\"color:cyan\"> |-learning_rate: 0.01</span>"
      ],
      "text/plain": [
       "<IPython.core.display.HTML object>"
      ]
     },
     "metadata": {},
     "output_type": "display_data"
    },
    {
     "data": {
      "text/html": [
       "<span style=\"color:blue\"> |-momentum: 0.1</span>"
      ],
      "text/plain": [
       "<IPython.core.display.HTML object>"
      ]
     },
     "metadata": {},
     "output_type": "display_data"
    },
    {
     "data": {
      "text/html": [
       "<span style=\"color:cyan\"> |-num_layers: 3</span>"
      ],
      "text/plain": [
       "<IPython.core.display.HTML object>"
      ]
     },
     "metadata": {},
     "output_type": "display_data"
    },
    {
     "data": {
      "text/html": [
       "<span style=\"color:blue\"> |-rho: 0.6000000000000001</span>"
      ],
      "text/plain": [
       "<IPython.core.display.HTML object>"
      ]
     },
     "metadata": {},
     "output_type": "display_data"
    },
    {
     "data": {
      "text/html": [
       "<span style=\"color:cyan\"> |-units_0: 30</span>"
      ],
      "text/plain": [
       "<IPython.core.display.HTML object>"
      ]
     },
     "metadata": {},
     "output_type": "display_data"
    },
    {
     "data": {
      "text/html": [
       "<span style=\"color:blue\"> |-units_1: 20</span>"
      ],
      "text/plain": [
       "<IPython.core.display.HTML object>"
      ]
     },
     "metadata": {},
     "output_type": "display_data"
    },
    {
     "data": {
      "text/html": [
       "<span style=\"color:cyan\"> |-units_2: 20</span>"
      ],
      "text/plain": [
       "<IPython.core.display.HTML object>"
      ]
     },
     "metadata": {},
     "output_type": "display_data"
    },
    {
     "data": {
      "text/html": [
       "<span style=\"color:#4527A0\"><h1 style=\"font-size:18px\">Trial summary</h1></span>"
      ],
      "text/plain": [
       "<IPython.core.display.HTML object>"
      ]
     },
     "metadata": {},
     "output_type": "display_data"
    },
    {
     "data": {
      "text/html": [
       "<span style=\"color:cyan\"> |-Trial ID: ea8db45bc1a62e54dc64f97f66b37b4f</span>"
      ],
      "text/plain": [
       "<IPython.core.display.HTML object>"
      ]
     },
     "metadata": {},
     "output_type": "display_data"
    },
    {
     "data": {
      "text/html": [
       "<span style=\"color:cyan\"> |-Score: 0.6428571343421936</span>"
      ],
      "text/plain": [
       "<IPython.core.display.HTML object>"
      ]
     },
     "metadata": {},
     "output_type": "display_data"
    },
    {
     "data": {
      "text/html": [
       "<span style=\"color:cyan\"> |-Best step: 0</span>"
      ],
      "text/plain": [
       "<IPython.core.display.HTML object>"
      ]
     },
     "metadata": {},
     "output_type": "display_data"
    },
    {
     "data": {
      "text/html": [
       "<span style=\"color:#7E57C2\"><h2 style=\"font-size:16px\">Hyperparameters:</h2></span>"
      ],
      "text/plain": [
       "<IPython.core.display.HTML object>"
      ]
     },
     "metadata": {},
     "output_type": "display_data"
    },
    {
     "data": {
      "text/html": [
       "<span style=\"color:cyan\"> |-act_0: tanh</span>"
      ],
      "text/plain": [
       "<IPython.core.display.HTML object>"
      ]
     },
     "metadata": {},
     "output_type": "display_data"
    },
    {
     "data": {
      "text/html": [
       "<span style=\"color:blue\"> |-act_1: relu</span>"
      ],
      "text/plain": [
       "<IPython.core.display.HTML object>"
      ]
     },
     "metadata": {},
     "output_type": "display_data"
    },
    {
     "data": {
      "text/html": [
       "<span style=\"color:cyan\"> |-act_2: tanh</span>"
      ],
      "text/plain": [
       "<IPython.core.display.HTML object>"
      ]
     },
     "metadata": {},
     "output_type": "display_data"
    },
    {
     "data": {
      "text/html": [
       "<span style=\"color:blue\"> |-act_3: relu</span>"
      ],
      "text/plain": [
       "<IPython.core.display.HTML object>"
      ]
     },
     "metadata": {},
     "output_type": "display_data"
    },
    {
     "data": {
      "text/html": [
       "<span style=\"color:cyan\"> |-dropout: 0.1</span>"
      ],
      "text/plain": [
       "<IPython.core.display.HTML object>"
      ]
     },
     "metadata": {},
     "output_type": "display_data"
    },
    {
     "data": {
      "text/html": [
       "<span style=\"color:blue\"> |-learning_rate: 0.0001</span>"
      ],
      "text/plain": [
       "<IPython.core.display.HTML object>"
      ]
     },
     "metadata": {},
     "output_type": "display_data"
    },
    {
     "data": {
      "text/html": [
       "<span style=\"color:cyan\"> |-momentum: 0.35000000000000003</span>"
      ],
      "text/plain": [
       "<IPython.core.display.HTML object>"
      ]
     },
     "metadata": {},
     "output_type": "display_data"
    },
    {
     "data": {
      "text/html": [
       "<span style=\"color:blue\"> |-num_layers: 4</span>"
      ],
      "text/plain": [
       "<IPython.core.display.HTML object>"
      ]
     },
     "metadata": {},
     "output_type": "display_data"
    },
    {
     "data": {
      "text/html": [
       "<span style=\"color:cyan\"> |-rho: 0.5</span>"
      ],
      "text/plain": [
       "<IPython.core.display.HTML object>"
      ]
     },
     "metadata": {},
     "output_type": "display_data"
    },
    {
     "data": {
      "text/html": [
       "<span style=\"color:blue\"> |-units_0: 70</span>"
      ],
      "text/plain": [
       "<IPython.core.display.HTML object>"
      ]
     },
     "metadata": {},
     "output_type": "display_data"
    },
    {
     "data": {
      "text/html": [
       "<span style=\"color:cyan\"> |-units_1: 40</span>"
      ],
      "text/plain": [
       "<IPython.core.display.HTML object>"
      ]
     },
     "metadata": {},
     "output_type": "display_data"
    },
    {
     "data": {
      "text/html": [
       "<span style=\"color:blue\"> |-units_2: 80</span>"
      ],
      "text/plain": [
       "<IPython.core.display.HTML object>"
      ]
     },
     "metadata": {},
     "output_type": "display_data"
    },
    {
     "data": {
      "text/html": [
       "<span style=\"color:cyan\"> |-units_3: 20</span>"
      ],
      "text/plain": [
       "<IPython.core.display.HTML object>"
      ]
     },
     "metadata": {},
     "output_type": "display_data"
    },
    {
     "data": {
      "text/html": [
       "<span style=\"color:#4527A0\"><h1 style=\"font-size:18px\">Trial summary</h1></span>"
      ],
      "text/plain": [
       "<IPython.core.display.HTML object>"
      ]
     },
     "metadata": {},
     "output_type": "display_data"
    },
    {
     "data": {
      "text/html": [
       "<span style=\"color:cyan\"> |-Trial ID: 764eadcf69a5834c84bd75ffa9d29762</span>"
      ],
      "text/plain": [
       "<IPython.core.display.HTML object>"
      ]
     },
     "metadata": {},
     "output_type": "display_data"
    },
    {
     "data": {
      "text/html": [
       "<span style=\"color:cyan\"> |-Score: 0.4891774654388428</span>"
      ],
      "text/plain": [
       "<IPython.core.display.HTML object>"
      ]
     },
     "metadata": {},
     "output_type": "display_data"
    },
    {
     "data": {
      "text/html": [
       "<span style=\"color:cyan\"> |-Best step: 0</span>"
      ],
      "text/plain": [
       "<IPython.core.display.HTML object>"
      ]
     },
     "metadata": {},
     "output_type": "display_data"
    },
    {
     "data": {
      "text/html": [
       "<span style=\"color:#7E57C2\"><h2 style=\"font-size:16px\">Hyperparameters:</h2></span>"
      ],
      "text/plain": [
       "<IPython.core.display.HTML object>"
      ]
     },
     "metadata": {},
     "output_type": "display_data"
    },
    {
     "data": {
      "text/html": [
       "<span style=\"color:cyan\"> |-act_0: tanh</span>"
      ],
      "text/plain": [
       "<IPython.core.display.HTML object>"
      ]
     },
     "metadata": {},
     "output_type": "display_data"
    },
    {
     "data": {
      "text/html": [
       "<span style=\"color:blue\"> |-act_1: tanh</span>"
      ],
      "text/plain": [
       "<IPython.core.display.HTML object>"
      ]
     },
     "metadata": {},
     "output_type": "display_data"
    },
    {
     "data": {
      "text/html": [
       "<span style=\"color:cyan\"> |-act_2: relu</span>"
      ],
      "text/plain": [
       "<IPython.core.display.HTML object>"
      ]
     },
     "metadata": {},
     "output_type": "display_data"
    },
    {
     "data": {
      "text/html": [
       "<span style=\"color:blue\"> |-dropout: 0.0</span>"
      ],
      "text/plain": [
       "<IPython.core.display.HTML object>"
      ]
     },
     "metadata": {},
     "output_type": "display_data"
    },
    {
     "data": {
      "text/html": [
       "<span style=\"color:cyan\"> |-learning_rate: 0.0001</span>"
      ],
      "text/plain": [
       "<IPython.core.display.HTML object>"
      ]
     },
     "metadata": {},
     "output_type": "display_data"
    },
    {
     "data": {
      "text/html": [
       "<span style=\"color:blue\"> |-momentum: 0.0</span>"
      ],
      "text/plain": [
       "<IPython.core.display.HTML object>"
      ]
     },
     "metadata": {},
     "output_type": "display_data"
    },
    {
     "data": {
      "text/html": [
       "<span style=\"color:cyan\"> |-num_layers: 2</span>"
      ],
      "text/plain": [
       "<IPython.core.display.HTML object>"
      ]
     },
     "metadata": {},
     "output_type": "display_data"
    },
    {
     "data": {
      "text/html": [
       "<span style=\"color:blue\"> |-rho: 0.8000000000000003</span>"
      ],
      "text/plain": [
       "<IPython.core.display.HTML object>"
      ]
     },
     "metadata": {},
     "output_type": "display_data"
    },
    {
     "data": {
      "text/html": [
       "<span style=\"color:cyan\"> |-units_0: 60</span>"
      ],
      "text/plain": [
       "<IPython.core.display.HTML object>"
      ]
     },
     "metadata": {},
     "output_type": "display_data"
    },
    {
     "data": {
      "text/html": [
       "<span style=\"color:blue\"> |-units_1: 70</span>"
      ],
      "text/plain": [
       "<IPython.core.display.HTML object>"
      ]
     },
     "metadata": {},
     "output_type": "display_data"
    },
    {
     "data": {
      "text/html": [
       "<span style=\"color:cyan\"> |-units_2: 80</span>"
      ],
      "text/plain": [
       "<IPython.core.display.HTML object>"
      ]
     },
     "metadata": {},
     "output_type": "display_data"
    }
   ],
   "source": [
    "tuner.results_summary()"
   ]
  },
  {
   "cell_type": "code",
   "execution_count": 54,
   "metadata": {},
   "outputs": [
    {
     "name": "stdout",
     "output_type": "stream",
     "text": [
      "{'dropout': 0.0, 'num_layers': 2, 'units_0': 60, 'act_0': 'relu', 'learning_rate': 0.01, 'rho': 0.6000000000000001, 'momentum': 0.25, 'units_1': 50, 'act_1': 'relu', 'units_2': 60, 'act_2': 'relu'}\n"
     ]
    }
   ],
   "source": [
    "best_hp = tuner.get_best_hyperparameters(num_trials=1)[0]\n",
    "print (best_hp.values)"
   ]
  },
  {
   "cell_type": "code",
   "execution_count": 55,
   "metadata": {},
   "outputs": [],
   "source": [
    "best_model = tuner.get_best_models(num_models=1)[0]"
   ]
  },
  {
   "cell_type": "code",
   "execution_count": 56,
   "metadata": {},
   "outputs": [
    {
     "name": "stdout",
     "output_type": "stream",
     "text": [
      "Train on 154 samples\n",
      "Epoch 1/30\n",
      "154/154 [==============================] - ETA: 0s - loss: 0.1429 - binary_accuracy: 0.9375 - precision: 0.8000 - recall: 1.00 - 0s 858us/sample - loss: 0.2692 - binary_accuracy: 0.8896 - precision: 0.8400 - recall: 0.8235\n",
      "Epoch 2/30\n",
      "154/154 [==============================] - ETA: 0s - loss: 0.0211 - binary_accuracy: 1.0000 - precision: 1.0000 - recall: 1.00 - 0s 117us/sample - loss: 0.0783 - binary_accuracy: 0.9740 - precision: 0.9608 - recall: 0.9608\n",
      "Epoch 3/30\n",
      "154/154 [==============================] - ETA: 0s - loss: 0.1184 - binary_accuracy: 0.9375 - precision: 0.9091 - recall: 0.90 - 0s 114us/sample - loss: 0.0628 - binary_accuracy: 0.9740 - precision: 0.9434 - recall: 0.9804\n",
      "Epoch 4/30\n",
      "154/154 [==============================] - ETA: 0s - loss: 0.0448 - binary_accuracy: 1.0000 - precision: 1.0000 - recall: 1.00 - 0s 110us/sample - loss: 0.0976 - binary_accuracy: 0.9675 - precision: 0.9259 - recall: 0.9804\n",
      "Epoch 5/30\n",
      "154/154 [==============================] - ETA: 0s - loss: 0.1496 - binary_accuracy: 0.9062 - precision: 1.0000 - recall: 0.70 - 0s 113us/sample - loss: 0.0936 - binary_accuracy: 0.9545 - precision: 0.9583 - recall: 0.9020\n",
      "Epoch 6/30\n",
      "154/154 [==============================] - ETA: 0s - loss: 0.0068 - binary_accuracy: 1.0000 - precision: 1.0000 - recall: 1.00 - 0s 113us/sample - loss: 0.0369 - binary_accuracy: 0.9870 - precision: 1.0000 - recall: 0.9608\n",
      "Epoch 7/30\n",
      "154/154 [==============================] - ETA: 0s - loss: 0.0492 - binary_accuracy: 0.9688 - precision: 0.9000 - recall: 1.00 - 0s 118us/sample - loss: 0.0372 - binary_accuracy: 0.9805 - precision: 0.9615 - recall: 0.9804\n",
      "Epoch 8/30\n",
      "154/154 [==============================] - ETA: 0s - loss: 0.0035 - binary_accuracy: 1.0000 - precision: 1.0000 - recall: 1.00 - 0s 118us/sample - loss: 0.0446 - binary_accuracy: 0.9740 - precision: 0.9796 - recall: 0.9412\n",
      "Epoch 9/30\n",
      "154/154 [==============================] - ETA: 0s - loss: 0.2210 - binary_accuracy: 0.9375 - precision: 0.9000 - recall: 0.90 - 0s 109us/sample - loss: 0.0494 - binary_accuracy: 0.9870 - precision: 0.9804 - recall: 0.9804\n",
      "Epoch 10/30\n",
      "154/154 [==============================] - ETA: 0s - loss: 0.0022 - binary_accuracy: 1.0000 - precision: 1.0000 - recall: 1.00 - 0s 115us/sample - loss: 0.0260 - binary_accuracy: 0.9935 - precision: 0.9808 - recall: 1.0000\n",
      "Epoch 11/30\n",
      "154/154 [==============================] - ETA: 0s - loss: 0.0036 - binary_accuracy: 1.0000 - precision: 1.0000 - recall: 1.00 - 0s 109us/sample - loss: 0.0043 - binary_accuracy: 1.0000 - precision: 1.0000 - recall: 1.0000\n",
      "Epoch 12/30\n",
      "154/154 [==============================] - ETA: 0s - loss: 0.0010 - binary_accuracy: 1.0000 - precision: 1.0000 - recall: 1.00 - 0s 109us/sample - loss: 5.9997e-04 - binary_accuracy: 1.0000 - precision: 1.0000 - recall: 1.0000\n",
      "Epoch 13/30\n",
      "154/154 [==============================] - ETA: 0s - loss: 1.0701e-04 - binary_accuracy: 1.0000 - precision: 1.0000 - recall: 1.00 - 0s 111us/sample - loss: 3.3673e-04 - binary_accuracy: 1.0000 - precision: 1.0000 - recall: 1.0000\n",
      "Epoch 14/30\n",
      "154/154 [==============================] - ETA: 0s - loss: 0.0087 - binary_accuracy: 1.0000 - precision: 1.0000 - recall: 1.00 - 0s 113us/sample - loss: 0.0491 - binary_accuracy: 0.9870 - precision: 0.9804 - recall: 0.9804\n",
      "Epoch 15/30\n",
      "154/154 [==============================] - ETA: 0s - loss: 3.4013e-04 - binary_accuracy: 1.0000 - precision: 1.0000 - recall: 1.00 - 0s 111us/sample - loss: 0.0047 - binary_accuracy: 1.0000 - precision: 1.0000 - recall: 1.0000\n",
      "Epoch 16/30\n",
      "154/154 [==============================] - ETA: 0s - loss: 3.9729e-04 - binary_accuracy: 1.0000 - precision: 1.0000 - recall: 1.00 - 0s 109us/sample - loss: 3.6547e-04 - binary_accuracy: 1.0000 - precision: 1.0000 - recall: 1.0000\n",
      "Epoch 17/30\n",
      "154/154 [==============================] - ETA: 0s - loss: 1.5195e-04 - binary_accuracy: 1.0000 - precision: 1.0000 - recall: 1.00 - 0s 110us/sample - loss: 1.1657e-04 - binary_accuracy: 1.0000 - precision: 1.0000 - recall: 1.0000\n",
      "Epoch 18/30\n",
      "154/154 [==============================] - ETA: 0s - loss: 9.1768e-05 - binary_accuracy: 1.0000 - precision: 1.0000 - recall: 1.00 - 0s 119us/sample - loss: 6.4520e-05 - binary_accuracy: 1.0000 - precision: 1.0000 - recall: 1.0000\n",
      "Epoch 19/30\n",
      "154/154 [==============================] - ETA: 0s - loss: 2.6238e-04 - binary_accuracy: 1.0000 - precision: 1.0000 - recall: 1.00 - 0s 116us/sample - loss: 4.6565e-04 - binary_accuracy: 1.0000 - precision: 1.0000 - recall: 1.0000\n",
      "Epoch 20/30\n",
      "154/154 [==============================] - ETA: 0s - loss: 0.0025 - binary_accuracy: 1.0000 - precision: 1.0000 - recall: 1.00 - 0s 121us/sample - loss: 6.1740e-04 - binary_accuracy: 1.0000 - precision: 1.0000 - recall: 1.0000\n",
      "Epoch 21/30\n",
      "154/154 [==============================] - ETA: 0s - loss: 0.0172 - binary_accuracy: 1.0000 - precision: 1.0000 - recall: 1.00 - 0s 116us/sample - loss: 0.0125 - binary_accuracy: 0.9935 - precision: 0.9808 - recall: 1.0000\n",
      "Epoch 22/30\n",
      "154/154 [==============================] - ETA: 0s - loss: 6.4460e-05 - binary_accuracy: 1.0000 - precision: 1.0000 - recall: 1.00 - 0s 110us/sample - loss: 5.9692e-04 - binary_accuracy: 1.0000 - precision: 1.0000 - recall: 1.0000\n",
      "Epoch 23/30\n",
      "154/154 [==============================] - ETA: 0s - loss: 1.5641e-05 - binary_accuracy: 1.0000 - precision: 1.0000 - recall: 1.00 - 0s 115us/sample - loss: 0.0015 - binary_accuracy: 1.0000 - precision: 1.0000 - recall: 1.0000\n",
      "Epoch 24/30\n",
      "154/154 [==============================] - ETA: 0s - loss: 1.8789e-05 - binary_accuracy: 1.0000 - precision: 1.0000 - recall: 1.00 - 0s 119us/sample - loss: 0.0021 - binary_accuracy: 1.0000 - precision: 1.0000 - recall: 1.0000\n",
      "Epoch 25/30\n",
      "154/154 [==============================] - ETA: 0s - loss: 0.0137 - binary_accuracy: 1.0000 - precision: 1.0000 - recall: 1.00 - 0s 112us/sample - loss: 0.0224 - binary_accuracy: 0.9805 - precision: 0.9615 - recall: 0.9804\n",
      "Epoch 26/30\n",
      "154/154 [==============================] - ETA: 0s - loss: 3.0551e-04 - binary_accuracy: 1.0000 - precision: 1.0000 - recall: 1.00 - 0s 110us/sample - loss: 0.0224 - binary_accuracy: 0.9870 - precision: 0.9804 - recall: 0.9804\n",
      "Epoch 27/30\n",
      "154/154 [==============================] - ETA: 0s - loss: 6.8657e-05 - binary_accuracy: 1.0000 - precision: 1.0000 - recall: 1.00 - 0s 112us/sample - loss: 4.1638e-05 - binary_accuracy: 1.0000 - precision: 1.0000 - recall: 1.0000\n",
      "Epoch 28/30\n",
      "154/154 [==============================] - ETA: 0s - loss: 1.5688e-05 - binary_accuracy: 1.0000 - precision: 1.0000 - recall: 1.00 - 0s 110us/sample - loss: 2.5250e-05 - binary_accuracy: 1.0000 - precision: 1.0000 - recall: 1.0000\n",
      "Epoch 29/30\n",
      "154/154 [==============================] - ETA: 0s - loss: 1.3680e-05 - binary_accuracy: 1.0000 - precision: 1.0000 - recall: 1.00 - 0s 117us/sample - loss: 1.5703e-05 - binary_accuracy: 1.0000 - precision: 1.0000 - recall: 1.0000\n",
      "Epoch 30/30\n",
      "154/154 [==============================] - ETA: 0s - loss: 4.6802e-06 - binary_accuracy: 1.0000 - precision: 1.0000 - recall: 1.00 - 0s 117us/sample - loss: 1.1117e-05 - binary_accuracy: 1.0000 - precision: 1.0000 - recall: 1.0000\n"
     ]
    },
    {
     "data": {
      "text/plain": [
       "<tensorflow.python.keras.callbacks.History at 0x7f5458aa32b0>"
      ]
     },
     "execution_count": 56,
     "metadata": {},
     "output_type": "execute_result"
    }
   ],
   "source": [
    "best_model.fit(x=X_train.values, y=y_train.values, epochs=30)\n",
    "#print (best_model.summary())"
   ]
  },
  {
   "cell_type": "code",
   "execution_count": 88,
   "metadata": {},
   "outputs": [
    {
     "name": "stdout",
     "output_type": "stream",
     "text": [
      "(37, 26)\n"
     ]
    }
   ],
   "source": [
    "df_dev = pd.read_csv('/home/ubuntu/cs230-project/data_5comp_each/dev_set_PCA_mild.csv')\n",
    "print (df_dev.shape)"
   ]
  },
  {
   "cell_type": "code",
   "execution_count": 89,
   "metadata": {},
   "outputs": [],
   "source": [
    "y_dev = df_dev.iloc[:,0]\n",
    "y_dev = pd.get_dummies(y_dev)[True]\n",
    "X_dev = df_dev.iloc[:,1:]"
   ]
  },
  {
   "cell_type": "code",
   "execution_count": 90,
   "metadata": {},
   "outputs": [
    {
     "name": "stdout",
     "output_type": "stream",
     "text": [
      "(37,)\n",
      "(37, 25)\n",
      "5\n"
     ]
    }
   ],
   "source": [
    "print (y_dev.shape)\n",
    "print (X_dev.shape)\n",
    "print (y_dev.sum())"
   ]
  },
  {
   "cell_type": "code",
   "execution_count": 60,
   "metadata": {},
   "outputs": [
    {
     "name": "stdout",
     "output_type": "stream",
     "text": [
      "154/154 [==============================] - ETA: 0s - loss: 1.0333e-05 - binary_accuracy: 1.0000 - precision: 1.0000 - recall: 1.00 - 0s 410us/sample - loss: 7.6984e-06 - binary_accuracy: 1.0000 - precision: 1.0000 - recall: 1.0000\n",
      "37/37 [==============================] - ETA: 0s - loss: 1.3123 - binary_accuracy: 0.8438 - precision: 0.5000 - recall: 0.40 - 0s 173us/sample - loss: 1.1349 - binary_accuracy: 0.8649 - precision: 0.5000 - recall: 0.4000\n"
     ]
    }
   ],
   "source": [
    "results_train = best_model.evaluate(X_train.values, y_train.values)\n",
    "results_dev = best_model.evaluate(X_dev.values, y_dev.values)"
   ]
  },
  {
   "cell_type": "code",
   "execution_count": 61,
   "metadata": {},
   "outputs": [
    {
     "name": "stdout",
     "output_type": "stream",
     "text": [
      "train\n",
      "loss: 7.698413107639432e-06\n",
      "binary_accuracy: 1.0\n",
      "precision: 1.0\n",
      "recall: 1.0\n",
      "dev\n",
      "loss: 1.1349331645645038\n",
      "binary_accuracy: 0.8648649\n",
      "precision: 0.5\n",
      "recall: 0.4\n"
     ]
    }
   ],
   "source": [
    "print ('train')\n",
    "for i in range(len(results_train)):\n",
    "    print (best_model.metrics_names[i] + ': ' + str(results_train[i]))\n",
    "print ('dev')\n",
    "for i in range(len(results_dev)):\n",
    "    print (best_model.metrics_names[i] + ': ' + str(results_dev[i]))"
   ]
  },
  {
   "cell_type": "code",
   "execution_count": 62,
   "metadata": {},
   "outputs": [
    {
     "name": "stdout",
     "output_type": "stream",
     "text": [
      "    ground_truth  prediction\n",
      "0              0       False\n",
      "1              0       False\n",
      "2              0        True\n",
      "3              1        True\n",
      "4              1       False\n",
      "5              1       False\n",
      "6              1       False\n",
      "7              0       False\n",
      "8              0       False\n",
      "9              0       False\n",
      "10             0       False\n",
      "11             0       False\n",
      "12             0       False\n",
      "13             1        True\n",
      "14             0       False\n",
      "15             0       False\n",
      "16             0       False\n",
      "17             0       False\n",
      "18             0       False\n",
      "19             0        True\n",
      "20             0       False\n",
      "21             0       False\n",
      "22             0       False\n",
      "23             0       False\n",
      "24             0       False\n",
      "25             0       False\n",
      "26             0       False\n",
      "27             0       False\n",
      "28             0       False\n",
      "29             0       False\n",
      "30             0       False\n",
      "31             0       False\n",
      "32             0       False\n",
      "33             0       False\n",
      "34             0       False\n",
      "35             0       False\n",
      "36             0       False\n"
     ]
    }
   ],
   "source": [
    "print (pd.DataFrame({'ground_truth': y_dev,\n",
    "                     'prediction' : best_model.predict(X_dev.values)[:,0]>0.5}))"
   ]
  },
  {
   "cell_type": "code",
   "execution_count": 63,
   "metadata": {},
   "outputs": [],
   "source": [
    "best_model.save('./best_model_pre_valid')"
   ]
  },
  {
   "cell_type": "code",
   "execution_count": 100,
   "metadata": {},
   "outputs": [
    {
     "name": "stdout",
     "output_type": "stream",
     "text": [
      "WARNING:tensorflow:Sequential models without an `input_shape` passed to the first layer cannot reload their optimizer state. As a result, your model isstarting with a freshly initialized optimizer.\n"
     ]
    }
   ],
   "source": [
    "#del(best_model)\n",
    "best_model = keras.models.load_model('./best_model_pre_valid')\n"
   ]
  },
  {
   "cell_type": "code",
   "execution_count": 95,
   "metadata": {},
   "outputs": [
    {
     "name": "stdout",
     "output_type": "stream",
     "text": [
      "(36, 26)\n"
     ]
    }
   ],
   "source": [
    "df_test = pd.read_csv('/home/ubuntu/cs230-project/data_5comp_each/test_set_PCA_mild.csv')\n",
    "print (df_test.shape)\n",
    "y_test = df_test.iloc[:,0]\n",
    "y_test = pd.get_dummies(y_test)[True]\n",
    "X_test = df_test.iloc[:,1:]"
   ]
  },
  {
   "cell_type": "code",
   "execution_count": 101,
   "metadata": {},
   "outputs": [
    {
     "name": "stdout",
     "output_type": "stream",
     "text": [
      "36/36 [==============================] - ETA: 0s - loss: 3.7357 - binary_accuracy: 0.6562 - precision: 0.0000e+00 - recall: 0.0000e+ - 0s 2ms/sample - loss: 3.3207 - binary_accuracy: 0.6944 - precision: 0.0000e+00 - recall: 0.0000e+00\n"
     ]
    }
   ],
   "source": [
    "results_test = best_model.evaluate(X_test.values, y_test.values)"
   ]
  },
  {
   "cell_type": "code",
   "execution_count": 102,
   "metadata": {},
   "outputs": [
    {
     "name": "stdout",
     "output_type": "stream",
     "text": [
      "test\n",
      "loss: 3.3206705790936315\n",
      "binary_accuracy: 0.6944444\n",
      "precision: 0.0\n",
      "recall: 0.0\n"
     ]
    }
   ],
   "source": [
    "print ('test')\n",
    "for i in range(len(results_test)):\n",
    "    print (best_model.metrics_names[i] + ': ' + str(results_test[i]))"
   ]
  },
  {
   "cell_type": "code",
   "execution_count": 103,
   "metadata": {},
   "outputs": [
    {
     "name": "stdout",
     "output_type": "stream",
     "text": [
      "    ground_truth  after pred\n",
      "0              0        True\n",
      "1              0       False\n",
      "2              1       False\n",
      "3              0        True\n",
      "4              1       False\n",
      "5              1       False\n",
      "6              1       False\n",
      "7              0        True\n",
      "8              0        True\n",
      "9              0       False\n",
      "10             0       False\n",
      "11             0       False\n",
      "12             0       False\n",
      "13             0       False\n",
      "14             0        True\n",
      "15             0        True\n",
      "16             0        True\n",
      "17             0        True\n",
      "18             0       False\n",
      "19             0        True\n",
      "20             0       False\n",
      "21             0       False\n",
      "22             0        True\n",
      "23             0       False\n",
      "24             0       False\n",
      "25             0       False\n",
      "26             0       False\n",
      "27             0       False\n",
      "28             0       False\n",
      "29             0       False\n",
      "30             0       False\n",
      "31             0       False\n",
      "32             0       False\n",
      "33             0       False\n",
      "34             0       False\n",
      "35             0       False\n"
     ]
    }
   ],
   "source": [
    "test_pred = best_val_model.predict(X_test.values)[:,0]>0.5\n",
    "print (pd.DataFrame({'ground_truth': y_test,\n",
    "                     'after pred' : test_pred}))"
   ]
  },
  {
   "cell_type": "code",
   "execution_count": 75,
   "metadata": {},
   "outputs": [],
   "source": [
    "def build_val_model(hp):\n",
    "    model = keras.Sequential()\n",
    "    model.add(layers.Dropout(best_hp.values['dropout']))\n",
    "    model.add(layers.Dense(units=best_hp.values['units_0'], activation=best_hp.values['act_0'],\n",
    "                          kernel_regularizer = keras.regularizers.l2(hp.Float('l2_dns0',0, 0.02, step=0.001))))\n",
    "    model.add(layers.Dropout(hp.Float('dropout1', 0, 0.5, step = 0.1)))\n",
    "    model.add(layers.Dense(units=best_hp.values['units_1'], activation=best_hp.values['act_1'],\n",
    "                          kernel_regularizer = keras.regularizers.l2(hp.Float('l2_dns1',0, 0.02, step=0.001))))\n",
    "    model.add(layers.Dropout(hp.Float('dropout2', 0, 0.5, step = 0.1)))\n",
    "    model.add(layers.Dense(units=best_hp.values['units_2'], activation=best_hp.values['act_2'],\n",
    "                          kernel_regularizer = keras.regularizers.l2(hp.Float('l2_dns2',0, 0.02, step=0.001))))\n",
    "    #model.add(layers.Dropout(hp.Float('dropout3', 0, 0.5, step = 0.1)))\n",
    "    model.add(layers.Dense(1, activation='sigmoid'))\n",
    "    \n",
    "    metrics_list = [\n",
    "        keras.metrics.BinaryAccuracy(),\n",
    "        keras.metrics.Precision(name=\"precision\"),\n",
    "        keras.metrics.Recall(name=\"recall\"),\n",
    "    ]\n",
    "    \n",
    "    model.compile(\n",
    "        optimizer = keras.optimizers.RMSprop(\n",
    "        learning_rate = best_hp.values['learning_rate'],\n",
    "        rho = best_hp.values['rho'],\n",
    "        momentum = best_hp.values['momentum']),\n",
    "        loss = 'binary_crossentropy',\n",
    "        metrics = metrics_list)\n",
    "    \n",
    "    return model"
   ]
  },
  {
   "cell_type": "code",
   "execution_count": 77,
   "metadata": {},
   "outputs": [],
   "source": [
    "val_tuner = BayesianOptimization(\n",
    "    build_val_model,\n",
    "    objective = 'val_binary_accuracy',\n",
    "    max_trials = 5,\n",
    "    executions_per_trial = 3,\n",
    "    directory = 'SMOTE_val_6')"
   ]
  },
  {
   "cell_type": "code",
   "execution_count": 78,
   "metadata": {},
   "outputs": [
    {
     "name": "stdout",
     "output_type": "stream",
     "text": [
      "Train on 154 samples, validate on 37 samples\n",
      "Epoch 1/5\n",
      "154/154 [==============================] - ETA: 0s - loss: 4.4155 - binary_accuracy: 0.3438 - precision: 0.2400 - recall: 0.75 - 0s 3ms/sample - loss: 3.9722 - binary_accuracy: 0.5325 - precision: 0.2766 - recall: 0.2549 - val_loss: 1.9541 - val_binary_accuracy: 0.7838 - val_precision: 0.2000 - val_recall: 0.2000\n",
      "Epoch 2/5\n",
      "154/154 [==============================] - ETA: 0s - loss: 2.9778 - binary_accuracy: 0.5625 - precision: 0.2222 - recall: 0.22 - 0s 224us/sample - loss: 2.2855 - binary_accuracy: 0.6558 - precision: 0.4762 - recall: 0.3922 - val_loss: 1.6052 - val_binary_accuracy: 0.8649 - val_precision: 0.5000 - val_recall: 0.2000\n",
      "Epoch 3/5\n",
      "154/154 [==============================] - ETA: 0s - loss: 1.7747 - binary_accuracy: 0.7500 - precision: 0.4000 - recall: 0.28 - 0s 185us/sample - loss: 2.0145 - binary_accuracy: 0.7078 - precision: 0.5714 - recall: 0.4706 - val_loss: 1.6069 - val_binary_accuracy: 0.8108 - val_precision: 0.3750 - val_recall: 0.6000\n",
      "Epoch 4/5\n",
      "154/154 [==============================] - ETA: 0s - loss: 1.8632 - binary_accuracy: 0.6875 - precision: 0.5000 - recall: 0.70 - 0s 189us/sample - loss: 1.5593 - binary_accuracy: 0.7078 - precision: 0.5714 - recall: 0.4706 - val_loss: 1.1975 - val_binary_accuracy: 0.8108 - val_precision: 0.2500 - val_recall: 0.2000\n",
      "Epoch 5/5\n",
      "154/154 [==============================] - ETA: 0s - loss: 1.4532 - binary_accuracy: 0.6875 - precision: 0.7143 - recall: 0.38 - 0s 182us/sample - loss: 1.4041 - binary_accuracy: 0.7208 - precision: 0.5800 - recall: 0.5686 - val_loss: 1.0417 - val_binary_accuracy: 0.8378 - val_precision: 0.3333 - val_recall: 0.2000\n",
      "Train on 154 samples, validate on 37 samples\n",
      "Epoch 1/5\n",
      "154/154 [==============================] - ETA: 0s - loss: 9.0502 - binary_accuracy: 0.2812 - precision: 0.2812 - recall: 1.00 - 0s 2ms/sample - loss: 4.2943 - binary_accuracy: 0.5909 - precision: 0.3889 - recall: 0.4118 - val_loss: 2.3348 - val_binary_accuracy: 0.6216 - val_precision: 0.2000 - val_recall: 0.6000\n",
      "Epoch 2/5\n",
      "154/154 [==============================] - ETA: 0s - loss: 2.4365 - binary_accuracy: 0.6875 - precision: 0.4167 - recall: 0.62 - 0s 189us/sample - loss: 2.4709 - binary_accuracy: 0.6039 - precision: 0.4167 - recall: 0.4902 - val_loss: 2.3701 - val_binary_accuracy: 0.7027 - val_precision: 0.2000 - val_recall: 0.4000\n",
      "Epoch 3/5\n",
      "154/154 [==============================] - ETA: 0s - loss: 2.1798 - binary_accuracy: 0.5938 - precision: 0.4667 - recall: 0.58 - 0s 184us/sample - loss: 1.9600 - binary_accuracy: 0.6883 - precision: 0.5333 - recall: 0.4706 - val_loss: 1.6238 - val_binary_accuracy: 0.7838 - val_precision: 0.2000 - val_recall: 0.2000\n",
      "Epoch 4/5\n",
      "154/154 [==============================] - ETA: 0s - loss: 1.7409 - binary_accuracy: 0.6250 - precision: 0.5000 - recall: 0.50 - 0s 190us/sample - loss: 1.6163 - binary_accuracy: 0.7208 - precision: 0.5909 - recall: 0.5098 - val_loss: 1.3567 - val_binary_accuracy: 0.8108 - val_precision: 0.2500 - val_recall: 0.2000\n",
      "Epoch 5/5\n",
      "154/154 [==============================] - ETA: 0s - loss: 1.3429 - binary_accuracy: 0.8125 - precision: 0.7500 - recall: 0.60 - 0s 179us/sample - loss: 1.5370 - binary_accuracy: 0.7078 - precision: 0.5682 - recall: 0.4902 - val_loss: 1.0926 - val_binary_accuracy: 0.8108 - val_precision: 0.3333 - val_recall: 0.4000\n",
      "Train on 154 samples, validate on 37 samples\n",
      "Epoch 1/5\n",
      "154/154 [==============================] - ETA: 0s - loss: 2.8291 - binary_accuracy: 0.5000 - precision: 0.2857 - recall: 0.15 - 0s 2ms/sample - loss: 3.2882 - binary_accuracy: 0.5649 - precision: 0.3571 - recall: 0.3922 - val_loss: 2.0957 - val_binary_accuracy: 0.8108 - val_precision: 0.3333 - val_recall: 0.4000\n",
      "Epoch 2/5\n",
      "154/154 [==============================] - ETA: 0s - loss: 1.8613 - binary_accuracy: 0.8750 - precision: 0.6667 - recall: 0.66 - 0s 185us/sample - loss: 2.4738 - binary_accuracy: 0.5974 - precision: 0.3962 - recall: 0.4118 - val_loss: 2.0566 - val_binary_accuracy: 0.7027 - val_precision: 0.2000 - val_recall: 0.4000\n",
      "Epoch 3/5\n",
      "154/154 [==============================] - ETA: 0s - loss: 1.6867 - binary_accuracy: 0.7812 - precision: 0.6923 - recall: 0.75 - 0s 170us/sample - loss: 1.8924 - binary_accuracy: 0.7078 - precision: 0.5750 - recall: 0.4510 - val_loss: 1.7255 - val_binary_accuracy: 0.7838 - val_precision: 0.2000 - val_recall: 0.2000\n",
      "Epoch 4/5\n",
      "154/154 [==============================] - ETA: 0s - loss: 1.4942 - binary_accuracy: 0.8438 - precision: 0.8462 - recall: 0.78 - 0s 186us/sample - loss: 1.7502 - binary_accuracy: 0.7662 - precision: 0.6364 - recall: 0.6863 - val_loss: 1.3601 - val_binary_accuracy: 0.8108 - val_precision: 0.2500 - val_recall: 0.2000\n",
      "Epoch 5/5\n",
      "154/154 [==============================] - ETA: 0s - loss: 1.3422 - binary_accuracy: 0.8125 - precision: 0.8750 - recall: 0.58 - 0s 175us/sample - loss: 1.4422 - binary_accuracy: 0.6948 - precision: 0.5500 - recall: 0.4314 - val_loss: 1.1554 - val_binary_accuracy: 0.8108 - val_precision: 0.2500 - val_recall: 0.2000\n"
     ]
    },
    {
     "data": {
      "text/html": [
       "<span style=\"color:#4527A0\"><h1 style=\"font-size:18px\">Trial complete</h1></span>"
      ],
      "text/plain": [
       "<IPython.core.display.HTML object>"
      ]
     },
     "metadata": {},
     "output_type": "display_data"
    },
    {
     "data": {
      "text/html": [
       "<span style=\"color:#4527A0\"><h1 style=\"font-size:18px\">Trial summary</h1></span>"
      ],
      "text/plain": [
       "<IPython.core.display.HTML object>"
      ]
     },
     "metadata": {},
     "output_type": "display_data"
    },
    {
     "data": {
      "text/html": [
       "<span style=\"color:cyan\"> |-Trial ID: ed17b1f668ed39b04acec14de92561f9</span>"
      ],
      "text/plain": [
       "<IPython.core.display.HTML object>"
      ]
     },
     "metadata": {},
     "output_type": "display_data"
    },
    {
     "data": {
      "text/html": [
       "<span style=\"color:cyan\"> |-Score: 0.8288288116455078</span>"
      ],
      "text/plain": [
       "<IPython.core.display.HTML object>"
      ]
     },
     "metadata": {},
     "output_type": "display_data"
    },
    {
     "data": {
      "text/html": [
       "<span style=\"color:cyan\"> |-Best step: 0</span>"
      ],
      "text/plain": [
       "<IPython.core.display.HTML object>"
      ]
     },
     "metadata": {},
     "output_type": "display_data"
    },
    {
     "data": {
      "text/html": [
       "<span style=\"color:#7E57C2\"><h2 style=\"font-size:16px\">Hyperparameters:</h2></span>"
      ],
      "text/plain": [
       "<IPython.core.display.HTML object>"
      ]
     },
     "metadata": {},
     "output_type": "display_data"
    },
    {
     "data": {
      "text/html": [
       "<span style=\"color:cyan\"> |-dropout1: 0.4</span>"
      ],
      "text/plain": [
       "<IPython.core.display.HTML object>"
      ]
     },
     "metadata": {},
     "output_type": "display_data"
    },
    {
     "data": {
      "text/html": [
       "<span style=\"color:blue\"> |-dropout2: 0.30000000000000004</span>"
      ],
      "text/plain": [
       "<IPython.core.display.HTML object>"
      ]
     },
     "metadata": {},
     "output_type": "display_data"
    },
    {
     "data": {
      "text/html": [
       "<span style=\"color:cyan\"> |-l2_dns0: 0.01</span>"
      ],
      "text/plain": [
       "<IPython.core.display.HTML object>"
      ]
     },
     "metadata": {},
     "output_type": "display_data"
    },
    {
     "data": {
      "text/html": [
       "<span style=\"color:blue\"> |-l2_dns1: 0.009000000000000001</span>"
      ],
      "text/plain": [
       "<IPython.core.display.HTML object>"
      ]
     },
     "metadata": {},
     "output_type": "display_data"
    },
    {
     "data": {
      "text/html": [
       "<span style=\"color:cyan\"> |-l2_dns2: 0.018000000000000002</span>"
      ],
      "text/plain": [
       "<IPython.core.display.HTML object>"
      ]
     },
     "metadata": {},
     "output_type": "display_data"
    },
    {
     "name": "stdout",
     "output_type": "stream",
     "text": [
      "Train on 154 samples, validate on 37 samples\n",
      "Epoch 1/5\n",
      "154/154 [==============================] - ETA: 0s - loss: 4.1638 - binary_accuracy: 0.3750 - precision: 0.3667 - recall: 0.91 - 0s 3ms/sample - loss: 3.1135 - binary_accuracy: 0.5325 - precision: 0.3385 - recall: 0.4314 - val_loss: 1.5078 - val_binary_accuracy: 0.8378 - val_precision: 0.0000e+00 - val_recall: 0.0000e+00\n",
      "Epoch 2/5\n",
      "154/154 [==============================] - ETA: 0s - loss: 2.4044 - binary_accuracy: 0.5000 - precision: 0.0000e+00 - recall: 0.0000e+ - 0s 183us/sample - loss: 1.8584 - binary_accuracy: 0.6494 - precision: 0.4483 - recall: 0.2549 - val_loss: 1.3864 - val_binary_accuracy: 0.8378 - val_precision: 0.4000 - val_recall: 0.4000\n",
      "Epoch 3/5\n",
      "154/154 [==============================] - ETA: 0s - loss: 1.4846 - binary_accuracy: 0.7188 - precision: 0.7143 - recall: 0.41 - 0s 224us/sample - loss: 1.4248 - binary_accuracy: 0.7143 - precision: 0.5897 - recall: 0.4510 - val_loss: 1.1087 - val_binary_accuracy: 0.8649 - val_precision: 0.5000 - val_recall: 0.4000\n",
      "Epoch 4/5\n",
      "154/154 [==============================] - ETA: 0s - loss: 1.3687 - binary_accuracy: 0.8125 - precision: 0.0000e+00 - recall: 0.0000e+ - 0s 183us/sample - loss: 1.5911 - binary_accuracy: 0.6948 - precision: 0.5769 - recall: 0.2941 - val_loss: 1.2339 - val_binary_accuracy: 0.7297 - val_precision: 0.2727 - val_recall: 0.6000\n",
      "Epoch 5/5\n",
      "154/154 [==============================] - ETA: 0s - loss: 1.2855 - binary_accuracy: 0.6250 - precision: 0.5714 - recall: 0.80 - 0s 193us/sample - loss: 1.1218 - binary_accuracy: 0.7727 - precision: 0.6818 - recall: 0.5882 - val_loss: 0.9228 - val_binary_accuracy: 0.7838 - val_precision: 0.2857 - val_recall: 0.4000\n",
      "Train on 154 samples, validate on 37 samples\n",
      "Epoch 1/5\n",
      "154/154 [==============================] - ETA: 0s - loss: 3.8676 - binary_accuracy: 0.3125 - precision: 0.2308 - recall: 0.75 - 0s 2ms/sample - loss: 3.1901 - binary_accuracy: 0.5325 - precision: 0.3091 - recall: 0.3333 - val_loss: 2.3008 - val_binary_accuracy: 0.5135 - val_precision: 0.0667 - val_recall: 0.2000\n",
      "Epoch 2/5\n",
      "154/154 [==============================] - ETA: 0s - loss: 2.5700 - binary_accuracy: 0.5625 - precision: 0.5385 - recall: 0.46 - 0s 191us/sample - loss: 1.9466 - binary_accuracy: 0.6753 - precision: 0.5111 - recall: 0.4510 - val_loss: 1.5795 - val_binary_accuracy: 0.8108 - val_precision: 0.0000e+00 - val_recall: 0.0000e+00\n",
      "Epoch 3/5\n",
      "154/154 [==============================] - ETA: 0s - loss: 1.7307 - binary_accuracy: 0.7188 - precision: 0.5000 - recall: 0.22 - 0s 182us/sample - loss: 1.7808 - binary_accuracy: 0.6818 - precision: 0.5227 - recall: 0.4510 - val_loss: 1.4036 - val_binary_accuracy: 0.7297 - val_precision: 0.2222 - val_recall: 0.4000\n",
      "Epoch 4/5\n",
      "154/154 [==============================] - ETA: 0s - loss: 1.3448 - binary_accuracy: 0.7188 - precision: 0.6000 - recall: 0.92 - 0s 187us/sample - loss: 1.5858 - binary_accuracy: 0.6688 - precision: 0.5000 - recall: 0.4902 - val_loss: 1.1527 - val_binary_accuracy: 0.8649 - val_precision: 0.5000 - val_recall: 0.2000\n",
      "Epoch 5/5\n",
      "154/154 [==============================] - ETA: 0s - loss: 1.6261 - binary_accuracy: 0.5312 - precision: 1.0000 - recall: 0.21 - 0s 176us/sample - loss: 1.2790 - binary_accuracy: 0.7143 - precision: 0.5854 - recall: 0.4706 - val_loss: 0.9662 - val_binary_accuracy: 0.8108 - val_precision: 0.2500 - val_recall: 0.2000\n",
      "Train on 154 samples, validate on 37 samples\n",
      "Epoch 1/5\n",
      "154/154 [==============================] - ETA: 0s - loss: 2.2028 - binary_accuracy: 0.7188 - precision: 0.0000e+00 - recall: 0.0000e+ - 0s 2ms/sample - loss: 2.5709 - binary_accuracy: 0.6299 - precision: 0.4250 - recall: 0.3333 - val_loss: 2.6943 - val_binary_accuracy: 0.3514 - val_precision: 0.1724 - val_recall: 1.0000\n",
      "Epoch 2/5\n",
      "154/154 [==============================] - ETA: 0s - loss: 2.8908 - binary_accuracy: 0.4375 - precision: 0.2609 - recall: 0.85 - 0s 184us/sample - loss: 2.1214 - binary_accuracy: 0.6104 - precision: 0.4262 - recall: 0.5098 - val_loss: 1.6260 - val_binary_accuracy: 0.7027 - val_precision: 0.2000 - val_recall: 0.4000\n",
      "Epoch 3/5\n",
      "154/154 [==============================] - ETA: 0s - loss: 1.4810 - binary_accuracy: 0.6562 - precision: 0.5000 - recall: 0.54 - 0s 186us/sample - loss: 1.5237 - binary_accuracy: 0.6688 - precision: 0.5000 - recall: 0.3725 - val_loss: 1.2501 - val_binary_accuracy: 0.7297 - val_precision: 0.2222 - val_recall: 0.4000\n",
      "Epoch 4/5\n",
      "154/154 [==============================] - ETA: 0s - loss: 1.2829 - binary_accuracy: 0.7500 - precision: 0.5556 - recall: 0.55 - 0s 190us/sample - loss: 1.2744 - binary_accuracy: 0.7403 - precision: 0.6410 - recall: 0.4902 - val_loss: 0.9980 - val_binary_accuracy: 0.8378 - val_precision: 0.4000 - val_recall: 0.4000\n",
      "Epoch 5/5\n",
      "154/154 [==============================] - ETA: 0s - loss: 1.2782 - binary_accuracy: 0.6875 - precision: 0.6364 - recall: 0.53 - 0s 183us/sample - loss: 1.2261 - binary_accuracy: 0.6753 - precision: 0.5102 - recall: 0.4902 - val_loss: 0.9266 - val_binary_accuracy: 0.8378 - val_precision: 0.3333 - val_recall: 0.2000\n"
     ]
    },
    {
     "data": {
      "text/html": [
       "<span style=\"color:#4527A0\"><h1 style=\"font-size:18px\">Trial complete</h1></span>"
      ],
      "text/plain": [
       "<IPython.core.display.HTML object>"
      ]
     },
     "metadata": {},
     "output_type": "display_data"
    },
    {
     "data": {
      "text/html": [
       "<span style=\"color:#4527A0\"><h1 style=\"font-size:18px\">Trial summary</h1></span>"
      ],
      "text/plain": [
       "<IPython.core.display.HTML object>"
      ]
     },
     "metadata": {},
     "output_type": "display_data"
    },
    {
     "data": {
      "text/html": [
       "<span style=\"color:cyan\"> |-Trial ID: abcfed6ef12b617a320dd11767d58fdd</span>"
      ],
      "text/plain": [
       "<IPython.core.display.HTML object>"
      ]
     },
     "metadata": {},
     "output_type": "display_data"
    },
    {
     "data": {
      "text/html": [
       "<span style=\"color:cyan\"> |-Score: 0.8558558821678162</span>"
      ],
      "text/plain": [
       "<IPython.core.display.HTML object>"
      ]
     },
     "metadata": {},
     "output_type": "display_data"
    },
    {
     "data": {
      "text/html": [
       "<span style=\"color:cyan\"> |-Best step: 0</span>"
      ],
      "text/plain": [
       "<IPython.core.display.HTML object>"
      ]
     },
     "metadata": {},
     "output_type": "display_data"
    },
    {
     "data": {
      "text/html": [
       "<span style=\"color:#7E57C2\"><h2 style=\"font-size:16px\">Hyperparameters:</h2></span>"
      ],
      "text/plain": [
       "<IPython.core.display.HTML object>"
      ]
     },
     "metadata": {},
     "output_type": "display_data"
    },
    {
     "data": {
      "text/html": [
       "<span style=\"color:cyan\"> |-dropout1: 0.5</span>"
      ],
      "text/plain": [
       "<IPython.core.display.HTML object>"
      ]
     },
     "metadata": {},
     "output_type": "display_data"
    },
    {
     "data": {
      "text/html": [
       "<span style=\"color:blue\"> |-dropout2: 0.1</span>"
      ],
      "text/plain": [
       "<IPython.core.display.HTML object>"
      ]
     },
     "metadata": {},
     "output_type": "display_data"
    },
    {
     "data": {
      "text/html": [
       "<span style=\"color:cyan\"> |-l2_dns0: 0.008</span>"
      ],
      "text/plain": [
       "<IPython.core.display.HTML object>"
      ]
     },
     "metadata": {},
     "output_type": "display_data"
    },
    {
     "data": {
      "text/html": [
       "<span style=\"color:blue\"> |-l2_dns1: 0.003</span>"
      ],
      "text/plain": [
       "<IPython.core.display.HTML object>"
      ]
     },
     "metadata": {},
     "output_type": "display_data"
    },
    {
     "data": {
      "text/html": [
       "<span style=\"color:cyan\"> |-l2_dns2: 0.016</span>"
      ],
      "text/plain": [
       "<IPython.core.display.HTML object>"
      ]
     },
     "metadata": {},
     "output_type": "display_data"
    },
    {
     "name": "stdout",
     "output_type": "stream",
     "text": [
      "Train on 154 samples, validate on 37 samples\n",
      "Epoch 1/5\n",
      "154/154 [==============================] - ETA: 0s - loss: 3.5569 - binary_accuracy: 0.3438 - precision: 0.2400 - recall: 0.75 - 0s 3ms/sample - loss: 3.4564 - binary_accuracy: 0.5974 - precision: 0.3721 - recall: 0.3137 - val_loss: 1.8788 - val_binary_accuracy: 0.7297 - val_precision: 0.2222 - val_recall: 0.4000\n",
      "Epoch 2/5\n",
      "154/154 [==============================] - ETA: 0s - loss: 1.5832 - binary_accuracy: 0.8125 - precision: 0.6875 - recall: 0.91 - 0s 230us/sample - loss: 1.8839 - binary_accuracy: 0.6494 - precision: 0.4717 - recall: 0.4902 - val_loss: 1.3992 - val_binary_accuracy: 0.8378 - val_precision: 0.0000e+00 - val_recall: 0.0000e+00\n",
      "Epoch 3/5\n",
      "154/154 [==============================] - ETA: 0s - loss: 1.4237 - binary_accuracy: 0.8125 - precision: 0.9000 - recall: 0.64 - 0s 228us/sample - loss: 1.4154 - binary_accuracy: 0.7597 - precision: 0.6346 - recall: 0.6471 - val_loss: 1.4631 - val_binary_accuracy: 0.8649 - val_precision: 0.0000e+00 - val_recall: 0.0000e+00\n",
      "Epoch 4/5\n",
      "154/154 [==============================] - ETA: 0s - loss: 1.7509 - binary_accuracy: 0.5938 - precision: 1.0000 - recall: 0.07 - 0s 182us/sample - loss: 1.2672 - binary_accuracy: 0.7857 - precision: 0.7500 - recall: 0.5294 - val_loss: 1.0758 - val_binary_accuracy: 0.8108 - val_precision: 0.3333 - val_recall: 0.4000\n",
      "Epoch 5/5\n",
      "154/154 [==============================] - ETA: 0s - loss: 0.8747 - binary_accuracy: 0.9375 - precision: 0.9286 - recall: 0.92 - 0s 171us/sample - loss: 1.1730 - binary_accuracy: 0.8117 - precision: 0.7115 - recall: 0.7255 - val_loss: 1.1395 - val_binary_accuracy: 0.8649 - val_precision: 0.5000 - val_recall: 0.2000\n",
      "Train on 154 samples, validate on 37 samples\n",
      "Epoch 1/5\n",
      "154/154 [==============================] - ETA: 0s - loss: 4.7336 - binary_accuracy: 0.3125 - precision: 0.3125 - recall: 1.00 - 0s 2ms/sample - loss: 2.8332 - binary_accuracy: 0.5584 - precision: 0.3455 - recall: 0.3725 - val_loss: 1.5635 - val_binary_accuracy: 0.7568 - val_precision: 0.3333 - val_recall: 0.8000\n",
      "Epoch 2/5\n",
      "154/154 [==============================] - ETA: 0s - loss: 1.6781 - binary_accuracy: 0.6562 - precision: 0.5000 - recall: 0.63 - 0s 182us/sample - loss: 1.7247 - binary_accuracy: 0.6753 - precision: 0.5111 - recall: 0.4510 - val_loss: 1.4788 - val_binary_accuracy: 0.7027 - val_precision: 0.2000 - val_recall: 0.4000\n",
      "Epoch 3/5\n",
      "154/154 [==============================] - ETA: 0s - loss: 1.2806 - binary_accuracy: 0.8750 - precision: 0.7143 - recall: 1.00 - 0s 180us/sample - loss: 1.3567 - binary_accuracy: 0.7792 - precision: 0.6809 - recall: 0.6275 - val_loss: 1.0776 - val_binary_accuracy: 0.8108 - val_precision: 0.2500 - val_recall: 0.2000\n",
      "Epoch 4/5\n",
      "154/154 [==============================] - ETA: 0s - loss: 1.0084 - binary_accuracy: 0.9375 - precision: 0.7778 - recall: 1.00 - 0s 175us/sample - loss: 1.1856 - binary_accuracy: 0.8312 - precision: 0.7551 - recall: 0.7255 - val_loss: 1.1037 - val_binary_accuracy: 0.7568 - val_precision: 0.2500 - val_recall: 0.4000\n",
      "Epoch 5/5\n",
      "154/154 [==============================] - ETA: 0s - loss: 0.9726 - binary_accuracy: 0.8750 - precision: 0.7273 - recall: 0.88 - 0s 177us/sample - loss: 1.0259 - binary_accuracy: 0.7987 - precision: 0.7174 - recall: 0.6471 - val_loss: 1.0810 - val_binary_accuracy: 0.8108 - val_precision: 0.3750 - val_recall: 0.6000\n",
      "Train on 154 samples, validate on 37 samples\n",
      "Epoch 1/5\n",
      "154/154 [==============================] - ETA: 0s - loss: 3.1803 - binary_accuracy: 0.3750 - precision: 0.3571 - recall: 0.83 - 0s 2ms/sample - loss: 2.7551 - binary_accuracy: 0.6039 - precision: 0.4038 - recall: 0.4118 - val_loss: 1.5661 - val_binary_accuracy: 0.8649 - val_precision: 0.0000e+00 - val_recall: 0.0000e+00\n",
      "Epoch 2/5\n",
      "154/154 [==============================] - ETA: 0s - loss: 2.0809 - binary_accuracy: 0.7188 - precision: 0.0000e+00 - recall: 0.0000e+ - 0s 181us/sample - loss: 1.8378 - binary_accuracy: 0.6494 - precision: 0.4595 - recall: 0.3333 - val_loss: 1.2022 - val_binary_accuracy: 0.8378 - val_precision: 0.3333 - val_recall: 0.2000\n",
      "Epoch 3/5\n",
      "154/154 [==============================] - ETA: 0s - loss: 1.4725 - binary_accuracy: 0.7812 - precision: 0.8333 - recall: 0.45 - 0s 179us/sample - loss: 1.3797 - binary_accuracy: 0.7468 - precision: 0.6364 - recall: 0.5490 - val_loss: 1.0259 - val_binary_accuracy: 0.8649 - val_precision: 0.5000 - val_recall: 0.6000\n",
      "Epoch 4/5\n",
      "154/154 [==============================] - ETA: 0s - loss: 1.1089 - binary_accuracy: 0.9062 - precision: 0.9091 - recall: 0.83 - 0s 177us/sample - loss: 1.1025 - binary_accuracy: 0.7792 - precision: 0.7179 - recall: 0.5490 - val_loss: 1.0891 - val_binary_accuracy: 0.8378 - val_precision: 0.4545 - val_recall: 1.0000\n",
      "Epoch 5/5\n",
      "154/154 [==============================] - ETA: 0s - loss: 0.9694 - binary_accuracy: 0.8125 - precision: 0.7143 - recall: 0.83 - 0s 189us/sample - loss: 1.0436 - binary_accuracy: 0.8506 - precision: 0.7917 - recall: 0.7451 - val_loss: 1.1096 - val_binary_accuracy: 0.8108 - val_precision: 0.4167 - val_recall: 1.0000\n"
     ]
    },
    {
     "data": {
      "text/html": [
       "<span style=\"color:#4527A0\"><h1 style=\"font-size:18px\">Trial complete</h1></span>"
      ],
      "text/plain": [
       "<IPython.core.display.HTML object>"
      ]
     },
     "metadata": {},
     "output_type": "display_data"
    },
    {
     "data": {
      "text/html": [
       "<span style=\"color:#4527A0\"><h1 style=\"font-size:18px\">Trial summary</h1></span>"
      ],
      "text/plain": [
       "<IPython.core.display.HTML object>"
      ]
     },
     "metadata": {},
     "output_type": "display_data"
    },
    {
     "data": {
      "text/html": [
       "<span style=\"color:cyan\"> |-Trial ID: 9dfee1bb789cd5723267ed7470841053</span>"
      ],
      "text/plain": [
       "<IPython.core.display.HTML object>"
      ]
     },
     "metadata": {},
     "output_type": "display_data"
    },
    {
     "data": {
      "text/html": [
       "<span style=\"color:cyan\"> |-Score: 0.8468468189239502</span>"
      ],
      "text/plain": [
       "<IPython.core.display.HTML object>"
      ]
     },
     "metadata": {},
     "output_type": "display_data"
    },
    {
     "data": {
      "text/html": [
       "<span style=\"color:cyan\"> |-Best step: 0</span>"
      ],
      "text/plain": [
       "<IPython.core.display.HTML object>"
      ]
     },
     "metadata": {},
     "output_type": "display_data"
    },
    {
     "data": {
      "text/html": [
       "<span style=\"color:#7E57C2\"><h2 style=\"font-size:16px\">Hyperparameters:</h2></span>"
      ],
      "text/plain": [
       "<IPython.core.display.HTML object>"
      ]
     },
     "metadata": {},
     "output_type": "display_data"
    },
    {
     "data": {
      "text/html": [
       "<span style=\"color:cyan\"> |-dropout1: 0.1</span>"
      ],
      "text/plain": [
       "<IPython.core.display.HTML object>"
      ]
     },
     "metadata": {},
     "output_type": "display_data"
    },
    {
     "data": {
      "text/html": [
       "<span style=\"color:blue\"> |-dropout2: 0.2</span>"
      ],
      "text/plain": [
       "<IPython.core.display.HTML object>"
      ]
     },
     "metadata": {},
     "output_type": "display_data"
    },
    {
     "data": {
      "text/html": [
       "<span style=\"color:cyan\"> |-l2_dns0: 0.011</span>"
      ],
      "text/plain": [
       "<IPython.core.display.HTML object>"
      ]
     },
     "metadata": {},
     "output_type": "display_data"
    },
    {
     "data": {
      "text/html": [
       "<span style=\"color:blue\"> |-l2_dns1: 0.006</span>"
      ],
      "text/plain": [
       "<IPython.core.display.HTML object>"
      ]
     },
     "metadata": {},
     "output_type": "display_data"
    },
    {
     "data": {
      "text/html": [
       "<span style=\"color:cyan\"> |-l2_dns2: 0.013000000000000001</span>"
      ],
      "text/plain": [
       "<IPython.core.display.HTML object>"
      ]
     },
     "metadata": {},
     "output_type": "display_data"
    },
    {
     "name": "stdout",
     "output_type": "stream",
     "text": [
      "Train on 154 samples, validate on 37 samples\n",
      "Epoch 1/5\n",
      "154/154 [==============================] - ETA: 0s - loss: 4.1937 - binary_accuracy: 0.4062 - precision: 0.2917 - recall: 0.77 - 0s 3ms/sample - loss: 3.2777 - binary_accuracy: 0.5714 - precision: 0.3770 - recall: 0.4510 - val_loss: 1.8046 - val_binary_accuracy: 0.7568 - val_precision: 0.3333 - val_recall: 0.8000\n",
      "Epoch 2/5\n",
      "154/154 [==============================] - ETA: 0s - loss: 2.3555 - binary_accuracy: 0.6250 - precision: 0.4286 - recall: 0.60 - 0s 192us/sample - loss: 2.3465 - binary_accuracy: 0.5909 - precision: 0.3636 - recall: 0.3137 - val_loss: 2.4105 - val_binary_accuracy: 0.3784 - val_precision: 0.1786 - val_recall: 1.0000\n",
      "Epoch 3/5\n",
      "154/154 [==============================] - ETA: 0s - loss: 2.2249 - binary_accuracy: 0.5625 - precision: 0.4762 - recall: 0.76 - 0s 220us/sample - loss: 1.8459 - binary_accuracy: 0.6429 - precision: 0.4655 - recall: 0.5294 - val_loss: 1.2426 - val_binary_accuracy: 0.8378 - val_precision: 0.3333 - val_recall: 0.2000\n",
      "Epoch 4/5\n",
      "154/154 [==============================] - ETA: 0s - loss: 1.4256 - binary_accuracy: 0.7188 - precision: 0.5000 - recall: 0.22 - 0s 179us/sample - loss: 1.3772 - binary_accuracy: 0.7338 - precision: 0.6389 - recall: 0.4510 - val_loss: 1.2132 - val_binary_accuracy: 0.7838 - val_precision: 0.2000 - val_recall: 0.2000\n",
      "Epoch 5/5\n",
      "154/154 [==============================] - ETA: 0s - loss: 1.3775 - binary_accuracy: 0.7188 - precision: 0.5714 - recall: 0.40 - 0s 182us/sample - loss: 1.2975 - binary_accuracy: 0.7208 - precision: 0.5870 - recall: 0.5294 - val_loss: 0.9107 - val_binary_accuracy: 0.8378 - val_precision: 0.4000 - val_recall: 0.4000\n",
      "Train on 154 samples, validate on 37 samples\n",
      "Epoch 1/5\n",
      "154/154 [==============================] - ETA: 0s - loss: 5.6578 - binary_accuracy: 0.4688 - precision: 0.4000 - recall: 0.26 - 0s 3ms/sample - loss: 3.3798 - binary_accuracy: 0.5390 - precision: 0.3077 - recall: 0.3137 - val_loss: 1.6168 - val_binary_accuracy: 0.8919 - val_precision: 1.0000 - val_recall: 0.2000\n",
      "Epoch 2/5\n",
      "154/154 [==============================] - ETA: 0s - loss: 2.4194 - binary_accuracy: 0.4688 - precision: 0.2727 - recall: 0.25 - 0s 227us/sample - loss: 2.0522 - binary_accuracy: 0.6364 - precision: 0.4286 - recall: 0.2941 - val_loss: 1.3561 - val_binary_accuracy: 0.9189 - val_precision: 1.0000 - val_recall: 0.4000\n",
      "Epoch 3/5\n",
      "154/154 [==============================] - ETA: 0s - loss: 1.5634 - binary_accuracy: 0.5625 - precision: 0.3333 - recall: 0.40 - 0s 186us/sample - loss: 1.5945 - binary_accuracy: 0.6558 - precision: 0.4792 - recall: 0.4510 - val_loss: 1.1673 - val_binary_accuracy: 0.8378 - val_precision: 0.0000e+00 - val_recall: 0.0000e+00\n",
      "Epoch 4/5\n",
      "154/154 [==============================] - ETA: 0s - loss: 1.4031 - binary_accuracy: 0.7188 - precision: 0.6667 - recall: 0.36 - 0s 177us/sample - loss: 1.4698 - binary_accuracy: 0.6818 - precision: 0.5227 - recall: 0.4510 - val_loss: 1.1064 - val_binary_accuracy: 0.8378 - val_precision: 0.0000e+00 - val_recall: 0.0000e+00\n",
      "Epoch 5/5\n",
      "154/154 [==============================] - ETA: 0s - loss: 1.3213 - binary_accuracy: 0.8125 - precision: 0.7500 - recall: 0.37 - 0s 175us/sample - loss: 1.1769 - binary_accuracy: 0.7532 - precision: 0.6512 - recall: 0.5490 - val_loss: 0.9369 - val_binary_accuracy: 0.8378 - val_precision: 0.0000e+00 - val_recall: 0.0000e+00\n",
      "Train on 154 samples, validate on 37 samples\n",
      "Epoch 1/5\n",
      "154/154 [==============================] - ETA: 0s - loss: 3.1821 - binary_accuracy: 0.4688 - precision: 0.4167 - recall: 0.76 - 0s 2ms/sample - loss: 3.5381 - binary_accuracy: 0.5260 - precision: 0.3167 - recall: 0.3725 - val_loss: 1.8636 - val_binary_accuracy: 0.8649 - val_precision: 0.0000e+00 - val_recall: 0.0000e+00\n",
      "Epoch 2/5\n",
      "154/154 [==============================] - ETA: 0s - loss: 2.8705 - binary_accuracy: 0.6875 - precision: 1.0000 - recall: 0.09 - 0s 186us/sample - loss: 2.3181 - binary_accuracy: 0.7468 - precision: 0.6500 - recall: 0.5098 - val_loss: 1.7118 - val_binary_accuracy: 0.8108 - val_precision: 0.2500 - val_recall: 0.2000\n",
      "Epoch 3/5\n",
      "154/154 [==============================] - ETA: 0s - loss: 1.6096 - binary_accuracy: 0.6875 - precision: 0.5000 - recall: 0.30 - 0s 182us/sample - loss: 1.8464 - binary_accuracy: 0.6623 - precision: 0.4898 - recall: 0.4706 - val_loss: 1.6403 - val_binary_accuracy: 0.6757 - val_precision: 0.1818 - val_recall: 0.4000\n",
      "Epoch 4/5\n",
      "154/154 [==============================] - ETA: 0s - loss: 1.5908 - binary_accuracy: 0.7812 - precision: 0.7857 - recall: 0.73 - 0s 172us/sample - loss: 1.4376 - binary_accuracy: 0.7208 - precision: 0.6000 - recall: 0.4706 - val_loss: 1.1479 - val_binary_accuracy: 0.8919 - val_precision: 1.0000 - val_recall: 0.2000\n",
      "Epoch 5/5\n",
      "154/154 [==============================] - ETA: 0s - loss: 1.5964 - binary_accuracy: 0.7188 - precision: 0.8333 - recall: 0.38 - 0s 176us/sample - loss: 1.4606 - binary_accuracy: 0.7338 - precision: 0.6316 - recall: 0.4706 - val_loss: 1.1030 - val_binary_accuracy: 0.7838 - val_precision: 0.0000e+00 - val_recall: 0.0000e+00\n"
     ]
    },
    {
     "data": {
      "text/html": [
       "<span style=\"color:#4527A0\"><h1 style=\"font-size:18px\">Trial complete</h1></span>"
      ],
      "text/plain": [
       "<IPython.core.display.HTML object>"
      ]
     },
     "metadata": {},
     "output_type": "display_data"
    },
    {
     "data": {
      "text/html": [
       "<span style=\"color:#4527A0\"><h1 style=\"font-size:18px\">Trial summary</h1></span>"
      ],
      "text/plain": [
       "<IPython.core.display.HTML object>"
      ]
     },
     "metadata": {},
     "output_type": "display_data"
    },
    {
     "data": {
      "text/html": [
       "<span style=\"color:cyan\"> |-Trial ID: a2525662ebac1382d51ef8aaa1188699</span>"
      ],
      "text/plain": [
       "<IPython.core.display.HTML object>"
      ]
     },
     "metadata": {},
     "output_type": "display_data"
    },
    {
     "data": {
      "text/html": [
       "<span style=\"color:cyan\"> |-Score: 0.8828828930854797</span>"
      ],
      "text/plain": [
       "<IPython.core.display.HTML object>"
      ]
     },
     "metadata": {},
     "output_type": "display_data"
    },
    {
     "data": {
      "text/html": [
       "<span style=\"color:cyan\"> |-Best step: 0</span>"
      ],
      "text/plain": [
       "<IPython.core.display.HTML object>"
      ]
     },
     "metadata": {},
     "output_type": "display_data"
    },
    {
     "data": {
      "text/html": [
       "<span style=\"color:#7E57C2\"><h2 style=\"font-size:16px\">Hyperparameters:</h2></span>"
      ],
      "text/plain": [
       "<IPython.core.display.HTML object>"
      ]
     },
     "metadata": {},
     "output_type": "display_data"
    },
    {
     "data": {
      "text/html": [
       "<span style=\"color:cyan\"> |-dropout1: 0.2</span>"
      ],
      "text/plain": [
       "<IPython.core.display.HTML object>"
      ]
     },
     "metadata": {},
     "output_type": "display_data"
    },
    {
     "data": {
      "text/html": [
       "<span style=\"color:blue\"> |-dropout2: 0.5</span>"
      ],
      "text/plain": [
       "<IPython.core.display.HTML object>"
      ]
     },
     "metadata": {},
     "output_type": "display_data"
    },
    {
     "data": {
      "text/html": [
       "<span style=\"color:cyan\"> |-l2_dns0: 0.019</span>"
      ],
      "text/plain": [
       "<IPython.core.display.HTML object>"
      ]
     },
     "metadata": {},
     "output_type": "display_data"
    },
    {
     "data": {
      "text/html": [
       "<span style=\"color:blue\"> |-l2_dns1: 0.001</span>"
      ],
      "text/plain": [
       "<IPython.core.display.HTML object>"
      ]
     },
     "metadata": {},
     "output_type": "display_data"
    },
    {
     "data": {
      "text/html": [
       "<span style=\"color:cyan\"> |-l2_dns2: 0.015</span>"
      ],
      "text/plain": [
       "<IPython.core.display.HTML object>"
      ]
     },
     "metadata": {},
     "output_type": "display_data"
    },
    {
     "name": "stdout",
     "output_type": "stream",
     "text": [
      "Train on 154 samples, validate on 37 samples\n",
      "Epoch 1/5\n",
      "154/154 [==============================] - ETA: 0s - loss: 1.5155 - binary_accuracy: 0.5312 - precision: 0.1667 - recall: 0.09 - 0s 3ms/sample - loss: 2.2482 - binary_accuracy: 0.5390 - precision: 0.3077 - recall: 0.3137 - val_loss: 0.9919 - val_binary_accuracy: 0.8649 - val_precision: 0.0000e+00 - val_recall: 0.0000e+00\n",
      "Epoch 2/5\n",
      "154/154 [==============================] - ETA: 0s - loss: 1.2037 - binary_accuracy: 0.7188 - precision: 0.6667 - recall: 0.36 - 0s 184us/sample - loss: 0.9704 - binary_accuracy: 0.8247 - precision: 0.7857 - recall: 0.6471 - val_loss: 0.8987 - val_binary_accuracy: 0.8378 - val_precision: 0.4286 - val_recall: 0.6000\n",
      "Epoch 3/5\n",
      "154/154 [==============================] - ETA: 0s - loss: 0.9459 - binary_accuracy: 0.7812 - precision: 0.7500 - recall: 0.69 - 0s 183us/sample - loss: 0.9000 - binary_accuracy: 0.8117 - precision: 0.7500 - recall: 0.6471 - val_loss: 0.9631 - val_binary_accuracy: 0.7568 - val_precision: 0.2500 - val_recall: 0.4000\n",
      "Epoch 4/5\n",
      "154/154 [==============================] - ETA: 0s - loss: 0.9170 - binary_accuracy: 0.7500 - precision: 0.5333 - recall: 0.88 - 0s 175us/sample - loss: 0.8413 - binary_accuracy: 0.7792 - precision: 0.6809 - recall: 0.6275 - val_loss: 0.7110 - val_binary_accuracy: 0.8649 - val_precision: 0.5000 - val_recall: 0.6000\n",
      "Epoch 5/5\n",
      "154/154 [==============================] - ETA: 0s - loss: 0.5548 - binary_accuracy: 0.9375 - precision: 0.8000 - recall: 1.00 - 0s 176us/sample - loss: 0.7048 - binary_accuracy: 0.8506 - precision: 0.8182 - recall: 0.7059 - val_loss: 0.7613 - val_binary_accuracy: 0.8649 - val_precision: 0.5000 - val_recall: 0.6000\n",
      "Train on 154 samples, validate on 37 samples\n",
      "Epoch 1/5\n",
      "154/154 [==============================] - ETA: 0s - loss: 2.0610 - binary_accuracy: 0.4688 - precision: 0.3889 - recall: 0.53 - 0s 2ms/sample - loss: 1.7240 - binary_accuracy: 0.6688 - precision: 0.5000 - recall: 0.4706 - val_loss: 0.8585 - val_binary_accuracy: 0.8649 - val_precision: 0.5000 - val_recall: 0.4000\n",
      "Epoch 2/5\n",
      "154/154 [==============================] - ETA: 0s - loss: 1.2842 - binary_accuracy: 0.6250 - precision: 0.6667 - recall: 0.28 - 0s 181us/sample - loss: 1.0968 - binary_accuracy: 0.7143 - precision: 0.5854 - recall: 0.4706 - val_loss: 0.8087 - val_binary_accuracy: 0.8378 - val_precision: 0.4286 - val_recall: 0.6000\n",
      "Epoch 3/5\n",
      "154/154 [==============================] - ETA: 0s - loss: 1.1611 - binary_accuracy: 0.6562 - precision: 0.7500 - recall: 0.40 - 0s 182us/sample - loss: 0.9405 - binary_accuracy: 0.7468 - precision: 0.6429 - recall: 0.5294 - val_loss: 0.8605 - val_binary_accuracy: 0.8108 - val_precision: 0.3333 - val_recall: 0.4000\n",
      "Epoch 4/5\n",
      "154/154 [==============================] - ETA: 0s - loss: 0.8713 - binary_accuracy: 0.8438 - precision: 0.8571 - recall: 0.60 - 0s 188us/sample - loss: 0.8896 - binary_accuracy: 0.8117 - precision: 0.7292 - recall: 0.6863 - val_loss: 0.7253 - val_binary_accuracy: 0.8378 - val_precision: 0.3333 - val_recall: 0.2000\n",
      "Epoch 5/5\n",
      "154/154 [==============================] - ETA: 0s - loss: 0.9081 - binary_accuracy: 0.7500 - precision: 0.7500 - recall: 0.30 - 0s 752us/sample - loss: 0.7260 - binary_accuracy: 0.8247 - precision: 0.7500 - recall: 0.7059 - val_loss: 0.6759 - val_binary_accuracy: 0.8919 - val_precision: 0.6000 - val_recall: 0.6000\n",
      "Train on 154 samples, validate on 37 samples\n",
      "Epoch 1/5\n",
      "154/154 [==============================] - ETA: 0s - loss: 1.6135 - binary_accuracy: 0.6562 - precision: 1.0000 - recall: 0.08 - 0s 2ms/sample - loss: 2.9647 - binary_accuracy: 0.5649 - precision: 0.3667 - recall: 0.4314 - val_loss: 1.0926 - val_binary_accuracy: 0.8919 - val_precision: 1.0000 - val_recall: 0.2000\n",
      "Epoch 2/5\n",
      "154/154 [==============================] - ETA: 0s - loss: 1.2557 - binary_accuracy: 0.7500 - precision: 1.0000 - recall: 0.27 - 0s 178us/sample - loss: 1.4048 - binary_accuracy: 0.7338 - precision: 0.6136 - recall: 0.5294 - val_loss: 1.1281 - val_binary_accuracy: 0.7027 - val_precision: 0.1250 - val_recall: 0.2000\n",
      "Epoch 3/5\n",
      "154/154 [==============================] - ETA: 0s - loss: 0.9930 - binary_accuracy: 0.7188 - precision: 0.6000 - recall: 0.54 - 0s 187us/sample - loss: 1.0555 - binary_accuracy: 0.6948 - precision: 0.5417 - recall: 0.5098 - val_loss: 0.8172 - val_binary_accuracy: 0.8919 - val_precision: 0.6667 - val_recall: 0.4000\n",
      "Epoch 4/5\n",
      "154/154 [==============================] - ETA: 0s - loss: 1.2707 - binary_accuracy: 0.6562 - precision: 0.6667 - recall: 0.16 - 0s 183us/sample - loss: 0.9506 - binary_accuracy: 0.7792 - precision: 0.7297 - recall: 0.5294 - val_loss: 0.8588 - val_binary_accuracy: 0.8108 - val_precision: 0.4000 - val_recall: 0.8000\n",
      "Epoch 5/5\n",
      "154/154 [==============================] - ETA: 0s - loss: 0.6935 - binary_accuracy: 0.9062 - precision: 0.6250 - recall: 1.00 - 0s 187us/sample - loss: 0.7607 - binary_accuracy: 0.8182 - precision: 0.7170 - recall: 0.7451 - val_loss: 0.9258 - val_binary_accuracy: 0.8108 - val_precision: 0.2500 - val_recall: 0.2000\n"
     ]
    },
    {
     "data": {
      "text/html": [
       "<span style=\"color:#4527A0\"><h1 style=\"font-size:18px\">Trial complete</h1></span>"
      ],
      "text/plain": [
       "<IPython.core.display.HTML object>"
      ]
     },
     "metadata": {},
     "output_type": "display_data"
    },
    {
     "data": {
      "text/html": [
       "<span style=\"color:#4527A0\"><h1 style=\"font-size:18px\">Trial summary</h1></span>"
      ],
      "text/plain": [
       "<IPython.core.display.HTML object>"
      ]
     },
     "metadata": {},
     "output_type": "display_data"
    },
    {
     "data": {
      "text/html": [
       "<span style=\"color:cyan\"> |-Trial ID: 6747423fa6dc8e7dc6f0aa7c73cb69cb</span>"
      ],
      "text/plain": [
       "<IPython.core.display.HTML object>"
      ]
     },
     "metadata": {},
     "output_type": "display_data"
    },
    {
     "data": {
      "text/html": [
       "<span style=\"color:cyan\"> |-Score: 0.8828828930854797</span>"
      ],
      "text/plain": [
       "<IPython.core.display.HTML object>"
      ]
     },
     "metadata": {},
     "output_type": "display_data"
    },
    {
     "data": {
      "text/html": [
       "<span style=\"color:cyan\"> |-Best step: 0</span>"
      ],
      "text/plain": [
       "<IPython.core.display.HTML object>"
      ]
     },
     "metadata": {},
     "output_type": "display_data"
    },
    {
     "data": {
      "text/html": [
       "<span style=\"color:#7E57C2\"><h2 style=\"font-size:16px\">Hyperparameters:</h2></span>"
      ],
      "text/plain": [
       "<IPython.core.display.HTML object>"
      ]
     },
     "metadata": {},
     "output_type": "display_data"
    },
    {
     "data": {
      "text/html": [
       "<span style=\"color:cyan\"> |-dropout1: 0.1</span>"
      ],
      "text/plain": [
       "<IPython.core.display.HTML object>"
      ]
     },
     "metadata": {},
     "output_type": "display_data"
    },
    {
     "data": {
      "text/html": [
       "<span style=\"color:blue\"> |-dropout2: 0.1</span>"
      ],
      "text/plain": [
       "<IPython.core.display.HTML object>"
      ]
     },
     "metadata": {},
     "output_type": "display_data"
    },
    {
     "data": {
      "text/html": [
       "<span style=\"color:cyan\"> |-l2_dns0: 0.01</span>"
      ],
      "text/plain": [
       "<IPython.core.display.HTML object>"
      ]
     },
     "metadata": {},
     "output_type": "display_data"
    },
    {
     "data": {
      "text/html": [
       "<span style=\"color:blue\"> |-l2_dns1: 0.002</span>"
      ],
      "text/plain": [
       "<IPython.core.display.HTML object>"
      ]
     },
     "metadata": {},
     "output_type": "display_data"
    },
    {
     "data": {
      "text/html": [
       "<span style=\"color:cyan\"> |-l2_dns2: 0.004</span>"
      ],
      "text/plain": [
       "<IPython.core.display.HTML object>"
      ]
     },
     "metadata": {},
     "output_type": "display_data"
    },
    {
     "name": "stdout",
     "output_type": "stream",
     "text": [
      "INFO:tensorflow:Oracle triggered exit\n"
     ]
    }
   ],
   "source": [
    "val_tuner.search(X_train.values, y_train.values,\n",
    "            epochs=5,\n",
    "            validation_data=(X_dev, y_dev))"
   ]
  },
  {
   "cell_type": "code",
   "execution_count": 79,
   "metadata": {},
   "outputs": [
    {
     "name": "stdout",
     "output_type": "stream",
     "text": [
      "Train on 154 samples\n",
      "Epoch 1/30\n",
      "154/154 [==============================] - ETA: 0s - loss: 1.5118 - binary_accuracy: 0.8438 - precision: 0.7000 - recall: 0.77 - 0s 1ms/sample - loss: 1.6843 - binary_accuracy: 0.6753 - precision: 0.5128 - recall: 0.3922\n",
      "Epoch 2/30\n",
      "154/154 [==============================] - ETA: 0s - loss: 1.4175 - binary_accuracy: 0.6875 - precision: 0.4706 - recall: 0.88 - 0s 130us/sample - loss: 1.4191 - binary_accuracy: 0.6883 - precision: 0.5333 - recall: 0.4706\n",
      "Epoch 3/30\n",
      "154/154 [==============================] - ETA: 0s - loss: 1.1291 - binary_accuracy: 0.7500 - precision: 0.7143 - recall: 0.45 - 0s 120us/sample - loss: 1.1548 - binary_accuracy: 0.7143 - precision: 0.5745 - recall: 0.5294\n",
      "Epoch 4/30\n",
      "154/154 [==============================] - ETA: 0s - loss: 0.9552 - binary_accuracy: 0.6875 - precision: 0.0000e+00 - recall: 0.0000e+ - 0s 124us/sample - loss: 1.1937 - binary_accuracy: 0.7013 - precision: 0.5758 - recall: 0.3725\n",
      "Epoch 5/30\n",
      "154/154 [==============================] - ETA: 0s - loss: 0.7743 - binary_accuracy: 0.8438 - precision: 0.9000 - recall: 0.69 - 0s 123us/sample - loss: 0.9784 - binary_accuracy: 0.7597 - precision: 0.6667 - recall: 0.5490\n",
      "Epoch 6/30\n",
      "154/154 [==============================] - ETA: 0s - loss: 1.0757 - binary_accuracy: 0.7188 - precision: 0.4615 - recall: 0.75 - 0s 128us/sample - loss: 0.8534 - binary_accuracy: 0.7597 - precision: 0.6591 - recall: 0.5686\n",
      "Epoch 7/30\n",
      "154/154 [==============================] - ETA: 0s - loss: 0.6737 - binary_accuracy: 0.8125 - precision: 0.5385 - recall: 1.00 - 0s 128us/sample - loss: 0.7314 - binary_accuracy: 0.7727 - precision: 0.6600 - recall: 0.6471\n",
      "Epoch 8/30\n",
      "154/154 [==============================] - ETA: 0s - loss: 0.6195 - binary_accuracy: 0.8125 - precision: 0.8000 - recall: 0.66 - 0s 129us/sample - loss: 0.6231 - binary_accuracy: 0.8247 - precision: 0.7400 - recall: 0.7255\n",
      "Epoch 9/30\n",
      "154/154 [==============================] - ETA: 0s - loss: 0.7339 - binary_accuracy: 0.8438 - precision: 1.0000 - recall: 0.58 - 0s 128us/sample - loss: 0.6647 - binary_accuracy: 0.8312 - precision: 0.7551 - recall: 0.7255\n",
      "Epoch 10/30\n",
      "154/154 [==============================] - ETA: 0s - loss: 0.5061 - binary_accuracy: 0.8750 - precision: 0.7143 - recall: 0.71 - 0s 125us/sample - loss: 0.5763 - binary_accuracy: 0.8442 - precision: 0.7547 - recall: 0.7843\n",
      "Epoch 11/30\n",
      "154/154 [==============================] - ETA: 0s - loss: 0.6142 - binary_accuracy: 0.7500 - precision: 0.5556 - recall: 0.55 - 0s 128us/sample - loss: 0.6596 - binary_accuracy: 0.7987 - precision: 0.6923 - recall: 0.7059\n",
      "Epoch 12/30\n",
      "154/154 [==============================] - ETA: 0s - loss: 0.5973 - binary_accuracy: 0.8750 - precision: 0.7273 - recall: 0.88 - 0s 129us/sample - loss: 0.5597 - binary_accuracy: 0.8377 - precision: 0.7826 - recall: 0.7059\n",
      "Epoch 13/30\n",
      "154/154 [==============================] - ETA: 0s - loss: 0.4606 - binary_accuracy: 0.8438 - precision: 0.6667 - recall: 0.88 - 0s 131us/sample - loss: 0.5111 - binary_accuracy: 0.8117 - precision: 0.7115 - recall: 0.7255\n",
      "Epoch 14/30\n",
      "154/154 [==============================] - ETA: 0s - loss: 0.5169 - binary_accuracy: 0.8438 - precision: 0.6250 - recall: 0.71 - 0s 131us/sample - loss: 0.4994 - binary_accuracy: 0.8636 - precision: 0.7885 - recall: 0.8039\n",
      "Epoch 15/30\n",
      "154/154 [==============================] - ETA: 0s - loss: 0.4801 - binary_accuracy: 0.8438 - precision: 0.6000 - recall: 0.50 - 0s 133us/sample - loss: 0.4879 - binary_accuracy: 0.8506 - precision: 0.7917 - recall: 0.7451\n",
      "Epoch 16/30\n",
      "154/154 [==============================] - ETA: 0s - loss: 0.5259 - binary_accuracy: 0.9062 - precision: 1.0000 - recall: 0.84 - 0s 132us/sample - loss: 0.5712 - binary_accuracy: 0.8442 - precision: 0.7455 - recall: 0.8039\n",
      "Epoch 17/30\n",
      "154/154 [==============================] - ETA: 0s - loss: 0.4840 - binary_accuracy: 0.9062 - precision: 0.8750 - recall: 0.77 - 0s 129us/sample - loss: 0.4778 - binary_accuracy: 0.8766 - precision: 0.8200 - recall: 0.8039\n",
      "Epoch 18/30\n",
      "154/154 [==============================] - ETA: 0s - loss: 0.6965 - binary_accuracy: 0.7500 - precision: 0.5000 - recall: 0.50 - 0s 121us/sample - loss: 0.5149 - binary_accuracy: 0.8377 - precision: 0.7708 - recall: 0.7255\n",
      "Epoch 19/30\n",
      "154/154 [==============================] - ETA: 0s - loss: 0.4554 - binary_accuracy: 0.9375 - precision: 0.8667 - recall: 1.00 - 0s 124us/sample - loss: 0.4856 - binary_accuracy: 0.8571 - precision: 0.7959 - recall: 0.7647\n",
      "Epoch 20/30\n",
      "154/154 [==============================] - ETA: 0s - loss: 0.5105 - binary_accuracy: 0.8438 - precision: 0.7000 - recall: 0.77 - 0s 126us/sample - loss: 0.4553 - binary_accuracy: 0.8571 - precision: 0.7544 - recall: 0.8431\n",
      "Epoch 21/30\n",
      "154/154 [==============================] - ETA: 0s - loss: 0.3263 - binary_accuracy: 1.0000 - precision: 1.0000 - recall: 1.00 - 0s 126us/sample - loss: 0.4639 - binary_accuracy: 0.8896 - precision: 0.8542 - recall: 0.8039\n",
      "Epoch 22/30\n",
      "154/154 [==============================] - ETA: 0s - loss: 0.3582 - binary_accuracy: 0.9375 - precision: 1.0000 - recall: 0.85 - 0s 129us/sample - loss: 0.4050 - binary_accuracy: 0.9091 - precision: 0.8627 - recall: 0.8627\n",
      "Epoch 23/30\n",
      "154/154 [==============================] - ETA: 0s - loss: 0.3824 - binary_accuracy: 0.8438 - precision: 0.7143 - recall: 0.62 - 0s 129us/sample - loss: 0.5091 - binary_accuracy: 0.8506 - precision: 0.7800 - recall: 0.7647\n",
      "Epoch 24/30\n",
      "154/154 [==============================] - ETA: 0s - loss: 0.3518 - binary_accuracy: 0.9375 - precision: 1.0000 - recall: 0.85 - 0s 123us/sample - loss: 0.4418 - binary_accuracy: 0.8766 - precision: 0.7963 - recall: 0.8431\n",
      "Epoch 25/30\n",
      "154/154 [==============================] - ETA: 0s - loss: 0.4278 - binary_accuracy: 0.8438 - precision: 0.8889 - recall: 0.66 - 0s 128us/sample - loss: 0.4788 - binary_accuracy: 0.8506 - precision: 0.7593 - recall: 0.8039\n",
      "Epoch 26/30\n",
      "154/154 [==============================] - ETA: 0s - loss: 0.4590 - binary_accuracy: 0.8438 - precision: 0.8000 - recall: 0.85 - 0s 131us/sample - loss: 0.4331 - binary_accuracy: 0.8636 - precision: 0.8125 - recall: 0.7647\n",
      "Epoch 27/30\n",
      "154/154 [==============================] - ETA: 0s - loss: 0.3299 - binary_accuracy: 0.9375 - precision: 0.9375 - recall: 0.93 - 0s 135us/sample - loss: 0.3884 - binary_accuracy: 0.9156 - precision: 0.8393 - recall: 0.9216\n",
      "Epoch 28/30\n",
      "154/154 [==============================] - ETA: 0s - loss: 0.3215 - binary_accuracy: 0.9062 - precision: 0.7143 - recall: 0.83 - 0s 131us/sample - loss: 0.5108 - binary_accuracy: 0.8506 - precision: 0.7500 - recall: 0.8235\n",
      "Epoch 29/30\n",
      "154/154 [==============================] - ETA: 0s - loss: 0.4559 - binary_accuracy: 0.8750 - precision: 0.9091 - recall: 0.76 - 0s 130us/sample - loss: 0.3452 - binary_accuracy: 0.9221 - precision: 0.8824 - recall: 0.8824\n",
      "Epoch 30/30\n",
      "154/154 [==============================] - ETA: 0s - loss: 0.3826 - binary_accuracy: 0.8750 - precision: 0.8571 - recall: 0.66 - 0s 128us/sample - loss: 0.4117 - binary_accuracy: 0.8377 - precision: 0.7500 - recall: 0.7647\n"
     ]
    },
    {
     "data": {
      "text/plain": [
       "<tensorflow.python.keras.callbacks.History at 0x7f54541318d0>"
      ]
     },
     "execution_count": 79,
     "metadata": {},
     "output_type": "execute_result"
    }
   ],
   "source": [
    "best_val_model = val_tuner.get_best_models(num_models=1)[0]\n",
    "best_val_model.fit(x=X_train.values, y=y_train.values, epochs=30)"
   ]
  },
  {
   "cell_type": "code",
   "execution_count": 80,
   "metadata": {},
   "outputs": [
    {
     "name": "stdout",
     "output_type": "stream",
     "text": [
      "154/154 [==============================] - ETA: 0s - loss: 0.3115 - binary_accuracy: 0.9375 - precision: 0.9333 - recall: 0.93 - 0s 604us/sample - loss: 0.3003 - binary_accuracy: 0.9286 - precision: 0.8448 - recall: 0.9608\n",
      "37/37 [==============================] - ETA: 0s - loss: 0.6498 - binary_accuracy: 0.7500 - precision: 0.2000 - recall: 0.20 - 0s 185us/sample - loss: 0.5839 - binary_accuracy: 0.7838 - precision: 0.2000 - recall: 0.2000\n"
     ]
    }
   ],
   "source": [
    "train_results = best_val_model.evaluate(X_train.values, y_train.values)\n",
    "val_results = best_val_model.evaluate(X_dev.values, y_dev.values)"
   ]
  },
  {
   "cell_type": "code",
   "execution_count": null,
   "metadata": {},
   "outputs": [],
   "source": []
  },
  {
   "cell_type": "code",
   "execution_count": 81,
   "metadata": {},
   "outputs": [
    {
     "name": "stdout",
     "output_type": "stream",
     "text": [
      "train set\n",
      "loss: 0.3003114941832307\n",
      "binary_accuracy: 0.9285714\n",
      "precision: 0.8448276\n",
      "recall: 0.9607843\n",
      "dev set\n",
      "loss: 0.5838584924066389\n",
      "binary_accuracy: 0.7837838\n",
      "precision: 0.2\n",
      "recall: 0.2\n"
     ]
    }
   ],
   "source": [
    "print (\"train set\")\n",
    "for i in range(len(train_results)):\n",
    "    print (best_val_model.metrics_names[i] + ': ' + str(train_results[i]))\n",
    "print (\"dev set\")\n",
    "for i in range(len(val_results)):\n",
    "    print (best_val_model.metrics_names[i] + ': ' + str(val_results[i]))"
   ]
  },
  {
   "cell_type": "code",
   "execution_count": 27,
   "metadata": {},
   "outputs": [
    {
     "name": "stdout",
     "output_type": "stream",
     "text": [
      "[0.27449910826497265, 0.95454544, 0.87931037, 1.0]\n"
     ]
    }
   ],
   "source": [
    "print (train_results)"
   ]
  },
  {
   "cell_type": "code",
   "execution_count": 82,
   "metadata": {},
   "outputs": [
    {
     "name": "stdout",
     "output_type": "stream",
     "text": [
      "    ground_truth  after pred\n",
      "0              0       False\n",
      "1              0       False\n",
      "2              0        True\n",
      "3              1        True\n",
      "4              1       False\n",
      "5              1       False\n",
      "6              1       False\n",
      "7              0       False\n",
      "8              0       False\n",
      "9              0       False\n",
      "10             0       False\n",
      "11             0       False\n",
      "12             0        True\n",
      "13             1       False\n",
      "14             0       False\n",
      "15             0       False\n",
      "16             0       False\n",
      "17             0       False\n",
      "18             0       False\n",
      "19             0        True\n",
      "20             0        True\n",
      "21             0       False\n",
      "22             0       False\n",
      "23             0       False\n",
      "24             0       False\n",
      "25             0       False\n",
      "26             0       False\n",
      "27             0       False\n",
      "28             0       False\n",
      "29             0       False\n",
      "30             0       False\n",
      "31             0       False\n",
      "32             0       False\n",
      "33             0       False\n",
      "34             0       False\n",
      "35             0       False\n",
      "36             0       False\n"
     ]
    }
   ],
   "source": [
    "#before_pred = best_model.predict(X_dev.values)[:,0]>0.5\n",
    "after_pred = best_val_model.predict(X_dev.values)[:,0]>0.5\n",
    "print (pd.DataFrame({'ground_truth': y_dev,\n",
    "                     'after pred' : after_pred}))"
   ]
  },
  {
   "cell_type": "code",
   "execution_count": 98,
   "metadata": {},
   "outputs": [
    {
     "name": "stdout",
     "output_type": "stream",
     "text": [
      "36/36 [==============================] - ETA: 0s - loss: 1.0080 - binary_accuracy: 0.5625 - precision: 0.0000e+00 - recall: 0.0000e+ - 0s 192us/sample - loss: 0.9239 - binary_accuracy: 0.6111 - precision: 0.0000e+00 - recall: 0.0000e+00\n"
     ]
    }
   ],
   "source": [
    "val_results_test = best_val_model.evaluate(X_test.values, y_test.values)"
   ]
  },
  {
   "cell_type": "code",
   "execution_count": 104,
   "metadata": {},
   "outputs": [
    {
     "name": "stdout",
     "output_type": "stream",
     "text": [
      "test set\n",
      "loss: 0.9238731927341886\n",
      "binary_accuracy: 0.6111111\n",
      "precision: 0.0\n",
      "recall: 0.0\n"
     ]
    }
   ],
   "source": [
    "print (\"test set\")\n",
    "for i in range(len(val_results_test)):\n",
    "    print (best_val_model.metrics_names[i] + ': ' + str(val_results_test[i]))"
   ]
  },
  {
   "cell_type": "code",
   "execution_count": null,
   "metadata": {},
   "outputs": [],
   "source": []
  }
 ],
 "metadata": {
  "kernelspec": {
   "display_name": "Python 3",
   "language": "python",
   "name": "python3"
  },
  "language_info": {
   "codemirror_mode": {
    "name": "ipython",
    "version": 3
   },
   "file_extension": ".py",
   "mimetype": "text/x-python",
   "name": "python",
   "nbconvert_exporter": "python",
   "pygments_lexer": "ipython3",
   "version": "3.6.10"
  }
 },
 "nbformat": 4,
 "nbformat_minor": 4
}
