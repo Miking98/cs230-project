{
 "cells": [
  {
   "cell_type": "code",
   "execution_count": 1,
   "metadata": {},
   "outputs": [
    {
     "name": "stdout",
     "output_type": "stream",
     "text": [
      "WARNING:tensorflow:From /home/ubuntu/anaconda3/envs/tensorflow_p36/lib/python3.6/site-packages/tensorflow_core/__init__.py:1473: The name tf.estimator.inputs is deprecated. Please use tf.compat.v1.estimator.inputs instead.\n",
      "\n"
     ]
    }
   ],
   "source": [
    "import pandas as pd\n",
    "from tensorflow import keras\n",
    "from tensorflow.keras import layers\n",
    "from kerastuner.tuners import RandomSearch, BayesianOptimization"
   ]
  },
  {
   "cell_type": "code",
   "execution_count": 2,
   "metadata": {},
   "outputs": [
    {
     "name": "stdout",
     "output_type": "stream",
     "text": [
      "     Depressed at Time  df_metab_0  df_metab_1  df_metab_2  df_metab_3  \\\n",
      "0                 True   45.789637   14.994401    2.792549   -7.301174   \n",
      "1                False   21.305736  -12.739211    2.414824  -22.494078   \n",
      "2                False  -11.160583    0.500590    1.948961  -18.053438   \n",
      "3                False   -3.505071    3.023377  -14.520562    9.177950   \n",
      "4                False    2.370956   14.234072    6.691360    4.755687   \n",
      "..                 ...         ...         ...         ...         ...   \n",
      "123              False    0.125152   -2.485553   -3.342023  -20.668625   \n",
      "124              False  -16.114327  -22.152604  -23.709256  -18.545960   \n",
      "125              False   36.381486    6.960738   11.266882    9.134153   \n",
      "126              False   -2.210158   12.276662  -22.779149   -9.248137   \n",
      "127              False   -1.710068   17.256411   11.794209    3.967151   \n",
      "\n",
      "     df_metab_4  df_metab_5  df_metab_6  df_metab_7  df_metab_8  ...  \\\n",
      "0      2.979374   -0.913556  -10.229722    3.839571   15.237508  ...   \n",
      "1     -5.710027   10.182443   -2.451668   -3.366818    7.031764  ...   \n",
      "2    -22.711004    6.541365    8.366531    7.116829    3.615027  ...   \n",
      "3     18.387869   12.611491   22.909826  -14.280988    7.079911  ...   \n",
      "4    -13.289094    7.853948    3.019834   -6.235657   19.070766  ...   \n",
      "..          ...         ...         ...         ...         ...  ...   \n",
      "123  -18.670531    5.270886   -4.055267    2.862509    0.817288  ...   \n",
      "124    0.272989   13.098050    5.441518   10.134082   -1.369082  ...   \n",
      "125   -6.859981    9.456483   -4.870111   -5.522212    2.868580  ...   \n",
      "126    7.348845  -19.683558   -0.544539    1.439142   -4.806192  ...   \n",
      "127   -7.073977   -9.116868   -5.906614    7.947229   18.566477  ...   \n",
      "\n",
      "     df_metab_78  df_metab_79  df_metab_80  df_metab_81  df_metab_82  \\\n",
      "0       2.750456    -2.901403     2.759620     4.480938    -3.582663   \n",
      "1       0.746035    -3.707440    -3.891046     2.684485     1.616988   \n",
      "2      -3.010996     3.635648     2.193355    -0.330299     2.823601   \n",
      "3       1.473849     2.262273    -0.203101    -1.807046    -0.316681   \n",
      "4      -0.127521     6.901653     1.268451     2.524945    -4.171543   \n",
      "..           ...          ...          ...          ...          ...   \n",
      "123     3.374207    -5.931721     3.062149     0.672421     1.207607   \n",
      "124    -4.339506    -1.992364     7.603839    -6.410090    -3.162364   \n",
      "125     2.539126     2.637960     2.235438     7.316500    -0.781183   \n",
      "126     5.400679     1.746592     1.580690    -1.207701     5.422559   \n",
      "127    -2.462806    -7.314410    16.402393     3.365966    -5.370727   \n",
      "\n",
      "     df_metab_83  df_metab_84  df_metab_85  df_metab_86  df_metab_87  \n",
      "0       0.469317     2.597935     0.159220     1.182358     0.696594  \n",
      "1       7.790377    -2.911657    -4.501589    -1.852580     0.191722  \n",
      "2       0.095792     5.084015     0.590115     2.170341    -2.478937  \n",
      "3       0.862496    -0.264648    -0.053904     0.513610    -0.644546  \n",
      "4       5.412390     3.531698    -7.274978     2.053378     3.030161  \n",
      "..           ...          ...          ...          ...          ...  \n",
      "123     1.341304    -4.681336     0.246370     6.649690    -2.093643  \n",
      "124    -5.106574     3.192732     4.019709     2.678097    -2.778203  \n",
      "125   -12.050419     6.648556    -5.598400     0.625768    -0.343988  \n",
      "126     0.502694     0.705520    -0.922350    -4.528967    -0.092109  \n",
      "127     4.905531    -1.799308    -3.315816    -0.114056    -4.228800  \n",
      "\n",
      "[128 rows x 89 columns]\n"
     ]
    }
   ],
   "source": [
    "df_train = pd.read_csv('/home/ubuntu/cs230-project/data_sub_PCA/df_train_PCA_dict_df_metab.csv')\n",
    "print (df_train)"
   ]
  },
  {
   "cell_type": "code",
   "execution_count": 6,
   "metadata": {},
   "outputs": [],
   "source": [
    "y_train = df_train.iloc[:,0]\n",
    "X_train = df_train.iloc[:,1:]"
   ]
  },
  {
   "cell_type": "code",
   "execution_count": 10,
   "metadata": {},
   "outputs": [],
   "source": [
    "y_train = pd.get_dummies(y_train)"
   ]
  },
  {
   "cell_type": "code",
   "execution_count": 11,
   "metadata": {},
   "outputs": [
    {
     "name": "stdout",
     "output_type": "stream",
     "text": [
      "(128, 2)\n",
      "(128, 88)\n"
     ]
    }
   ],
   "source": [
    "print (y_train.shape)\n",
    "print (X_train.shape)"
   ]
  },
  {
   "cell_type": "code",
   "execution_count": 23,
   "metadata": {},
   "outputs": [],
   "source": [
    "def build_model(hp):\n",
    "    model = keras.Sequential()\n",
    "    model.add(layers.Dropout(hp.Float('dropout', 0, 0.5, step = 0.1)))\n",
    "    for i in range(hp.Int('num_layers', 1, 4)): #16)):\n",
    "        model.add(layers.Dense(units = hp.Int('units_'+str(i), 20, 100, step = 10),\n",
    "        #model.add(layers.Dense(units = hp.Int('units_'+str(i), 25, 1000, step = 25),\n",
    "                               activation = hp.Choice('act_'+str(i), ['relu', 'tanh'])))\n",
    "    model.add(layers.Dense(2, activation = 'softmax')) #2 for binary classification\n",
    "    \n",
    "    model.compile(\n",
    "        optimizer = keras.optimizers.RMSprop(\n",
    "            learning_rate = hp.Choice('learning_rate', [1e-2, 1e-3, 1e-4]),\n",
    "            rho = hp.Float('rho', 0.5, 0.99, step = 0.05),\n",
    "            momentum = hp.Float('momentum', 0, 0.5, step = 0.05)),\n",
    "        loss = 'binary_crossentropy',\n",
    "        metrics = ['accuracy'])\n",
    "    return model"
   ]
  },
  {
   "cell_type": "code",
   "execution_count": 26,
   "metadata": {},
   "outputs": [
    {
     "name": "stdout",
     "output_type": "stream",
     "text": [
      "INFO:tensorflow:Reloading Oracle from existing project Metabolomics/untitled_project/oracle.json\n"
     ]
    }
   ],
   "source": [
    "#tuner = RandomSearch(\n",
    "tuner = BayesianOptimization(\n",
    "    build_model,\n",
    "    objective = 'acc',\n",
    "    max_trials = 5,\n",
    "    executions_per_trial = 3,\n",
    "    directory = 'Metabolomics')"
   ]
  },
  {
   "cell_type": "code",
   "execution_count": 27,
   "metadata": {},
   "outputs": [
    {
     "name": "stdout",
     "output_type": "stream",
     "text": [
      "Train on 128 samples\n",
      "Epoch 1/5\n",
      "128/128 [==============================] - ETA: 0s - loss: 1.1779 - acc: 0.250 - 0s 2ms/sample - loss: 0.6644 - acc: 0.6484\n",
      "Epoch 2/5\n",
      "128/128 [==============================] - ETA: 0s - loss: 0.3614 - acc: 0.843 - 0s 223us/sample - loss: 0.2994 - acc: 0.9141\n",
      "Epoch 3/5\n",
      "128/128 [==============================] - ETA: 0s - loss: 0.1537 - acc: 0.968 - 0s 180us/sample - loss: 0.2108 - acc: 0.9219\n",
      "Epoch 4/5\n",
      "128/128 [==============================] - ETA: 0s - loss: 0.1467 - acc: 0.968 - 0s 209us/sample - loss: 0.1563 - acc: 0.9453\n",
      "Epoch 5/5\n",
      "128/128 [==============================] - ETA: 0s - loss: 0.0843 - acc: 0.968 - 0s 464us/sample - loss: 0.1063 - acc: 0.9531\n",
      "Train on 128 samples\n",
      "Epoch 1/5\n",
      "128/128 [==============================] - ETA: 0s - loss: 0.7448 - acc: 0.500 - 0s 963us/sample - loss: 0.4665 - acc: 0.8047\n",
      "Epoch 2/5\n",
      "128/128 [==============================] - ETA: 0s - loss: 0.3436 - acc: 0.906 - 0s 119us/sample - loss: 0.2886 - acc: 0.9141\n",
      "Epoch 3/5\n",
      "128/128 [==============================] - ETA: 0s - loss: 0.1692 - acc: 0.906 - 0s 114us/sample - loss: 0.1748 - acc: 0.9219\n",
      "Epoch 4/5\n",
      "128/128 [==============================] - ETA: 0s - loss: 0.0991 - acc: 0.937 - 0s 122us/sample - loss: 0.1136 - acc: 0.9297\n",
      "Epoch 5/5\n",
      "128/128 [==============================] - ETA: 0s - loss: 0.1209 - acc: 0.937 - 0s 773us/sample - loss: 0.0782 - acc: 0.9609\n",
      "Train on 128 samples\n",
      "Epoch 1/5\n",
      "128/128 [==============================] - ETA: 0s - loss: 0.5040 - acc: 0.781 - 0s 943us/sample - loss: 0.3998 - acc: 0.8750\n",
      "Epoch 2/5\n",
      "128/128 [==============================] - ETA: 0s - loss: 0.1428 - acc: 0.937 - 0s 115us/sample - loss: 0.2395 - acc: 0.9141\n",
      "Epoch 3/5\n",
      "128/128 [==============================] - ETA: 0s - loss: 0.1428 - acc: 0.937 - 0s 125us/sample - loss: 0.1920 - acc: 0.9062\n",
      "Epoch 4/5\n",
      "128/128 [==============================] - ETA: 0s - loss: 0.1403 - acc: 0.937 - 0s 134us/sample - loss: 0.1259 - acc: 0.9219\n",
      "Epoch 5/5\n",
      "128/128 [==============================] - ETA: 0s - loss: 0.0876 - acc: 0.937 - 0s 770us/sample - loss: 0.0844 - acc: 0.9766\n"
     ]
    },
    {
     "data": {
      "text/html": [
       "<span style=\"color:#4527A0\"><h1 style=\"font-size:18px\">Trial complete</h1></span>"
      ],
      "text/plain": [
       "<IPython.core.display.HTML object>"
      ]
     },
     "metadata": {},
     "output_type": "display_data"
    },
    {
     "data": {
      "text/html": [
       "<span style=\"color:#4527A0\"><h1 style=\"font-size:18px\">Trial summary</h1></span>"
      ],
      "text/plain": [
       "<IPython.core.display.HTML object>"
      ]
     },
     "metadata": {},
     "output_type": "display_data"
    },
    {
     "data": {
      "text/html": [
       "<span style=\"color:cyan\"> |-Trial ID: eb689918b68eaf02ea72953c4d405690</span>"
      ],
      "text/plain": [
       "<IPython.core.display.HTML object>"
      ]
     },
     "metadata": {},
     "output_type": "display_data"
    },
    {
     "data": {
      "text/html": [
       "<span style=\"color:cyan\"> |-Score: 0.9635416865348816</span>"
      ],
      "text/plain": [
       "<IPython.core.display.HTML object>"
      ]
     },
     "metadata": {},
     "output_type": "display_data"
    },
    {
     "data": {
      "text/html": [
       "<span style=\"color:cyan\"> |-Best step: 0</span>"
      ],
      "text/plain": [
       "<IPython.core.display.HTML object>"
      ]
     },
     "metadata": {},
     "output_type": "display_data"
    },
    {
     "data": {
      "text/html": [
       "<span style=\"color:#7E57C2\"><h2 style=\"font-size:16px\">Hyperparameters:</h2></span>"
      ],
      "text/plain": [
       "<IPython.core.display.HTML object>"
      ]
     },
     "metadata": {},
     "output_type": "display_data"
    },
    {
     "data": {
      "text/html": [
       "<span style=\"color:cyan\"> |-act_0: tanh</span>"
      ],
      "text/plain": [
       "<IPython.core.display.HTML object>"
      ]
     },
     "metadata": {},
     "output_type": "display_data"
    },
    {
     "data": {
      "text/html": [
       "<span style=\"color:blue\"> |-act_1: relu</span>"
      ],
      "text/plain": [
       "<IPython.core.display.HTML object>"
      ]
     },
     "metadata": {},
     "output_type": "display_data"
    },
    {
     "data": {
      "text/html": [
       "<span style=\"color:cyan\"> |-act_2: relu</span>"
      ],
      "text/plain": [
       "<IPython.core.display.HTML object>"
      ]
     },
     "metadata": {},
     "output_type": "display_data"
    },
    {
     "data": {
      "text/html": [
       "<span style=\"color:blue\"> |-dropout: 0.2</span>"
      ],
      "text/plain": [
       "<IPython.core.display.HTML object>"
      ]
     },
     "metadata": {},
     "output_type": "display_data"
    },
    {
     "data": {
      "text/html": [
       "<span style=\"color:cyan\"> |-learning_rate: 0.01</span>"
      ],
      "text/plain": [
       "<IPython.core.display.HTML object>"
      ]
     },
     "metadata": {},
     "output_type": "display_data"
    },
    {
     "data": {
      "text/html": [
       "<span style=\"color:blue\"> |-momentum: 0.5</span>"
      ],
      "text/plain": [
       "<IPython.core.display.HTML object>"
      ]
     },
     "metadata": {},
     "output_type": "display_data"
    },
    {
     "data": {
      "text/html": [
       "<span style=\"color:cyan\"> |-num_layers: 3</span>"
      ],
      "text/plain": [
       "<IPython.core.display.HTML object>"
      ]
     },
     "metadata": {},
     "output_type": "display_data"
    },
    {
     "data": {
      "text/html": [
       "<span style=\"color:blue\"> |-rho: 0.55</span>"
      ],
      "text/plain": [
       "<IPython.core.display.HTML object>"
      ]
     },
     "metadata": {},
     "output_type": "display_data"
    },
    {
     "data": {
      "text/html": [
       "<span style=\"color:cyan\"> |-units_0: 40</span>"
      ],
      "text/plain": [
       "<IPython.core.display.HTML object>"
      ]
     },
     "metadata": {},
     "output_type": "display_data"
    },
    {
     "data": {
      "text/html": [
       "<span style=\"color:blue\"> |-units_1: 20</span>"
      ],
      "text/plain": [
       "<IPython.core.display.HTML object>"
      ]
     },
     "metadata": {},
     "output_type": "display_data"
    },
    {
     "data": {
      "text/html": [
       "<span style=\"color:cyan\"> |-units_2: 20</span>"
      ],
      "text/plain": [
       "<IPython.core.display.HTML object>"
      ]
     },
     "metadata": {},
     "output_type": "display_data"
    },
    {
     "name": "stdout",
     "output_type": "stream",
     "text": [
      "Train on 128 samples\n",
      "Epoch 1/5\n",
      "128/128 [==============================] - ETA: 0s - loss: 6.2871 - acc: 0.406 - 0s 1ms/sample - loss: 4.0127 - acc: 0.5781\n",
      "Epoch 2/5\n",
      "128/128 [==============================] - ETA: 0s - loss: 0.1528 - acc: 0.937 - 0s 163us/sample - loss: 1.2705 - acc: 0.8672\n",
      "Epoch 3/5\n",
      "128/128 [==============================] - ETA: 0s - loss: 0.3506 - acc: 0.968 - 0s 162us/sample - loss: 1.1116 - acc: 0.8984\n",
      "Epoch 4/5\n",
      "128/128 [==============================] - ETA: 0s - loss: 4.2687e-04 - acc: 1.000 - 0s 118us/sample - loss: 1.0002 - acc: 0.8984\n",
      "Epoch 5/5\n",
      "128/128 [==============================] - ETA: 0s - loss: 0.1283 - acc: 0.937 - 0s 167us/sample - loss: 0.6469 - acc: 0.9141\n",
      "Train on 128 samples\n",
      "Epoch 1/5\n",
      "128/128 [==============================] - ETA: 0s - loss: 3.1587 - acc: 0.593 - 0s 816us/sample - loss: 2.2571 - acc: 0.7266\n",
      "Epoch 2/5\n",
      "128/128 [==============================] - ETA: 0s - loss: 0.6981 - acc: 0.906 - 0s 115us/sample - loss: 1.1926 - acc: 0.8672\n",
      "Epoch 3/5\n",
      "128/128 [==============================] - ETA: 0s - loss: 1.2770 - acc: 0.875 - 0s 116us/sample - loss: 1.1369 - acc: 0.8828\n",
      "Epoch 4/5\n",
      "128/128 [==============================] - ETA: 0s - loss: 0.5306 - acc: 0.937 - 0s 621us/sample - loss: 0.7542 - acc: 0.9375\n",
      "Epoch 5/5\n",
      "128/128 [==============================] - ETA: 0s - loss: 1.2059 - acc: 0.906 - 0s 171us/sample - loss: 0.6777 - acc: 0.9453\n",
      "Train on 128 samples\n",
      "Epoch 1/5\n",
      "128/128 [==============================] - ETA: 0s - loss: 10.5140 - acc: 0.09 - 0s 808us/sample - loss: 5.4337 - acc: 0.4375\n",
      "Epoch 2/5\n",
      "128/128 [==============================] - ETA: 0s - loss: 2.7599 - acc: 0.656 - 0s 117us/sample - loss: 1.3271 - acc: 0.8359\n",
      "Epoch 3/5\n",
      "128/128 [==============================] - ETA: 0s - loss: 1.2047 - acc: 0.843 - 0s 109us/sample - loss: 0.7811 - acc: 0.9141\n",
      "Epoch 4/5\n",
      "128/128 [==============================] - ETA: 0s - loss: 0.5900 - acc: 0.937 - 0s 105us/sample - loss: 0.6583 - acc: 0.9219\n",
      "Epoch 5/5\n",
      "128/128 [==============================] - ETA: 0s - loss: 0.2466 - acc: 0.968 - 0s 117us/sample - loss: 0.8280 - acc: 0.8984\n"
     ]
    },
    {
     "data": {
      "text/html": [
       "<span style=\"color:#4527A0\"><h1 style=\"font-size:18px\">Trial complete</h1></span>"
      ],
      "text/plain": [
       "<IPython.core.display.HTML object>"
      ]
     },
     "metadata": {},
     "output_type": "display_data"
    },
    {
     "data": {
      "text/html": [
       "<span style=\"color:#4527A0\"><h1 style=\"font-size:18px\">Trial summary</h1></span>"
      ],
      "text/plain": [
       "<IPython.core.display.HTML object>"
      ]
     },
     "metadata": {},
     "output_type": "display_data"
    },
    {
     "data": {
      "text/html": [
       "<span style=\"color:cyan\"> |-Trial ID: 8c0ad3d77e2e9df07ffb3c92384b48f4</span>"
      ],
      "text/plain": [
       "<IPython.core.display.HTML object>"
      ]
     },
     "metadata": {},
     "output_type": "display_data"
    },
    {
     "data": {
      "text/html": [
       "<span style=\"color:cyan\"> |-Score: 0.9270833134651184</span>"
      ],
      "text/plain": [
       "<IPython.core.display.HTML object>"
      ]
     },
     "metadata": {},
     "output_type": "display_data"
    },
    {
     "data": {
      "text/html": [
       "<span style=\"color:cyan\"> |-Best step: 0</span>"
      ],
      "text/plain": [
       "<IPython.core.display.HTML object>"
      ]
     },
     "metadata": {},
     "output_type": "display_data"
    },
    {
     "data": {
      "text/html": [
       "<span style=\"color:#7E57C2\"><h2 style=\"font-size:16px\">Hyperparameters:</h2></span>"
      ],
      "text/plain": [
       "<IPython.core.display.HTML object>"
      ]
     },
     "metadata": {},
     "output_type": "display_data"
    },
    {
     "data": {
      "text/html": [
       "<span style=\"color:cyan\"> |-act_0: relu</span>"
      ],
      "text/plain": [
       "<IPython.core.display.HTML object>"
      ]
     },
     "metadata": {},
     "output_type": "display_data"
    },
    {
     "data": {
      "text/html": [
       "<span style=\"color:blue\"> |-act_1: tanh</span>"
      ],
      "text/plain": [
       "<IPython.core.display.HTML object>"
      ]
     },
     "metadata": {},
     "output_type": "display_data"
    },
    {
     "data": {
      "text/html": [
       "<span style=\"color:cyan\"> |-act_2: tanh</span>"
      ],
      "text/plain": [
       "<IPython.core.display.HTML object>"
      ]
     },
     "metadata": {},
     "output_type": "display_data"
    },
    {
     "data": {
      "text/html": [
       "<span style=\"color:blue\"> |-dropout: 0.4</span>"
      ],
      "text/plain": [
       "<IPython.core.display.HTML object>"
      ]
     },
     "metadata": {},
     "output_type": "display_data"
    },
    {
     "data": {
      "text/html": [
       "<span style=\"color:cyan\"> |-learning_rate: 0.01</span>"
      ],
      "text/plain": [
       "<IPython.core.display.HTML object>"
      ]
     },
     "metadata": {},
     "output_type": "display_data"
    },
    {
     "data": {
      "text/html": [
       "<span style=\"color:blue\"> |-momentum: 0.25</span>"
      ],
      "text/plain": [
       "<IPython.core.display.HTML object>"
      ]
     },
     "metadata": {},
     "output_type": "display_data"
    },
    {
     "data": {
      "text/html": [
       "<span style=\"color:cyan\"> |-num_layers: 1</span>"
      ],
      "text/plain": [
       "<IPython.core.display.HTML object>"
      ]
     },
     "metadata": {},
     "output_type": "display_data"
    },
    {
     "data": {
      "text/html": [
       "<span style=\"color:blue\"> |-rho: 0.6500000000000001</span>"
      ],
      "text/plain": [
       "<IPython.core.display.HTML object>"
      ]
     },
     "metadata": {},
     "output_type": "display_data"
    },
    {
     "data": {
      "text/html": [
       "<span style=\"color:cyan\"> |-units_0: 40</span>"
      ],
      "text/plain": [
       "<IPython.core.display.HTML object>"
      ]
     },
     "metadata": {},
     "output_type": "display_data"
    },
    {
     "data": {
      "text/html": [
       "<span style=\"color:blue\"> |-units_1: 30</span>"
      ],
      "text/plain": [
       "<IPython.core.display.HTML object>"
      ]
     },
     "metadata": {},
     "output_type": "display_data"
    },
    {
     "data": {
      "text/html": [
       "<span style=\"color:cyan\"> |-units_2: 40</span>"
      ],
      "text/plain": [
       "<IPython.core.display.HTML object>"
      ]
     },
     "metadata": {},
     "output_type": "display_data"
    },
    {
     "name": "stdout",
     "output_type": "stream",
     "text": [
      "Train on 128 samples\n",
      "Epoch 1/5\n",
      "128/128 [==============================] - ETA: 0s - loss: 0.6323 - acc: 0.687 - 0s 1ms/sample - loss: 0.6057 - acc: 0.7109\n",
      "Epoch 2/5\n",
      "128/128 [==============================] - ETA: 0s - loss: 0.3634 - acc: 0.906 - 0s 166us/sample - loss: 0.3966 - acc: 0.8672\n",
      "Epoch 3/5\n",
      "128/128 [==============================] - ETA: 0s - loss: 0.3225 - acc: 0.937 - 0s 291us/sample - loss: 0.2909 - acc: 0.9375\n",
      "Epoch 4/5\n",
      "128/128 [==============================] - ETA: 0s - loss: 0.2705 - acc: 0.875 - 0s 116us/sample - loss: 0.2463 - acc: 0.9219\n",
      "Epoch 5/5\n",
      "128/128 [==============================] - ETA: 0s - loss: 0.1709 - acc: 0.937 - 0s 112us/sample - loss: 0.1859 - acc: 0.9375\n",
      "Train on 128 samples\n",
      "Epoch 1/5\n",
      "128/128 [==============================] - ETA: 0s - loss: 0.6530 - acc: 0.656 - 0s 899us/sample - loss: 0.5647 - acc: 0.7188\n",
      "Epoch 2/5\n",
      "128/128 [==============================] - ETA: 0s - loss: 0.4971 - acc: 0.750 - 0s 113us/sample - loss: 0.4226 - acc: 0.8359\n",
      "Epoch 3/5\n",
      "128/128 [==============================] - ETA: 0s - loss: 0.4074 - acc: 0.875 - 0s 118us/sample - loss: 0.3079 - acc: 0.9141\n",
      "Epoch 4/5\n",
      "128/128 [==============================] - ETA: 0s - loss: 0.3279 - acc: 0.875 - 0s 112us/sample - loss: 0.2683 - acc: 0.9219\n",
      "Epoch 5/5\n",
      "128/128 [==============================] - ETA: 0s - loss: 0.2608 - acc: 0.937 - 0s 123us/sample - loss: 0.2160 - acc: 0.9219\n",
      "Train on 128 samples\n",
      "Epoch 1/5\n",
      "128/128 [==============================] - ETA: 0s - loss: 1.2550 - acc: 0.187 - 0s 897us/sample - loss: 1.1020 - acc: 0.2969\n",
      "Epoch 2/5\n",
      "128/128 [==============================] - ETA: 0s - loss: 0.8186 - acc: 0.500 - 0s 111us/sample - loss: 0.7582 - acc: 0.5312\n",
      "Epoch 3/5\n",
      "128/128 [==============================] - ETA: 0s - loss: 0.5530 - acc: 0.750 - 0s 118us/sample - loss: 0.5066 - acc: 0.7656\n",
      "Epoch 4/5\n",
      "128/128 [==============================] - ETA: 0s - loss: 0.4225 - acc: 0.875 - 0s 119us/sample - loss: 0.4035 - acc: 0.8594\n",
      "Epoch 5/5\n",
      "128/128 [==============================] - ETA: 0s - loss: 0.2884 - acc: 0.937 - 0s 122us/sample - loss: 0.3013 - acc: 0.8984\n"
     ]
    },
    {
     "data": {
      "text/html": [
       "<span style=\"color:#4527A0\"><h1 style=\"font-size:18px\">Trial complete</h1></span>"
      ],
      "text/plain": [
       "<IPython.core.display.HTML object>"
      ]
     },
     "metadata": {},
     "output_type": "display_data"
    },
    {
     "data": {
      "text/html": [
       "<span style=\"color:#4527A0\"><h1 style=\"font-size:18px\">Trial summary</h1></span>"
      ],
      "text/plain": [
       "<IPython.core.display.HTML object>"
      ]
     },
     "metadata": {},
     "output_type": "display_data"
    },
    {
     "data": {
      "text/html": [
       "<span style=\"color:cyan\"> |-Trial ID: 656b0943d82b13021aa0103cd1669449</span>"
      ],
      "text/plain": [
       "<IPython.core.display.HTML object>"
      ]
     },
     "metadata": {},
     "output_type": "display_data"
    },
    {
     "data": {
      "text/html": [
       "<span style=\"color:cyan\"> |-Score: 0.9192708134651184</span>"
      ],
      "text/plain": [
       "<IPython.core.display.HTML object>"
      ]
     },
     "metadata": {},
     "output_type": "display_data"
    },
    {
     "data": {
      "text/html": [
       "<span style=\"color:cyan\"> |-Best step: 0</span>"
      ],
      "text/plain": [
       "<IPython.core.display.HTML object>"
      ]
     },
     "metadata": {},
     "output_type": "display_data"
    },
    {
     "data": {
      "text/html": [
       "<span style=\"color:#7E57C2\"><h2 style=\"font-size:16px\">Hyperparameters:</h2></span>"
      ],
      "text/plain": [
       "<IPython.core.display.HTML object>"
      ]
     },
     "metadata": {},
     "output_type": "display_data"
    },
    {
     "data": {
      "text/html": [
       "<span style=\"color:cyan\"> |-act_0: tanh</span>"
      ],
      "text/plain": [
       "<IPython.core.display.HTML object>"
      ]
     },
     "metadata": {},
     "output_type": "display_data"
    },
    {
     "data": {
      "text/html": [
       "<span style=\"color:blue\"> |-act_1: relu</span>"
      ],
      "text/plain": [
       "<IPython.core.display.HTML object>"
      ]
     },
     "metadata": {},
     "output_type": "display_data"
    },
    {
     "data": {
      "text/html": [
       "<span style=\"color:cyan\"> |-act_2: relu</span>"
      ],
      "text/plain": [
       "<IPython.core.display.HTML object>"
      ]
     },
     "metadata": {},
     "output_type": "display_data"
    },
    {
     "data": {
      "text/html": [
       "<span style=\"color:blue\"> |-dropout: 0.1</span>"
      ],
      "text/plain": [
       "<IPython.core.display.HTML object>"
      ]
     },
     "metadata": {},
     "output_type": "display_data"
    },
    {
     "data": {
      "text/html": [
       "<span style=\"color:cyan\"> |-learning_rate: 0.001</span>"
      ],
      "text/plain": [
       "<IPython.core.display.HTML object>"
      ]
     },
     "metadata": {},
     "output_type": "display_data"
    },
    {
     "data": {
      "text/html": [
       "<span style=\"color:blue\"> |-momentum: 0.2</span>"
      ],
      "text/plain": [
       "<IPython.core.display.HTML object>"
      ]
     },
     "metadata": {},
     "output_type": "display_data"
    },
    {
     "data": {
      "text/html": [
       "<span style=\"color:cyan\"> |-num_layers: 2</span>"
      ],
      "text/plain": [
       "<IPython.core.display.HTML object>"
      ]
     },
     "metadata": {},
     "output_type": "display_data"
    },
    {
     "data": {
      "text/html": [
       "<span style=\"color:blue\"> |-rho: 0.6000000000000001</span>"
      ],
      "text/plain": [
       "<IPython.core.display.HTML object>"
      ]
     },
     "metadata": {},
     "output_type": "display_data"
    },
    {
     "data": {
      "text/html": [
       "<span style=\"color:cyan\"> |-units_0: 80</span>"
      ],
      "text/plain": [
       "<IPython.core.display.HTML object>"
      ]
     },
     "metadata": {},
     "output_type": "display_data"
    },
    {
     "data": {
      "text/html": [
       "<span style=\"color:blue\"> |-units_1: 90</span>"
      ],
      "text/plain": [
       "<IPython.core.display.HTML object>"
      ]
     },
     "metadata": {},
     "output_type": "display_data"
    },
    {
     "data": {
      "text/html": [
       "<span style=\"color:cyan\"> |-units_2: 50</span>"
      ],
      "text/plain": [
       "<IPython.core.display.HTML object>"
      ]
     },
     "metadata": {},
     "output_type": "display_data"
    },
    {
     "name": "stdout",
     "output_type": "stream",
     "text": [
      "Train on 128 samples\n",
      "Epoch 1/5\n",
      "128/128 [==============================] - ETA: 0s - loss: 3.7259 - acc: 0.156 - 0s 2ms/sample - loss: 1.6352 - acc: 0.5469\n",
      "Epoch 2/5\n",
      "128/128 [==============================] - ETA: 0s - loss: 0.9109 - acc: 0.781 - 0s 189us/sample - loss: 0.5528 - acc: 0.8516\n",
      "Epoch 3/5\n",
      "128/128 [==============================] - ETA: 0s - loss: 0.5900 - acc: 0.812 - 0s 179us/sample - loss: 0.4779 - acc: 0.8750\n",
      "Epoch 4/5\n",
      "128/128 [==============================] - ETA: 0s - loss: 0.1763 - acc: 0.906 - 0s 390us/sample - loss: 0.3647 - acc: 0.8906\n",
      "Epoch 5/5\n",
      "128/128 [==============================] - ETA: 0s - loss: 0.2672 - acc: 0.875 - 0s 126us/sample - loss: 0.3129 - acc: 0.8828\n",
      "Train on 128 samples\n",
      "Epoch 1/5\n",
      "128/128 [==============================] - ETA: 0s - loss: 2.0600 - acc: 0.406 - 0s 975us/sample - loss: 0.9942 - acc: 0.7422\n",
      "Epoch 2/5\n",
      "128/128 [==============================] - ETA: 0s - loss: 0.3055 - acc: 0.906 - 0s 127us/sample - loss: 0.5321 - acc: 0.8672\n",
      "Epoch 3/5\n",
      "128/128 [==============================] - ETA: 0s - loss: 0.1464 - acc: 0.937 - 0s 118us/sample - loss: 0.3961 - acc: 0.8906\n",
      "Epoch 4/5\n",
      "128/128 [==============================] - ETA: 0s - loss: 0.3076 - acc: 0.812 - 0s 123us/sample - loss: 0.4451 - acc: 0.8672\n",
      "Epoch 5/5\n",
      "128/128 [==============================] - ETA: 0s - loss: 0.5069 - acc: 0.812 - 0s 129us/sample - loss: 0.3945 - acc: 0.8750\n",
      "Train on 128 samples\n",
      "Epoch 1/5\n",
      "128/128 [==============================] - ETA: 0s - loss: 1.8505 - acc: 0.406 - 0s 967us/sample - loss: 1.2413 - acc: 0.6094\n",
      "Epoch 2/5\n",
      "128/128 [==============================] - ETA: 0s - loss: 0.6277 - acc: 0.843 - 0s 766us/sample - loss: 0.4964 - acc: 0.8984\n",
      "Epoch 3/5\n",
      "128/128 [==============================] - ETA: 0s - loss: 0.1542 - acc: 0.937 - 0s 127us/sample - loss: 0.4031 - acc: 0.8828\n",
      "Epoch 4/5\n",
      "128/128 [==============================] - ETA: 0s - loss: 0.6199 - acc: 0.843 - 0s 120us/sample - loss: 0.5576 - acc: 0.8438\n",
      "Epoch 5/5\n",
      "128/128 [==============================] - ETA: 0s - loss: 0.5654 - acc: 0.812 - 0s 132us/sample - loss: 0.3623 - acc: 0.8750\n"
     ]
    },
    {
     "data": {
      "text/html": [
       "<span style=\"color:#4527A0\"><h1 style=\"font-size:18px\">Trial complete</h1></span>"
      ],
      "text/plain": [
       "<IPython.core.display.HTML object>"
      ]
     },
     "metadata": {},
     "output_type": "display_data"
    },
    {
     "data": {
      "text/html": [
       "<span style=\"color:#4527A0\"><h1 style=\"font-size:18px\">Trial summary</h1></span>"
      ],
      "text/plain": [
       "<IPython.core.display.HTML object>"
      ]
     },
     "metadata": {},
     "output_type": "display_data"
    },
    {
     "data": {
      "text/html": [
       "<span style=\"color:cyan\"> |-Trial ID: 4a20ee134f4d6c528caf3c6473eda1e7</span>"
      ],
      "text/plain": [
       "<IPython.core.display.HTML object>"
      ]
     },
     "metadata": {},
     "output_type": "display_data"
    },
    {
     "data": {
      "text/html": [
       "<span style=\"color:cyan\"> |-Score: 0.8932291865348816</span>"
      ],
      "text/plain": [
       "<IPython.core.display.HTML object>"
      ]
     },
     "metadata": {},
     "output_type": "display_data"
    },
    {
     "data": {
      "text/html": [
       "<span style=\"color:cyan\"> |-Best step: 0</span>"
      ],
      "text/plain": [
       "<IPython.core.display.HTML object>"
      ]
     },
     "metadata": {},
     "output_type": "display_data"
    },
    {
     "data": {
      "text/html": [
       "<span style=\"color:#7E57C2\"><h2 style=\"font-size:16px\">Hyperparameters:</h2></span>"
      ],
      "text/plain": [
       "<IPython.core.display.HTML object>"
      ]
     },
     "metadata": {},
     "output_type": "display_data"
    },
    {
     "data": {
      "text/html": [
       "<span style=\"color:cyan\"> |-act_0: relu</span>"
      ],
      "text/plain": [
       "<IPython.core.display.HTML object>"
      ]
     },
     "metadata": {},
     "output_type": "display_data"
    },
    {
     "data": {
      "text/html": [
       "<span style=\"color:blue\"> |-act_1: relu</span>"
      ],
      "text/plain": [
       "<IPython.core.display.HTML object>"
      ]
     },
     "metadata": {},
     "output_type": "display_data"
    },
    {
     "data": {
      "text/html": [
       "<span style=\"color:cyan\"> |-act_2: relu</span>"
      ],
      "text/plain": [
       "<IPython.core.display.HTML object>"
      ]
     },
     "metadata": {},
     "output_type": "display_data"
    },
    {
     "data": {
      "text/html": [
       "<span style=\"color:blue\"> |-dropout: 0.4</span>"
      ],
      "text/plain": [
       "<IPython.core.display.HTML object>"
      ]
     },
     "metadata": {},
     "output_type": "display_data"
    },
    {
     "data": {
      "text/html": [
       "<span style=\"color:cyan\"> |-learning_rate: 0.001</span>"
      ],
      "text/plain": [
       "<IPython.core.display.HTML object>"
      ]
     },
     "metadata": {},
     "output_type": "display_data"
    },
    {
     "data": {
      "text/html": [
       "<span style=\"color:blue\"> |-momentum: 0.2</span>"
      ],
      "text/plain": [
       "<IPython.core.display.HTML object>"
      ]
     },
     "metadata": {},
     "output_type": "display_data"
    },
    {
     "data": {
      "text/html": [
       "<span style=\"color:cyan\"> |-num_layers: 3</span>"
      ],
      "text/plain": [
       "<IPython.core.display.HTML object>"
      ]
     },
     "metadata": {},
     "output_type": "display_data"
    },
    {
     "data": {
      "text/html": [
       "<span style=\"color:blue\"> |-rho: 0.8500000000000003</span>"
      ],
      "text/plain": [
       "<IPython.core.display.HTML object>"
      ]
     },
     "metadata": {},
     "output_type": "display_data"
    },
    {
     "data": {
      "text/html": [
       "<span style=\"color:cyan\"> |-units_0: 50</span>"
      ],
      "text/plain": [
       "<IPython.core.display.HTML object>"
      ]
     },
     "metadata": {},
     "output_type": "display_data"
    },
    {
     "data": {
      "text/html": [
       "<span style=\"color:blue\"> |-units_1: 30</span>"
      ],
      "text/plain": [
       "<IPython.core.display.HTML object>"
      ]
     },
     "metadata": {},
     "output_type": "display_data"
    },
    {
     "data": {
      "text/html": [
       "<span style=\"color:cyan\"> |-units_2: 80</span>"
      ],
      "text/plain": [
       "<IPython.core.display.HTML object>"
      ]
     },
     "metadata": {},
     "output_type": "display_data"
    },
    {
     "name": "stdout",
     "output_type": "stream",
     "text": [
      "Train on 128 samples\n",
      "Epoch 1/5\n",
      "128/128 [==============================] - ETA: 0s - loss: 0.8724 - acc: 0.468 - 0s 1ms/sample - loss: 0.8501 - acc: 0.4844\n",
      "Epoch 2/5\n",
      "128/128 [==============================] - ETA: 0s - loss: 0.6028 - acc: 0.656 - 0s 172us/sample - loss: 0.7178 - acc: 0.5703\n",
      "Epoch 3/5\n",
      "128/128 [==============================] - ETA: 0s - loss: 0.8700 - acc: 0.437 - 0s 176us/sample - loss: 0.7052 - acc: 0.6016\n",
      "Epoch 4/5\n",
      "128/128 [==============================] - ETA: 0s - loss: 0.7234 - acc: 0.531 - 0s 116us/sample - loss: 0.6548 - acc: 0.5938\n",
      "Epoch 5/5\n",
      "128/128 [==============================] - ETA: 0s - loss: 0.6059 - acc: 0.687 - 0s 171us/sample - loss: 0.5834 - acc: 0.6953\n",
      "Train on 128 samples\n",
      "Epoch 1/5\n",
      "128/128 [==============================] - ETA: 0s - loss: 0.8798 - acc: 0.375 - 0s 900us/sample - loss: 0.7742 - acc: 0.5156\n",
      "Epoch 2/5\n",
      "128/128 [==============================] - ETA: 0s - loss: 0.6992 - acc: 0.531 - 0s 119us/sample - loss: 0.7197 - acc: 0.5234\n",
      "Epoch 3/5\n",
      "128/128 [==============================] - ETA: 0s - loss: 0.7404 - acc: 0.562 - 0s 119us/sample - loss: 0.6670 - acc: 0.6406\n",
      "Epoch 4/5\n",
      "128/128 [==============================] - ETA: 0s - loss: 0.6714 - acc: 0.562 - 0s 124us/sample - loss: 0.6118 - acc: 0.6797\n",
      "Epoch 5/5\n",
      "128/128 [==============================] - ETA: 0s - loss: 0.5871 - acc: 0.718 - 0s 700us/sample - loss: 0.6031 - acc: 0.7109\n",
      "Train on 128 samples\n",
      "Epoch 1/5\n",
      "128/128 [==============================] - ETA: 0s - loss: 0.6933 - acc: 0.625 - 0s 899us/sample - loss: 0.7797 - acc: 0.4766\n",
      "Epoch 2/5\n",
      "128/128 [==============================] - ETA: 0s - loss: 0.6959 - acc: 0.531 - 0s 117us/sample - loss: 0.7160 - acc: 0.5781\n",
      "Epoch 3/5\n",
      "128/128 [==============================] - ETA: 0s - loss: 0.6544 - acc: 0.656 - 0s 113us/sample - loss: 0.6712 - acc: 0.6328\n",
      "Epoch 4/5\n",
      "128/128 [==============================] - ETA: 0s - loss: 0.6781 - acc: 0.562 - 0s 120us/sample - loss: 0.6313 - acc: 0.6641\n",
      "Epoch 5/5\n",
      "128/128 [==============================] - ETA: 0s - loss: 0.5449 - acc: 0.750 - 0s 119us/sample - loss: 0.5741 - acc: 0.6953\n"
     ]
    },
    {
     "data": {
      "text/html": [
       "<span style=\"color:#4527A0\"><h1 style=\"font-size:18px\">Trial complete</h1></span>"
      ],
      "text/plain": [
       "<IPython.core.display.HTML object>"
      ]
     },
     "metadata": {},
     "output_type": "display_data"
    },
    {
     "data": {
      "text/html": [
       "<span style=\"color:#4527A0\"><h1 style=\"font-size:18px\">Trial summary</h1></span>"
      ],
      "text/plain": [
       "<IPython.core.display.HTML object>"
      ]
     },
     "metadata": {},
     "output_type": "display_data"
    },
    {
     "data": {
      "text/html": [
       "<span style=\"color:cyan\"> |-Trial ID: 789c0b4afefa62f4b3db4398b5005ad7</span>"
      ],
      "text/plain": [
       "<IPython.core.display.HTML object>"
      ]
     },
     "metadata": {},
     "output_type": "display_data"
    },
    {
     "data": {
      "text/html": [
       "<span style=\"color:cyan\"> |-Score: 0.7005208134651184</span>"
      ],
      "text/plain": [
       "<IPython.core.display.HTML object>"
      ]
     },
     "metadata": {},
     "output_type": "display_data"
    },
    {
     "data": {
      "text/html": [
       "<span style=\"color:cyan\"> |-Best step: 0</span>"
      ],
      "text/plain": [
       "<IPython.core.display.HTML object>"
      ]
     },
     "metadata": {},
     "output_type": "display_data"
    },
    {
     "data": {
      "text/html": [
       "<span style=\"color:#7E57C2\"><h2 style=\"font-size:16px\">Hyperparameters:</h2></span>"
      ],
      "text/plain": [
       "<IPython.core.display.HTML object>"
      ]
     },
     "metadata": {},
     "output_type": "display_data"
    },
    {
     "data": {
      "text/html": [
       "<span style=\"color:cyan\"> |-act_0: tanh</span>"
      ],
      "text/plain": [
       "<IPython.core.display.HTML object>"
      ]
     },
     "metadata": {},
     "output_type": "display_data"
    },
    {
     "data": {
      "text/html": [
       "<span style=\"color:blue\"> |-act_1: tanh</span>"
      ],
      "text/plain": [
       "<IPython.core.display.HTML object>"
      ]
     },
     "metadata": {},
     "output_type": "display_data"
    },
    {
     "data": {
      "text/html": [
       "<span style=\"color:cyan\"> |-act_2: tanh</span>"
      ],
      "text/plain": [
       "<IPython.core.display.HTML object>"
      ]
     },
     "metadata": {},
     "output_type": "display_data"
    },
    {
     "data": {
      "text/html": [
       "<span style=\"color:blue\"> |-dropout: 0.4</span>"
      ],
      "text/plain": [
       "<IPython.core.display.HTML object>"
      ]
     },
     "metadata": {},
     "output_type": "display_data"
    },
    {
     "data": {
      "text/html": [
       "<span style=\"color:cyan\"> |-learning_rate: 0.001</span>"
      ],
      "text/plain": [
       "<IPython.core.display.HTML object>"
      ]
     },
     "metadata": {},
     "output_type": "display_data"
    },
    {
     "data": {
      "text/html": [
       "<span style=\"color:blue\"> |-momentum: 0.2</span>"
      ],
      "text/plain": [
       "<IPython.core.display.HTML object>"
      ]
     },
     "metadata": {},
     "output_type": "display_data"
    },
    {
     "data": {
      "text/html": [
       "<span style=\"color:cyan\"> |-num_layers: 2</span>"
      ],
      "text/plain": [
       "<IPython.core.display.HTML object>"
      ]
     },
     "metadata": {},
     "output_type": "display_data"
    },
    {
     "data": {
      "text/html": [
       "<span style=\"color:blue\"> |-rho: 0.55</span>"
      ],
      "text/plain": [
       "<IPython.core.display.HTML object>"
      ]
     },
     "metadata": {},
     "output_type": "display_data"
    },
    {
     "data": {
      "text/html": [
       "<span style=\"color:cyan\"> |-units_0: 30</span>"
      ],
      "text/plain": [
       "<IPython.core.display.HTML object>"
      ]
     },
     "metadata": {},
     "output_type": "display_data"
    },
    {
     "data": {
      "text/html": [
       "<span style=\"color:blue\"> |-units_1: 90</span>"
      ],
      "text/plain": [
       "<IPython.core.display.HTML object>"
      ]
     },
     "metadata": {},
     "output_type": "display_data"
    },
    {
     "data": {
      "text/html": [
       "<span style=\"color:cyan\"> |-units_2: 60</span>"
      ],
      "text/plain": [
       "<IPython.core.display.HTML object>"
      ]
     },
     "metadata": {},
     "output_type": "display_data"
    },
    {
     "name": "stdout",
     "output_type": "stream",
     "text": [
      "INFO:tensorflow:Oracle triggered exit\n"
     ]
    }
   ],
   "source": [
    "tuner.search(X_train.values, y_train.values,\n",
    "             epochs=5)"
   ]
  },
  {
   "cell_type": "code",
   "execution_count": 28,
   "metadata": {},
   "outputs": [
    {
     "data": {
      "text/html": [
       "<span style=\"color:#4527A0\"><h1 style=\"font-size:18px\">Results summary</h1></span>"
      ],
      "text/plain": [
       "<IPython.core.display.HTML object>"
      ]
     },
     "metadata": {},
     "output_type": "display_data"
    },
    {
     "data": {
      "text/html": [
       "<span style=\"color:cyan\"> |-Results in Metabolomics/untitled_project</span>"
      ],
      "text/plain": [
       "<IPython.core.display.HTML object>"
      ]
     },
     "metadata": {},
     "output_type": "display_data"
    },
    {
     "data": {
      "text/html": [
       "<span style=\"color:cyan\"> |-Showing 10 best trials</span>"
      ],
      "text/plain": [
       "<IPython.core.display.HTML object>"
      ]
     },
     "metadata": {},
     "output_type": "display_data"
    },
    {
     "data": {
      "text/html": [
       "<span style=\"color:cyan\"> |-Objective(name='acc', direction='max')</span>"
      ],
      "text/plain": [
       "<IPython.core.display.HTML object>"
      ]
     },
     "metadata": {},
     "output_type": "display_data"
    },
    {
     "data": {
      "text/html": [
       "<span style=\"color:#4527A0\"><h1 style=\"font-size:18px\">Trial summary</h1></span>"
      ],
      "text/plain": [
       "<IPython.core.display.HTML object>"
      ]
     },
     "metadata": {},
     "output_type": "display_data"
    },
    {
     "data": {
      "text/html": [
       "<span style=\"color:cyan\"> |-Trial ID: eb689918b68eaf02ea72953c4d405690</span>"
      ],
      "text/plain": [
       "<IPython.core.display.HTML object>"
      ]
     },
     "metadata": {},
     "output_type": "display_data"
    },
    {
     "data": {
      "text/html": [
       "<span style=\"color:cyan\"> |-Score: 0.9635416865348816</span>"
      ],
      "text/plain": [
       "<IPython.core.display.HTML object>"
      ]
     },
     "metadata": {},
     "output_type": "display_data"
    },
    {
     "data": {
      "text/html": [
       "<span style=\"color:cyan\"> |-Best step: 0</span>"
      ],
      "text/plain": [
       "<IPython.core.display.HTML object>"
      ]
     },
     "metadata": {},
     "output_type": "display_data"
    },
    {
     "data": {
      "text/html": [
       "<span style=\"color:#7E57C2\"><h2 style=\"font-size:16px\">Hyperparameters:</h2></span>"
      ],
      "text/plain": [
       "<IPython.core.display.HTML object>"
      ]
     },
     "metadata": {},
     "output_type": "display_data"
    },
    {
     "data": {
      "text/html": [
       "<span style=\"color:cyan\"> |-act_0: tanh</span>"
      ],
      "text/plain": [
       "<IPython.core.display.HTML object>"
      ]
     },
     "metadata": {},
     "output_type": "display_data"
    },
    {
     "data": {
      "text/html": [
       "<span style=\"color:blue\"> |-act_1: relu</span>"
      ],
      "text/plain": [
       "<IPython.core.display.HTML object>"
      ]
     },
     "metadata": {},
     "output_type": "display_data"
    },
    {
     "data": {
      "text/html": [
       "<span style=\"color:cyan\"> |-act_2: relu</span>"
      ],
      "text/plain": [
       "<IPython.core.display.HTML object>"
      ]
     },
     "metadata": {},
     "output_type": "display_data"
    },
    {
     "data": {
      "text/html": [
       "<span style=\"color:blue\"> |-dropout: 0.2</span>"
      ],
      "text/plain": [
       "<IPython.core.display.HTML object>"
      ]
     },
     "metadata": {},
     "output_type": "display_data"
    },
    {
     "data": {
      "text/html": [
       "<span style=\"color:cyan\"> |-learning_rate: 0.01</span>"
      ],
      "text/plain": [
       "<IPython.core.display.HTML object>"
      ]
     },
     "metadata": {},
     "output_type": "display_data"
    },
    {
     "data": {
      "text/html": [
       "<span style=\"color:blue\"> |-momentum: 0.5</span>"
      ],
      "text/plain": [
       "<IPython.core.display.HTML object>"
      ]
     },
     "metadata": {},
     "output_type": "display_data"
    },
    {
     "data": {
      "text/html": [
       "<span style=\"color:cyan\"> |-num_layers: 3</span>"
      ],
      "text/plain": [
       "<IPython.core.display.HTML object>"
      ]
     },
     "metadata": {},
     "output_type": "display_data"
    },
    {
     "data": {
      "text/html": [
       "<span style=\"color:blue\"> |-rho: 0.55</span>"
      ],
      "text/plain": [
       "<IPython.core.display.HTML object>"
      ]
     },
     "metadata": {},
     "output_type": "display_data"
    },
    {
     "data": {
      "text/html": [
       "<span style=\"color:cyan\"> |-units_0: 40</span>"
      ],
      "text/plain": [
       "<IPython.core.display.HTML object>"
      ]
     },
     "metadata": {},
     "output_type": "display_data"
    },
    {
     "data": {
      "text/html": [
       "<span style=\"color:blue\"> |-units_1: 20</span>"
      ],
      "text/plain": [
       "<IPython.core.display.HTML object>"
      ]
     },
     "metadata": {},
     "output_type": "display_data"
    },
    {
     "data": {
      "text/html": [
       "<span style=\"color:cyan\"> |-units_2: 20</span>"
      ],
      "text/plain": [
       "<IPython.core.display.HTML object>"
      ]
     },
     "metadata": {},
     "output_type": "display_data"
    },
    {
     "data": {
      "text/html": [
       "<span style=\"color:#4527A0\"><h1 style=\"font-size:18px\">Trial summary</h1></span>"
      ],
      "text/plain": [
       "<IPython.core.display.HTML object>"
      ]
     },
     "metadata": {},
     "output_type": "display_data"
    },
    {
     "data": {
      "text/html": [
       "<span style=\"color:cyan\"> |-Trial ID: 8c0ad3d77e2e9df07ffb3c92384b48f4</span>"
      ],
      "text/plain": [
       "<IPython.core.display.HTML object>"
      ]
     },
     "metadata": {},
     "output_type": "display_data"
    },
    {
     "data": {
      "text/html": [
       "<span style=\"color:cyan\"> |-Score: 0.9270833134651184</span>"
      ],
      "text/plain": [
       "<IPython.core.display.HTML object>"
      ]
     },
     "metadata": {},
     "output_type": "display_data"
    },
    {
     "data": {
      "text/html": [
       "<span style=\"color:cyan\"> |-Best step: 0</span>"
      ],
      "text/plain": [
       "<IPython.core.display.HTML object>"
      ]
     },
     "metadata": {},
     "output_type": "display_data"
    },
    {
     "data": {
      "text/html": [
       "<span style=\"color:#7E57C2\"><h2 style=\"font-size:16px\">Hyperparameters:</h2></span>"
      ],
      "text/plain": [
       "<IPython.core.display.HTML object>"
      ]
     },
     "metadata": {},
     "output_type": "display_data"
    },
    {
     "data": {
      "text/html": [
       "<span style=\"color:cyan\"> |-act_0: relu</span>"
      ],
      "text/plain": [
       "<IPython.core.display.HTML object>"
      ]
     },
     "metadata": {},
     "output_type": "display_data"
    },
    {
     "data": {
      "text/html": [
       "<span style=\"color:blue\"> |-act_1: tanh</span>"
      ],
      "text/plain": [
       "<IPython.core.display.HTML object>"
      ]
     },
     "metadata": {},
     "output_type": "display_data"
    },
    {
     "data": {
      "text/html": [
       "<span style=\"color:cyan\"> |-act_2: tanh</span>"
      ],
      "text/plain": [
       "<IPython.core.display.HTML object>"
      ]
     },
     "metadata": {},
     "output_type": "display_data"
    },
    {
     "data": {
      "text/html": [
       "<span style=\"color:blue\"> |-dropout: 0.4</span>"
      ],
      "text/plain": [
       "<IPython.core.display.HTML object>"
      ]
     },
     "metadata": {},
     "output_type": "display_data"
    },
    {
     "data": {
      "text/html": [
       "<span style=\"color:cyan\"> |-learning_rate: 0.01</span>"
      ],
      "text/plain": [
       "<IPython.core.display.HTML object>"
      ]
     },
     "metadata": {},
     "output_type": "display_data"
    },
    {
     "data": {
      "text/html": [
       "<span style=\"color:blue\"> |-momentum: 0.25</span>"
      ],
      "text/plain": [
       "<IPython.core.display.HTML object>"
      ]
     },
     "metadata": {},
     "output_type": "display_data"
    },
    {
     "data": {
      "text/html": [
       "<span style=\"color:cyan\"> |-num_layers: 1</span>"
      ],
      "text/plain": [
       "<IPython.core.display.HTML object>"
      ]
     },
     "metadata": {},
     "output_type": "display_data"
    },
    {
     "data": {
      "text/html": [
       "<span style=\"color:blue\"> |-rho: 0.6500000000000001</span>"
      ],
      "text/plain": [
       "<IPython.core.display.HTML object>"
      ]
     },
     "metadata": {},
     "output_type": "display_data"
    },
    {
     "data": {
      "text/html": [
       "<span style=\"color:cyan\"> |-units_0: 40</span>"
      ],
      "text/plain": [
       "<IPython.core.display.HTML object>"
      ]
     },
     "metadata": {},
     "output_type": "display_data"
    },
    {
     "data": {
      "text/html": [
       "<span style=\"color:blue\"> |-units_1: 30</span>"
      ],
      "text/plain": [
       "<IPython.core.display.HTML object>"
      ]
     },
     "metadata": {},
     "output_type": "display_data"
    },
    {
     "data": {
      "text/html": [
       "<span style=\"color:cyan\"> |-units_2: 40</span>"
      ],
      "text/plain": [
       "<IPython.core.display.HTML object>"
      ]
     },
     "metadata": {},
     "output_type": "display_data"
    },
    {
     "data": {
      "text/html": [
       "<span style=\"color:#4527A0\"><h1 style=\"font-size:18px\">Trial summary</h1></span>"
      ],
      "text/plain": [
       "<IPython.core.display.HTML object>"
      ]
     },
     "metadata": {},
     "output_type": "display_data"
    },
    {
     "data": {
      "text/html": [
       "<span style=\"color:cyan\"> |-Trial ID: 656b0943d82b13021aa0103cd1669449</span>"
      ],
      "text/plain": [
       "<IPython.core.display.HTML object>"
      ]
     },
     "metadata": {},
     "output_type": "display_data"
    },
    {
     "data": {
      "text/html": [
       "<span style=\"color:cyan\"> |-Score: 0.9192708134651184</span>"
      ],
      "text/plain": [
       "<IPython.core.display.HTML object>"
      ]
     },
     "metadata": {},
     "output_type": "display_data"
    },
    {
     "data": {
      "text/html": [
       "<span style=\"color:cyan\"> |-Best step: 0</span>"
      ],
      "text/plain": [
       "<IPython.core.display.HTML object>"
      ]
     },
     "metadata": {},
     "output_type": "display_data"
    },
    {
     "data": {
      "text/html": [
       "<span style=\"color:#7E57C2\"><h2 style=\"font-size:16px\">Hyperparameters:</h2></span>"
      ],
      "text/plain": [
       "<IPython.core.display.HTML object>"
      ]
     },
     "metadata": {},
     "output_type": "display_data"
    },
    {
     "data": {
      "text/html": [
       "<span style=\"color:cyan\"> |-act_0: tanh</span>"
      ],
      "text/plain": [
       "<IPython.core.display.HTML object>"
      ]
     },
     "metadata": {},
     "output_type": "display_data"
    },
    {
     "data": {
      "text/html": [
       "<span style=\"color:blue\"> |-act_1: relu</span>"
      ],
      "text/plain": [
       "<IPython.core.display.HTML object>"
      ]
     },
     "metadata": {},
     "output_type": "display_data"
    },
    {
     "data": {
      "text/html": [
       "<span style=\"color:cyan\"> |-act_2: relu</span>"
      ],
      "text/plain": [
       "<IPython.core.display.HTML object>"
      ]
     },
     "metadata": {},
     "output_type": "display_data"
    },
    {
     "data": {
      "text/html": [
       "<span style=\"color:blue\"> |-dropout: 0.1</span>"
      ],
      "text/plain": [
       "<IPython.core.display.HTML object>"
      ]
     },
     "metadata": {},
     "output_type": "display_data"
    },
    {
     "data": {
      "text/html": [
       "<span style=\"color:cyan\"> |-learning_rate: 0.001</span>"
      ],
      "text/plain": [
       "<IPython.core.display.HTML object>"
      ]
     },
     "metadata": {},
     "output_type": "display_data"
    },
    {
     "data": {
      "text/html": [
       "<span style=\"color:blue\"> |-momentum: 0.2</span>"
      ],
      "text/plain": [
       "<IPython.core.display.HTML object>"
      ]
     },
     "metadata": {},
     "output_type": "display_data"
    },
    {
     "data": {
      "text/html": [
       "<span style=\"color:cyan\"> |-num_layers: 2</span>"
      ],
      "text/plain": [
       "<IPython.core.display.HTML object>"
      ]
     },
     "metadata": {},
     "output_type": "display_data"
    },
    {
     "data": {
      "text/html": [
       "<span style=\"color:blue\"> |-rho: 0.6000000000000001</span>"
      ],
      "text/plain": [
       "<IPython.core.display.HTML object>"
      ]
     },
     "metadata": {},
     "output_type": "display_data"
    },
    {
     "data": {
      "text/html": [
       "<span style=\"color:cyan\"> |-units_0: 80</span>"
      ],
      "text/plain": [
       "<IPython.core.display.HTML object>"
      ]
     },
     "metadata": {},
     "output_type": "display_data"
    },
    {
     "data": {
      "text/html": [
       "<span style=\"color:blue\"> |-units_1: 90</span>"
      ],
      "text/plain": [
       "<IPython.core.display.HTML object>"
      ]
     },
     "metadata": {},
     "output_type": "display_data"
    },
    {
     "data": {
      "text/html": [
       "<span style=\"color:cyan\"> |-units_2: 50</span>"
      ],
      "text/plain": [
       "<IPython.core.display.HTML object>"
      ]
     },
     "metadata": {},
     "output_type": "display_data"
    },
    {
     "data": {
      "text/html": [
       "<span style=\"color:#4527A0\"><h1 style=\"font-size:18px\">Trial summary</h1></span>"
      ],
      "text/plain": [
       "<IPython.core.display.HTML object>"
      ]
     },
     "metadata": {},
     "output_type": "display_data"
    },
    {
     "data": {
      "text/html": [
       "<span style=\"color:cyan\"> |-Trial ID: 4a20ee134f4d6c528caf3c6473eda1e7</span>"
      ],
      "text/plain": [
       "<IPython.core.display.HTML object>"
      ]
     },
     "metadata": {},
     "output_type": "display_data"
    },
    {
     "data": {
      "text/html": [
       "<span style=\"color:cyan\"> |-Score: 0.8932291865348816</span>"
      ],
      "text/plain": [
       "<IPython.core.display.HTML object>"
      ]
     },
     "metadata": {},
     "output_type": "display_data"
    },
    {
     "data": {
      "text/html": [
       "<span style=\"color:cyan\"> |-Best step: 0</span>"
      ],
      "text/plain": [
       "<IPython.core.display.HTML object>"
      ]
     },
     "metadata": {},
     "output_type": "display_data"
    },
    {
     "data": {
      "text/html": [
       "<span style=\"color:#7E57C2\"><h2 style=\"font-size:16px\">Hyperparameters:</h2></span>"
      ],
      "text/plain": [
       "<IPython.core.display.HTML object>"
      ]
     },
     "metadata": {},
     "output_type": "display_data"
    },
    {
     "data": {
      "text/html": [
       "<span style=\"color:cyan\"> |-act_0: relu</span>"
      ],
      "text/plain": [
       "<IPython.core.display.HTML object>"
      ]
     },
     "metadata": {},
     "output_type": "display_data"
    },
    {
     "data": {
      "text/html": [
       "<span style=\"color:blue\"> |-act_1: relu</span>"
      ],
      "text/plain": [
       "<IPython.core.display.HTML object>"
      ]
     },
     "metadata": {},
     "output_type": "display_data"
    },
    {
     "data": {
      "text/html": [
       "<span style=\"color:cyan\"> |-act_2: relu</span>"
      ],
      "text/plain": [
       "<IPython.core.display.HTML object>"
      ]
     },
     "metadata": {},
     "output_type": "display_data"
    },
    {
     "data": {
      "text/html": [
       "<span style=\"color:blue\"> |-dropout: 0.4</span>"
      ],
      "text/plain": [
       "<IPython.core.display.HTML object>"
      ]
     },
     "metadata": {},
     "output_type": "display_data"
    },
    {
     "data": {
      "text/html": [
       "<span style=\"color:cyan\"> |-learning_rate: 0.001</span>"
      ],
      "text/plain": [
       "<IPython.core.display.HTML object>"
      ]
     },
     "metadata": {},
     "output_type": "display_data"
    },
    {
     "data": {
      "text/html": [
       "<span style=\"color:blue\"> |-momentum: 0.2</span>"
      ],
      "text/plain": [
       "<IPython.core.display.HTML object>"
      ]
     },
     "metadata": {},
     "output_type": "display_data"
    },
    {
     "data": {
      "text/html": [
       "<span style=\"color:cyan\"> |-num_layers: 3</span>"
      ],
      "text/plain": [
       "<IPython.core.display.HTML object>"
      ]
     },
     "metadata": {},
     "output_type": "display_data"
    },
    {
     "data": {
      "text/html": [
       "<span style=\"color:blue\"> |-rho: 0.8500000000000003</span>"
      ],
      "text/plain": [
       "<IPython.core.display.HTML object>"
      ]
     },
     "metadata": {},
     "output_type": "display_data"
    },
    {
     "data": {
      "text/html": [
       "<span style=\"color:cyan\"> |-units_0: 50</span>"
      ],
      "text/plain": [
       "<IPython.core.display.HTML object>"
      ]
     },
     "metadata": {},
     "output_type": "display_data"
    },
    {
     "data": {
      "text/html": [
       "<span style=\"color:blue\"> |-units_1: 30</span>"
      ],
      "text/plain": [
       "<IPython.core.display.HTML object>"
      ]
     },
     "metadata": {},
     "output_type": "display_data"
    },
    {
     "data": {
      "text/html": [
       "<span style=\"color:cyan\"> |-units_2: 80</span>"
      ],
      "text/plain": [
       "<IPython.core.display.HTML object>"
      ]
     },
     "metadata": {},
     "output_type": "display_data"
    },
    {
     "data": {
      "text/html": [
       "<span style=\"color:#4527A0\"><h1 style=\"font-size:18px\">Trial summary</h1></span>"
      ],
      "text/plain": [
       "<IPython.core.display.HTML object>"
      ]
     },
     "metadata": {},
     "output_type": "display_data"
    },
    {
     "data": {
      "text/html": [
       "<span style=\"color:cyan\"> |-Trial ID: 789c0b4afefa62f4b3db4398b5005ad7</span>"
      ],
      "text/plain": [
       "<IPython.core.display.HTML object>"
      ]
     },
     "metadata": {},
     "output_type": "display_data"
    },
    {
     "data": {
      "text/html": [
       "<span style=\"color:cyan\"> |-Score: 0.7005208134651184</span>"
      ],
      "text/plain": [
       "<IPython.core.display.HTML object>"
      ]
     },
     "metadata": {},
     "output_type": "display_data"
    },
    {
     "data": {
      "text/html": [
       "<span style=\"color:cyan\"> |-Best step: 0</span>"
      ],
      "text/plain": [
       "<IPython.core.display.HTML object>"
      ]
     },
     "metadata": {},
     "output_type": "display_data"
    },
    {
     "data": {
      "text/html": [
       "<span style=\"color:#7E57C2\"><h2 style=\"font-size:16px\">Hyperparameters:</h2></span>"
      ],
      "text/plain": [
       "<IPython.core.display.HTML object>"
      ]
     },
     "metadata": {},
     "output_type": "display_data"
    },
    {
     "data": {
      "text/html": [
       "<span style=\"color:cyan\"> |-act_0: tanh</span>"
      ],
      "text/plain": [
       "<IPython.core.display.HTML object>"
      ]
     },
     "metadata": {},
     "output_type": "display_data"
    },
    {
     "data": {
      "text/html": [
       "<span style=\"color:blue\"> |-act_1: tanh</span>"
      ],
      "text/plain": [
       "<IPython.core.display.HTML object>"
      ]
     },
     "metadata": {},
     "output_type": "display_data"
    },
    {
     "data": {
      "text/html": [
       "<span style=\"color:cyan\"> |-act_2: tanh</span>"
      ],
      "text/plain": [
       "<IPython.core.display.HTML object>"
      ]
     },
     "metadata": {},
     "output_type": "display_data"
    },
    {
     "data": {
      "text/html": [
       "<span style=\"color:blue\"> |-dropout: 0.4</span>"
      ],
      "text/plain": [
       "<IPython.core.display.HTML object>"
      ]
     },
     "metadata": {},
     "output_type": "display_data"
    },
    {
     "data": {
      "text/html": [
       "<span style=\"color:cyan\"> |-learning_rate: 0.001</span>"
      ],
      "text/plain": [
       "<IPython.core.display.HTML object>"
      ]
     },
     "metadata": {},
     "output_type": "display_data"
    },
    {
     "data": {
      "text/html": [
       "<span style=\"color:blue\"> |-momentum: 0.2</span>"
      ],
      "text/plain": [
       "<IPython.core.display.HTML object>"
      ]
     },
     "metadata": {},
     "output_type": "display_data"
    },
    {
     "data": {
      "text/html": [
       "<span style=\"color:cyan\"> |-num_layers: 2</span>"
      ],
      "text/plain": [
       "<IPython.core.display.HTML object>"
      ]
     },
     "metadata": {},
     "output_type": "display_data"
    },
    {
     "data": {
      "text/html": [
       "<span style=\"color:blue\"> |-rho: 0.55</span>"
      ],
      "text/plain": [
       "<IPython.core.display.HTML object>"
      ]
     },
     "metadata": {},
     "output_type": "display_data"
    },
    {
     "data": {
      "text/html": [
       "<span style=\"color:cyan\"> |-units_0: 30</span>"
      ],
      "text/plain": [
       "<IPython.core.display.HTML object>"
      ]
     },
     "metadata": {},
     "output_type": "display_data"
    },
    {
     "data": {
      "text/html": [
       "<span style=\"color:blue\"> |-units_1: 90</span>"
      ],
      "text/plain": [
       "<IPython.core.display.HTML object>"
      ]
     },
     "metadata": {},
     "output_type": "display_data"
    },
    {
     "data": {
      "text/html": [
       "<span style=\"color:cyan\"> |-units_2: 60</span>"
      ],
      "text/plain": [
       "<IPython.core.display.HTML object>"
      ]
     },
     "metadata": {},
     "output_type": "display_data"
    }
   ],
   "source": [
    "tuner.results_summary()"
   ]
  },
  {
   "cell_type": "code",
   "execution_count": 56,
   "metadata": {},
   "outputs": [
    {
     "name": "stdout",
     "output_type": "stream",
     "text": [
      "{'dropout': 0.2, 'num_layers': 3, 'units_0': 40, 'act_0': 'tanh', 'learning_rate': 0.01, 'rho': 0.55, 'momentum': 0.5, 'units_1': 20, 'act_1': 'relu', 'units_2': 20, 'act_2': 'relu'}\n"
     ]
    }
   ],
   "source": [
    "best_hp = tuner.get_best_hyperparameters(num_trials=1)[0]\n",
    "print (best_hp.values)"
   ]
  },
  {
   "cell_type": "code",
   "execution_count": 30,
   "metadata": {},
   "outputs": [],
   "source": [
    "best_model = tuner.get_best_models(num_models=1)[0]"
   ]
  },
  {
   "cell_type": "code",
   "execution_count": 57,
   "metadata": {},
   "outputs": [
    {
     "name": "stdout",
     "output_type": "stream",
     "text": [
      "Model: \"sequential\"\n",
      "_________________________________________________________________\n",
      "Layer (type)                 Output Shape              Param #   \n",
      "=================================================================\n",
      "dropout (Dropout)            multiple                  0         \n",
      "_________________________________________________________________\n",
      "dense (Dense)                multiple                  3560      \n",
      "_________________________________________________________________\n",
      "dense_1 (Dense)              multiple                  820       \n",
      "_________________________________________________________________\n",
      "dense_2 (Dense)              multiple                  420       \n",
      "_________________________________________________________________\n",
      "dense_3 (Dense)              multiple                  42        \n",
      "=================================================================\n",
      "Total params: 4,842\n",
      "Trainable params: 4,842\n",
      "Non-trainable params: 0\n",
      "_________________________________________________________________\n",
      "None\n"
     ]
    }
   ],
   "source": [
    "print (best_model.summary())"
   ]
  },
  {
   "cell_type": "code",
   "execution_count": 35,
   "metadata": {},
   "outputs": [
    {
     "name": "stdout",
     "output_type": "stream",
     "text": [
      "(37, 89)\n"
     ]
    }
   ],
   "source": [
    "df_dev = pd.read_csv('/home/ubuntu/cs230-project/data_sub_PCA/df_dev_PCA_dict_df_metab.csv')\n",
    "print (df_dev.shape)"
   ]
  },
  {
   "cell_type": "code",
   "execution_count": 36,
   "metadata": {},
   "outputs": [],
   "source": [
    "y_dev = df_dev.iloc[:,0]\n",
    "y_dev = pd.get_dummies(y_dev)\n",
    "X_dev = df_dev.iloc[:,1:]"
   ]
  },
  {
   "cell_type": "code",
   "execution_count": 37,
   "metadata": {},
   "outputs": [
    {
     "name": "stdout",
     "output_type": "stream",
     "text": [
      "(37, 2)\n",
      "(37, 88)\n"
     ]
    }
   ],
   "source": [
    "print (y_dev.shape)\n",
    "print (X_dev.shape)"
   ]
  },
  {
   "cell_type": "code",
   "execution_count": 44,
   "metadata": {},
   "outputs": [
    {
     "name": "stdout",
     "output_type": "stream",
     "text": [
      "37/37 [==============================] - ETA: 0s - loss: 0.8509 - acc: 0.843 - 0s 186us/sample - loss: 0.7360 - acc: 0.8649\n",
      "test loss, test acc: [0.7359883179998252, 0.8648649]\n"
     ]
    }
   ],
   "source": [
    "results = best_model.evaluate(X_dev.values, y_dev.values)"
   ]
  },
  {
   "cell_type": "code",
   "execution_count": 45,
   "metadata": {},
   "outputs": [
    {
     "name": "stdout",
     "output_type": "stream",
     "text": [
      "test loss, test acc: [0.7359883179998252, 0.8648649]\n"
     ]
    }
   ],
   "source": [
    "print (\"test loss, test acc:\", results)"
   ]
  },
  {
   "cell_type": "code",
   "execution_count": null,
   "metadata": {},
   "outputs": [],
   "source": []
  },
  {
   "cell_type": "code",
   "execution_count": null,
   "metadata": {},
   "outputs": [],
   "source": []
  }
 ],
 "metadata": {
  "kernelspec": {
   "display_name": "Python 3",
   "language": "python",
   "name": "python3"
  },
  "language_info": {
   "codemirror_mode": {
    "name": "ipython",
    "version": 3
   },
   "file_extension": ".py",
   "mimetype": "text/x-python",
   "name": "python",
   "nbconvert_exporter": "python",
   "pygments_lexer": "ipython3",
   "version": "3.6.10"
  }
 },
 "nbformat": 4,
 "nbformat_minor": 4
}
